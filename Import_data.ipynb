{
 "cells": [
  {
   "cell_type": "markdown",
   "metadata": {},
   "source": [
    "# Data extraction"
   ]
  },
  {
   "cell_type": "markdown",
   "metadata": {},
   "source": [
    "## Access data:"
   ]
  },
  {
   "cell_type": "markdown",
   "metadata": {},
   "source": [
    "Spotipy es una biblioteca de Python que permite interactuar con la API de Spotify. Se utiliza para acceder y manipular datos de Spotify, como obtener información de canciones, artistas, álbumes, listas de reproducción y realizar acciones como reproducir pistas, crear listas de reproducción y mucho más."
   ]
  },
  {
   "cell_type": "code",
   "execution_count": 1,
   "metadata": {},
   "outputs": [],
   "source": [
    "# Para acceder a los datos de Spotify necesitamos leer las credenciales que nos da la API: clientid y client_secret\n",
    "import spotipy\n",
    "from spotipy.oauth2 import SpotifyClientCredentials\n",
    "\n",
    "with open(\"api.txt\") as f:\n",
    "        secret_ls = f.readlines()\n",
    "        client_id = secret_ls[0][:-1]\n",
    "        secret = secret_ls[1]"
   ]
  },
  {
   "cell_type": "code",
   "execution_count": 2,
   "metadata": {},
   "outputs": [],
   "source": [
    "client_credentials_manager = SpotifyClientCredentials(client_id=client_id, client_secret=secret)\n",
    "sp = spotipy.Spotify(client_credentials_manager = client_credentials_manager)"
   ]
  },
  {
   "cell_type": "markdown",
   "metadata": {},
   "source": [
    "## Import playlists:"
   ]
  },
  {
   "cell_type": "code",
   "execution_count": 3,
   "metadata": {},
   "outputs": [],
   "source": [
    "# 1/ happy playlist link: \"Happy hits!\"\n",
    "happy_pl_link = \"https://open.spotify.com/playlist/37i9dQZF1DXdPec7aLTmlC?si=6d0d8a354930406b\"\n",
    "happy_URI = happy_pl_link.split(\"/\")[-1].split(\"?\")[0]\n",
    "# 2/ sad playlist link: \"canciones tristes\"\n",
    "sad_pl_link = \"https://open.spotify.com/playlist/37i9dQZF1DXdZjf8WgcTKM?si=66918a9ecd434eda\"\n",
    "sad_URI = sad_pl_link.split(\"/\")[-1].split(\"?\")[0]\n",
    "# 3/ anger playlist link: \"Walk like a badass\"\n",
    "ang_pl_link = \"https://open.spotify.com/playlist/37i9dQZF1DX1tyCD9QhIWF?si=45e2a041dbbf4cbb\"\n",
    "anger_URI = ang_pl_link.split(\"/\")[-1].split(\"?\")[0]\n",
    "# 4/ sppoky playlist link: \"Spooky\"\n",
    "spooky_pl_link = \"https://open.spotify.com/playlist/37i9dQZF1DX5hol82XuK24?si=29cf60e5500b488a\"\n",
    "spooky_URI = spooky_pl_link.split(\"/\")[-1].split(\"?\")[0]\n",
    "# 5/ focus playlist link: \"Deep Focus\"\n",
    "focus_pl_link = \"https://open.spotify.com/playlist/37i9dQZF1DWZeKCadgRdKQ?si=635dd64ee7fa477b\"\n",
    "focus_URI = focus_pl_link.split(\"/\")[-1].split(\"?\")[0]\n",
    "\n",
    "playlist_URI = [happy_URI, sad_URI, anger_URI, spooky_URI, focus_URI]"
   ]
  },
  {
   "cell_type": "code",
   "execution_count": 8,
   "metadata": {},
   "outputs": [
    {
     "data": {
      "text/plain": [
       "{'danceability': 0.348,\n",
       " 'energy': 0.0549,\n",
       " 'key': 4,\n",
       " 'loudness': -21.011,\n",
       " 'mode': 0,\n",
       " 'speechiness': 0.0358,\n",
       " 'acousticness': 0.989,\n",
       " 'instrumentalness': 0.92,\n",
       " 'liveness': 0.108,\n",
       " 'valence': 0.237,\n",
       " 'tempo': 76.177,\n",
       " 'type': 'audio_features',\n",
       " 'id': '23sRVWvfwWdagkqC95eS6n',\n",
       " 'uri': 'spotify:track:23sRVWvfwWdagkqC95eS6n',\n",
       " 'track_href': 'https://api.spotify.com/v1/tracks/23sRVWvfwWdagkqC95eS6n',\n",
       " 'analysis_url': 'https://api.spotify.com/v1/audio-analysis/23sRVWvfwWdagkqC95eS6n',\n",
       " 'duration_ms': 168185,\n",
       " 'time_signature': 3}"
      ]
     },
     "execution_count": 8,
     "metadata": {},
     "output_type": "execute_result"
    }
   ],
   "source": [
    "for track in sp.playlist_tracks(focus_URI)[\"items\"]:\n",
    "    track_uri = track[\"track\"][\"uri\"]\n",
    "\n",
    "sp.audio_features(track_uri)[0]"
   ]
  },
  {
   "cell_type": "code",
   "execution_count": 6,
   "metadata": {},
   "outputs": [
    {
     "name": "stdout",
     "output_type": "stream",
     "text": [
      "Empty DataFrame\n",
      "Columns: [playlist_name, artist_name, popularity, danceability, energy, key, loudness, mode, speechiness, acousticness, instrumentalness, liveness, valence, tempo, duration_ms]\n",
      "Index: []\n"
     ]
    }
   ],
   "source": [
    "import pandas as pd\n",
    "\n",
    "playlist_URI = [happy_URI, sad_URI, anger_URI, spooky_URI, focus_URI]\n",
    "\n",
    "feature_names = ['danceability', 'energy', 'key', 'loudness', 'mode',\n",
    "                 'speechiness', 'acousticness', 'instrumentalness',\n",
    "                 'liveness', 'valence', 'tempo', 'duration_ms']\n",
    "\n",
    "df = pd.DataFrame()\n",
    "\n",
    "# Recorre cada playlist URI\n",
    "for uri in playlist_URI:\n",
    "    # Obtiene las canciones de la playlist\n",
    "    results = sp.playlist_tracks(uri)\n",
    "    tracks = results['items']\n",
    "    # Recorre cada canción de la playlist\n",
    "    for track in tracks:\n",
    "        # Nombre de la playlist\n",
    "        df['playlist_name'] = sp.playlist(uri)['name']\n",
    "        \n",
    "        # Nombre del artista\n",
    "        df['artist_name'] = track['track']['artists'][0]['name']\n",
    "        \n",
    "        # Popularidad de la canción\n",
    "        df['popularity'] = track['track']['popularity']\n",
    "        \n",
    "        # Obtiene las features de la canción\n",
    "        features = sp.audio_features(track['track']['uri'])\n",
    "        for feature_name in feature_names:\n",
    "            df[feature_name] = features[0][feature_name]\n",
    "print(df)"
   ]
  },
  {
   "cell_type": "code",
   "execution_count": null,
   "metadata": {},
   "outputs": [],
   "source": [
    "import pandas as pd\n",
    "\n",
    "playlist_URI = [happy_URI, sad_URI, anger_URI, spooky_URI, focus_URI]\n",
    "\n",
    "feature_names = ['danceability', 'energy', 'key', 'loudness', 'mode',\n",
    "                 'speechiness', 'acousticness', 'instrumentalness',\n",
    "                 'liveness', 'valence', 'tempo', 'duration_ms']\n",
    "\n",
    "df = pd.DataFrame()\n",
    "\n",
    "list_playlists = []\n",
    "list_artists = []\n",
    "list_popularity = []\n",
    "\n",
    "# Recorre cada playlist URI\n",
    "for uri in playlist_URI:\n",
    "    # Obtiene las canciones de la playlist\n",
    "    results = sp.playlist_tracks(uri)\n",
    "    tracks = results['items']\n",
    "    # Recorre cada canción de la playlist\n",
    "    for track in tracks:\n",
    "        # Nombre de la playlist\n",
    "        df['playlist_name'] = sp.playlist(uri)['name']\n",
    "        \n",
    "        # Nombre del artista\n",
    "        df['artist_name'] = track['track']['artists'][0]['name']\n",
    "        \n",
    "        # Popularidad de la canción\n",
    "        df['popularity'] = track['track']['popularity']\n",
    "        \n",
    "        # Obtiene las features de la canción\n",
    "        features = sp.audio_features(track['track']['uri'])\n",
    "        for feature_name in feature_names:\n",
    "            df[feature_name] = features[0][feature_name]\n",
    "print(df)"
   ]
  },
  {
   "cell_type": "code",
   "execution_count": 7,
   "metadata": {},
   "outputs": [
    {
     "ename": "SyntaxError",
     "evalue": "invalid syntax (1716149494.py, line 34)",
     "output_type": "error",
     "traceback": [
      "\u001b[1;36m  Cell \u001b[1;32mIn[7], line 34\u001b[1;36m\u001b[0m\n\u001b[1;33m    'Popularidad': popularity\u001b[0m\n\u001b[1;37m    ^\u001b[0m\n\u001b[1;31mSyntaxError\u001b[0m\u001b[1;31m:\u001b[0m invalid syntax\n"
     ]
    }
   ],
   "source": [
    "# Diccionario para almacenar la información\n",
    "playlist_data = []\n",
    "\n",
    "# Lista de nombres de características\n",
    "feature_names = ['danceability', 'energy', 'key', 'loudness', 'mode',\n",
    "                 'speechiness', 'acousticness', 'instrumentalness',\n",
    "                 'liveness', 'valence', 'tempo', 'duration_ms']\n",
    "\n",
    "# Recorre cada playlist URI\n",
    "for uri in playlist_URI:\n",
    "    # Obtiene las canciones de la playlist\n",
    "    results = sp.playlist_tracks(uri)\n",
    "    tracks = results['items']\n",
    "    \n",
    "    # Recorre cada canción de la playlist\n",
    "    for track in tracks:\n",
    "        # Nombre de la playlist\n",
    "        playlist_name = sp.playlist(uri)['name']\n",
    "        \n",
    "        # Nombre del artista\n",
    "        artist_name = track['track']['artists'][0]['name']\n",
    "        \n",
    "        # Popularidad de la canción\n",
    "        popularity = track['track']['popularity']\n",
    "        \n",
    "        # Obtiene las features de la canción\n",
    "        features = sp.audio_features(track['track']['uri'])\n",
    "        \n",
    "        # HACERLO MAS SENCILLO CREAR COLUMNA POR VARIABLE\n",
    "        song_info = {\n",
    "            'URI': track['track']['uri'],\n",
    "            'Playlist': playlist_name,\n",
    "            'Artista': artist_name\n",
    "            'Popularidad': popularity\n",
    "        }\n",
    "        \n",
    "        # Añade las características al diccionario\n",
    "        for feature_name in feature_names:\n",
    "            song_info[feature_name] = features[0][feature_name]\n",
    "        \n",
    "        # Añade el diccionario a la lista de canciones\n",
    "        playlist_data.append(song_info)\n",
    "\n",
    "# Crea el DataFrame a partir de la lista de canciones\n",
    "df = pd.DataFrame(playlist_data)\n",
    "\n",
    "print(df)"
   ]
  },
  {
   "cell_type": "code",
   "execution_count": null,
   "metadata": {},
   "outputs": [],
   "source": []
  }
 ],
 "metadata": {
  "kernelspec": {
   "display_name": "Python 3",
   "language": "python",
   "name": "python3"
  },
  "language_info": {
   "codemirror_mode": {
    "name": "ipython",
    "version": 3
   },
   "file_extension": ".py",
   "mimetype": "text/x-python",
   "name": "python",
   "nbconvert_exporter": "python",
   "pygments_lexer": "ipython3",
   "version": "3.10.10"
  },
  "orig_nbformat": 4
 },
 "nbformat": 4,
 "nbformat_minor": 2
}
