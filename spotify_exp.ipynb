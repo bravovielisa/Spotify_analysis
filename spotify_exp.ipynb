{
 "cells": [
  {
   "cell_type": "code",
   "execution_count": 1,
   "metadata": {},
   "outputs": [
    {
     "data": {
      "text/plain": [
       "'!pip install spotipy'"
      ]
     },
     "execution_count": 1,
     "metadata": {},
     "output_type": "execute_result"
    }
   ],
   "source": [
    "'''!pip install spotipy'''"
   ]
  },
  {
   "cell_type": "markdown",
   "metadata": {},
   "source": [
    "# Data extraction"
   ]
  },
  {
   "cell_type": "markdown",
   "metadata": {},
   "source": [
    "redirect_uri = 'http://localhost:8501//callback'"
   ]
  },
  {
   "cell_type": "code",
   "execution_count": 7,
   "metadata": {},
   "outputs": [],
   "source": [
    "'''\n",
    "Otra forma de guardar las credenciales con archivo .env como me daba error he optado por hacer un .txt:\n",
    "from dotenv import load_dotenv\n",
    "import os\n",
    "\n",
    "load_dotenv()\n",
    "\n",
    "client_id = os.getenv('CLIENT_ID')\n",
    "client_secret = os.getenv('CLIENT_SECRET')\n",
    "'''"
   ]
  },
  {
   "cell_type": "code",
   "execution_count": 10,
   "metadata": {},
   "outputs": [],
   "source": [
    "# Para acceder a los datos de Spotify necesitamos leer las credenciales que nos da la API: clientid y client_secret\n",
    "import spotipy\n",
    "from spotipy.oauth2 import SpotifyClientCredentials\n",
    "\n",
    "with open(\"api.txt\") as f:\n",
    "        secret_ls = f.readlines()\n",
    "        client_id = secret_ls[0][:-1]\n",
    "        secret = secret_ls[1]"
   ]
  },
  {
   "cell_type": "markdown",
   "metadata": {},
   "source": [
    "Comprobación si da problemas: print secret y client id"
   ]
  },
  {
   "cell_type": "code",
   "execution_count": 12,
   "metadata": {},
   "outputs": [],
   "source": [
    "client_credentials_manager = SpotifyClientCredentials(client_id=client_id, client_secret=secret)\n",
    "sp = spotipy.Spotify(client_credentials_manager = client_credentials_manager)"
   ]
  },
  {
   "cell_type": "markdown",
   "metadata": {},
   "source": [
    "### 1. Happy playlist:"
   ]
  },
  {
   "cell_type": "code",
   "execution_count": 23,
   "metadata": {},
   "outputs": [],
   "source": [
    "# happy playlist link: \"Happy hits!\"\n",
    "happy_pl_link = \"https://open.spotify.com/playlist/37i9dQZF1DXdPec7aLTmlC?si=6d0d8a354930406b\"\n",
    "hplaylist_URI = happy_pl_link.split(\"/\")[-1].split(\"?\")[0]\n",
    "track_uris = [x[\"track\"][\"uri\"] for x in sp.playlist_tracks(hplaylist_URI)[\"items\"]]"
   ]
  },
  {
   "cell_type": "code",
   "execution_count": 30,
   "metadata": {},
   "outputs": [],
   "source": [
    "for track in sp.playlist_tracks(hplaylist_URI)[\"items\"]:\n",
    "    #URI\n",
    "    htrack_uri = track[\"track\"][\"uri\"]\n",
    "    \n",
    "    #Track name\n",
    "    track_name = track[\"track\"][\"name\"]\n",
    "    \n",
    "    #Main Artist\n",
    "    artist_uri = track[\"track\"][\"artists\"][0][\"uri\"]\n",
    "    artist_info = sp.artist(artist_uri)\n",
    "    \n",
    "    #Name, popularity, genre\n",
    "    artist_name = track[\"track\"][\"artists\"][0][\"name\"]\n",
    "    artist_pop = artist_info[\"popularity\"]\n",
    "    artist_genres = artist_info[\"genres\"]\n",
    "    \n",
    "    #Album\n",
    "    album = track[\"track\"][\"album\"][\"name\"]\n",
    "    \n",
    "    #Popularity of the track\n",
    "    track_pop = track[\"track\"][\"popularity\"]"
   ]
  },
  {
   "cell_type": "markdown",
   "metadata": {},
   "source": [
    "Características de la playlist feliz:"
   ]
  },
  {
   "cell_type": "code",
   "execution_count": 31,
   "metadata": {},
   "outputs": [],
   "source": [
    "# Obtener características de las canciones\n",
    "sp.audio_features(hplaylist_URI)[0]"
   ]
  },
  {
   "cell_type": "markdown",
   "metadata": {},
   "source": [
    "### 2. Sad playlist:"
   ]
  },
  {
   "cell_type": "code",
   "execution_count": 32,
   "metadata": {},
   "outputs": [],
   "source": [
    "# sad playlist link: \"canciones tristes\"\n",
    "sad_pl_link = \"https://open.spotify.com/playlist/37i9dQZF1DXdZjf8WgcTKM?si=66918a9ecd434eda\"\n",
    "sadplaylist_URI = sad_pl_link.split(\"/\")[-1].split(\"?\")[0]\n",
    "track_uris = [x[\"track\"][\"uri\"] for x in sp.playlist_tracks(sadplaylist_URI)[\"items\"]]"
   ]
  },
  {
   "cell_type": "code",
   "execution_count": 33,
   "metadata": {},
   "outputs": [],
   "source": [
    "for track in sp.playlist_tracks(sadplaylist_URI)[\"items\"]:\n",
    "    #URI\n",
    "    strack_uri = track[\"track\"][\"uri\"]\n",
    "    \n",
    "    #Track name\n",
    "    track_name = track[\"track\"][\"name\"]\n",
    "    \n",
    "    #Main Artist\n",
    "    artist_uri = track[\"track\"][\"artists\"][0][\"uri\"]\n",
    "    artist_info = sp.artist(artist_uri)\n",
    "    \n",
    "    #Name, popularity, genre\n",
    "    artist_name = track[\"track\"][\"artists\"][0][\"name\"]\n",
    "    artist_pop = artist_info[\"popularity\"]\n",
    "    artist_genres = artist_info[\"genres\"]\n",
    "    \n",
    "    #Album\n",
    "    album = track[\"track\"][\"album\"][\"name\"]\n",
    "    \n",
    "    #Popularity of the track\n",
    "    track_pop = track[\"track\"][\"popularity\"]"
   ]
  },
  {
   "cell_type": "code",
   "execution_count": 35,
   "metadata": {},
   "outputs": [],
   "source": [
    "sp.audio_features(sadplaylist_URI)[0]"
   ]
  },
  {
   "cell_type": "markdown",
   "metadata": {},
   "source": [
    "### 3. Anger playlist:"
   ]
  },
  {
   "cell_type": "code",
   "execution_count": 25,
   "metadata": {},
   "outputs": [],
   "source": [
    "# anger playlist link: \"Walk like a badass\"\n",
    "ang_pl_link = \"https://open.spotify.com/playlist/37i9dQZF1DX1tyCD9QhIWF?si=45e2a041dbbf4cbb\"\n",
    "angplaylist_URI = ang_pl_link.split(\"/\")[-1].split(\"?\")[0]\n",
    "track_uris = [x[\"track\"][\"uri\"] for x in sp.playlist_tracks(angplaylist_URI)[\"items\"]]"
   ]
  },
  {
   "cell_type": "code",
   "execution_count": null,
   "metadata": {},
   "outputs": [],
   "source": [
    "'''for track in sp.playlist_tracks(angplaylist_URI)[\"items\"]:\n",
    "    #URI\n",
    "    atrack_uri = track[\"track\"][\"uri\"]\n",
    "    \n",
    "    #Track name\n",
    "    track_name = track[\"track\"][\"name\"]\n",
    "    \n",
    "    #Main Artist\n",
    "    artist_uri = track[\"track\"][\"artists\"][0][\"uri\"]\n",
    "    artist_info = sp.artist(artist_uri)\n",
    "    \n",
    "    #Name, popularity, genre\n",
    "    artist_name = track[\"track\"][\"artists\"][0][\"name\"]\n",
    "    artist_pop = artist_info[\"popularity\"]\n",
    "    artist_genres = artist_info[\"genres\"]\n",
    "    \n",
    "    #Album\n",
    "    album = track[\"track\"][\"album\"][\"name\"]\n",
    "    \n",
    "    #Popularity of the track\n",
    "    track_pop = track[\"track\"][\"popularity\"]'''"
   ]
  },
  {
   "cell_type": "code",
   "execution_count": 36,
   "metadata": {},
   "outputs": [],
   "source": [
    "# Obtener características de las canciones\n",
    "sp.audio_features(angplaylist_URI)[0]"
   ]
  },
  {
   "cell_type": "markdown",
   "metadata": {},
   "source": [
    "### 4. Spooky playlist:"
   ]
  },
  {
   "cell_type": "code",
   "execution_count": 26,
   "metadata": {},
   "outputs": [],
   "source": [
    "# sppoky playlist link: \"Spooky\"\n",
    "spooky_pl_link = \"https://open.spotify.com/playlist/37i9dQZF1DX5hol82XuK24?si=29cf60e5500b488a\"\n",
    "spooplaylist_URI = spooky_pl_link.split(\"/\")[-1].split(\"?\")[0]\n",
    "track_uris = [x[\"track\"][\"uri\"] for x in sp.playlist_tracks(spooplaylist_URI)[\"items\"]]"
   ]
  },
  {
   "cell_type": "code",
   "execution_count": null,
   "metadata": {},
   "outputs": [],
   "source": [
    "'''for track in sp.playlist_tracks(spooplaylist_URI)[\"items\"]:\n",
    "    #URI\n",
    "    sptrack_uri = track[\"track\"][\"uri\"]\n",
    "    \n",
    "    #Track name\n",
    "    track_name = track[\"track\"][\"name\"]\n",
    "    \n",
    "    #Main Artist\n",
    "    artist_uri = track[\"track\"][\"artists\"][0][\"uri\"]\n",
    "    artist_info = sp.artist(artist_uri)\n",
    "    \n",
    "    #Name, popularity, genre\n",
    "    artist_name = track[\"track\"][\"artists\"][0][\"name\"]\n",
    "    artist_pop = artist_info[\"popularity\"]\n",
    "    artist_genres = artist_info[\"genres\"]\n",
    "    \n",
    "    #Album\n",
    "    album = track[\"track\"][\"album\"][\"name\"]\n",
    "    \n",
    "    #Popularity of the track\n",
    "    track_pop = track[\"track\"][\"popularity\"]'''"
   ]
  },
  {
   "cell_type": "code",
   "execution_count": null,
   "metadata": {},
   "outputs": [],
   "source": [
    "# Obtener características de las canciones\n",
    "spooky_feat = sp.audio_features(sptrack_uri)[0]"
   ]
  },
  {
   "cell_type": "markdown",
   "metadata": {},
   "source": [
    "### 5. Focus playlist:"
   ]
  },
  {
   "cell_type": "code",
   "execution_count": 27,
   "metadata": {},
   "outputs": [],
   "source": [
    "# focus playlist link: \"Deep Focus\"\n",
    "focus_pl_link = \"https://open.spotify.com/playlist/37i9dQZF1DWZeKCadgRdKQ?si=635dd64ee7fa477b\"\n",
    "focusplaylist_URI = focus_pl_link.split(\"/\")[-1].split(\"?\")[0]\n",
    "track_uris = [x[\"track\"][\"uri\"] for x in sp.playlist_tracks(focusplaylist_URI)[\"items\"]]"
   ]
  },
  {
   "cell_type": "code",
   "execution_count": null,
   "metadata": {},
   "outputs": [],
   "source": [
    "'''for track in sp.playlist_tracks(focusplaylist_URI)[\"items\"]:\n",
    "    #URI\n",
    "    ftrack_uri = track[\"track\"][\"uri\"]\n",
    "    \n",
    "    #Track name\n",
    "    track_name = track[\"track\"][\"name\"]\n",
    "    \n",
    "    #Main Artist\n",
    "    artist_uri = track[\"track\"][\"artists\"][0][\"uri\"]\n",
    "    artist_info = sp.artist(artist_uri)\n",
    "    \n",
    "    #Name, popularity, genre\n",
    "    artist_name = track[\"track\"][\"artists\"][0][\"name\"]\n",
    "    artist_pop = artist_info[\"popularity\"]\n",
    "    artist_genres = artist_info[\"genres\"]\n",
    "    \n",
    "    #Album\n",
    "    album = track[\"track\"][\"album\"][\"name\"]\n",
    "    \n",
    "    #Popularity of the track\n",
    "    track_pop = track[\"track\"][\"popularity\"]'''"
   ]
  },
  {
   "cell_type": "code",
   "execution_count": null,
   "metadata": {},
   "outputs": [],
   "source": [
    "# Obtener características de las canciones\n",
    "focus_feat = sp.audio_features(\"track_uri\")[0]"
   ]
  },
  {
   "cell_type": "markdown",
   "metadata": {},
   "source": [
    "### Extracción de playlists"
   ]
  },
  {
   "cell_type": "code",
   "execution_count": 29,
   "metadata": {},
   "outputs": [
    {
     "ename": "SpotifyException",
     "evalue": "http status: 400, code:-1 - Unsupported URL / URI., reason: None",
     "output_type": "error",
     "traceback": [
      "\u001b[1;31m---------------------------------------------------------------------------\u001b[0m",
      "\u001b[1;31mSpotifyException\u001b[0m                          Traceback (most recent call last)",
      "Cell \u001b[1;32mIn[29], line 10\u001b[0m\n\u001b[0;32m      7\u001b[0m \u001b[39m# Bucle para recorrer las playlists\u001b[39;00m\n\u001b[0;32m      8\u001b[0m \u001b[39mfor\u001b[39;00m playlist_uri \u001b[39min\u001b[39;00m playlists:\n\u001b[0;32m      9\u001b[0m     \u001b[39m# Obtener la información de la playlist\u001b[39;00m\n\u001b[1;32m---> 10\u001b[0m     playlist_tracks \u001b[39m=\u001b[39m sp\u001b[39m.\u001b[39;49mplaylist_tracks(playlist_uri)[\u001b[39m\"\u001b[39m\u001b[39mitems\u001b[39m\u001b[39m\"\u001b[39m]\n\u001b[0;32m     12\u001b[0m     \u001b[39m# Lista para almacenar la información de cada canción de la playlist\u001b[39;00m\n\u001b[0;32m     13\u001b[0m     playlist_data \u001b[39m=\u001b[39m []\n",
      "File \u001b[1;32mc:\\Users\\User\\AppData\\Local\\Programs\\Python\\Python310\\lib\\site-packages\\spotipy\\client.py:683\u001b[0m, in \u001b[0;36mSpotify.playlist_tracks\u001b[1;34m(self, playlist_id, fields, limit, offset, market, additional_types)\u001b[0m\n\u001b[0;32m    667\u001b[0m \u001b[39m\u001b[39m\u001b[39m\"\"\" Get full details of the tracks of a playlist.\u001b[39;00m\n\u001b[0;32m    668\u001b[0m \n\u001b[0;32m    669\u001b[0m \u001b[39m    Parameters:\u001b[39;00m\n\u001b[1;32m   (...)\u001b[0m\n\u001b[0;32m    676\u001b[0m \u001b[39m                             valid types are: track and episode\u001b[39;00m\n\u001b[0;32m    677\u001b[0m \u001b[39m\"\"\"\u001b[39;00m\n\u001b[0;32m    678\u001b[0m warnings\u001b[39m.\u001b[39mwarn(\n\u001b[0;32m    679\u001b[0m     \u001b[39m\"\u001b[39m\u001b[39mYou should use `playlist_items(playlist_id, ...,\u001b[39m\u001b[39m\"\u001b[39m\n\u001b[0;32m    680\u001b[0m     \u001b[39m\"\u001b[39m\u001b[39madditional_types=(\u001b[39m\u001b[39m'\u001b[39m\u001b[39mtrack\u001b[39m\u001b[39m'\u001b[39m\u001b[39m,))` instead\u001b[39m\u001b[39m\"\u001b[39m,\n\u001b[0;32m    681\u001b[0m     \u001b[39mDeprecationWarning\u001b[39;00m,\n\u001b[0;32m    682\u001b[0m )\n\u001b[1;32m--> 683\u001b[0m \u001b[39mreturn\u001b[39;00m \u001b[39mself\u001b[39;49m\u001b[39m.\u001b[39;49mplaylist_items(playlist_id, fields, limit, offset,\n\u001b[0;32m    684\u001b[0m                            market, additional_types)\n",
      "File \u001b[1;32mc:\\Users\\User\\AppData\\Local\\Programs\\Python\\Python310\\lib\\site-packages\\spotipy\\client.py:706\u001b[0m, in \u001b[0;36mSpotify.playlist_items\u001b[1;34m(self, playlist_id, fields, limit, offset, market, additional_types)\u001b[0m\n\u001b[0;32m    686\u001b[0m \u001b[39mdef\u001b[39;00m \u001b[39mplaylist_items\u001b[39m(\n\u001b[0;32m    687\u001b[0m     \u001b[39mself\u001b[39m,\n\u001b[0;32m    688\u001b[0m     playlist_id,\n\u001b[1;32m   (...)\u001b[0m\n\u001b[0;32m    693\u001b[0m     additional_types\u001b[39m=\u001b[39m(\u001b[39m\"\u001b[39m\u001b[39mtrack\u001b[39m\u001b[39m\"\u001b[39m, \u001b[39m\"\u001b[39m\u001b[39mepisode\u001b[39m\u001b[39m\"\u001b[39m)\n\u001b[0;32m    694\u001b[0m ):\n\u001b[0;32m    695\u001b[0m \u001b[39m    \u001b[39m\u001b[39m\"\"\" Get full details of the tracks and episodes of a playlist.\u001b[39;00m\n\u001b[0;32m    696\u001b[0m \n\u001b[0;32m    697\u001b[0m \u001b[39m        Parameters:\u001b[39;00m\n\u001b[1;32m   (...)\u001b[0m\n\u001b[0;32m    704\u001b[0m \u001b[39m                                 valid types are: track and episode\u001b[39;00m\n\u001b[0;32m    705\u001b[0m \u001b[39m    \"\"\"\u001b[39;00m\n\u001b[1;32m--> 706\u001b[0m     plid \u001b[39m=\u001b[39m \u001b[39mself\u001b[39;49m\u001b[39m.\u001b[39;49m_get_id(\u001b[39m\"\u001b[39;49m\u001b[39mplaylist\u001b[39;49m\u001b[39m\"\u001b[39;49m, playlist_id)\n\u001b[0;32m    707\u001b[0m     \u001b[39mreturn\u001b[39;00m \u001b[39mself\u001b[39m\u001b[39m.\u001b[39m_get(\n\u001b[0;32m    708\u001b[0m         \u001b[39m\"\u001b[39m\u001b[39mplaylists/\u001b[39m\u001b[39m%s\u001b[39;00m\u001b[39m/tracks\u001b[39m\u001b[39m\"\u001b[39m \u001b[39m%\u001b[39m (plid),\n\u001b[0;32m    709\u001b[0m         limit\u001b[39m=\u001b[39mlimit,\n\u001b[1;32m   (...)\u001b[0m\n\u001b[0;32m    713\u001b[0m         additional_types\u001b[39m=\u001b[39m\u001b[39m\"\u001b[39m\u001b[39m,\u001b[39m\u001b[39m\"\u001b[39m\u001b[39m.\u001b[39mjoin(additional_types)\n\u001b[0;32m    714\u001b[0m     )\n",
      "File \u001b[1;32mc:\\Users\\User\\AppData\\Local\\Programs\\Python\\Python310\\lib\\site-packages\\spotipy\\client.py:1990\u001b[0m, in \u001b[0;36mSpotify._get_id\u001b[1;34m(self, type, id)\u001b[0m\n\u001b[0;32m   1987\u001b[0m     \u001b[39mreturn\u001b[39;00m \u001b[39mid\u001b[39m\n\u001b[0;32m   1989\u001b[0m \u001b[39m# TODO change to a ValueError in v3\u001b[39;00m\n\u001b[1;32m-> 1990\u001b[0m \u001b[39mraise\u001b[39;00m SpotifyException(\u001b[39m400\u001b[39m, \u001b[39m-\u001b[39m\u001b[39m1\u001b[39m, \u001b[39m\"\u001b[39m\u001b[39mUnsupported URL / URI.\u001b[39m\u001b[39m\"\u001b[39m)\n",
      "\u001b[1;31mSpotifyException\u001b[0m: http status: 400, code:-1 - Unsupported URL / URI., reason: None"
     ]
    }
   ],
   "source": [
    "# Lista de URIs de las playlists\n",
    "playlists = [\"hplaylist_URI\",\"sadplaylist_URI\",\"angplaylist_URI\",\"spooplaylist_URI\",\"focusplaylist_URI\"]\n",
    "\n",
    "# Diccionario para almacenar la información por playlist\n",
    "playlists_data = {}\n",
    "\n",
    "# Bucle para recorrer las playlists\n",
    "for playlist_uri in playlists:\n",
    "    # Obtener la información de la playlist\n",
    "    playlist_tracks = sp.playlist_tracks(playlist_uri)[\"items\"]\n",
    "    \n",
    "    # Lista para almacenar la información de cada canción de la playlist\n",
    "    playlist_data = []\n",
    "    \n",
    "    # Procesar cada canción de la playlist\n",
    "    for track in playlist_tracks:\n",
    "        # Crear un diccionario con la información de la canción\n",
    "        track_info = {}\n",
    "        \n",
    "        # URI\n",
    "        track_info[\"track_uri\"] = track[\"track\"][\"uri\"]\n",
    "        \n",
    "        # Nombre de la canción\n",
    "        track_info[\"track_name\"] = track[\"track\"][\"name\"]\n",
    "        \n",
    "        # Artista principal\n",
    "        artist_uri = track[\"track\"][\"artists\"][0][\"uri\"]\n",
    "        artist_info = sp.artist(artist_uri)\n",
    "        \n",
    "        # Nombre, popularidad y género del artista\n",
    "        track_info[\"artist_name\"] = track[\"track\"][\"artists\"][0][\"name\"]\n",
    "        track_info[\"artist_pop\"] = artist_info[\"popularity\"]\n",
    "        track_info[\"artist_genres\"] = artist_info[\"genres\"]\n",
    "                \n",
    "        # Popularidad de la canción\n",
    "        track_info[\"track_pop\"] = track[\"track\"][\"popularity\"]\n",
    "              \n",
    "        # Agregar el diccionario a la lista de información de la playlist\n",
    "        playlist_data.append(track_info)\n",
    "    \n",
    "    # Asignar la lista de información de la playlist al diccionario\n",
    "    playlists_data[playlist_uri] = playlist_data\n"
   ]
  },
  {
   "cell_type": "code",
   "execution_count": null,
   "metadata": {},
   "outputs": [],
   "source": [
    "        # Obtener las características de audio de la canción\n",
    "        features = sp.audio_features(\"track_uri\")[0]\n",
    "        # Agregar las características de audio al diccionario de información de la canción\n",
    "        track_info.update(features)"
   ]
  },
  {
   "cell_type": "markdown",
   "metadata": {},
   "source": [
    "# Preprocessing"
   ]
  },
  {
   "cell_type": "markdown",
   "metadata": {},
   "source": [
    "Ahora que tenemos identificadas las playlists que queremos crearemos un dataframe con las features que nos interesan."
   ]
  },
  {
   "cell_type": "code",
   "execution_count": null,
   "metadata": {},
   "outputs": [],
   "source": [
    "playlists = [\"hplaylist_URI\",\"sadplaylist_URI\",\"angplaylist_URI\",\"spooplaylist_URI\",\"focusplaylist_URI\"]\n",
    "\n",
    "#Guardaré los datos en un diccionario:\n",
    "playlists_info = {}\n",
    "\n",
    "for playlist in playlists:\n",
    "    # Obtener la información de la playlist\n",
    "    playlist_tracks = sp.playlist_tracks(playlist)[\"items\"]\n",
    "    \n",
    "    # Lista para almacenar la información de cada canción de la playlist\n",
    "    playlist_info = []\n",
    "    \n",
    "    # Procesar cada canción de la playlist\n",
    "    for track in playlist_tracks:\n",
    "        # Crear un diccionario con la información de la canción\n",
    "        track_info = {}\n",
    "        \n",
    "        # URI\n",
    "        track_info[\"ftrack_uri\"] = track[\"track\"][\"uri\"]\n",
    "        \n",
    "        # Nombre de la canción\n",
    "        track_info[\"track_name\"] = track[\"track\"][\"name\"]\n",
    "        \n",
    "        # Artista principal\n",
    "        artist_uri = track[\"track\"][\"artists\"][0][\"uri\"]\n",
    "        artist_info = sp.artist(artist_uri)\n",
    "        \n",
    "        # Nombre, popularidad y género del artista\n",
    "        track_info[\"artist_name\"] = track[\"track\"][\"artists\"][0][\"name\"]\n",
    "        track_info[\"artist_pop\"] = artist_info[\"popularity\"]\n",
    "        track_info[\"artist_genres\"] = artist_info[\"genres\"]\n",
    "        \n",
    "        # Popularidad de la canción\n",
    "        track_info[\"track_pop\"] = track[\"track\"][\"popularity\"]\n",
    "        \n",
    "        \n",
    "        # Agregar el diccionario a la lista de información de la playlist\n",
    "        playlist_info.append(track_info)\n",
    "    \n",
    "    # Asignar la lista de información de la playlist al diccionario\n",
    "    playlists_info[playlist] = playlist_info"
   ]
  },
  {
   "cell_type": "code",
   "execution_count": null,
   "metadata": {},
   "outputs": [],
   "source": [
    "#Extract Artist's uri\n",
    "artists_uris = result['tracks']['items'][0]['artists'][0]['uri']"
   ]
  },
  {
   "cell_type": "code",
   "execution_count": null,
   "metadata": {},
   "outputs": [],
   "source": [
    "def audio_features(album):\n",
    "    #Add new key-values to store audio features\n",
    "    spotify_albums[album]['acousticness'] = []\n",
    "    spotify_albums[album]['danceability'] = []\n",
    "    spotify_albums[album]['energy'] = []\n",
    "    spotify_albums[album]['instrumentalness'] = []\n",
    "    spotify_albums[album]['liveness'] = []\n",
    "    spotify_albums[album]['loudness'] = []\n",
    "    spotify_albums[album]['speechiness'] = []\n",
    "    spotify_albums[album]['tempo'] = []\n",
    "    spotify_albums[album]['valence'] = []\n",
    "    spotify_albums[album]['popularity'] = []\n",
    "    \n",
    "    track_count = 0\n",
    "    for track in spotify_albums[album]['uri']:\n",
    "        #pull audio features per track\n",
    "        features = sp.audio_features(track)\n",
    "        \n",
    "        #Append to relevant key-value\n",
    "        spotify_albums[album]['acousticness'].append(features[0]['acousticness'])\n",
    "        spotify_albums[album]['danceability'].append(features[0]['danceability'])\n",
    "        spotify_albums[album]['energy'].append(features[0]['energy'])\n",
    "        spotify_albums[album]['instrumentalness'].append(features[0]['instrumentalness'])\n",
    "        spotify_albums[album]['liveness'].append(features[0]['liveness'])\n",
    "        spotify_albums[album]['loudness'].append(features[0]['loudness'])\n",
    "        spotify_albums[album]['speechiness'].append(features[0]['speechiness'])\n",
    "        spotify_albums[album]['tempo'].append(features[0]['tempo'])\n",
    "        spotify_albums[album]['valence'].append(features[0]['valence'])\n",
    "        #popularity is stored elsewhere\n",
    "        pop = sp.track(track)\n",
    "        spotify_albums[album]['popularity'].append(pop['popularity'])\n",
    "        track_count+=1"
   ]
  }
 ],
 "metadata": {
  "kernelspec": {
   "display_name": "Python 3",
   "language": "python",
   "name": "python3"
  },
  "language_info": {
   "codemirror_mode": {
    "name": "ipython",
    "version": 3
   },
   "file_extension": ".py",
   "mimetype": "text/x-python",
   "name": "python",
   "nbconvert_exporter": "python",
   "pygments_lexer": "ipython3",
   "version": "3.10.10"
  },
  "orig_nbformat": 4
 },
 "nbformat": 4,
 "nbformat_minor": 2
}
