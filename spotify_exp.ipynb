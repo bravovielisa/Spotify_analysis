{
 "cells": [
  {
   "cell_type": "code",
   "execution_count": 1,
   "metadata": {},
   "outputs": [
    {
     "data": {
      "text/plain": [
       "'!pip install spotipy'"
      ]
     },
     "execution_count": 1,
     "metadata": {},
     "output_type": "execute_result"
    }
   ],
   "source": [
    "'''!pip install spotipy'''"
   ]
  },
  {
   "cell_type": "markdown",
   "metadata": {},
   "source": [
    "# Data extraction"
   ]
  },
  {
   "cell_type": "markdown",
   "metadata": {},
   "source": [
    "redirect_uri = 'http://localhost:8501//callback'"
   ]
  },
  {
   "cell_type": "code",
   "execution_count": 7,
   "metadata": {},
   "outputs": [],
   "source": [
    "'''\n",
    "Otra forma de guardar las credenciales con archivo .env como me daba error he optado por hacer un .txt:\n",
    "from dotenv import load_dotenv\n",
    "import os\n",
    "\n",
    "load_dotenv()\n",
    "\n",
    "client_id = os.getenv('CLIENT_ID')\n",
    "client_secret = os.getenv('CLIENT_SECRET')\n",
    "'''"
   ]
  },
  {
   "cell_type": "code",
   "execution_count": 44,
   "metadata": {},
   "outputs": [],
   "source": [
    "# To access Spotify authorised data we need to create our credentials like clientid and client_secret as well as spotify object to access the API\n",
    "import spotipy\n",
    "from spotipy.oauth2 import SpotifyClientCredentials \n",
    "with open(\"api.txt\") as f:\n",
    "    secret_ls = f.readlines()\n",
    "    client_id = secret_ls[0] #Daba error al leerlo porque no tenía comillas en el txt\n",
    "    client_secret = secret_ls[1]"
   ]
  },
  {
   "cell_type": "code",
   "execution_count": 45,
   "metadata": {},
   "outputs": [],
   "source": [
    "client_credentials_manager = SpotifyClientCredentials(client_id=client_id, client_secret=client_secret)\n",
    "sp = spotipy.Spotify(client_credentials_manager=client_credentials_manager)"
   ]
  },
  {
   "cell_type": "markdown",
   "metadata": {},
   "source": [
    "### 1. Happy playlist:"
   ]
  },
  {
   "cell_type": "code",
   "execution_count": 46,
   "metadata": {},
   "outputs": [
    {
     "ename": "SpotifyOauthError",
     "evalue": "error: invalid_client, error_description: Invalid client",
     "output_type": "error",
     "traceback": [
      "\u001b[1;31m---------------------------------------------------------------------------\u001b[0m",
      "\u001b[1;31mHTTPError\u001b[0m                                 Traceback (most recent call last)",
      "File \u001b[1;32mc:\\Users\\User\\AppData\\Local\\Programs\\Python\\Python310\\lib\\site-packages\\spotipy\\oauth2.py:265\u001b[0m, in \u001b[0;36mSpotifyClientCredentials._request_access_token\u001b[1;34m(self)\u001b[0m\n\u001b[0;32m    257\u001b[0m response \u001b[39m=\u001b[39m \u001b[39mself\u001b[39m\u001b[39m.\u001b[39m_session\u001b[39m.\u001b[39mpost(\n\u001b[0;32m    258\u001b[0m     \u001b[39mself\u001b[39m\u001b[39m.\u001b[39mOAUTH_TOKEN_URL,\n\u001b[0;32m    259\u001b[0m     data\u001b[39m=\u001b[39mpayload,\n\u001b[1;32m   (...)\u001b[0m\n\u001b[0;32m    263\u001b[0m     timeout\u001b[39m=\u001b[39m\u001b[39mself\u001b[39m\u001b[39m.\u001b[39mrequests_timeout,\n\u001b[0;32m    264\u001b[0m )\n\u001b[1;32m--> 265\u001b[0m response\u001b[39m.\u001b[39;49mraise_for_status()\n\u001b[0;32m    266\u001b[0m token_info \u001b[39m=\u001b[39m response\u001b[39m.\u001b[39mjson()\n",
      "File \u001b[1;32mc:\\Users\\User\\AppData\\Local\\Programs\\Python\\Python310\\lib\\site-packages\\requests\\models.py:1021\u001b[0m, in \u001b[0;36mResponse.raise_for_status\u001b[1;34m(self)\u001b[0m\n\u001b[0;32m   1020\u001b[0m \u001b[39mif\u001b[39;00m http_error_msg:\n\u001b[1;32m-> 1021\u001b[0m     \u001b[39mraise\u001b[39;00m HTTPError(http_error_msg, response\u001b[39m=\u001b[39m\u001b[39mself\u001b[39m)\n",
      "\u001b[1;31mHTTPError\u001b[0m: 400 Client Error: Bad Request for url: https://accounts.spotify.com/api/token",
      "\nDuring handling of the above exception, another exception occurred:\n",
      "\u001b[1;31mSpotifyOauthError\u001b[0m                         Traceback (most recent call last)",
      "Cell \u001b[1;32mIn[46], line 4\u001b[0m\n\u001b[0;32m      2\u001b[0m happy_pl_link \u001b[39m=\u001b[39m \u001b[39m\"\u001b[39m\u001b[39mhttps://open.spotify.com/playlist/37i9dQZF1DXdPec7aLTmlC?si=6d0d8a354930406b\u001b[39m\u001b[39m\"\u001b[39m\n\u001b[0;32m      3\u001b[0m hplaylist_URI \u001b[39m=\u001b[39m happy_pl_link\u001b[39m.\u001b[39msplit(\u001b[39m\"\u001b[39m\u001b[39m/\u001b[39m\u001b[39m\"\u001b[39m)[\u001b[39m-\u001b[39m\u001b[39m1\u001b[39m]\u001b[39m.\u001b[39msplit(\u001b[39m\"\u001b[39m\u001b[39m?\u001b[39m\u001b[39m\"\u001b[39m)[\u001b[39m0\u001b[39m]\n\u001b[1;32m----> 4\u001b[0m track_uris \u001b[39m=\u001b[39m [x[\u001b[39m\"\u001b[39m\u001b[39mtrack\u001b[39m\u001b[39m\"\u001b[39m][\u001b[39m\"\u001b[39m\u001b[39muri\u001b[39m\u001b[39m\"\u001b[39m] \u001b[39mfor\u001b[39;00m x \u001b[39min\u001b[39;00m sp\u001b[39m.\u001b[39;49mplaylist_tracks(hplaylist_URI)[\u001b[39m\"\u001b[39m\u001b[39mitems\u001b[39m\u001b[39m\"\u001b[39m]]\n",
      "File \u001b[1;32mc:\\Users\\User\\AppData\\Local\\Programs\\Python\\Python310\\lib\\site-packages\\spotipy\\client.py:683\u001b[0m, in \u001b[0;36mSpotify.playlist_tracks\u001b[1;34m(self, playlist_id, fields, limit, offset, market, additional_types)\u001b[0m\n\u001b[0;32m    667\u001b[0m \u001b[39m\u001b[39m\u001b[39m\"\"\" Get full details of the tracks of a playlist.\u001b[39;00m\n\u001b[0;32m    668\u001b[0m \n\u001b[0;32m    669\u001b[0m \u001b[39m    Parameters:\u001b[39;00m\n\u001b[1;32m   (...)\u001b[0m\n\u001b[0;32m    676\u001b[0m \u001b[39m                             valid types are: track and episode\u001b[39;00m\n\u001b[0;32m    677\u001b[0m \u001b[39m\"\"\"\u001b[39;00m\n\u001b[0;32m    678\u001b[0m warnings\u001b[39m.\u001b[39mwarn(\n\u001b[0;32m    679\u001b[0m     \u001b[39m\"\u001b[39m\u001b[39mYou should use `playlist_items(playlist_id, ...,\u001b[39m\u001b[39m\"\u001b[39m\n\u001b[0;32m    680\u001b[0m     \u001b[39m\"\u001b[39m\u001b[39madditional_types=(\u001b[39m\u001b[39m'\u001b[39m\u001b[39mtrack\u001b[39m\u001b[39m'\u001b[39m\u001b[39m,))` instead\u001b[39m\u001b[39m\"\u001b[39m,\n\u001b[0;32m    681\u001b[0m     \u001b[39mDeprecationWarning\u001b[39;00m,\n\u001b[0;32m    682\u001b[0m )\n\u001b[1;32m--> 683\u001b[0m \u001b[39mreturn\u001b[39;00m \u001b[39mself\u001b[39;49m\u001b[39m.\u001b[39;49mplaylist_items(playlist_id, fields, limit, offset,\n\u001b[0;32m    684\u001b[0m                            market, additional_types)\n",
      "File \u001b[1;32mc:\\Users\\User\\AppData\\Local\\Programs\\Python\\Python310\\lib\\site-packages\\spotipy\\client.py:707\u001b[0m, in \u001b[0;36mSpotify.playlist_items\u001b[1;34m(self, playlist_id, fields, limit, offset, market, additional_types)\u001b[0m\n\u001b[0;32m    695\u001b[0m \u001b[39m\u001b[39m\u001b[39m\"\"\" Get full details of the tracks and episodes of a playlist.\u001b[39;00m\n\u001b[0;32m    696\u001b[0m \n\u001b[0;32m    697\u001b[0m \u001b[39m    Parameters:\u001b[39;00m\n\u001b[1;32m   (...)\u001b[0m\n\u001b[0;32m    704\u001b[0m \u001b[39m                             valid types are: track and episode\u001b[39;00m\n\u001b[0;32m    705\u001b[0m \u001b[39m\"\"\"\u001b[39;00m\n\u001b[0;32m    706\u001b[0m plid \u001b[39m=\u001b[39m \u001b[39mself\u001b[39m\u001b[39m.\u001b[39m_get_id(\u001b[39m\"\u001b[39m\u001b[39mplaylist\u001b[39m\u001b[39m\"\u001b[39m, playlist_id)\n\u001b[1;32m--> 707\u001b[0m \u001b[39mreturn\u001b[39;00m \u001b[39mself\u001b[39;49m\u001b[39m.\u001b[39;49m_get(\n\u001b[0;32m    708\u001b[0m     \u001b[39m\"\u001b[39;49m\u001b[39mplaylists/\u001b[39;49m\u001b[39m%s\u001b[39;49;00m\u001b[39m/tracks\u001b[39;49m\u001b[39m\"\u001b[39;49m \u001b[39m%\u001b[39;49m (plid),\n\u001b[0;32m    709\u001b[0m     limit\u001b[39m=\u001b[39;49mlimit,\n\u001b[0;32m    710\u001b[0m     offset\u001b[39m=\u001b[39;49moffset,\n\u001b[0;32m    711\u001b[0m     fields\u001b[39m=\u001b[39;49mfields,\n\u001b[0;32m    712\u001b[0m     market\u001b[39m=\u001b[39;49mmarket,\n\u001b[0;32m    713\u001b[0m     additional_types\u001b[39m=\u001b[39;49m\u001b[39m\"\u001b[39;49m\u001b[39m,\u001b[39;49m\u001b[39m\"\u001b[39;49m\u001b[39m.\u001b[39;49mjoin(additional_types)\n\u001b[0;32m    714\u001b[0m )\n",
      "File \u001b[1;32mc:\\Users\\User\\AppData\\Local\\Programs\\Python\\Python310\\lib\\site-packages\\spotipy\\client.py:323\u001b[0m, in \u001b[0;36mSpotify._get\u001b[1;34m(self, url, args, payload, **kwargs)\u001b[0m\n\u001b[0;32m    320\u001b[0m \u001b[39mif\u001b[39;00m args:\n\u001b[0;32m    321\u001b[0m     kwargs\u001b[39m.\u001b[39mupdate(args)\n\u001b[1;32m--> 323\u001b[0m \u001b[39mreturn\u001b[39;00m \u001b[39mself\u001b[39;49m\u001b[39m.\u001b[39;49m_internal_call(\u001b[39m\"\u001b[39;49m\u001b[39mGET\u001b[39;49m\u001b[39m\"\u001b[39;49m, url, payload, kwargs)\n",
      "File \u001b[1;32mc:\\Users\\User\\AppData\\Local\\Programs\\Python\\Python310\\lib\\site-packages\\spotipy\\client.py:247\u001b[0m, in \u001b[0;36mSpotify._internal_call\u001b[1;34m(self, method, url, payload, params)\u001b[0m\n\u001b[0;32m    245\u001b[0m \u001b[39mif\u001b[39;00m \u001b[39mnot\u001b[39;00m url\u001b[39m.\u001b[39mstartswith(\u001b[39m\"\u001b[39m\u001b[39mhttp\u001b[39m\u001b[39m\"\u001b[39m):\n\u001b[0;32m    246\u001b[0m     url \u001b[39m=\u001b[39m \u001b[39mself\u001b[39m\u001b[39m.\u001b[39mprefix \u001b[39m+\u001b[39m url\n\u001b[1;32m--> 247\u001b[0m headers \u001b[39m=\u001b[39m \u001b[39mself\u001b[39;49m\u001b[39m.\u001b[39;49m_auth_headers()\n\u001b[0;32m    249\u001b[0m \u001b[39mif\u001b[39;00m \u001b[39m\"\u001b[39m\u001b[39mcontent_type\u001b[39m\u001b[39m\"\u001b[39m \u001b[39min\u001b[39;00m args[\u001b[39m\"\u001b[39m\u001b[39mparams\u001b[39m\u001b[39m\"\u001b[39m]:\n\u001b[0;32m    250\u001b[0m     headers[\u001b[39m\"\u001b[39m\u001b[39mContent-Type\u001b[39m\u001b[39m\"\u001b[39m] \u001b[39m=\u001b[39m args[\u001b[39m\"\u001b[39m\u001b[39mparams\u001b[39m\u001b[39m\"\u001b[39m][\u001b[39m\"\u001b[39m\u001b[39mcontent_type\u001b[39m\u001b[39m\"\u001b[39m]\n",
      "File \u001b[1;32mc:\\Users\\User\\AppData\\Local\\Programs\\Python\\Python310\\lib\\site-packages\\spotipy\\client.py:238\u001b[0m, in \u001b[0;36mSpotify._auth_headers\u001b[1;34m(self)\u001b[0m\n\u001b[0;32m    236\u001b[0m     \u001b[39mreturn\u001b[39;00m {}\n\u001b[0;32m    237\u001b[0m \u001b[39mtry\u001b[39;00m:\n\u001b[1;32m--> 238\u001b[0m     token \u001b[39m=\u001b[39m \u001b[39mself\u001b[39;49m\u001b[39m.\u001b[39;49mauth_manager\u001b[39m.\u001b[39;49mget_access_token(as_dict\u001b[39m=\u001b[39;49m\u001b[39mFalse\u001b[39;49;00m)\n\u001b[0;32m    239\u001b[0m \u001b[39mexcept\u001b[39;00m \u001b[39mTypeError\u001b[39;00m:\n\u001b[0;32m    240\u001b[0m     token \u001b[39m=\u001b[39m \u001b[39mself\u001b[39m\u001b[39m.\u001b[39mauth_manager\u001b[39m.\u001b[39mget_access_token()\n",
      "File \u001b[1;32mc:\\Users\\User\\AppData\\Local\\Programs\\Python\\Python310\\lib\\site-packages\\spotipy\\oauth2.py:238\u001b[0m, in \u001b[0;36mSpotifyClientCredentials.get_access_token\u001b[1;34m(self, as_dict, check_cache)\u001b[0m\n\u001b[0;32m    235\u001b[0m     \u001b[39mif\u001b[39;00m token_info \u001b[39mand\u001b[39;00m \u001b[39mnot\u001b[39;00m \u001b[39mself\u001b[39m\u001b[39m.\u001b[39mis_token_expired(token_info):\n\u001b[0;32m    236\u001b[0m         \u001b[39mreturn\u001b[39;00m token_info \u001b[39mif\u001b[39;00m as_dict \u001b[39melse\u001b[39;00m token_info[\u001b[39m\"\u001b[39m\u001b[39maccess_token\u001b[39m\u001b[39m\"\u001b[39m]\n\u001b[1;32m--> 238\u001b[0m token_info \u001b[39m=\u001b[39m \u001b[39mself\u001b[39;49m\u001b[39m.\u001b[39;49m_request_access_token()\n\u001b[0;32m    239\u001b[0m token_info \u001b[39m=\u001b[39m \u001b[39mself\u001b[39m\u001b[39m.\u001b[39m_add_custom_values_to_token_info(token_info)\n\u001b[0;32m    240\u001b[0m \u001b[39mself\u001b[39m\u001b[39m.\u001b[39mcache_handler\u001b[39m.\u001b[39msave_token_to_cache(token_info)\n",
      "File \u001b[1;32mc:\\Users\\User\\AppData\\Local\\Programs\\Python\\Python310\\lib\\site-packages\\spotipy\\oauth2.py:269\u001b[0m, in \u001b[0;36mSpotifyClientCredentials._request_access_token\u001b[1;34m(self)\u001b[0m\n\u001b[0;32m    267\u001b[0m     \u001b[39mreturn\u001b[39;00m token_info\n\u001b[0;32m    268\u001b[0m \u001b[39mexcept\u001b[39;00m requests\u001b[39m.\u001b[39mexceptions\u001b[39m.\u001b[39mHTTPError \u001b[39mas\u001b[39;00m http_error:\n\u001b[1;32m--> 269\u001b[0m     \u001b[39mself\u001b[39;49m\u001b[39m.\u001b[39;49m_handle_oauth_error(http_error)\n",
      "File \u001b[1;32mc:\\Users\\User\\AppData\\Local\\Programs\\Python\\Python310\\lib\\site-packages\\spotipy\\oauth2.py:146\u001b[0m, in \u001b[0;36mSpotifyAuthBase._handle_oauth_error\u001b[1;34m(self, http_error)\u001b[0m\n\u001b[0;32m    143\u001b[0m     error \u001b[39m=\u001b[39m response\u001b[39m.\u001b[39mtext \u001b[39mor\u001b[39;00m \u001b[39mNone\u001b[39;00m\n\u001b[0;32m    144\u001b[0m     error_description \u001b[39m=\u001b[39m \u001b[39mNone\u001b[39;00m\n\u001b[1;32m--> 146\u001b[0m \u001b[39mraise\u001b[39;00m SpotifyOauthError(\n\u001b[0;32m    147\u001b[0m     \u001b[39m'\u001b[39m\u001b[39merror: \u001b[39m\u001b[39m{0}\u001b[39;00m\u001b[39m, error_description: \u001b[39m\u001b[39m{1}\u001b[39;00m\u001b[39m'\u001b[39m\u001b[39m.\u001b[39mformat(\n\u001b[0;32m    148\u001b[0m         error, error_description\n\u001b[0;32m    149\u001b[0m     ),\n\u001b[0;32m    150\u001b[0m     error\u001b[39m=\u001b[39merror,\n\u001b[0;32m    151\u001b[0m     error_description\u001b[39m=\u001b[39merror_description\n\u001b[0;32m    152\u001b[0m )\n",
      "\u001b[1;31mSpotifyOauthError\u001b[0m: error: invalid_client, error_description: Invalid client"
     ]
    }
   ],
   "source": [
    "# happy playlist link: \"Happy hits!\"\n",
    "happy_pl_link = \"https://open.spotify.com/playlist/37i9dQZF1DXdPec7aLTmlC?si=6d0d8a354930406b\"\n",
    "hplaylist_URI = happy_pl_link.split(\"/\")[-1].split(\"?\")[0]\n",
    "track_uris = [x[\"track\"][\"uri\"] for x in sp.playlist_tracks(hplaylist_URI)[\"items\"]]"
   ]
  },
  {
   "cell_type": "code",
   "execution_count": 3,
   "metadata": {},
   "outputs": [],
   "source": [
    "'''for track in sp.playlist_tracks(hplaylist_URI)[\"items\"]:\n",
    "    #URI\n",
    "    htrack_uri = track[\"track\"][\"uri\"]\n",
    "    \n",
    "    #Track name\n",
    "    track_name = track[\"track\"][\"name\"]\n",
    "    \n",
    "    #Main Artist\n",
    "    artist_uri = track[\"track\"][\"artists\"][0][\"uri\"]\n",
    "    artist_info = sp.artist(artist_uri)\n",
    "    \n",
    "    #Name, popularity, genre\n",
    "    artist_name = track[\"track\"][\"artists\"][0][\"name\"]\n",
    "    artist_pop = artist_info[\"popularity\"]\n",
    "    artist_genres = artist_info[\"genres\"]\n",
    "    \n",
    "    #Album\n",
    "    album = track[\"track\"][\"album\"][\"name\"]\n",
    "    \n",
    "    #Popularity of the track\n",
    "    track_pop = track[\"track\"][\"popularity\"]'''"
   ]
  },
  {
   "cell_type": "markdown",
   "metadata": {},
   "source": [
    "Características de la playlist feliz:"
   ]
  },
  {
   "cell_type": "code",
   "execution_count": null,
   "metadata": {},
   "outputs": [
    {
     "data": {
      "text/plain": [
       "{'danceability': 0.722,\n",
       " 'energy': 0.893,\n",
       " 'key': 0,\n",
       " 'loudness': -3.255,\n",
       " 'mode': 0,\n",
       " 'speechiness': 0.0475,\n",
       " 'acousticness': 0.0441,\n",
       " 'instrumentalness': 0.000937,\n",
       " 'liveness': 0.0673,\n",
       " 'valence': 0.439,\n",
       " 'tempo': 119.932,\n",
       " 'type': 'audio_features',\n",
       " 'id': '3iw6V4LH7yPj1ESORX9RIN',\n",
       " 'uri': 'spotify:track:3iw6V4LH7yPj1ESORX9RIN',\n",
       " 'track_href': 'https://api.spotify.com/v1/tracks/3iw6V4LH7yPj1ESORX9RIN',\n",
       " 'analysis_url': 'https://api.spotify.com/v1/audio-analysis/3iw6V4LH7yPj1ESORX9RIN',\n",
       " 'duration_ms': 116750,\n",
       " 'time_signature': 4}"
      ]
     },
     "execution_count": 4,
     "metadata": {},
     "output_type": "execute_result"
    }
   ],
   "source": [
    "# Obtener características de las canciones\n",
    "happy_feat = sp.audio_features(htrack_uri)[0]\n",
    "happy_feat"
   ]
  },
  {
   "cell_type": "markdown",
   "metadata": {},
   "source": [
    "### 2. Sad playlist:"
   ]
  },
  {
   "cell_type": "code",
   "execution_count": null,
   "metadata": {},
   "outputs": [],
   "source": [
    "# sad playlist link: \"canciones tristes\"\n",
    "sad_pl_link = \"https://open.spotify.com/playlist/37i9dQZF1DXdZjf8WgcTKM?si=66918a9ecd434eda\"\n",
    "sadplaylist_URI = sad_pl_link.split(\"/\")[-1].split(\"?\")[0]\n",
    "track_uris = [x[\"track\"][\"uri\"] for x in sp.playlist_tracks(sadplaylist_URI)[\"items\"]]"
   ]
  },
  {
   "cell_type": "code",
   "execution_count": null,
   "metadata": {},
   "outputs": [],
   "source": [
    "'''for track in sp.playlist_tracks(sadplaylist_URI)[\"items\"]:\n",
    "    #URI\n",
    "    strack_uri = track[\"track\"][\"uri\"]\n",
    "    \n",
    "    #Track name\n",
    "    track_name = track[\"track\"][\"name\"]\n",
    "    \n",
    "    #Main Artist\n",
    "    artist_uri = track[\"track\"][\"artists\"][0][\"uri\"]\n",
    "    artist_info = sp.artist(artist_uri)\n",
    "    \n",
    "    #Name, popularity, genre\n",
    "    artist_name = track[\"track\"][\"artists\"][0][\"name\"]\n",
    "    artist_pop = artist_info[\"popularity\"]\n",
    "    artist_genres = artist_info[\"genres\"]\n",
    "    \n",
    "    #Album\n",
    "    album = track[\"track\"][\"album\"][\"name\"]\n",
    "    \n",
    "    #Popularity of the track\n",
    "    track_pop = track[\"track\"][\"popularity\"]'''"
   ]
  },
  {
   "cell_type": "code",
   "execution_count": null,
   "metadata": {},
   "outputs": [],
   "source": [
    "# Obtener características de las canciones\n",
    "sad_feat = sp.audio_features(strack_uri)[0]"
   ]
  },
  {
   "cell_type": "markdown",
   "metadata": {},
   "source": [
    "### 3. Anger playlist:"
   ]
  },
  {
   "cell_type": "code",
   "execution_count": null,
   "metadata": {},
   "outputs": [],
   "source": [
    "# anger playlist link: \"Walk like a badass\"\n",
    "ang_pl_link = \"https://open.spotify.com/playlist/37i9dQZF1DX1tyCD9QhIWF?si=45e2a041dbbf4cbb\"\n",
    "angplaylist_URI = ang_pl_link.split(\"/\")[-1].split(\"?\")[0]\n",
    "track_uris = [x[\"track\"][\"uri\"] for x in sp.playlist_tracks(angplaylist_URI)[\"items\"]]"
   ]
  },
  {
   "cell_type": "code",
   "execution_count": null,
   "metadata": {},
   "outputs": [],
   "source": [
    "'''for track in sp.playlist_tracks(angplaylist_URI)[\"items\"]:\n",
    "    #URI\n",
    "    atrack_uri = track[\"track\"][\"uri\"]\n",
    "    \n",
    "    #Track name\n",
    "    track_name = track[\"track\"][\"name\"]\n",
    "    \n",
    "    #Main Artist\n",
    "    artist_uri = track[\"track\"][\"artists\"][0][\"uri\"]\n",
    "    artist_info = sp.artist(artist_uri)\n",
    "    \n",
    "    #Name, popularity, genre\n",
    "    artist_name = track[\"track\"][\"artists\"][0][\"name\"]\n",
    "    artist_pop = artist_info[\"popularity\"]\n",
    "    artist_genres = artist_info[\"genres\"]\n",
    "    \n",
    "    #Album\n",
    "    album = track[\"track\"][\"album\"][\"name\"]\n",
    "    \n",
    "    #Popularity of the track\n",
    "    track_pop = track[\"track\"][\"popularity\"]'''"
   ]
  },
  {
   "cell_type": "code",
   "execution_count": null,
   "metadata": {},
   "outputs": [],
   "source": [
    "# Obtener características de las canciones\n",
    "anger_feat = sp.audio_features(atrack_uri)[0]"
   ]
  },
  {
   "cell_type": "markdown",
   "metadata": {},
   "source": [
    "### 4. Spooky playlist:"
   ]
  },
  {
   "cell_type": "code",
   "execution_count": null,
   "metadata": {},
   "outputs": [],
   "source": [
    "# sppoky playlist link: \"Spooky\"\n",
    "spooky_pl_link = \"https://open.spotify.com/playlist/37i9dQZF1DX5hol82XuK24?si=29cf60e5500b488a\"\n",
    "spooplaylist_URI = spooky_pl_link.split(\"/\")[-1].split(\"?\")[0]\n",
    "track_uris = [x[\"track\"][\"uri\"] for x in sp.playlist_tracks(spooplaylist_URI)[\"items\"]]"
   ]
  },
  {
   "cell_type": "code",
   "execution_count": null,
   "metadata": {},
   "outputs": [],
   "source": [
    "'''for track in sp.playlist_tracks(spooplaylist_URI)[\"items\"]:\n",
    "    #URI\n",
    "    sptrack_uri = track[\"track\"][\"uri\"]\n",
    "    \n",
    "    #Track name\n",
    "    track_name = track[\"track\"][\"name\"]\n",
    "    \n",
    "    #Main Artist\n",
    "    artist_uri = track[\"track\"][\"artists\"][0][\"uri\"]\n",
    "    artist_info = sp.artist(artist_uri)\n",
    "    \n",
    "    #Name, popularity, genre\n",
    "    artist_name = track[\"track\"][\"artists\"][0][\"name\"]\n",
    "    artist_pop = artist_info[\"popularity\"]\n",
    "    artist_genres = artist_info[\"genres\"]\n",
    "    \n",
    "    #Album\n",
    "    album = track[\"track\"][\"album\"][\"name\"]\n",
    "    \n",
    "    #Popularity of the track\n",
    "    track_pop = track[\"track\"][\"popularity\"]'''"
   ]
  },
  {
   "cell_type": "code",
   "execution_count": null,
   "metadata": {},
   "outputs": [],
   "source": [
    "# Obtener características de las canciones\n",
    "spooky_feat = sp.audio_features(sptrack_uri)[0]"
   ]
  },
  {
   "cell_type": "markdown",
   "metadata": {},
   "source": [
    "### 5. Focus playlist:"
   ]
  },
  {
   "cell_type": "code",
   "execution_count": null,
   "metadata": {},
   "outputs": [],
   "source": [
    "# focus playlist link: \"Deep Focus\"\n",
    "focus_pl_link = \"https://open.spotify.com/playlist/37i9dQZF1DWZeKCadgRdKQ?si=635dd64ee7fa477b\"\n",
    "focusplaylist_URI = focus_pl_link.split(\"/\")[-1].split(\"?\")[0]\n",
    "track_uris = [x[\"track\"][\"uri\"] for x in sp.playlist_tracks(focusplaylist_URI)[\"items\"]]"
   ]
  },
  {
   "cell_type": "code",
   "execution_count": null,
   "metadata": {},
   "outputs": [],
   "source": [
    "'''for track in sp.playlist_tracks(focusplaylist_URI)[\"items\"]:\n",
    "    #URI\n",
    "    ftrack_uri = track[\"track\"][\"uri\"]\n",
    "    \n",
    "    #Track name\n",
    "    track_name = track[\"track\"][\"name\"]\n",
    "    \n",
    "    #Main Artist\n",
    "    artist_uri = track[\"track\"][\"artists\"][0][\"uri\"]\n",
    "    artist_info = sp.artist(artist_uri)\n",
    "    \n",
    "    #Name, popularity, genre\n",
    "    artist_name = track[\"track\"][\"artists\"][0][\"name\"]\n",
    "    artist_pop = artist_info[\"popularity\"]\n",
    "    artist_genres = artist_info[\"genres\"]\n",
    "    \n",
    "    #Album\n",
    "    album = track[\"track\"][\"album\"][\"name\"]\n",
    "    \n",
    "    #Popularity of the track\n",
    "    track_pop = track[\"track\"][\"popularity\"]'''"
   ]
  },
  {
   "cell_type": "code",
   "execution_count": null,
   "metadata": {},
   "outputs": [],
   "source": [
    "# Obtener características de las canciones\n",
    "focus_feat = sp.audio_features(ftrack_uri)[0]"
   ]
  },
  {
   "cell_type": "markdown",
   "metadata": {},
   "source": [
    "# Preprocessing"
   ]
  },
  {
   "cell_type": "markdown",
   "metadata": {},
   "source": [
    "Ahora que tenemos identificadas las playlists que queremos crearemos un dataframe con las features que nos interesan."
   ]
  },
  {
   "cell_type": "code",
   "execution_count": null,
   "metadata": {},
   "outputs": [],
   "source": [
    "playlists = [\"hplaylist_URI\",\"sadplaylist_URI\",\"angplaylist_URI\",\"spooplaylist_URI\",\"focusplaylist_URI\"]\n",
    "\n",
    "#Guardaré los datos en un diccionario:\n",
    "playlists_info = {}\n",
    "\n",
    "for playlist in playlists:\n",
    "    # Obtener la información de la playlist\n",
    "    playlist_tracks = sp.playlist_tracks(playlist)[\"items\"]\n",
    "    \n",
    "    # Lista para almacenar la información de cada canción de la playlist\n",
    "    playlist_info = []\n",
    "    \n",
    "    # Procesar cada canción de la playlist\n",
    "    for track in playlist_tracks:\n",
    "        # Crear un diccionario con la información de la canción\n",
    "        track_info = {}\n",
    "        \n",
    "        # URI\n",
    "        track_info[\"ftrack_uri\"] = track[\"track\"][\"uri\"]\n",
    "        \n",
    "        # Nombre de la canción\n",
    "        track_info[\"track_name\"] = track[\"track\"][\"name\"]\n",
    "        \n",
    "        # Artista principal\n",
    "        artist_uri = track[\"track\"][\"artists\"][0][\"uri\"]\n",
    "        artist_info = sp.artist(artist_uri)\n",
    "        \n",
    "        # Nombre, popularidad y género del artista\n",
    "        track_info[\"artist_name\"] = track[\"track\"][\"artists\"][0][\"name\"]\n",
    "        track_info[\"artist_pop\"] = artist_info[\"popularity\"]\n",
    "        track_info[\"artist_genres\"] = artist_info[\"genres\"]\n",
    "        \n",
    "        # Popularidad de la canción\n",
    "        track_info[\"track_pop\"] = track[\"track\"][\"popularity\"]\n",
    "        \n",
    "        \n",
    "        # Agregar el diccionario a la lista de información de la playlist\n",
    "        playlist_info.append(track_info)\n",
    "    \n",
    "    # Asignar la lista de información de la playlist al diccionario\n",
    "    playlists_info[playlist] = playlist_info"
   ]
  },
  {
   "cell_type": "code",
   "execution_count": null,
   "metadata": {},
   "outputs": [],
   "source": [
    "#Extract Artist's uri\n",
    "artists_uris = result['tracks']['items'][0]['artists'][0]['uri']"
   ]
  },
  {
   "cell_type": "code",
   "execution_count": null,
   "metadata": {},
   "outputs": [],
   "source": [
    "def audio_features(album):\n",
    "    #Add new key-values to store audio features\n",
    "    spotify_albums[album]['acousticness'] = []\n",
    "    spotify_albums[album]['danceability'] = []\n",
    "    spotify_albums[album]['energy'] = []\n",
    "    spotify_albums[album]['instrumentalness'] = []\n",
    "    spotify_albums[album]['liveness'] = []\n",
    "    spotify_albums[album]['loudness'] = []\n",
    "    spotify_albums[album]['speechiness'] = []\n",
    "    spotify_albums[album]['tempo'] = []\n",
    "    spotify_albums[album]['valence'] = []\n",
    "    spotify_albums[album]['popularity'] = []\n",
    "    \n",
    "    track_count = 0\n",
    "    for track in spotify_albums[album]['uri']:\n",
    "        #pull audio features per track\n",
    "        features = sp.audio_features(track)\n",
    "        \n",
    "        #Append to relevant key-value\n",
    "        spotify_albums[album]['acousticness'].append(features[0]['acousticness'])\n",
    "        spotify_albums[album]['danceability'].append(features[0]['danceability'])\n",
    "        spotify_albums[album]['energy'].append(features[0]['energy'])\n",
    "        spotify_albums[album]['instrumentalness'].append(features[0]['instrumentalness'])\n",
    "        spotify_albums[album]['liveness'].append(features[0]['liveness'])\n",
    "        spotify_albums[album]['loudness'].append(features[0]['loudness'])\n",
    "        spotify_albums[album]['speechiness'].append(features[0]['speechiness'])\n",
    "        spotify_albums[album]['tempo'].append(features[0]['tempo'])\n",
    "        spotify_albums[album]['valence'].append(features[0]['valence'])\n",
    "        #popularity is stored elsewhere\n",
    "        pop = sp.track(track)\n",
    "        spotify_albums[album]['popularity'].append(pop['popularity'])\n",
    "        track_count+=1"
   ]
  }
 ],
 "metadata": {
  "kernelspec": {
   "display_name": "Python 3",
   "language": "python",
   "name": "python3"
  },
  "language_info": {
   "codemirror_mode": {
    "name": "ipython",
    "version": 3
   },
   "file_extension": ".py",
   "mimetype": "text/x-python",
   "name": "python",
   "nbconvert_exporter": "python",
   "pygments_lexer": "ipython3",
   "version": "3.10.10"
  },
  "orig_nbformat": 4
 },
 "nbformat": 4,
 "nbformat_minor": 2
}
