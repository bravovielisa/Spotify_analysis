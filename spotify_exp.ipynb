{
 "cells": [
  {
   "cell_type": "code",
   "execution_count": 1,
   "metadata": {},
   "outputs": [
    {
     "name": "stdout",
     "output_type": "stream",
     "text": [
      "Collecting spotipy\n",
      "  Downloading spotipy-2.23.0-py3-none-any.whl (29 kB)\n",
      "Collecting redis>=3.5.3 (from spotipy)\n",
      "  Downloading redis-4.6.0-py3-none-any.whl (241 kB)\n",
      "                                              0.0/241.1 kB ? eta -:--:--\n",
      "     -----------------                      112.6/241.1 kB 3.2 MB/s eta 0:00:01\n",
      "     -------------------------------------- 241.1/241.1 kB 2.9 MB/s eta 0:00:00\n",
      "Requirement already satisfied: requests>=2.25.0 in c:\\users\\user\\appdata\\local\\programs\\python\\python310\\lib\\site-packages (from spotipy) (2.31.0)\n",
      "Requirement already satisfied: six>=1.15.0 in c:\\users\\user\\appdata\\roaming\\python\\python310\\site-packages (from spotipy) (1.16.0)\n",
      "Requirement already satisfied: urllib3>=1.26.0 in c:\\users\\user\\appdata\\local\\programs\\python\\python310\\lib\\site-packages (from spotipy) (2.0.2)\n",
      "Requirement already satisfied: async-timeout>=4.0.2 in c:\\users\\user\\appdata\\local\\programs\\python\\python310\\lib\\site-packages (from redis>=3.5.3->spotipy) (4.0.2)\n",
      "Requirement already satisfied: charset-normalizer<4,>=2 in c:\\users\\user\\appdata\\local\\programs\\python\\python310\\lib\\site-packages (from requests>=2.25.0->spotipy) (3.1.0)\n",
      "Requirement already satisfied: idna<4,>=2.5 in c:\\users\\user\\appdata\\local\\programs\\python\\python310\\lib\\site-packages (from requests>=2.25.0->spotipy) (3.4)\n",
      "Requirement already satisfied: certifi>=2017.4.17 in c:\\users\\user\\appdata\\local\\programs\\python\\python310\\lib\\site-packages (from requests>=2.25.0->spotipy) (2023.5.7)\n",
      "Installing collected packages: redis, spotipy\n",
      "Successfully installed redis-4.6.0 spotipy-2.23.0\n"
     ]
    }
   ],
   "source": [
    "!pip install spotipy"
   ]
  },
  {
   "cell_type": "markdown",
   "metadata": {},
   "source": [
    "var redirect_uri = 'http://localhost:8501//callback';\n",
    "http://localhost:8501//callback"
   ]
  },
  {
   "cell_type": "code",
   "execution_count": 1,
   "metadata": {},
   "outputs": [],
   "source": [
    "# To access Spotify authorised data we need to create our credentials like clientid and client_secret as well as spotify object to access the API\n",
    "import spotipy\n",
    "from spotipy.oauth2 import SpotifyClientCredentials \n",
    "client_id = \"7b330d4c54ca4ea7a111f31ced534958\"\n",
    "client_secret = \"fb9b90b17f25449abc6487c6920daed3\"\n",
    "client_credentials_manager = SpotifyClientCredentials(client_id=client_id, client_secret=client_secret)\n",
    "sp = spotipy.Spotify(client_credentials_manager=client_credentials_manager)"
   ]
  },
  {
   "cell_type": "code",
   "execution_count": null,
   "metadata": {},
   "outputs": [],
   "source": [
    "# happy playlist link\n",
    "happy_pl_link = \"https://open.spotify.com/playlist/7GhawGpb43Ctkq3PRP1fOL?si=435a7610d0434599\"\n",
    "playlist_URI = happy_pl_link.split(\"/\")[-1].split(\"?\")[0]\n",
    "track_uris = [x[\"track\"][\"uri\"] for x in sp.playlist_tracks(playlist_URI)[\"items\"]]"
   ]
  }
 ],
 "metadata": {
  "kernelspec": {
   "display_name": "Python 3",
   "language": "python",
   "name": "python3"
  },
  "language_info": {
   "codemirror_mode": {
    "name": "ipython",
    "version": 3
   },
   "file_extension": ".py",
   "mimetype": "text/x-python",
   "name": "python",
   "nbconvert_exporter": "python",
   "pygments_lexer": "ipython3",
   "version": "3.10.10"
  },
  "orig_nbformat": 4
 },
 "nbformat": 4,
 "nbformat_minor": 2
}
