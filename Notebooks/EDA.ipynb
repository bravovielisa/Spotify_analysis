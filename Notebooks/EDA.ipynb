{
 "cells": [
  {
   "cell_type": "markdown",
   "metadata": {},
   "source": [
    "# Librerias:"
   ]
  },
  {
   "cell_type": "code",
   "execution_count": 25,
   "metadata": {},
   "outputs": [],
   "source": [
    "import pandas as pd\n",
    "import numpy as np\n",
    "import matplotlib.pyplot as plt\n",
    "import seaborn as sns\n",
    "import plotly as px\n",
    "import plotly.express as px\n",
    "import math\n",
    "import plotly.graph_objects as go\n",
    "from plotly.subplots import make_subplots\n"
   ]
  },
  {
   "cell_type": "markdown",
   "metadata": {},
   "source": [
    "# Importamos el fichero:"
   ]
  },
  {
   "cell_type": "code",
   "execution_count": 10,
   "metadata": {},
   "outputs": [],
   "source": [
    "df = pd.read_csv(r\"../data/datos.csv\")"
   ]
  },
  {
   "cell_type": "markdown",
   "metadata": {},
   "source": [
    "# EDA (exploratory data analysis)"
   ]
  },
  {
   "cell_type": "markdown",
   "metadata": {},
   "source": [
    "## Análisis general:"
   ]
  },
  {
   "cell_type": "markdown",
   "metadata": {},
   "source": [
    "Tenemos 15 columnas y 450 filas:"
   ]
  },
  {
   "cell_type": "code",
   "execution_count": 11,
   "metadata": {},
   "outputs": [
    {
     "name": "stdout",
     "output_type": "stream",
     "text": [
      "<class 'pandas.core.frame.DataFrame'>\n",
      "RangeIndex: 450 entries, 0 to 449\n",
      "Data columns (total 15 columns):\n",
      " #   Column            Non-Null Count  Dtype  \n",
      "---  ------            --------------  -----  \n",
      " 0   Mood              450 non-null    object \n",
      " 1   artist_name       450 non-null    object \n",
      " 2   popularity        450 non-null    int64  \n",
      " 3   danceability      450 non-null    float64\n",
      " 4   energy            450 non-null    float64\n",
      " 5   key               450 non-null    int64  \n",
      " 6   loudness          450 non-null    float64\n",
      " 7   mode              450 non-null    int64  \n",
      " 8   speechiness       450 non-null    float64\n",
      " 9   acousticness      450 non-null    float64\n",
      " 10  instrumentalness  450 non-null    float64\n",
      " 11  liveness          450 non-null    float64\n",
      " 12  valence           450 non-null    float64\n",
      " 13  tempo             450 non-null    float64\n",
      " 14  duration_ms       450 non-null    int64  \n",
      "dtypes: float64(9), int64(4), object(2)\n",
      "memory usage: 52.9+ KB\n"
     ]
    }
   ],
   "source": [
    "df.info()"
   ]
  },
  {
   "cell_type": "markdown",
   "metadata": {},
   "source": [
    "## Análisis variables categóricas:"
   ]
  },
  {
   "cell_type": "markdown",
   "metadata": {},
   "source": [
    "¿Con qué muestra contamos?"
   ]
  },
  {
   "cell_type": "code",
   "execution_count": 24,
   "metadata": {},
   "outputs": [
    {
     "data": {
      "text/plain": [
       "450"
      ]
     },
     "execution_count": 24,
     "metadata": {},
     "output_type": "execute_result"
    }
   ],
   "source": [
    "df['Mood'].value_counts().sum()"
   ]
  },
  {
   "cell_type": "code",
   "execution_count": 17,
   "metadata": {},
   "outputs": [
    {
     "data": {
      "text/plain": [
       "Mood\n",
       "Happy    100\n",
       "Fear     100\n",
       "Focus    100\n",
       "Sad       85\n",
       "Anger     65\n",
       "Name: count, dtype: int64"
      ]
     },
     "execution_count": 17,
     "metadata": {},
     "output_type": "execute_result"
    }
   ],
   "source": [
    "df['Mood'].value_counts()"
   ]
  },
  {
   "cell_type": "code",
   "execution_count": 20,
   "metadata": {},
   "outputs": [
    {
     "data": {
      "application/vnd.plotly.v1+json": {
       "config": {
        "plotlyServerURL": "https://plot.ly"
       },
       "data": [
        {
         "alignmentgroup": "True",
         "hovertemplate": "x=%{x}<br>y=%{y}<extra></extra>",
         "legendgroup": "",
         "marker": {
          "color": "#F8766D",
          "pattern": {
           "shape": ""
          }
         },
         "name": "",
         "offsetgroup": "",
         "orientation": "v",
         "showlegend": false,
         "textposition": "auto",
         "type": "bar",
         "x": [
          "Happy",
          "Fear",
          "Focus",
          "Sad",
          "Anger"
         ],
         "xaxis": "x",
         "y": [
          100,
          100,
          100,
          85,
          65
         ],
         "yaxis": "y"
        }
       ],
       "layout": {
        "barmode": "relative",
        "legend": {
         "tracegroupgap": 0
        },
        "margin": {
         "t": 60
        },
        "template": {
         "data": {
          "bar": [
           {
            "error_x": {
             "color": "rgb(51,51,51)"
            },
            "error_y": {
             "color": "rgb(51,51,51)"
            },
            "marker": {
             "line": {
              "color": "rgb(237,237,237)",
              "width": 0.5
             },
             "pattern": {
              "fillmode": "overlay",
              "size": 10,
              "solidity": 0.2
             }
            },
            "type": "bar"
           }
          ],
          "barpolar": [
           {
            "marker": {
             "line": {
              "color": "rgb(237,237,237)",
              "width": 0.5
             },
             "pattern": {
              "fillmode": "overlay",
              "size": 10,
              "solidity": 0.2
             }
            },
            "type": "barpolar"
           }
          ],
          "carpet": [
           {
            "aaxis": {
             "endlinecolor": "rgb(51,51,51)",
             "gridcolor": "white",
             "linecolor": "white",
             "minorgridcolor": "white",
             "startlinecolor": "rgb(51,51,51)"
            },
            "baxis": {
             "endlinecolor": "rgb(51,51,51)",
             "gridcolor": "white",
             "linecolor": "white",
             "minorgridcolor": "white",
             "startlinecolor": "rgb(51,51,51)"
            },
            "type": "carpet"
           }
          ],
          "choropleth": [
           {
            "colorbar": {
             "outlinewidth": 0,
             "tickcolor": "rgb(237,237,237)",
             "ticklen": 6,
             "ticks": "inside"
            },
            "type": "choropleth"
           }
          ],
          "contour": [
           {
            "colorbar": {
             "outlinewidth": 0,
             "tickcolor": "rgb(237,237,237)",
             "ticklen": 6,
             "ticks": "inside"
            },
            "colorscale": [
             [
              0,
              "rgb(20,44,66)"
             ],
             [
              1,
              "rgb(90,179,244)"
             ]
            ],
            "type": "contour"
           }
          ],
          "contourcarpet": [
           {
            "colorbar": {
             "outlinewidth": 0,
             "tickcolor": "rgb(237,237,237)",
             "ticklen": 6,
             "ticks": "inside"
            },
            "type": "contourcarpet"
           }
          ],
          "heatmap": [
           {
            "colorbar": {
             "outlinewidth": 0,
             "tickcolor": "rgb(237,237,237)",
             "ticklen": 6,
             "ticks": "inside"
            },
            "colorscale": [
             [
              0,
              "rgb(20,44,66)"
             ],
             [
              1,
              "rgb(90,179,244)"
             ]
            ],
            "type": "heatmap"
           }
          ],
          "heatmapgl": [
           {
            "colorbar": {
             "outlinewidth": 0,
             "tickcolor": "rgb(237,237,237)",
             "ticklen": 6,
             "ticks": "inside"
            },
            "colorscale": [
             [
              0,
              "rgb(20,44,66)"
             ],
             [
              1,
              "rgb(90,179,244)"
             ]
            ],
            "type": "heatmapgl"
           }
          ],
          "histogram": [
           {
            "marker": {
             "pattern": {
              "fillmode": "overlay",
              "size": 10,
              "solidity": 0.2
             }
            },
            "type": "histogram"
           }
          ],
          "histogram2d": [
           {
            "colorbar": {
             "outlinewidth": 0,
             "tickcolor": "rgb(237,237,237)",
             "ticklen": 6,
             "ticks": "inside"
            },
            "colorscale": [
             [
              0,
              "rgb(20,44,66)"
             ],
             [
              1,
              "rgb(90,179,244)"
             ]
            ],
            "type": "histogram2d"
           }
          ],
          "histogram2dcontour": [
           {
            "colorbar": {
             "outlinewidth": 0,
             "tickcolor": "rgb(237,237,237)",
             "ticklen": 6,
             "ticks": "inside"
            },
            "colorscale": [
             [
              0,
              "rgb(20,44,66)"
             ],
             [
              1,
              "rgb(90,179,244)"
             ]
            ],
            "type": "histogram2dcontour"
           }
          ],
          "mesh3d": [
           {
            "colorbar": {
             "outlinewidth": 0,
             "tickcolor": "rgb(237,237,237)",
             "ticklen": 6,
             "ticks": "inside"
            },
            "type": "mesh3d"
           }
          ],
          "parcoords": [
           {
            "line": {
             "colorbar": {
              "outlinewidth": 0,
              "tickcolor": "rgb(237,237,237)",
              "ticklen": 6,
              "ticks": "inside"
             }
            },
            "type": "parcoords"
           }
          ],
          "pie": [
           {
            "automargin": true,
            "type": "pie"
           }
          ],
          "scatter": [
           {
            "fillpattern": {
             "fillmode": "overlay",
             "size": 10,
             "solidity": 0.2
            },
            "type": "scatter"
           }
          ],
          "scatter3d": [
           {
            "line": {
             "colorbar": {
              "outlinewidth": 0,
              "tickcolor": "rgb(237,237,237)",
              "ticklen": 6,
              "ticks": "inside"
             }
            },
            "marker": {
             "colorbar": {
              "outlinewidth": 0,
              "tickcolor": "rgb(237,237,237)",
              "ticklen": 6,
              "ticks": "inside"
             }
            },
            "type": "scatter3d"
           }
          ],
          "scattercarpet": [
           {
            "marker": {
             "colorbar": {
              "outlinewidth": 0,
              "tickcolor": "rgb(237,237,237)",
              "ticklen": 6,
              "ticks": "inside"
             }
            },
            "type": "scattercarpet"
           }
          ],
          "scattergeo": [
           {
            "marker": {
             "colorbar": {
              "outlinewidth": 0,
              "tickcolor": "rgb(237,237,237)",
              "ticklen": 6,
              "ticks": "inside"
             }
            },
            "type": "scattergeo"
           }
          ],
          "scattergl": [
           {
            "marker": {
             "colorbar": {
              "outlinewidth": 0,
              "tickcolor": "rgb(237,237,237)",
              "ticklen": 6,
              "ticks": "inside"
             }
            },
            "type": "scattergl"
           }
          ],
          "scattermapbox": [
           {
            "marker": {
             "colorbar": {
              "outlinewidth": 0,
              "tickcolor": "rgb(237,237,237)",
              "ticklen": 6,
              "ticks": "inside"
             }
            },
            "type": "scattermapbox"
           }
          ],
          "scatterpolar": [
           {
            "marker": {
             "colorbar": {
              "outlinewidth": 0,
              "tickcolor": "rgb(237,237,237)",
              "ticklen": 6,
              "ticks": "inside"
             }
            },
            "type": "scatterpolar"
           }
          ],
          "scatterpolargl": [
           {
            "marker": {
             "colorbar": {
              "outlinewidth": 0,
              "tickcolor": "rgb(237,237,237)",
              "ticklen": 6,
              "ticks": "inside"
             }
            },
            "type": "scatterpolargl"
           }
          ],
          "scatterternary": [
           {
            "marker": {
             "colorbar": {
              "outlinewidth": 0,
              "tickcolor": "rgb(237,237,237)",
              "ticklen": 6,
              "ticks": "inside"
             }
            },
            "type": "scatterternary"
           }
          ],
          "surface": [
           {
            "colorbar": {
             "outlinewidth": 0,
             "tickcolor": "rgb(237,237,237)",
             "ticklen": 6,
             "ticks": "inside"
            },
            "colorscale": [
             [
              0,
              "rgb(20,44,66)"
             ],
             [
              1,
              "rgb(90,179,244)"
             ]
            ],
            "type": "surface"
           }
          ],
          "table": [
           {
            "cells": {
             "fill": {
              "color": "rgb(237,237,237)"
             },
             "line": {
              "color": "white"
             }
            },
            "header": {
             "fill": {
              "color": "rgb(217,217,217)"
             },
             "line": {
              "color": "white"
             }
            },
            "type": "table"
           }
          ]
         },
         "layout": {
          "annotationdefaults": {
           "arrowhead": 0,
           "arrowwidth": 1
          },
          "autotypenumbers": "strict",
          "coloraxis": {
           "colorbar": {
            "outlinewidth": 0,
            "tickcolor": "rgb(237,237,237)",
            "ticklen": 6,
            "ticks": "inside"
           }
          },
          "colorscale": {
           "sequential": [
            [
             0,
             "rgb(20,44,66)"
            ],
            [
             1,
             "rgb(90,179,244)"
            ]
           ],
           "sequentialminus": [
            [
             0,
             "rgb(20,44,66)"
            ],
            [
             1,
             "rgb(90,179,244)"
            ]
           ]
          },
          "colorway": [
           "#F8766D",
           "#A3A500",
           "#00BF7D",
           "#00B0F6",
           "#E76BF3"
          ],
          "font": {
           "color": "rgb(51,51,51)"
          },
          "geo": {
           "bgcolor": "white",
           "lakecolor": "white",
           "landcolor": "rgb(237,237,237)",
           "showlakes": true,
           "showland": true,
           "subunitcolor": "white"
          },
          "hoverlabel": {
           "align": "left"
          },
          "hovermode": "closest",
          "paper_bgcolor": "white",
          "plot_bgcolor": "rgb(237,237,237)",
          "polar": {
           "angularaxis": {
            "gridcolor": "white",
            "linecolor": "white",
            "showgrid": true,
            "tickcolor": "rgb(51,51,51)",
            "ticks": "outside"
           },
           "bgcolor": "rgb(237,237,237)",
           "radialaxis": {
            "gridcolor": "white",
            "linecolor": "white",
            "showgrid": true,
            "tickcolor": "rgb(51,51,51)",
            "ticks": "outside"
           }
          },
          "scene": {
           "xaxis": {
            "backgroundcolor": "rgb(237,237,237)",
            "gridcolor": "white",
            "gridwidth": 2,
            "linecolor": "white",
            "showbackground": true,
            "showgrid": true,
            "tickcolor": "rgb(51,51,51)",
            "ticks": "outside",
            "zerolinecolor": "white"
           },
           "yaxis": {
            "backgroundcolor": "rgb(237,237,237)",
            "gridcolor": "white",
            "gridwidth": 2,
            "linecolor": "white",
            "showbackground": true,
            "showgrid": true,
            "tickcolor": "rgb(51,51,51)",
            "ticks": "outside",
            "zerolinecolor": "white"
           },
           "zaxis": {
            "backgroundcolor": "rgb(237,237,237)",
            "gridcolor": "white",
            "gridwidth": 2,
            "linecolor": "white",
            "showbackground": true,
            "showgrid": true,
            "tickcolor": "rgb(51,51,51)",
            "ticks": "outside",
            "zerolinecolor": "white"
           }
          },
          "shapedefaults": {
           "fillcolor": "black",
           "line": {
            "width": 0
           },
           "opacity": 0.3
          },
          "ternary": {
           "aaxis": {
            "gridcolor": "white",
            "linecolor": "white",
            "showgrid": true,
            "tickcolor": "rgb(51,51,51)",
            "ticks": "outside"
           },
           "baxis": {
            "gridcolor": "white",
            "linecolor": "white",
            "showgrid": true,
            "tickcolor": "rgb(51,51,51)",
            "ticks": "outside"
           },
           "bgcolor": "rgb(237,237,237)",
           "caxis": {
            "gridcolor": "white",
            "linecolor": "white",
            "showgrid": true,
            "tickcolor": "rgb(51,51,51)",
            "ticks": "outside"
           }
          },
          "xaxis": {
           "automargin": true,
           "gridcolor": "white",
           "linecolor": "white",
           "showgrid": true,
           "tickcolor": "rgb(51,51,51)",
           "ticks": "outside",
           "title": {
            "standoff": 15
           },
           "zerolinecolor": "white"
          },
          "yaxis": {
           "automargin": true,
           "gridcolor": "white",
           "linecolor": "white",
           "showgrid": true,
           "tickcolor": "rgb(51,51,51)",
           "ticks": "outside",
           "title": {
            "standoff": 15
           },
           "zerolinecolor": "white"
          }
         }
        },
        "xaxis": {
         "anchor": "y",
         "domain": [
          0,
          1
         ],
         "title": {
          "text": "Estado de ánimo/Mood"
         }
        },
        "yaxis": {
         "anchor": "x",
         "domain": [
          0,
          1
         ],
         "title": {
          "text": "Número de valores"
         }
        }
       }
      }
     },
     "metadata": {},
     "output_type": "display_data"
    }
   ],
   "source": [
    "\n",
    "mood_values = df['Mood'].value_counts()\n",
    "fig = px.bar(x=mood_values.index, y=mood_values.values, template = 'ggplot2')\n",
    "fig.update_layout(\n",
    "    xaxis_title=\"Estado de ánimo/Mood\",\n",
    "    yaxis_title=\"Número de valores\")\n",
    "fig.show()"
   ]
  },
  {
   "cell_type": "markdown",
   "metadata": {},
   "source": [
    "Como se puede ver de la playlist relacionado con el estado de ánimo tristeza o 'Sad' contaremos con 85 valores para entrenar el modelo y para el de ira o 'Anger' contamos con tan sólo 65 valores.  \n",
    "Si vemos que más adelante nos da problemas el modelo entrenado incluiremos en la muestra otras playlist para esos estados de animo más grandes."
   ]
  },
  {
   "cell_type": "markdown",
   "metadata": {},
   "source": [
    "En general, se suele decir que se necesitan al menos varias decenas o cientos de muestras de entrenamiento por cada variable de entrada (característica) que se utilice en el modelo. Esto se conoce como la regla de \"diez veces el número de variables por muestra\". Por ejemplo, si tienes 10 características, podrías necesitar al menos 100 muestras de entrenamiento.  \n",
    "\n",
    "Así que, en principio, mi análisis se centrará en unos 10 parámetros aproximadamente para que se cumpla esta regla, por lo menos para los cuatro primeros estados de ánimo.\n",
    "\n",
    "https://postindustria.com/how-much-data-is-required-for-machine-learning/#:~:text=The%20most%20common%20way%20to,parameters%20in%20your%20data%20set."
   ]
  },
  {
   "cell_type": "markdown",
   "metadata": {},
   "source": [
    "¿Se repetirá algún artista en los diferentes estados de ánimo?"
   ]
  },
  {
   "cell_type": "code",
   "execution_count": 15,
   "metadata": {},
   "outputs": [
    {
     "data": {
      "text/plain": [
       "artist_name\n",
       "Sam Smith               6\n",
       "Ed Sheeran              5\n",
       "Imber Sun               5\n",
       "Josef Briem             5\n",
       "Far & Beyond            5\n",
       "                       ..\n",
       "YONAKA                  1\n",
       "Bring Me The Horizon    1\n",
       "Alice Merton            1\n",
       "Muse                    1\n",
       "Melvin Barker           1\n",
       "Name: count, Length: 341, dtype: int64"
      ]
     },
     "execution_count": 15,
     "metadata": {},
     "output_type": "execute_result"
    }
   ],
   "source": [
    "df['artist_name'].value_counts()"
   ]
  },
  {
   "cell_type": "markdown",
   "metadata": {},
   "source": [
    "Parece que Sam Smith es el que más se repite."
   ]
  },
  {
   "cell_type": "markdown",
   "metadata": {},
   "source": [
    "## Análisis variables numéricas:"
   ]
  },
  {
   "cell_type": "code",
   "execution_count": 12,
   "metadata": {},
   "outputs": [
    {
     "data": {
      "text/html": [
       "<div>\n",
       "<style scoped>\n",
       "    .dataframe tbody tr th:only-of-type {\n",
       "        vertical-align: middle;\n",
       "    }\n",
       "\n",
       "    .dataframe tbody tr th {\n",
       "        vertical-align: top;\n",
       "    }\n",
       "\n",
       "    .dataframe thead th {\n",
       "        text-align: right;\n",
       "    }\n",
       "</style>\n",
       "<table border=\"1\" class=\"dataframe\">\n",
       "  <thead>\n",
       "    <tr style=\"text-align: right;\">\n",
       "      <th></th>\n",
       "      <th>popularity</th>\n",
       "      <th>danceability</th>\n",
       "      <th>energy</th>\n",
       "      <th>key</th>\n",
       "      <th>loudness</th>\n",
       "      <th>mode</th>\n",
       "      <th>speechiness</th>\n",
       "      <th>acousticness</th>\n",
       "      <th>instrumentalness</th>\n",
       "      <th>liveness</th>\n",
       "      <th>valence</th>\n",
       "      <th>tempo</th>\n",
       "      <th>duration_ms</th>\n",
       "    </tr>\n",
       "  </thead>\n",
       "  <tbody>\n",
       "    <tr>\n",
       "      <th>count</th>\n",
       "      <td>450.000000</td>\n",
       "      <td>450.000000</td>\n",
       "      <td>450.000000</td>\n",
       "      <td>450.000000</td>\n",
       "      <td>450.000000</td>\n",
       "      <td>450.000000</td>\n",
       "      <td>450.000000</td>\n",
       "      <td>450.000000</td>\n",
       "      <td>450.000000</td>\n",
       "      <td>450.000000</td>\n",
       "      <td>450.000000</td>\n",
       "      <td>450.000000</td>\n",
       "      <td>450.000000</td>\n",
       "    </tr>\n",
       "    <tr>\n",
       "      <th>mean</th>\n",
       "      <td>62.317778</td>\n",
       "      <td>0.556267</td>\n",
       "      <td>0.487121</td>\n",
       "      <td>5.311111</td>\n",
       "      <td>-10.211711</td>\n",
       "      <td>0.648889</td>\n",
       "      <td>0.061014</td>\n",
       "      <td>0.445754</td>\n",
       "      <td>0.295955</td>\n",
       "      <td>0.157851</td>\n",
       "      <td>0.363042</td>\n",
       "      <td>113.515611</td>\n",
       "      <td>196423.537778</td>\n",
       "    </tr>\n",
       "    <tr>\n",
       "      <th>std</th>\n",
       "      <td>17.743882</td>\n",
       "      <td>0.150213</td>\n",
       "      <td>0.286450</td>\n",
       "      <td>3.602908</td>\n",
       "      <td>6.174619</td>\n",
       "      <td>0.477849</td>\n",
       "      <td>0.055972</td>\n",
       "      <td>0.391267</td>\n",
       "      <td>0.399973</td>\n",
       "      <td>0.117311</td>\n",
       "      <td>0.254685</td>\n",
       "      <td>29.986572</td>\n",
       "      <td>56893.384509</td>\n",
       "    </tr>\n",
       "    <tr>\n",
       "      <th>min</th>\n",
       "      <td>14.000000</td>\n",
       "      <td>0.132000</td>\n",
       "      <td>0.009540</td>\n",
       "      <td>0.000000</td>\n",
       "      <td>-32.030000</td>\n",
       "      <td>0.000000</td>\n",
       "      <td>0.024300</td>\n",
       "      <td>0.000026</td>\n",
       "      <td>0.000000</td>\n",
       "      <td>0.029200</td>\n",
       "      <td>0.030900</td>\n",
       "      <td>35.366000</td>\n",
       "      <td>100467.000000</td>\n",
       "    </tr>\n",
       "    <tr>\n",
       "      <th>25%</th>\n",
       "      <td>52.000000</td>\n",
       "      <td>0.460250</td>\n",
       "      <td>0.212500</td>\n",
       "      <td>2.000000</td>\n",
       "      <td>-14.078250</td>\n",
       "      <td>0.000000</td>\n",
       "      <td>0.033850</td>\n",
       "      <td>0.036100</td>\n",
       "      <td>0.000002</td>\n",
       "      <td>0.099025</td>\n",
       "      <td>0.145250</td>\n",
       "      <td>90.094750</td>\n",
       "      <td>160663.750000</td>\n",
       "    </tr>\n",
       "    <tr>\n",
       "      <th>50%</th>\n",
       "      <td>60.500000</td>\n",
       "      <td>0.560000</td>\n",
       "      <td>0.485000</td>\n",
       "      <td>5.000000</td>\n",
       "      <td>-8.193000</td>\n",
       "      <td>1.000000</td>\n",
       "      <td>0.040200</td>\n",
       "      <td>0.372500</td>\n",
       "      <td>0.001090</td>\n",
       "      <td>0.111000</td>\n",
       "      <td>0.303500</td>\n",
       "      <td>113.010000</td>\n",
       "      <td>184054.500000</td>\n",
       "    </tr>\n",
       "    <tr>\n",
       "      <th>75%</th>\n",
       "      <td>79.000000</td>\n",
       "      <td>0.663500</td>\n",
       "      <td>0.752750</td>\n",
       "      <td>9.000000</td>\n",
       "      <td>-5.342000</td>\n",
       "      <td>1.000000</td>\n",
       "      <td>0.062725</td>\n",
       "      <td>0.874000</td>\n",
       "      <td>0.836000</td>\n",
       "      <td>0.157750</td>\n",
       "      <td>0.536750</td>\n",
       "      <td>130.012250</td>\n",
       "      <td>224634.000000</td>\n",
       "    </tr>\n",
       "    <tr>\n",
       "      <th>max</th>\n",
       "      <td>95.000000</td>\n",
       "      <td>0.954000</td>\n",
       "      <td>0.987000</td>\n",
       "      <td>11.000000</td>\n",
       "      <td>-1.789000</td>\n",
       "      <td>1.000000</td>\n",
       "      <td>0.519000</td>\n",
       "      <td>0.994000</td>\n",
       "      <td>0.973000</td>\n",
       "      <td>0.755000</td>\n",
       "      <td>0.965000</td>\n",
       "      <td>203.639000</td>\n",
       "      <td>518747.000000</td>\n",
       "    </tr>\n",
       "  </tbody>\n",
       "</table>\n",
       "</div>"
      ],
      "text/plain": [
       "       popularity  danceability      energy         key    loudness  \\\n",
       "count  450.000000    450.000000  450.000000  450.000000  450.000000   \n",
       "mean    62.317778      0.556267    0.487121    5.311111  -10.211711   \n",
       "std     17.743882      0.150213    0.286450    3.602908    6.174619   \n",
       "min     14.000000      0.132000    0.009540    0.000000  -32.030000   \n",
       "25%     52.000000      0.460250    0.212500    2.000000  -14.078250   \n",
       "50%     60.500000      0.560000    0.485000    5.000000   -8.193000   \n",
       "75%     79.000000      0.663500    0.752750    9.000000   -5.342000   \n",
       "max     95.000000      0.954000    0.987000   11.000000   -1.789000   \n",
       "\n",
       "             mode  speechiness  acousticness  instrumentalness    liveness  \\\n",
       "count  450.000000   450.000000    450.000000        450.000000  450.000000   \n",
       "mean     0.648889     0.061014      0.445754          0.295955    0.157851   \n",
       "std      0.477849     0.055972      0.391267          0.399973    0.117311   \n",
       "min      0.000000     0.024300      0.000026          0.000000    0.029200   \n",
       "25%      0.000000     0.033850      0.036100          0.000002    0.099025   \n",
       "50%      1.000000     0.040200      0.372500          0.001090    0.111000   \n",
       "75%      1.000000     0.062725      0.874000          0.836000    0.157750   \n",
       "max      1.000000     0.519000      0.994000          0.973000    0.755000   \n",
       "\n",
       "          valence       tempo    duration_ms  \n",
       "count  450.000000  450.000000     450.000000  \n",
       "mean     0.363042  113.515611  196423.537778  \n",
       "std      0.254685   29.986572   56893.384509  \n",
       "min      0.030900   35.366000  100467.000000  \n",
       "25%      0.145250   90.094750  160663.750000  \n",
       "50%      0.303500  113.010000  184054.500000  \n",
       "75%      0.536750  130.012250  224634.000000  \n",
       "max      0.965000  203.639000  518747.000000  "
      ]
     },
     "execution_count": 12,
     "metadata": {},
     "output_type": "execute_result"
    }
   ],
   "source": [
    "df.describe()"
   ]
  },
  {
   "cell_type": "markdown",
   "metadata": {},
   "source": [
    "### Análisis en detalle de las emociones y sus características:"
   ]
  },
  {
   "cell_type": "markdown",
   "metadata": {},
   "source": [
    "**En este apartado vamos a analizar una a una cada emoción para entender en que se ha basado Spotify a la hora de crear esas playlists.**"
   ]
  },
  {
   "cell_type": "markdown",
   "metadata": {},
   "source": [
    "Como hay variables entre rangos acotados se analizarán los ouliers de aquellas variables que no están acotadas, es decir, 'duration_ms', 'loudness' y 'tempo'."
   ]
  },
  {
   "cell_type": "markdown",
   "metadata": {},
   "source": [
    "#### 1. Felicidad / Happy"
   ]
  },
  {
   "cell_type": "code",
   "execution_count": 22,
   "metadata": {},
   "outputs": [
    {
     "data": {
      "text/html": [
       "<div>\n",
       "<style scoped>\n",
       "    .dataframe tbody tr th:only-of-type {\n",
       "        vertical-align: middle;\n",
       "    }\n",
       "\n",
       "    .dataframe tbody tr th {\n",
       "        vertical-align: top;\n",
       "    }\n",
       "\n",
       "    .dataframe thead th {\n",
       "        text-align: right;\n",
       "    }\n",
       "</style>\n",
       "<table border=\"1\" class=\"dataframe\">\n",
       "  <thead>\n",
       "    <tr style=\"text-align: right;\">\n",
       "      <th></th>\n",
       "      <th>Mood</th>\n",
       "      <th>artist_name</th>\n",
       "      <th>popularity</th>\n",
       "      <th>danceability</th>\n",
       "      <th>energy</th>\n",
       "      <th>key</th>\n",
       "      <th>loudness</th>\n",
       "      <th>mode</th>\n",
       "      <th>speechiness</th>\n",
       "      <th>acousticness</th>\n",
       "      <th>instrumentalness</th>\n",
       "      <th>liveness</th>\n",
       "      <th>valence</th>\n",
       "      <th>tempo</th>\n",
       "      <th>duration_ms</th>\n",
       "    </tr>\n",
       "  </thead>\n",
       "  <tbody>\n",
       "    <tr>\n",
       "      <th>0</th>\n",
       "      <td>Happy</td>\n",
       "      <td>David Guetta</td>\n",
       "      <td>95</td>\n",
       "      <td>0.561</td>\n",
       "      <td>0.965</td>\n",
       "      <td>7</td>\n",
       "      <td>-3.673</td>\n",
       "      <td>0</td>\n",
       "      <td>0.0343</td>\n",
       "      <td>0.00383</td>\n",
       "      <td>0.000007</td>\n",
       "      <td>0.3710</td>\n",
       "      <td>0.304</td>\n",
       "      <td>128.040</td>\n",
       "      <td>175238</td>\n",
       "    </tr>\n",
       "    <tr>\n",
       "      <th>1</th>\n",
       "      <td>Happy</td>\n",
       "      <td>OneRepublic</td>\n",
       "      <td>95</td>\n",
       "      <td>0.704</td>\n",
       "      <td>0.797</td>\n",
       "      <td>0</td>\n",
       "      <td>-5.927</td>\n",
       "      <td>1</td>\n",
       "      <td>0.0475</td>\n",
       "      <td>0.08260</td>\n",
       "      <td>0.000745</td>\n",
       "      <td>0.0546</td>\n",
       "      <td>0.825</td>\n",
       "      <td>139.994</td>\n",
       "      <td>148486</td>\n",
       "    </tr>\n",
       "    <tr>\n",
       "      <th>2</th>\n",
       "      <td>Happy</td>\n",
       "      <td>Dua Lipa</td>\n",
       "      <td>94</td>\n",
       "      <td>0.671</td>\n",
       "      <td>0.845</td>\n",
       "      <td>11</td>\n",
       "      <td>-4.930</td>\n",
       "      <td>0</td>\n",
       "      <td>0.0480</td>\n",
       "      <td>0.02070</td>\n",
       "      <td>0.000000</td>\n",
       "      <td>0.3290</td>\n",
       "      <td>0.775</td>\n",
       "      <td>110.056</td>\n",
       "      <td>176579</td>\n",
       "    </tr>\n",
       "    <tr>\n",
       "      <th>3</th>\n",
       "      <td>Happy</td>\n",
       "      <td>The Weeknd</td>\n",
       "      <td>94</td>\n",
       "      <td>0.514</td>\n",
       "      <td>0.730</td>\n",
       "      <td>1</td>\n",
       "      <td>-5.934</td>\n",
       "      <td>1</td>\n",
       "      <td>0.0598</td>\n",
       "      <td>0.00146</td>\n",
       "      <td>0.000095</td>\n",
       "      <td>0.0897</td>\n",
       "      <td>0.334</td>\n",
       "      <td>171.005</td>\n",
       "      <td>200040</td>\n",
       "    </tr>\n",
       "    <tr>\n",
       "      <th>4</th>\n",
       "      <td>Happy</td>\n",
       "      <td>Harry Styles</td>\n",
       "      <td>92</td>\n",
       "      <td>0.548</td>\n",
       "      <td>0.816</td>\n",
       "      <td>0</td>\n",
       "      <td>-4.209</td>\n",
       "      <td>1</td>\n",
       "      <td>0.0465</td>\n",
       "      <td>0.12200</td>\n",
       "      <td>0.000000</td>\n",
       "      <td>0.3350</td>\n",
       "      <td>0.557</td>\n",
       "      <td>95.390</td>\n",
       "      <td>174000</td>\n",
       "    </tr>\n",
       "    <tr>\n",
       "      <th>...</th>\n",
       "      <td>...</td>\n",
       "      <td>...</td>\n",
       "      <td>...</td>\n",
       "      <td>...</td>\n",
       "      <td>...</td>\n",
       "      <td>...</td>\n",
       "      <td>...</td>\n",
       "      <td>...</td>\n",
       "      <td>...</td>\n",
       "      <td>...</td>\n",
       "      <td>...</td>\n",
       "      <td>...</td>\n",
       "      <td>...</td>\n",
       "      <td>...</td>\n",
       "      <td>...</td>\n",
       "    </tr>\n",
       "    <tr>\n",
       "      <th>95</th>\n",
       "      <td>Happy</td>\n",
       "      <td>Coldplay</td>\n",
       "      <td>76</td>\n",
       "      <td>0.507</td>\n",
       "      <td>0.828</td>\n",
       "      <td>10</td>\n",
       "      <td>-6.023</td>\n",
       "      <td>1</td>\n",
       "      <td>0.0449</td>\n",
       "      <td>0.00711</td>\n",
       "      <td>0.000024</td>\n",
       "      <td>0.2610</td>\n",
       "      <td>0.489</td>\n",
       "      <td>178.032</td>\n",
       "      <td>211295</td>\n",
       "    </tr>\n",
       "    <tr>\n",
       "      <th>96</th>\n",
       "      <td>Happy</td>\n",
       "      <td>Justin Wellington</td>\n",
       "      <td>76</td>\n",
       "      <td>0.862</td>\n",
       "      <td>0.753</td>\n",
       "      <td>5</td>\n",
       "      <td>-5.356</td>\n",
       "      <td>1</td>\n",
       "      <td>0.0625</td>\n",
       "      <td>0.13100</td>\n",
       "      <td>0.000002</td>\n",
       "      <td>0.0770</td>\n",
       "      <td>0.827</td>\n",
       "      <td>105.039</td>\n",
       "      <td>182857</td>\n",
       "    </tr>\n",
       "    <tr>\n",
       "      <th>97</th>\n",
       "      <td>Happy</td>\n",
       "      <td>Kygo</td>\n",
       "      <td>75</td>\n",
       "      <td>0.750</td>\n",
       "      <td>0.797</td>\n",
       "      <td>0</td>\n",
       "      <td>-4.826</td>\n",
       "      <td>1</td>\n",
       "      <td>0.1180</td>\n",
       "      <td>0.29300</td>\n",
       "      <td>0.000000</td>\n",
       "      <td>0.3920</td>\n",
       "      <td>0.523</td>\n",
       "      <td>105.949</td>\n",
       "      <td>215203</td>\n",
       "    </tr>\n",
       "    <tr>\n",
       "      <th>98</th>\n",
       "      <td>Happy</td>\n",
       "      <td>Nathan Evans</td>\n",
       "      <td>75</td>\n",
       "      <td>0.722</td>\n",
       "      <td>0.893</td>\n",
       "      <td>0</td>\n",
       "      <td>-3.255</td>\n",
       "      <td>0</td>\n",
       "      <td>0.0475</td>\n",
       "      <td>0.04410</td>\n",
       "      <td>0.000937</td>\n",
       "      <td>0.0673</td>\n",
       "      <td>0.439</td>\n",
       "      <td>119.932</td>\n",
       "      <td>116750</td>\n",
       "    </tr>\n",
       "    <tr>\n",
       "      <th>99</th>\n",
       "      <td>Happy</td>\n",
       "      <td>Lizzo</td>\n",
       "      <td>75</td>\n",
       "      <td>0.464</td>\n",
       "      <td>0.724</td>\n",
       "      <td>7</td>\n",
       "      <td>-5.019</td>\n",
       "      <td>1</td>\n",
       "      <td>0.0705</td>\n",
       "      <td>0.01880</td>\n",
       "      <td>0.000000</td>\n",
       "      <td>0.6790</td>\n",
       "      <td>0.303</td>\n",
       "      <td>82.526</td>\n",
       "      <td>174749</td>\n",
       "    </tr>\n",
       "  </tbody>\n",
       "</table>\n",
       "<p>100 rows × 15 columns</p>\n",
       "</div>"
      ],
      "text/plain": [
       "     Mood        artist_name  popularity  danceability  energy  key  loudness  \\\n",
       "0   Happy       David Guetta          95         0.561   0.965    7    -3.673   \n",
       "1   Happy        OneRepublic          95         0.704   0.797    0    -5.927   \n",
       "2   Happy           Dua Lipa          94         0.671   0.845   11    -4.930   \n",
       "3   Happy         The Weeknd          94         0.514   0.730    1    -5.934   \n",
       "4   Happy       Harry Styles          92         0.548   0.816    0    -4.209   \n",
       "..    ...                ...         ...           ...     ...  ...       ...   \n",
       "95  Happy           Coldplay          76         0.507   0.828   10    -6.023   \n",
       "96  Happy  Justin Wellington          76         0.862   0.753    5    -5.356   \n",
       "97  Happy               Kygo          75         0.750   0.797    0    -4.826   \n",
       "98  Happy       Nathan Evans          75         0.722   0.893    0    -3.255   \n",
       "99  Happy              Lizzo          75         0.464   0.724    7    -5.019   \n",
       "\n",
       "    mode  speechiness  acousticness  instrumentalness  liveness  valence  \\\n",
       "0      0       0.0343       0.00383          0.000007    0.3710    0.304   \n",
       "1      1       0.0475       0.08260          0.000745    0.0546    0.825   \n",
       "2      0       0.0480       0.02070          0.000000    0.3290    0.775   \n",
       "3      1       0.0598       0.00146          0.000095    0.0897    0.334   \n",
       "4      1       0.0465       0.12200          0.000000    0.3350    0.557   \n",
       "..   ...          ...           ...               ...       ...      ...   \n",
       "95     1       0.0449       0.00711          0.000024    0.2610    0.489   \n",
       "96     1       0.0625       0.13100          0.000002    0.0770    0.827   \n",
       "97     1       0.1180       0.29300          0.000000    0.3920    0.523   \n",
       "98     0       0.0475       0.04410          0.000937    0.0673    0.439   \n",
       "99     1       0.0705       0.01880          0.000000    0.6790    0.303   \n",
       "\n",
       "      tempo  duration_ms  \n",
       "0   128.040       175238  \n",
       "1   139.994       148486  \n",
       "2   110.056       176579  \n",
       "3   171.005       200040  \n",
       "4    95.390       174000  \n",
       "..      ...          ...  \n",
       "95  178.032       211295  \n",
       "96  105.039       182857  \n",
       "97  105.949       215203  \n",
       "98  119.932       116750  \n",
       "99   82.526       174749  \n",
       "\n",
       "[100 rows x 15 columns]"
      ]
     },
     "execution_count": 22,
     "metadata": {},
     "output_type": "execute_result"
    }
   ],
   "source": [
    "happy_df = df[(df.Mood == 'Happy')]\n",
    "happy_df"
   ]
  },
  {
   "cell_type": "markdown",
   "metadata": {},
   "source": [
    "##### 1.1 Variables no acotadas (duration_ms, loudness y tempo)"
   ]
  },
  {
   "cell_type": "markdown",
   "metadata": {},
   "source": [
    "Análisis de outliers y distribución de las variables 'duration_ms', 'loudness' y 'tempo' para el estado de ánimo de felicidad: 'Happy'."
   ]
  },
  {
   "cell_type": "code",
   "execution_count": 27,
   "metadata": {},
   "outputs": [
    {
     "data": {
      "text/plain": [
       "Index(['Mood', 'artist_name', 'popularity', 'danceability', 'energy', 'key',\n",
       "       'loudness', 'mode', 'speechiness', 'acousticness', 'instrumentalness',\n",
       "       'liveness', 'valence', 'tempo', 'duration_ms'],\n",
       "      dtype='object')"
      ]
     },
     "execution_count": 27,
     "metadata": {},
     "output_type": "execute_result"
    }
   ],
   "source": [
    "happy_df.columns"
   ]
  },
  {
   "cell_type": "code",
   "execution_count": null,
   "metadata": {},
   "outputs": [],
   "source": [
    "# Convierto ms a minutos: 1 min = 60.000 ms\n",
    "happy_df['duration_ms'] = happy_df['duration_ms']/60000"
   ]
  },
  {
   "cell_type": "code",
   "execution_count": 40,
   "metadata": {},
   "outputs": [
    {
     "data": {
      "application/vnd.plotly.v1+json": {
       "config": {
        "plotlyServerURL": "https://plot.ly"
       },
       "data": [
        {
         "name": "duration_ms",
         "type": "box",
         "xaxis": "x",
         "y": [
          2.9206333333333334,
          2.4747666666666666,
          2.9429833333333333,
          3.334,
          2.9,
          2.326,
          2.671666666666667,
          1.8291666666666666,
          2.3336333333333332,
          3.4642166666666667,
          2.2376,
          2.3793166666666665,
          4.49445,
          4.785333333333333,
          3.3013666666666666,
          2.39835,
          2.4663333333333335,
          2.7711166666666665,
          3.0326333333333335,
          2.856,
          3.3175666666666666,
          2.59315,
          3.8786666666666667,
          3.2302166666666667,
          3.11645,
          2.2903166666666666,
          3.0171166666666664,
          2.730916666666667,
          2.70665,
          2.7935666666666665,
          3.8,
          3.2373333333333334,
          2.8192166666666667,
          2.2950666666666666,
          3.34555,
          2.829266666666667,
          3.197033333333333,
          4.352566666666666,
          3.4345166666666667,
          2.7671333333333332,
          3.1007166666666666,
          3.1826666666666665,
          3.216666666666667,
          3.3707666666666665,
          2.9614833333333332,
          2.7813666666666665,
          2.4240166666666667,
          2.7146,
          3.1035,
          2.3278666666666665,
          2.7100666666666666,
          3.481116666666667,
          2.7492,
          2.6776166666666668,
          3.4361166666666665,
          3.1184666666666665,
          3.82675,
          3.0548333333333333,
          1.9635,
          2.6794333333333333,
          3.665783333333333,
          3.0684,
          3.0852166666666667,
          2.9126666666666665,
          3.0621,
          2.844,
          3.80445,
          2.7335,
          3.1717666666666666,
          4.4242333333333335,
          3.1127,
          2.69755,
          2.961116666666667,
          2.9126666666666665,
          2.441683333333333,
          3.4906333333333333,
          2.894,
          2.1636166666666665,
          3.9591166666666666,
          3.5077166666666666,
          2.744,
          3.76315,
          3.06675,
          5.710216666666667,
          3.128033333333333,
          3.148233333333333,
          2.7415,
          3.355566666666667,
          3.01075,
          2.3508333333333336,
          2.81685,
          3.2977833333333333,
          2.4411833333333335,
          3.2991166666666665,
          3.0366666666666666,
          3.5215833333333335,
          3.047616666666667,
          3.5867166666666668,
          1.9458333333333333,
          2.9124833333333333
         ],
         "yaxis": "y"
        },
        {
         "name": "loudness",
         "type": "box",
         "xaxis": "x2",
         "y": [
          -3.673,
          -5.927,
          -4.93,
          -5.934,
          -4.209,
          -5.817,
          -7.91,
          -8.393,
          -3.404,
          -2.724,
          -3.562,
          -3.982,
          -7.223,
          -3.955,
          -6.181,
          -4.51,
          -4.25,
          -7.923,
          -4.56,
          -5.617,
          -4.41,
          -4.673,
          -4.662,
          -4.652,
          -2.881,
          -4.103,
          -5.065,
          -4.621,
          -4.057,
          -4.413,
          -6.39,
          -2.392,
          -3.424,
          -6.725,
          -8.303,
          -3.758,
          -6.305,
          -4.868,
          -6.377,
          -3.158,
          -3.394,
          -6.039,
          -4.105,
          -4.602,
          -4.541,
          -5.342,
          -4.407,
          -4.417,
          -2.926,
          -4.021,
          -4.403,
          -3.541,
          -5.187,
          -5.077,
          -7.548,
          -4.111,
          -4.439,
          -4.521,
          -6.405,
          -2.903,
          -5.041,
          -4.501,
          -6.643,
          -3.709,
          -4.878,
          -10.345,
          -7.159,
          -5.865,
          -4.248,
          -10.519,
          -2.966,
          -6.459,
          -6.594,
          -4.613,
          -4.606,
          -6.401,
          -6.919,
          -5.08,
          -5.721,
          -10.778,
          -5.339,
          -4.005,
          -4.872,
          -7.012,
          -3.285,
          -5.084,
          -4.999,
          -7.178,
          -7.206,
          -6.879,
          -8.173,
          -8.113,
          -6.784,
          -7.906,
          -3.764,
          -6.023,
          -5.356,
          -4.826,
          -3.255,
          -5.019
         ],
         "yaxis": "y2"
        },
        {
         "name": "tempo",
         "type": "box",
         "xaxis": "x3",
         "y": [
          128.04,
          139.994,
          110.056,
          171.005,
          95.39,
          105.001,
          115,
          144.072,
          127.944,
          141.02,
          144.981,
          115.955,
          114.988,
          130.001,
          90.03,
          87.981,
          125.972,
          128.101,
          124.039,
          85.026,
          114.044,
          119.966,
          160.019,
          107.041,
          96.133,
          124.077,
          137.958,
          140.069,
          129.857,
          112.972,
          104.988,
          100.012,
          122.98,
          178.781,
          127.812,
          122.872,
          108.966,
          135.007,
          94.996,
          122.953,
          91.972,
          116.947,
          182.162,
          126.041,
          127.034,
          110.002,
          126.002,
          109.829,
          128.04,
          122.062,
          123.97,
          110.968,
          109.997,
          110.054,
          119.987,
          155.932,
          114.914,
          123.941,
          173.925,
          123.849,
          101.956,
          123.988,
          136.985,
          116.001,
          124.111,
          92.875,
          103.952,
          119.843,
          112.985,
          128.025,
          113.969,
          79.994,
          151.891,
          108.625,
          126.004,
          98.029,
          82.488,
          123.045,
          113.035,
          91.066,
          96.051,
          113.796,
          169.945,
          124.009,
          103.031,
          124.015,
          123.979,
          123.977,
          113.039,
          159.702,
          117.003,
          92.977,
          102.004,
          105.049,
          123.056,
          178.032,
          105.039,
          105.949,
          119.932,
          82.526
         ],
         "yaxis": "y3"
        }
       ],
       "layout": {
        "annotations": [
         {
          "font": {
           "size": 16
          },
          "showarrow": false,
          "text": "duration_ms",
          "x": 0.14444444444444446,
          "xanchor": "center",
          "xref": "paper",
          "y": 1,
          "yanchor": "bottom",
          "yref": "paper"
         },
         {
          "font": {
           "size": 16
          },
          "showarrow": false,
          "text": "loudness",
          "x": 0.5,
          "xanchor": "center",
          "xref": "paper",
          "y": 1,
          "yanchor": "bottom",
          "yref": "paper"
         },
         {
          "font": {
           "size": 16
          },
          "showarrow": false,
          "text": "tempo",
          "x": 0.8555555555555556,
          "xanchor": "center",
          "xref": "paper",
          "y": 1,
          "yanchor": "bottom",
          "yref": "paper"
         }
        ],
        "height": 400,
        "template": {
         "data": {
          "bar": [
           {
            "error_x": {
             "color": "#2a3f5f"
            },
            "error_y": {
             "color": "#2a3f5f"
            },
            "marker": {
             "line": {
              "color": "#E5ECF6",
              "width": 0.5
             },
             "pattern": {
              "fillmode": "overlay",
              "size": 10,
              "solidity": 0.2
             }
            },
            "type": "bar"
           }
          ],
          "barpolar": [
           {
            "marker": {
             "line": {
              "color": "#E5ECF6",
              "width": 0.5
             },
             "pattern": {
              "fillmode": "overlay",
              "size": 10,
              "solidity": 0.2
             }
            },
            "type": "barpolar"
           }
          ],
          "carpet": [
           {
            "aaxis": {
             "endlinecolor": "#2a3f5f",
             "gridcolor": "white",
             "linecolor": "white",
             "minorgridcolor": "white",
             "startlinecolor": "#2a3f5f"
            },
            "baxis": {
             "endlinecolor": "#2a3f5f",
             "gridcolor": "white",
             "linecolor": "white",
             "minorgridcolor": "white",
             "startlinecolor": "#2a3f5f"
            },
            "type": "carpet"
           }
          ],
          "choropleth": [
           {
            "colorbar": {
             "outlinewidth": 0,
             "ticks": ""
            },
            "type": "choropleth"
           }
          ],
          "contour": [
           {
            "colorbar": {
             "outlinewidth": 0,
             "ticks": ""
            },
            "colorscale": [
             [
              0,
              "#0d0887"
             ],
             [
              0.1111111111111111,
              "#46039f"
             ],
             [
              0.2222222222222222,
              "#7201a8"
             ],
             [
              0.3333333333333333,
              "#9c179e"
             ],
             [
              0.4444444444444444,
              "#bd3786"
             ],
             [
              0.5555555555555556,
              "#d8576b"
             ],
             [
              0.6666666666666666,
              "#ed7953"
             ],
             [
              0.7777777777777778,
              "#fb9f3a"
             ],
             [
              0.8888888888888888,
              "#fdca26"
             ],
             [
              1,
              "#f0f921"
             ]
            ],
            "type": "contour"
           }
          ],
          "contourcarpet": [
           {
            "colorbar": {
             "outlinewidth": 0,
             "ticks": ""
            },
            "type": "contourcarpet"
           }
          ],
          "heatmap": [
           {
            "colorbar": {
             "outlinewidth": 0,
             "ticks": ""
            },
            "colorscale": [
             [
              0,
              "#0d0887"
             ],
             [
              0.1111111111111111,
              "#46039f"
             ],
             [
              0.2222222222222222,
              "#7201a8"
             ],
             [
              0.3333333333333333,
              "#9c179e"
             ],
             [
              0.4444444444444444,
              "#bd3786"
             ],
             [
              0.5555555555555556,
              "#d8576b"
             ],
             [
              0.6666666666666666,
              "#ed7953"
             ],
             [
              0.7777777777777778,
              "#fb9f3a"
             ],
             [
              0.8888888888888888,
              "#fdca26"
             ],
             [
              1,
              "#f0f921"
             ]
            ],
            "type": "heatmap"
           }
          ],
          "heatmapgl": [
           {
            "colorbar": {
             "outlinewidth": 0,
             "ticks": ""
            },
            "colorscale": [
             [
              0,
              "#0d0887"
             ],
             [
              0.1111111111111111,
              "#46039f"
             ],
             [
              0.2222222222222222,
              "#7201a8"
             ],
             [
              0.3333333333333333,
              "#9c179e"
             ],
             [
              0.4444444444444444,
              "#bd3786"
             ],
             [
              0.5555555555555556,
              "#d8576b"
             ],
             [
              0.6666666666666666,
              "#ed7953"
             ],
             [
              0.7777777777777778,
              "#fb9f3a"
             ],
             [
              0.8888888888888888,
              "#fdca26"
             ],
             [
              1,
              "#f0f921"
             ]
            ],
            "type": "heatmapgl"
           }
          ],
          "histogram": [
           {
            "marker": {
             "pattern": {
              "fillmode": "overlay",
              "size": 10,
              "solidity": 0.2
             }
            },
            "type": "histogram"
           }
          ],
          "histogram2d": [
           {
            "colorbar": {
             "outlinewidth": 0,
             "ticks": ""
            },
            "colorscale": [
             [
              0,
              "#0d0887"
             ],
             [
              0.1111111111111111,
              "#46039f"
             ],
             [
              0.2222222222222222,
              "#7201a8"
             ],
             [
              0.3333333333333333,
              "#9c179e"
             ],
             [
              0.4444444444444444,
              "#bd3786"
             ],
             [
              0.5555555555555556,
              "#d8576b"
             ],
             [
              0.6666666666666666,
              "#ed7953"
             ],
             [
              0.7777777777777778,
              "#fb9f3a"
             ],
             [
              0.8888888888888888,
              "#fdca26"
             ],
             [
              1,
              "#f0f921"
             ]
            ],
            "type": "histogram2d"
           }
          ],
          "histogram2dcontour": [
           {
            "colorbar": {
             "outlinewidth": 0,
             "ticks": ""
            },
            "colorscale": [
             [
              0,
              "#0d0887"
             ],
             [
              0.1111111111111111,
              "#46039f"
             ],
             [
              0.2222222222222222,
              "#7201a8"
             ],
             [
              0.3333333333333333,
              "#9c179e"
             ],
             [
              0.4444444444444444,
              "#bd3786"
             ],
             [
              0.5555555555555556,
              "#d8576b"
             ],
             [
              0.6666666666666666,
              "#ed7953"
             ],
             [
              0.7777777777777778,
              "#fb9f3a"
             ],
             [
              0.8888888888888888,
              "#fdca26"
             ],
             [
              1,
              "#f0f921"
             ]
            ],
            "type": "histogram2dcontour"
           }
          ],
          "mesh3d": [
           {
            "colorbar": {
             "outlinewidth": 0,
             "ticks": ""
            },
            "type": "mesh3d"
           }
          ],
          "parcoords": [
           {
            "line": {
             "colorbar": {
              "outlinewidth": 0,
              "ticks": ""
             }
            },
            "type": "parcoords"
           }
          ],
          "pie": [
           {
            "automargin": true,
            "type": "pie"
           }
          ],
          "scatter": [
           {
            "fillpattern": {
             "fillmode": "overlay",
             "size": 10,
             "solidity": 0.2
            },
            "type": "scatter"
           }
          ],
          "scatter3d": [
           {
            "line": {
             "colorbar": {
              "outlinewidth": 0,
              "ticks": ""
             }
            },
            "marker": {
             "colorbar": {
              "outlinewidth": 0,
              "ticks": ""
             }
            },
            "type": "scatter3d"
           }
          ],
          "scattercarpet": [
           {
            "marker": {
             "colorbar": {
              "outlinewidth": 0,
              "ticks": ""
             }
            },
            "type": "scattercarpet"
           }
          ],
          "scattergeo": [
           {
            "marker": {
             "colorbar": {
              "outlinewidth": 0,
              "ticks": ""
             }
            },
            "type": "scattergeo"
           }
          ],
          "scattergl": [
           {
            "marker": {
             "colorbar": {
              "outlinewidth": 0,
              "ticks": ""
             }
            },
            "type": "scattergl"
           }
          ],
          "scattermapbox": [
           {
            "marker": {
             "colorbar": {
              "outlinewidth": 0,
              "ticks": ""
             }
            },
            "type": "scattermapbox"
           }
          ],
          "scatterpolar": [
           {
            "marker": {
             "colorbar": {
              "outlinewidth": 0,
              "ticks": ""
             }
            },
            "type": "scatterpolar"
           }
          ],
          "scatterpolargl": [
           {
            "marker": {
             "colorbar": {
              "outlinewidth": 0,
              "ticks": ""
             }
            },
            "type": "scatterpolargl"
           }
          ],
          "scatterternary": [
           {
            "marker": {
             "colorbar": {
              "outlinewidth": 0,
              "ticks": ""
             }
            },
            "type": "scatterternary"
           }
          ],
          "surface": [
           {
            "colorbar": {
             "outlinewidth": 0,
             "ticks": ""
            },
            "colorscale": [
             [
              0,
              "#0d0887"
             ],
             [
              0.1111111111111111,
              "#46039f"
             ],
             [
              0.2222222222222222,
              "#7201a8"
             ],
             [
              0.3333333333333333,
              "#9c179e"
             ],
             [
              0.4444444444444444,
              "#bd3786"
             ],
             [
              0.5555555555555556,
              "#d8576b"
             ],
             [
              0.6666666666666666,
              "#ed7953"
             ],
             [
              0.7777777777777778,
              "#fb9f3a"
             ],
             [
              0.8888888888888888,
              "#fdca26"
             ],
             [
              1,
              "#f0f921"
             ]
            ],
            "type": "surface"
           }
          ],
          "table": [
           {
            "cells": {
             "fill": {
              "color": "#EBF0F8"
             },
             "line": {
              "color": "white"
             }
            },
            "header": {
             "fill": {
              "color": "#C8D4E3"
             },
             "line": {
              "color": "white"
             }
            },
            "type": "table"
           }
          ]
         },
         "layout": {
          "annotationdefaults": {
           "arrowcolor": "#2a3f5f",
           "arrowhead": 0,
           "arrowwidth": 1
          },
          "autotypenumbers": "strict",
          "coloraxis": {
           "colorbar": {
            "outlinewidth": 0,
            "ticks": ""
           }
          },
          "colorscale": {
           "diverging": [
            [
             0,
             "#8e0152"
            ],
            [
             0.1,
             "#c51b7d"
            ],
            [
             0.2,
             "#de77ae"
            ],
            [
             0.3,
             "#f1b6da"
            ],
            [
             0.4,
             "#fde0ef"
            ],
            [
             0.5,
             "#f7f7f7"
            ],
            [
             0.6,
             "#e6f5d0"
            ],
            [
             0.7,
             "#b8e186"
            ],
            [
             0.8,
             "#7fbc41"
            ],
            [
             0.9,
             "#4d9221"
            ],
            [
             1,
             "#276419"
            ]
           ],
           "sequential": [
            [
             0,
             "#0d0887"
            ],
            [
             0.1111111111111111,
             "#46039f"
            ],
            [
             0.2222222222222222,
             "#7201a8"
            ],
            [
             0.3333333333333333,
             "#9c179e"
            ],
            [
             0.4444444444444444,
             "#bd3786"
            ],
            [
             0.5555555555555556,
             "#d8576b"
            ],
            [
             0.6666666666666666,
             "#ed7953"
            ],
            [
             0.7777777777777778,
             "#fb9f3a"
            ],
            [
             0.8888888888888888,
             "#fdca26"
            ],
            [
             1,
             "#f0f921"
            ]
           ],
           "sequentialminus": [
            [
             0,
             "#0d0887"
            ],
            [
             0.1111111111111111,
             "#46039f"
            ],
            [
             0.2222222222222222,
             "#7201a8"
            ],
            [
             0.3333333333333333,
             "#9c179e"
            ],
            [
             0.4444444444444444,
             "#bd3786"
            ],
            [
             0.5555555555555556,
             "#d8576b"
            ],
            [
             0.6666666666666666,
             "#ed7953"
            ],
            [
             0.7777777777777778,
             "#fb9f3a"
            ],
            [
             0.8888888888888888,
             "#fdca26"
            ],
            [
             1,
             "#f0f921"
            ]
           ]
          },
          "colorway": [
           "#636efa",
           "#EF553B",
           "#00cc96",
           "#ab63fa",
           "#FFA15A",
           "#19d3f3",
           "#FF6692",
           "#B6E880",
           "#FF97FF",
           "#FECB52"
          ],
          "font": {
           "color": "#2a3f5f"
          },
          "geo": {
           "bgcolor": "white",
           "lakecolor": "white",
           "landcolor": "#E5ECF6",
           "showlakes": true,
           "showland": true,
           "subunitcolor": "white"
          },
          "hoverlabel": {
           "align": "left"
          },
          "hovermode": "closest",
          "mapbox": {
           "style": "light"
          },
          "paper_bgcolor": "white",
          "plot_bgcolor": "#E5ECF6",
          "polar": {
           "angularaxis": {
            "gridcolor": "white",
            "linecolor": "white",
            "ticks": ""
           },
           "bgcolor": "#E5ECF6",
           "radialaxis": {
            "gridcolor": "white",
            "linecolor": "white",
            "ticks": ""
           }
          },
          "scene": {
           "xaxis": {
            "backgroundcolor": "#E5ECF6",
            "gridcolor": "white",
            "gridwidth": 2,
            "linecolor": "white",
            "showbackground": true,
            "ticks": "",
            "zerolinecolor": "white"
           },
           "yaxis": {
            "backgroundcolor": "#E5ECF6",
            "gridcolor": "white",
            "gridwidth": 2,
            "linecolor": "white",
            "showbackground": true,
            "ticks": "",
            "zerolinecolor": "white"
           },
           "zaxis": {
            "backgroundcolor": "#E5ECF6",
            "gridcolor": "white",
            "gridwidth": 2,
            "linecolor": "white",
            "showbackground": true,
            "ticks": "",
            "zerolinecolor": "white"
           }
          },
          "shapedefaults": {
           "line": {
            "color": "#2a3f5f"
           }
          },
          "ternary": {
           "aaxis": {
            "gridcolor": "white",
            "linecolor": "white",
            "ticks": ""
           },
           "baxis": {
            "gridcolor": "white",
            "linecolor": "white",
            "ticks": ""
           },
           "bgcolor": "#E5ECF6",
           "caxis": {
            "gridcolor": "white",
            "linecolor": "white",
            "ticks": ""
           }
          },
          "title": {
           "x": 0.05
          },
          "xaxis": {
           "automargin": true,
           "gridcolor": "white",
           "linecolor": "white",
           "ticks": "",
           "title": {
            "standoff": 15
           },
           "zerolinecolor": "white",
           "zerolinewidth": 2
          },
          "yaxis": {
           "automargin": true,
           "gridcolor": "white",
           "linecolor": "white",
           "ticks": "",
           "title": {
            "standoff": 15
           },
           "zerolinecolor": "white",
           "zerolinewidth": 2
          }
         }
        },
        "title": {
         "text": "Distribución de variables:"
        },
        "width": 900,
        "xaxis": {
         "anchor": "y",
         "domain": [
          0,
          0.2888888888888889
         ]
        },
        "xaxis2": {
         "anchor": "y2",
         "domain": [
          0.35555555555555557,
          0.6444444444444445
         ]
        },
        "xaxis3": {
         "anchor": "y3",
         "domain": [
          0.7111111111111111,
          1
         ]
        },
        "yaxis": {
         "anchor": "x",
         "domain": [
          0,
          1
         ]
        },
        "yaxis2": {
         "anchor": "x2",
         "domain": [
          0,
          1
         ]
        },
        "yaxis3": {
         "anchor": "x3",
         "domain": [
          0,
          1
         ]
        }
       }
      }
     },
     "metadata": {},
     "output_type": "display_data"
    }
   ],
   "source": [
    "cols = ['duration_ms', 'loudness', 'tempo']\n",
    "\n",
    "fig = make_subplots(rows=1, cols=3, subplot_titles=cols)\n",
    "\n",
    "for i, col in enumerate(cols):\n",
    "    fig.add_trace(go.Box(y=happy_df[col], name=col), row=1, col=i+1)\n",
    "\n",
    "fig.update_layout(\n",
    "    title=\"Distribución de variables:\",\n",
    "    height=400,\n",
    "    width=900\n",
    ")\n",
    "\n",
    "fig.show()"
   ]
  },
  {
   "cell_type": "markdown",
   "metadata": {},
   "source": [
    "¿Cuántos outliers hay en cada variable para saber si eliminar o no?"
   ]
  },
  {
   "cell_type": "code",
   "execution_count": 52,
   "metadata": {},
   "outputs": [
    {
     "name": "stdout",
     "output_type": "stream",
     "text": [
      "La variable duration_ms tiene 5 valores outliers\n",
      "La variable loudness tiene 3 valores outliers\n",
      "La variable tempo tiene 8 valores outliers\n"
     ]
    }
   ],
   "source": [
    "# Para ver la cantidad de outliers que hay en nuestro dataset\n",
    "cols = ['duration_ms', 'loudness', 'tempo']\n",
    "def outliers1 (df):\n",
    "    for col in cols:\n",
    "        Q1 = df[col].quantile(0.25)\n",
    "        Q3 = df[col].quantile(0.75)\n",
    "        IQR = Q3 - Q1\n",
    "        outlierIzq = Q1-(1.5*IQR)\n",
    "        outlierDer = Q3+(1.5*IQR)\n",
    "        outliers = df[col][(df[col] < outlierIzq) | (df[col] > outlierDer)]\n",
    "        print(\"La variable \" + col + \" tiene \" + str(len(outliers)) + \" valores outliers\")\n",
    "\n",
    "    \n",
    "outliers1(happy_df)"
   ]
  },
  {
   "cell_type": "markdown",
   "metadata": {},
   "source": [
    "La duración tiene un outlier que puede distorsionar más el análisis. El resto no parece que sea necesario eliminarlas."
   ]
  },
  {
   "cell_type": "code",
   "execution_count": 44,
   "metadata": {},
   "outputs": [
    {
     "data": {
      "text/html": [
       "<div>\n",
       "<style scoped>\n",
       "    .dataframe tbody tr th:only-of-type {\n",
       "        vertical-align: middle;\n",
       "    }\n",
       "\n",
       "    .dataframe tbody tr th {\n",
       "        vertical-align: top;\n",
       "    }\n",
       "\n",
       "    .dataframe thead th {\n",
       "        text-align: right;\n",
       "    }\n",
       "</style>\n",
       "<table border=\"1\" class=\"dataframe\">\n",
       "  <thead>\n",
       "    <tr style=\"text-align: right;\">\n",
       "      <th></th>\n",
       "      <th>duration_ms</th>\n",
       "      <th>loudness</th>\n",
       "      <th>tempo</th>\n",
       "    </tr>\n",
       "  </thead>\n",
       "  <tbody>\n",
       "    <tr>\n",
       "      <th>count</th>\n",
       "      <td>100.000000</td>\n",
       "      <td>100.000000</td>\n",
       "      <td>100.000000</td>\n",
       "    </tr>\n",
       "    <tr>\n",
       "      <th>mean</th>\n",
       "      <td>3.043904</td>\n",
       "      <td>-5.299730</td>\n",
       "      <td>120.257050</td>\n",
       "    </tr>\n",
       "    <tr>\n",
       "      <th>std</th>\n",
       "      <td>0.600838</td>\n",
       "      <td>1.709559</td>\n",
       "      <td>21.574673</td>\n",
       "    </tr>\n",
       "    <tr>\n",
       "      <th>min</th>\n",
       "      <td>1.829167</td>\n",
       "      <td>-10.778000</td>\n",
       "      <td>79.994000</td>\n",
       "    </tr>\n",
       "    <tr>\n",
       "      <th>25%</th>\n",
       "      <td>2.713467</td>\n",
       "      <td>-6.392750</td>\n",
       "      <td>106.768000</td>\n",
       "    </tr>\n",
       "    <tr>\n",
       "      <th>50%</th>\n",
       "      <td>3.013933</td>\n",
       "      <td>-4.875000</td>\n",
       "      <td>119.949000</td>\n",
       "    </tr>\n",
       "    <tr>\n",
       "      <th>75%</th>\n",
       "      <td>3.305417</td>\n",
       "      <td>-4.109500</td>\n",
       "      <td>127.845000</td>\n",
       "    </tr>\n",
       "    <tr>\n",
       "      <th>max</th>\n",
       "      <td>5.710217</td>\n",
       "      <td>-2.392000</td>\n",
       "      <td>182.162000</td>\n",
       "    </tr>\n",
       "  </tbody>\n",
       "</table>\n",
       "</div>"
      ],
      "text/plain": [
       "       duration_ms    loudness       tempo\n",
       "count   100.000000  100.000000  100.000000\n",
       "mean      3.043904   -5.299730  120.257050\n",
       "std       0.600838    1.709559   21.574673\n",
       "min       1.829167  -10.778000   79.994000\n",
       "25%       2.713467   -6.392750  106.768000\n",
       "50%       3.013933   -4.875000  119.949000\n",
       "75%       3.305417   -4.109500  127.845000\n",
       "max       5.710217   -2.392000  182.162000"
      ]
     },
     "execution_count": 44,
     "metadata": {},
     "output_type": "execute_result"
    }
   ],
   "source": [
    "happy_df[['duration_ms','loudness','tempo']].describe()"
   ]
  },
  {
   "cell_type": "markdown",
   "metadata": {},
   "source": [
    "Las canciones de la playlist que representa la alegría:  \n",
    "- **Duración**: Tienen una duración media de 3 min. Vemos que la mayoría de los datos se encuentran entre 2 y 3 min. Hay algún outlier de canciones que duran más de 4 min.\n",
    "- **Sonoridad**: De media las canciones alegres rondan los -5 dB y hay ouliers que rondan los -10 dB.\n",
    "- **Tempo**: Las canciones alegres tienen de media 120 pulsaciones por minuto (Bps) y hay ouliers que se encuentran por encima de las pulsaciones por minuto."
   ]
  },
  {
   "cell_type": "markdown",
   "metadata": {},
   "source": [
    "##### 1.2 Variables acotadas"
   ]
  },
  {
   "cell_type": "code",
   "execution_count": 45,
   "metadata": {},
   "outputs": [
    {
     "data": {
      "text/plain": [
       "Index(['Mood', 'artist_name', 'popularity', 'danceability', 'energy', 'key',\n",
       "       'loudness', 'mode', 'speechiness', 'acousticness', 'instrumentalness',\n",
       "       'liveness', 'valence', 'tempo', 'duration_ms'],\n",
       "      dtype='object')"
      ]
     },
     "execution_count": 45,
     "metadata": {},
     "output_type": "execute_result"
    }
   ],
   "source": [
    "happy_df.columns"
   ]
  },
  {
   "cell_type": "markdown",
   "metadata": {},
   "source": [
    "Del resto de variables se ha realizado una selección y se analizan las más interesantes:"
   ]
  },
  {
   "cell_type": "code",
   "execution_count": 51,
   "metadata": {},
   "outputs": [
    {
     "data": {
      "application/vnd.plotly.v1+json": {
       "config": {
        "plotlyServerURL": "https://plot.ly"
       },
       "data": [
        {
         "name": "popularity",
         "type": "histogram",
         "xaxis": "x",
         "y": [
          95,
          95,
          94,
          94,
          92,
          90,
          79,
          89,
          94,
          89,
          88,
          88,
          87,
          87,
          86,
          86,
          85,
          85,
          85,
          85,
          85,
          85,
          84,
          84,
          84,
          84,
          84,
          84,
          84,
          84,
          84,
          83,
          83,
          83,
          84,
          83,
          83,
          83,
          83,
          83,
          83,
          82,
          82,
          82,
          82,
          82,
          82,
          82,
          82,
          82,
          81,
          81,
          81,
          81,
          81,
          81,
          81,
          81,
          81,
          80,
          80,
          80,
          80,
          80,
          79,
          79,
          79,
          79,
          79,
          79,
          79,
          79,
          79,
          79,
          79,
          78,
          78,
          78,
          78,
          78,
          77,
          77,
          77,
          77,
          77,
          77,
          76,
          76,
          76,
          76,
          76,
          76,
          76,
          76,
          76,
          76,
          76,
          75,
          75,
          75
         ],
         "yaxis": "y"
        },
        {
         "name": "danceability",
         "type": "histogram",
         "xaxis": "x2",
         "y": [
          0.561,
          0.704,
          0.671,
          0.514,
          0.548,
          0.954,
          0.745,
          0.77,
          0.602,
          0.788,
          0.838,
          0.898,
          0.856,
          0.762,
          0.677,
          0.737,
          0.563,
          0.746,
          0.701,
          0.771,
          0.746,
          0.912,
          0.647,
          0.72,
          0.697,
          0.662,
          0.842,
          0.697,
          0.637,
          0.685,
          0.588,
          0.673,
          0.824,
          0.593,
          0.717,
          0.601,
          0.836,
          0.461,
          0.756,
          0.734,
          0.57,
          0.759,
          0.61,
          0.667,
          0.763,
          0.893,
          0.729,
          0.735,
          0.758,
          0.774,
          0.787,
          0.762,
          0.759,
          0.717,
          0.699,
          0.721,
          0.698,
          0.794,
          0.652,
          0.612,
          0.798,
          0.776,
          0.681,
          0.614,
          0.595,
          0.664,
          0.693,
          0.659,
          0.789,
          0.792,
          0.792,
          0.647,
          0.815,
          0.568,
          0.675,
          0.824,
          0.731,
          0.748,
          0.669,
          0.399,
          0.769,
          0.668,
          0.48,
          0.88,
          0.662,
          0.621,
          0.654,
          0.814,
          0.852,
          0.476,
          0.682,
          0.64,
          0.723,
          0.575,
          0.672,
          0.507,
          0.862,
          0.75,
          0.722,
          0.464
         ],
         "yaxis": "y2"
        },
        {
         "name": "energy",
         "type": "histogram",
         "xaxis": "x3",
         "y": [
          0.965,
          0.797,
          0.845,
          0.73,
          0.816,
          0.516,
          0.681,
          0.58,
          0.91,
          0.859,
          0.525,
          0.732,
          0.609,
          0.766,
          0.696,
          0.846,
          0.908,
          0.622,
          0.88,
          0.671,
          0.765,
          0.774,
          0.822,
          0.715,
          0.683,
          0.821,
          0.734,
          0.875,
          0.69,
          0.738,
          0.701,
          0.902,
          0.862,
          0.503,
          0.455,
          0.713,
          0.743,
          0.834,
          0.697,
          0.874,
          0.756,
          0.54,
          0.83,
          0.75,
          0.782,
          0.851,
          0.763,
          0.812,
          0.913,
          0.792,
          0.833,
          0.701,
          0.459,
          0.671,
          0.529,
          0.769,
          0.895,
          0.793,
          0.879,
          0.862,
          0.675,
          0.808,
          0.513,
          0.934,
          0.784,
          0.316,
          0.678,
          0.615,
          0.711,
          0.518,
          0.874,
          0.765,
          0.518,
          0.824,
          0.986,
          0.587,
          0.626,
          0.841,
          0.832,
          0.491,
          0.479,
          0.802,
          0.895,
          0.483,
          0.807,
          0.747,
          0.787,
          0.628,
          0.698,
          0.594,
          0.72,
          0.648,
          0.772,
          0.571,
          0.855,
          0.828,
          0.753,
          0.797,
          0.893,
          0.724
         ],
         "yaxis": "y3"
        },
        {
         "name": "valence",
         "type": "histogram",
         "xaxis": "x4",
         "y": [
          0.304,
          0.825,
          0.775,
          0.334,
          0.557,
          0.624,
          0.613,
          0.753,
          0.228,
          0.822,
          0.884,
          0.96,
          0.928,
          0.442,
          0.464,
          0.546,
          0.171,
          0.719,
          0.623,
          0.714,
          0.737,
          0.632,
          0.962,
          0.357,
          0.603,
          0.47,
          0.952,
          0.774,
          0.457,
          0.8,
          0.443,
          0.538,
          0.801,
          0.71,
          0.389,
          0.464,
          0.722,
          0.471,
          0.956,
          0.905,
          0.72,
          0.75,
          0.728,
          0.486,
          0.502,
          0.959,
          0.864,
          0.584,
          0.658,
          0.507,
          0.796,
          0.742,
          0.695,
          0.699,
          0.121,
          0.915,
          0.838,
          0.677,
          0.789,
          0.354,
          0.842,
          0.494,
          0.167,
          0.436,
          0.479,
          0.541,
          0.404,
          0.193,
          0.753,
          0.512,
          0.934,
          0.855,
          0.877,
          0.753,
          0.57,
          0.514,
          0.862,
          0.717,
          0.7,
          0.151,
          0.803,
          0.769,
          0.356,
          0.827,
          0.772,
          0.426,
          0.409,
          0.677,
          0.324,
          0.314,
          0.673,
          0.548,
          0.58,
          0.449,
          0.646,
          0.489,
          0.827,
          0.523,
          0.439,
          0.303
         ],
         "yaxis": "y4"
        },
        {
         "name": "speechiness",
         "type": "histogram",
         "xaxis": "x5",
         "y": [
          0.0343,
          0.0475,
          0.048,
          0.0598,
          0.0465,
          0.16,
          0.0361,
          0.247,
          0.0308,
          0.0856,
          0.0665,
          0.0427,
          0.0824,
          0.0343,
          0.119,
          0.22,
          0.0868,
          0.241,
          0.0358,
          0.0553,
          0.0993,
          0.0455,
          0.183,
          0.04,
          0.117,
          0.13,
          0.0588,
          0.034,
          0.0405,
          0.0595,
          0.0402,
          0.0346,
          0.126,
          0.22,
          0.0276,
          0.0449,
          0.0656,
          0.0989,
          0.0401,
          0.0662,
          0.0257,
          0.0287,
          0.0571,
          0.0906,
          0.0346,
          0.0979,
          0.0363,
          0.151,
          0.113,
          0.0523,
          0.0478,
          0.0286,
          0.0948,
          0.0337,
          0.0487,
          0.105,
          0.0628,
          0.0842,
          0.0784,
          0.037,
          0.0442,
          0.117,
          0.0388,
          0.07,
          0.102,
          0.519,
          0.0324,
          0.0644,
          0.041,
          0.0847,
          0.0852,
          0.06,
          0.0897,
          0.0299,
          0.0974,
          0.0937,
          0.0805,
          0.177,
          0.0682,
          0.0538,
          0.0385,
          0.0917,
          0.0426,
          0.0505,
          0.0411,
          0.0337,
          0.0502,
          0.221,
          0.0629,
          0.135,
          0.0381,
          0.187,
          0.0792,
          0.0439,
          0.0397,
          0.0449,
          0.0625,
          0.118,
          0.0475,
          0.0705
         ],
         "yaxis": "y5"
        },
        {
         "name": "instrumentalness",
         "type": "histogram",
         "xaxis": "x6",
         "y": [
          0.00000707,
          0.000745,
          0,
          0.0000954,
          0,
          0.00000754,
          0,
          0.000127,
          0.000174,
          0,
          0.00000192,
          0.0000129,
          0.0000815,
          0.0000698,
          0,
          0,
          0,
          0.00113,
          0.00000733,
          0,
          0,
          0.0127,
          0,
          0.0568,
          0,
          0,
          0,
          0,
          0,
          0,
          0,
          0.000262,
          0.000132,
          0,
          0,
          0,
          0,
          0.0000114,
          0,
          0.0000114,
          0,
          0,
          0,
          0.000198,
          0.00000708,
          0.0000649,
          0.000001,
          0,
          0.0000692,
          0,
          0.00747,
          0.000158,
          0,
          0.00000254,
          0.0000359,
          0,
          0.0000145,
          0,
          0.0896,
          0,
          0,
          0.000127,
          0,
          0,
          0,
          0.00000203,
          0.00000571,
          0,
          0,
          0.000182,
          0.000365,
          0,
          0,
          0,
          0.00000496,
          0.000105,
          0,
          0.00000133,
          0,
          0.00089,
          0,
          0,
          0,
          0.00000868,
          0.00000355,
          0.000194,
          0,
          0,
          0.00000103,
          0,
          0,
          0,
          0.0000115,
          0,
          0,
          0.0000244,
          0.00000201,
          0,
          0.000937,
          0
         ],
         "yaxis": "y6"
        }
       ],
       "layout": {
        "annotations": [
         {
          "font": {
           "size": 16
          },
          "showarrow": false,
          "text": "popularity",
          "x": 0.14444444444444446,
          "xanchor": "center",
          "xref": "paper",
          "y": 1,
          "yanchor": "bottom",
          "yref": "paper"
         },
         {
          "font": {
           "size": 16
          },
          "showarrow": false,
          "text": "danceability",
          "x": 0.5,
          "xanchor": "center",
          "xref": "paper",
          "y": 1,
          "yanchor": "bottom",
          "yref": "paper"
         },
         {
          "font": {
           "size": 16
          },
          "showarrow": false,
          "text": "energy",
          "x": 0.8555555555555556,
          "xanchor": "center",
          "xref": "paper",
          "y": 1,
          "yanchor": "bottom",
          "yref": "paper"
         },
         {
          "font": {
           "size": 16
          },
          "showarrow": false,
          "text": "valence",
          "x": 0.14444444444444446,
          "xanchor": "center",
          "xref": "paper",
          "y": 0.375,
          "yanchor": "bottom",
          "yref": "paper"
         },
         {
          "font": {
           "size": 16
          },
          "showarrow": false,
          "text": "speechiness",
          "x": 0.5,
          "xanchor": "center",
          "xref": "paper",
          "y": 0.375,
          "yanchor": "bottom",
          "yref": "paper"
         },
         {
          "font": {
           "size": 16
          },
          "showarrow": false,
          "text": "instrumentalness",
          "x": 0.8555555555555556,
          "xanchor": "center",
          "xref": "paper",
          "y": 0.375,
          "yanchor": "bottom",
          "yref": "paper"
         }
        ],
        "height": 600,
        "template": {
         "data": {
          "bar": [
           {
            "error_x": {
             "color": "#2a3f5f"
            },
            "error_y": {
             "color": "#2a3f5f"
            },
            "marker": {
             "line": {
              "color": "#E5ECF6",
              "width": 0.5
             },
             "pattern": {
              "fillmode": "overlay",
              "size": 10,
              "solidity": 0.2
             }
            },
            "type": "bar"
           }
          ],
          "barpolar": [
           {
            "marker": {
             "line": {
              "color": "#E5ECF6",
              "width": 0.5
             },
             "pattern": {
              "fillmode": "overlay",
              "size": 10,
              "solidity": 0.2
             }
            },
            "type": "barpolar"
           }
          ],
          "carpet": [
           {
            "aaxis": {
             "endlinecolor": "#2a3f5f",
             "gridcolor": "white",
             "linecolor": "white",
             "minorgridcolor": "white",
             "startlinecolor": "#2a3f5f"
            },
            "baxis": {
             "endlinecolor": "#2a3f5f",
             "gridcolor": "white",
             "linecolor": "white",
             "minorgridcolor": "white",
             "startlinecolor": "#2a3f5f"
            },
            "type": "carpet"
           }
          ],
          "choropleth": [
           {
            "colorbar": {
             "outlinewidth": 0,
             "ticks": ""
            },
            "type": "choropleth"
           }
          ],
          "contour": [
           {
            "colorbar": {
             "outlinewidth": 0,
             "ticks": ""
            },
            "colorscale": [
             [
              0,
              "#0d0887"
             ],
             [
              0.1111111111111111,
              "#46039f"
             ],
             [
              0.2222222222222222,
              "#7201a8"
             ],
             [
              0.3333333333333333,
              "#9c179e"
             ],
             [
              0.4444444444444444,
              "#bd3786"
             ],
             [
              0.5555555555555556,
              "#d8576b"
             ],
             [
              0.6666666666666666,
              "#ed7953"
             ],
             [
              0.7777777777777778,
              "#fb9f3a"
             ],
             [
              0.8888888888888888,
              "#fdca26"
             ],
             [
              1,
              "#f0f921"
             ]
            ],
            "type": "contour"
           }
          ],
          "contourcarpet": [
           {
            "colorbar": {
             "outlinewidth": 0,
             "ticks": ""
            },
            "type": "contourcarpet"
           }
          ],
          "heatmap": [
           {
            "colorbar": {
             "outlinewidth": 0,
             "ticks": ""
            },
            "colorscale": [
             [
              0,
              "#0d0887"
             ],
             [
              0.1111111111111111,
              "#46039f"
             ],
             [
              0.2222222222222222,
              "#7201a8"
             ],
             [
              0.3333333333333333,
              "#9c179e"
             ],
             [
              0.4444444444444444,
              "#bd3786"
             ],
             [
              0.5555555555555556,
              "#d8576b"
             ],
             [
              0.6666666666666666,
              "#ed7953"
             ],
             [
              0.7777777777777778,
              "#fb9f3a"
             ],
             [
              0.8888888888888888,
              "#fdca26"
             ],
             [
              1,
              "#f0f921"
             ]
            ],
            "type": "heatmap"
           }
          ],
          "heatmapgl": [
           {
            "colorbar": {
             "outlinewidth": 0,
             "ticks": ""
            },
            "colorscale": [
             [
              0,
              "#0d0887"
             ],
             [
              0.1111111111111111,
              "#46039f"
             ],
             [
              0.2222222222222222,
              "#7201a8"
             ],
             [
              0.3333333333333333,
              "#9c179e"
             ],
             [
              0.4444444444444444,
              "#bd3786"
             ],
             [
              0.5555555555555556,
              "#d8576b"
             ],
             [
              0.6666666666666666,
              "#ed7953"
             ],
             [
              0.7777777777777778,
              "#fb9f3a"
             ],
             [
              0.8888888888888888,
              "#fdca26"
             ],
             [
              1,
              "#f0f921"
             ]
            ],
            "type": "heatmapgl"
           }
          ],
          "histogram": [
           {
            "marker": {
             "pattern": {
              "fillmode": "overlay",
              "size": 10,
              "solidity": 0.2
             }
            },
            "type": "histogram"
           }
          ],
          "histogram2d": [
           {
            "colorbar": {
             "outlinewidth": 0,
             "ticks": ""
            },
            "colorscale": [
             [
              0,
              "#0d0887"
             ],
             [
              0.1111111111111111,
              "#46039f"
             ],
             [
              0.2222222222222222,
              "#7201a8"
             ],
             [
              0.3333333333333333,
              "#9c179e"
             ],
             [
              0.4444444444444444,
              "#bd3786"
             ],
             [
              0.5555555555555556,
              "#d8576b"
             ],
             [
              0.6666666666666666,
              "#ed7953"
             ],
             [
              0.7777777777777778,
              "#fb9f3a"
             ],
             [
              0.8888888888888888,
              "#fdca26"
             ],
             [
              1,
              "#f0f921"
             ]
            ],
            "type": "histogram2d"
           }
          ],
          "histogram2dcontour": [
           {
            "colorbar": {
             "outlinewidth": 0,
             "ticks": ""
            },
            "colorscale": [
             [
              0,
              "#0d0887"
             ],
             [
              0.1111111111111111,
              "#46039f"
             ],
             [
              0.2222222222222222,
              "#7201a8"
             ],
             [
              0.3333333333333333,
              "#9c179e"
             ],
             [
              0.4444444444444444,
              "#bd3786"
             ],
             [
              0.5555555555555556,
              "#d8576b"
             ],
             [
              0.6666666666666666,
              "#ed7953"
             ],
             [
              0.7777777777777778,
              "#fb9f3a"
             ],
             [
              0.8888888888888888,
              "#fdca26"
             ],
             [
              1,
              "#f0f921"
             ]
            ],
            "type": "histogram2dcontour"
           }
          ],
          "mesh3d": [
           {
            "colorbar": {
             "outlinewidth": 0,
             "ticks": ""
            },
            "type": "mesh3d"
           }
          ],
          "parcoords": [
           {
            "line": {
             "colorbar": {
              "outlinewidth": 0,
              "ticks": ""
             }
            },
            "type": "parcoords"
           }
          ],
          "pie": [
           {
            "automargin": true,
            "type": "pie"
           }
          ],
          "scatter": [
           {
            "fillpattern": {
             "fillmode": "overlay",
             "size": 10,
             "solidity": 0.2
            },
            "type": "scatter"
           }
          ],
          "scatter3d": [
           {
            "line": {
             "colorbar": {
              "outlinewidth": 0,
              "ticks": ""
             }
            },
            "marker": {
             "colorbar": {
              "outlinewidth": 0,
              "ticks": ""
             }
            },
            "type": "scatter3d"
           }
          ],
          "scattercarpet": [
           {
            "marker": {
             "colorbar": {
              "outlinewidth": 0,
              "ticks": ""
             }
            },
            "type": "scattercarpet"
           }
          ],
          "scattergeo": [
           {
            "marker": {
             "colorbar": {
              "outlinewidth": 0,
              "ticks": ""
             }
            },
            "type": "scattergeo"
           }
          ],
          "scattergl": [
           {
            "marker": {
             "colorbar": {
              "outlinewidth": 0,
              "ticks": ""
             }
            },
            "type": "scattergl"
           }
          ],
          "scattermapbox": [
           {
            "marker": {
             "colorbar": {
              "outlinewidth": 0,
              "ticks": ""
             }
            },
            "type": "scattermapbox"
           }
          ],
          "scatterpolar": [
           {
            "marker": {
             "colorbar": {
              "outlinewidth": 0,
              "ticks": ""
             }
            },
            "type": "scatterpolar"
           }
          ],
          "scatterpolargl": [
           {
            "marker": {
             "colorbar": {
              "outlinewidth": 0,
              "ticks": ""
             }
            },
            "type": "scatterpolargl"
           }
          ],
          "scatterternary": [
           {
            "marker": {
             "colorbar": {
              "outlinewidth": 0,
              "ticks": ""
             }
            },
            "type": "scatterternary"
           }
          ],
          "surface": [
           {
            "colorbar": {
             "outlinewidth": 0,
             "ticks": ""
            },
            "colorscale": [
             [
              0,
              "#0d0887"
             ],
             [
              0.1111111111111111,
              "#46039f"
             ],
             [
              0.2222222222222222,
              "#7201a8"
             ],
             [
              0.3333333333333333,
              "#9c179e"
             ],
             [
              0.4444444444444444,
              "#bd3786"
             ],
             [
              0.5555555555555556,
              "#d8576b"
             ],
             [
              0.6666666666666666,
              "#ed7953"
             ],
             [
              0.7777777777777778,
              "#fb9f3a"
             ],
             [
              0.8888888888888888,
              "#fdca26"
             ],
             [
              1,
              "#f0f921"
             ]
            ],
            "type": "surface"
           }
          ],
          "table": [
           {
            "cells": {
             "fill": {
              "color": "#EBF0F8"
             },
             "line": {
              "color": "white"
             }
            },
            "header": {
             "fill": {
              "color": "#C8D4E3"
             },
             "line": {
              "color": "white"
             }
            },
            "type": "table"
           }
          ]
         },
         "layout": {
          "annotationdefaults": {
           "arrowcolor": "#2a3f5f",
           "arrowhead": 0,
           "arrowwidth": 1
          },
          "autotypenumbers": "strict",
          "coloraxis": {
           "colorbar": {
            "outlinewidth": 0,
            "ticks": ""
           }
          },
          "colorscale": {
           "diverging": [
            [
             0,
             "#8e0152"
            ],
            [
             0.1,
             "#c51b7d"
            ],
            [
             0.2,
             "#de77ae"
            ],
            [
             0.3,
             "#f1b6da"
            ],
            [
             0.4,
             "#fde0ef"
            ],
            [
             0.5,
             "#f7f7f7"
            ],
            [
             0.6,
             "#e6f5d0"
            ],
            [
             0.7,
             "#b8e186"
            ],
            [
             0.8,
             "#7fbc41"
            ],
            [
             0.9,
             "#4d9221"
            ],
            [
             1,
             "#276419"
            ]
           ],
           "sequential": [
            [
             0,
             "#0d0887"
            ],
            [
             0.1111111111111111,
             "#46039f"
            ],
            [
             0.2222222222222222,
             "#7201a8"
            ],
            [
             0.3333333333333333,
             "#9c179e"
            ],
            [
             0.4444444444444444,
             "#bd3786"
            ],
            [
             0.5555555555555556,
             "#d8576b"
            ],
            [
             0.6666666666666666,
             "#ed7953"
            ],
            [
             0.7777777777777778,
             "#fb9f3a"
            ],
            [
             0.8888888888888888,
             "#fdca26"
            ],
            [
             1,
             "#f0f921"
            ]
           ],
           "sequentialminus": [
            [
             0,
             "#0d0887"
            ],
            [
             0.1111111111111111,
             "#46039f"
            ],
            [
             0.2222222222222222,
             "#7201a8"
            ],
            [
             0.3333333333333333,
             "#9c179e"
            ],
            [
             0.4444444444444444,
             "#bd3786"
            ],
            [
             0.5555555555555556,
             "#d8576b"
            ],
            [
             0.6666666666666666,
             "#ed7953"
            ],
            [
             0.7777777777777778,
             "#fb9f3a"
            ],
            [
             0.8888888888888888,
             "#fdca26"
            ],
            [
             1,
             "#f0f921"
            ]
           ]
          },
          "colorway": [
           "#636efa",
           "#EF553B",
           "#00cc96",
           "#ab63fa",
           "#FFA15A",
           "#19d3f3",
           "#FF6692",
           "#B6E880",
           "#FF97FF",
           "#FECB52"
          ],
          "font": {
           "color": "#2a3f5f"
          },
          "geo": {
           "bgcolor": "white",
           "lakecolor": "white",
           "landcolor": "#E5ECF6",
           "showlakes": true,
           "showland": true,
           "subunitcolor": "white"
          },
          "hoverlabel": {
           "align": "left"
          },
          "hovermode": "closest",
          "mapbox": {
           "style": "light"
          },
          "paper_bgcolor": "white",
          "plot_bgcolor": "#E5ECF6",
          "polar": {
           "angularaxis": {
            "gridcolor": "white",
            "linecolor": "white",
            "ticks": ""
           },
           "bgcolor": "#E5ECF6",
           "radialaxis": {
            "gridcolor": "white",
            "linecolor": "white",
            "ticks": ""
           }
          },
          "scene": {
           "xaxis": {
            "backgroundcolor": "#E5ECF6",
            "gridcolor": "white",
            "gridwidth": 2,
            "linecolor": "white",
            "showbackground": true,
            "ticks": "",
            "zerolinecolor": "white"
           },
           "yaxis": {
            "backgroundcolor": "#E5ECF6",
            "gridcolor": "white",
            "gridwidth": 2,
            "linecolor": "white",
            "showbackground": true,
            "ticks": "",
            "zerolinecolor": "white"
           },
           "zaxis": {
            "backgroundcolor": "#E5ECF6",
            "gridcolor": "white",
            "gridwidth": 2,
            "linecolor": "white",
            "showbackground": true,
            "ticks": "",
            "zerolinecolor": "white"
           }
          },
          "shapedefaults": {
           "line": {
            "color": "#2a3f5f"
           }
          },
          "ternary": {
           "aaxis": {
            "gridcolor": "white",
            "linecolor": "white",
            "ticks": ""
           },
           "baxis": {
            "gridcolor": "white",
            "linecolor": "white",
            "ticks": ""
           },
           "bgcolor": "#E5ECF6",
           "caxis": {
            "gridcolor": "white",
            "linecolor": "white",
            "ticks": ""
           }
          },
          "title": {
           "x": 0.05
          },
          "xaxis": {
           "automargin": true,
           "gridcolor": "white",
           "linecolor": "white",
           "ticks": "",
           "title": {
            "standoff": 15
           },
           "zerolinecolor": "white",
           "zerolinewidth": 2
          },
          "yaxis": {
           "automargin": true,
           "gridcolor": "white",
           "linecolor": "white",
           "ticks": "",
           "title": {
            "standoff": 15
           },
           "zerolinecolor": "white",
           "zerolinewidth": 2
          }
         }
        },
        "title": {
         "text": "Histogramas:"
        },
        "width": 900,
        "xaxis": {
         "anchor": "y",
         "domain": [
          0,
          0.2888888888888889
         ]
        },
        "xaxis2": {
         "anchor": "y2",
         "domain": [
          0.35555555555555557,
          0.6444444444444445
         ]
        },
        "xaxis3": {
         "anchor": "y3",
         "domain": [
          0.7111111111111111,
          1
         ]
        },
        "xaxis4": {
         "anchor": "y4",
         "domain": [
          0,
          0.2888888888888889
         ]
        },
        "xaxis5": {
         "anchor": "y5",
         "domain": [
          0.35555555555555557,
          0.6444444444444445
         ]
        },
        "xaxis6": {
         "anchor": "y6",
         "domain": [
          0.7111111111111111,
          1
         ]
        },
        "yaxis": {
         "anchor": "x",
         "domain": [
          0.625,
          1
         ]
        },
        "yaxis2": {
         "anchor": "x2",
         "domain": [
          0.625,
          1
         ]
        },
        "yaxis3": {
         "anchor": "x3",
         "domain": [
          0.625,
          1
         ]
        },
        "yaxis4": {
         "anchor": "x4",
         "domain": [
          0,
          0.375
         ]
        },
        "yaxis5": {
         "anchor": "x5",
         "domain": [
          0,
          0.375
         ]
        },
        "yaxis6": {
         "anchor": "x6",
         "domain": [
          0,
          0.375
         ]
        }
       }
      }
     },
     "metadata": {},
     "output_type": "display_data"
    }
   ],
   "source": [
    "cols = ['popularity','danceability', 'energy','valence', 'speechiness','instrumentalness']\n",
    "\n",
    "fig = make_subplots(rows=2, cols=3, subplot_titles=cols)\n",
    "\n",
    "for i, col in enumerate(cols):\n",
    "    fig.add_trace(go.Histogram(y=happy_df[col], name=col), row=(i // 3) + 1, col=(i % 3) + 1)\n",
    "\n",
    "fig.update_layout(\n",
    "    title=\"Histogramas:\",\n",
    "    height=600,\n",
    "    width=900\n",
    ")\n",
    "\n",
    "fig.show()"
   ]
  },
  {
   "cell_type": "markdown",
   "metadata": {},
   "source": [
    "Vemos que las canciones alegres según la lista que ha generado Spotify:  \n",
    "- Por lo general son canciones bastante populares (con un 80 sobre 100 de media podriamos decir).  \n",
    "- En cuanto a la bailabilidad la mayoría son bailables ya que los valores están cerca del 1.  \n",
    "- Son canciones enérgicas.  \n",
    "- Respecto a la valencia son canciones alegres en su mayoría aunque parece que hay canciones con valencia muy baja. La valencia indica cuan alegres son las canciones por eso nos choca un poco al ver esto.  \n",
    "- Son canciones que no son habladas o rapeadas.  \n",
    "- Por último, vemos que casi todas las canciones tienen voces, no son puramente instrumentales."
   ]
  },
  {
   "cell_type": "markdown",
   "metadata": {},
   "source": [
    "#### 2. Tristeza / Sad"
   ]
  },
  {
   "cell_type": "code",
   "execution_count": 53,
   "metadata": {},
   "outputs": [
    {
     "data": {
      "text/html": [
       "<div>\n",
       "<style scoped>\n",
       "    .dataframe tbody tr th:only-of-type {\n",
       "        vertical-align: middle;\n",
       "    }\n",
       "\n",
       "    .dataframe tbody tr th {\n",
       "        vertical-align: top;\n",
       "    }\n",
       "\n",
       "    .dataframe thead th {\n",
       "        text-align: right;\n",
       "    }\n",
       "</style>\n",
       "<table border=\"1\" class=\"dataframe\">\n",
       "  <thead>\n",
       "    <tr style=\"text-align: right;\">\n",
       "      <th></th>\n",
       "      <th>Mood</th>\n",
       "      <th>artist_name</th>\n",
       "      <th>popularity</th>\n",
       "      <th>danceability</th>\n",
       "      <th>energy</th>\n",
       "      <th>key</th>\n",
       "      <th>loudness</th>\n",
       "      <th>mode</th>\n",
       "      <th>speechiness</th>\n",
       "      <th>acousticness</th>\n",
       "      <th>instrumentalness</th>\n",
       "      <th>liveness</th>\n",
       "      <th>valence</th>\n",
       "      <th>tempo</th>\n",
       "      <th>duration_ms</th>\n",
       "    </tr>\n",
       "  </thead>\n",
       "  <tbody>\n",
       "    <tr>\n",
       "      <th>100</th>\n",
       "      <td>Sad</td>\n",
       "      <td>Alec Benjamin</td>\n",
       "      <td>90</td>\n",
       "      <td>0.652</td>\n",
       "      <td>0.557</td>\n",
       "      <td>1</td>\n",
       "      <td>-5.714</td>\n",
       "      <td>0</td>\n",
       "      <td>0.0318</td>\n",
       "      <td>0.740</td>\n",
       "      <td>0.000000</td>\n",
       "      <td>0.1240</td>\n",
       "      <td>0.483</td>\n",
       "      <td>150.073</td>\n",
       "      <td>169354</td>\n",
       "    </tr>\n",
       "    <tr>\n",
       "      <th>101</th>\n",
       "      <td>Sad</td>\n",
       "      <td>Coldplay</td>\n",
       "      <td>89</td>\n",
       "      <td>0.557</td>\n",
       "      <td>0.442</td>\n",
       "      <td>5</td>\n",
       "      <td>-7.224</td>\n",
       "      <td>1</td>\n",
       "      <td>0.0243</td>\n",
       "      <td>0.731</td>\n",
       "      <td>0.000015</td>\n",
       "      <td>0.1100</td>\n",
       "      <td>0.213</td>\n",
       "      <td>146.277</td>\n",
       "      <td>309600</td>\n",
       "    </tr>\n",
       "    <tr>\n",
       "      <th>102</th>\n",
       "      <td>Sad</td>\n",
       "      <td>Ed Sheeran</td>\n",
       "      <td>89</td>\n",
       "      <td>0.614</td>\n",
       "      <td>0.379</td>\n",
       "      <td>4</td>\n",
       "      <td>-10.480</td>\n",
       "      <td>1</td>\n",
       "      <td>0.0476</td>\n",
       "      <td>0.607</td>\n",
       "      <td>0.000464</td>\n",
       "      <td>0.0986</td>\n",
       "      <td>0.201</td>\n",
       "      <td>107.989</td>\n",
       "      <td>258987</td>\n",
       "    </tr>\n",
       "    <tr>\n",
       "      <th>103</th>\n",
       "      <td>Sad</td>\n",
       "      <td>Sam Smith</td>\n",
       "      <td>88</td>\n",
       "      <td>0.681</td>\n",
       "      <td>0.372</td>\n",
       "      <td>5</td>\n",
       "      <td>-8.237</td>\n",
       "      <td>1</td>\n",
       "      <td>0.0432</td>\n",
       "      <td>0.640</td>\n",
       "      <td>0.000000</td>\n",
       "      <td>0.1690</td>\n",
       "      <td>0.476</td>\n",
       "      <td>91.873</td>\n",
       "      <td>201000</td>\n",
       "    </tr>\n",
       "    <tr>\n",
       "      <th>104</th>\n",
       "      <td>Sad</td>\n",
       "      <td>Olivia Rodrigo</td>\n",
       "      <td>87</td>\n",
       "      <td>0.369</td>\n",
       "      <td>0.272</td>\n",
       "      <td>9</td>\n",
       "      <td>-10.497</td>\n",
       "      <td>1</td>\n",
       "      <td>0.0364</td>\n",
       "      <td>0.866</td>\n",
       "      <td>0.000000</td>\n",
       "      <td>0.1470</td>\n",
       "      <td>0.218</td>\n",
       "      <td>172.929</td>\n",
       "      <td>152667</td>\n",
       "    </tr>\n",
       "    <tr>\n",
       "      <th>...</th>\n",
       "      <td>...</td>\n",
       "      <td>...</td>\n",
       "      <td>...</td>\n",
       "      <td>...</td>\n",
       "      <td>...</td>\n",
       "      <td>...</td>\n",
       "      <td>...</td>\n",
       "      <td>...</td>\n",
       "      <td>...</td>\n",
       "      <td>...</td>\n",
       "      <td>...</td>\n",
       "      <td>...</td>\n",
       "      <td>...</td>\n",
       "      <td>...</td>\n",
       "      <td>...</td>\n",
       "    </tr>\n",
       "    <tr>\n",
       "      <th>180</th>\n",
       "      <td>Sad</td>\n",
       "      <td>Noah Cyrus</td>\n",
       "      <td>60</td>\n",
       "      <td>0.618</td>\n",
       "      <td>0.428</td>\n",
       "      <td>7</td>\n",
       "      <td>-8.500</td>\n",
       "      <td>0</td>\n",
       "      <td>0.0380</td>\n",
       "      <td>0.592</td>\n",
       "      <td>0.000000</td>\n",
       "      <td>0.1920</td>\n",
       "      <td>0.359</td>\n",
       "      <td>142.021</td>\n",
       "      <td>190183</td>\n",
       "    </tr>\n",
       "    <tr>\n",
       "      <th>181</th>\n",
       "      <td>Sad</td>\n",
       "      <td>Babi</td>\n",
       "      <td>60</td>\n",
       "      <td>0.622</td>\n",
       "      <td>0.432</td>\n",
       "      <td>1</td>\n",
       "      <td>-6.203</td>\n",
       "      <td>0</td>\n",
       "      <td>0.0575</td>\n",
       "      <td>0.544</td>\n",
       "      <td>0.075400</td>\n",
       "      <td>0.2900</td>\n",
       "      <td>0.362</td>\n",
       "      <td>126.790</td>\n",
       "      <td>207354</td>\n",
       "    </tr>\n",
       "    <tr>\n",
       "      <th>182</th>\n",
       "      <td>Sad</td>\n",
       "      <td>Tom Odell</td>\n",
       "      <td>60</td>\n",
       "      <td>0.616</td>\n",
       "      <td>0.273</td>\n",
       "      <td>5</td>\n",
       "      <td>-12.470</td>\n",
       "      <td>1</td>\n",
       "      <td>0.0307</td>\n",
       "      <td>0.960</td>\n",
       "      <td>0.001050</td>\n",
       "      <td>0.1650</td>\n",
       "      <td>0.314</td>\n",
       "      <td>128.040</td>\n",
       "      <td>182029</td>\n",
       "    </tr>\n",
       "    <tr>\n",
       "      <th>183</th>\n",
       "      <td>Sad</td>\n",
       "      <td>C. Tangana</td>\n",
       "      <td>60</td>\n",
       "      <td>0.612</td>\n",
       "      <td>0.198</td>\n",
       "      <td>10</td>\n",
       "      <td>-12.909</td>\n",
       "      <td>1</td>\n",
       "      <td>0.0363</td>\n",
       "      <td>0.686</td>\n",
       "      <td>0.000526</td>\n",
       "      <td>0.1250</td>\n",
       "      <td>0.175</td>\n",
       "      <td>72.948</td>\n",
       "      <td>112440</td>\n",
       "    </tr>\n",
       "    <tr>\n",
       "      <th>184</th>\n",
       "      <td>Sad</td>\n",
       "      <td>Sam Smith</td>\n",
       "      <td>59</td>\n",
       "      <td>0.345</td>\n",
       "      <td>0.340</td>\n",
       "      <td>1</td>\n",
       "      <td>-9.337</td>\n",
       "      <td>1</td>\n",
       "      <td>0.0342</td>\n",
       "      <td>0.805</td>\n",
       "      <td>0.000017</td>\n",
       "      <td>0.1250</td>\n",
       "      <td>0.302</td>\n",
       "      <td>136.222</td>\n",
       "      <td>257651</td>\n",
       "    </tr>\n",
       "  </tbody>\n",
       "</table>\n",
       "<p>85 rows × 15 columns</p>\n",
       "</div>"
      ],
      "text/plain": [
       "    Mood     artist_name  popularity  danceability  energy  key  loudness  \\\n",
       "100  Sad   Alec Benjamin          90         0.652   0.557    1    -5.714   \n",
       "101  Sad        Coldplay          89         0.557   0.442    5    -7.224   \n",
       "102  Sad      Ed Sheeran          89         0.614   0.379    4   -10.480   \n",
       "103  Sad       Sam Smith          88         0.681   0.372    5    -8.237   \n",
       "104  Sad  Olivia Rodrigo          87         0.369   0.272    9   -10.497   \n",
       "..   ...             ...         ...           ...     ...  ...       ...   \n",
       "180  Sad      Noah Cyrus          60         0.618   0.428    7    -8.500   \n",
       "181  Sad            Babi          60         0.622   0.432    1    -6.203   \n",
       "182  Sad       Tom Odell          60         0.616   0.273    5   -12.470   \n",
       "183  Sad      C. Tangana          60         0.612   0.198   10   -12.909   \n",
       "184  Sad       Sam Smith          59         0.345   0.340    1    -9.337   \n",
       "\n",
       "     mode  speechiness  acousticness  instrumentalness  liveness  valence  \\\n",
       "100     0       0.0318         0.740          0.000000    0.1240    0.483   \n",
       "101     1       0.0243         0.731          0.000015    0.1100    0.213   \n",
       "102     1       0.0476         0.607          0.000464    0.0986    0.201   \n",
       "103     1       0.0432         0.640          0.000000    0.1690    0.476   \n",
       "104     1       0.0364         0.866          0.000000    0.1470    0.218   \n",
       "..    ...          ...           ...               ...       ...      ...   \n",
       "180     0       0.0380         0.592          0.000000    0.1920    0.359   \n",
       "181     0       0.0575         0.544          0.075400    0.2900    0.362   \n",
       "182     1       0.0307         0.960          0.001050    0.1650    0.314   \n",
       "183     1       0.0363         0.686          0.000526    0.1250    0.175   \n",
       "184     1       0.0342         0.805          0.000017    0.1250    0.302   \n",
       "\n",
       "       tempo  duration_ms  \n",
       "100  150.073       169354  \n",
       "101  146.277       309600  \n",
       "102  107.989       258987  \n",
       "103   91.873       201000  \n",
       "104  172.929       152667  \n",
       "..       ...          ...  \n",
       "180  142.021       190183  \n",
       "181  126.790       207354  \n",
       "182  128.040       182029  \n",
       "183   72.948       112440  \n",
       "184  136.222       257651  \n",
       "\n",
       "[85 rows x 15 columns]"
      ]
     },
     "execution_count": 53,
     "metadata": {},
     "output_type": "execute_result"
    }
   ],
   "source": [
    "sad_df = df[(df.Mood == 'Sad')]\n",
    "sad_df"
   ]
  },
  {
   "cell_type": "code",
   "execution_count": 55,
   "metadata": {},
   "outputs": [
    {
     "name": "stderr",
     "output_type": "stream",
     "text": [
      "C:\\Users\\User\\AppData\\Local\\Temp\\ipykernel_12988\\1980610954.py:2: SettingWithCopyWarning:\n",
      "\n",
      "\n",
      "A value is trying to be set on a copy of a slice from a DataFrame.\n",
      "Try using .loc[row_indexer,col_indexer] = value instead\n",
      "\n",
      "See the caveats in the documentation: https://pandas.pydata.org/pandas-docs/stable/user_guide/indexing.html#returning-a-view-versus-a-copy\n",
      "\n"
     ]
    }
   ],
   "source": [
    "# Convierto ms a minutos: 1 min = 60.000 ms\n",
    "sad_df['duration_ms'] = sad_df['duration_ms']/60000"
   ]
  },
  {
   "cell_type": "code",
   "execution_count": 56,
   "metadata": {},
   "outputs": [
    {
     "data": {
      "application/vnd.plotly.v1+json": {
       "config": {
        "plotlyServerURL": "https://plot.ly"
       },
       "data": [
        {
         "name": "duration_ms",
         "type": "box",
         "xaxis": "x",
         "y": [
          2.8225666666666664,
          5.16,
          4.31645,
          3.35,
          2.54445,
          4.0022166666666665,
          3.26795,
          2.8211,
          2.8208,
          3.9886166666666667,
          4.229333333333333,
          3.3364333333333334,
          4.04245,
          3.036016666666667,
          4.072666666666667,
          4.92555,
          3.48045,
          3.300666666666667,
          5.095783333333333,
          3.54345,
          3.295533333333333,
          4.754,
          3.458666666666667,
          2.949533333333333,
          3.0604,
          2.9846666666666666,
          3.4702,
          3.4566666666666666,
          3.4781166666666667,
          3.924516666666667,
          3.0591166666666667,
          4.412883333333333,
          2.564783333333333,
          4.765583333333334,
          4.0442,
          3.807383333333333,
          3.4286,
          4.814883333333333,
          2.9849,
          3.0517166666666666,
          4.040783333333334,
          4.374,
          3.218,
          3.022666666666667,
          2.92445,
          4.65355,
          3.1579166666666665,
          3.247516666666667,
          3.8708833333333335,
          3.9873333333333334,
          2.4062833333333336,
          2.7977833333333333,
          2.403583333333333,
          3.8911166666666666,
          5.383783333333334,
          3.95045,
          3.2299166666666665,
          3.298216666666667,
          3.5453333333333332,
          4.309783333333334,
          4.79555,
          2.627883333333333,
          3.1793666666666667,
          2.9,
          3.7457166666666666,
          3.1270166666666666,
          3.828666666666667,
          2.8020833333333335,
          4.241783333333333,
          3.125,
          3.3615666666666666,
          4.5217833333333335,
          3.957116666666667,
          4,
          2.76,
          3.57045,
          2.5508333333333333,
          3.5968833333333334,
          3.64615,
          2.9311166666666666,
          3.1697166666666665,
          3.4559,
          3.0338166666666666,
          1.874,
          4.294183333333334
         ],
         "yaxis": "y"
        },
        {
         "name": "loudness",
         "type": "box",
         "xaxis": "x2",
         "y": [
          -5.714,
          -7.224,
          -10.48,
          -8.237,
          -10.497,
          -6.502,
          -14.084,
          -9.389,
          -6.813,
          -5.795,
          -8.295,
          -10.109,
          -9.855,
          -5.679,
          -8.532,
          -8.74,
          -5.726,
          -7.301,
          -9.733,
          -6.972,
          -8.284,
          -8.251,
          -7.355,
          -10.654,
          -12.603,
          -16.541,
          -9.51,
          -14.461,
          -10.086,
          -17.237,
          -7.358,
          -6.815,
          -7.925,
          -6.057,
          -23.023,
          -14.061,
          -8.216,
          -6.886,
          -11.667,
          -8.57,
          -10.055,
          -6.809,
          -12.938,
          -4.147,
          -8.915,
          -9.718,
          -11.879,
          -20.338,
          -5.704,
          -7.298,
          -8.274,
          -10.22,
          -12.4,
          -8.751,
          -4.967,
          -5.056,
          -7.889,
          -10.413,
          -9.538,
          -4.476,
          -6.775,
          -5.372,
          -10.421,
          -8.696,
          -7.044,
          -8.893,
          -6.976,
          -9.646,
          -5.72,
          -3.966,
          -10.277,
          -10.608,
          -8.436,
          -7.982,
          -7.844,
          -4.328,
          -6.962,
          -6.927,
          -6.892,
          -4.577,
          -8.5,
          -6.203,
          -12.47,
          -12.909,
          -9.337
         ],
         "yaxis": "y2"
        },
        {
         "name": "tempo",
         "type": "box",
         "xaxis": "x3",
         "y": [
          150.073,
          146.277,
          107.989,
          91.873,
          172.929,
          110.011,
          82.642,
          124.148,
          171.854,
          82.001,
          95.351,
          115.284,
          144.912,
          109.891,
          122.769,
          138.178,
          77.355,
          102.078,
          187.376,
          95.971,
          74.953,
          135.187,
          89.792,
          139.644,
          71.884,
          118.917,
          86.997,
          104.95,
          75.801,
          75.004,
          81.956,
          111.96,
          147.887,
          109.821,
          79.764,
          112.881,
          124.025,
          151.97,
          69.754,
          144.89,
          120.984,
          130.103,
          72.246,
          69.973,
          176.947,
          127.981,
          116.86,
          100.996,
          175.697,
          103.87,
          122.442,
          127.938,
          109.708,
          129.885,
          150.732,
          106.991,
          171.649,
          170.22,
          177.06,
          91.784,
          143.149,
          90.872,
          98.6,
          74.511,
          114.441,
          99.623,
          89.923,
          119.93,
          90.289,
          88.064,
          177.215,
          81.994,
          126.705,
          85.956,
          99.907,
          164.848,
          78.528,
          199.853,
          173.318,
          132.028,
          142.021,
          126.79,
          128.04,
          72.948,
          136.222
         ],
         "yaxis": "y3"
        }
       ],
       "layout": {
        "annotations": [
         {
          "font": {
           "size": 16
          },
          "showarrow": false,
          "text": "duration_ms",
          "x": 0.14444444444444446,
          "xanchor": "center",
          "xref": "paper",
          "y": 1,
          "yanchor": "bottom",
          "yref": "paper"
         },
         {
          "font": {
           "size": 16
          },
          "showarrow": false,
          "text": "loudness",
          "x": 0.5,
          "xanchor": "center",
          "xref": "paper",
          "y": 1,
          "yanchor": "bottom",
          "yref": "paper"
         },
         {
          "font": {
           "size": 16
          },
          "showarrow": false,
          "text": "tempo",
          "x": 0.8555555555555556,
          "xanchor": "center",
          "xref": "paper",
          "y": 1,
          "yanchor": "bottom",
          "yref": "paper"
         }
        ],
        "height": 400,
        "template": {
         "data": {
          "bar": [
           {
            "error_x": {
             "color": "#2a3f5f"
            },
            "error_y": {
             "color": "#2a3f5f"
            },
            "marker": {
             "line": {
              "color": "#E5ECF6",
              "width": 0.5
             },
             "pattern": {
              "fillmode": "overlay",
              "size": 10,
              "solidity": 0.2
             }
            },
            "type": "bar"
           }
          ],
          "barpolar": [
           {
            "marker": {
             "line": {
              "color": "#E5ECF6",
              "width": 0.5
             },
             "pattern": {
              "fillmode": "overlay",
              "size": 10,
              "solidity": 0.2
             }
            },
            "type": "barpolar"
           }
          ],
          "carpet": [
           {
            "aaxis": {
             "endlinecolor": "#2a3f5f",
             "gridcolor": "white",
             "linecolor": "white",
             "minorgridcolor": "white",
             "startlinecolor": "#2a3f5f"
            },
            "baxis": {
             "endlinecolor": "#2a3f5f",
             "gridcolor": "white",
             "linecolor": "white",
             "minorgridcolor": "white",
             "startlinecolor": "#2a3f5f"
            },
            "type": "carpet"
           }
          ],
          "choropleth": [
           {
            "colorbar": {
             "outlinewidth": 0,
             "ticks": ""
            },
            "type": "choropleth"
           }
          ],
          "contour": [
           {
            "colorbar": {
             "outlinewidth": 0,
             "ticks": ""
            },
            "colorscale": [
             [
              0,
              "#0d0887"
             ],
             [
              0.1111111111111111,
              "#46039f"
             ],
             [
              0.2222222222222222,
              "#7201a8"
             ],
             [
              0.3333333333333333,
              "#9c179e"
             ],
             [
              0.4444444444444444,
              "#bd3786"
             ],
             [
              0.5555555555555556,
              "#d8576b"
             ],
             [
              0.6666666666666666,
              "#ed7953"
             ],
             [
              0.7777777777777778,
              "#fb9f3a"
             ],
             [
              0.8888888888888888,
              "#fdca26"
             ],
             [
              1,
              "#f0f921"
             ]
            ],
            "type": "contour"
           }
          ],
          "contourcarpet": [
           {
            "colorbar": {
             "outlinewidth": 0,
             "ticks": ""
            },
            "type": "contourcarpet"
           }
          ],
          "heatmap": [
           {
            "colorbar": {
             "outlinewidth": 0,
             "ticks": ""
            },
            "colorscale": [
             [
              0,
              "#0d0887"
             ],
             [
              0.1111111111111111,
              "#46039f"
             ],
             [
              0.2222222222222222,
              "#7201a8"
             ],
             [
              0.3333333333333333,
              "#9c179e"
             ],
             [
              0.4444444444444444,
              "#bd3786"
             ],
             [
              0.5555555555555556,
              "#d8576b"
             ],
             [
              0.6666666666666666,
              "#ed7953"
             ],
             [
              0.7777777777777778,
              "#fb9f3a"
             ],
             [
              0.8888888888888888,
              "#fdca26"
             ],
             [
              1,
              "#f0f921"
             ]
            ],
            "type": "heatmap"
           }
          ],
          "heatmapgl": [
           {
            "colorbar": {
             "outlinewidth": 0,
             "ticks": ""
            },
            "colorscale": [
             [
              0,
              "#0d0887"
             ],
             [
              0.1111111111111111,
              "#46039f"
             ],
             [
              0.2222222222222222,
              "#7201a8"
             ],
             [
              0.3333333333333333,
              "#9c179e"
             ],
             [
              0.4444444444444444,
              "#bd3786"
             ],
             [
              0.5555555555555556,
              "#d8576b"
             ],
             [
              0.6666666666666666,
              "#ed7953"
             ],
             [
              0.7777777777777778,
              "#fb9f3a"
             ],
             [
              0.8888888888888888,
              "#fdca26"
             ],
             [
              1,
              "#f0f921"
             ]
            ],
            "type": "heatmapgl"
           }
          ],
          "histogram": [
           {
            "marker": {
             "pattern": {
              "fillmode": "overlay",
              "size": 10,
              "solidity": 0.2
             }
            },
            "type": "histogram"
           }
          ],
          "histogram2d": [
           {
            "colorbar": {
             "outlinewidth": 0,
             "ticks": ""
            },
            "colorscale": [
             [
              0,
              "#0d0887"
             ],
             [
              0.1111111111111111,
              "#46039f"
             ],
             [
              0.2222222222222222,
              "#7201a8"
             ],
             [
              0.3333333333333333,
              "#9c179e"
             ],
             [
              0.4444444444444444,
              "#bd3786"
             ],
             [
              0.5555555555555556,
              "#d8576b"
             ],
             [
              0.6666666666666666,
              "#ed7953"
             ],
             [
              0.7777777777777778,
              "#fb9f3a"
             ],
             [
              0.8888888888888888,
              "#fdca26"
             ],
             [
              1,
              "#f0f921"
             ]
            ],
            "type": "histogram2d"
           }
          ],
          "histogram2dcontour": [
           {
            "colorbar": {
             "outlinewidth": 0,
             "ticks": ""
            },
            "colorscale": [
             [
              0,
              "#0d0887"
             ],
             [
              0.1111111111111111,
              "#46039f"
             ],
             [
              0.2222222222222222,
              "#7201a8"
             ],
             [
              0.3333333333333333,
              "#9c179e"
             ],
             [
              0.4444444444444444,
              "#bd3786"
             ],
             [
              0.5555555555555556,
              "#d8576b"
             ],
             [
              0.6666666666666666,
              "#ed7953"
             ],
             [
              0.7777777777777778,
              "#fb9f3a"
             ],
             [
              0.8888888888888888,
              "#fdca26"
             ],
             [
              1,
              "#f0f921"
             ]
            ],
            "type": "histogram2dcontour"
           }
          ],
          "mesh3d": [
           {
            "colorbar": {
             "outlinewidth": 0,
             "ticks": ""
            },
            "type": "mesh3d"
           }
          ],
          "parcoords": [
           {
            "line": {
             "colorbar": {
              "outlinewidth": 0,
              "ticks": ""
             }
            },
            "type": "parcoords"
           }
          ],
          "pie": [
           {
            "automargin": true,
            "type": "pie"
           }
          ],
          "scatter": [
           {
            "fillpattern": {
             "fillmode": "overlay",
             "size": 10,
             "solidity": 0.2
            },
            "type": "scatter"
           }
          ],
          "scatter3d": [
           {
            "line": {
             "colorbar": {
              "outlinewidth": 0,
              "ticks": ""
             }
            },
            "marker": {
             "colorbar": {
              "outlinewidth": 0,
              "ticks": ""
             }
            },
            "type": "scatter3d"
           }
          ],
          "scattercarpet": [
           {
            "marker": {
             "colorbar": {
              "outlinewidth": 0,
              "ticks": ""
             }
            },
            "type": "scattercarpet"
           }
          ],
          "scattergeo": [
           {
            "marker": {
             "colorbar": {
              "outlinewidth": 0,
              "ticks": ""
             }
            },
            "type": "scattergeo"
           }
          ],
          "scattergl": [
           {
            "marker": {
             "colorbar": {
              "outlinewidth": 0,
              "ticks": ""
             }
            },
            "type": "scattergl"
           }
          ],
          "scattermapbox": [
           {
            "marker": {
             "colorbar": {
              "outlinewidth": 0,
              "ticks": ""
             }
            },
            "type": "scattermapbox"
           }
          ],
          "scatterpolar": [
           {
            "marker": {
             "colorbar": {
              "outlinewidth": 0,
              "ticks": ""
             }
            },
            "type": "scatterpolar"
           }
          ],
          "scatterpolargl": [
           {
            "marker": {
             "colorbar": {
              "outlinewidth": 0,
              "ticks": ""
             }
            },
            "type": "scatterpolargl"
           }
          ],
          "scatterternary": [
           {
            "marker": {
             "colorbar": {
              "outlinewidth": 0,
              "ticks": ""
             }
            },
            "type": "scatterternary"
           }
          ],
          "surface": [
           {
            "colorbar": {
             "outlinewidth": 0,
             "ticks": ""
            },
            "colorscale": [
             [
              0,
              "#0d0887"
             ],
             [
              0.1111111111111111,
              "#46039f"
             ],
             [
              0.2222222222222222,
              "#7201a8"
             ],
             [
              0.3333333333333333,
              "#9c179e"
             ],
             [
              0.4444444444444444,
              "#bd3786"
             ],
             [
              0.5555555555555556,
              "#d8576b"
             ],
             [
              0.6666666666666666,
              "#ed7953"
             ],
             [
              0.7777777777777778,
              "#fb9f3a"
             ],
             [
              0.8888888888888888,
              "#fdca26"
             ],
             [
              1,
              "#f0f921"
             ]
            ],
            "type": "surface"
           }
          ],
          "table": [
           {
            "cells": {
             "fill": {
              "color": "#EBF0F8"
             },
             "line": {
              "color": "white"
             }
            },
            "header": {
             "fill": {
              "color": "#C8D4E3"
             },
             "line": {
              "color": "white"
             }
            },
            "type": "table"
           }
          ]
         },
         "layout": {
          "annotationdefaults": {
           "arrowcolor": "#2a3f5f",
           "arrowhead": 0,
           "arrowwidth": 1
          },
          "autotypenumbers": "strict",
          "coloraxis": {
           "colorbar": {
            "outlinewidth": 0,
            "ticks": ""
           }
          },
          "colorscale": {
           "diverging": [
            [
             0,
             "#8e0152"
            ],
            [
             0.1,
             "#c51b7d"
            ],
            [
             0.2,
             "#de77ae"
            ],
            [
             0.3,
             "#f1b6da"
            ],
            [
             0.4,
             "#fde0ef"
            ],
            [
             0.5,
             "#f7f7f7"
            ],
            [
             0.6,
             "#e6f5d0"
            ],
            [
             0.7,
             "#b8e186"
            ],
            [
             0.8,
             "#7fbc41"
            ],
            [
             0.9,
             "#4d9221"
            ],
            [
             1,
             "#276419"
            ]
           ],
           "sequential": [
            [
             0,
             "#0d0887"
            ],
            [
             0.1111111111111111,
             "#46039f"
            ],
            [
             0.2222222222222222,
             "#7201a8"
            ],
            [
             0.3333333333333333,
             "#9c179e"
            ],
            [
             0.4444444444444444,
             "#bd3786"
            ],
            [
             0.5555555555555556,
             "#d8576b"
            ],
            [
             0.6666666666666666,
             "#ed7953"
            ],
            [
             0.7777777777777778,
             "#fb9f3a"
            ],
            [
             0.8888888888888888,
             "#fdca26"
            ],
            [
             1,
             "#f0f921"
            ]
           ],
           "sequentialminus": [
            [
             0,
             "#0d0887"
            ],
            [
             0.1111111111111111,
             "#46039f"
            ],
            [
             0.2222222222222222,
             "#7201a8"
            ],
            [
             0.3333333333333333,
             "#9c179e"
            ],
            [
             0.4444444444444444,
             "#bd3786"
            ],
            [
             0.5555555555555556,
             "#d8576b"
            ],
            [
             0.6666666666666666,
             "#ed7953"
            ],
            [
             0.7777777777777778,
             "#fb9f3a"
            ],
            [
             0.8888888888888888,
             "#fdca26"
            ],
            [
             1,
             "#f0f921"
            ]
           ]
          },
          "colorway": [
           "#636efa",
           "#EF553B",
           "#00cc96",
           "#ab63fa",
           "#FFA15A",
           "#19d3f3",
           "#FF6692",
           "#B6E880",
           "#FF97FF",
           "#FECB52"
          ],
          "font": {
           "color": "#2a3f5f"
          },
          "geo": {
           "bgcolor": "white",
           "lakecolor": "white",
           "landcolor": "#E5ECF6",
           "showlakes": true,
           "showland": true,
           "subunitcolor": "white"
          },
          "hoverlabel": {
           "align": "left"
          },
          "hovermode": "closest",
          "mapbox": {
           "style": "light"
          },
          "paper_bgcolor": "white",
          "plot_bgcolor": "#E5ECF6",
          "polar": {
           "angularaxis": {
            "gridcolor": "white",
            "linecolor": "white",
            "ticks": ""
           },
           "bgcolor": "#E5ECF6",
           "radialaxis": {
            "gridcolor": "white",
            "linecolor": "white",
            "ticks": ""
           }
          },
          "scene": {
           "xaxis": {
            "backgroundcolor": "#E5ECF6",
            "gridcolor": "white",
            "gridwidth": 2,
            "linecolor": "white",
            "showbackground": true,
            "ticks": "",
            "zerolinecolor": "white"
           },
           "yaxis": {
            "backgroundcolor": "#E5ECF6",
            "gridcolor": "white",
            "gridwidth": 2,
            "linecolor": "white",
            "showbackground": true,
            "ticks": "",
            "zerolinecolor": "white"
           },
           "zaxis": {
            "backgroundcolor": "#E5ECF6",
            "gridcolor": "white",
            "gridwidth": 2,
            "linecolor": "white",
            "showbackground": true,
            "ticks": "",
            "zerolinecolor": "white"
           }
          },
          "shapedefaults": {
           "line": {
            "color": "#2a3f5f"
           }
          },
          "ternary": {
           "aaxis": {
            "gridcolor": "white",
            "linecolor": "white",
            "ticks": ""
           },
           "baxis": {
            "gridcolor": "white",
            "linecolor": "white",
            "ticks": ""
           },
           "bgcolor": "#E5ECF6",
           "caxis": {
            "gridcolor": "white",
            "linecolor": "white",
            "ticks": ""
           }
          },
          "title": {
           "x": 0.05
          },
          "xaxis": {
           "automargin": true,
           "gridcolor": "white",
           "linecolor": "white",
           "ticks": "",
           "title": {
            "standoff": 15
           },
           "zerolinecolor": "white",
           "zerolinewidth": 2
          },
          "yaxis": {
           "automargin": true,
           "gridcolor": "white",
           "linecolor": "white",
           "ticks": "",
           "title": {
            "standoff": 15
           },
           "zerolinecolor": "white",
           "zerolinewidth": 2
          }
         }
        },
        "title": {
         "text": "Distribución de variables:"
        },
        "width": 900,
        "xaxis": {
         "anchor": "y",
         "domain": [
          0,
          0.2888888888888889
         ]
        },
        "xaxis2": {
         "anchor": "y2",
         "domain": [
          0.35555555555555557,
          0.6444444444444445
         ]
        },
        "xaxis3": {
         "anchor": "y3",
         "domain": [
          0.7111111111111111,
          1
         ]
        },
        "yaxis": {
         "anchor": "x",
         "domain": [
          0,
          1
         ]
        },
        "yaxis2": {
         "anchor": "x2",
         "domain": [
          0,
          1
         ]
        },
        "yaxis3": {
         "anchor": "x3",
         "domain": [
          0,
          1
         ]
        }
       }
      }
     },
     "metadata": {},
     "output_type": "display_data"
    }
   ],
   "source": [
    "cols = ['duration_ms', 'loudness', 'tempo']\n",
    "\n",
    "fig = make_subplots(rows=1, cols=3, subplot_titles=cols)\n",
    "\n",
    "for i, col in enumerate(cols):\n",
    "    fig.add_trace(go.Box(y=sad_df[col], name=col), row=1, col=i+1)\n",
    "\n",
    "fig.update_layout(\n",
    "    title=\"Distribución de variables:\",\n",
    "    height=400,\n",
    "    width=900\n",
    ")\n",
    "\n",
    "fig.show()"
   ]
  },
  {
   "cell_type": "code",
   "execution_count": 57,
   "metadata": {},
   "outputs": [
    {
     "data": {
      "text/html": [
       "<div>\n",
       "<style scoped>\n",
       "    .dataframe tbody tr th:only-of-type {\n",
       "        vertical-align: middle;\n",
       "    }\n",
       "\n",
       "    .dataframe tbody tr th {\n",
       "        vertical-align: top;\n",
       "    }\n",
       "\n",
       "    .dataframe thead th {\n",
       "        text-align: right;\n",
       "    }\n",
       "</style>\n",
       "<table border=\"1\" class=\"dataframe\">\n",
       "  <thead>\n",
       "    <tr style=\"text-align: right;\">\n",
       "      <th></th>\n",
       "      <th>duration_ms</th>\n",
       "      <th>loudness</th>\n",
       "      <th>tempo</th>\n",
       "    </tr>\n",
       "  </thead>\n",
       "  <tbody>\n",
       "    <tr>\n",
       "      <th>count</th>\n",
       "      <td>85.000000</td>\n",
       "      <td>85.000000</td>\n",
       "      <td>85.000000</td>\n",
       "    </tr>\n",
       "    <tr>\n",
       "      <th>mean</th>\n",
       "      <td>3.561567</td>\n",
       "      <td>-8.926859</td>\n",
       "      <td>117.962824</td>\n",
       "    </tr>\n",
       "    <tr>\n",
       "      <th>std</th>\n",
       "      <td>0.716339</td>\n",
       "      <td>3.366766</td>\n",
       "      <td>32.949885</td>\n",
       "    </tr>\n",
       "    <tr>\n",
       "      <th>min</th>\n",
       "      <td>1.874000</td>\n",
       "      <td>-23.023000</td>\n",
       "      <td>69.754000</td>\n",
       "    </tr>\n",
       "    <tr>\n",
       "      <th>25%</th>\n",
       "      <td>3.036017</td>\n",
       "      <td>-10.220000</td>\n",
       "      <td>90.289000</td>\n",
       "    </tr>\n",
       "    <tr>\n",
       "      <th>50%</th>\n",
       "      <td>3.456667</td>\n",
       "      <td>-8.295000</td>\n",
       "      <td>114.441000</td>\n",
       "    </tr>\n",
       "    <tr>\n",
       "      <th>75%</th>\n",
       "      <td>4.002217</td>\n",
       "      <td>-6.886000</td>\n",
       "      <td>139.644000</td>\n",
       "    </tr>\n",
       "    <tr>\n",
       "      <th>max</th>\n",
       "      <td>5.383783</td>\n",
       "      <td>-3.966000</td>\n",
       "      <td>199.853000</td>\n",
       "    </tr>\n",
       "  </tbody>\n",
       "</table>\n",
       "</div>"
      ],
      "text/plain": [
       "       duration_ms   loudness       tempo\n",
       "count    85.000000  85.000000   85.000000\n",
       "mean      3.561567  -8.926859  117.962824\n",
       "std       0.716339   3.366766   32.949885\n",
       "min       1.874000 -23.023000   69.754000\n",
       "25%       3.036017 -10.220000   90.289000\n",
       "50%       3.456667  -8.295000  114.441000\n",
       "75%       4.002217  -6.886000  139.644000\n",
       "max       5.383783  -3.966000  199.853000"
      ]
     },
     "execution_count": 57,
     "metadata": {},
     "output_type": "execute_result"
    }
   ],
   "source": [
    "sad_df[['duration_ms','loudness','tempo']].describe()"
   ]
  },
  {
   "cell_type": "markdown",
   "metadata": {},
   "source": [
    "Las canciones de la playlist que representa la alegría:  \n",
    "- **Duración**: Tienen una duración media de 3 min. Vemos que la mayoría de los datos se encuentran entre 3 y 4 min. No hay ouliers.\n",
    "- **Sonoridad**: De media las canciones tristes se encuentran en los -8 dB y hay ouliers están por debajo de los -14 dB.\n",
    "- **Tempo**: Las canciones tristes tienen de media 117 pulsaciones por minuto (Bps) y parece que no hay ouliers."
   ]
  },
  {
   "cell_type": "markdown",
   "metadata": {},
   "source": [
    "# Encodear"
   ]
  },
  {
   "cell_type": "markdown",
   "metadata": {},
   "source": [
    "# Correlaciones"
   ]
  }
 ],
 "metadata": {
  "kernelspec": {
   "display_name": "Python 3",
   "language": "python",
   "name": "python3"
  },
  "language_info": {
   "codemirror_mode": {
    "name": "ipython",
    "version": 3
   },
   "file_extension": ".py",
   "mimetype": "text/x-python",
   "name": "python",
   "nbconvert_exporter": "python",
   "pygments_lexer": "ipython3",
   "version": "3.10.10"
  },
  "orig_nbformat": 4
 },
 "nbformat": 4,
 "nbformat_minor": 2
}
