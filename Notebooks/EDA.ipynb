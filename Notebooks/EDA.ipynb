{
 "cells": [
  {
   "cell_type": "markdown",
   "metadata": {},
   "source": [
    "# Librerias:"
   ]
  },
  {
   "cell_type": "code",
   "execution_count": 1,
   "metadata": {},
   "outputs": [],
   "source": [
    "import pandas as pd\n",
    "import numpy as np\n",
    "import matplotlib.pyplot as plt\n",
    "import seaborn as sns\n",
    "import plotly as px\n",
    "import plotly.express as px\n",
    "import math\n",
    "import plotly.graph_objects as go\n",
    "from plotly.subplots import make_subplots"
   ]
  },
  {
   "cell_type": "markdown",
   "metadata": {},
   "source": [
    "# Importamos el fichero:"
   ]
  },
  {
   "cell_type": "code",
   "execution_count": 2,
   "metadata": {},
   "outputs": [],
   "source": [
    "df = pd.read_csv(r\"../data/datos.csv\")"
   ]
  },
  {
   "cell_type": "markdown",
   "metadata": {},
   "source": [
    "# EDA (exploratory data analysis)"
   ]
  },
  {
   "cell_type": "markdown",
   "metadata": {},
   "source": [
    "## Análisis general:"
   ]
  },
  {
   "cell_type": "markdown",
   "metadata": {},
   "source": [
    "Tenemos 17 columnas y 465 filas:"
   ]
  },
  {
   "cell_type": "code",
   "execution_count": 3,
   "metadata": {},
   "outputs": [
    {
     "name": "stdout",
     "output_type": "stream",
     "text": [
      "<class 'pandas.core.frame.DataFrame'>\n",
      "RangeIndex: 465 entries, 0 to 464\n",
      "Data columns (total 17 columns):\n",
      " #   Column            Non-Null Count  Dtype  \n",
      "---  ------            --------------  -----  \n",
      " 0   Mood              465 non-null    object \n",
      " 1   song_name         465 non-null    object \n",
      " 2   song_uri          465 non-null    object \n",
      " 3   artist_name       465 non-null    object \n",
      " 4   popularity        465 non-null    int64  \n",
      " 5   danceability      465 non-null    float64\n",
      " 6   energy            465 non-null    float64\n",
      " 7   key               465 non-null    int64  \n",
      " 8   loudness          465 non-null    float64\n",
      " 9   mode              465 non-null    int64  \n",
      " 10  speechiness       465 non-null    float64\n",
      " 11  acousticness      465 non-null    float64\n",
      " 12  instrumentalness  465 non-null    float64\n",
      " 13  liveness          465 non-null    float64\n",
      " 14  valence           465 non-null    float64\n",
      " 15  tempo             465 non-null    float64\n",
      " 16  duration_ms       465 non-null    int64  \n",
      "dtypes: float64(9), int64(4), object(4)\n",
      "memory usage: 61.9+ KB\n"
     ]
    }
   ],
   "source": [
    "df.info()"
   ]
  },
  {
   "cell_type": "markdown",
   "metadata": {},
   "source": [
    "Como la variable song_uri está al principio y ocupa mucho espacio la muevo al final."
   ]
  },
  {
   "cell_type": "code",
   "execution_count": 4,
   "metadata": {},
   "outputs": [
    {
     "data": {
      "text/plain": [
       "16"
      ]
     },
     "execution_count": 4,
     "metadata": {},
     "output_type": "execute_result"
    }
   ],
   "source": [
    "df.columns.get_loc('duration_ms')"
   ]
  },
  {
   "cell_type": "code",
   "execution_count": 5,
   "metadata": {},
   "outputs": [
    {
     "data": {
      "text/html": [
       "<div>\n",
       "<style scoped>\n",
       "    .dataframe tbody tr th:only-of-type {\n",
       "        vertical-align: middle;\n",
       "    }\n",
       "\n",
       "    .dataframe tbody tr th {\n",
       "        vertical-align: top;\n",
       "    }\n",
       "\n",
       "    .dataframe thead th {\n",
       "        text-align: right;\n",
       "    }\n",
       "</style>\n",
       "<table border=\"1\" class=\"dataframe\">\n",
       "  <thead>\n",
       "    <tr style=\"text-align: right;\">\n",
       "      <th></th>\n",
       "      <th>Mood</th>\n",
       "      <th>song_name</th>\n",
       "      <th>artist_name</th>\n",
       "      <th>popularity</th>\n",
       "      <th>danceability</th>\n",
       "      <th>energy</th>\n",
       "      <th>key</th>\n",
       "      <th>loudness</th>\n",
       "      <th>mode</th>\n",
       "      <th>speechiness</th>\n",
       "      <th>acousticness</th>\n",
       "      <th>instrumentalness</th>\n",
       "      <th>liveness</th>\n",
       "      <th>valence</th>\n",
       "      <th>tempo</th>\n",
       "      <th>duration_ms</th>\n",
       "      <th>song_uri</th>\n",
       "    </tr>\n",
       "  </thead>\n",
       "  <tbody>\n",
       "    <tr>\n",
       "      <th>0</th>\n",
       "      <td>Happy</td>\n",
       "      <td>I'm Good (Blue)</td>\n",
       "      <td>David Guetta</td>\n",
       "      <td>95</td>\n",
       "      <td>0.561</td>\n",
       "      <td>0.9650</td>\n",
       "      <td>7</td>\n",
       "      <td>-3.673</td>\n",
       "      <td>0</td>\n",
       "      <td>0.0343</td>\n",
       "      <td>0.00383</td>\n",
       "      <td>0.000007</td>\n",
       "      <td>0.3710</td>\n",
       "      <td>0.304</td>\n",
       "      <td>128.040</td>\n",
       "      <td>175238</td>\n",
       "      <td>spotify:track:4uUG5RXrOk84mYEfFvj3cK</td>\n",
       "    </tr>\n",
       "    <tr>\n",
       "      <th>1</th>\n",
       "      <td>Happy</td>\n",
       "      <td>I Ain't Worried</td>\n",
       "      <td>OneRepublic</td>\n",
       "      <td>95</td>\n",
       "      <td>0.704</td>\n",
       "      <td>0.7970</td>\n",
       "      <td>0</td>\n",
       "      <td>-5.927</td>\n",
       "      <td>1</td>\n",
       "      <td>0.0475</td>\n",
       "      <td>0.08260</td>\n",
       "      <td>0.000745</td>\n",
       "      <td>0.0546</td>\n",
       "      <td>0.825</td>\n",
       "      <td>139.994</td>\n",
       "      <td>148486</td>\n",
       "      <td>spotify:track:4h9wh7iOZ0GGn8QVp4RAOB</td>\n",
       "    </tr>\n",
       "    <tr>\n",
       "      <th>2</th>\n",
       "      <td>Happy</td>\n",
       "      <td>Dance The Night (From Barbie The Album)</td>\n",
       "      <td>Dua Lipa</td>\n",
       "      <td>94</td>\n",
       "      <td>0.671</td>\n",
       "      <td>0.8450</td>\n",
       "      <td>11</td>\n",
       "      <td>-4.930</td>\n",
       "      <td>0</td>\n",
       "      <td>0.0480</td>\n",
       "      <td>0.02070</td>\n",
       "      <td>0.000000</td>\n",
       "      <td>0.3290</td>\n",
       "      <td>0.775</td>\n",
       "      <td>110.056</td>\n",
       "      <td>176579</td>\n",
       "      <td>spotify:track:1vYXt7VSjH9JIM5oRRo7vA</td>\n",
       "    </tr>\n",
       "    <tr>\n",
       "      <th>3</th>\n",
       "      <td>Happy</td>\n",
       "      <td>Blinding Lights</td>\n",
       "      <td>The Weeknd</td>\n",
       "      <td>94</td>\n",
       "      <td>0.514</td>\n",
       "      <td>0.7300</td>\n",
       "      <td>1</td>\n",
       "      <td>-5.934</td>\n",
       "      <td>1</td>\n",
       "      <td>0.0598</td>\n",
       "      <td>0.00146</td>\n",
       "      <td>0.000095</td>\n",
       "      <td>0.0897</td>\n",
       "      <td>0.334</td>\n",
       "      <td>171.005</td>\n",
       "      <td>200040</td>\n",
       "      <td>spotify:track:0VjIjW4GlUZAMYd2vXMi3b</td>\n",
       "    </tr>\n",
       "    <tr>\n",
       "      <th>4</th>\n",
       "      <td>Happy</td>\n",
       "      <td>Watermelon Sugar</td>\n",
       "      <td>Harry Styles</td>\n",
       "      <td>92</td>\n",
       "      <td>0.548</td>\n",
       "      <td>0.8160</td>\n",
       "      <td>0</td>\n",
       "      <td>-4.209</td>\n",
       "      <td>1</td>\n",
       "      <td>0.0465</td>\n",
       "      <td>0.12200</td>\n",
       "      <td>0.000000</td>\n",
       "      <td>0.3350</td>\n",
       "      <td>0.557</td>\n",
       "      <td>95.390</td>\n",
       "      <td>174000</td>\n",
       "      <td>spotify:track:6UelLqGlWMcVH1E5c4H7lY</td>\n",
       "    </tr>\n",
       "    <tr>\n",
       "      <th>...</th>\n",
       "      <td>...</td>\n",
       "      <td>...</td>\n",
       "      <td>...</td>\n",
       "      <td>...</td>\n",
       "      <td>...</td>\n",
       "      <td>...</td>\n",
       "      <td>...</td>\n",
       "      <td>...</td>\n",
       "      <td>...</td>\n",
       "      <td>...</td>\n",
       "      <td>...</td>\n",
       "      <td>...</td>\n",
       "      <td>...</td>\n",
       "      <td>...</td>\n",
       "      <td>...</td>\n",
       "      <td>...</td>\n",
       "      <td>...</td>\n",
       "    </tr>\n",
       "    <tr>\n",
       "      <th>460</th>\n",
       "      <td>Focus</td>\n",
       "      <td>remembrance</td>\n",
       "      <td>Dreams Ahead</td>\n",
       "      <td>52</td>\n",
       "      <td>0.461</td>\n",
       "      <td>0.0611</td>\n",
       "      <td>0</td>\n",
       "      <td>-20.555</td>\n",
       "      <td>1</td>\n",
       "      <td>0.0440</td>\n",
       "      <td>0.96200</td>\n",
       "      <td>0.930000</td>\n",
       "      <td>0.1120</td>\n",
       "      <td>0.133</td>\n",
       "      <td>120.815</td>\n",
       "      <td>195122</td>\n",
       "      <td>spotify:track:5NFybpngup7caMPSMiJ5ZO</td>\n",
       "    </tr>\n",
       "    <tr>\n",
       "      <th>461</th>\n",
       "      <td>Focus</td>\n",
       "      <td>Are You Up</td>\n",
       "      <td>Agnes Lundh</td>\n",
       "      <td>51</td>\n",
       "      <td>0.597</td>\n",
       "      <td>0.1270</td>\n",
       "      <td>5</td>\n",
       "      <td>-17.192</td>\n",
       "      <td>0</td>\n",
       "      <td>0.0370</td>\n",
       "      <td>0.99100</td>\n",
       "      <td>0.929000</td>\n",
       "      <td>0.1260</td>\n",
       "      <td>0.135</td>\n",
       "      <td>70.051</td>\n",
       "      <td>152597</td>\n",
       "      <td>spotify:track:3xXQCt1vfzNEOndrrNWAZR</td>\n",
       "    </tr>\n",
       "    <tr>\n",
       "      <th>462</th>\n",
       "      <td>Focus</td>\n",
       "      <td>waveforms</td>\n",
       "      <td>Joy Parade</td>\n",
       "      <td>51</td>\n",
       "      <td>0.389</td>\n",
       "      <td>0.1810</td>\n",
       "      <td>10</td>\n",
       "      <td>-18.820</td>\n",
       "      <td>1</td>\n",
       "      <td>0.0297</td>\n",
       "      <td>0.87400</td>\n",
       "      <td>0.905000</td>\n",
       "      <td>0.1160</td>\n",
       "      <td>0.111</td>\n",
       "      <td>73.869</td>\n",
       "      <td>163232</td>\n",
       "      <td>spotify:track:2dwLTY84vCeubyM0jM0nXH</td>\n",
       "    </tr>\n",
       "    <tr>\n",
       "      <th>463</th>\n",
       "      <td>Focus</td>\n",
       "      <td>miniature things</td>\n",
       "      <td>Tall Towers</td>\n",
       "      <td>51</td>\n",
       "      <td>0.487</td>\n",
       "      <td>0.1430</td>\n",
       "      <td>0</td>\n",
       "      <td>-17.674</td>\n",
       "      <td>1</td>\n",
       "      <td>0.0400</td>\n",
       "      <td>0.98100</td>\n",
       "      <td>0.904000</td>\n",
       "      <td>0.1150</td>\n",
       "      <td>0.160</td>\n",
       "      <td>73.548</td>\n",
       "      <td>143872</td>\n",
       "      <td>spotify:track:3kKwXt8TAU7wMCPIPCrzkI</td>\n",
       "    </tr>\n",
       "    <tr>\n",
       "      <th>464</th>\n",
       "      <td>Focus</td>\n",
       "      <td>Abroad and Overseas</td>\n",
       "      <td>Imala Zir</td>\n",
       "      <td>51</td>\n",
       "      <td>0.348</td>\n",
       "      <td>0.0549</td>\n",
       "      <td>4</td>\n",
       "      <td>-21.011</td>\n",
       "      <td>0</td>\n",
       "      <td>0.0358</td>\n",
       "      <td>0.98900</td>\n",
       "      <td>0.920000</td>\n",
       "      <td>0.1080</td>\n",
       "      <td>0.237</td>\n",
       "      <td>76.177</td>\n",
       "      <td>168185</td>\n",
       "      <td>spotify:track:23sRVWvfwWdagkqC95eS6n</td>\n",
       "    </tr>\n",
       "  </tbody>\n",
       "</table>\n",
       "<p>465 rows × 17 columns</p>\n",
       "</div>"
      ],
      "text/plain": [
       "      Mood                                song_name   artist_name  popularity  \\\n",
       "0    Happy                          I'm Good (Blue)  David Guetta          95   \n",
       "1    Happy                          I Ain't Worried   OneRepublic          95   \n",
       "2    Happy  Dance The Night (From Barbie The Album)      Dua Lipa          94   \n",
       "3    Happy                          Blinding Lights    The Weeknd          94   \n",
       "4    Happy                         Watermelon Sugar  Harry Styles          92   \n",
       "..     ...                                      ...           ...         ...   \n",
       "460  Focus                              remembrance  Dreams Ahead          52   \n",
       "461  Focus                               Are You Up   Agnes Lundh          51   \n",
       "462  Focus                                waveforms    Joy Parade          51   \n",
       "463  Focus                         miniature things   Tall Towers          51   \n",
       "464  Focus                      Abroad and Overseas     Imala Zir          51   \n",
       "\n",
       "     danceability  energy  key  loudness  mode  speechiness  acousticness  \\\n",
       "0           0.561  0.9650    7    -3.673     0       0.0343       0.00383   \n",
       "1           0.704  0.7970    0    -5.927     1       0.0475       0.08260   \n",
       "2           0.671  0.8450   11    -4.930     0       0.0480       0.02070   \n",
       "3           0.514  0.7300    1    -5.934     1       0.0598       0.00146   \n",
       "4           0.548  0.8160    0    -4.209     1       0.0465       0.12200   \n",
       "..            ...     ...  ...       ...   ...          ...           ...   \n",
       "460         0.461  0.0611    0   -20.555     1       0.0440       0.96200   \n",
       "461         0.597  0.1270    5   -17.192     0       0.0370       0.99100   \n",
       "462         0.389  0.1810   10   -18.820     1       0.0297       0.87400   \n",
       "463         0.487  0.1430    0   -17.674     1       0.0400       0.98100   \n",
       "464         0.348  0.0549    4   -21.011     0       0.0358       0.98900   \n",
       "\n",
       "     instrumentalness  liveness  valence    tempo  duration_ms  \\\n",
       "0            0.000007    0.3710    0.304  128.040       175238   \n",
       "1            0.000745    0.0546    0.825  139.994       148486   \n",
       "2            0.000000    0.3290    0.775  110.056       176579   \n",
       "3            0.000095    0.0897    0.334  171.005       200040   \n",
       "4            0.000000    0.3350    0.557   95.390       174000   \n",
       "..                ...       ...      ...      ...          ...   \n",
       "460          0.930000    0.1120    0.133  120.815       195122   \n",
       "461          0.929000    0.1260    0.135   70.051       152597   \n",
       "462          0.905000    0.1160    0.111   73.869       163232   \n",
       "463          0.904000    0.1150    0.160   73.548       143872   \n",
       "464          0.920000    0.1080    0.237   76.177       168185   \n",
       "\n",
       "                                 song_uri  \n",
       "0    spotify:track:4uUG5RXrOk84mYEfFvj3cK  \n",
       "1    spotify:track:4h9wh7iOZ0GGn8QVp4RAOB  \n",
       "2    spotify:track:1vYXt7VSjH9JIM5oRRo7vA  \n",
       "3    spotify:track:0VjIjW4GlUZAMYd2vXMi3b  \n",
       "4    spotify:track:6UelLqGlWMcVH1E5c4H7lY  \n",
       "..                                    ...  \n",
       "460  spotify:track:5NFybpngup7caMPSMiJ5ZO  \n",
       "461  spotify:track:3xXQCt1vfzNEOndrrNWAZR  \n",
       "462  spotify:track:2dwLTY84vCeubyM0jM0nXH  \n",
       "463  spotify:track:3kKwXt8TAU7wMCPIPCrzkI  \n",
       "464  spotify:track:23sRVWvfwWdagkqC95eS6n  \n",
       "\n",
       "[465 rows x 17 columns]"
      ]
     },
     "execution_count": 5,
     "metadata": {},
     "output_type": "execute_result"
    }
   ],
   "source": [
    "# Extraer la columna\n",
    "column_to_move = df.pop('song_uri')\n",
    "\n",
    "# Insertar la columna en la posición deseada\n",
    "df.insert(16, 'song_uri', column_to_move)\n",
    "df"
   ]
  },
  {
   "cell_type": "markdown",
   "metadata": {},
   "source": [
    "## Análisis variables categóricas:"
   ]
  },
  {
   "cell_type": "markdown",
   "metadata": {},
   "source": [
    "¿Con qué muestra contamos?"
   ]
  },
  {
   "cell_type": "code",
   "execution_count": 6,
   "metadata": {},
   "outputs": [
    {
     "data": {
      "text/plain": [
       "465"
      ]
     },
     "execution_count": 6,
     "metadata": {},
     "output_type": "execute_result"
    }
   ],
   "source": [
    "df['Mood'].value_counts().sum()"
   ]
  },
  {
   "cell_type": "code",
   "execution_count": 7,
   "metadata": {},
   "outputs": [
    {
     "data": {
      "text/plain": [
       "Mood\n",
       "Happy    100\n",
       "Sad      100\n",
       "Fear     100\n",
       "Focus    100\n",
       "Anger     65\n",
       "Name: count, dtype: int64"
      ]
     },
     "execution_count": 7,
     "metadata": {},
     "output_type": "execute_result"
    }
   ],
   "source": [
    "df['Mood'].value_counts()"
   ]
  },
  {
   "cell_type": "code",
   "execution_count": 8,
   "metadata": {},
   "outputs": [
    {
     "data": {
      "application/vnd.plotly.v1+json": {
       "config": {
        "plotlyServerURL": "https://plot.ly"
       },
       "data": [
        {
         "alignmentgroup": "True",
         "hovertemplate": "x=%{x}<br>y=%{y}<extra></extra>",
         "legendgroup": "",
         "marker": {
          "color": "#F8766D",
          "pattern": {
           "shape": ""
          }
         },
         "name": "",
         "offsetgroup": "",
         "orientation": "v",
         "showlegend": false,
         "textposition": "auto",
         "type": "bar",
         "x": [
          "Happy",
          "Sad",
          "Fear",
          "Focus",
          "Anger"
         ],
         "xaxis": "x",
         "y": [
          100,
          100,
          100,
          100,
          65
         ],
         "yaxis": "y"
        }
       ],
       "layout": {
        "barmode": "relative",
        "legend": {
         "tracegroupgap": 0
        },
        "margin": {
         "t": 60
        },
        "template": {
         "data": {
          "bar": [
           {
            "error_x": {
             "color": "rgb(51,51,51)"
            },
            "error_y": {
             "color": "rgb(51,51,51)"
            },
            "marker": {
             "line": {
              "color": "rgb(237,237,237)",
              "width": 0.5
             },
             "pattern": {
              "fillmode": "overlay",
              "size": 10,
              "solidity": 0.2
             }
            },
            "type": "bar"
           }
          ],
          "barpolar": [
           {
            "marker": {
             "line": {
              "color": "rgb(237,237,237)",
              "width": 0.5
             },
             "pattern": {
              "fillmode": "overlay",
              "size": 10,
              "solidity": 0.2
             }
            },
            "type": "barpolar"
           }
          ],
          "carpet": [
           {
            "aaxis": {
             "endlinecolor": "rgb(51,51,51)",
             "gridcolor": "white",
             "linecolor": "white",
             "minorgridcolor": "white",
             "startlinecolor": "rgb(51,51,51)"
            },
            "baxis": {
             "endlinecolor": "rgb(51,51,51)",
             "gridcolor": "white",
             "linecolor": "white",
             "minorgridcolor": "white",
             "startlinecolor": "rgb(51,51,51)"
            },
            "type": "carpet"
           }
          ],
          "choropleth": [
           {
            "colorbar": {
             "outlinewidth": 0,
             "tickcolor": "rgb(237,237,237)",
             "ticklen": 6,
             "ticks": "inside"
            },
            "type": "choropleth"
           }
          ],
          "contour": [
           {
            "colorbar": {
             "outlinewidth": 0,
             "tickcolor": "rgb(237,237,237)",
             "ticklen": 6,
             "ticks": "inside"
            },
            "colorscale": [
             [
              0,
              "rgb(20,44,66)"
             ],
             [
              1,
              "rgb(90,179,244)"
             ]
            ],
            "type": "contour"
           }
          ],
          "contourcarpet": [
           {
            "colorbar": {
             "outlinewidth": 0,
             "tickcolor": "rgb(237,237,237)",
             "ticklen": 6,
             "ticks": "inside"
            },
            "type": "contourcarpet"
           }
          ],
          "heatmap": [
           {
            "colorbar": {
             "outlinewidth": 0,
             "tickcolor": "rgb(237,237,237)",
             "ticklen": 6,
             "ticks": "inside"
            },
            "colorscale": [
             [
              0,
              "rgb(20,44,66)"
             ],
             [
              1,
              "rgb(90,179,244)"
             ]
            ],
            "type": "heatmap"
           }
          ],
          "heatmapgl": [
           {
            "colorbar": {
             "outlinewidth": 0,
             "tickcolor": "rgb(237,237,237)",
             "ticklen": 6,
             "ticks": "inside"
            },
            "colorscale": [
             [
              0,
              "rgb(20,44,66)"
             ],
             [
              1,
              "rgb(90,179,244)"
             ]
            ],
            "type": "heatmapgl"
           }
          ],
          "histogram": [
           {
            "marker": {
             "pattern": {
              "fillmode": "overlay",
              "size": 10,
              "solidity": 0.2
             }
            },
            "type": "histogram"
           }
          ],
          "histogram2d": [
           {
            "colorbar": {
             "outlinewidth": 0,
             "tickcolor": "rgb(237,237,237)",
             "ticklen": 6,
             "ticks": "inside"
            },
            "colorscale": [
             [
              0,
              "rgb(20,44,66)"
             ],
             [
              1,
              "rgb(90,179,244)"
             ]
            ],
            "type": "histogram2d"
           }
          ],
          "histogram2dcontour": [
           {
            "colorbar": {
             "outlinewidth": 0,
             "tickcolor": "rgb(237,237,237)",
             "ticklen": 6,
             "ticks": "inside"
            },
            "colorscale": [
             [
              0,
              "rgb(20,44,66)"
             ],
             [
              1,
              "rgb(90,179,244)"
             ]
            ],
            "type": "histogram2dcontour"
           }
          ],
          "mesh3d": [
           {
            "colorbar": {
             "outlinewidth": 0,
             "tickcolor": "rgb(237,237,237)",
             "ticklen": 6,
             "ticks": "inside"
            },
            "type": "mesh3d"
           }
          ],
          "parcoords": [
           {
            "line": {
             "colorbar": {
              "outlinewidth": 0,
              "tickcolor": "rgb(237,237,237)",
              "ticklen": 6,
              "ticks": "inside"
             }
            },
            "type": "parcoords"
           }
          ],
          "pie": [
           {
            "automargin": true,
            "type": "pie"
           }
          ],
          "scatter": [
           {
            "fillpattern": {
             "fillmode": "overlay",
             "size": 10,
             "solidity": 0.2
            },
            "type": "scatter"
           }
          ],
          "scatter3d": [
           {
            "line": {
             "colorbar": {
              "outlinewidth": 0,
              "tickcolor": "rgb(237,237,237)",
              "ticklen": 6,
              "ticks": "inside"
             }
            },
            "marker": {
             "colorbar": {
              "outlinewidth": 0,
              "tickcolor": "rgb(237,237,237)",
              "ticklen": 6,
              "ticks": "inside"
             }
            },
            "type": "scatter3d"
           }
          ],
          "scattercarpet": [
           {
            "marker": {
             "colorbar": {
              "outlinewidth": 0,
              "tickcolor": "rgb(237,237,237)",
              "ticklen": 6,
              "ticks": "inside"
             }
            },
            "type": "scattercarpet"
           }
          ],
          "scattergeo": [
           {
            "marker": {
             "colorbar": {
              "outlinewidth": 0,
              "tickcolor": "rgb(237,237,237)",
              "ticklen": 6,
              "ticks": "inside"
             }
            },
            "type": "scattergeo"
           }
          ],
          "scattergl": [
           {
            "marker": {
             "colorbar": {
              "outlinewidth": 0,
              "tickcolor": "rgb(237,237,237)",
              "ticklen": 6,
              "ticks": "inside"
             }
            },
            "type": "scattergl"
           }
          ],
          "scattermapbox": [
           {
            "marker": {
             "colorbar": {
              "outlinewidth": 0,
              "tickcolor": "rgb(237,237,237)",
              "ticklen": 6,
              "ticks": "inside"
             }
            },
            "type": "scattermapbox"
           }
          ],
          "scatterpolar": [
           {
            "marker": {
             "colorbar": {
              "outlinewidth": 0,
              "tickcolor": "rgb(237,237,237)",
              "ticklen": 6,
              "ticks": "inside"
             }
            },
            "type": "scatterpolar"
           }
          ],
          "scatterpolargl": [
           {
            "marker": {
             "colorbar": {
              "outlinewidth": 0,
              "tickcolor": "rgb(237,237,237)",
              "ticklen": 6,
              "ticks": "inside"
             }
            },
            "type": "scatterpolargl"
           }
          ],
          "scatterternary": [
           {
            "marker": {
             "colorbar": {
              "outlinewidth": 0,
              "tickcolor": "rgb(237,237,237)",
              "ticklen": 6,
              "ticks": "inside"
             }
            },
            "type": "scatterternary"
           }
          ],
          "surface": [
           {
            "colorbar": {
             "outlinewidth": 0,
             "tickcolor": "rgb(237,237,237)",
             "ticklen": 6,
             "ticks": "inside"
            },
            "colorscale": [
             [
              0,
              "rgb(20,44,66)"
             ],
             [
              1,
              "rgb(90,179,244)"
             ]
            ],
            "type": "surface"
           }
          ],
          "table": [
           {
            "cells": {
             "fill": {
              "color": "rgb(237,237,237)"
             },
             "line": {
              "color": "white"
             }
            },
            "header": {
             "fill": {
              "color": "rgb(217,217,217)"
             },
             "line": {
              "color": "white"
             }
            },
            "type": "table"
           }
          ]
         },
         "layout": {
          "annotationdefaults": {
           "arrowhead": 0,
           "arrowwidth": 1
          },
          "autotypenumbers": "strict",
          "coloraxis": {
           "colorbar": {
            "outlinewidth": 0,
            "tickcolor": "rgb(237,237,237)",
            "ticklen": 6,
            "ticks": "inside"
           }
          },
          "colorscale": {
           "sequential": [
            [
             0,
             "rgb(20,44,66)"
            ],
            [
             1,
             "rgb(90,179,244)"
            ]
           ],
           "sequentialminus": [
            [
             0,
             "rgb(20,44,66)"
            ],
            [
             1,
             "rgb(90,179,244)"
            ]
           ]
          },
          "colorway": [
           "#F8766D",
           "#A3A500",
           "#00BF7D",
           "#00B0F6",
           "#E76BF3"
          ],
          "font": {
           "color": "rgb(51,51,51)"
          },
          "geo": {
           "bgcolor": "white",
           "lakecolor": "white",
           "landcolor": "rgb(237,237,237)",
           "showlakes": true,
           "showland": true,
           "subunitcolor": "white"
          },
          "hoverlabel": {
           "align": "left"
          },
          "hovermode": "closest",
          "paper_bgcolor": "white",
          "plot_bgcolor": "rgb(237,237,237)",
          "polar": {
           "angularaxis": {
            "gridcolor": "white",
            "linecolor": "white",
            "showgrid": true,
            "tickcolor": "rgb(51,51,51)",
            "ticks": "outside"
           },
           "bgcolor": "rgb(237,237,237)",
           "radialaxis": {
            "gridcolor": "white",
            "linecolor": "white",
            "showgrid": true,
            "tickcolor": "rgb(51,51,51)",
            "ticks": "outside"
           }
          },
          "scene": {
           "xaxis": {
            "backgroundcolor": "rgb(237,237,237)",
            "gridcolor": "white",
            "gridwidth": 2,
            "linecolor": "white",
            "showbackground": true,
            "showgrid": true,
            "tickcolor": "rgb(51,51,51)",
            "ticks": "outside",
            "zerolinecolor": "white"
           },
           "yaxis": {
            "backgroundcolor": "rgb(237,237,237)",
            "gridcolor": "white",
            "gridwidth": 2,
            "linecolor": "white",
            "showbackground": true,
            "showgrid": true,
            "tickcolor": "rgb(51,51,51)",
            "ticks": "outside",
            "zerolinecolor": "white"
           },
           "zaxis": {
            "backgroundcolor": "rgb(237,237,237)",
            "gridcolor": "white",
            "gridwidth": 2,
            "linecolor": "white",
            "showbackground": true,
            "showgrid": true,
            "tickcolor": "rgb(51,51,51)",
            "ticks": "outside",
            "zerolinecolor": "white"
           }
          },
          "shapedefaults": {
           "fillcolor": "black",
           "line": {
            "width": 0
           },
           "opacity": 0.3
          },
          "ternary": {
           "aaxis": {
            "gridcolor": "white",
            "linecolor": "white",
            "showgrid": true,
            "tickcolor": "rgb(51,51,51)",
            "ticks": "outside"
           },
           "baxis": {
            "gridcolor": "white",
            "linecolor": "white",
            "showgrid": true,
            "tickcolor": "rgb(51,51,51)",
            "ticks": "outside"
           },
           "bgcolor": "rgb(237,237,237)",
           "caxis": {
            "gridcolor": "white",
            "linecolor": "white",
            "showgrid": true,
            "tickcolor": "rgb(51,51,51)",
            "ticks": "outside"
           }
          },
          "xaxis": {
           "automargin": true,
           "gridcolor": "white",
           "linecolor": "white",
           "showgrid": true,
           "tickcolor": "rgb(51,51,51)",
           "ticks": "outside",
           "title": {
            "standoff": 15
           },
           "zerolinecolor": "white"
          },
          "yaxis": {
           "automargin": true,
           "gridcolor": "white",
           "linecolor": "white",
           "showgrid": true,
           "tickcolor": "rgb(51,51,51)",
           "ticks": "outside",
           "title": {
            "standoff": 15
           },
           "zerolinecolor": "white"
          }
         }
        },
        "xaxis": {
         "anchor": "y",
         "domain": [
          0,
          1
         ],
         "title": {
          "text": "Estado de ánimo/Mood"
         }
        },
        "yaxis": {
         "anchor": "x",
         "domain": [
          0,
          1
         ],
         "title": {
          "text": "Tamaño de la muestra"
         }
        }
       }
      }
     },
     "metadata": {},
     "output_type": "display_data"
    }
   ],
   "source": [
    "\n",
    "mood_values = df['Mood'].value_counts()\n",
    "fig = px.bar(x=mood_values.index, y=mood_values.values, template = 'ggplot2')\n",
    "fig.update_layout(\n",
    "    xaxis_title=\"Estado de ánimo/Mood\",\n",
    "    yaxis_title=\"Tamaño de la muestra\")\n",
    "fig.show()"
   ]
  },
  {
   "cell_type": "markdown",
   "metadata": {},
   "source": [
    "Como se puede ver de la playlist relacionado con el estado de ánimo ira o 'Anger' contamos con tan sólo 65 valores.  \n",
    "Si vemos que más adelante nos da problemas el modelo entrenado eliminaremos o no tendremos en cuenta este estado de ánimo dependiendo del número de parámetros que se utilicen."
   ]
  },
  {
   "cell_type": "markdown",
   "metadata": {},
   "source": [
    "En general, se suele decir que se necesitan al menos varias decenas o cientos de muestras de entrenamiento por cada variable de entrada (característica) que se utilice en el modelo. Esto se conoce como la regla de \"diez veces el número de variables por muestra\". Por ejemplo, si tienes 10 características, podrías necesitar al menos 100 muestras de entrenamiento.  \n",
    "\n",
    "Así que, en principio, mi análisis se centrará en unos 10 parámetros aproximadamente para que se cumpla esta regla, por lo menos para los cuatro primeros estados de ánimo.\n",
    "\n",
    "https://postindustria.com/how-much-data-is-required-for-machine-learning/#:~:text=The%20most%20common%20way%20to,parameters%20in%20your%20data%20set."
   ]
  },
  {
   "cell_type": "markdown",
   "metadata": {},
   "source": [
    "¿Se repetirá algún artista en los diferentes estados de ánimo?"
   ]
  },
  {
   "cell_type": "code",
   "execution_count": 9,
   "metadata": {},
   "outputs": [
    {
     "data": {
      "text/plain": [
       "artist_name\n",
       "Taylor Swift    6\n",
       "Ed Sheeran      6\n",
       "Imber Sun       5\n",
       "Harry Styles    5\n",
       "Josef Briem     5\n",
       "Coldplay        5\n",
       "Far & Beyond    5\n",
       "Agnes Lundh     4\n",
       "OneRepublic     4\n",
       "Joy Parade      4\n",
       "Name: count, dtype: int64"
      ]
     },
     "execution_count": 9,
     "metadata": {},
     "output_type": "execute_result"
    }
   ],
   "source": [
    "df['artist_name'].value_counts().head(10)"
   ]
  },
  {
   "cell_type": "markdown",
   "metadata": {},
   "source": [
    "Parece que Taylor Swift y Ed Sheeran son los que más se repiten en esta muestra."
   ]
  },
  {
   "cell_type": "markdown",
   "metadata": {},
   "source": [
    "## Análisis variables numéricas:"
   ]
  },
  {
   "cell_type": "markdown",
   "metadata": {},
   "source": [
    "### Análisis en detalle de las emociones y sus características:"
   ]
  },
  {
   "cell_type": "markdown",
   "metadata": {},
   "source": [
    "**En este apartado vamos a analizar una a una cada emoción para entender en que se ha basado Spotify a la hora de crear esas playlists.**"
   ]
  },
  {
   "cell_type": "markdown",
   "metadata": {},
   "source": [
    "Como hay variables entre rangos acotados se analizarán los ouliers de aquellas variables que no están acotadas, es decir, 'duration_ms', 'loudness' y 'tempo'."
   ]
  },
  {
   "cell_type": "markdown",
   "metadata": {},
   "source": [
    "#### 1. Felicidad / Happy"
   ]
  },
  {
   "cell_type": "code",
   "execution_count": 10,
   "metadata": {},
   "outputs": [
    {
     "data": {
      "text/html": [
       "<div>\n",
       "<style scoped>\n",
       "    .dataframe tbody tr th:only-of-type {\n",
       "        vertical-align: middle;\n",
       "    }\n",
       "\n",
       "    .dataframe tbody tr th {\n",
       "        vertical-align: top;\n",
       "    }\n",
       "\n",
       "    .dataframe thead th {\n",
       "        text-align: right;\n",
       "    }\n",
       "</style>\n",
       "<table border=\"1\" class=\"dataframe\">\n",
       "  <thead>\n",
       "    <tr style=\"text-align: right;\">\n",
       "      <th></th>\n",
       "      <th>Mood</th>\n",
       "      <th>song_name</th>\n",
       "      <th>artist_name</th>\n",
       "      <th>popularity</th>\n",
       "      <th>danceability</th>\n",
       "      <th>energy</th>\n",
       "      <th>key</th>\n",
       "      <th>loudness</th>\n",
       "      <th>mode</th>\n",
       "      <th>speechiness</th>\n",
       "      <th>acousticness</th>\n",
       "      <th>instrumentalness</th>\n",
       "      <th>liveness</th>\n",
       "      <th>valence</th>\n",
       "      <th>tempo</th>\n",
       "      <th>duration_ms</th>\n",
       "      <th>song_uri</th>\n",
       "    </tr>\n",
       "  </thead>\n",
       "  <tbody>\n",
       "    <tr>\n",
       "      <th>0</th>\n",
       "      <td>Happy</td>\n",
       "      <td>I'm Good (Blue)</td>\n",
       "      <td>David Guetta</td>\n",
       "      <td>95</td>\n",
       "      <td>0.561</td>\n",
       "      <td>0.965</td>\n",
       "      <td>7</td>\n",
       "      <td>-3.673</td>\n",
       "      <td>0</td>\n",
       "      <td>0.0343</td>\n",
       "      <td>0.00383</td>\n",
       "      <td>0.000007</td>\n",
       "      <td>0.3710</td>\n",
       "      <td>0.304</td>\n",
       "      <td>128.040</td>\n",
       "      <td>175238</td>\n",
       "      <td>spotify:track:4uUG5RXrOk84mYEfFvj3cK</td>\n",
       "    </tr>\n",
       "    <tr>\n",
       "      <th>1</th>\n",
       "      <td>Happy</td>\n",
       "      <td>I Ain't Worried</td>\n",
       "      <td>OneRepublic</td>\n",
       "      <td>95</td>\n",
       "      <td>0.704</td>\n",
       "      <td>0.797</td>\n",
       "      <td>0</td>\n",
       "      <td>-5.927</td>\n",
       "      <td>1</td>\n",
       "      <td>0.0475</td>\n",
       "      <td>0.08260</td>\n",
       "      <td>0.000745</td>\n",
       "      <td>0.0546</td>\n",
       "      <td>0.825</td>\n",
       "      <td>139.994</td>\n",
       "      <td>148486</td>\n",
       "      <td>spotify:track:4h9wh7iOZ0GGn8QVp4RAOB</td>\n",
       "    </tr>\n",
       "    <tr>\n",
       "      <th>2</th>\n",
       "      <td>Happy</td>\n",
       "      <td>Dance The Night (From Barbie The Album)</td>\n",
       "      <td>Dua Lipa</td>\n",
       "      <td>94</td>\n",
       "      <td>0.671</td>\n",
       "      <td>0.845</td>\n",
       "      <td>11</td>\n",
       "      <td>-4.930</td>\n",
       "      <td>0</td>\n",
       "      <td>0.0480</td>\n",
       "      <td>0.02070</td>\n",
       "      <td>0.000000</td>\n",
       "      <td>0.3290</td>\n",
       "      <td>0.775</td>\n",
       "      <td>110.056</td>\n",
       "      <td>176579</td>\n",
       "      <td>spotify:track:1vYXt7VSjH9JIM5oRRo7vA</td>\n",
       "    </tr>\n",
       "    <tr>\n",
       "      <th>3</th>\n",
       "      <td>Happy</td>\n",
       "      <td>Blinding Lights</td>\n",
       "      <td>The Weeknd</td>\n",
       "      <td>94</td>\n",
       "      <td>0.514</td>\n",
       "      <td>0.730</td>\n",
       "      <td>1</td>\n",
       "      <td>-5.934</td>\n",
       "      <td>1</td>\n",
       "      <td>0.0598</td>\n",
       "      <td>0.00146</td>\n",
       "      <td>0.000095</td>\n",
       "      <td>0.0897</td>\n",
       "      <td>0.334</td>\n",
       "      <td>171.005</td>\n",
       "      <td>200040</td>\n",
       "      <td>spotify:track:0VjIjW4GlUZAMYd2vXMi3b</td>\n",
       "    </tr>\n",
       "    <tr>\n",
       "      <th>4</th>\n",
       "      <td>Happy</td>\n",
       "      <td>Watermelon Sugar</td>\n",
       "      <td>Harry Styles</td>\n",
       "      <td>92</td>\n",
       "      <td>0.548</td>\n",
       "      <td>0.816</td>\n",
       "      <td>0</td>\n",
       "      <td>-4.209</td>\n",
       "      <td>1</td>\n",
       "      <td>0.0465</td>\n",
       "      <td>0.12200</td>\n",
       "      <td>0.000000</td>\n",
       "      <td>0.3350</td>\n",
       "      <td>0.557</td>\n",
       "      <td>95.390</td>\n",
       "      <td>174000</td>\n",
       "      <td>spotify:track:6UelLqGlWMcVH1E5c4H7lY</td>\n",
       "    </tr>\n",
       "    <tr>\n",
       "      <th>...</th>\n",
       "      <td>...</td>\n",
       "      <td>...</td>\n",
       "      <td>...</td>\n",
       "      <td>...</td>\n",
       "      <td>...</td>\n",
       "      <td>...</td>\n",
       "      <td>...</td>\n",
       "      <td>...</td>\n",
       "      <td>...</td>\n",
       "      <td>...</td>\n",
       "      <td>...</td>\n",
       "      <td>...</td>\n",
       "      <td>...</td>\n",
       "      <td>...</td>\n",
       "      <td>...</td>\n",
       "      <td>...</td>\n",
       "      <td>...</td>\n",
       "    </tr>\n",
       "    <tr>\n",
       "      <th>95</th>\n",
       "      <td>Happy</td>\n",
       "      <td>Higher Power</td>\n",
       "      <td>Coldplay</td>\n",
       "      <td>76</td>\n",
       "      <td>0.507</td>\n",
       "      <td>0.828</td>\n",
       "      <td>10</td>\n",
       "      <td>-6.023</td>\n",
       "      <td>1</td>\n",
       "      <td>0.0449</td>\n",
       "      <td>0.00711</td>\n",
       "      <td>0.000024</td>\n",
       "      <td>0.2610</td>\n",
       "      <td>0.489</td>\n",
       "      <td>178.032</td>\n",
       "      <td>211295</td>\n",
       "      <td>spotify:track:0939D7aT18uBDS2MTjWzct</td>\n",
       "    </tr>\n",
       "    <tr>\n",
       "      <th>96</th>\n",
       "      <td>Happy</td>\n",
       "      <td>Iko Iko (My Bestie)</td>\n",
       "      <td>Justin Wellington</td>\n",
       "      <td>76</td>\n",
       "      <td>0.862</td>\n",
       "      <td>0.753</td>\n",
       "      <td>5</td>\n",
       "      <td>-5.356</td>\n",
       "      <td>1</td>\n",
       "      <td>0.0625</td>\n",
       "      <td>0.13100</td>\n",
       "      <td>0.000002</td>\n",
       "      <td>0.0770</td>\n",
       "      <td>0.827</td>\n",
       "      <td>105.039</td>\n",
       "      <td>182857</td>\n",
       "      <td>spotify:track:7MC4XR9M9amdmKQr2iDF7i</td>\n",
       "    </tr>\n",
       "    <tr>\n",
       "      <th>97</th>\n",
       "      <td>Happy</td>\n",
       "      <td>Woke Up in Love</td>\n",
       "      <td>Kygo</td>\n",
       "      <td>75</td>\n",
       "      <td>0.643</td>\n",
       "      <td>0.585</td>\n",
       "      <td>2</td>\n",
       "      <td>-5.994</td>\n",
       "      <td>1</td>\n",
       "      <td>0.0369</td>\n",
       "      <td>0.22500</td>\n",
       "      <td>0.000000</td>\n",
       "      <td>0.0927</td>\n",
       "      <td>0.188</td>\n",
       "      <td>106.015</td>\n",
       "      <td>216873</td>\n",
       "      <td>spotify:track:21H0pUV2uPIPcFnFhgTBjo</td>\n",
       "    </tr>\n",
       "    <tr>\n",
       "      <th>98</th>\n",
       "      <td>Happy</td>\n",
       "      <td>Wellerman - Sea Shanty / 220 KID x Billen Ted ...</td>\n",
       "      <td>Nathan Evans</td>\n",
       "      <td>75</td>\n",
       "      <td>0.722</td>\n",
       "      <td>0.893</td>\n",
       "      <td>0</td>\n",
       "      <td>-3.255</td>\n",
       "      <td>0</td>\n",
       "      <td>0.0475</td>\n",
       "      <td>0.04410</td>\n",
       "      <td>0.000937</td>\n",
       "      <td>0.0673</td>\n",
       "      <td>0.439</td>\n",
       "      <td>119.932</td>\n",
       "      <td>116750</td>\n",
       "      <td>spotify:track:3iw6V4LH7yPj1ESORX9RIN</td>\n",
       "    </tr>\n",
       "    <tr>\n",
       "      <th>99</th>\n",
       "      <td>Happy</td>\n",
       "      <td>Special (feat. SZA)</td>\n",
       "      <td>Lizzo</td>\n",
       "      <td>75</td>\n",
       "      <td>0.464</td>\n",
       "      <td>0.724</td>\n",
       "      <td>7</td>\n",
       "      <td>-5.019</td>\n",
       "      <td>1</td>\n",
       "      <td>0.0705</td>\n",
       "      <td>0.01880</td>\n",
       "      <td>0.000000</td>\n",
       "      <td>0.6790</td>\n",
       "      <td>0.303</td>\n",
       "      <td>82.526</td>\n",
       "      <td>174749</td>\n",
       "      <td>spotify:track:0rc1HCVoReqzzXF9jssqZk</td>\n",
       "    </tr>\n",
       "  </tbody>\n",
       "</table>\n",
       "<p>100 rows × 17 columns</p>\n",
       "</div>"
      ],
      "text/plain": [
       "     Mood                                          song_name  \\\n",
       "0   Happy                                    I'm Good (Blue)   \n",
       "1   Happy                                    I Ain't Worried   \n",
       "2   Happy            Dance The Night (From Barbie The Album)   \n",
       "3   Happy                                    Blinding Lights   \n",
       "4   Happy                                   Watermelon Sugar   \n",
       "..    ...                                                ...   \n",
       "95  Happy                                       Higher Power   \n",
       "96  Happy                                Iko Iko (My Bestie)   \n",
       "97  Happy                                    Woke Up in Love   \n",
       "98  Happy  Wellerman - Sea Shanty / 220 KID x Billen Ted ...   \n",
       "99  Happy                                Special (feat. SZA)   \n",
       "\n",
       "          artist_name  popularity  danceability  energy  key  loudness  mode  \\\n",
       "0        David Guetta          95         0.561   0.965    7    -3.673     0   \n",
       "1         OneRepublic          95         0.704   0.797    0    -5.927     1   \n",
       "2            Dua Lipa          94         0.671   0.845   11    -4.930     0   \n",
       "3          The Weeknd          94         0.514   0.730    1    -5.934     1   \n",
       "4        Harry Styles          92         0.548   0.816    0    -4.209     1   \n",
       "..                ...         ...           ...     ...  ...       ...   ...   \n",
       "95           Coldplay          76         0.507   0.828   10    -6.023     1   \n",
       "96  Justin Wellington          76         0.862   0.753    5    -5.356     1   \n",
       "97               Kygo          75         0.643   0.585    2    -5.994     1   \n",
       "98       Nathan Evans          75         0.722   0.893    0    -3.255     0   \n",
       "99              Lizzo          75         0.464   0.724    7    -5.019     1   \n",
       "\n",
       "    speechiness  acousticness  instrumentalness  liveness  valence    tempo  \\\n",
       "0        0.0343       0.00383          0.000007    0.3710    0.304  128.040   \n",
       "1        0.0475       0.08260          0.000745    0.0546    0.825  139.994   \n",
       "2        0.0480       0.02070          0.000000    0.3290    0.775  110.056   \n",
       "3        0.0598       0.00146          0.000095    0.0897    0.334  171.005   \n",
       "4        0.0465       0.12200          0.000000    0.3350    0.557   95.390   \n",
       "..          ...           ...               ...       ...      ...      ...   \n",
       "95       0.0449       0.00711          0.000024    0.2610    0.489  178.032   \n",
       "96       0.0625       0.13100          0.000002    0.0770    0.827  105.039   \n",
       "97       0.0369       0.22500          0.000000    0.0927    0.188  106.015   \n",
       "98       0.0475       0.04410          0.000937    0.0673    0.439  119.932   \n",
       "99       0.0705       0.01880          0.000000    0.6790    0.303   82.526   \n",
       "\n",
       "    duration_ms                              song_uri  \n",
       "0        175238  spotify:track:4uUG5RXrOk84mYEfFvj3cK  \n",
       "1        148486  spotify:track:4h9wh7iOZ0GGn8QVp4RAOB  \n",
       "2        176579  spotify:track:1vYXt7VSjH9JIM5oRRo7vA  \n",
       "3        200040  spotify:track:0VjIjW4GlUZAMYd2vXMi3b  \n",
       "4        174000  spotify:track:6UelLqGlWMcVH1E5c4H7lY  \n",
       "..          ...                                   ...  \n",
       "95       211295  spotify:track:0939D7aT18uBDS2MTjWzct  \n",
       "96       182857  spotify:track:7MC4XR9M9amdmKQr2iDF7i  \n",
       "97       216873  spotify:track:21H0pUV2uPIPcFnFhgTBjo  \n",
       "98       116750  spotify:track:3iw6V4LH7yPj1ESORX9RIN  \n",
       "99       174749  spotify:track:0rc1HCVoReqzzXF9jssqZk  \n",
       "\n",
       "[100 rows x 17 columns]"
      ]
     },
     "execution_count": 10,
     "metadata": {},
     "output_type": "execute_result"
    }
   ],
   "source": [
    "happy_df = df[(df.Mood == 'Happy')]\n",
    "happy_df"
   ]
  },
  {
   "cell_type": "markdown",
   "metadata": {},
   "source": [
    "##### 1.1 Variables no acotadas (duration_ms, loudness y tempo)"
   ]
  },
  {
   "cell_type": "markdown",
   "metadata": {},
   "source": [
    "Análisis de outliers y distribución de las variables 'duration_ms', 'loudness' y 'tempo' para el estado de ánimo de felicidad: 'Happy'."
   ]
  },
  {
   "cell_type": "code",
   "execution_count": 11,
   "metadata": {},
   "outputs": [
    {
     "data": {
      "text/plain": [
       "Index(['Mood', 'song_name', 'artist_name', 'popularity', 'danceability',\n",
       "       'energy', 'key', 'loudness', 'mode', 'speechiness', 'acousticness',\n",
       "       'instrumentalness', 'liveness', 'valence', 'tempo', 'duration_ms',\n",
       "       'song_uri'],\n",
       "      dtype='object')"
      ]
     },
     "execution_count": 11,
     "metadata": {},
     "output_type": "execute_result"
    }
   ],
   "source": [
    "happy_df.columns"
   ]
  },
  {
   "cell_type": "code",
   "execution_count": 12,
   "metadata": {},
   "outputs": [
    {
     "name": "stderr",
     "output_type": "stream",
     "text": [
      "C:\\Users\\User\\AppData\\Local\\Temp\\ipykernel_9492\\2860192246.py:2: SettingWithCopyWarning:\n",
      "\n",
      "\n",
      "A value is trying to be set on a copy of a slice from a DataFrame.\n",
      "Try using .loc[row_indexer,col_indexer] = value instead\n",
      "\n",
      "See the caveats in the documentation: https://pandas.pydata.org/pandas-docs/stable/user_guide/indexing.html#returning-a-view-versus-a-copy\n",
      "\n"
     ]
    }
   ],
   "source": [
    "# Convierto ms a minutos: 1 min = 60.000 ms\n",
    "happy_df['duration_ms'] = happy_df['duration_ms']/60000"
   ]
  },
  {
   "cell_type": "code",
   "execution_count": 13,
   "metadata": {},
   "outputs": [
    {
     "data": {
      "application/vnd.plotly.v1+json": {
       "config": {
        "plotlyServerURL": "https://plot.ly"
       },
       "data": [
        {
         "name": "duration_ms",
         "type": "box",
         "xaxis": "x",
         "y": [
          2.9206333333333334,
          2.4747666666666666,
          2.9429833333333333,
          3.334,
          2.9,
          2.326,
          2.671666666666667,
          1.8291666666666666,
          2.3336333333333332,
          3.4642166666666667,
          2.2376,
          2.3793166666666665,
          4.49445,
          4.785333333333333,
          3.3013666666666666,
          2.39835,
          2.7711166666666665,
          3.0326333333333335,
          2.4663333333333335,
          2.856,
          3.3175666666666666,
          2.59315,
          3.8786666666666667,
          2.2903166666666666,
          3.11645,
          3.2302166666666667,
          3.0171166666666664,
          2.730916666666667,
          2.70665,
          2.7935666666666665,
          3.8,
          3.2373333333333334,
          2.8192166666666667,
          2.2950666666666666,
          3.34555,
          2.829266666666667,
          3.197033333333333,
          4.352566666666666,
          3.4345166666666667,
          3.1007166666666666,
          2.7671333333333332,
          3.1826666666666665,
          3.216666666666667,
          3.3707666666666665,
          2.9614833333333332,
          2.7813666666666665,
          2.7146,
          2.4240166666666667,
          3.1035,
          2.7100666666666666,
          2.3278666666666665,
          3.481116666666667,
          2.7492,
          3.4361166666666665,
          2.6776166666666668,
          3.1184666666666665,
          3.82675,
          1.9635,
          3.0548333333333333,
          2.6794333333333333,
          3.665783333333333,
          3.0684,
          3.0852166666666667,
          2.9126666666666665,
          3.0621,
          2.844,
          3.80445,
          2.7335,
          3.1717666666666666,
          4.4242333333333335,
          3.1127,
          2.441683333333333,
          2.69755,
          2.961116666666667,
          2.9126666666666665,
          3.4906333333333333,
          2.894,
          2.1636166666666665,
          3.9591166666666666,
          3.5077166666666666,
          2.744,
          3.76315,
          3.06675,
          5.710216666666667,
          3.128033333333333,
          3.148233333333333,
          2.7415,
          3.355566666666667,
          3.01075,
          2.3508333333333336,
          2.81685,
          3.2977833333333333,
          3.2991166666666665,
          2.4411833333333335,
          3.0366666666666666,
          3.5215833333333335,
          3.047616666666667,
          3.61455,
          1.9458333333333333,
          2.9124833333333333
         ],
         "yaxis": "y"
        },
        {
         "name": "loudness",
         "type": "box",
         "xaxis": "x2",
         "y": [
          -3.673,
          -5.927,
          -4.93,
          -5.934,
          -4.209,
          -5.817,
          -7.91,
          -8.393,
          -3.404,
          -2.724,
          -3.562,
          -3.982,
          -7.223,
          -3.955,
          -6.181,
          -4.51,
          -7.923,
          -4.56,
          -4.25,
          -5.617,
          -4.41,
          -4.673,
          -4.662,
          -4.103,
          -2.881,
          -4.652,
          -5.065,
          -4.621,
          -4.057,
          -4.413,
          -6.39,
          -2.392,
          -3.424,
          -6.725,
          -8.303,
          -3.758,
          -6.305,
          -4.868,
          -6.377,
          -3.394,
          -3.158,
          -6.039,
          -4.105,
          -4.602,
          -4.541,
          -5.342,
          -4.417,
          -4.407,
          -2.926,
          -4.403,
          -4.021,
          -3.541,
          -5.187,
          -7.548,
          -5.077,
          -4.111,
          -4.439,
          -6.405,
          -4.521,
          -2.903,
          -5.041,
          -4.501,
          -6.643,
          -3.709,
          -4.878,
          -10.345,
          -7.159,
          -5.865,
          -4.248,
          -10.519,
          -2.966,
          -4.606,
          -6.459,
          -6.594,
          -4.613,
          -6.401,
          -6.919,
          -5.08,
          -5.721,
          -10.778,
          -5.339,
          -4.005,
          -4.872,
          -7.012,
          -3.285,
          -5.084,
          -4.999,
          -7.178,
          -7.206,
          -6.879,
          -8.173,
          -8.113,
          -7.906,
          -6.784,
          -3.764,
          -6.023,
          -5.356,
          -5.994,
          -3.255,
          -5.019
         ],
         "yaxis": "y2"
        },
        {
         "name": "tempo",
         "type": "box",
         "xaxis": "x3",
         "y": [
          128.04,
          139.994,
          110.056,
          171.005,
          95.39,
          105.001,
          115,
          144.072,
          127.944,
          141.02,
          144.981,
          115.955,
          114.988,
          130.001,
          90.03,
          87.981,
          128.101,
          124.039,
          125.972,
          85.026,
          114.044,
          119.966,
          160.019,
          124.077,
          96.133,
          107.041,
          137.958,
          140.069,
          129.857,
          112.972,
          104.988,
          100.012,
          122.98,
          178.781,
          127.812,
          122.872,
          108.966,
          135.007,
          94.996,
          91.972,
          122.953,
          116.947,
          182.162,
          126.041,
          127.034,
          110.002,
          109.829,
          126.002,
          128.04,
          123.97,
          122.062,
          110.968,
          109.997,
          119.987,
          110.054,
          155.932,
          114.914,
          173.925,
          123.941,
          123.849,
          101.956,
          123.988,
          136.985,
          116.001,
          124.111,
          92.875,
          103.952,
          119.843,
          112.985,
          128.025,
          113.969,
          126.004,
          79.994,
          151.891,
          108.625,
          98.029,
          82.488,
          123.045,
          113.035,
          91.066,
          96.051,
          113.796,
          169.945,
          124.009,
          103.031,
          124.015,
          123.979,
          123.977,
          113.039,
          159.702,
          117.003,
          92.977,
          105.049,
          102.004,
          123.056,
          178.032,
          105.039,
          106.015,
          119.932,
          82.526
         ],
         "yaxis": "y3"
        }
       ],
       "layout": {
        "annotations": [
         {
          "font": {
           "size": 16
          },
          "showarrow": false,
          "text": "duration_ms",
          "x": 0.14444444444444446,
          "xanchor": "center",
          "xref": "paper",
          "y": 1,
          "yanchor": "bottom",
          "yref": "paper"
         },
         {
          "font": {
           "size": 16
          },
          "showarrow": false,
          "text": "loudness",
          "x": 0.5,
          "xanchor": "center",
          "xref": "paper",
          "y": 1,
          "yanchor": "bottom",
          "yref": "paper"
         },
         {
          "font": {
           "size": 16
          },
          "showarrow": false,
          "text": "tempo",
          "x": 0.8555555555555556,
          "xanchor": "center",
          "xref": "paper",
          "y": 1,
          "yanchor": "bottom",
          "yref": "paper"
         }
        ],
        "height": 400,
        "template": {
         "data": {
          "bar": [
           {
            "error_x": {
             "color": "#2a3f5f"
            },
            "error_y": {
             "color": "#2a3f5f"
            },
            "marker": {
             "line": {
              "color": "#E5ECF6",
              "width": 0.5
             },
             "pattern": {
              "fillmode": "overlay",
              "size": 10,
              "solidity": 0.2
             }
            },
            "type": "bar"
           }
          ],
          "barpolar": [
           {
            "marker": {
             "line": {
              "color": "#E5ECF6",
              "width": 0.5
             },
             "pattern": {
              "fillmode": "overlay",
              "size": 10,
              "solidity": 0.2
             }
            },
            "type": "barpolar"
           }
          ],
          "carpet": [
           {
            "aaxis": {
             "endlinecolor": "#2a3f5f",
             "gridcolor": "white",
             "linecolor": "white",
             "minorgridcolor": "white",
             "startlinecolor": "#2a3f5f"
            },
            "baxis": {
             "endlinecolor": "#2a3f5f",
             "gridcolor": "white",
             "linecolor": "white",
             "minorgridcolor": "white",
             "startlinecolor": "#2a3f5f"
            },
            "type": "carpet"
           }
          ],
          "choropleth": [
           {
            "colorbar": {
             "outlinewidth": 0,
             "ticks": ""
            },
            "type": "choropleth"
           }
          ],
          "contour": [
           {
            "colorbar": {
             "outlinewidth": 0,
             "ticks": ""
            },
            "colorscale": [
             [
              0,
              "#0d0887"
             ],
             [
              0.1111111111111111,
              "#46039f"
             ],
             [
              0.2222222222222222,
              "#7201a8"
             ],
             [
              0.3333333333333333,
              "#9c179e"
             ],
             [
              0.4444444444444444,
              "#bd3786"
             ],
             [
              0.5555555555555556,
              "#d8576b"
             ],
             [
              0.6666666666666666,
              "#ed7953"
             ],
             [
              0.7777777777777778,
              "#fb9f3a"
             ],
             [
              0.8888888888888888,
              "#fdca26"
             ],
             [
              1,
              "#f0f921"
             ]
            ],
            "type": "contour"
           }
          ],
          "contourcarpet": [
           {
            "colorbar": {
             "outlinewidth": 0,
             "ticks": ""
            },
            "type": "contourcarpet"
           }
          ],
          "heatmap": [
           {
            "colorbar": {
             "outlinewidth": 0,
             "ticks": ""
            },
            "colorscale": [
             [
              0,
              "#0d0887"
             ],
             [
              0.1111111111111111,
              "#46039f"
             ],
             [
              0.2222222222222222,
              "#7201a8"
             ],
             [
              0.3333333333333333,
              "#9c179e"
             ],
             [
              0.4444444444444444,
              "#bd3786"
             ],
             [
              0.5555555555555556,
              "#d8576b"
             ],
             [
              0.6666666666666666,
              "#ed7953"
             ],
             [
              0.7777777777777778,
              "#fb9f3a"
             ],
             [
              0.8888888888888888,
              "#fdca26"
             ],
             [
              1,
              "#f0f921"
             ]
            ],
            "type": "heatmap"
           }
          ],
          "heatmapgl": [
           {
            "colorbar": {
             "outlinewidth": 0,
             "ticks": ""
            },
            "colorscale": [
             [
              0,
              "#0d0887"
             ],
             [
              0.1111111111111111,
              "#46039f"
             ],
             [
              0.2222222222222222,
              "#7201a8"
             ],
             [
              0.3333333333333333,
              "#9c179e"
             ],
             [
              0.4444444444444444,
              "#bd3786"
             ],
             [
              0.5555555555555556,
              "#d8576b"
             ],
             [
              0.6666666666666666,
              "#ed7953"
             ],
             [
              0.7777777777777778,
              "#fb9f3a"
             ],
             [
              0.8888888888888888,
              "#fdca26"
             ],
             [
              1,
              "#f0f921"
             ]
            ],
            "type": "heatmapgl"
           }
          ],
          "histogram": [
           {
            "marker": {
             "pattern": {
              "fillmode": "overlay",
              "size": 10,
              "solidity": 0.2
             }
            },
            "type": "histogram"
           }
          ],
          "histogram2d": [
           {
            "colorbar": {
             "outlinewidth": 0,
             "ticks": ""
            },
            "colorscale": [
             [
              0,
              "#0d0887"
             ],
             [
              0.1111111111111111,
              "#46039f"
             ],
             [
              0.2222222222222222,
              "#7201a8"
             ],
             [
              0.3333333333333333,
              "#9c179e"
             ],
             [
              0.4444444444444444,
              "#bd3786"
             ],
             [
              0.5555555555555556,
              "#d8576b"
             ],
             [
              0.6666666666666666,
              "#ed7953"
             ],
             [
              0.7777777777777778,
              "#fb9f3a"
             ],
             [
              0.8888888888888888,
              "#fdca26"
             ],
             [
              1,
              "#f0f921"
             ]
            ],
            "type": "histogram2d"
           }
          ],
          "histogram2dcontour": [
           {
            "colorbar": {
             "outlinewidth": 0,
             "ticks": ""
            },
            "colorscale": [
             [
              0,
              "#0d0887"
             ],
             [
              0.1111111111111111,
              "#46039f"
             ],
             [
              0.2222222222222222,
              "#7201a8"
             ],
             [
              0.3333333333333333,
              "#9c179e"
             ],
             [
              0.4444444444444444,
              "#bd3786"
             ],
             [
              0.5555555555555556,
              "#d8576b"
             ],
             [
              0.6666666666666666,
              "#ed7953"
             ],
             [
              0.7777777777777778,
              "#fb9f3a"
             ],
             [
              0.8888888888888888,
              "#fdca26"
             ],
             [
              1,
              "#f0f921"
             ]
            ],
            "type": "histogram2dcontour"
           }
          ],
          "mesh3d": [
           {
            "colorbar": {
             "outlinewidth": 0,
             "ticks": ""
            },
            "type": "mesh3d"
           }
          ],
          "parcoords": [
           {
            "line": {
             "colorbar": {
              "outlinewidth": 0,
              "ticks": ""
             }
            },
            "type": "parcoords"
           }
          ],
          "pie": [
           {
            "automargin": true,
            "type": "pie"
           }
          ],
          "scatter": [
           {
            "fillpattern": {
             "fillmode": "overlay",
             "size": 10,
             "solidity": 0.2
            },
            "type": "scatter"
           }
          ],
          "scatter3d": [
           {
            "line": {
             "colorbar": {
              "outlinewidth": 0,
              "ticks": ""
             }
            },
            "marker": {
             "colorbar": {
              "outlinewidth": 0,
              "ticks": ""
             }
            },
            "type": "scatter3d"
           }
          ],
          "scattercarpet": [
           {
            "marker": {
             "colorbar": {
              "outlinewidth": 0,
              "ticks": ""
             }
            },
            "type": "scattercarpet"
           }
          ],
          "scattergeo": [
           {
            "marker": {
             "colorbar": {
              "outlinewidth": 0,
              "ticks": ""
             }
            },
            "type": "scattergeo"
           }
          ],
          "scattergl": [
           {
            "marker": {
             "colorbar": {
              "outlinewidth": 0,
              "ticks": ""
             }
            },
            "type": "scattergl"
           }
          ],
          "scattermapbox": [
           {
            "marker": {
             "colorbar": {
              "outlinewidth": 0,
              "ticks": ""
             }
            },
            "type": "scattermapbox"
           }
          ],
          "scatterpolar": [
           {
            "marker": {
             "colorbar": {
              "outlinewidth": 0,
              "ticks": ""
             }
            },
            "type": "scatterpolar"
           }
          ],
          "scatterpolargl": [
           {
            "marker": {
             "colorbar": {
              "outlinewidth": 0,
              "ticks": ""
             }
            },
            "type": "scatterpolargl"
           }
          ],
          "scatterternary": [
           {
            "marker": {
             "colorbar": {
              "outlinewidth": 0,
              "ticks": ""
             }
            },
            "type": "scatterternary"
           }
          ],
          "surface": [
           {
            "colorbar": {
             "outlinewidth": 0,
             "ticks": ""
            },
            "colorscale": [
             [
              0,
              "#0d0887"
             ],
             [
              0.1111111111111111,
              "#46039f"
             ],
             [
              0.2222222222222222,
              "#7201a8"
             ],
             [
              0.3333333333333333,
              "#9c179e"
             ],
             [
              0.4444444444444444,
              "#bd3786"
             ],
             [
              0.5555555555555556,
              "#d8576b"
             ],
             [
              0.6666666666666666,
              "#ed7953"
             ],
             [
              0.7777777777777778,
              "#fb9f3a"
             ],
             [
              0.8888888888888888,
              "#fdca26"
             ],
             [
              1,
              "#f0f921"
             ]
            ],
            "type": "surface"
           }
          ],
          "table": [
           {
            "cells": {
             "fill": {
              "color": "#EBF0F8"
             },
             "line": {
              "color": "white"
             }
            },
            "header": {
             "fill": {
              "color": "#C8D4E3"
             },
             "line": {
              "color": "white"
             }
            },
            "type": "table"
           }
          ]
         },
         "layout": {
          "annotationdefaults": {
           "arrowcolor": "#2a3f5f",
           "arrowhead": 0,
           "arrowwidth": 1
          },
          "autotypenumbers": "strict",
          "coloraxis": {
           "colorbar": {
            "outlinewidth": 0,
            "ticks": ""
           }
          },
          "colorscale": {
           "diverging": [
            [
             0,
             "#8e0152"
            ],
            [
             0.1,
             "#c51b7d"
            ],
            [
             0.2,
             "#de77ae"
            ],
            [
             0.3,
             "#f1b6da"
            ],
            [
             0.4,
             "#fde0ef"
            ],
            [
             0.5,
             "#f7f7f7"
            ],
            [
             0.6,
             "#e6f5d0"
            ],
            [
             0.7,
             "#b8e186"
            ],
            [
             0.8,
             "#7fbc41"
            ],
            [
             0.9,
             "#4d9221"
            ],
            [
             1,
             "#276419"
            ]
           ],
           "sequential": [
            [
             0,
             "#0d0887"
            ],
            [
             0.1111111111111111,
             "#46039f"
            ],
            [
             0.2222222222222222,
             "#7201a8"
            ],
            [
             0.3333333333333333,
             "#9c179e"
            ],
            [
             0.4444444444444444,
             "#bd3786"
            ],
            [
             0.5555555555555556,
             "#d8576b"
            ],
            [
             0.6666666666666666,
             "#ed7953"
            ],
            [
             0.7777777777777778,
             "#fb9f3a"
            ],
            [
             0.8888888888888888,
             "#fdca26"
            ],
            [
             1,
             "#f0f921"
            ]
           ],
           "sequentialminus": [
            [
             0,
             "#0d0887"
            ],
            [
             0.1111111111111111,
             "#46039f"
            ],
            [
             0.2222222222222222,
             "#7201a8"
            ],
            [
             0.3333333333333333,
             "#9c179e"
            ],
            [
             0.4444444444444444,
             "#bd3786"
            ],
            [
             0.5555555555555556,
             "#d8576b"
            ],
            [
             0.6666666666666666,
             "#ed7953"
            ],
            [
             0.7777777777777778,
             "#fb9f3a"
            ],
            [
             0.8888888888888888,
             "#fdca26"
            ],
            [
             1,
             "#f0f921"
            ]
           ]
          },
          "colorway": [
           "#636efa",
           "#EF553B",
           "#00cc96",
           "#ab63fa",
           "#FFA15A",
           "#19d3f3",
           "#FF6692",
           "#B6E880",
           "#FF97FF",
           "#FECB52"
          ],
          "font": {
           "color": "#2a3f5f"
          },
          "geo": {
           "bgcolor": "white",
           "lakecolor": "white",
           "landcolor": "#E5ECF6",
           "showlakes": true,
           "showland": true,
           "subunitcolor": "white"
          },
          "hoverlabel": {
           "align": "left"
          },
          "hovermode": "closest",
          "mapbox": {
           "style": "light"
          },
          "paper_bgcolor": "white",
          "plot_bgcolor": "#E5ECF6",
          "polar": {
           "angularaxis": {
            "gridcolor": "white",
            "linecolor": "white",
            "ticks": ""
           },
           "bgcolor": "#E5ECF6",
           "radialaxis": {
            "gridcolor": "white",
            "linecolor": "white",
            "ticks": ""
           }
          },
          "scene": {
           "xaxis": {
            "backgroundcolor": "#E5ECF6",
            "gridcolor": "white",
            "gridwidth": 2,
            "linecolor": "white",
            "showbackground": true,
            "ticks": "",
            "zerolinecolor": "white"
           },
           "yaxis": {
            "backgroundcolor": "#E5ECF6",
            "gridcolor": "white",
            "gridwidth": 2,
            "linecolor": "white",
            "showbackground": true,
            "ticks": "",
            "zerolinecolor": "white"
           },
           "zaxis": {
            "backgroundcolor": "#E5ECF6",
            "gridcolor": "white",
            "gridwidth": 2,
            "linecolor": "white",
            "showbackground": true,
            "ticks": "",
            "zerolinecolor": "white"
           }
          },
          "shapedefaults": {
           "line": {
            "color": "#2a3f5f"
           }
          },
          "ternary": {
           "aaxis": {
            "gridcolor": "white",
            "linecolor": "white",
            "ticks": ""
           },
           "baxis": {
            "gridcolor": "white",
            "linecolor": "white",
            "ticks": ""
           },
           "bgcolor": "#E5ECF6",
           "caxis": {
            "gridcolor": "white",
            "linecolor": "white",
            "ticks": ""
           }
          },
          "title": {
           "x": 0.05
          },
          "xaxis": {
           "automargin": true,
           "gridcolor": "white",
           "linecolor": "white",
           "ticks": "",
           "title": {
            "standoff": 15
           },
           "zerolinecolor": "white",
           "zerolinewidth": 2
          },
          "yaxis": {
           "automargin": true,
           "gridcolor": "white",
           "linecolor": "white",
           "ticks": "",
           "title": {
            "standoff": 15
           },
           "zerolinecolor": "white",
           "zerolinewidth": 2
          }
         }
        },
        "title": {
         "text": "Distribución de variables:"
        },
        "width": 900,
        "xaxis": {
         "anchor": "y",
         "domain": [
          0,
          0.2888888888888889
         ]
        },
        "xaxis2": {
         "anchor": "y2",
         "domain": [
          0.35555555555555557,
          0.6444444444444445
         ]
        },
        "xaxis3": {
         "anchor": "y3",
         "domain": [
          0.7111111111111111,
          1
         ]
        },
        "yaxis": {
         "anchor": "x",
         "domain": [
          0,
          1
         ]
        },
        "yaxis2": {
         "anchor": "x2",
         "domain": [
          0,
          1
         ]
        },
        "yaxis3": {
         "anchor": "x3",
         "domain": [
          0,
          1
         ]
        }
       }
      }
     },
     "metadata": {},
     "output_type": "display_data"
    }
   ],
   "source": [
    "cols = ['duration_ms', 'loudness', 'tempo']\n",
    "\n",
    "fig = make_subplots(rows=1, cols=3, subplot_titles=cols)\n",
    "\n",
    "for i, col in enumerate(cols):\n",
    "    fig.add_trace(go.Box(y=happy_df[col], name=col), row=1, col=i+1)\n",
    "\n",
    "fig.update_layout(\n",
    "    title=\"Distribución de variables:\",\n",
    "    height=400,\n",
    "    width=900\n",
    ")\n",
    "\n",
    "fig.show()"
   ]
  },
  {
   "cell_type": "markdown",
   "metadata": {},
   "source": [
    "¿Cuántos outliers hay en cada variable para saber si eliminar o no?"
   ]
  },
  {
   "cell_type": "code",
   "execution_count": 14,
   "metadata": {},
   "outputs": [
    {
     "name": "stdout",
     "output_type": "stream",
     "text": [
      "La variable duration_ms tiene 5 valores atípicos u 'outliers'\n",
      "La variable loudness tiene 3 valores atípicos u 'outliers'\n",
      "La variable tempo tiene 8 valores atípicos u 'outliers'\n"
     ]
    }
   ],
   "source": [
    "# Para ver la cantidad de outliers que hay en nuestro dataset\n",
    "cols = ['duration_ms', 'loudness', 'tempo']\n",
    "def outliers1 (df):\n",
    "    for col in cols:\n",
    "        Q1 = df[col].quantile(0.25)\n",
    "        Q3 = df[col].quantile(0.75)\n",
    "        IQR = Q3 - Q1\n",
    "        outlierIzq = Q1-(1.5*IQR)\n",
    "        outlierDer = Q3+(1.5*IQR)\n",
    "        outliers = df[col][(df[col] < outlierIzq) | (df[col] > outlierDer)]\n",
    "        print(\"La variable \" + col + \" tiene \" + str(len(outliers)) + \" valores atípicos u 'outliers'\")\n",
    "\n",
    "    \n",
    "outliers1(happy_df)"
   ]
  },
  {
   "cell_type": "markdown",
   "metadata": {},
   "source": [
    "La duración tiene un outlier que puede distorsionar más el análisis. El resto no parece que sea necesario eliminarlas."
   ]
  },
  {
   "cell_type": "code",
   "execution_count": 15,
   "metadata": {},
   "outputs": [
    {
     "data": {
      "text/html": [
       "<div>\n",
       "<style scoped>\n",
       "    .dataframe tbody tr th:only-of-type {\n",
       "        vertical-align: middle;\n",
       "    }\n",
       "\n",
       "    .dataframe tbody tr th {\n",
       "        vertical-align: top;\n",
       "    }\n",
       "\n",
       "    .dataframe thead th {\n",
       "        text-align: right;\n",
       "    }\n",
       "</style>\n",
       "<table border=\"1\" class=\"dataframe\">\n",
       "  <thead>\n",
       "    <tr style=\"text-align: right;\">\n",
       "      <th></th>\n",
       "      <th>duration_ms</th>\n",
       "      <th>loudness</th>\n",
       "      <th>tempo</th>\n",
       "    </tr>\n",
       "  </thead>\n",
       "  <tbody>\n",
       "    <tr>\n",
       "      <th>count</th>\n",
       "      <td>100.000000</td>\n",
       "      <td>100.00000</td>\n",
       "      <td>100.000000</td>\n",
       "    </tr>\n",
       "    <tr>\n",
       "      <th>mean</th>\n",
       "      <td>3.044182</td>\n",
       "      <td>-5.31141</td>\n",
       "      <td>120.257710</td>\n",
       "    </tr>\n",
       "    <tr>\n",
       "      <th>std</th>\n",
       "      <td>0.601098</td>\n",
       "      <td>1.71028</td>\n",
       "      <td>21.574232</td>\n",
       "    </tr>\n",
       "    <tr>\n",
       "      <th>min</th>\n",
       "      <td>1.829167</td>\n",
       "      <td>-10.77800</td>\n",
       "      <td>79.994000</td>\n",
       "    </tr>\n",
       "    <tr>\n",
       "      <th>25%</th>\n",
       "      <td>2.713467</td>\n",
       "      <td>-6.39275</td>\n",
       "      <td>106.784500</td>\n",
       "    </tr>\n",
       "    <tr>\n",
       "      <th>50%</th>\n",
       "      <td>3.013933</td>\n",
       "      <td>-4.90400</td>\n",
       "      <td>119.949000</td>\n",
       "    </tr>\n",
       "    <tr>\n",
       "      <th>75%</th>\n",
       "      <td>3.305417</td>\n",
       "      <td>-4.10950</td>\n",
       "      <td>127.845000</td>\n",
       "    </tr>\n",
       "    <tr>\n",
       "      <th>max</th>\n",
       "      <td>5.710217</td>\n",
       "      <td>-2.39200</td>\n",
       "      <td>182.162000</td>\n",
       "    </tr>\n",
       "  </tbody>\n",
       "</table>\n",
       "</div>"
      ],
      "text/plain": [
       "       duration_ms   loudness       tempo\n",
       "count   100.000000  100.00000  100.000000\n",
       "mean      3.044182   -5.31141  120.257710\n",
       "std       0.601098    1.71028   21.574232\n",
       "min       1.829167  -10.77800   79.994000\n",
       "25%       2.713467   -6.39275  106.784500\n",
       "50%       3.013933   -4.90400  119.949000\n",
       "75%       3.305417   -4.10950  127.845000\n",
       "max       5.710217   -2.39200  182.162000"
      ]
     },
     "execution_count": 15,
     "metadata": {},
     "output_type": "execute_result"
    }
   ],
   "source": [
    "happy_df[['duration_ms','loudness','tempo']].describe()"
   ]
  },
  {
   "cell_type": "markdown",
   "metadata": {},
   "source": [
    "Las canciones de la playlist que representa la alegría:  \n",
    "- **Duración**: Tienen una duración media de 3 min. Vemos que la mayoría de los datos se encuentran entre 2 y 3 min. Hay algún outlier de canciones que duran más de 4 min.\n",
    "- **Sonoridad**: De media las canciones alegres rondan los -5 dB y hay ouliers que rondan los -10 dB.\n",
    "- **Tempo**: Las canciones alegres tienen de media 120 pulsaciones por minuto (Bps) y hay ouliers que se encuentran por encima de las pulsaciones por minuto."
   ]
  },
  {
   "cell_type": "markdown",
   "metadata": {},
   "source": [
    "##### 1.2 Variables acotadas"
   ]
  },
  {
   "cell_type": "code",
   "execution_count": 16,
   "metadata": {},
   "outputs": [
    {
     "data": {
      "text/plain": [
       "Index(['Mood', 'song_name', 'artist_name', 'popularity', 'danceability',\n",
       "       'energy', 'key', 'loudness', 'mode', 'speechiness', 'acousticness',\n",
       "       'instrumentalness', 'liveness', 'valence', 'tempo', 'duration_ms',\n",
       "       'song_uri'],\n",
       "      dtype='object')"
      ]
     },
     "execution_count": 16,
     "metadata": {},
     "output_type": "execute_result"
    }
   ],
   "source": [
    "happy_df.columns"
   ]
  },
  {
   "cell_type": "markdown",
   "metadata": {},
   "source": [
    "Del resto de variables se ha realizado una selección y se analizan las más interesantes:"
   ]
  },
  {
   "cell_type": "code",
   "execution_count": 17,
   "metadata": {},
   "outputs": [
    {
     "data": {
      "application/vnd.plotly.v1+json": {
       "config": {
        "plotlyServerURL": "https://plot.ly"
       },
       "data": [
        {
         "name": "popularity",
         "type": "histogram",
         "xaxis": "x",
         "y": [
          95,
          95,
          94,
          94,
          92,
          90,
          79,
          90,
          94,
          89,
          88,
          88,
          87,
          87,
          86,
          86,
          85,
          85,
          85,
          85,
          85,
          85,
          84,
          84,
          84,
          84,
          84,
          84,
          84,
          84,
          84,
          83,
          83,
          83,
          84,
          83,
          83,
          83,
          83,
          83,
          83,
          82,
          82,
          82,
          82,
          82,
          82,
          82,
          82,
          82,
          82,
          81,
          81,
          81,
          81,
          81,
          81,
          81,
          81,
          80,
          80,
          80,
          80,
          80,
          79,
          79,
          79,
          79,
          79,
          79,
          79,
          79,
          79,
          79,
          79,
          78,
          78,
          78,
          78,
          78,
          77,
          77,
          77,
          77,
          77,
          77,
          76,
          76,
          76,
          76,
          76,
          76,
          76,
          76,
          76,
          76,
          76,
          75,
          75,
          75
         ],
         "yaxis": "y"
        },
        {
         "name": "danceability",
         "type": "histogram",
         "xaxis": "x2",
         "y": [
          0.561,
          0.704,
          0.671,
          0.514,
          0.548,
          0.954,
          0.745,
          0.77,
          0.602,
          0.788,
          0.838,
          0.898,
          0.856,
          0.762,
          0.677,
          0.737,
          0.746,
          0.701,
          0.563,
          0.771,
          0.746,
          0.912,
          0.647,
          0.662,
          0.697,
          0.72,
          0.842,
          0.697,
          0.637,
          0.685,
          0.588,
          0.673,
          0.824,
          0.593,
          0.717,
          0.601,
          0.836,
          0.461,
          0.756,
          0.57,
          0.734,
          0.759,
          0.61,
          0.667,
          0.763,
          0.893,
          0.735,
          0.729,
          0.758,
          0.787,
          0.774,
          0.762,
          0.759,
          0.699,
          0.717,
          0.721,
          0.698,
          0.652,
          0.794,
          0.612,
          0.798,
          0.776,
          0.681,
          0.614,
          0.595,
          0.664,
          0.693,
          0.659,
          0.789,
          0.792,
          0.792,
          0.675,
          0.647,
          0.815,
          0.568,
          0.824,
          0.731,
          0.748,
          0.669,
          0.399,
          0.769,
          0.668,
          0.48,
          0.88,
          0.662,
          0.621,
          0.654,
          0.814,
          0.852,
          0.476,
          0.682,
          0.64,
          0.575,
          0.723,
          0.672,
          0.507,
          0.862,
          0.643,
          0.722,
          0.464
         ],
         "yaxis": "y2"
        },
        {
         "name": "energy",
         "type": "histogram",
         "xaxis": "x3",
         "y": [
          0.965,
          0.797,
          0.845,
          0.73,
          0.816,
          0.516,
          0.681,
          0.58,
          0.91,
          0.859,
          0.525,
          0.732,
          0.609,
          0.766,
          0.696,
          0.846,
          0.622,
          0.88,
          0.908,
          0.671,
          0.765,
          0.774,
          0.822,
          0.821,
          0.683,
          0.715,
          0.734,
          0.875,
          0.69,
          0.738,
          0.701,
          0.902,
          0.862,
          0.503,
          0.455,
          0.713,
          0.743,
          0.834,
          0.697,
          0.756,
          0.874,
          0.54,
          0.83,
          0.75,
          0.782,
          0.851,
          0.812,
          0.763,
          0.913,
          0.833,
          0.792,
          0.701,
          0.459,
          0.529,
          0.671,
          0.769,
          0.895,
          0.879,
          0.793,
          0.862,
          0.675,
          0.808,
          0.513,
          0.934,
          0.784,
          0.316,
          0.678,
          0.615,
          0.711,
          0.518,
          0.874,
          0.986,
          0.765,
          0.518,
          0.824,
          0.587,
          0.626,
          0.841,
          0.832,
          0.491,
          0.479,
          0.802,
          0.895,
          0.483,
          0.807,
          0.747,
          0.787,
          0.628,
          0.698,
          0.594,
          0.72,
          0.648,
          0.571,
          0.772,
          0.855,
          0.828,
          0.753,
          0.585,
          0.893,
          0.724
         ],
         "yaxis": "y3"
        },
        {
         "name": "valence",
         "type": "histogram",
         "xaxis": "x4",
         "y": [
          0.304,
          0.825,
          0.775,
          0.334,
          0.557,
          0.624,
          0.613,
          0.753,
          0.228,
          0.822,
          0.884,
          0.96,
          0.928,
          0.442,
          0.464,
          0.546,
          0.719,
          0.623,
          0.171,
          0.714,
          0.737,
          0.632,
          0.962,
          0.47,
          0.603,
          0.357,
          0.952,
          0.774,
          0.457,
          0.8,
          0.443,
          0.538,
          0.801,
          0.71,
          0.389,
          0.464,
          0.722,
          0.471,
          0.956,
          0.72,
          0.905,
          0.75,
          0.728,
          0.486,
          0.502,
          0.959,
          0.584,
          0.864,
          0.658,
          0.796,
          0.507,
          0.742,
          0.695,
          0.121,
          0.699,
          0.915,
          0.838,
          0.789,
          0.677,
          0.354,
          0.842,
          0.494,
          0.167,
          0.436,
          0.479,
          0.541,
          0.404,
          0.193,
          0.753,
          0.512,
          0.934,
          0.57,
          0.855,
          0.877,
          0.753,
          0.514,
          0.862,
          0.717,
          0.7,
          0.151,
          0.803,
          0.769,
          0.356,
          0.827,
          0.772,
          0.426,
          0.409,
          0.677,
          0.324,
          0.314,
          0.673,
          0.548,
          0.449,
          0.58,
          0.646,
          0.489,
          0.827,
          0.188,
          0.439,
          0.303
         ],
         "yaxis": "y4"
        },
        {
         "name": "speechiness",
         "type": "histogram",
         "xaxis": "x5",
         "y": [
          0.0343,
          0.0475,
          0.048,
          0.0598,
          0.0465,
          0.16,
          0.0361,
          0.247,
          0.0308,
          0.0856,
          0.0665,
          0.0427,
          0.0824,
          0.0343,
          0.119,
          0.22,
          0.241,
          0.0358,
          0.0868,
          0.0553,
          0.0993,
          0.0455,
          0.183,
          0.13,
          0.117,
          0.04,
          0.0588,
          0.034,
          0.0405,
          0.0595,
          0.0402,
          0.0346,
          0.126,
          0.22,
          0.0276,
          0.0449,
          0.0656,
          0.0989,
          0.0401,
          0.0257,
          0.0662,
          0.0287,
          0.0571,
          0.0906,
          0.0346,
          0.0979,
          0.151,
          0.0363,
          0.113,
          0.0478,
          0.0523,
          0.0286,
          0.0948,
          0.0487,
          0.0337,
          0.105,
          0.0628,
          0.0784,
          0.0842,
          0.037,
          0.0442,
          0.117,
          0.0388,
          0.07,
          0.102,
          0.519,
          0.0324,
          0.0644,
          0.041,
          0.0847,
          0.0852,
          0.0974,
          0.06,
          0.0897,
          0.0299,
          0.0937,
          0.0805,
          0.177,
          0.0682,
          0.0538,
          0.0385,
          0.0917,
          0.0426,
          0.0505,
          0.0411,
          0.0337,
          0.0502,
          0.221,
          0.0629,
          0.135,
          0.0381,
          0.187,
          0.0439,
          0.0792,
          0.0397,
          0.0449,
          0.0625,
          0.0369,
          0.0475,
          0.0705
         ],
         "yaxis": "y5"
        },
        {
         "name": "instrumentalness",
         "type": "histogram",
         "xaxis": "x6",
         "y": [
          0.00000707,
          0.000745,
          0,
          0.0000954,
          0,
          0.00000754,
          0,
          0.000127,
          0.000174,
          0,
          0.00000192,
          0.0000129,
          0.0000815,
          0.0000698,
          0,
          0,
          0.00113,
          0.00000733,
          0,
          0,
          0,
          0.0127,
          0,
          0,
          0,
          0.0568,
          0,
          0,
          0,
          0,
          0,
          0.000262,
          0.000132,
          0,
          0,
          0,
          0,
          0.0000114,
          0,
          0,
          0.0000114,
          0,
          0,
          0.000198,
          0.00000708,
          0.0000649,
          0,
          0.000001,
          0.0000692,
          0.00747,
          0,
          0.000158,
          0,
          0.0000359,
          0.00000254,
          0,
          0.0000145,
          0.0896,
          0,
          0,
          0,
          0.000127,
          0,
          0,
          0,
          0.00000203,
          0.00000571,
          0,
          0,
          0.000182,
          0.000365,
          0.00000496,
          0,
          0,
          0,
          0.000105,
          0,
          0.00000133,
          0,
          0.00089,
          0,
          0,
          0,
          0.00000868,
          0.00000355,
          0.000194,
          0,
          0,
          0.00000103,
          0,
          0,
          0,
          0,
          0.0000115,
          0,
          0.0000244,
          0.00000201,
          0,
          0.000937,
          0
         ],
         "yaxis": "y6"
        }
       ],
       "layout": {
        "annotations": [
         {
          "font": {
           "size": 16
          },
          "showarrow": false,
          "text": "popularity",
          "x": 0.14444444444444446,
          "xanchor": "center",
          "xref": "paper",
          "y": 1,
          "yanchor": "bottom",
          "yref": "paper"
         },
         {
          "font": {
           "size": 16
          },
          "showarrow": false,
          "text": "danceability",
          "x": 0.5,
          "xanchor": "center",
          "xref": "paper",
          "y": 1,
          "yanchor": "bottom",
          "yref": "paper"
         },
         {
          "font": {
           "size": 16
          },
          "showarrow": false,
          "text": "energy",
          "x": 0.8555555555555556,
          "xanchor": "center",
          "xref": "paper",
          "y": 1,
          "yanchor": "bottom",
          "yref": "paper"
         },
         {
          "font": {
           "size": 16
          },
          "showarrow": false,
          "text": "valence",
          "x": 0.14444444444444446,
          "xanchor": "center",
          "xref": "paper",
          "y": 0.375,
          "yanchor": "bottom",
          "yref": "paper"
         },
         {
          "font": {
           "size": 16
          },
          "showarrow": false,
          "text": "speechiness",
          "x": 0.5,
          "xanchor": "center",
          "xref": "paper",
          "y": 0.375,
          "yanchor": "bottom",
          "yref": "paper"
         },
         {
          "font": {
           "size": 16
          },
          "showarrow": false,
          "text": "instrumentalness",
          "x": 0.8555555555555556,
          "xanchor": "center",
          "xref": "paper",
          "y": 0.375,
          "yanchor": "bottom",
          "yref": "paper"
         }
        ],
        "height": 600,
        "template": {
         "data": {
          "bar": [
           {
            "error_x": {
             "color": "#2a3f5f"
            },
            "error_y": {
             "color": "#2a3f5f"
            },
            "marker": {
             "line": {
              "color": "#E5ECF6",
              "width": 0.5
             },
             "pattern": {
              "fillmode": "overlay",
              "size": 10,
              "solidity": 0.2
             }
            },
            "type": "bar"
           }
          ],
          "barpolar": [
           {
            "marker": {
             "line": {
              "color": "#E5ECF6",
              "width": 0.5
             },
             "pattern": {
              "fillmode": "overlay",
              "size": 10,
              "solidity": 0.2
             }
            },
            "type": "barpolar"
           }
          ],
          "carpet": [
           {
            "aaxis": {
             "endlinecolor": "#2a3f5f",
             "gridcolor": "white",
             "linecolor": "white",
             "minorgridcolor": "white",
             "startlinecolor": "#2a3f5f"
            },
            "baxis": {
             "endlinecolor": "#2a3f5f",
             "gridcolor": "white",
             "linecolor": "white",
             "minorgridcolor": "white",
             "startlinecolor": "#2a3f5f"
            },
            "type": "carpet"
           }
          ],
          "choropleth": [
           {
            "colorbar": {
             "outlinewidth": 0,
             "ticks": ""
            },
            "type": "choropleth"
           }
          ],
          "contour": [
           {
            "colorbar": {
             "outlinewidth": 0,
             "ticks": ""
            },
            "colorscale": [
             [
              0,
              "#0d0887"
             ],
             [
              0.1111111111111111,
              "#46039f"
             ],
             [
              0.2222222222222222,
              "#7201a8"
             ],
             [
              0.3333333333333333,
              "#9c179e"
             ],
             [
              0.4444444444444444,
              "#bd3786"
             ],
             [
              0.5555555555555556,
              "#d8576b"
             ],
             [
              0.6666666666666666,
              "#ed7953"
             ],
             [
              0.7777777777777778,
              "#fb9f3a"
             ],
             [
              0.8888888888888888,
              "#fdca26"
             ],
             [
              1,
              "#f0f921"
             ]
            ],
            "type": "contour"
           }
          ],
          "contourcarpet": [
           {
            "colorbar": {
             "outlinewidth": 0,
             "ticks": ""
            },
            "type": "contourcarpet"
           }
          ],
          "heatmap": [
           {
            "colorbar": {
             "outlinewidth": 0,
             "ticks": ""
            },
            "colorscale": [
             [
              0,
              "#0d0887"
             ],
             [
              0.1111111111111111,
              "#46039f"
             ],
             [
              0.2222222222222222,
              "#7201a8"
             ],
             [
              0.3333333333333333,
              "#9c179e"
             ],
             [
              0.4444444444444444,
              "#bd3786"
             ],
             [
              0.5555555555555556,
              "#d8576b"
             ],
             [
              0.6666666666666666,
              "#ed7953"
             ],
             [
              0.7777777777777778,
              "#fb9f3a"
             ],
             [
              0.8888888888888888,
              "#fdca26"
             ],
             [
              1,
              "#f0f921"
             ]
            ],
            "type": "heatmap"
           }
          ],
          "heatmapgl": [
           {
            "colorbar": {
             "outlinewidth": 0,
             "ticks": ""
            },
            "colorscale": [
             [
              0,
              "#0d0887"
             ],
             [
              0.1111111111111111,
              "#46039f"
             ],
             [
              0.2222222222222222,
              "#7201a8"
             ],
             [
              0.3333333333333333,
              "#9c179e"
             ],
             [
              0.4444444444444444,
              "#bd3786"
             ],
             [
              0.5555555555555556,
              "#d8576b"
             ],
             [
              0.6666666666666666,
              "#ed7953"
             ],
             [
              0.7777777777777778,
              "#fb9f3a"
             ],
             [
              0.8888888888888888,
              "#fdca26"
             ],
             [
              1,
              "#f0f921"
             ]
            ],
            "type": "heatmapgl"
           }
          ],
          "histogram": [
           {
            "marker": {
             "pattern": {
              "fillmode": "overlay",
              "size": 10,
              "solidity": 0.2
             }
            },
            "type": "histogram"
           }
          ],
          "histogram2d": [
           {
            "colorbar": {
             "outlinewidth": 0,
             "ticks": ""
            },
            "colorscale": [
             [
              0,
              "#0d0887"
             ],
             [
              0.1111111111111111,
              "#46039f"
             ],
             [
              0.2222222222222222,
              "#7201a8"
             ],
             [
              0.3333333333333333,
              "#9c179e"
             ],
             [
              0.4444444444444444,
              "#bd3786"
             ],
             [
              0.5555555555555556,
              "#d8576b"
             ],
             [
              0.6666666666666666,
              "#ed7953"
             ],
             [
              0.7777777777777778,
              "#fb9f3a"
             ],
             [
              0.8888888888888888,
              "#fdca26"
             ],
             [
              1,
              "#f0f921"
             ]
            ],
            "type": "histogram2d"
           }
          ],
          "histogram2dcontour": [
           {
            "colorbar": {
             "outlinewidth": 0,
             "ticks": ""
            },
            "colorscale": [
             [
              0,
              "#0d0887"
             ],
             [
              0.1111111111111111,
              "#46039f"
             ],
             [
              0.2222222222222222,
              "#7201a8"
             ],
             [
              0.3333333333333333,
              "#9c179e"
             ],
             [
              0.4444444444444444,
              "#bd3786"
             ],
             [
              0.5555555555555556,
              "#d8576b"
             ],
             [
              0.6666666666666666,
              "#ed7953"
             ],
             [
              0.7777777777777778,
              "#fb9f3a"
             ],
             [
              0.8888888888888888,
              "#fdca26"
             ],
             [
              1,
              "#f0f921"
             ]
            ],
            "type": "histogram2dcontour"
           }
          ],
          "mesh3d": [
           {
            "colorbar": {
             "outlinewidth": 0,
             "ticks": ""
            },
            "type": "mesh3d"
           }
          ],
          "parcoords": [
           {
            "line": {
             "colorbar": {
              "outlinewidth": 0,
              "ticks": ""
             }
            },
            "type": "parcoords"
           }
          ],
          "pie": [
           {
            "automargin": true,
            "type": "pie"
           }
          ],
          "scatter": [
           {
            "fillpattern": {
             "fillmode": "overlay",
             "size": 10,
             "solidity": 0.2
            },
            "type": "scatter"
           }
          ],
          "scatter3d": [
           {
            "line": {
             "colorbar": {
              "outlinewidth": 0,
              "ticks": ""
             }
            },
            "marker": {
             "colorbar": {
              "outlinewidth": 0,
              "ticks": ""
             }
            },
            "type": "scatter3d"
           }
          ],
          "scattercarpet": [
           {
            "marker": {
             "colorbar": {
              "outlinewidth": 0,
              "ticks": ""
             }
            },
            "type": "scattercarpet"
           }
          ],
          "scattergeo": [
           {
            "marker": {
             "colorbar": {
              "outlinewidth": 0,
              "ticks": ""
             }
            },
            "type": "scattergeo"
           }
          ],
          "scattergl": [
           {
            "marker": {
             "colorbar": {
              "outlinewidth": 0,
              "ticks": ""
             }
            },
            "type": "scattergl"
           }
          ],
          "scattermapbox": [
           {
            "marker": {
             "colorbar": {
              "outlinewidth": 0,
              "ticks": ""
             }
            },
            "type": "scattermapbox"
           }
          ],
          "scatterpolar": [
           {
            "marker": {
             "colorbar": {
              "outlinewidth": 0,
              "ticks": ""
             }
            },
            "type": "scatterpolar"
           }
          ],
          "scatterpolargl": [
           {
            "marker": {
             "colorbar": {
              "outlinewidth": 0,
              "ticks": ""
             }
            },
            "type": "scatterpolargl"
           }
          ],
          "scatterternary": [
           {
            "marker": {
             "colorbar": {
              "outlinewidth": 0,
              "ticks": ""
             }
            },
            "type": "scatterternary"
           }
          ],
          "surface": [
           {
            "colorbar": {
             "outlinewidth": 0,
             "ticks": ""
            },
            "colorscale": [
             [
              0,
              "#0d0887"
             ],
             [
              0.1111111111111111,
              "#46039f"
             ],
             [
              0.2222222222222222,
              "#7201a8"
             ],
             [
              0.3333333333333333,
              "#9c179e"
             ],
             [
              0.4444444444444444,
              "#bd3786"
             ],
             [
              0.5555555555555556,
              "#d8576b"
             ],
             [
              0.6666666666666666,
              "#ed7953"
             ],
             [
              0.7777777777777778,
              "#fb9f3a"
             ],
             [
              0.8888888888888888,
              "#fdca26"
             ],
             [
              1,
              "#f0f921"
             ]
            ],
            "type": "surface"
           }
          ],
          "table": [
           {
            "cells": {
             "fill": {
              "color": "#EBF0F8"
             },
             "line": {
              "color": "white"
             }
            },
            "header": {
             "fill": {
              "color": "#C8D4E3"
             },
             "line": {
              "color": "white"
             }
            },
            "type": "table"
           }
          ]
         },
         "layout": {
          "annotationdefaults": {
           "arrowcolor": "#2a3f5f",
           "arrowhead": 0,
           "arrowwidth": 1
          },
          "autotypenumbers": "strict",
          "coloraxis": {
           "colorbar": {
            "outlinewidth": 0,
            "ticks": ""
           }
          },
          "colorscale": {
           "diverging": [
            [
             0,
             "#8e0152"
            ],
            [
             0.1,
             "#c51b7d"
            ],
            [
             0.2,
             "#de77ae"
            ],
            [
             0.3,
             "#f1b6da"
            ],
            [
             0.4,
             "#fde0ef"
            ],
            [
             0.5,
             "#f7f7f7"
            ],
            [
             0.6,
             "#e6f5d0"
            ],
            [
             0.7,
             "#b8e186"
            ],
            [
             0.8,
             "#7fbc41"
            ],
            [
             0.9,
             "#4d9221"
            ],
            [
             1,
             "#276419"
            ]
           ],
           "sequential": [
            [
             0,
             "#0d0887"
            ],
            [
             0.1111111111111111,
             "#46039f"
            ],
            [
             0.2222222222222222,
             "#7201a8"
            ],
            [
             0.3333333333333333,
             "#9c179e"
            ],
            [
             0.4444444444444444,
             "#bd3786"
            ],
            [
             0.5555555555555556,
             "#d8576b"
            ],
            [
             0.6666666666666666,
             "#ed7953"
            ],
            [
             0.7777777777777778,
             "#fb9f3a"
            ],
            [
             0.8888888888888888,
             "#fdca26"
            ],
            [
             1,
             "#f0f921"
            ]
           ],
           "sequentialminus": [
            [
             0,
             "#0d0887"
            ],
            [
             0.1111111111111111,
             "#46039f"
            ],
            [
             0.2222222222222222,
             "#7201a8"
            ],
            [
             0.3333333333333333,
             "#9c179e"
            ],
            [
             0.4444444444444444,
             "#bd3786"
            ],
            [
             0.5555555555555556,
             "#d8576b"
            ],
            [
             0.6666666666666666,
             "#ed7953"
            ],
            [
             0.7777777777777778,
             "#fb9f3a"
            ],
            [
             0.8888888888888888,
             "#fdca26"
            ],
            [
             1,
             "#f0f921"
            ]
           ]
          },
          "colorway": [
           "#636efa",
           "#EF553B",
           "#00cc96",
           "#ab63fa",
           "#FFA15A",
           "#19d3f3",
           "#FF6692",
           "#B6E880",
           "#FF97FF",
           "#FECB52"
          ],
          "font": {
           "color": "#2a3f5f"
          },
          "geo": {
           "bgcolor": "white",
           "lakecolor": "white",
           "landcolor": "#E5ECF6",
           "showlakes": true,
           "showland": true,
           "subunitcolor": "white"
          },
          "hoverlabel": {
           "align": "left"
          },
          "hovermode": "closest",
          "mapbox": {
           "style": "light"
          },
          "paper_bgcolor": "white",
          "plot_bgcolor": "#E5ECF6",
          "polar": {
           "angularaxis": {
            "gridcolor": "white",
            "linecolor": "white",
            "ticks": ""
           },
           "bgcolor": "#E5ECF6",
           "radialaxis": {
            "gridcolor": "white",
            "linecolor": "white",
            "ticks": ""
           }
          },
          "scene": {
           "xaxis": {
            "backgroundcolor": "#E5ECF6",
            "gridcolor": "white",
            "gridwidth": 2,
            "linecolor": "white",
            "showbackground": true,
            "ticks": "",
            "zerolinecolor": "white"
           },
           "yaxis": {
            "backgroundcolor": "#E5ECF6",
            "gridcolor": "white",
            "gridwidth": 2,
            "linecolor": "white",
            "showbackground": true,
            "ticks": "",
            "zerolinecolor": "white"
           },
           "zaxis": {
            "backgroundcolor": "#E5ECF6",
            "gridcolor": "white",
            "gridwidth": 2,
            "linecolor": "white",
            "showbackground": true,
            "ticks": "",
            "zerolinecolor": "white"
           }
          },
          "shapedefaults": {
           "line": {
            "color": "#2a3f5f"
           }
          },
          "ternary": {
           "aaxis": {
            "gridcolor": "white",
            "linecolor": "white",
            "ticks": ""
           },
           "baxis": {
            "gridcolor": "white",
            "linecolor": "white",
            "ticks": ""
           },
           "bgcolor": "#E5ECF6",
           "caxis": {
            "gridcolor": "white",
            "linecolor": "white",
            "ticks": ""
           }
          },
          "title": {
           "x": 0.05
          },
          "xaxis": {
           "automargin": true,
           "gridcolor": "white",
           "linecolor": "white",
           "ticks": "",
           "title": {
            "standoff": 15
           },
           "zerolinecolor": "white",
           "zerolinewidth": 2
          },
          "yaxis": {
           "automargin": true,
           "gridcolor": "white",
           "linecolor": "white",
           "ticks": "",
           "title": {
            "standoff": 15
           },
           "zerolinecolor": "white",
           "zerolinewidth": 2
          }
         }
        },
        "title": {
         "text": "Histogramas:"
        },
        "width": 900,
        "xaxis": {
         "anchor": "y",
         "domain": [
          0,
          0.2888888888888889
         ]
        },
        "xaxis2": {
         "anchor": "y2",
         "domain": [
          0.35555555555555557,
          0.6444444444444445
         ]
        },
        "xaxis3": {
         "anchor": "y3",
         "domain": [
          0.7111111111111111,
          1
         ]
        },
        "xaxis4": {
         "anchor": "y4",
         "domain": [
          0,
          0.2888888888888889
         ]
        },
        "xaxis5": {
         "anchor": "y5",
         "domain": [
          0.35555555555555557,
          0.6444444444444445
         ]
        },
        "xaxis6": {
         "anchor": "y6",
         "domain": [
          0.7111111111111111,
          1
         ]
        },
        "yaxis": {
         "anchor": "x",
         "domain": [
          0.625,
          1
         ]
        },
        "yaxis2": {
         "anchor": "x2",
         "domain": [
          0.625,
          1
         ]
        },
        "yaxis3": {
         "anchor": "x3",
         "domain": [
          0.625,
          1
         ]
        },
        "yaxis4": {
         "anchor": "x4",
         "domain": [
          0,
          0.375
         ]
        },
        "yaxis5": {
         "anchor": "x5",
         "domain": [
          0,
          0.375
         ]
        },
        "yaxis6": {
         "anchor": "x6",
         "domain": [
          0,
          0.375
         ]
        }
       }
      }
     },
     "metadata": {},
     "output_type": "display_data"
    }
   ],
   "source": [
    "cols = ['popularity','danceability', 'energy','valence', 'speechiness','instrumentalness']\n",
    "\n",
    "fig = make_subplots(rows=2, cols=3, subplot_titles=cols)\n",
    "\n",
    "for i, col in enumerate(cols):\n",
    "    fig.add_trace(go.Histogram(y=happy_df[col], name=col), row=(i // 3) + 1, col=(i % 3) + 1)\n",
    "\n",
    "fig.update_layout(\n",
    "    title=\"Histogramas:\",\n",
    "    height=600,\n",
    "    width=900\n",
    ")\n",
    "\n",
    "fig.show()"
   ]
  },
  {
   "cell_type": "markdown",
   "metadata": {},
   "source": [
    "Vemos que las canciones alegres según la lista que ha generado Spotify:  \n",
    "- Por lo general son canciones bastante populares (con un 80 sobre 100 de media podriamos decir).  \n",
    "- En cuanto a la bailabilidad la mayoría son bailables ya que los valores están cerca del 1.  \n",
    "- Son canciones enérgicas.  \n",
    "- Respecto a la valencia son canciones alegres en su mayoría aunque parece que hay canciones con valencia muy baja. La valencia indica cuan alegres son las canciones por eso nos choca un poco al ver esto.  \n",
    "- Son canciones que no son habladas o rapeadas.  \n",
    "- Por último, vemos que casi todas las canciones tienen voces, no son puramente instrumentales."
   ]
  },
  {
   "cell_type": "markdown",
   "metadata": {},
   "source": [
    "#### 2. Tristeza / Sad"
   ]
  },
  {
   "cell_type": "code",
   "execution_count": 18,
   "metadata": {},
   "outputs": [
    {
     "data": {
      "text/html": [
       "<div>\n",
       "<style scoped>\n",
       "    .dataframe tbody tr th:only-of-type {\n",
       "        vertical-align: middle;\n",
       "    }\n",
       "\n",
       "    .dataframe tbody tr th {\n",
       "        vertical-align: top;\n",
       "    }\n",
       "\n",
       "    .dataframe thead th {\n",
       "        text-align: right;\n",
       "    }\n",
       "</style>\n",
       "<table border=\"1\" class=\"dataframe\">\n",
       "  <thead>\n",
       "    <tr style=\"text-align: right;\">\n",
       "      <th></th>\n",
       "      <th>Mood</th>\n",
       "      <th>song_name</th>\n",
       "      <th>artist_name</th>\n",
       "      <th>popularity</th>\n",
       "      <th>danceability</th>\n",
       "      <th>energy</th>\n",
       "      <th>key</th>\n",
       "      <th>loudness</th>\n",
       "      <th>mode</th>\n",
       "      <th>speechiness</th>\n",
       "      <th>acousticness</th>\n",
       "      <th>instrumentalness</th>\n",
       "      <th>liveness</th>\n",
       "      <th>valence</th>\n",
       "      <th>tempo</th>\n",
       "      <th>duration_ms</th>\n",
       "      <th>song_uri</th>\n",
       "    </tr>\n",
       "  </thead>\n",
       "  <tbody>\n",
       "    <tr>\n",
       "      <th>100</th>\n",
       "      <td>Sad</td>\n",
       "      <td>When I Was Your Man</td>\n",
       "      <td>Bruno Mars</td>\n",
       "      <td>91</td>\n",
       "      <td>0.612</td>\n",
       "      <td>0.280</td>\n",
       "      <td>0</td>\n",
       "      <td>-8.648</td>\n",
       "      <td>1</td>\n",
       "      <td>0.0434</td>\n",
       "      <td>0.9320</td>\n",
       "      <td>0.000000</td>\n",
       "      <td>0.0880</td>\n",
       "      <td>0.387</td>\n",
       "      <td>72.795</td>\n",
       "      <td>213827</td>\n",
       "      <td>spotify:track:0nJW01T7XtvILxQgC5J7Wh</td>\n",
       "    </tr>\n",
       "    <tr>\n",
       "      <th>101</th>\n",
       "      <td>Sad</td>\n",
       "      <td>When We Were Young</td>\n",
       "      <td>Adele</td>\n",
       "      <td>77</td>\n",
       "      <td>0.376</td>\n",
       "      <td>0.595</td>\n",
       "      <td>3</td>\n",
       "      <td>-5.936</td>\n",
       "      <td>1</td>\n",
       "      <td>0.0496</td>\n",
       "      <td>0.3030</td>\n",
       "      <td>0.000000</td>\n",
       "      <td>0.0950</td>\n",
       "      <td>0.265</td>\n",
       "      <td>144.361</td>\n",
       "      <td>290900</td>\n",
       "      <td>spotify:track:7GgWAITsYJaRM3r50rfh5w</td>\n",
       "    </tr>\n",
       "    <tr>\n",
       "      <th>102</th>\n",
       "      <td>Sad</td>\n",
       "      <td>Sparks</td>\n",
       "      <td>Coldplay</td>\n",
       "      <td>88</td>\n",
       "      <td>0.371</td>\n",
       "      <td>0.268</td>\n",
       "      <td>1</td>\n",
       "      <td>-10.506</td>\n",
       "      <td>1</td>\n",
       "      <td>0.0281</td>\n",
       "      <td>0.7480</td>\n",
       "      <td>0.051700</td>\n",
       "      <td>0.1040</td>\n",
       "      <td>0.165</td>\n",
       "      <td>102.617</td>\n",
       "      <td>227093</td>\n",
       "      <td>spotify:track:7D0RhFcb3CrfPuTJ0obrod</td>\n",
       "    </tr>\n",
       "    <tr>\n",
       "      <th>103</th>\n",
       "      <td>Sad</td>\n",
       "      <td>Only Love Can Hurt Like This</td>\n",
       "      <td>Paloma Faith</td>\n",
       "      <td>86</td>\n",
       "      <td>0.566</td>\n",
       "      <td>0.885</td>\n",
       "      <td>8</td>\n",
       "      <td>-4.528</td>\n",
       "      <td>1</td>\n",
       "      <td>0.0818</td>\n",
       "      <td>0.0958</td>\n",
       "      <td>0.000100</td>\n",
       "      <td>0.3340</td>\n",
       "      <td>0.304</td>\n",
       "      <td>90.990</td>\n",
       "      <td>232893</td>\n",
       "      <td>spotify:track:62ke5zFUJN6RvtXZgVH0F8</td>\n",
       "    </tr>\n",
       "    <tr>\n",
       "      <th>104</th>\n",
       "      <td>Sad</td>\n",
       "      <td>Slide Away</td>\n",
       "      <td>Miley Cyrus</td>\n",
       "      <td>70</td>\n",
       "      <td>0.534</td>\n",
       "      <td>0.538</td>\n",
       "      <td>5</td>\n",
       "      <td>-6.673</td>\n",
       "      <td>1</td>\n",
       "      <td>0.0327</td>\n",
       "      <td>0.1730</td>\n",
       "      <td>0.000003</td>\n",
       "      <td>0.2480</td>\n",
       "      <td>0.289</td>\n",
       "      <td>148.016</td>\n",
       "      <td>233654</td>\n",
       "      <td>spotify:track:6QQtHdz4PNJWQX4nrAQGC9</td>\n",
       "    </tr>\n",
       "    <tr>\n",
       "      <th>...</th>\n",
       "      <td>...</td>\n",
       "      <td>...</td>\n",
       "      <td>...</td>\n",
       "      <td>...</td>\n",
       "      <td>...</td>\n",
       "      <td>...</td>\n",
       "      <td>...</td>\n",
       "      <td>...</td>\n",
       "      <td>...</td>\n",
       "      <td>...</td>\n",
       "      <td>...</td>\n",
       "      <td>...</td>\n",
       "      <td>...</td>\n",
       "      <td>...</td>\n",
       "      <td>...</td>\n",
       "      <td>...</td>\n",
       "      <td>...</td>\n",
       "    </tr>\n",
       "    <tr>\n",
       "      <th>195</th>\n",
       "      <td>Sad</td>\n",
       "      <td>Say Something</td>\n",
       "      <td>A Great Big World</td>\n",
       "      <td>57</td>\n",
       "      <td>0.447</td>\n",
       "      <td>0.158</td>\n",
       "      <td>2</td>\n",
       "      <td>-7.571</td>\n",
       "      <td>1</td>\n",
       "      <td>0.0360</td>\n",
       "      <td>0.8720</td>\n",
       "      <td>0.000002</td>\n",
       "      <td>0.0816</td>\n",
       "      <td>0.142</td>\n",
       "      <td>140.942</td>\n",
       "      <td>233267</td>\n",
       "      <td>spotify:track:2fPb58e6f8KxejYDCaARwS</td>\n",
       "    </tr>\n",
       "    <tr>\n",
       "      <th>196</th>\n",
       "      <td>Sad</td>\n",
       "      <td>LOVE ME OR LEAVE ME</td>\n",
       "      <td>Munn</td>\n",
       "      <td>56</td>\n",
       "      <td>0.732</td>\n",
       "      <td>0.459</td>\n",
       "      <td>6</td>\n",
       "      <td>-8.029</td>\n",
       "      <td>1</td>\n",
       "      <td>0.0898</td>\n",
       "      <td>0.5240</td>\n",
       "      <td>0.000000</td>\n",
       "      <td>0.0816</td>\n",
       "      <td>0.481</td>\n",
       "      <td>130.136</td>\n",
       "      <td>146457</td>\n",
       "      <td>spotify:track:0zUT6RbKCqHqorVnXVoZcm</td>\n",
       "    </tr>\n",
       "    <tr>\n",
       "      <th>197</th>\n",
       "      <td>Sad</td>\n",
       "      <td>Til It Happens To You</td>\n",
       "      <td>Lady Gaga</td>\n",
       "      <td>56</td>\n",
       "      <td>0.401</td>\n",
       "      <td>0.539</td>\n",
       "      <td>0</td>\n",
       "      <td>-4.719</td>\n",
       "      <td>1</td>\n",
       "      <td>0.0350</td>\n",
       "      <td>0.5650</td>\n",
       "      <td>0.000000</td>\n",
       "      <td>0.0933</td>\n",
       "      <td>0.150</td>\n",
       "      <td>113.870</td>\n",
       "      <td>258093</td>\n",
       "      <td>spotify:track:0bCCGLHflR08UVA6oJJc8I</td>\n",
       "    </tr>\n",
       "    <tr>\n",
       "      <th>198</th>\n",
       "      <td>Sad</td>\n",
       "      <td>Never on the Day You Leave</td>\n",
       "      <td>John Mayer</td>\n",
       "      <td>55</td>\n",
       "      <td>0.536</td>\n",
       "      <td>0.355</td>\n",
       "      <td>2</td>\n",
       "      <td>-8.610</td>\n",
       "      <td>1</td>\n",
       "      <td>0.0259</td>\n",
       "      <td>0.7330</td>\n",
       "      <td>0.000012</td>\n",
       "      <td>0.1380</td>\n",
       "      <td>0.220</td>\n",
       "      <td>139.888</td>\n",
       "      <td>220867</td>\n",
       "      <td>spotify:track:3TQbr3G3U5wlwEJejmqC1F</td>\n",
       "    </tr>\n",
       "    <tr>\n",
       "      <th>199</th>\n",
       "      <td>Sad</td>\n",
       "      <td>Wild Hearts Can't Be Broken</td>\n",
       "      <td>P!nk</td>\n",
       "      <td>53</td>\n",
       "      <td>0.377</td>\n",
       "      <td>0.371</td>\n",
       "      <td>0</td>\n",
       "      <td>-6.300</td>\n",
       "      <td>1</td>\n",
       "      <td>0.0295</td>\n",
       "      <td>0.9320</td>\n",
       "      <td>0.000000</td>\n",
       "      <td>0.1180</td>\n",
       "      <td>0.189</td>\n",
       "      <td>130.570</td>\n",
       "      <td>201053</td>\n",
       "      <td>spotify:track:3nA9tHmsw5UGMtSIMz4mt7</td>\n",
       "    </tr>\n",
       "  </tbody>\n",
       "</table>\n",
       "<p>100 rows × 17 columns</p>\n",
       "</div>"
      ],
      "text/plain": [
       "    Mood                     song_name        artist_name  popularity  \\\n",
       "100  Sad           When I Was Your Man         Bruno Mars          91   \n",
       "101  Sad            When We Were Young              Adele          77   \n",
       "102  Sad                        Sparks           Coldplay          88   \n",
       "103  Sad  Only Love Can Hurt Like This       Paloma Faith          86   \n",
       "104  Sad                    Slide Away        Miley Cyrus          70   \n",
       "..   ...                           ...                ...         ...   \n",
       "195  Sad                 Say Something  A Great Big World          57   \n",
       "196  Sad           LOVE ME OR LEAVE ME               Munn          56   \n",
       "197  Sad         Til It Happens To You          Lady Gaga          56   \n",
       "198  Sad    Never on the Day You Leave         John Mayer          55   \n",
       "199  Sad   Wild Hearts Can't Be Broken               P!nk          53   \n",
       "\n",
       "     danceability  energy  key  loudness  mode  speechiness  acousticness  \\\n",
       "100         0.612   0.280    0    -8.648     1       0.0434        0.9320   \n",
       "101         0.376   0.595    3    -5.936     1       0.0496        0.3030   \n",
       "102         0.371   0.268    1   -10.506     1       0.0281        0.7480   \n",
       "103         0.566   0.885    8    -4.528     1       0.0818        0.0958   \n",
       "104         0.534   0.538    5    -6.673     1       0.0327        0.1730   \n",
       "..            ...     ...  ...       ...   ...          ...           ...   \n",
       "195         0.447   0.158    2    -7.571     1       0.0360        0.8720   \n",
       "196         0.732   0.459    6    -8.029     1       0.0898        0.5240   \n",
       "197         0.401   0.539    0    -4.719     1       0.0350        0.5650   \n",
       "198         0.536   0.355    2    -8.610     1       0.0259        0.7330   \n",
       "199         0.377   0.371    0    -6.300     1       0.0295        0.9320   \n",
       "\n",
       "     instrumentalness  liveness  valence    tempo  duration_ms  \\\n",
       "100          0.000000    0.0880    0.387   72.795       213827   \n",
       "101          0.000000    0.0950    0.265  144.361       290900   \n",
       "102          0.051700    0.1040    0.165  102.617       227093   \n",
       "103          0.000100    0.3340    0.304   90.990       232893   \n",
       "104          0.000003    0.2480    0.289  148.016       233654   \n",
       "..                ...       ...      ...      ...          ...   \n",
       "195          0.000002    0.0816    0.142  140.942       233267   \n",
       "196          0.000000    0.0816    0.481  130.136       146457   \n",
       "197          0.000000    0.0933    0.150  113.870       258093   \n",
       "198          0.000012    0.1380    0.220  139.888       220867   \n",
       "199          0.000000    0.1180    0.189  130.570       201053   \n",
       "\n",
       "                                 song_uri  \n",
       "100  spotify:track:0nJW01T7XtvILxQgC5J7Wh  \n",
       "101  spotify:track:7GgWAITsYJaRM3r50rfh5w  \n",
       "102  spotify:track:7D0RhFcb3CrfPuTJ0obrod  \n",
       "103  spotify:track:62ke5zFUJN6RvtXZgVH0F8  \n",
       "104  spotify:track:6QQtHdz4PNJWQX4nrAQGC9  \n",
       "..                                    ...  \n",
       "195  spotify:track:2fPb58e6f8KxejYDCaARwS  \n",
       "196  spotify:track:0zUT6RbKCqHqorVnXVoZcm  \n",
       "197  spotify:track:0bCCGLHflR08UVA6oJJc8I  \n",
       "198  spotify:track:3TQbr3G3U5wlwEJejmqC1F  \n",
       "199  spotify:track:3nA9tHmsw5UGMtSIMz4mt7  \n",
       "\n",
       "[100 rows x 17 columns]"
      ]
     },
     "execution_count": 18,
     "metadata": {},
     "output_type": "execute_result"
    }
   ],
   "source": [
    "sad_df = df[(df.Mood == 'Sad')]\n",
    "sad_df"
   ]
  },
  {
   "cell_type": "markdown",
   "metadata": {},
   "source": [
    "##### 2.1 Variables no acotadas (duration_ms, loudness y tempo)"
   ]
  },
  {
   "cell_type": "code",
   "execution_count": 19,
   "metadata": {},
   "outputs": [
    {
     "name": "stderr",
     "output_type": "stream",
     "text": [
      "C:\\Users\\User\\AppData\\Local\\Temp\\ipykernel_9492\\1980610954.py:2: SettingWithCopyWarning:\n",
      "\n",
      "\n",
      "A value is trying to be set on a copy of a slice from a DataFrame.\n",
      "Try using .loc[row_indexer,col_indexer] = value instead\n",
      "\n",
      "See the caveats in the documentation: https://pandas.pydata.org/pandas-docs/stable/user_guide/indexing.html#returning-a-view-versus-a-copy\n",
      "\n"
     ]
    }
   ],
   "source": [
    "# Convierto ms a minutos: 1 min = 60.000 ms\n",
    "sad_df['duration_ms'] = sad_df['duration_ms']/60000"
   ]
  },
  {
   "cell_type": "code",
   "execution_count": 20,
   "metadata": {},
   "outputs": [
    {
     "data": {
      "application/vnd.plotly.v1+json": {
       "config": {
        "plotlyServerURL": "https://plot.ly"
       },
       "data": [
        {
         "name": "duration_ms",
         "type": "box",
         "xaxis": "x",
         "y": [
          3.5637833333333333,
          4.848333333333334,
          3.784883333333333,
          3.88155,
          3.894233333333333,
          4.072666666666667,
          3.35,
          4.82555,
          3.4879,
          3.7449166666666667,
          4.92555,
          3.4409833333333335,
          4.752,
          4.3380833333333335,
          5.095783333333333,
          2.8787333333333334,
          3.72245,
          2.601766666666667,
          3.458666666666667,
          4.332216666666667,
          3.324883333333333,
          3.272883333333333,
          3.193966666666667,
          3.4054333333333333,
          2.88845,
          3.4702,
          4.412883333333333,
          4.2122166666666665,
          2.4388833333333335,
          5.486,
          3.7133333333333334,
          4.794883333333333,
          3.6851166666666666,
          4.026583333333333,
          4.09045,
          4.357116666666666,
          3.6088833333333334,
          3.8271166666666665,
          4.3197833333333335,
          2.8621333333333334,
          4.109783333333334,
          4.251116666666666,
          3.3513333333333333,
          3.5326666666666666,
          4.883783333333334,
          3.5611166666666665,
          3.7948833333333334,
          3.5033333333333334,
          3.46845,
          3.56845,
          3.6582166666666667,
          3.1579166666666665,
          3.8377833333333333,
          4.342216666666666,
          6.897116666666666,
          3.5917833333333333,
          3.15845,
          4.092216666666666,
          3.77555,
          5.205116666666667,
          3.07,
          4.011783333333334,
          3.1531166666666666,
          3.1092,
          4.171116666666666,
          4.448766666666667,
          4.378216666666667,
          3.9503333333333335,
          2.97445,
          5.333783333333334,
          6.3917166666666665,
          3.7431,
          3.8413333333333335,
          5.549333333333333,
          3.8793333333333333,
          3.3566833333333332,
          4.241783333333333,
          2.9348833333333335,
          3.7202166666666665,
          2.2502166666666668,
          4.17845,
          4.095783333333333,
          3.0573333333333332,
          3.538,
          4.843933333333333,
          4.347533333333334,
          3.188466666666667,
          3.4968833333333333,
          4.437,
          2.974,
          2.965516666666667,
          3.8866666666666667,
          3.8482166666666666,
          3.711333333333333,
          3.7455166666666666,
          3.887783333333333,
          2.44095,
          4.30155,
          3.6811166666666666,
          3.3508833333333334
         ],
         "yaxis": "y"
        },
        {
         "name": "loudness",
         "type": "box",
         "xaxis": "x2",
         "y": [
          -8.648,
          -5.936,
          -10.506,
          -4.528,
          -6.673,
          -8.532,
          -8.237,
          -8.072,
          -7.458,
          -7.519,
          -8.74,
          -8.985,
          -7.445,
          -8.745,
          -9.733,
          -6.444,
          -5.408,
          -8.953,
          -7.355,
          -5.862,
          -22.32,
          -6.319,
          -8.233,
          -7.699,
          -6.184,
          -9.51,
          -6.815,
          -7.346,
          -11.359,
          -7.809,
          -11.881,
          -8.95,
          -10.517,
          -8.93,
          -5.098,
          -4.501,
          -7.636,
          -7.419,
          -9.261,
          -11.254,
          -6.142,
          -11.063,
          -8.485,
          -16.288,
          -4.663,
          -8.524,
          -9.249,
          -5.972,
          -6.12,
          -5.134,
          -5.362,
          -11.879,
          -7.202,
          -10.396,
          -10.33,
          -6.654,
          -17.212,
          -11.635,
          -3.631,
          -10.005,
          -6.275,
          -10.164,
          -12.233,
          -7.492,
          -7.508,
          -8.346,
          -5.864,
          -11.917,
          -6.792,
          -8.177,
          -6.957,
          -4.88,
          -8.683,
          -16.728,
          -10.357,
          -6.634,
          -5.72,
          -13.498,
          -11.368,
          -18.857,
          -6.286,
          -9.321,
          -12.038,
          -6.372,
          -10.088,
          -8.532,
          -7.685,
          -10.955,
          -7.669,
          -12.017,
          -6.124,
          -5.222,
          -12.688,
          -5.031,
          -6.513,
          -7.571,
          -8.029,
          -4.719,
          -8.61,
          -6.3
         ],
         "yaxis": "y2"
        },
        {
         "name": "tempo",
         "type": "box",
         "xaxis": "x3",
         "y": [
          72.795,
          144.361,
          102.617,
          90.99,
          148.016,
          122.769,
          91.873,
          155.925,
          88.964,
          141.981,
          138.178,
          102.819,
          139.028,
          112.672,
          187.376,
          84.094,
          143.95,
          72.541,
          89.792,
          79.064,
          159.375,
          126.684,
          118.057,
          171.006,
          132.861,
          86.997,
          111.96,
          74.897,
          103.239,
          185.972,
          78.262,
          116.76,
          89.749,
          130.953,
          79.918,
          94.034,
          90.379,
          139.807,
          95.946,
          75.67,
          74.541,
          83.966,
          166.467,
          94.08,
          141.893,
          122.06,
          117.64,
          129.976,
          118.008,
          136.002,
          140.039,
          116.86,
          73.415,
          147.464,
          97.256,
          149.609,
          174.149,
          165.026,
          90.036,
          118.515,
          74.336,
          111.893,
          80.401,
          177.913,
          81.05,
          95.161,
          104.058,
          169.326,
          84.339,
          177.508,
          146.512,
          95.969,
          85.728,
          124.689,
          168.964,
          171.4,
          90.289,
          135.724,
          80.098,
          64.303,
          143.808,
          136.012,
          67.195,
          109.558,
          102.031,
          78.076,
          140.327,
          77.772,
          83.919,
          97.348,
          155.777,
          144.073,
          103.265,
          85.917,
          85.399,
          140.942,
          130.136,
          113.87,
          139.888,
          130.57
         ],
         "yaxis": "y3"
        }
       ],
       "layout": {
        "annotations": [
         {
          "font": {
           "size": 16
          },
          "showarrow": false,
          "text": "duration_ms",
          "x": 0.14444444444444446,
          "xanchor": "center",
          "xref": "paper",
          "y": 1,
          "yanchor": "bottom",
          "yref": "paper"
         },
         {
          "font": {
           "size": 16
          },
          "showarrow": false,
          "text": "loudness",
          "x": 0.5,
          "xanchor": "center",
          "xref": "paper",
          "y": 1,
          "yanchor": "bottom",
          "yref": "paper"
         },
         {
          "font": {
           "size": 16
          },
          "showarrow": false,
          "text": "tempo",
          "x": 0.8555555555555556,
          "xanchor": "center",
          "xref": "paper",
          "y": 1,
          "yanchor": "bottom",
          "yref": "paper"
         }
        ],
        "height": 400,
        "template": {
         "data": {
          "bar": [
           {
            "error_x": {
             "color": "#2a3f5f"
            },
            "error_y": {
             "color": "#2a3f5f"
            },
            "marker": {
             "line": {
              "color": "#E5ECF6",
              "width": 0.5
             },
             "pattern": {
              "fillmode": "overlay",
              "size": 10,
              "solidity": 0.2
             }
            },
            "type": "bar"
           }
          ],
          "barpolar": [
           {
            "marker": {
             "line": {
              "color": "#E5ECF6",
              "width": 0.5
             },
             "pattern": {
              "fillmode": "overlay",
              "size": 10,
              "solidity": 0.2
             }
            },
            "type": "barpolar"
           }
          ],
          "carpet": [
           {
            "aaxis": {
             "endlinecolor": "#2a3f5f",
             "gridcolor": "white",
             "linecolor": "white",
             "minorgridcolor": "white",
             "startlinecolor": "#2a3f5f"
            },
            "baxis": {
             "endlinecolor": "#2a3f5f",
             "gridcolor": "white",
             "linecolor": "white",
             "minorgridcolor": "white",
             "startlinecolor": "#2a3f5f"
            },
            "type": "carpet"
           }
          ],
          "choropleth": [
           {
            "colorbar": {
             "outlinewidth": 0,
             "ticks": ""
            },
            "type": "choropleth"
           }
          ],
          "contour": [
           {
            "colorbar": {
             "outlinewidth": 0,
             "ticks": ""
            },
            "colorscale": [
             [
              0,
              "#0d0887"
             ],
             [
              0.1111111111111111,
              "#46039f"
             ],
             [
              0.2222222222222222,
              "#7201a8"
             ],
             [
              0.3333333333333333,
              "#9c179e"
             ],
             [
              0.4444444444444444,
              "#bd3786"
             ],
             [
              0.5555555555555556,
              "#d8576b"
             ],
             [
              0.6666666666666666,
              "#ed7953"
             ],
             [
              0.7777777777777778,
              "#fb9f3a"
             ],
             [
              0.8888888888888888,
              "#fdca26"
             ],
             [
              1,
              "#f0f921"
             ]
            ],
            "type": "contour"
           }
          ],
          "contourcarpet": [
           {
            "colorbar": {
             "outlinewidth": 0,
             "ticks": ""
            },
            "type": "contourcarpet"
           }
          ],
          "heatmap": [
           {
            "colorbar": {
             "outlinewidth": 0,
             "ticks": ""
            },
            "colorscale": [
             [
              0,
              "#0d0887"
             ],
             [
              0.1111111111111111,
              "#46039f"
             ],
             [
              0.2222222222222222,
              "#7201a8"
             ],
             [
              0.3333333333333333,
              "#9c179e"
             ],
             [
              0.4444444444444444,
              "#bd3786"
             ],
             [
              0.5555555555555556,
              "#d8576b"
             ],
             [
              0.6666666666666666,
              "#ed7953"
             ],
             [
              0.7777777777777778,
              "#fb9f3a"
             ],
             [
              0.8888888888888888,
              "#fdca26"
             ],
             [
              1,
              "#f0f921"
             ]
            ],
            "type": "heatmap"
           }
          ],
          "heatmapgl": [
           {
            "colorbar": {
             "outlinewidth": 0,
             "ticks": ""
            },
            "colorscale": [
             [
              0,
              "#0d0887"
             ],
             [
              0.1111111111111111,
              "#46039f"
             ],
             [
              0.2222222222222222,
              "#7201a8"
             ],
             [
              0.3333333333333333,
              "#9c179e"
             ],
             [
              0.4444444444444444,
              "#bd3786"
             ],
             [
              0.5555555555555556,
              "#d8576b"
             ],
             [
              0.6666666666666666,
              "#ed7953"
             ],
             [
              0.7777777777777778,
              "#fb9f3a"
             ],
             [
              0.8888888888888888,
              "#fdca26"
             ],
             [
              1,
              "#f0f921"
             ]
            ],
            "type": "heatmapgl"
           }
          ],
          "histogram": [
           {
            "marker": {
             "pattern": {
              "fillmode": "overlay",
              "size": 10,
              "solidity": 0.2
             }
            },
            "type": "histogram"
           }
          ],
          "histogram2d": [
           {
            "colorbar": {
             "outlinewidth": 0,
             "ticks": ""
            },
            "colorscale": [
             [
              0,
              "#0d0887"
             ],
             [
              0.1111111111111111,
              "#46039f"
             ],
             [
              0.2222222222222222,
              "#7201a8"
             ],
             [
              0.3333333333333333,
              "#9c179e"
             ],
             [
              0.4444444444444444,
              "#bd3786"
             ],
             [
              0.5555555555555556,
              "#d8576b"
             ],
             [
              0.6666666666666666,
              "#ed7953"
             ],
             [
              0.7777777777777778,
              "#fb9f3a"
             ],
             [
              0.8888888888888888,
              "#fdca26"
             ],
             [
              1,
              "#f0f921"
             ]
            ],
            "type": "histogram2d"
           }
          ],
          "histogram2dcontour": [
           {
            "colorbar": {
             "outlinewidth": 0,
             "ticks": ""
            },
            "colorscale": [
             [
              0,
              "#0d0887"
             ],
             [
              0.1111111111111111,
              "#46039f"
             ],
             [
              0.2222222222222222,
              "#7201a8"
             ],
             [
              0.3333333333333333,
              "#9c179e"
             ],
             [
              0.4444444444444444,
              "#bd3786"
             ],
             [
              0.5555555555555556,
              "#d8576b"
             ],
             [
              0.6666666666666666,
              "#ed7953"
             ],
             [
              0.7777777777777778,
              "#fb9f3a"
             ],
             [
              0.8888888888888888,
              "#fdca26"
             ],
             [
              1,
              "#f0f921"
             ]
            ],
            "type": "histogram2dcontour"
           }
          ],
          "mesh3d": [
           {
            "colorbar": {
             "outlinewidth": 0,
             "ticks": ""
            },
            "type": "mesh3d"
           }
          ],
          "parcoords": [
           {
            "line": {
             "colorbar": {
              "outlinewidth": 0,
              "ticks": ""
             }
            },
            "type": "parcoords"
           }
          ],
          "pie": [
           {
            "automargin": true,
            "type": "pie"
           }
          ],
          "scatter": [
           {
            "fillpattern": {
             "fillmode": "overlay",
             "size": 10,
             "solidity": 0.2
            },
            "type": "scatter"
           }
          ],
          "scatter3d": [
           {
            "line": {
             "colorbar": {
              "outlinewidth": 0,
              "ticks": ""
             }
            },
            "marker": {
             "colorbar": {
              "outlinewidth": 0,
              "ticks": ""
             }
            },
            "type": "scatter3d"
           }
          ],
          "scattercarpet": [
           {
            "marker": {
             "colorbar": {
              "outlinewidth": 0,
              "ticks": ""
             }
            },
            "type": "scattercarpet"
           }
          ],
          "scattergeo": [
           {
            "marker": {
             "colorbar": {
              "outlinewidth": 0,
              "ticks": ""
             }
            },
            "type": "scattergeo"
           }
          ],
          "scattergl": [
           {
            "marker": {
             "colorbar": {
              "outlinewidth": 0,
              "ticks": ""
             }
            },
            "type": "scattergl"
           }
          ],
          "scattermapbox": [
           {
            "marker": {
             "colorbar": {
              "outlinewidth": 0,
              "ticks": ""
             }
            },
            "type": "scattermapbox"
           }
          ],
          "scatterpolar": [
           {
            "marker": {
             "colorbar": {
              "outlinewidth": 0,
              "ticks": ""
             }
            },
            "type": "scatterpolar"
           }
          ],
          "scatterpolargl": [
           {
            "marker": {
             "colorbar": {
              "outlinewidth": 0,
              "ticks": ""
             }
            },
            "type": "scatterpolargl"
           }
          ],
          "scatterternary": [
           {
            "marker": {
             "colorbar": {
              "outlinewidth": 0,
              "ticks": ""
             }
            },
            "type": "scatterternary"
           }
          ],
          "surface": [
           {
            "colorbar": {
             "outlinewidth": 0,
             "ticks": ""
            },
            "colorscale": [
             [
              0,
              "#0d0887"
             ],
             [
              0.1111111111111111,
              "#46039f"
             ],
             [
              0.2222222222222222,
              "#7201a8"
             ],
             [
              0.3333333333333333,
              "#9c179e"
             ],
             [
              0.4444444444444444,
              "#bd3786"
             ],
             [
              0.5555555555555556,
              "#d8576b"
             ],
             [
              0.6666666666666666,
              "#ed7953"
             ],
             [
              0.7777777777777778,
              "#fb9f3a"
             ],
             [
              0.8888888888888888,
              "#fdca26"
             ],
             [
              1,
              "#f0f921"
             ]
            ],
            "type": "surface"
           }
          ],
          "table": [
           {
            "cells": {
             "fill": {
              "color": "#EBF0F8"
             },
             "line": {
              "color": "white"
             }
            },
            "header": {
             "fill": {
              "color": "#C8D4E3"
             },
             "line": {
              "color": "white"
             }
            },
            "type": "table"
           }
          ]
         },
         "layout": {
          "annotationdefaults": {
           "arrowcolor": "#2a3f5f",
           "arrowhead": 0,
           "arrowwidth": 1
          },
          "autotypenumbers": "strict",
          "coloraxis": {
           "colorbar": {
            "outlinewidth": 0,
            "ticks": ""
           }
          },
          "colorscale": {
           "diverging": [
            [
             0,
             "#8e0152"
            ],
            [
             0.1,
             "#c51b7d"
            ],
            [
             0.2,
             "#de77ae"
            ],
            [
             0.3,
             "#f1b6da"
            ],
            [
             0.4,
             "#fde0ef"
            ],
            [
             0.5,
             "#f7f7f7"
            ],
            [
             0.6,
             "#e6f5d0"
            ],
            [
             0.7,
             "#b8e186"
            ],
            [
             0.8,
             "#7fbc41"
            ],
            [
             0.9,
             "#4d9221"
            ],
            [
             1,
             "#276419"
            ]
           ],
           "sequential": [
            [
             0,
             "#0d0887"
            ],
            [
             0.1111111111111111,
             "#46039f"
            ],
            [
             0.2222222222222222,
             "#7201a8"
            ],
            [
             0.3333333333333333,
             "#9c179e"
            ],
            [
             0.4444444444444444,
             "#bd3786"
            ],
            [
             0.5555555555555556,
             "#d8576b"
            ],
            [
             0.6666666666666666,
             "#ed7953"
            ],
            [
             0.7777777777777778,
             "#fb9f3a"
            ],
            [
             0.8888888888888888,
             "#fdca26"
            ],
            [
             1,
             "#f0f921"
            ]
           ],
           "sequentialminus": [
            [
             0,
             "#0d0887"
            ],
            [
             0.1111111111111111,
             "#46039f"
            ],
            [
             0.2222222222222222,
             "#7201a8"
            ],
            [
             0.3333333333333333,
             "#9c179e"
            ],
            [
             0.4444444444444444,
             "#bd3786"
            ],
            [
             0.5555555555555556,
             "#d8576b"
            ],
            [
             0.6666666666666666,
             "#ed7953"
            ],
            [
             0.7777777777777778,
             "#fb9f3a"
            ],
            [
             0.8888888888888888,
             "#fdca26"
            ],
            [
             1,
             "#f0f921"
            ]
           ]
          },
          "colorway": [
           "#636efa",
           "#EF553B",
           "#00cc96",
           "#ab63fa",
           "#FFA15A",
           "#19d3f3",
           "#FF6692",
           "#B6E880",
           "#FF97FF",
           "#FECB52"
          ],
          "font": {
           "color": "#2a3f5f"
          },
          "geo": {
           "bgcolor": "white",
           "lakecolor": "white",
           "landcolor": "#E5ECF6",
           "showlakes": true,
           "showland": true,
           "subunitcolor": "white"
          },
          "hoverlabel": {
           "align": "left"
          },
          "hovermode": "closest",
          "mapbox": {
           "style": "light"
          },
          "paper_bgcolor": "white",
          "plot_bgcolor": "#E5ECF6",
          "polar": {
           "angularaxis": {
            "gridcolor": "white",
            "linecolor": "white",
            "ticks": ""
           },
           "bgcolor": "#E5ECF6",
           "radialaxis": {
            "gridcolor": "white",
            "linecolor": "white",
            "ticks": ""
           }
          },
          "scene": {
           "xaxis": {
            "backgroundcolor": "#E5ECF6",
            "gridcolor": "white",
            "gridwidth": 2,
            "linecolor": "white",
            "showbackground": true,
            "ticks": "",
            "zerolinecolor": "white"
           },
           "yaxis": {
            "backgroundcolor": "#E5ECF6",
            "gridcolor": "white",
            "gridwidth": 2,
            "linecolor": "white",
            "showbackground": true,
            "ticks": "",
            "zerolinecolor": "white"
           },
           "zaxis": {
            "backgroundcolor": "#E5ECF6",
            "gridcolor": "white",
            "gridwidth": 2,
            "linecolor": "white",
            "showbackground": true,
            "ticks": "",
            "zerolinecolor": "white"
           }
          },
          "shapedefaults": {
           "line": {
            "color": "#2a3f5f"
           }
          },
          "ternary": {
           "aaxis": {
            "gridcolor": "white",
            "linecolor": "white",
            "ticks": ""
           },
           "baxis": {
            "gridcolor": "white",
            "linecolor": "white",
            "ticks": ""
           },
           "bgcolor": "#E5ECF6",
           "caxis": {
            "gridcolor": "white",
            "linecolor": "white",
            "ticks": ""
           }
          },
          "title": {
           "x": 0.05
          },
          "xaxis": {
           "automargin": true,
           "gridcolor": "white",
           "linecolor": "white",
           "ticks": "",
           "title": {
            "standoff": 15
           },
           "zerolinecolor": "white",
           "zerolinewidth": 2
          },
          "yaxis": {
           "automargin": true,
           "gridcolor": "white",
           "linecolor": "white",
           "ticks": "",
           "title": {
            "standoff": 15
           },
           "zerolinecolor": "white",
           "zerolinewidth": 2
          }
         }
        },
        "title": {
         "text": "Distribución de variables:"
        },
        "width": 900,
        "xaxis": {
         "anchor": "y",
         "domain": [
          0,
          0.2888888888888889
         ]
        },
        "xaxis2": {
         "anchor": "y2",
         "domain": [
          0.35555555555555557,
          0.6444444444444445
         ]
        },
        "xaxis3": {
         "anchor": "y3",
         "domain": [
          0.7111111111111111,
          1
         ]
        },
        "yaxis": {
         "anchor": "x",
         "domain": [
          0,
          1
         ]
        },
        "yaxis2": {
         "anchor": "x2",
         "domain": [
          0,
          1
         ]
        },
        "yaxis3": {
         "anchor": "x3",
         "domain": [
          0,
          1
         ]
        }
       }
      }
     },
     "metadata": {},
     "output_type": "display_data"
    }
   ],
   "source": [
    "cols = ['duration_ms', 'loudness', 'tempo']\n",
    "\n",
    "fig = make_subplots(rows=1, cols=3, subplot_titles=cols)\n",
    "\n",
    "for i, col in enumerate(cols):\n",
    "    fig.add_trace(go.Box(y=sad_df[col], name=col), row=1, col=i+1)\n",
    "\n",
    "fig.update_layout(\n",
    "    title=\"Distribución de variables:\",\n",
    "    height=400,\n",
    "    width=900\n",
    ")\n",
    "\n",
    "fig.show()"
   ]
  },
  {
   "cell_type": "code",
   "execution_count": 21,
   "metadata": {},
   "outputs": [
    {
     "data": {
      "text/html": [
       "<div>\n",
       "<style scoped>\n",
       "    .dataframe tbody tr th:only-of-type {\n",
       "        vertical-align: middle;\n",
       "    }\n",
       "\n",
       "    .dataframe tbody tr th {\n",
       "        vertical-align: top;\n",
       "    }\n",
       "\n",
       "    .dataframe thead th {\n",
       "        text-align: right;\n",
       "    }\n",
       "</style>\n",
       "<table border=\"1\" class=\"dataframe\">\n",
       "  <thead>\n",
       "    <tr style=\"text-align: right;\">\n",
       "      <th></th>\n",
       "      <th>duration_ms</th>\n",
       "      <th>loudness</th>\n",
       "      <th>tempo</th>\n",
       "    </tr>\n",
       "  </thead>\n",
       "  <tbody>\n",
       "    <tr>\n",
       "      <th>count</th>\n",
       "      <td>100.000000</td>\n",
       "      <td>100.000000</td>\n",
       "      <td>100.000000</td>\n",
       "    </tr>\n",
       "    <tr>\n",
       "      <th>mean</th>\n",
       "      <td>3.866188</td>\n",
       "      <td>-8.589860</td>\n",
       "      <td>116.148770</td>\n",
       "    </tr>\n",
       "    <tr>\n",
       "      <th>std</th>\n",
       "      <td>0.774968</td>\n",
       "      <td>3.147622</td>\n",
       "      <td>32.255505</td>\n",
       "    </tr>\n",
       "    <tr>\n",
       "      <th>min</th>\n",
       "      <td>2.250217</td>\n",
       "      <td>-22.320000</td>\n",
       "      <td>64.303000</td>\n",
       "    </tr>\n",
       "    <tr>\n",
       "      <th>25%</th>\n",
       "      <td>3.393246</td>\n",
       "      <td>-10.107000</td>\n",
       "      <td>88.472250</td>\n",
       "    </tr>\n",
       "    <tr>\n",
       "      <th>50%</th>\n",
       "      <td>3.760533</td>\n",
       "      <td>-8.050500</td>\n",
       "      <td>113.271000</td>\n",
       "    </tr>\n",
       "    <tr>\n",
       "      <th>75%</th>\n",
       "      <td>4.263725</td>\n",
       "      <td>-6.358750</td>\n",
       "      <td>140.480750</td>\n",
       "    </tr>\n",
       "    <tr>\n",
       "      <th>max</th>\n",
       "      <td>6.897117</td>\n",
       "      <td>-3.631000</td>\n",
       "      <td>187.376000</td>\n",
       "    </tr>\n",
       "  </tbody>\n",
       "</table>\n",
       "</div>"
      ],
      "text/plain": [
       "       duration_ms    loudness       tempo\n",
       "count   100.000000  100.000000  100.000000\n",
       "mean      3.866188   -8.589860  116.148770\n",
       "std       0.774968    3.147622   32.255505\n",
       "min       2.250217  -22.320000   64.303000\n",
       "25%       3.393246  -10.107000   88.472250\n",
       "50%       3.760533   -8.050500  113.271000\n",
       "75%       4.263725   -6.358750  140.480750\n",
       "max       6.897117   -3.631000  187.376000"
      ]
     },
     "execution_count": 21,
     "metadata": {},
     "output_type": "execute_result"
    }
   ],
   "source": [
    "sad_df[['duration_ms','loudness','tempo']].describe()"
   ]
  },
  {
   "cell_type": "markdown",
   "metadata": {},
   "source": [
    "Las canciones de la playlist que representa la tristeza:  \n",
    "- **Duración**: Tienen una duración media de 4 min aprox. Vemos que la mayoría de los datos se encuentran entre 3 y 4 min. \n",
    "- **Sonoridad**: De media las canciones tristes se encuentran en los -8 dB y suelen encontrarse entre los -6 y -10 dB.Hay ouliers están por debajo de los -16 dB.\n",
    "- **Tempo**: Las canciones tristes tienen de media 116 pulsaciones por minuto (Bps) y la mayoría de los datos se encuentran entre 88 y 140 pulsaciones por minuto. "
   ]
  },
  {
   "cell_type": "code",
   "execution_count": 22,
   "metadata": {},
   "outputs": [
    {
     "name": "stdout",
     "output_type": "stream",
     "text": [
      "La variable duration_ms tiene 2 valores outliers\n",
      "La variable loudness tiene 5 valores outliers\n",
      "La variable tempo tiene 0 valores outliers\n"
     ]
    }
   ],
   "source": [
    "# Para ver la cantidad de outliers que hay en nuestro dataset\n",
    "cols = ['duration_ms', 'loudness', 'tempo']\n",
    "def outliers1 (df):\n",
    "    for col in cols:\n",
    "        Q1 = df[col].quantile(0.25)\n",
    "        Q3 = df[col].quantile(0.75)\n",
    "        IQR = Q3 - Q1\n",
    "        outlierIzq = Q1-(1.5*IQR)\n",
    "        outlierDer = Q3+(1.5*IQR)\n",
    "        outliers = df[col][(df[col] < outlierIzq) | (df[col] > outlierDer)]\n",
    "        print(\"La variable \" + col + \" tiene \" + str(len(outliers)) + \" valores outliers\")\n",
    "\n",
    "    \n",
    "outliers1(sad_df)"
   ]
  },
  {
   "cell_type": "code",
   "execution_count": 23,
   "metadata": {},
   "outputs": [
    {
     "data": {
      "text/html": [
       "<div>\n",
       "<style scoped>\n",
       "    .dataframe tbody tr th:only-of-type {\n",
       "        vertical-align: middle;\n",
       "    }\n",
       "\n",
       "    .dataframe tbody tr th {\n",
       "        vertical-align: top;\n",
       "    }\n",
       "\n",
       "    .dataframe thead th {\n",
       "        text-align: right;\n",
       "    }\n",
       "</style>\n",
       "<table border=\"1\" class=\"dataframe\">\n",
       "  <thead>\n",
       "    <tr style=\"text-align: right;\">\n",
       "      <th></th>\n",
       "      <th>Mood</th>\n",
       "      <th>song_name</th>\n",
       "      <th>artist_name</th>\n",
       "      <th>popularity</th>\n",
       "      <th>danceability</th>\n",
       "      <th>energy</th>\n",
       "      <th>key</th>\n",
       "      <th>loudness</th>\n",
       "      <th>mode</th>\n",
       "      <th>speechiness</th>\n",
       "      <th>acousticness</th>\n",
       "      <th>instrumentalness</th>\n",
       "      <th>liveness</th>\n",
       "      <th>valence</th>\n",
       "      <th>tempo</th>\n",
       "      <th>duration_ms</th>\n",
       "      <th>song_uri</th>\n",
       "    </tr>\n",
       "  </thead>\n",
       "  <tbody>\n",
       "    <tr>\n",
       "      <th>158</th>\n",
       "      <td>Sad</td>\n",
       "      <td>Impossible</td>\n",
       "      <td>Shontelle</td>\n",
       "      <td>71</td>\n",
       "      <td>0.600</td>\n",
       "      <td>0.6240</td>\n",
       "      <td>8</td>\n",
       "      <td>-3.631</td>\n",
       "      <td>1</td>\n",
       "      <td>0.0334</td>\n",
       "      <td>0.3850</td>\n",
       "      <td>0.000000</td>\n",
       "      <td>0.1250</td>\n",
       "      <td>0.529</td>\n",
       "      <td>90.036</td>\n",
       "      <td>3.775550</td>\n",
       "      <td>spotify:track:1T8PwF3JhIiWwBhun23RNe</td>\n",
       "    </tr>\n",
       "    <tr>\n",
       "      <th>135</th>\n",
       "      <td>Sad</td>\n",
       "      <td>Breakeven</td>\n",
       "      <td>The Script</td>\n",
       "      <td>77</td>\n",
       "      <td>0.630</td>\n",
       "      <td>0.6960</td>\n",
       "      <td>10</td>\n",
       "      <td>-4.501</td>\n",
       "      <td>1</td>\n",
       "      <td>0.0242</td>\n",
       "      <td>0.1440</td>\n",
       "      <td>0.000000</td>\n",
       "      <td>0.0835</td>\n",
       "      <td>0.491</td>\n",
       "      <td>94.034</td>\n",
       "      <td>4.357117</td>\n",
       "      <td>spotify:track:285hMzLhJwHVLe9QT9qilk</td>\n",
       "    </tr>\n",
       "    <tr>\n",
       "      <th>103</th>\n",
       "      <td>Sad</td>\n",
       "      <td>Only Love Can Hurt Like This</td>\n",
       "      <td>Paloma Faith</td>\n",
       "      <td>86</td>\n",
       "      <td>0.566</td>\n",
       "      <td>0.8850</td>\n",
       "      <td>8</td>\n",
       "      <td>-4.528</td>\n",
       "      <td>1</td>\n",
       "      <td>0.0818</td>\n",
       "      <td>0.0958</td>\n",
       "      <td>0.000100</td>\n",
       "      <td>0.3340</td>\n",
       "      <td>0.304</td>\n",
       "      <td>90.990</td>\n",
       "      <td>3.881550</td>\n",
       "      <td>spotify:track:62ke5zFUJN6RvtXZgVH0F8</td>\n",
       "    </tr>\n",
       "    <tr>\n",
       "      <th>144</th>\n",
       "      <td>Sad</td>\n",
       "      <td>Back To December</td>\n",
       "      <td>Taylor Swift</td>\n",
       "      <td>75</td>\n",
       "      <td>0.529</td>\n",
       "      <td>0.6700</td>\n",
       "      <td>2</td>\n",
       "      <td>-4.663</td>\n",
       "      <td>1</td>\n",
       "      <td>0.0303</td>\n",
       "      <td>0.1170</td>\n",
       "      <td>0.000000</td>\n",
       "      <td>0.3340</td>\n",
       "      <td>0.286</td>\n",
       "      <td>141.893</td>\n",
       "      <td>4.883783</td>\n",
       "      <td>spotify:track:3DrjZArsPsoqbLzUZZV1Id</td>\n",
       "    </tr>\n",
       "    <tr>\n",
       "      <th>197</th>\n",
       "      <td>Sad</td>\n",
       "      <td>Til It Happens To You</td>\n",
       "      <td>Lady Gaga</td>\n",
       "      <td>56</td>\n",
       "      <td>0.401</td>\n",
       "      <td>0.5390</td>\n",
       "      <td>0</td>\n",
       "      <td>-4.719</td>\n",
       "      <td>1</td>\n",
       "      <td>0.0350</td>\n",
       "      <td>0.5650</td>\n",
       "      <td>0.000000</td>\n",
       "      <td>0.0933</td>\n",
       "      <td>0.150</td>\n",
       "      <td>113.870</td>\n",
       "      <td>4.301550</td>\n",
       "      <td>spotify:track:0bCCGLHflR08UVA6oJJc8I</td>\n",
       "    </tr>\n",
       "    <tr>\n",
       "      <th>...</th>\n",
       "      <td>...</td>\n",
       "      <td>...</td>\n",
       "      <td>...</td>\n",
       "      <td>...</td>\n",
       "      <td>...</td>\n",
       "      <td>...</td>\n",
       "      <td>...</td>\n",
       "      <td>...</td>\n",
       "      <td>...</td>\n",
       "      <td>...</td>\n",
       "      <td>...</td>\n",
       "      <td>...</td>\n",
       "      <td>...</td>\n",
       "      <td>...</td>\n",
       "      <td>...</td>\n",
       "      <td>...</td>\n",
       "      <td>...</td>\n",
       "    </tr>\n",
       "    <tr>\n",
       "      <th>143</th>\n",
       "      <td>Sad</td>\n",
       "      <td>From the Dining Table</td>\n",
       "      <td>Harry Styles</td>\n",
       "      <td>76</td>\n",
       "      <td>0.671</td>\n",
       "      <td>0.1560</td>\n",
       "      <td>8</td>\n",
       "      <td>-16.288</td>\n",
       "      <td>1</td>\n",
       "      <td>0.0371</td>\n",
       "      <td>0.8040</td>\n",
       "      <td>0.051800</td>\n",
       "      <td>0.1130</td>\n",
       "      <td>0.201</td>\n",
       "      <td>94.080</td>\n",
       "      <td>3.532667</td>\n",
       "      <td>spotify:track:1IF5UcqRO42D12vYwceOY6</td>\n",
       "    </tr>\n",
       "    <tr>\n",
       "      <th>173</th>\n",
       "      <td>Sad</td>\n",
       "      <td>I Can't Make You Love Me</td>\n",
       "      <td>Bonnie Raitt</td>\n",
       "      <td>66</td>\n",
       "      <td>0.588</td>\n",
       "      <td>0.1490</td>\n",
       "      <td>7</td>\n",
       "      <td>-16.728</td>\n",
       "      <td>0</td>\n",
       "      <td>0.0319</td>\n",
       "      <td>0.8460</td>\n",
       "      <td>0.000097</td>\n",
       "      <td>0.2360</td>\n",
       "      <td>0.113</td>\n",
       "      <td>124.689</td>\n",
       "      <td>5.549333</td>\n",
       "      <td>spotify:track:69uJi5QsBtqlYkGURTBli8</td>\n",
       "    </tr>\n",
       "    <tr>\n",
       "      <th>156</th>\n",
       "      <td>Sad</td>\n",
       "      <td>Mad World</td>\n",
       "      <td>Gary Jules</td>\n",
       "      <td>71</td>\n",
       "      <td>0.344</td>\n",
       "      <td>0.0585</td>\n",
       "      <td>3</td>\n",
       "      <td>-17.212</td>\n",
       "      <td>1</td>\n",
       "      <td>0.0373</td>\n",
       "      <td>0.9760</td>\n",
       "      <td>0.000362</td>\n",
       "      <td>0.1030</td>\n",
       "      <td>0.323</td>\n",
       "      <td>174.149</td>\n",
       "      <td>3.158450</td>\n",
       "      <td>spotify:track:3JOVTQ5h8HGFnDdp4VT3MP</td>\n",
       "    </tr>\n",
       "    <tr>\n",
       "      <th>179</th>\n",
       "      <td>Sad</td>\n",
       "      <td>To Let A Good Thing Die</td>\n",
       "      <td>Bruno Major</td>\n",
       "      <td>64</td>\n",
       "      <td>0.552</td>\n",
       "      <td>0.1090</td>\n",
       "      <td>10</td>\n",
       "      <td>-18.857</td>\n",
       "      <td>1</td>\n",
       "      <td>0.1020</td>\n",
       "      <td>0.9340</td>\n",
       "      <td>0.000013</td>\n",
       "      <td>0.1300</td>\n",
       "      <td>0.389</td>\n",
       "      <td>64.303</td>\n",
       "      <td>2.250217</td>\n",
       "      <td>spotify:track:6rn05wjqqgF86cDdPRAGaa</td>\n",
       "    </tr>\n",
       "    <tr>\n",
       "      <th>120</th>\n",
       "      <td>Sad</td>\n",
       "      <td>Landslide</td>\n",
       "      <td>Fleetwood Mac</td>\n",
       "      <td>82</td>\n",
       "      <td>0.414</td>\n",
       "      <td>0.1610</td>\n",
       "      <td>7</td>\n",
       "      <td>-22.320</td>\n",
       "      <td>0</td>\n",
       "      <td>0.0318</td>\n",
       "      <td>0.8830</td>\n",
       "      <td>0.000223</td>\n",
       "      <td>0.1170</td>\n",
       "      <td>0.423</td>\n",
       "      <td>159.375</td>\n",
       "      <td>3.324883</td>\n",
       "      <td>spotify:track:5ihS6UUlyQAfmp48eSkxuQ</td>\n",
       "    </tr>\n",
       "  </tbody>\n",
       "</table>\n",
       "<p>100 rows × 17 columns</p>\n",
       "</div>"
      ],
      "text/plain": [
       "    Mood                     song_name    artist_name  popularity  \\\n",
       "158  Sad                    Impossible      Shontelle          71   \n",
       "135  Sad                     Breakeven     The Script          77   \n",
       "103  Sad  Only Love Can Hurt Like This   Paloma Faith          86   \n",
       "144  Sad              Back To December   Taylor Swift          75   \n",
       "197  Sad         Til It Happens To You      Lady Gaga          56   \n",
       "..   ...                           ...            ...         ...   \n",
       "143  Sad         From the Dining Table   Harry Styles          76   \n",
       "173  Sad      I Can't Make You Love Me   Bonnie Raitt          66   \n",
       "156  Sad                     Mad World     Gary Jules          71   \n",
       "179  Sad       To Let A Good Thing Die    Bruno Major          64   \n",
       "120  Sad                     Landslide  Fleetwood Mac          82   \n",
       "\n",
       "     danceability  energy  key  loudness  mode  speechiness  acousticness  \\\n",
       "158         0.600  0.6240    8    -3.631     1       0.0334        0.3850   \n",
       "135         0.630  0.6960   10    -4.501     1       0.0242        0.1440   \n",
       "103         0.566  0.8850    8    -4.528     1       0.0818        0.0958   \n",
       "144         0.529  0.6700    2    -4.663     1       0.0303        0.1170   \n",
       "197         0.401  0.5390    0    -4.719     1       0.0350        0.5650   \n",
       "..            ...     ...  ...       ...   ...          ...           ...   \n",
       "143         0.671  0.1560    8   -16.288     1       0.0371        0.8040   \n",
       "173         0.588  0.1490    7   -16.728     0       0.0319        0.8460   \n",
       "156         0.344  0.0585    3   -17.212     1       0.0373        0.9760   \n",
       "179         0.552  0.1090   10   -18.857     1       0.1020        0.9340   \n",
       "120         0.414  0.1610    7   -22.320     0       0.0318        0.8830   \n",
       "\n",
       "     instrumentalness  liveness  valence    tempo  duration_ms  \\\n",
       "158          0.000000    0.1250    0.529   90.036     3.775550   \n",
       "135          0.000000    0.0835    0.491   94.034     4.357117   \n",
       "103          0.000100    0.3340    0.304   90.990     3.881550   \n",
       "144          0.000000    0.3340    0.286  141.893     4.883783   \n",
       "197          0.000000    0.0933    0.150  113.870     4.301550   \n",
       "..                ...       ...      ...      ...          ...   \n",
       "143          0.051800    0.1130    0.201   94.080     3.532667   \n",
       "173          0.000097    0.2360    0.113  124.689     5.549333   \n",
       "156          0.000362    0.1030    0.323  174.149     3.158450   \n",
       "179          0.000013    0.1300    0.389   64.303     2.250217   \n",
       "120          0.000223    0.1170    0.423  159.375     3.324883   \n",
       "\n",
       "                                 song_uri  \n",
       "158  spotify:track:1T8PwF3JhIiWwBhun23RNe  \n",
       "135  spotify:track:285hMzLhJwHVLe9QT9qilk  \n",
       "103  spotify:track:62ke5zFUJN6RvtXZgVH0F8  \n",
       "144  spotify:track:3DrjZArsPsoqbLzUZZV1Id  \n",
       "197  spotify:track:0bCCGLHflR08UVA6oJJc8I  \n",
       "..                                    ...  \n",
       "143  spotify:track:1IF5UcqRO42D12vYwceOY6  \n",
       "173  spotify:track:69uJi5QsBtqlYkGURTBli8  \n",
       "156  spotify:track:3JOVTQ5h8HGFnDdp4VT3MP  \n",
       "179  spotify:track:6rn05wjqqgF86cDdPRAGaa  \n",
       "120  spotify:track:5ihS6UUlyQAfmp48eSkxuQ  \n",
       "\n",
       "[100 rows x 17 columns]"
      ]
     },
     "execution_count": 23,
     "metadata": {},
     "output_type": "execute_result"
    }
   ],
   "source": [
    "sad_df.sort_values('loudness', ascending=False)"
   ]
  },
  {
   "cell_type": "markdown",
   "metadata": {},
   "source": [
    "**La variable loudness no parece un buen indicador para seleccionar el estado de animo.**"
   ]
  },
  {
   "cell_type": "markdown",
   "metadata": {},
   "source": [
    "##### 2.2 Variables acotadas"
   ]
  },
  {
   "cell_type": "markdown",
   "metadata": {},
   "source": [
    "Del resto de variables se ha realizado una selección y se analizan las más interesantes:"
   ]
  },
  {
   "cell_type": "code",
   "execution_count": 24,
   "metadata": {},
   "outputs": [
    {
     "data": {
      "application/vnd.plotly.v1+json": {
       "config": {
        "plotlyServerURL": "https://plot.ly"
       },
       "data": [
        {
         "name": "popularity",
         "type": "histogram",
         "xaxis": "x",
         "y": [
          91,
          77,
          88,
          86,
          70,
          94,
          88,
          87,
          86,
          86,
          87,
          84,
          84,
          83,
          83,
          87,
          83,
          83,
          82,
          82,
          82,
          82,
          81,
          82,
          81,
          81,
          79,
          79,
          79,
          79,
          78,
          78,
          78,
          78,
          78,
          77,
          77,
          77,
          77,
          76,
          76,
          76,
          75,
          76,
          75,
          74,
          74,
          74,
          73,
          73,
          73,
          73,
          73,
          73,
          72,
          72,
          71,
          71,
          71,
          71,
          71,
          70,
          69,
          69,
          69,
          68,
          68,
          67,
          67,
          67,
          67,
          67,
          67,
          66,
          69,
          65,
          64,
          64,
          64,
          64,
          64,
          64,
          64,
          63,
          62,
          62,
          61,
          58,
          58,
          58,
          57,
          57,
          57,
          57,
          57,
          57,
          56,
          56,
          55,
          53
         ],
         "yaxis": "y"
        },
        {
         "name": "danceability",
         "type": "histogram",
         "xaxis": "x2",
         "y": [
          0.612,
          0.376,
          0.371,
          0.566,
          0.534,
          0.445,
          0.681,
          0.315,
          0.515,
          0.604,
          0.209,
          0.488,
          0.421,
          0.681,
          0.188,
          0.418,
          0.556,
          0.708,
          0.522,
          0.481,
          0.414,
          0.553,
          0.555,
          0.329,
          0.516,
          0.545,
          0.566,
          0.479,
          0.688,
          0.44,
          0.398,
          0.439,
          0.589,
          0.592,
          0.498,
          0.63,
          0.534,
          0.532,
          0.53,
          0.587,
          0.349,
          0.593,
          0.379,
          0.671,
          0.529,
          0.576,
          0.481,
          0.553,
          0.593,
          0.537,
          0.583,
          0.405,
          0.543,
          0.546,
          0.324,
          0.471,
          0.344,
          0.329,
          0.6,
          0.344,
          0.556,
          0.621,
          0.517,
          0.614,
          0.397,
          0.558,
          0.635,
          0.453,
          0.455,
          0.41,
          0.467,
          0.584,
          0.426,
          0.588,
          0.27,
          0.468,
          0.389,
          0.446,
          0.494,
          0.552,
          0.439,
          0.61,
          0.386,
          0.561,
          0.296,
          0.546,
          0.419,
          0.555,
          0.568,
          0.733,
          0.562,
          0.506,
          0.346,
          0.56,
          0.606,
          0.447,
          0.732,
          0.401,
          0.536,
          0.377
         ],
         "yaxis": "y2"
        },
        {
         "name": "energy",
         "type": "histogram",
         "xaxis": "x3",
         "y": [
          0.28,
          0.595,
          0.268,
          0.885,
          0.538,
          0.537,
          0.372,
          0.715,
          0.479,
          0.366,
          0.417,
          0.343,
          0.407,
          0.174,
          0.411,
          0.42,
          0.538,
          0.186,
          0.385,
          0.638,
          0.161,
          0.586,
          0.536,
          0.235,
          0.467,
          0.366,
          0.647,
          0.545,
          0.435,
          0.528,
          0.286,
          0.153,
          0.242,
          0.342,
          0.61,
          0.696,
          0.392,
          0.489,
          0.512,
          0.229,
          0.348,
          0.2,
          0.29,
          0.156,
          0.67,
          0.526,
          0.267,
          0.502,
          0.74,
          0.674,
          0.584,
          0.111,
          0.39,
          0.311,
          0.136,
          0.396,
          0.0585,
          0.167,
          0.624,
          0.325,
          0.535,
          0.31,
          0.206,
          0.526,
          0.303,
          0.361,
          0.647,
          0.208,
          0.292,
          0.468,
          0.42,
          0.465,
          0.224,
          0.149,
          0.275,
          0.495,
          0.373,
          0.142,
          0.17,
          0.109,
          0.489,
          0.349,
          0.175,
          0.245,
          0.25,
          0.315,
          0.453,
          0.35,
          0.495,
          0.443,
          0.495,
          0.639,
          0.188,
          0.607,
          0.53,
          0.158,
          0.459,
          0.539,
          0.355,
          0.371
         ],
         "yaxis": "y3"
        },
        {
         "name": "valence",
         "type": "histogram",
         "xaxis": "x4",
         "y": [
          0.387,
          0.265,
          0.165,
          0.304,
          0.289,
          0.131,
          0.476,
          0.497,
          0.284,
          0.13,
          0.124,
          0.0978,
          0.161,
          0.231,
          0.159,
          0.184,
          0.291,
          0.322,
          0.236,
          0.497,
          0.423,
          0.443,
          0.203,
          0.22,
          0.386,
          0.1,
          0.22,
          0.243,
          0.435,
          0.132,
          0.0666,
          0.104,
          0.257,
          0.155,
          0.474,
          0.491,
          0.163,
          0.32,
          0.411,
          0.379,
          0.0886,
          0.17,
          0.169,
          0.201,
          0.286,
          0.147,
          0.137,
          0.296,
          0.502,
          0.33,
          0.136,
          0.219,
          0.303,
          0.246,
          0.0831,
          0.263,
          0.323,
          0.203,
          0.529,
          0.0775,
          0.406,
          0.125,
          0.489,
          0.366,
          0.172,
          0.165,
          0.201,
          0.218,
          0.43,
          0.475,
          0.365,
          0.299,
          0.399,
          0.113,
          0.231,
          0.235,
          0.283,
          0.156,
          0.145,
          0.389,
          0.253,
          0.155,
          0.235,
          0.402,
          0.0898,
          0.139,
          0.356,
          0.404,
          0.217,
          0.701,
          0.406,
          0.385,
          0.0388,
          0.467,
          0.613,
          0.142,
          0.481,
          0.15,
          0.22,
          0.189
         ],
         "yaxis": "y4"
        },
        {
         "name": "speechiness",
         "type": "histogram",
         "xaxis": "x5",
         "y": [
          0.0434,
          0.0496,
          0.0281,
          0.0818,
          0.0327,
          0.04,
          0.0432,
          0.0362,
          0.0261,
          0.0282,
          0.0338,
          0.0436,
          0.0267,
          0.0315,
          0.0484,
          0.0414,
          0.0382,
          0.042,
          0.0288,
          0.0276,
          0.0318,
          0.0362,
          0.0452,
          0.0303,
          0.0302,
          0.0378,
          0.0335,
          0.0688,
          0.0323,
          0.0317,
          0.033,
          0.0479,
          0.0442,
          0.0339,
          0.0363,
          0.0242,
          0.0267,
          0.0311,
          0.0259,
          0.128,
          0.0316,
          0.0311,
          0.051,
          0.0371,
          0.0303,
          0.0325,
          0.0339,
          0.0409,
          0.0339,
          0.0277,
          0.0314,
          0.0369,
          0.0322,
          0.0288,
          0.0318,
          0.0336,
          0.0373,
          0.0311,
          0.0334,
          0.0287,
          0.042,
          0.0283,
          0.0421,
          0.0603,
          0.0435,
          0.0328,
          0.0366,
          0.22,
          0.0563,
          0.0553,
          0.0398,
          0.0262,
          0.0391,
          0.0319,
          0.0356,
          0.0822,
          0.047,
          0.0335,
          0.0337,
          0.102,
          0.0368,
          0.0301,
          0.043,
          0.0344,
          0.0314,
          0.0499,
          0.0437,
          0.0503,
          0.0385,
          0.0252,
          0.0632,
          0.0285,
          0.0327,
          0.0311,
          0.316,
          0.036,
          0.0898,
          0.035,
          0.0259,
          0.0295
         ],
         "yaxis": "y5"
        },
        {
         "name": "instrumentalness",
         "type": "histogram",
         "xaxis": "x6",
         "y": [
          0,
          0,
          0.0517,
          0.0000997,
          0.00000282,
          0.0000165,
          0,
          0.00000797,
          0.00598,
          0,
          0.00196,
          0,
          0.000961,
          0.0000335,
          0.153,
          0.0000639,
          0,
          0,
          0,
          0,
          0.000223,
          0,
          0,
          0,
          0,
          0.267,
          0,
          0,
          0,
          0.00203,
          0.000146,
          0,
          0,
          0.00245,
          0,
          0,
          0.000227,
          0,
          0.00453,
          0,
          0,
          0,
          0.00106,
          0.0518,
          0,
          0.00000201,
          0,
          0,
          0.0000222,
          0,
          0,
          0.0000437,
          0,
          0.0000165,
          0.00117,
          0,
          0.000362,
          0.0000308,
          0,
          0.0223,
          0,
          0.0000612,
          0,
          0,
          0,
          0,
          0,
          0,
          0,
          0.0000119,
          0.0000256,
          0,
          0,
          0.0000965,
          0,
          0,
          0,
          0.00114,
          0,
          0.0000135,
          0.000643,
          0.0099,
          0,
          0,
          0.0187,
          0.00000126,
          0,
          0.00000664,
          0.000198,
          0,
          0.00000149,
          0,
          0.0166,
          0.0000243,
          0.000203,
          0.00000158,
          0,
          0,
          0.0000122,
          0
         ],
         "yaxis": "y6"
        }
       ],
       "layout": {
        "annotations": [
         {
          "font": {
           "size": 16
          },
          "showarrow": false,
          "text": "popularity",
          "x": 0.14444444444444446,
          "xanchor": "center",
          "xref": "paper",
          "y": 1,
          "yanchor": "bottom",
          "yref": "paper"
         },
         {
          "font": {
           "size": 16
          },
          "showarrow": false,
          "text": "danceability",
          "x": 0.5,
          "xanchor": "center",
          "xref": "paper",
          "y": 1,
          "yanchor": "bottom",
          "yref": "paper"
         },
         {
          "font": {
           "size": 16
          },
          "showarrow": false,
          "text": "energy",
          "x": 0.8555555555555556,
          "xanchor": "center",
          "xref": "paper",
          "y": 1,
          "yanchor": "bottom",
          "yref": "paper"
         },
         {
          "font": {
           "size": 16
          },
          "showarrow": false,
          "text": "valence",
          "x": 0.14444444444444446,
          "xanchor": "center",
          "xref": "paper",
          "y": 0.375,
          "yanchor": "bottom",
          "yref": "paper"
         },
         {
          "font": {
           "size": 16
          },
          "showarrow": false,
          "text": "speechiness",
          "x": 0.5,
          "xanchor": "center",
          "xref": "paper",
          "y": 0.375,
          "yanchor": "bottom",
          "yref": "paper"
         },
         {
          "font": {
           "size": 16
          },
          "showarrow": false,
          "text": "instrumentalness",
          "x": 0.8555555555555556,
          "xanchor": "center",
          "xref": "paper",
          "y": 0.375,
          "yanchor": "bottom",
          "yref": "paper"
         }
        ],
        "height": 600,
        "template": {
         "data": {
          "bar": [
           {
            "error_x": {
             "color": "#2a3f5f"
            },
            "error_y": {
             "color": "#2a3f5f"
            },
            "marker": {
             "line": {
              "color": "#E5ECF6",
              "width": 0.5
             },
             "pattern": {
              "fillmode": "overlay",
              "size": 10,
              "solidity": 0.2
             }
            },
            "type": "bar"
           }
          ],
          "barpolar": [
           {
            "marker": {
             "line": {
              "color": "#E5ECF6",
              "width": 0.5
             },
             "pattern": {
              "fillmode": "overlay",
              "size": 10,
              "solidity": 0.2
             }
            },
            "type": "barpolar"
           }
          ],
          "carpet": [
           {
            "aaxis": {
             "endlinecolor": "#2a3f5f",
             "gridcolor": "white",
             "linecolor": "white",
             "minorgridcolor": "white",
             "startlinecolor": "#2a3f5f"
            },
            "baxis": {
             "endlinecolor": "#2a3f5f",
             "gridcolor": "white",
             "linecolor": "white",
             "minorgridcolor": "white",
             "startlinecolor": "#2a3f5f"
            },
            "type": "carpet"
           }
          ],
          "choropleth": [
           {
            "colorbar": {
             "outlinewidth": 0,
             "ticks": ""
            },
            "type": "choropleth"
           }
          ],
          "contour": [
           {
            "colorbar": {
             "outlinewidth": 0,
             "ticks": ""
            },
            "colorscale": [
             [
              0,
              "#0d0887"
             ],
             [
              0.1111111111111111,
              "#46039f"
             ],
             [
              0.2222222222222222,
              "#7201a8"
             ],
             [
              0.3333333333333333,
              "#9c179e"
             ],
             [
              0.4444444444444444,
              "#bd3786"
             ],
             [
              0.5555555555555556,
              "#d8576b"
             ],
             [
              0.6666666666666666,
              "#ed7953"
             ],
             [
              0.7777777777777778,
              "#fb9f3a"
             ],
             [
              0.8888888888888888,
              "#fdca26"
             ],
             [
              1,
              "#f0f921"
             ]
            ],
            "type": "contour"
           }
          ],
          "contourcarpet": [
           {
            "colorbar": {
             "outlinewidth": 0,
             "ticks": ""
            },
            "type": "contourcarpet"
           }
          ],
          "heatmap": [
           {
            "colorbar": {
             "outlinewidth": 0,
             "ticks": ""
            },
            "colorscale": [
             [
              0,
              "#0d0887"
             ],
             [
              0.1111111111111111,
              "#46039f"
             ],
             [
              0.2222222222222222,
              "#7201a8"
             ],
             [
              0.3333333333333333,
              "#9c179e"
             ],
             [
              0.4444444444444444,
              "#bd3786"
             ],
             [
              0.5555555555555556,
              "#d8576b"
             ],
             [
              0.6666666666666666,
              "#ed7953"
             ],
             [
              0.7777777777777778,
              "#fb9f3a"
             ],
             [
              0.8888888888888888,
              "#fdca26"
             ],
             [
              1,
              "#f0f921"
             ]
            ],
            "type": "heatmap"
           }
          ],
          "heatmapgl": [
           {
            "colorbar": {
             "outlinewidth": 0,
             "ticks": ""
            },
            "colorscale": [
             [
              0,
              "#0d0887"
             ],
             [
              0.1111111111111111,
              "#46039f"
             ],
             [
              0.2222222222222222,
              "#7201a8"
             ],
             [
              0.3333333333333333,
              "#9c179e"
             ],
             [
              0.4444444444444444,
              "#bd3786"
             ],
             [
              0.5555555555555556,
              "#d8576b"
             ],
             [
              0.6666666666666666,
              "#ed7953"
             ],
             [
              0.7777777777777778,
              "#fb9f3a"
             ],
             [
              0.8888888888888888,
              "#fdca26"
             ],
             [
              1,
              "#f0f921"
             ]
            ],
            "type": "heatmapgl"
           }
          ],
          "histogram": [
           {
            "marker": {
             "pattern": {
              "fillmode": "overlay",
              "size": 10,
              "solidity": 0.2
             }
            },
            "type": "histogram"
           }
          ],
          "histogram2d": [
           {
            "colorbar": {
             "outlinewidth": 0,
             "ticks": ""
            },
            "colorscale": [
             [
              0,
              "#0d0887"
             ],
             [
              0.1111111111111111,
              "#46039f"
             ],
             [
              0.2222222222222222,
              "#7201a8"
             ],
             [
              0.3333333333333333,
              "#9c179e"
             ],
             [
              0.4444444444444444,
              "#bd3786"
             ],
             [
              0.5555555555555556,
              "#d8576b"
             ],
             [
              0.6666666666666666,
              "#ed7953"
             ],
             [
              0.7777777777777778,
              "#fb9f3a"
             ],
             [
              0.8888888888888888,
              "#fdca26"
             ],
             [
              1,
              "#f0f921"
             ]
            ],
            "type": "histogram2d"
           }
          ],
          "histogram2dcontour": [
           {
            "colorbar": {
             "outlinewidth": 0,
             "ticks": ""
            },
            "colorscale": [
             [
              0,
              "#0d0887"
             ],
             [
              0.1111111111111111,
              "#46039f"
             ],
             [
              0.2222222222222222,
              "#7201a8"
             ],
             [
              0.3333333333333333,
              "#9c179e"
             ],
             [
              0.4444444444444444,
              "#bd3786"
             ],
             [
              0.5555555555555556,
              "#d8576b"
             ],
             [
              0.6666666666666666,
              "#ed7953"
             ],
             [
              0.7777777777777778,
              "#fb9f3a"
             ],
             [
              0.8888888888888888,
              "#fdca26"
             ],
             [
              1,
              "#f0f921"
             ]
            ],
            "type": "histogram2dcontour"
           }
          ],
          "mesh3d": [
           {
            "colorbar": {
             "outlinewidth": 0,
             "ticks": ""
            },
            "type": "mesh3d"
           }
          ],
          "parcoords": [
           {
            "line": {
             "colorbar": {
              "outlinewidth": 0,
              "ticks": ""
             }
            },
            "type": "parcoords"
           }
          ],
          "pie": [
           {
            "automargin": true,
            "type": "pie"
           }
          ],
          "scatter": [
           {
            "fillpattern": {
             "fillmode": "overlay",
             "size": 10,
             "solidity": 0.2
            },
            "type": "scatter"
           }
          ],
          "scatter3d": [
           {
            "line": {
             "colorbar": {
              "outlinewidth": 0,
              "ticks": ""
             }
            },
            "marker": {
             "colorbar": {
              "outlinewidth": 0,
              "ticks": ""
             }
            },
            "type": "scatter3d"
           }
          ],
          "scattercarpet": [
           {
            "marker": {
             "colorbar": {
              "outlinewidth": 0,
              "ticks": ""
             }
            },
            "type": "scattercarpet"
           }
          ],
          "scattergeo": [
           {
            "marker": {
             "colorbar": {
              "outlinewidth": 0,
              "ticks": ""
             }
            },
            "type": "scattergeo"
           }
          ],
          "scattergl": [
           {
            "marker": {
             "colorbar": {
              "outlinewidth": 0,
              "ticks": ""
             }
            },
            "type": "scattergl"
           }
          ],
          "scattermapbox": [
           {
            "marker": {
             "colorbar": {
              "outlinewidth": 0,
              "ticks": ""
             }
            },
            "type": "scattermapbox"
           }
          ],
          "scatterpolar": [
           {
            "marker": {
             "colorbar": {
              "outlinewidth": 0,
              "ticks": ""
             }
            },
            "type": "scatterpolar"
           }
          ],
          "scatterpolargl": [
           {
            "marker": {
             "colorbar": {
              "outlinewidth": 0,
              "ticks": ""
             }
            },
            "type": "scatterpolargl"
           }
          ],
          "scatterternary": [
           {
            "marker": {
             "colorbar": {
              "outlinewidth": 0,
              "ticks": ""
             }
            },
            "type": "scatterternary"
           }
          ],
          "surface": [
           {
            "colorbar": {
             "outlinewidth": 0,
             "ticks": ""
            },
            "colorscale": [
             [
              0,
              "#0d0887"
             ],
             [
              0.1111111111111111,
              "#46039f"
             ],
             [
              0.2222222222222222,
              "#7201a8"
             ],
             [
              0.3333333333333333,
              "#9c179e"
             ],
             [
              0.4444444444444444,
              "#bd3786"
             ],
             [
              0.5555555555555556,
              "#d8576b"
             ],
             [
              0.6666666666666666,
              "#ed7953"
             ],
             [
              0.7777777777777778,
              "#fb9f3a"
             ],
             [
              0.8888888888888888,
              "#fdca26"
             ],
             [
              1,
              "#f0f921"
             ]
            ],
            "type": "surface"
           }
          ],
          "table": [
           {
            "cells": {
             "fill": {
              "color": "#EBF0F8"
             },
             "line": {
              "color": "white"
             }
            },
            "header": {
             "fill": {
              "color": "#C8D4E3"
             },
             "line": {
              "color": "white"
             }
            },
            "type": "table"
           }
          ]
         },
         "layout": {
          "annotationdefaults": {
           "arrowcolor": "#2a3f5f",
           "arrowhead": 0,
           "arrowwidth": 1
          },
          "autotypenumbers": "strict",
          "coloraxis": {
           "colorbar": {
            "outlinewidth": 0,
            "ticks": ""
           }
          },
          "colorscale": {
           "diverging": [
            [
             0,
             "#8e0152"
            ],
            [
             0.1,
             "#c51b7d"
            ],
            [
             0.2,
             "#de77ae"
            ],
            [
             0.3,
             "#f1b6da"
            ],
            [
             0.4,
             "#fde0ef"
            ],
            [
             0.5,
             "#f7f7f7"
            ],
            [
             0.6,
             "#e6f5d0"
            ],
            [
             0.7,
             "#b8e186"
            ],
            [
             0.8,
             "#7fbc41"
            ],
            [
             0.9,
             "#4d9221"
            ],
            [
             1,
             "#276419"
            ]
           ],
           "sequential": [
            [
             0,
             "#0d0887"
            ],
            [
             0.1111111111111111,
             "#46039f"
            ],
            [
             0.2222222222222222,
             "#7201a8"
            ],
            [
             0.3333333333333333,
             "#9c179e"
            ],
            [
             0.4444444444444444,
             "#bd3786"
            ],
            [
             0.5555555555555556,
             "#d8576b"
            ],
            [
             0.6666666666666666,
             "#ed7953"
            ],
            [
             0.7777777777777778,
             "#fb9f3a"
            ],
            [
             0.8888888888888888,
             "#fdca26"
            ],
            [
             1,
             "#f0f921"
            ]
           ],
           "sequentialminus": [
            [
             0,
             "#0d0887"
            ],
            [
             0.1111111111111111,
             "#46039f"
            ],
            [
             0.2222222222222222,
             "#7201a8"
            ],
            [
             0.3333333333333333,
             "#9c179e"
            ],
            [
             0.4444444444444444,
             "#bd3786"
            ],
            [
             0.5555555555555556,
             "#d8576b"
            ],
            [
             0.6666666666666666,
             "#ed7953"
            ],
            [
             0.7777777777777778,
             "#fb9f3a"
            ],
            [
             0.8888888888888888,
             "#fdca26"
            ],
            [
             1,
             "#f0f921"
            ]
           ]
          },
          "colorway": [
           "#636efa",
           "#EF553B",
           "#00cc96",
           "#ab63fa",
           "#FFA15A",
           "#19d3f3",
           "#FF6692",
           "#B6E880",
           "#FF97FF",
           "#FECB52"
          ],
          "font": {
           "color": "#2a3f5f"
          },
          "geo": {
           "bgcolor": "white",
           "lakecolor": "white",
           "landcolor": "#E5ECF6",
           "showlakes": true,
           "showland": true,
           "subunitcolor": "white"
          },
          "hoverlabel": {
           "align": "left"
          },
          "hovermode": "closest",
          "mapbox": {
           "style": "light"
          },
          "paper_bgcolor": "white",
          "plot_bgcolor": "#E5ECF6",
          "polar": {
           "angularaxis": {
            "gridcolor": "white",
            "linecolor": "white",
            "ticks": ""
           },
           "bgcolor": "#E5ECF6",
           "radialaxis": {
            "gridcolor": "white",
            "linecolor": "white",
            "ticks": ""
           }
          },
          "scene": {
           "xaxis": {
            "backgroundcolor": "#E5ECF6",
            "gridcolor": "white",
            "gridwidth": 2,
            "linecolor": "white",
            "showbackground": true,
            "ticks": "",
            "zerolinecolor": "white"
           },
           "yaxis": {
            "backgroundcolor": "#E5ECF6",
            "gridcolor": "white",
            "gridwidth": 2,
            "linecolor": "white",
            "showbackground": true,
            "ticks": "",
            "zerolinecolor": "white"
           },
           "zaxis": {
            "backgroundcolor": "#E5ECF6",
            "gridcolor": "white",
            "gridwidth": 2,
            "linecolor": "white",
            "showbackground": true,
            "ticks": "",
            "zerolinecolor": "white"
           }
          },
          "shapedefaults": {
           "line": {
            "color": "#2a3f5f"
           }
          },
          "ternary": {
           "aaxis": {
            "gridcolor": "white",
            "linecolor": "white",
            "ticks": ""
           },
           "baxis": {
            "gridcolor": "white",
            "linecolor": "white",
            "ticks": ""
           },
           "bgcolor": "#E5ECF6",
           "caxis": {
            "gridcolor": "white",
            "linecolor": "white",
            "ticks": ""
           }
          },
          "title": {
           "x": 0.05
          },
          "xaxis": {
           "automargin": true,
           "gridcolor": "white",
           "linecolor": "white",
           "ticks": "",
           "title": {
            "standoff": 15
           },
           "zerolinecolor": "white",
           "zerolinewidth": 2
          },
          "yaxis": {
           "automargin": true,
           "gridcolor": "white",
           "linecolor": "white",
           "ticks": "",
           "title": {
            "standoff": 15
           },
           "zerolinecolor": "white",
           "zerolinewidth": 2
          }
         }
        },
        "title": {
         "text": "Histogramas:"
        },
        "width": 900,
        "xaxis": {
         "anchor": "y",
         "domain": [
          0,
          0.2888888888888889
         ]
        },
        "xaxis2": {
         "anchor": "y2",
         "domain": [
          0.35555555555555557,
          0.6444444444444445
         ]
        },
        "xaxis3": {
         "anchor": "y3",
         "domain": [
          0.7111111111111111,
          1
         ]
        },
        "xaxis4": {
         "anchor": "y4",
         "domain": [
          0,
          0.2888888888888889
         ]
        },
        "xaxis5": {
         "anchor": "y5",
         "domain": [
          0.35555555555555557,
          0.6444444444444445
         ]
        },
        "xaxis6": {
         "anchor": "y6",
         "domain": [
          0.7111111111111111,
          1
         ]
        },
        "yaxis": {
         "anchor": "x",
         "domain": [
          0.625,
          1
         ]
        },
        "yaxis2": {
         "anchor": "x2",
         "domain": [
          0.625,
          1
         ]
        },
        "yaxis3": {
         "anchor": "x3",
         "domain": [
          0.625,
          1
         ]
        },
        "yaxis4": {
         "anchor": "x4",
         "domain": [
          0,
          0.375
         ]
        },
        "yaxis5": {
         "anchor": "x5",
         "domain": [
          0,
          0.375
         ]
        },
        "yaxis6": {
         "anchor": "x6",
         "domain": [
          0,
          0.375
         ]
        }
       }
      }
     },
     "metadata": {},
     "output_type": "display_data"
    }
   ],
   "source": [
    "cols = ['popularity','danceability', 'energy','valence', 'speechiness','instrumentalness']\n",
    "\n",
    "fig = make_subplots(rows=2, cols=3, subplot_titles=cols)\n",
    "\n",
    "for i, col in enumerate(cols):\n",
    "    fig.add_trace(go.Histogram(y=sad_df[col], name=col), row=(i // 3) + 1, col=(i % 3) + 1)\n",
    "\n",
    "fig.update_layout(\n",
    "    title=\"Histogramas:\",\n",
    "    height=600,\n",
    "    width=900\n",
    ")\n",
    "\n",
    "fig.show()"
   ]
  },
  {
   "cell_type": "code",
   "execution_count": 25,
   "metadata": {},
   "outputs": [
    {
     "data": {
      "text/plain": [
       "0.272712"
      ]
     },
     "execution_count": 25,
     "metadata": {},
     "output_type": "execute_result"
    }
   ],
   "source": [
    "sad_df['valence'].mean()"
   ]
  },
  {
   "cell_type": "markdown",
   "metadata": {},
   "source": [
    "Vemos que las canciones alegres según la lista que ha generado Spotify:  \n",
    "- Por lo general son canciones bastante populares, un poquito menos que las felices (con un 73 sobre 100 de media).  \n",
    "- En cuanto a la bailabilidad la mayoría no son muy bailables, de media cuentan con un 0,5 de bailabilidad.  \n",
    "- No son canciones enérgicas (0,4).  \n",
    "- Respecto a la valencia son canciones con una valencia muy baja (0,27 de media), por lo tanto, efectivamente son canciones tristes.\n",
    "- Son canciones que no son habladas o rapeadas.  \n",
    "- Por último, vemos que casi todas las canciones tienen voces, no son puramente instrumentales."
   ]
  },
  {
   "cell_type": "markdown",
   "metadata": {},
   "source": [
    "#### 3. Ira / Anger"
   ]
  },
  {
   "cell_type": "code",
   "execution_count": 26,
   "metadata": {},
   "outputs": [
    {
     "data": {
      "text/html": [
       "<div>\n",
       "<style scoped>\n",
       "    .dataframe tbody tr th:only-of-type {\n",
       "        vertical-align: middle;\n",
       "    }\n",
       "\n",
       "    .dataframe tbody tr th {\n",
       "        vertical-align: top;\n",
       "    }\n",
       "\n",
       "    .dataframe thead th {\n",
       "        text-align: right;\n",
       "    }\n",
       "</style>\n",
       "<table border=\"1\" class=\"dataframe\">\n",
       "  <thead>\n",
       "    <tr style=\"text-align: right;\">\n",
       "      <th></th>\n",
       "      <th>Mood</th>\n",
       "      <th>song_name</th>\n",
       "      <th>artist_name</th>\n",
       "      <th>popularity</th>\n",
       "      <th>danceability</th>\n",
       "      <th>energy</th>\n",
       "      <th>key</th>\n",
       "      <th>loudness</th>\n",
       "      <th>mode</th>\n",
       "      <th>speechiness</th>\n",
       "      <th>acousticness</th>\n",
       "      <th>instrumentalness</th>\n",
       "      <th>liveness</th>\n",
       "      <th>valence</th>\n",
       "      <th>tempo</th>\n",
       "      <th>duration_ms</th>\n",
       "      <th>song_uri</th>\n",
       "    </tr>\n",
       "  </thead>\n",
       "  <tbody>\n",
       "    <tr>\n",
       "      <th>200</th>\n",
       "      <td>Anger</td>\n",
       "      <td>Supermassive Black Hole</td>\n",
       "      <td>Muse</td>\n",
       "      <td>81</td>\n",
       "      <td>0.668</td>\n",
       "      <td>0.921</td>\n",
       "      <td>7</td>\n",
       "      <td>-3.727</td>\n",
       "      <td>1</td>\n",
       "      <td>0.0439</td>\n",
       "      <td>0.049200</td>\n",
       "      <td>0.005170</td>\n",
       "      <td>0.0877</td>\n",
       "      <td>0.782</td>\n",
       "      <td>120.000</td>\n",
       "      <td>212440</td>\n",
       "      <td>spotify:track:3lPr8ghNDBLc2uZovNyLs9</td>\n",
       "    </tr>\n",
       "    <tr>\n",
       "      <th>201</th>\n",
       "      <td>Anger</td>\n",
       "      <td>Vertigo</td>\n",
       "      <td>Alice Merton</td>\n",
       "      <td>48</td>\n",
       "      <td>0.630</td>\n",
       "      <td>0.884</td>\n",
       "      <td>5</td>\n",
       "      <td>-4.292</td>\n",
       "      <td>1</td>\n",
       "      <td>0.0489</td>\n",
       "      <td>0.001030</td>\n",
       "      <td>0.000102</td>\n",
       "      <td>0.2680</td>\n",
       "      <td>0.637</td>\n",
       "      <td>134.981</td>\n",
       "      <td>186933</td>\n",
       "      <td>spotify:track:1uxPC9Sqn1bMLhUaTqFjye</td>\n",
       "    </tr>\n",
       "    <tr>\n",
       "      <th>202</th>\n",
       "      <td>Anger</td>\n",
       "      <td>Parasite Eve</td>\n",
       "      <td>Bring Me The Horizon</td>\n",
       "      <td>65</td>\n",
       "      <td>0.589</td>\n",
       "      <td>0.797</td>\n",
       "      <td>9</td>\n",
       "      <td>-5.464</td>\n",
       "      <td>1</td>\n",
       "      <td>0.1500</td>\n",
       "      <td>0.028900</td>\n",
       "      <td>0.000004</td>\n",
       "      <td>0.3830</td>\n",
       "      <td>0.232</td>\n",
       "      <td>102.489</td>\n",
       "      <td>291813</td>\n",
       "      <td>spotify:track:5OxclJsdFESni44YlpNpkR</td>\n",
       "    </tr>\n",
       "    <tr>\n",
       "      <th>203</th>\n",
       "      <td>Anger</td>\n",
       "      <td>Seize the Power</td>\n",
       "      <td>YONAKA</td>\n",
       "      <td>59</td>\n",
       "      <td>0.633</td>\n",
       "      <td>0.788</td>\n",
       "      <td>5</td>\n",
       "      <td>-4.075</td>\n",
       "      <td>0</td>\n",
       "      <td>0.1270</td>\n",
       "      <td>0.011100</td>\n",
       "      <td>0.000002</td>\n",
       "      <td>0.0582</td>\n",
       "      <td>0.412</td>\n",
       "      <td>134.130</td>\n",
       "      <td>161617</td>\n",
       "      <td>spotify:track:4wD6EgZCok8Qb5Fs8jszYc</td>\n",
       "    </tr>\n",
       "    <tr>\n",
       "      <th>204</th>\n",
       "      <td>Anger</td>\n",
       "      <td>Teenagers</td>\n",
       "      <td>My Chemical Romance</td>\n",
       "      <td>84</td>\n",
       "      <td>0.463</td>\n",
       "      <td>0.857</td>\n",
       "      <td>4</td>\n",
       "      <td>-3.063</td>\n",
       "      <td>1</td>\n",
       "      <td>0.0632</td>\n",
       "      <td>0.050600</td>\n",
       "      <td>0.000000</td>\n",
       "      <td>0.1840</td>\n",
       "      <td>0.856</td>\n",
       "      <td>111.647</td>\n",
       "      <td>161920</td>\n",
       "      <td>spotify:track:7j31rVgGX9Q2blT92VBEA0</td>\n",
       "    </tr>\n",
       "    <tr>\n",
       "      <th>...</th>\n",
       "      <td>...</td>\n",
       "      <td>...</td>\n",
       "      <td>...</td>\n",
       "      <td>...</td>\n",
       "      <td>...</td>\n",
       "      <td>...</td>\n",
       "      <td>...</td>\n",
       "      <td>...</td>\n",
       "      <td>...</td>\n",
       "      <td>...</td>\n",
       "      <td>...</td>\n",
       "      <td>...</td>\n",
       "      <td>...</td>\n",
       "      <td>...</td>\n",
       "      <td>...</td>\n",
       "      <td>...</td>\n",
       "      <td>...</td>\n",
       "    </tr>\n",
       "    <tr>\n",
       "      <th>260</th>\n",
       "      <td>Anger</td>\n",
       "      <td>Weird Leisure</td>\n",
       "      <td>Biffy Clyro</td>\n",
       "      <td>49</td>\n",
       "      <td>0.228</td>\n",
       "      <td>0.879</td>\n",
       "      <td>5</td>\n",
       "      <td>-4.326</td>\n",
       "      <td>1</td>\n",
       "      <td>0.0701</td>\n",
       "      <td>0.000141</td>\n",
       "      <td>0.000009</td>\n",
       "      <td>0.0484</td>\n",
       "      <td>0.352</td>\n",
       "      <td>145.418</td>\n",
       "      <td>248493</td>\n",
       "      <td>spotify:track:0cJZTQ1x6ko3gbtoLKaoQe</td>\n",
       "    </tr>\n",
       "    <tr>\n",
       "      <th>261</th>\n",
       "      <td>Anger</td>\n",
       "      <td>Kamikaze</td>\n",
       "      <td>Connie Constance</td>\n",
       "      <td>39</td>\n",
       "      <td>0.459</td>\n",
       "      <td>0.707</td>\n",
       "      <td>1</td>\n",
       "      <td>-5.382</td>\n",
       "      <td>1</td>\n",
       "      <td>0.0930</td>\n",
       "      <td>0.000026</td>\n",
       "      <td>0.491000</td>\n",
       "      <td>0.2630</td>\n",
       "      <td>0.465</td>\n",
       "      <td>165.014</td>\n",
       "      <td>137840</td>\n",
       "      <td>spotify:track:0JpQfoBOdJ2ftUi7VGj6dx</td>\n",
       "    </tr>\n",
       "    <tr>\n",
       "      <th>262</th>\n",
       "      <td>Anger</td>\n",
       "      <td>Who’s Gonna Love Me Now</td>\n",
       "      <td>Cold War Kids</td>\n",
       "      <td>52</td>\n",
       "      <td>0.450</td>\n",
       "      <td>0.947</td>\n",
       "      <td>6</td>\n",
       "      <td>-3.608</td>\n",
       "      <td>0</td>\n",
       "      <td>0.2070</td>\n",
       "      <td>0.002770</td>\n",
       "      <td>0.000270</td>\n",
       "      <td>0.2860</td>\n",
       "      <td>0.298</td>\n",
       "      <td>118.701</td>\n",
       "      <td>171227</td>\n",
       "      <td>spotify:track:5VqnXEcxWfLdnsXBVjEpWx</td>\n",
       "    </tr>\n",
       "    <tr>\n",
       "      <th>263</th>\n",
       "      <td>Anger</td>\n",
       "      <td>Oh!</td>\n",
       "      <td>The Linda Lindas</td>\n",
       "      <td>45</td>\n",
       "      <td>0.639</td>\n",
       "      <td>0.950</td>\n",
       "      <td>2</td>\n",
       "      <td>-3.313</td>\n",
       "      <td>1</td>\n",
       "      <td>0.0609</td>\n",
       "      <td>0.000039</td>\n",
       "      <td>0.494000</td>\n",
       "      <td>0.0605</td>\n",
       "      <td>0.898</td>\n",
       "      <td>150.050</td>\n",
       "      <td>155822</td>\n",
       "      <td>spotify:track:4e72LGraX8sW5iztJvS5fo</td>\n",
       "    </tr>\n",
       "    <tr>\n",
       "      <th>264</th>\n",
       "      <td>Anger</td>\n",
       "      <td>God Complex (Mojo)</td>\n",
       "      <td>poutyface</td>\n",
       "      <td>45</td>\n",
       "      <td>0.573</td>\n",
       "      <td>0.723</td>\n",
       "      <td>6</td>\n",
       "      <td>-3.333</td>\n",
       "      <td>0</td>\n",
       "      <td>0.0571</td>\n",
       "      <td>0.004390</td>\n",
       "      <td>0.335000</td>\n",
       "      <td>0.4080</td>\n",
       "      <td>0.931</td>\n",
       "      <td>154.958</td>\n",
       "      <td>106741</td>\n",
       "      <td>spotify:track:1B3ouXA9iRkqY1ywvZbzZ5</td>\n",
       "    </tr>\n",
       "  </tbody>\n",
       "</table>\n",
       "<p>65 rows × 17 columns</p>\n",
       "</div>"
      ],
      "text/plain": [
       "      Mood                song_name           artist_name  popularity  \\\n",
       "200  Anger  Supermassive Black Hole                  Muse          81   \n",
       "201  Anger                  Vertigo          Alice Merton          48   \n",
       "202  Anger             Parasite Eve  Bring Me The Horizon          65   \n",
       "203  Anger          Seize the Power                YONAKA          59   \n",
       "204  Anger                Teenagers   My Chemical Romance          84   \n",
       "..     ...                      ...                   ...         ...   \n",
       "260  Anger            Weird Leisure           Biffy Clyro          49   \n",
       "261  Anger                 Kamikaze      Connie Constance          39   \n",
       "262  Anger  Who’s Gonna Love Me Now         Cold War Kids          52   \n",
       "263  Anger                      Oh!      The Linda Lindas          45   \n",
       "264  Anger       God Complex (Mojo)             poutyface          45   \n",
       "\n",
       "     danceability  energy  key  loudness  mode  speechiness  acousticness  \\\n",
       "200         0.668   0.921    7    -3.727     1       0.0439      0.049200   \n",
       "201         0.630   0.884    5    -4.292     1       0.0489      0.001030   \n",
       "202         0.589   0.797    9    -5.464     1       0.1500      0.028900   \n",
       "203         0.633   0.788    5    -4.075     0       0.1270      0.011100   \n",
       "204         0.463   0.857    4    -3.063     1       0.0632      0.050600   \n",
       "..            ...     ...  ...       ...   ...          ...           ...   \n",
       "260         0.228   0.879    5    -4.326     1       0.0701      0.000141   \n",
       "261         0.459   0.707    1    -5.382     1       0.0930      0.000026   \n",
       "262         0.450   0.947    6    -3.608     0       0.2070      0.002770   \n",
       "263         0.639   0.950    2    -3.313     1       0.0609      0.000039   \n",
       "264         0.573   0.723    6    -3.333     0       0.0571      0.004390   \n",
       "\n",
       "     instrumentalness  liveness  valence    tempo  duration_ms  \\\n",
       "200          0.005170    0.0877    0.782  120.000       212440   \n",
       "201          0.000102    0.2680    0.637  134.981       186933   \n",
       "202          0.000004    0.3830    0.232  102.489       291813   \n",
       "203          0.000002    0.0582    0.412  134.130       161617   \n",
       "204          0.000000    0.1840    0.856  111.647       161920   \n",
       "..                ...       ...      ...      ...          ...   \n",
       "260          0.000009    0.0484    0.352  145.418       248493   \n",
       "261          0.491000    0.2630    0.465  165.014       137840   \n",
       "262          0.000270    0.2860    0.298  118.701       171227   \n",
       "263          0.494000    0.0605    0.898  150.050       155822   \n",
       "264          0.335000    0.4080    0.931  154.958       106741   \n",
       "\n",
       "                                 song_uri  \n",
       "200  spotify:track:3lPr8ghNDBLc2uZovNyLs9  \n",
       "201  spotify:track:1uxPC9Sqn1bMLhUaTqFjye  \n",
       "202  spotify:track:5OxclJsdFESni44YlpNpkR  \n",
       "203  spotify:track:4wD6EgZCok8Qb5Fs8jszYc  \n",
       "204  spotify:track:7j31rVgGX9Q2blT92VBEA0  \n",
       "..                                    ...  \n",
       "260  spotify:track:0cJZTQ1x6ko3gbtoLKaoQe  \n",
       "261  spotify:track:0JpQfoBOdJ2ftUi7VGj6dx  \n",
       "262  spotify:track:5VqnXEcxWfLdnsXBVjEpWx  \n",
       "263  spotify:track:4e72LGraX8sW5iztJvS5fo  \n",
       "264  spotify:track:1B3ouXA9iRkqY1ywvZbzZ5  \n",
       "\n",
       "[65 rows x 17 columns]"
      ]
     },
     "execution_count": 26,
     "metadata": {},
     "output_type": "execute_result"
    }
   ],
   "source": [
    "anger_df = df[(df.Mood == 'Anger')]\n",
    "anger_df"
   ]
  },
  {
   "cell_type": "markdown",
   "metadata": {},
   "source": [
    "##### 3.1 Variables no acotadas (duration_ms, loudness y tempo)"
   ]
  },
  {
   "cell_type": "code",
   "execution_count": 27,
   "metadata": {},
   "outputs": [
    {
     "name": "stderr",
     "output_type": "stream",
     "text": [
      "C:\\Users\\User\\AppData\\Local\\Temp\\ipykernel_9492\\3389938046.py:2: SettingWithCopyWarning:\n",
      "\n",
      "\n",
      "A value is trying to be set on a copy of a slice from a DataFrame.\n",
      "Try using .loc[row_indexer,col_indexer] = value instead\n",
      "\n",
      "See the caveats in the documentation: https://pandas.pydata.org/pandas-docs/stable/user_guide/indexing.html#returning-a-view-versus-a-copy\n",
      "\n"
     ]
    }
   ],
   "source": [
    "# Convierto ms a minutos: 1 min = 60.000 ms\n",
    "anger_df['duration_ms'] = anger_df['duration_ms']/60000"
   ]
  },
  {
   "cell_type": "code",
   "execution_count": 28,
   "metadata": {},
   "outputs": [
    {
     "data": {
      "application/vnd.plotly.v1+json": {
       "config": {
        "plotlyServerURL": "https://plot.ly"
       },
       "data": [
        {
         "name": "duration_ms",
         "type": "box",
         "xaxis": "x",
         "y": [
          3.5406666666666666,
          3.11555,
          4.86355,
          2.6936166666666668,
          2.6986666666666665,
          3.028,
          4.5399,
          3.133783333333333,
          4.483333333333333,
          4.242216666666667,
          3.28955,
          3.0457833333333335,
          3.976,
          2.888,
          3.4913333333333334,
          3.2689333333333335,
          2.2034333333333334,
          3.1282833333333335,
          2.0025,
          2.8891166666666668,
          4.571366666666667,
          3.52045,
          3.3133166666666667,
          3.750566666666667,
          3.0577833333333335,
          3.2413333333333334,
          4.66885,
          2.1768833333333335,
          2.9191833333333332,
          3.2119333333333335,
          3.3124833333333332,
          2.5946666666666665,
          2.94845,
          3.73845,
          3.053533333333333,
          2.726,
          4.0923,
          2.37895,
          3.3293333333333335,
          3.1131166666666665,
          4.49445,
          3.1128833333333334,
          2.55445,
          3.7640166666666666,
          4.088666666666667,
          3.8826666666666667,
          3.0401166666666666,
          3.1304333333333334,
          1.67445,
          2.1894,
          3.45,
          3.9593333333333334,
          2.14355,
          2.6926666666666668,
          2.4589333333333334,
          2.8640333333333334,
          3.5807166666666665,
          3.28,
          2.84205,
          5.012,
          4.14155,
          2.2973333333333334,
          2.8537833333333333,
          2.5970333333333335,
          1.7790166666666667
         ],
         "yaxis": "y"
        },
        {
         "name": "loudness",
         "type": "box",
         "xaxis": "x2",
         "y": [
          -3.727,
          -4.292,
          -5.464,
          -4.075,
          -3.063,
          -2.666,
          -7.596,
          -6.887,
          -3.442,
          -7.24,
          -4.407,
          -5.326,
          -8.329,
          -6.258,
          -4.774,
          -5.29,
          -5.402,
          -6.853,
          -2.059,
          -4.008,
          -5.909,
          -6.742,
          -4.759,
          -6.061,
          -4.464,
          -3.618,
          -8.376,
          -4.686,
          -3.048,
          -5.342,
          -2.938,
          -4.838,
          -6.355,
          -3.922,
          -5.43,
          -5.236,
          -4.951,
          -5.055,
          -5.021,
          -6.093,
          -4.702,
          -4.852,
          -1.856,
          -3.87,
          -7.002,
          -4.025,
          -3.133,
          -7.74,
          -6.939,
          -3.441,
          -2.087,
          -5.417,
          -1.789,
          -5.304,
          -3.825,
          -4.013,
          -8.665,
          -5.238,
          -7.287,
          -6.182,
          -4.326,
          -5.382,
          -3.608,
          -3.313,
          -3.333
         ],
         "yaxis": "y2"
        },
        {
         "name": "tempo",
         "type": "box",
         "xaxis": "x3",
         "y": [
          120,
          134.981,
          102.489,
          134.13,
          111.647,
          95.975,
          85.03,
          101.936,
          91.455,
          94.214,
          143.025,
          123.117,
          127.052,
          84.051,
          94.508,
          194.876,
          95.007,
          157.942,
          103.056,
          132.507,
          97.907,
          123.075,
          120.962,
          93.991,
          95.354,
          128.061,
          105.976,
          164.978,
          160.063,
          84.85,
          151.936,
          119.017,
          155.031,
          157.675,
          104.042,
          125.128,
          194.992,
          97.053,
          135.767,
          179.346,
          135.055,
          156.048,
          122.133,
          85.47,
          150.115,
          102.829,
          120.115,
          91.999,
          159.914,
          166.058,
          119.008,
          118.954,
          135.014,
          88.568,
          139.98,
          139.991,
          97.335,
          93.579,
          105.015,
          146.94,
          145.418,
          165.014,
          118.701,
          150.05,
          154.958
         ],
         "yaxis": "y3"
        }
       ],
       "layout": {
        "annotations": [
         {
          "font": {
           "size": 16
          },
          "showarrow": false,
          "text": "duration_ms",
          "x": 0.14444444444444446,
          "xanchor": "center",
          "xref": "paper",
          "y": 1,
          "yanchor": "bottom",
          "yref": "paper"
         },
         {
          "font": {
           "size": 16
          },
          "showarrow": false,
          "text": "loudness",
          "x": 0.5,
          "xanchor": "center",
          "xref": "paper",
          "y": 1,
          "yanchor": "bottom",
          "yref": "paper"
         },
         {
          "font": {
           "size": 16
          },
          "showarrow": false,
          "text": "tempo",
          "x": 0.8555555555555556,
          "xanchor": "center",
          "xref": "paper",
          "y": 1,
          "yanchor": "bottom",
          "yref": "paper"
         }
        ],
        "height": 400,
        "template": {
         "data": {
          "bar": [
           {
            "error_x": {
             "color": "#2a3f5f"
            },
            "error_y": {
             "color": "#2a3f5f"
            },
            "marker": {
             "line": {
              "color": "#E5ECF6",
              "width": 0.5
             },
             "pattern": {
              "fillmode": "overlay",
              "size": 10,
              "solidity": 0.2
             }
            },
            "type": "bar"
           }
          ],
          "barpolar": [
           {
            "marker": {
             "line": {
              "color": "#E5ECF6",
              "width": 0.5
             },
             "pattern": {
              "fillmode": "overlay",
              "size": 10,
              "solidity": 0.2
             }
            },
            "type": "barpolar"
           }
          ],
          "carpet": [
           {
            "aaxis": {
             "endlinecolor": "#2a3f5f",
             "gridcolor": "white",
             "linecolor": "white",
             "minorgridcolor": "white",
             "startlinecolor": "#2a3f5f"
            },
            "baxis": {
             "endlinecolor": "#2a3f5f",
             "gridcolor": "white",
             "linecolor": "white",
             "minorgridcolor": "white",
             "startlinecolor": "#2a3f5f"
            },
            "type": "carpet"
           }
          ],
          "choropleth": [
           {
            "colorbar": {
             "outlinewidth": 0,
             "ticks": ""
            },
            "type": "choropleth"
           }
          ],
          "contour": [
           {
            "colorbar": {
             "outlinewidth": 0,
             "ticks": ""
            },
            "colorscale": [
             [
              0,
              "#0d0887"
             ],
             [
              0.1111111111111111,
              "#46039f"
             ],
             [
              0.2222222222222222,
              "#7201a8"
             ],
             [
              0.3333333333333333,
              "#9c179e"
             ],
             [
              0.4444444444444444,
              "#bd3786"
             ],
             [
              0.5555555555555556,
              "#d8576b"
             ],
             [
              0.6666666666666666,
              "#ed7953"
             ],
             [
              0.7777777777777778,
              "#fb9f3a"
             ],
             [
              0.8888888888888888,
              "#fdca26"
             ],
             [
              1,
              "#f0f921"
             ]
            ],
            "type": "contour"
           }
          ],
          "contourcarpet": [
           {
            "colorbar": {
             "outlinewidth": 0,
             "ticks": ""
            },
            "type": "contourcarpet"
           }
          ],
          "heatmap": [
           {
            "colorbar": {
             "outlinewidth": 0,
             "ticks": ""
            },
            "colorscale": [
             [
              0,
              "#0d0887"
             ],
             [
              0.1111111111111111,
              "#46039f"
             ],
             [
              0.2222222222222222,
              "#7201a8"
             ],
             [
              0.3333333333333333,
              "#9c179e"
             ],
             [
              0.4444444444444444,
              "#bd3786"
             ],
             [
              0.5555555555555556,
              "#d8576b"
             ],
             [
              0.6666666666666666,
              "#ed7953"
             ],
             [
              0.7777777777777778,
              "#fb9f3a"
             ],
             [
              0.8888888888888888,
              "#fdca26"
             ],
             [
              1,
              "#f0f921"
             ]
            ],
            "type": "heatmap"
           }
          ],
          "heatmapgl": [
           {
            "colorbar": {
             "outlinewidth": 0,
             "ticks": ""
            },
            "colorscale": [
             [
              0,
              "#0d0887"
             ],
             [
              0.1111111111111111,
              "#46039f"
             ],
             [
              0.2222222222222222,
              "#7201a8"
             ],
             [
              0.3333333333333333,
              "#9c179e"
             ],
             [
              0.4444444444444444,
              "#bd3786"
             ],
             [
              0.5555555555555556,
              "#d8576b"
             ],
             [
              0.6666666666666666,
              "#ed7953"
             ],
             [
              0.7777777777777778,
              "#fb9f3a"
             ],
             [
              0.8888888888888888,
              "#fdca26"
             ],
             [
              1,
              "#f0f921"
             ]
            ],
            "type": "heatmapgl"
           }
          ],
          "histogram": [
           {
            "marker": {
             "pattern": {
              "fillmode": "overlay",
              "size": 10,
              "solidity": 0.2
             }
            },
            "type": "histogram"
           }
          ],
          "histogram2d": [
           {
            "colorbar": {
             "outlinewidth": 0,
             "ticks": ""
            },
            "colorscale": [
             [
              0,
              "#0d0887"
             ],
             [
              0.1111111111111111,
              "#46039f"
             ],
             [
              0.2222222222222222,
              "#7201a8"
             ],
             [
              0.3333333333333333,
              "#9c179e"
             ],
             [
              0.4444444444444444,
              "#bd3786"
             ],
             [
              0.5555555555555556,
              "#d8576b"
             ],
             [
              0.6666666666666666,
              "#ed7953"
             ],
             [
              0.7777777777777778,
              "#fb9f3a"
             ],
             [
              0.8888888888888888,
              "#fdca26"
             ],
             [
              1,
              "#f0f921"
             ]
            ],
            "type": "histogram2d"
           }
          ],
          "histogram2dcontour": [
           {
            "colorbar": {
             "outlinewidth": 0,
             "ticks": ""
            },
            "colorscale": [
             [
              0,
              "#0d0887"
             ],
             [
              0.1111111111111111,
              "#46039f"
             ],
             [
              0.2222222222222222,
              "#7201a8"
             ],
             [
              0.3333333333333333,
              "#9c179e"
             ],
             [
              0.4444444444444444,
              "#bd3786"
             ],
             [
              0.5555555555555556,
              "#d8576b"
             ],
             [
              0.6666666666666666,
              "#ed7953"
             ],
             [
              0.7777777777777778,
              "#fb9f3a"
             ],
             [
              0.8888888888888888,
              "#fdca26"
             ],
             [
              1,
              "#f0f921"
             ]
            ],
            "type": "histogram2dcontour"
           }
          ],
          "mesh3d": [
           {
            "colorbar": {
             "outlinewidth": 0,
             "ticks": ""
            },
            "type": "mesh3d"
           }
          ],
          "parcoords": [
           {
            "line": {
             "colorbar": {
              "outlinewidth": 0,
              "ticks": ""
             }
            },
            "type": "parcoords"
           }
          ],
          "pie": [
           {
            "automargin": true,
            "type": "pie"
           }
          ],
          "scatter": [
           {
            "fillpattern": {
             "fillmode": "overlay",
             "size": 10,
             "solidity": 0.2
            },
            "type": "scatter"
           }
          ],
          "scatter3d": [
           {
            "line": {
             "colorbar": {
              "outlinewidth": 0,
              "ticks": ""
             }
            },
            "marker": {
             "colorbar": {
              "outlinewidth": 0,
              "ticks": ""
             }
            },
            "type": "scatter3d"
           }
          ],
          "scattercarpet": [
           {
            "marker": {
             "colorbar": {
              "outlinewidth": 0,
              "ticks": ""
             }
            },
            "type": "scattercarpet"
           }
          ],
          "scattergeo": [
           {
            "marker": {
             "colorbar": {
              "outlinewidth": 0,
              "ticks": ""
             }
            },
            "type": "scattergeo"
           }
          ],
          "scattergl": [
           {
            "marker": {
             "colorbar": {
              "outlinewidth": 0,
              "ticks": ""
             }
            },
            "type": "scattergl"
           }
          ],
          "scattermapbox": [
           {
            "marker": {
             "colorbar": {
              "outlinewidth": 0,
              "ticks": ""
             }
            },
            "type": "scattermapbox"
           }
          ],
          "scatterpolar": [
           {
            "marker": {
             "colorbar": {
              "outlinewidth": 0,
              "ticks": ""
             }
            },
            "type": "scatterpolar"
           }
          ],
          "scatterpolargl": [
           {
            "marker": {
             "colorbar": {
              "outlinewidth": 0,
              "ticks": ""
             }
            },
            "type": "scatterpolargl"
           }
          ],
          "scatterternary": [
           {
            "marker": {
             "colorbar": {
              "outlinewidth": 0,
              "ticks": ""
             }
            },
            "type": "scatterternary"
           }
          ],
          "surface": [
           {
            "colorbar": {
             "outlinewidth": 0,
             "ticks": ""
            },
            "colorscale": [
             [
              0,
              "#0d0887"
             ],
             [
              0.1111111111111111,
              "#46039f"
             ],
             [
              0.2222222222222222,
              "#7201a8"
             ],
             [
              0.3333333333333333,
              "#9c179e"
             ],
             [
              0.4444444444444444,
              "#bd3786"
             ],
             [
              0.5555555555555556,
              "#d8576b"
             ],
             [
              0.6666666666666666,
              "#ed7953"
             ],
             [
              0.7777777777777778,
              "#fb9f3a"
             ],
             [
              0.8888888888888888,
              "#fdca26"
             ],
             [
              1,
              "#f0f921"
             ]
            ],
            "type": "surface"
           }
          ],
          "table": [
           {
            "cells": {
             "fill": {
              "color": "#EBF0F8"
             },
             "line": {
              "color": "white"
             }
            },
            "header": {
             "fill": {
              "color": "#C8D4E3"
             },
             "line": {
              "color": "white"
             }
            },
            "type": "table"
           }
          ]
         },
         "layout": {
          "annotationdefaults": {
           "arrowcolor": "#2a3f5f",
           "arrowhead": 0,
           "arrowwidth": 1
          },
          "autotypenumbers": "strict",
          "coloraxis": {
           "colorbar": {
            "outlinewidth": 0,
            "ticks": ""
           }
          },
          "colorscale": {
           "diverging": [
            [
             0,
             "#8e0152"
            ],
            [
             0.1,
             "#c51b7d"
            ],
            [
             0.2,
             "#de77ae"
            ],
            [
             0.3,
             "#f1b6da"
            ],
            [
             0.4,
             "#fde0ef"
            ],
            [
             0.5,
             "#f7f7f7"
            ],
            [
             0.6,
             "#e6f5d0"
            ],
            [
             0.7,
             "#b8e186"
            ],
            [
             0.8,
             "#7fbc41"
            ],
            [
             0.9,
             "#4d9221"
            ],
            [
             1,
             "#276419"
            ]
           ],
           "sequential": [
            [
             0,
             "#0d0887"
            ],
            [
             0.1111111111111111,
             "#46039f"
            ],
            [
             0.2222222222222222,
             "#7201a8"
            ],
            [
             0.3333333333333333,
             "#9c179e"
            ],
            [
             0.4444444444444444,
             "#bd3786"
            ],
            [
             0.5555555555555556,
             "#d8576b"
            ],
            [
             0.6666666666666666,
             "#ed7953"
            ],
            [
             0.7777777777777778,
             "#fb9f3a"
            ],
            [
             0.8888888888888888,
             "#fdca26"
            ],
            [
             1,
             "#f0f921"
            ]
           ],
           "sequentialminus": [
            [
             0,
             "#0d0887"
            ],
            [
             0.1111111111111111,
             "#46039f"
            ],
            [
             0.2222222222222222,
             "#7201a8"
            ],
            [
             0.3333333333333333,
             "#9c179e"
            ],
            [
             0.4444444444444444,
             "#bd3786"
            ],
            [
             0.5555555555555556,
             "#d8576b"
            ],
            [
             0.6666666666666666,
             "#ed7953"
            ],
            [
             0.7777777777777778,
             "#fb9f3a"
            ],
            [
             0.8888888888888888,
             "#fdca26"
            ],
            [
             1,
             "#f0f921"
            ]
           ]
          },
          "colorway": [
           "#636efa",
           "#EF553B",
           "#00cc96",
           "#ab63fa",
           "#FFA15A",
           "#19d3f3",
           "#FF6692",
           "#B6E880",
           "#FF97FF",
           "#FECB52"
          ],
          "font": {
           "color": "#2a3f5f"
          },
          "geo": {
           "bgcolor": "white",
           "lakecolor": "white",
           "landcolor": "#E5ECF6",
           "showlakes": true,
           "showland": true,
           "subunitcolor": "white"
          },
          "hoverlabel": {
           "align": "left"
          },
          "hovermode": "closest",
          "mapbox": {
           "style": "light"
          },
          "paper_bgcolor": "white",
          "plot_bgcolor": "#E5ECF6",
          "polar": {
           "angularaxis": {
            "gridcolor": "white",
            "linecolor": "white",
            "ticks": ""
           },
           "bgcolor": "#E5ECF6",
           "radialaxis": {
            "gridcolor": "white",
            "linecolor": "white",
            "ticks": ""
           }
          },
          "scene": {
           "xaxis": {
            "backgroundcolor": "#E5ECF6",
            "gridcolor": "white",
            "gridwidth": 2,
            "linecolor": "white",
            "showbackground": true,
            "ticks": "",
            "zerolinecolor": "white"
           },
           "yaxis": {
            "backgroundcolor": "#E5ECF6",
            "gridcolor": "white",
            "gridwidth": 2,
            "linecolor": "white",
            "showbackground": true,
            "ticks": "",
            "zerolinecolor": "white"
           },
           "zaxis": {
            "backgroundcolor": "#E5ECF6",
            "gridcolor": "white",
            "gridwidth": 2,
            "linecolor": "white",
            "showbackground": true,
            "ticks": "",
            "zerolinecolor": "white"
           }
          },
          "shapedefaults": {
           "line": {
            "color": "#2a3f5f"
           }
          },
          "ternary": {
           "aaxis": {
            "gridcolor": "white",
            "linecolor": "white",
            "ticks": ""
           },
           "baxis": {
            "gridcolor": "white",
            "linecolor": "white",
            "ticks": ""
           },
           "bgcolor": "#E5ECF6",
           "caxis": {
            "gridcolor": "white",
            "linecolor": "white",
            "ticks": ""
           }
          },
          "title": {
           "x": 0.05
          },
          "xaxis": {
           "automargin": true,
           "gridcolor": "white",
           "linecolor": "white",
           "ticks": "",
           "title": {
            "standoff": 15
           },
           "zerolinecolor": "white",
           "zerolinewidth": 2
          },
          "yaxis": {
           "automargin": true,
           "gridcolor": "white",
           "linecolor": "white",
           "ticks": "",
           "title": {
            "standoff": 15
           },
           "zerolinecolor": "white",
           "zerolinewidth": 2
          }
         }
        },
        "title": {
         "text": "Distribución de variables:"
        },
        "width": 900,
        "xaxis": {
         "anchor": "y",
         "domain": [
          0,
          0.2888888888888889
         ]
        },
        "xaxis2": {
         "anchor": "y2",
         "domain": [
          0.35555555555555557,
          0.6444444444444445
         ]
        },
        "xaxis3": {
         "anchor": "y3",
         "domain": [
          0.7111111111111111,
          1
         ]
        },
        "yaxis": {
         "anchor": "x",
         "domain": [
          0,
          1
         ]
        },
        "yaxis2": {
         "anchor": "x2",
         "domain": [
          0,
          1
         ]
        },
        "yaxis3": {
         "anchor": "x3",
         "domain": [
          0,
          1
         ]
        }
       }
      }
     },
     "metadata": {},
     "output_type": "display_data"
    }
   ],
   "source": [
    "cols = ['duration_ms', 'loudness', 'tempo']\n",
    "\n",
    "fig = make_subplots(rows=1, cols=3, subplot_titles=cols)\n",
    "\n",
    "for i, col in enumerate(cols):\n",
    "    fig.add_trace(go.Box(y=anger_df[col], name=col), row=1, col=i+1)\n",
    "\n",
    "fig.update_layout(\n",
    "    title=\"Distribución de variables:\",\n",
    "    height=400,\n",
    "    width=900\n",
    ")\n",
    "\n",
    "fig.show()"
   ]
  },
  {
   "cell_type": "markdown",
   "metadata": {},
   "source": [
    "No aparecen outliers"
   ]
  },
  {
   "cell_type": "code",
   "execution_count": 29,
   "metadata": {},
   "outputs": [
    {
     "data": {
      "text/html": [
       "<div>\n",
       "<style scoped>\n",
       "    .dataframe tbody tr th:only-of-type {\n",
       "        vertical-align: middle;\n",
       "    }\n",
       "\n",
       "    .dataframe tbody tr th {\n",
       "        vertical-align: top;\n",
       "    }\n",
       "\n",
       "    .dataframe thead th {\n",
       "        text-align: right;\n",
       "    }\n",
       "</style>\n",
       "<table border=\"1\" class=\"dataframe\">\n",
       "  <thead>\n",
       "    <tr style=\"text-align: right;\">\n",
       "      <th></th>\n",
       "      <th>duration_ms</th>\n",
       "      <th>loudness</th>\n",
       "      <th>tempo</th>\n",
       "    </tr>\n",
       "  </thead>\n",
       "  <tbody>\n",
       "    <tr>\n",
       "      <th>count</th>\n",
       "      <td>65.000000</td>\n",
       "      <td>65.000000</td>\n",
       "      <td>65.000000</td>\n",
       "    </tr>\n",
       "    <tr>\n",
       "      <th>mean</th>\n",
       "      <td>3.232688</td>\n",
       "      <td>-4.943554</td>\n",
       "      <td>125.084046</td>\n",
       "    </tr>\n",
       "    <tr>\n",
       "      <th>std</th>\n",
       "      <td>0.758421</td>\n",
       "      <td>1.634156</td>\n",
       "      <td>28.380283</td>\n",
       "    </tr>\n",
       "    <tr>\n",
       "      <th>min</th>\n",
       "      <td>1.674450</td>\n",
       "      <td>-8.665000</td>\n",
       "      <td>84.051000</td>\n",
       "    </tr>\n",
       "    <tr>\n",
       "      <th>25%</th>\n",
       "      <td>2.726000</td>\n",
       "      <td>-6.061000</td>\n",
       "      <td>97.907000</td>\n",
       "    </tr>\n",
       "    <tr>\n",
       "      <th>50%</th>\n",
       "      <td>3.128283</td>\n",
       "      <td>-4.852000</td>\n",
       "      <td>122.133000</td>\n",
       "    </tr>\n",
       "    <tr>\n",
       "      <th>75%</th>\n",
       "      <td>3.738450</td>\n",
       "      <td>-3.825000</td>\n",
       "      <td>146.940000</td>\n",
       "    </tr>\n",
       "    <tr>\n",
       "      <th>max</th>\n",
       "      <td>5.012000</td>\n",
       "      <td>-1.789000</td>\n",
       "      <td>194.992000</td>\n",
       "    </tr>\n",
       "  </tbody>\n",
       "</table>\n",
       "</div>"
      ],
      "text/plain": [
       "       duration_ms   loudness       tempo\n",
       "count    65.000000  65.000000   65.000000\n",
       "mean      3.232688  -4.943554  125.084046\n",
       "std       0.758421   1.634156   28.380283\n",
       "min       1.674450  -8.665000   84.051000\n",
       "25%       2.726000  -6.061000   97.907000\n",
       "50%       3.128283  -4.852000  122.133000\n",
       "75%       3.738450  -3.825000  146.940000\n",
       "max       5.012000  -1.789000  194.992000"
      ]
     },
     "execution_count": 29,
     "metadata": {},
     "output_type": "execute_result"
    }
   ],
   "source": [
    "anger_df[['duration_ms','loudness','tempo']].describe()"
   ]
  },
  {
   "cell_type": "markdown",
   "metadata": {},
   "source": [
    "Las canciones de la playlist que representa la alegría:  \n",
    "- **Duración**: Tienen una duración media de 3 min. Vemos que la mayoría de los datos se encuentran entre 2 y 3 min.\n",
    "- **Sonoridad**: De media las canciones alegres rondan los -5 dB.\n",
    "- **Tempo**: Las canciones alegres tienen de media 125 pulsaciones por minuto (Bps). La mayoría de las canciones se encuentran entre 97 y 147 Bps"
   ]
  },
  {
   "cell_type": "markdown",
   "metadata": {},
   "source": [
    "##### 3.2 Variables acotadas"
   ]
  },
  {
   "cell_type": "code",
   "execution_count": 30,
   "metadata": {},
   "outputs": [
    {
     "data": {
      "application/vnd.plotly.v1+json": {
       "config": {
        "plotlyServerURL": "https://plot.ly"
       },
       "data": [
        {
         "name": "popularity",
         "type": "histogram",
         "xaxis": "x",
         "y": [
          81,
          48,
          65,
          59,
          84,
          78,
          91,
          51,
          86,
          69,
          71,
          76,
          69,
          67,
          51,
          60,
          52,
          69,
          62,
          85,
          66,
          75,
          72,
          49,
          50,
          51,
          61,
          59,
          53,
          47,
          53,
          53,
          41,
          55,
          48,
          46,
          50,
          51,
          64,
          52,
          46,
          45,
          53,
          48,
          50,
          53,
          46,
          43,
          41,
          48,
          49,
          41,
          48,
          43,
          42,
          46,
          53,
          50,
          62,
          58,
          49,
          39,
          52,
          45,
          45
         ],
         "yaxis": "y"
        },
        {
         "name": "danceability",
         "type": "histogram",
         "xaxis": "x2",
         "y": [
          0.668,
          0.63,
          0.589,
          0.633,
          0.463,
          0.527,
          0.548,
          0.546,
          0.618,
          0.417,
          0.536,
          0.62,
          0.62,
          0.301,
          0.446,
          0.202,
          0.698,
          0.564,
          0.545,
          0.75,
          0.482,
          0.598,
          0.649,
          0.575,
          0.506,
          0.646,
          0.73,
          0.569,
          0.514,
          0.358,
          0.507,
          0.468,
          0.608,
          0.364,
          0.552,
          0.776,
          0.421,
          0.479,
          0.451,
          0.521,
          0.469,
          0.587,
          0.627,
          0.44,
          0.501,
          0.481,
          0.67,
          0.65,
          0.591,
          0.411,
          0.6,
          0.535,
          0.547,
          0.578,
          0.647,
          0.564,
          0.375,
          0.515,
          0.586,
          0.231,
          0.228,
          0.459,
          0.45,
          0.639,
          0.573
         ],
         "yaxis": "y2"
        },
        {
         "name": "energy",
         "type": "histogram",
         "xaxis": "x3",
         "y": [
          0.921,
          0.884,
          0.797,
          0.788,
          0.857,
          0.922,
          0.532,
          0.76,
          0.938,
          0.63,
          0.9,
          0.782,
          0.61,
          0.807,
          0.778,
          0.742,
          0.891,
          0.91,
          0.987,
          0.608,
          0.843,
          0.553,
          0.74,
          0.64,
          0.967,
          0.82,
          0.445,
          0.789,
          0.949,
          0.839,
          0.88,
          0.902,
          0.781,
          0.877,
          0.78,
          0.796,
          0.817,
          0.844,
          0.929,
          0.679,
          0.882,
          0.823,
          0.861,
          0.9,
          0.777,
          0.765,
          0.903,
          0.659,
          0.698,
          0.95,
          0.915,
          0.754,
          0.987,
          0.948,
          0.794,
          0.875,
          0.71,
          0.764,
          0.81,
          0.919,
          0.879,
          0.707,
          0.947,
          0.95,
          0.723
         ],
         "yaxis": "y3"
        },
        {
         "name": "valence",
         "type": "histogram",
         "xaxis": "x4",
         "y": [
          0.782,
          0.637,
          0.232,
          0.412,
          0.856,
          0.49,
          0.405,
          0.41,
          0.875,
          0.341,
          0.627,
          0.551,
          0.235,
          0.595,
          0.683,
          0.155,
          0.837,
          0.736,
          0.558,
          0.958,
          0.433,
          0.533,
          0.203,
          0.565,
          0.592,
          0.438,
          0.075,
          0.876,
          0.608,
          0.211,
          0.469,
          0.451,
          0.826,
          0.382,
          0.354,
          0.965,
          0.522,
          0.446,
          0.378,
          0.555,
          0.298,
          0.73,
          0.623,
          0.467,
          0.757,
          0.465,
          0.528,
          0.733,
          0.764,
          0.658,
          0.589,
          0.335,
          0.5,
          0.392,
          0.913,
          0.61,
          0.559,
          0.342,
          0.646,
          0.128,
          0.352,
          0.465,
          0.298,
          0.898,
          0.931
         ],
         "yaxis": "y4"
        },
        {
         "name": "speechiness",
         "type": "histogram",
         "xaxis": "x5",
         "y": [
          0.0439,
          0.0489,
          0.15,
          0.127,
          0.0632,
          0.0728,
          0.0323,
          0.0399,
          0.0456,
          0.0898,
          0.0807,
          0.058,
          0.0373,
          0.0695,
          0.173,
          0.124,
          0.113,
          0.0953,
          0.197,
          0.0387,
          0.288,
          0.0397,
          0.0617,
          0.0455,
          0.0635,
          0.0521,
          0.0446,
          0.138,
          0.0872,
          0.203,
          0.0461,
          0.132,
          0.0621,
          0.107,
          0.042,
          0.0806,
          0.162,
          0.103,
          0.0549,
          0.0892,
          0.068,
          0.0456,
          0.0509,
          0.0679,
          0.0427,
          0.0388,
          0.195,
          0.0349,
          0.213,
          0.0547,
          0.0665,
          0.0396,
          0.0807,
          0.137,
          0.049,
          0.052,
          0.267,
          0.0444,
          0.0484,
          0.0722,
          0.0701,
          0.093,
          0.207,
          0.0609,
          0.0571
         ],
         "yaxis": "y5"
        },
        {
         "name": "instrumentalness",
         "type": "histogram",
         "xaxis": "x6",
         "y": [
          0.00517,
          0.000102,
          0.00000435,
          0.0000016,
          0,
          0.000162,
          0.000263,
          0.0000466,
          0,
          0.0134,
          0.000286,
          0.00000201,
          0.162,
          0.112,
          0.662,
          0.000483,
          0.0000296,
          0.0000232,
          0.0786,
          0,
          0.103,
          0.157,
          0.0505,
          0.00173,
          0.195,
          0.000171,
          0.00109,
          0,
          0.0000246,
          0.00081,
          0.0176,
          0.00000265,
          0.226,
          0.0000116,
          0.00000269,
          0.00000957,
          0.000615,
          0.107,
          0.00785,
          0.00122,
          0.00483,
          0.0000491,
          0,
          0.00000483,
          0.000643,
          0.000737,
          0.00000286,
          0.0718,
          0,
          0.0000128,
          0.00952,
          0.00000363,
          0.00024,
          0.000554,
          0.0708,
          0.000158,
          0.00628,
          0.878,
          0.0000295,
          0.00442,
          0.0000087,
          0.491,
          0.00027,
          0.494,
          0.335
         ],
         "yaxis": "y6"
        }
       ],
       "layout": {
        "annotations": [
         {
          "font": {
           "size": 16
          },
          "showarrow": false,
          "text": "popularity",
          "x": 0.14444444444444446,
          "xanchor": "center",
          "xref": "paper",
          "y": 1,
          "yanchor": "bottom",
          "yref": "paper"
         },
         {
          "font": {
           "size": 16
          },
          "showarrow": false,
          "text": "danceability",
          "x": 0.5,
          "xanchor": "center",
          "xref": "paper",
          "y": 1,
          "yanchor": "bottom",
          "yref": "paper"
         },
         {
          "font": {
           "size": 16
          },
          "showarrow": false,
          "text": "energy",
          "x": 0.8555555555555556,
          "xanchor": "center",
          "xref": "paper",
          "y": 1,
          "yanchor": "bottom",
          "yref": "paper"
         },
         {
          "font": {
           "size": 16
          },
          "showarrow": false,
          "text": "valence",
          "x": 0.14444444444444446,
          "xanchor": "center",
          "xref": "paper",
          "y": 0.375,
          "yanchor": "bottom",
          "yref": "paper"
         },
         {
          "font": {
           "size": 16
          },
          "showarrow": false,
          "text": "speechiness",
          "x": 0.5,
          "xanchor": "center",
          "xref": "paper",
          "y": 0.375,
          "yanchor": "bottom",
          "yref": "paper"
         },
         {
          "font": {
           "size": 16
          },
          "showarrow": false,
          "text": "instrumentalness",
          "x": 0.8555555555555556,
          "xanchor": "center",
          "xref": "paper",
          "y": 0.375,
          "yanchor": "bottom",
          "yref": "paper"
         }
        ],
        "height": 600,
        "template": {
         "data": {
          "bar": [
           {
            "error_x": {
             "color": "#2a3f5f"
            },
            "error_y": {
             "color": "#2a3f5f"
            },
            "marker": {
             "line": {
              "color": "#E5ECF6",
              "width": 0.5
             },
             "pattern": {
              "fillmode": "overlay",
              "size": 10,
              "solidity": 0.2
             }
            },
            "type": "bar"
           }
          ],
          "barpolar": [
           {
            "marker": {
             "line": {
              "color": "#E5ECF6",
              "width": 0.5
             },
             "pattern": {
              "fillmode": "overlay",
              "size": 10,
              "solidity": 0.2
             }
            },
            "type": "barpolar"
           }
          ],
          "carpet": [
           {
            "aaxis": {
             "endlinecolor": "#2a3f5f",
             "gridcolor": "white",
             "linecolor": "white",
             "minorgridcolor": "white",
             "startlinecolor": "#2a3f5f"
            },
            "baxis": {
             "endlinecolor": "#2a3f5f",
             "gridcolor": "white",
             "linecolor": "white",
             "minorgridcolor": "white",
             "startlinecolor": "#2a3f5f"
            },
            "type": "carpet"
           }
          ],
          "choropleth": [
           {
            "colorbar": {
             "outlinewidth": 0,
             "ticks": ""
            },
            "type": "choropleth"
           }
          ],
          "contour": [
           {
            "colorbar": {
             "outlinewidth": 0,
             "ticks": ""
            },
            "colorscale": [
             [
              0,
              "#0d0887"
             ],
             [
              0.1111111111111111,
              "#46039f"
             ],
             [
              0.2222222222222222,
              "#7201a8"
             ],
             [
              0.3333333333333333,
              "#9c179e"
             ],
             [
              0.4444444444444444,
              "#bd3786"
             ],
             [
              0.5555555555555556,
              "#d8576b"
             ],
             [
              0.6666666666666666,
              "#ed7953"
             ],
             [
              0.7777777777777778,
              "#fb9f3a"
             ],
             [
              0.8888888888888888,
              "#fdca26"
             ],
             [
              1,
              "#f0f921"
             ]
            ],
            "type": "contour"
           }
          ],
          "contourcarpet": [
           {
            "colorbar": {
             "outlinewidth": 0,
             "ticks": ""
            },
            "type": "contourcarpet"
           }
          ],
          "heatmap": [
           {
            "colorbar": {
             "outlinewidth": 0,
             "ticks": ""
            },
            "colorscale": [
             [
              0,
              "#0d0887"
             ],
             [
              0.1111111111111111,
              "#46039f"
             ],
             [
              0.2222222222222222,
              "#7201a8"
             ],
             [
              0.3333333333333333,
              "#9c179e"
             ],
             [
              0.4444444444444444,
              "#bd3786"
             ],
             [
              0.5555555555555556,
              "#d8576b"
             ],
             [
              0.6666666666666666,
              "#ed7953"
             ],
             [
              0.7777777777777778,
              "#fb9f3a"
             ],
             [
              0.8888888888888888,
              "#fdca26"
             ],
             [
              1,
              "#f0f921"
             ]
            ],
            "type": "heatmap"
           }
          ],
          "heatmapgl": [
           {
            "colorbar": {
             "outlinewidth": 0,
             "ticks": ""
            },
            "colorscale": [
             [
              0,
              "#0d0887"
             ],
             [
              0.1111111111111111,
              "#46039f"
             ],
             [
              0.2222222222222222,
              "#7201a8"
             ],
             [
              0.3333333333333333,
              "#9c179e"
             ],
             [
              0.4444444444444444,
              "#bd3786"
             ],
             [
              0.5555555555555556,
              "#d8576b"
             ],
             [
              0.6666666666666666,
              "#ed7953"
             ],
             [
              0.7777777777777778,
              "#fb9f3a"
             ],
             [
              0.8888888888888888,
              "#fdca26"
             ],
             [
              1,
              "#f0f921"
             ]
            ],
            "type": "heatmapgl"
           }
          ],
          "histogram": [
           {
            "marker": {
             "pattern": {
              "fillmode": "overlay",
              "size": 10,
              "solidity": 0.2
             }
            },
            "type": "histogram"
           }
          ],
          "histogram2d": [
           {
            "colorbar": {
             "outlinewidth": 0,
             "ticks": ""
            },
            "colorscale": [
             [
              0,
              "#0d0887"
             ],
             [
              0.1111111111111111,
              "#46039f"
             ],
             [
              0.2222222222222222,
              "#7201a8"
             ],
             [
              0.3333333333333333,
              "#9c179e"
             ],
             [
              0.4444444444444444,
              "#bd3786"
             ],
             [
              0.5555555555555556,
              "#d8576b"
             ],
             [
              0.6666666666666666,
              "#ed7953"
             ],
             [
              0.7777777777777778,
              "#fb9f3a"
             ],
             [
              0.8888888888888888,
              "#fdca26"
             ],
             [
              1,
              "#f0f921"
             ]
            ],
            "type": "histogram2d"
           }
          ],
          "histogram2dcontour": [
           {
            "colorbar": {
             "outlinewidth": 0,
             "ticks": ""
            },
            "colorscale": [
             [
              0,
              "#0d0887"
             ],
             [
              0.1111111111111111,
              "#46039f"
             ],
             [
              0.2222222222222222,
              "#7201a8"
             ],
             [
              0.3333333333333333,
              "#9c179e"
             ],
             [
              0.4444444444444444,
              "#bd3786"
             ],
             [
              0.5555555555555556,
              "#d8576b"
             ],
             [
              0.6666666666666666,
              "#ed7953"
             ],
             [
              0.7777777777777778,
              "#fb9f3a"
             ],
             [
              0.8888888888888888,
              "#fdca26"
             ],
             [
              1,
              "#f0f921"
             ]
            ],
            "type": "histogram2dcontour"
           }
          ],
          "mesh3d": [
           {
            "colorbar": {
             "outlinewidth": 0,
             "ticks": ""
            },
            "type": "mesh3d"
           }
          ],
          "parcoords": [
           {
            "line": {
             "colorbar": {
              "outlinewidth": 0,
              "ticks": ""
             }
            },
            "type": "parcoords"
           }
          ],
          "pie": [
           {
            "automargin": true,
            "type": "pie"
           }
          ],
          "scatter": [
           {
            "fillpattern": {
             "fillmode": "overlay",
             "size": 10,
             "solidity": 0.2
            },
            "type": "scatter"
           }
          ],
          "scatter3d": [
           {
            "line": {
             "colorbar": {
              "outlinewidth": 0,
              "ticks": ""
             }
            },
            "marker": {
             "colorbar": {
              "outlinewidth": 0,
              "ticks": ""
             }
            },
            "type": "scatter3d"
           }
          ],
          "scattercarpet": [
           {
            "marker": {
             "colorbar": {
              "outlinewidth": 0,
              "ticks": ""
             }
            },
            "type": "scattercarpet"
           }
          ],
          "scattergeo": [
           {
            "marker": {
             "colorbar": {
              "outlinewidth": 0,
              "ticks": ""
             }
            },
            "type": "scattergeo"
           }
          ],
          "scattergl": [
           {
            "marker": {
             "colorbar": {
              "outlinewidth": 0,
              "ticks": ""
             }
            },
            "type": "scattergl"
           }
          ],
          "scattermapbox": [
           {
            "marker": {
             "colorbar": {
              "outlinewidth": 0,
              "ticks": ""
             }
            },
            "type": "scattermapbox"
           }
          ],
          "scatterpolar": [
           {
            "marker": {
             "colorbar": {
              "outlinewidth": 0,
              "ticks": ""
             }
            },
            "type": "scatterpolar"
           }
          ],
          "scatterpolargl": [
           {
            "marker": {
             "colorbar": {
              "outlinewidth": 0,
              "ticks": ""
             }
            },
            "type": "scatterpolargl"
           }
          ],
          "scatterternary": [
           {
            "marker": {
             "colorbar": {
              "outlinewidth": 0,
              "ticks": ""
             }
            },
            "type": "scatterternary"
           }
          ],
          "surface": [
           {
            "colorbar": {
             "outlinewidth": 0,
             "ticks": ""
            },
            "colorscale": [
             [
              0,
              "#0d0887"
             ],
             [
              0.1111111111111111,
              "#46039f"
             ],
             [
              0.2222222222222222,
              "#7201a8"
             ],
             [
              0.3333333333333333,
              "#9c179e"
             ],
             [
              0.4444444444444444,
              "#bd3786"
             ],
             [
              0.5555555555555556,
              "#d8576b"
             ],
             [
              0.6666666666666666,
              "#ed7953"
             ],
             [
              0.7777777777777778,
              "#fb9f3a"
             ],
             [
              0.8888888888888888,
              "#fdca26"
             ],
             [
              1,
              "#f0f921"
             ]
            ],
            "type": "surface"
           }
          ],
          "table": [
           {
            "cells": {
             "fill": {
              "color": "#EBF0F8"
             },
             "line": {
              "color": "white"
             }
            },
            "header": {
             "fill": {
              "color": "#C8D4E3"
             },
             "line": {
              "color": "white"
             }
            },
            "type": "table"
           }
          ]
         },
         "layout": {
          "annotationdefaults": {
           "arrowcolor": "#2a3f5f",
           "arrowhead": 0,
           "arrowwidth": 1
          },
          "autotypenumbers": "strict",
          "coloraxis": {
           "colorbar": {
            "outlinewidth": 0,
            "ticks": ""
           }
          },
          "colorscale": {
           "diverging": [
            [
             0,
             "#8e0152"
            ],
            [
             0.1,
             "#c51b7d"
            ],
            [
             0.2,
             "#de77ae"
            ],
            [
             0.3,
             "#f1b6da"
            ],
            [
             0.4,
             "#fde0ef"
            ],
            [
             0.5,
             "#f7f7f7"
            ],
            [
             0.6,
             "#e6f5d0"
            ],
            [
             0.7,
             "#b8e186"
            ],
            [
             0.8,
             "#7fbc41"
            ],
            [
             0.9,
             "#4d9221"
            ],
            [
             1,
             "#276419"
            ]
           ],
           "sequential": [
            [
             0,
             "#0d0887"
            ],
            [
             0.1111111111111111,
             "#46039f"
            ],
            [
             0.2222222222222222,
             "#7201a8"
            ],
            [
             0.3333333333333333,
             "#9c179e"
            ],
            [
             0.4444444444444444,
             "#bd3786"
            ],
            [
             0.5555555555555556,
             "#d8576b"
            ],
            [
             0.6666666666666666,
             "#ed7953"
            ],
            [
             0.7777777777777778,
             "#fb9f3a"
            ],
            [
             0.8888888888888888,
             "#fdca26"
            ],
            [
             1,
             "#f0f921"
            ]
           ],
           "sequentialminus": [
            [
             0,
             "#0d0887"
            ],
            [
             0.1111111111111111,
             "#46039f"
            ],
            [
             0.2222222222222222,
             "#7201a8"
            ],
            [
             0.3333333333333333,
             "#9c179e"
            ],
            [
             0.4444444444444444,
             "#bd3786"
            ],
            [
             0.5555555555555556,
             "#d8576b"
            ],
            [
             0.6666666666666666,
             "#ed7953"
            ],
            [
             0.7777777777777778,
             "#fb9f3a"
            ],
            [
             0.8888888888888888,
             "#fdca26"
            ],
            [
             1,
             "#f0f921"
            ]
           ]
          },
          "colorway": [
           "#636efa",
           "#EF553B",
           "#00cc96",
           "#ab63fa",
           "#FFA15A",
           "#19d3f3",
           "#FF6692",
           "#B6E880",
           "#FF97FF",
           "#FECB52"
          ],
          "font": {
           "color": "#2a3f5f"
          },
          "geo": {
           "bgcolor": "white",
           "lakecolor": "white",
           "landcolor": "#E5ECF6",
           "showlakes": true,
           "showland": true,
           "subunitcolor": "white"
          },
          "hoverlabel": {
           "align": "left"
          },
          "hovermode": "closest",
          "mapbox": {
           "style": "light"
          },
          "paper_bgcolor": "white",
          "plot_bgcolor": "#E5ECF6",
          "polar": {
           "angularaxis": {
            "gridcolor": "white",
            "linecolor": "white",
            "ticks": ""
           },
           "bgcolor": "#E5ECF6",
           "radialaxis": {
            "gridcolor": "white",
            "linecolor": "white",
            "ticks": ""
           }
          },
          "scene": {
           "xaxis": {
            "backgroundcolor": "#E5ECF6",
            "gridcolor": "white",
            "gridwidth": 2,
            "linecolor": "white",
            "showbackground": true,
            "ticks": "",
            "zerolinecolor": "white"
           },
           "yaxis": {
            "backgroundcolor": "#E5ECF6",
            "gridcolor": "white",
            "gridwidth": 2,
            "linecolor": "white",
            "showbackground": true,
            "ticks": "",
            "zerolinecolor": "white"
           },
           "zaxis": {
            "backgroundcolor": "#E5ECF6",
            "gridcolor": "white",
            "gridwidth": 2,
            "linecolor": "white",
            "showbackground": true,
            "ticks": "",
            "zerolinecolor": "white"
           }
          },
          "shapedefaults": {
           "line": {
            "color": "#2a3f5f"
           }
          },
          "ternary": {
           "aaxis": {
            "gridcolor": "white",
            "linecolor": "white",
            "ticks": ""
           },
           "baxis": {
            "gridcolor": "white",
            "linecolor": "white",
            "ticks": ""
           },
           "bgcolor": "#E5ECF6",
           "caxis": {
            "gridcolor": "white",
            "linecolor": "white",
            "ticks": ""
           }
          },
          "title": {
           "x": 0.05
          },
          "xaxis": {
           "automargin": true,
           "gridcolor": "white",
           "linecolor": "white",
           "ticks": "",
           "title": {
            "standoff": 15
           },
           "zerolinecolor": "white",
           "zerolinewidth": 2
          },
          "yaxis": {
           "automargin": true,
           "gridcolor": "white",
           "linecolor": "white",
           "ticks": "",
           "title": {
            "standoff": 15
           },
           "zerolinecolor": "white",
           "zerolinewidth": 2
          }
         }
        },
        "title": {
         "text": "Histogramas:"
        },
        "width": 900,
        "xaxis": {
         "anchor": "y",
         "domain": [
          0,
          0.2888888888888889
         ]
        },
        "xaxis2": {
         "anchor": "y2",
         "domain": [
          0.35555555555555557,
          0.6444444444444445
         ]
        },
        "xaxis3": {
         "anchor": "y3",
         "domain": [
          0.7111111111111111,
          1
         ]
        },
        "xaxis4": {
         "anchor": "y4",
         "domain": [
          0,
          0.2888888888888889
         ]
        },
        "xaxis5": {
         "anchor": "y5",
         "domain": [
          0.35555555555555557,
          0.6444444444444445
         ]
        },
        "xaxis6": {
         "anchor": "y6",
         "domain": [
          0.7111111111111111,
          1
         ]
        },
        "yaxis": {
         "anchor": "x",
         "domain": [
          0.625,
          1
         ]
        },
        "yaxis2": {
         "anchor": "x2",
         "domain": [
          0.625,
          1
         ]
        },
        "yaxis3": {
         "anchor": "x3",
         "domain": [
          0.625,
          1
         ]
        },
        "yaxis4": {
         "anchor": "x4",
         "domain": [
          0,
          0.375
         ]
        },
        "yaxis5": {
         "anchor": "x5",
         "domain": [
          0,
          0.375
         ]
        },
        "yaxis6": {
         "anchor": "x6",
         "domain": [
          0,
          0.375
         ]
        }
       }
      }
     },
     "metadata": {},
     "output_type": "display_data"
    }
   ],
   "source": [
    "cols = ['popularity','danceability', 'energy','valence', 'speechiness','instrumentalness']\n",
    "\n",
    "fig = make_subplots(rows=2, cols=3, subplot_titles=cols)\n",
    "\n",
    "for i, col in enumerate(cols):\n",
    "    fig.add_trace(go.Histogram(y=anger_df[col], name=col), row=(i // 3) + 1, col=(i % 3) + 1)\n",
    "\n",
    "fig.update_layout(\n",
    "    title=\"Histogramas:\",\n",
    "    height=600,\n",
    "    width=900\n",
    ")\n",
    "\n",
    "fig.show()"
   ]
  },
  {
   "cell_type": "code",
   "execution_count": 31,
   "metadata": {},
   "outputs": [
    {
     "data": {
      "text/html": [
       "<div>\n",
       "<style scoped>\n",
       "    .dataframe tbody tr th:only-of-type {\n",
       "        vertical-align: middle;\n",
       "    }\n",
       "\n",
       "    .dataframe tbody tr th {\n",
       "        vertical-align: top;\n",
       "    }\n",
       "\n",
       "    .dataframe thead th {\n",
       "        text-align: right;\n",
       "    }\n",
       "</style>\n",
       "<table border=\"1\" class=\"dataframe\">\n",
       "  <thead>\n",
       "    <tr style=\"text-align: right;\">\n",
       "      <th></th>\n",
       "      <th>Mood</th>\n",
       "      <th>song_name</th>\n",
       "      <th>artist_name</th>\n",
       "      <th>popularity</th>\n",
       "      <th>danceability</th>\n",
       "      <th>energy</th>\n",
       "      <th>key</th>\n",
       "      <th>loudness</th>\n",
       "      <th>mode</th>\n",
       "      <th>speechiness</th>\n",
       "      <th>acousticness</th>\n",
       "      <th>instrumentalness</th>\n",
       "      <th>liveness</th>\n",
       "      <th>valence</th>\n",
       "      <th>tempo</th>\n",
       "      <th>duration_ms</th>\n",
       "      <th>song_uri</th>\n",
       "    </tr>\n",
       "  </thead>\n",
       "  <tbody>\n",
       "    <tr>\n",
       "      <th>226</th>\n",
       "      <td>Anger</td>\n",
       "      <td>King</td>\n",
       "      <td>Florence + The Machine</td>\n",
       "      <td>61</td>\n",
       "      <td>0.730</td>\n",
       "      <td>0.445</td>\n",
       "      <td>6</td>\n",
       "      <td>-8.376</td>\n",
       "      <td>0</td>\n",
       "      <td>0.0446</td>\n",
       "      <td>0.14200</td>\n",
       "      <td>0.001090</td>\n",
       "      <td>0.107</td>\n",
       "      <td>0.075</td>\n",
       "      <td>105.976</td>\n",
       "      <td>4.668850</td>\n",
       "      <td>spotify:track:1VSngtLdJhrlfHkLxTyOXK</td>\n",
       "    </tr>\n",
       "    <tr>\n",
       "      <th>206</th>\n",
       "      <td>Anger</td>\n",
       "      <td>Do I Wanna Know?</td>\n",
       "      <td>Arctic Monkeys</td>\n",
       "      <td>91</td>\n",
       "      <td>0.548</td>\n",
       "      <td>0.532</td>\n",
       "      <td>5</td>\n",
       "      <td>-7.596</td>\n",
       "      <td>1</td>\n",
       "      <td>0.0323</td>\n",
       "      <td>0.18600</td>\n",
       "      <td>0.000263</td>\n",
       "      <td>0.217</td>\n",
       "      <td>0.405</td>\n",
       "      <td>85.030</td>\n",
       "      <td>4.539900</td>\n",
       "      <td>spotify:track:5FVd6KXrgO9B3JPmC8OPst</td>\n",
       "    </tr>\n",
       "    <tr>\n",
       "      <th>221</th>\n",
       "      <td>Anger</td>\n",
       "      <td>Elephant</td>\n",
       "      <td>Tame Impala</td>\n",
       "      <td>75</td>\n",
       "      <td>0.598</td>\n",
       "      <td>0.553</td>\n",
       "      <td>9</td>\n",
       "      <td>-6.742</td>\n",
       "      <td>0</td>\n",
       "      <td>0.0397</td>\n",
       "      <td>0.56200</td>\n",
       "      <td>0.157000</td>\n",
       "      <td>0.257</td>\n",
       "      <td>0.533</td>\n",
       "      <td>123.075</td>\n",
       "      <td>3.520450</td>\n",
       "      <td>spotify:track:6qZjm61s6u8Ead9sWxCDro</td>\n",
       "    </tr>\n",
       "    <tr>\n",
       "      <th>219</th>\n",
       "      <td>Anger</td>\n",
       "      <td>I WANNA BE YOUR SLAVE</td>\n",
       "      <td>Måneskin</td>\n",
       "      <td>85</td>\n",
       "      <td>0.750</td>\n",
       "      <td>0.608</td>\n",
       "      <td>1</td>\n",
       "      <td>-4.008</td>\n",
       "      <td>1</td>\n",
       "      <td>0.0387</td>\n",
       "      <td>0.00165</td>\n",
       "      <td>0.000000</td>\n",
       "      <td>0.178</td>\n",
       "      <td>0.958</td>\n",
       "      <td>132.507</td>\n",
       "      <td>2.889117</td>\n",
       "      <td>spotify:track:4pt5fDVTg5GhEvEtlz9dKk</td>\n",
       "    </tr>\n",
       "    <tr>\n",
       "      <th>212</th>\n",
       "      <td>Anger</td>\n",
       "      <td>Jumpsuit</td>\n",
       "      <td>Twenty One Pilots</td>\n",
       "      <td>69</td>\n",
       "      <td>0.620</td>\n",
       "      <td>0.610</td>\n",
       "      <td>11</td>\n",
       "      <td>-8.329</td>\n",
       "      <td>0</td>\n",
       "      <td>0.0373</td>\n",
       "      <td>0.00849</td>\n",
       "      <td>0.162000</td>\n",
       "      <td>0.205</td>\n",
       "      <td>0.235</td>\n",
       "      <td>127.052</td>\n",
       "      <td>3.976000</td>\n",
       "      <td>spotify:track:1E1uGhNdBe6Dddbgs2KqtZ</td>\n",
       "    </tr>\n",
       "  </tbody>\n",
       "</table>\n",
       "</div>"
      ],
      "text/plain": [
       "      Mood              song_name             artist_name  popularity  \\\n",
       "226  Anger                   King  Florence + The Machine          61   \n",
       "206  Anger       Do I Wanna Know?          Arctic Monkeys          91   \n",
       "221  Anger               Elephant             Tame Impala          75   \n",
       "219  Anger  I WANNA BE YOUR SLAVE                Måneskin          85   \n",
       "212  Anger               Jumpsuit       Twenty One Pilots          69   \n",
       "\n",
       "     danceability  energy  key  loudness  mode  speechiness  acousticness  \\\n",
       "226         0.730   0.445    6    -8.376     0       0.0446       0.14200   \n",
       "206         0.548   0.532    5    -7.596     1       0.0323       0.18600   \n",
       "221         0.598   0.553    9    -6.742     0       0.0397       0.56200   \n",
       "219         0.750   0.608    1    -4.008     1       0.0387       0.00165   \n",
       "212         0.620   0.610   11    -8.329     0       0.0373       0.00849   \n",
       "\n",
       "     instrumentalness  liveness  valence    tempo  duration_ms  \\\n",
       "226          0.001090     0.107    0.075  105.976     4.668850   \n",
       "206          0.000263     0.217    0.405   85.030     4.539900   \n",
       "221          0.157000     0.257    0.533  123.075     3.520450   \n",
       "219          0.000000     0.178    0.958  132.507     2.889117   \n",
       "212          0.162000     0.205    0.235  127.052     3.976000   \n",
       "\n",
       "                                 song_uri  \n",
       "226  spotify:track:1VSngtLdJhrlfHkLxTyOXK  \n",
       "206  spotify:track:5FVd6KXrgO9B3JPmC8OPst  \n",
       "221  spotify:track:6qZjm61s6u8Ead9sWxCDro  \n",
       "219  spotify:track:4pt5fDVTg5GhEvEtlz9dKk  \n",
       "212  spotify:track:1E1uGhNdBe6Dddbgs2KqtZ  "
      ]
     },
     "execution_count": 31,
     "metadata": {},
     "output_type": "execute_result"
    }
   ],
   "source": [
    "anger_df.sort_values('energy', ascending=True).head()"
   ]
  },
  {
   "cell_type": "code",
   "execution_count": 32,
   "metadata": {},
   "outputs": [
    {
     "data": {
      "application/vnd.plotly.v1+json": {
       "config": {
        "plotlyServerURL": "https://plot.ly"
       },
       "data": [
        {
         "alignmentgroup": "True",
         "hovertemplate": "x=%{x}<extra></extra>",
         "legendgroup": "",
         "marker": {
          "color": "#636efa"
         },
         "name": "",
         "notched": false,
         "offsetgroup": "",
         "orientation": "h",
         "showlegend": false,
         "type": "box",
         "x": [
          0.921,
          0.884,
          0.797,
          0.788,
          0.857,
          0.922,
          0.532,
          0.76,
          0.938,
          0.63,
          0.9,
          0.782,
          0.61,
          0.807,
          0.778,
          0.742,
          0.891,
          0.91,
          0.987,
          0.608,
          0.843,
          0.553,
          0.74,
          0.64,
          0.967,
          0.82,
          0.445,
          0.789,
          0.949,
          0.839,
          0.88,
          0.902,
          0.781,
          0.877,
          0.78,
          0.796,
          0.817,
          0.844,
          0.929,
          0.679,
          0.882,
          0.823,
          0.861,
          0.9,
          0.777,
          0.765,
          0.903,
          0.659,
          0.698,
          0.95,
          0.915,
          0.754,
          0.987,
          0.948,
          0.794,
          0.875,
          0.71,
          0.764,
          0.81,
          0.919,
          0.879,
          0.707,
          0.947,
          0.95,
          0.723
         ],
         "x0": " ",
         "xaxis": "x",
         "y0": " ",
         "yaxis": "y"
        }
       ],
       "layout": {
        "boxmode": "group",
        "legend": {
         "tracegroupgap": 0
        },
        "margin": {
         "t": 60
        },
        "template": {
         "data": {
          "bar": [
           {
            "error_x": {
             "color": "#2a3f5f"
            },
            "error_y": {
             "color": "#2a3f5f"
            },
            "marker": {
             "line": {
              "color": "#E5ECF6",
              "width": 0.5
             },
             "pattern": {
              "fillmode": "overlay",
              "size": 10,
              "solidity": 0.2
             }
            },
            "type": "bar"
           }
          ],
          "barpolar": [
           {
            "marker": {
             "line": {
              "color": "#E5ECF6",
              "width": 0.5
             },
             "pattern": {
              "fillmode": "overlay",
              "size": 10,
              "solidity": 0.2
             }
            },
            "type": "barpolar"
           }
          ],
          "carpet": [
           {
            "aaxis": {
             "endlinecolor": "#2a3f5f",
             "gridcolor": "white",
             "linecolor": "white",
             "minorgridcolor": "white",
             "startlinecolor": "#2a3f5f"
            },
            "baxis": {
             "endlinecolor": "#2a3f5f",
             "gridcolor": "white",
             "linecolor": "white",
             "minorgridcolor": "white",
             "startlinecolor": "#2a3f5f"
            },
            "type": "carpet"
           }
          ],
          "choropleth": [
           {
            "colorbar": {
             "outlinewidth": 0,
             "ticks": ""
            },
            "type": "choropleth"
           }
          ],
          "contour": [
           {
            "colorbar": {
             "outlinewidth": 0,
             "ticks": ""
            },
            "colorscale": [
             [
              0,
              "#0d0887"
             ],
             [
              0.1111111111111111,
              "#46039f"
             ],
             [
              0.2222222222222222,
              "#7201a8"
             ],
             [
              0.3333333333333333,
              "#9c179e"
             ],
             [
              0.4444444444444444,
              "#bd3786"
             ],
             [
              0.5555555555555556,
              "#d8576b"
             ],
             [
              0.6666666666666666,
              "#ed7953"
             ],
             [
              0.7777777777777778,
              "#fb9f3a"
             ],
             [
              0.8888888888888888,
              "#fdca26"
             ],
             [
              1,
              "#f0f921"
             ]
            ],
            "type": "contour"
           }
          ],
          "contourcarpet": [
           {
            "colorbar": {
             "outlinewidth": 0,
             "ticks": ""
            },
            "type": "contourcarpet"
           }
          ],
          "heatmap": [
           {
            "colorbar": {
             "outlinewidth": 0,
             "ticks": ""
            },
            "colorscale": [
             [
              0,
              "#0d0887"
             ],
             [
              0.1111111111111111,
              "#46039f"
             ],
             [
              0.2222222222222222,
              "#7201a8"
             ],
             [
              0.3333333333333333,
              "#9c179e"
             ],
             [
              0.4444444444444444,
              "#bd3786"
             ],
             [
              0.5555555555555556,
              "#d8576b"
             ],
             [
              0.6666666666666666,
              "#ed7953"
             ],
             [
              0.7777777777777778,
              "#fb9f3a"
             ],
             [
              0.8888888888888888,
              "#fdca26"
             ],
             [
              1,
              "#f0f921"
             ]
            ],
            "type": "heatmap"
           }
          ],
          "heatmapgl": [
           {
            "colorbar": {
             "outlinewidth": 0,
             "ticks": ""
            },
            "colorscale": [
             [
              0,
              "#0d0887"
             ],
             [
              0.1111111111111111,
              "#46039f"
             ],
             [
              0.2222222222222222,
              "#7201a8"
             ],
             [
              0.3333333333333333,
              "#9c179e"
             ],
             [
              0.4444444444444444,
              "#bd3786"
             ],
             [
              0.5555555555555556,
              "#d8576b"
             ],
             [
              0.6666666666666666,
              "#ed7953"
             ],
             [
              0.7777777777777778,
              "#fb9f3a"
             ],
             [
              0.8888888888888888,
              "#fdca26"
             ],
             [
              1,
              "#f0f921"
             ]
            ],
            "type": "heatmapgl"
           }
          ],
          "histogram": [
           {
            "marker": {
             "pattern": {
              "fillmode": "overlay",
              "size": 10,
              "solidity": 0.2
             }
            },
            "type": "histogram"
           }
          ],
          "histogram2d": [
           {
            "colorbar": {
             "outlinewidth": 0,
             "ticks": ""
            },
            "colorscale": [
             [
              0,
              "#0d0887"
             ],
             [
              0.1111111111111111,
              "#46039f"
             ],
             [
              0.2222222222222222,
              "#7201a8"
             ],
             [
              0.3333333333333333,
              "#9c179e"
             ],
             [
              0.4444444444444444,
              "#bd3786"
             ],
             [
              0.5555555555555556,
              "#d8576b"
             ],
             [
              0.6666666666666666,
              "#ed7953"
             ],
             [
              0.7777777777777778,
              "#fb9f3a"
             ],
             [
              0.8888888888888888,
              "#fdca26"
             ],
             [
              1,
              "#f0f921"
             ]
            ],
            "type": "histogram2d"
           }
          ],
          "histogram2dcontour": [
           {
            "colorbar": {
             "outlinewidth": 0,
             "ticks": ""
            },
            "colorscale": [
             [
              0,
              "#0d0887"
             ],
             [
              0.1111111111111111,
              "#46039f"
             ],
             [
              0.2222222222222222,
              "#7201a8"
             ],
             [
              0.3333333333333333,
              "#9c179e"
             ],
             [
              0.4444444444444444,
              "#bd3786"
             ],
             [
              0.5555555555555556,
              "#d8576b"
             ],
             [
              0.6666666666666666,
              "#ed7953"
             ],
             [
              0.7777777777777778,
              "#fb9f3a"
             ],
             [
              0.8888888888888888,
              "#fdca26"
             ],
             [
              1,
              "#f0f921"
             ]
            ],
            "type": "histogram2dcontour"
           }
          ],
          "mesh3d": [
           {
            "colorbar": {
             "outlinewidth": 0,
             "ticks": ""
            },
            "type": "mesh3d"
           }
          ],
          "parcoords": [
           {
            "line": {
             "colorbar": {
              "outlinewidth": 0,
              "ticks": ""
             }
            },
            "type": "parcoords"
           }
          ],
          "pie": [
           {
            "automargin": true,
            "type": "pie"
           }
          ],
          "scatter": [
           {
            "fillpattern": {
             "fillmode": "overlay",
             "size": 10,
             "solidity": 0.2
            },
            "type": "scatter"
           }
          ],
          "scatter3d": [
           {
            "line": {
             "colorbar": {
              "outlinewidth": 0,
              "ticks": ""
             }
            },
            "marker": {
             "colorbar": {
              "outlinewidth": 0,
              "ticks": ""
             }
            },
            "type": "scatter3d"
           }
          ],
          "scattercarpet": [
           {
            "marker": {
             "colorbar": {
              "outlinewidth": 0,
              "ticks": ""
             }
            },
            "type": "scattercarpet"
           }
          ],
          "scattergeo": [
           {
            "marker": {
             "colorbar": {
              "outlinewidth": 0,
              "ticks": ""
             }
            },
            "type": "scattergeo"
           }
          ],
          "scattergl": [
           {
            "marker": {
             "colorbar": {
              "outlinewidth": 0,
              "ticks": ""
             }
            },
            "type": "scattergl"
           }
          ],
          "scattermapbox": [
           {
            "marker": {
             "colorbar": {
              "outlinewidth": 0,
              "ticks": ""
             }
            },
            "type": "scattermapbox"
           }
          ],
          "scatterpolar": [
           {
            "marker": {
             "colorbar": {
              "outlinewidth": 0,
              "ticks": ""
             }
            },
            "type": "scatterpolar"
           }
          ],
          "scatterpolargl": [
           {
            "marker": {
             "colorbar": {
              "outlinewidth": 0,
              "ticks": ""
             }
            },
            "type": "scatterpolargl"
           }
          ],
          "scatterternary": [
           {
            "marker": {
             "colorbar": {
              "outlinewidth": 0,
              "ticks": ""
             }
            },
            "type": "scatterternary"
           }
          ],
          "surface": [
           {
            "colorbar": {
             "outlinewidth": 0,
             "ticks": ""
            },
            "colorscale": [
             [
              0,
              "#0d0887"
             ],
             [
              0.1111111111111111,
              "#46039f"
             ],
             [
              0.2222222222222222,
              "#7201a8"
             ],
             [
              0.3333333333333333,
              "#9c179e"
             ],
             [
              0.4444444444444444,
              "#bd3786"
             ],
             [
              0.5555555555555556,
              "#d8576b"
             ],
             [
              0.6666666666666666,
              "#ed7953"
             ],
             [
              0.7777777777777778,
              "#fb9f3a"
             ],
             [
              0.8888888888888888,
              "#fdca26"
             ],
             [
              1,
              "#f0f921"
             ]
            ],
            "type": "surface"
           }
          ],
          "table": [
           {
            "cells": {
             "fill": {
              "color": "#EBF0F8"
             },
             "line": {
              "color": "white"
             }
            },
            "header": {
             "fill": {
              "color": "#C8D4E3"
             },
             "line": {
              "color": "white"
             }
            },
            "type": "table"
           }
          ]
         },
         "layout": {
          "annotationdefaults": {
           "arrowcolor": "#2a3f5f",
           "arrowhead": 0,
           "arrowwidth": 1
          },
          "autotypenumbers": "strict",
          "coloraxis": {
           "colorbar": {
            "outlinewidth": 0,
            "ticks": ""
           }
          },
          "colorscale": {
           "diverging": [
            [
             0,
             "#8e0152"
            ],
            [
             0.1,
             "#c51b7d"
            ],
            [
             0.2,
             "#de77ae"
            ],
            [
             0.3,
             "#f1b6da"
            ],
            [
             0.4,
             "#fde0ef"
            ],
            [
             0.5,
             "#f7f7f7"
            ],
            [
             0.6,
             "#e6f5d0"
            ],
            [
             0.7,
             "#b8e186"
            ],
            [
             0.8,
             "#7fbc41"
            ],
            [
             0.9,
             "#4d9221"
            ],
            [
             1,
             "#276419"
            ]
           ],
           "sequential": [
            [
             0,
             "#0d0887"
            ],
            [
             0.1111111111111111,
             "#46039f"
            ],
            [
             0.2222222222222222,
             "#7201a8"
            ],
            [
             0.3333333333333333,
             "#9c179e"
            ],
            [
             0.4444444444444444,
             "#bd3786"
            ],
            [
             0.5555555555555556,
             "#d8576b"
            ],
            [
             0.6666666666666666,
             "#ed7953"
            ],
            [
             0.7777777777777778,
             "#fb9f3a"
            ],
            [
             0.8888888888888888,
             "#fdca26"
            ],
            [
             1,
             "#f0f921"
            ]
           ],
           "sequentialminus": [
            [
             0,
             "#0d0887"
            ],
            [
             0.1111111111111111,
             "#46039f"
            ],
            [
             0.2222222222222222,
             "#7201a8"
            ],
            [
             0.3333333333333333,
             "#9c179e"
            ],
            [
             0.4444444444444444,
             "#bd3786"
            ],
            [
             0.5555555555555556,
             "#d8576b"
            ],
            [
             0.6666666666666666,
             "#ed7953"
            ],
            [
             0.7777777777777778,
             "#fb9f3a"
            ],
            [
             0.8888888888888888,
             "#fdca26"
            ],
            [
             1,
             "#f0f921"
            ]
           ]
          },
          "colorway": [
           "#636efa",
           "#EF553B",
           "#00cc96",
           "#ab63fa",
           "#FFA15A",
           "#19d3f3",
           "#FF6692",
           "#B6E880",
           "#FF97FF",
           "#FECB52"
          ],
          "font": {
           "color": "#2a3f5f"
          },
          "geo": {
           "bgcolor": "white",
           "lakecolor": "white",
           "landcolor": "#E5ECF6",
           "showlakes": true,
           "showland": true,
           "subunitcolor": "white"
          },
          "hoverlabel": {
           "align": "left"
          },
          "hovermode": "closest",
          "mapbox": {
           "style": "light"
          },
          "paper_bgcolor": "white",
          "plot_bgcolor": "#E5ECF6",
          "polar": {
           "angularaxis": {
            "gridcolor": "white",
            "linecolor": "white",
            "ticks": ""
           },
           "bgcolor": "#E5ECF6",
           "radialaxis": {
            "gridcolor": "white",
            "linecolor": "white",
            "ticks": ""
           }
          },
          "scene": {
           "xaxis": {
            "backgroundcolor": "#E5ECF6",
            "gridcolor": "white",
            "gridwidth": 2,
            "linecolor": "white",
            "showbackground": true,
            "ticks": "",
            "zerolinecolor": "white"
           },
           "yaxis": {
            "backgroundcolor": "#E5ECF6",
            "gridcolor": "white",
            "gridwidth": 2,
            "linecolor": "white",
            "showbackground": true,
            "ticks": "",
            "zerolinecolor": "white"
           },
           "zaxis": {
            "backgroundcolor": "#E5ECF6",
            "gridcolor": "white",
            "gridwidth": 2,
            "linecolor": "white",
            "showbackground": true,
            "ticks": "",
            "zerolinecolor": "white"
           }
          },
          "shapedefaults": {
           "line": {
            "color": "#2a3f5f"
           }
          },
          "ternary": {
           "aaxis": {
            "gridcolor": "white",
            "linecolor": "white",
            "ticks": ""
           },
           "baxis": {
            "gridcolor": "white",
            "linecolor": "white",
            "ticks": ""
           },
           "bgcolor": "#E5ECF6",
           "caxis": {
            "gridcolor": "white",
            "linecolor": "white",
            "ticks": ""
           }
          },
          "title": {
           "x": 0.05
          },
          "xaxis": {
           "automargin": true,
           "gridcolor": "white",
           "linecolor": "white",
           "ticks": "",
           "title": {
            "standoff": 15
           },
           "zerolinecolor": "white",
           "zerolinewidth": 2
          },
          "yaxis": {
           "automargin": true,
           "gridcolor": "white",
           "linecolor": "white",
           "ticks": "",
           "title": {
            "standoff": 15
           },
           "zerolinecolor": "white",
           "zerolinewidth": 2
          }
         }
        },
        "xaxis": {
         "anchor": "y",
         "domain": [
          0,
          1
         ],
         "title": {
          "text": "x"
         }
        },
        "yaxis": {
         "anchor": "x",
         "domain": [
          0,
          1
         ]
        }
       }
      }
     },
     "metadata": {},
     "output_type": "display_data"
    }
   ],
   "source": [
    "px.box(df, anger_df[\"energy\"])"
   ]
  },
  {
   "cell_type": "code",
   "execution_count": 33,
   "metadata": {},
   "outputs": [
    {
     "data": {
      "text/plain": [
       "0.5421230769230769"
      ]
     },
     "execution_count": 33,
     "metadata": {},
     "output_type": "execute_result"
    }
   ],
   "source": [
    "anger_df['valence'].mean()"
   ]
  },
  {
   "cell_type": "markdown",
   "metadata": {},
   "source": [
    "Vemos que las canciones alegres según la lista que ha generado Spotify:  \n",
    "- Por lo general no son canciones populares (con un 56 sobre 100).  \n",
    "- En cuanto a la bailabilidad la mayoría son más o menos bailables ya que los valores están cerca del 0,5.  \n",
    "- Son canciones enérgicas.  \n",
    "- Respecto a la valencia tiene un valor intermedio están ente alegres y tristes.  \n",
    "- Son canciones que no son habladas o rapeadas.  \n",
    "- Por último, vemos que casi todas las canciones tienen voces, no son puramente instrumentales."
   ]
  },
  {
   "cell_type": "markdown",
   "metadata": {},
   "source": [
    "#### 4. Miedo / Fear"
   ]
  },
  {
   "cell_type": "code",
   "execution_count": 34,
   "metadata": {},
   "outputs": [
    {
     "data": {
      "text/html": [
       "<div>\n",
       "<style scoped>\n",
       "    .dataframe tbody tr th:only-of-type {\n",
       "        vertical-align: middle;\n",
       "    }\n",
       "\n",
       "    .dataframe tbody tr th {\n",
       "        vertical-align: top;\n",
       "    }\n",
       "\n",
       "    .dataframe thead th {\n",
       "        text-align: right;\n",
       "    }\n",
       "</style>\n",
       "<table border=\"1\" class=\"dataframe\">\n",
       "  <thead>\n",
       "    <tr style=\"text-align: right;\">\n",
       "      <th></th>\n",
       "      <th>Mood</th>\n",
       "      <th>song_name</th>\n",
       "      <th>artist_name</th>\n",
       "      <th>popularity</th>\n",
       "      <th>danceability</th>\n",
       "      <th>energy</th>\n",
       "      <th>key</th>\n",
       "      <th>loudness</th>\n",
       "      <th>mode</th>\n",
       "      <th>speechiness</th>\n",
       "      <th>acousticness</th>\n",
       "      <th>instrumentalness</th>\n",
       "      <th>liveness</th>\n",
       "      <th>valence</th>\n",
       "      <th>tempo</th>\n",
       "      <th>duration_ms</th>\n",
       "      <th>song_uri</th>\n",
       "    </tr>\n",
       "  </thead>\n",
       "  <tbody>\n",
       "    <tr>\n",
       "      <th>265</th>\n",
       "      <td>Fear</td>\n",
       "      <td>After Dark</td>\n",
       "      <td>Mr.Kitty</td>\n",
       "      <td>87</td>\n",
       "      <td>0.585</td>\n",
       "      <td>0.5950</td>\n",
       "      <td>8</td>\n",
       "      <td>-10.444</td>\n",
       "      <td>1</td>\n",
       "      <td>0.0328</td>\n",
       "      <td>0.0696</td>\n",
       "      <td>0.266000</td>\n",
       "      <td>0.0837</td>\n",
       "      <td>0.0390</td>\n",
       "      <td>140.037</td>\n",
       "      <td>259147</td>\n",
       "      <td>spotify:track:2LKOHdMsL0K9KwcPRlJK2v</td>\n",
       "    </tr>\n",
       "    <tr>\n",
       "      <th>266</th>\n",
       "      <td>Fear</td>\n",
       "      <td>i was all over her</td>\n",
       "      <td>salvia palth</td>\n",
       "      <td>84</td>\n",
       "      <td>0.529</td>\n",
       "      <td>0.3530</td>\n",
       "      <td>7</td>\n",
       "      <td>-12.835</td>\n",
       "      <td>1</td>\n",
       "      <td>0.0292</td>\n",
       "      <td>0.7880</td>\n",
       "      <td>0.853000</td>\n",
       "      <td>0.1160</td>\n",
       "      <td>0.0601</td>\n",
       "      <td>104.557</td>\n",
       "      <td>161463</td>\n",
       "      <td>spotify:track:7svpAkwc6xaSxlbZ7V7JiS</td>\n",
       "    </tr>\n",
       "    <tr>\n",
       "      <th>267</th>\n",
       "      <td>Fear</td>\n",
       "      <td>Swimming Pool</td>\n",
       "      <td>Marie Madeleine</td>\n",
       "      <td>67</td>\n",
       "      <td>0.714</td>\n",
       "      <td>0.8970</td>\n",
       "      <td>6</td>\n",
       "      <td>-5.469</td>\n",
       "      <td>0</td>\n",
       "      <td>0.0376</td>\n",
       "      <td>0.0126</td>\n",
       "      <td>0.901000</td>\n",
       "      <td>0.0706</td>\n",
       "      <td>0.8890</td>\n",
       "      <td>119.979</td>\n",
       "      <td>325852</td>\n",
       "      <td>spotify:track:0LB3XEhlEemMDjmEQwRJ3c</td>\n",
       "    </tr>\n",
       "    <tr>\n",
       "      <th>268</th>\n",
       "      <td>Fear</td>\n",
       "      <td>haunt me (x 3)</td>\n",
       "      <td>Teen Suicide</td>\n",
       "      <td>70</td>\n",
       "      <td>0.566</td>\n",
       "      <td>0.6130</td>\n",
       "      <td>5</td>\n",
       "      <td>-10.118</td>\n",
       "      <td>1</td>\n",
       "      <td>0.0874</td>\n",
       "      <td>0.7140</td>\n",
       "      <td>0.799000</td>\n",
       "      <td>0.0848</td>\n",
       "      <td>0.2190</td>\n",
       "      <td>110.886</td>\n",
       "      <td>165672</td>\n",
       "      <td>spotify:track:1QUMpZT7HG6sO3RiBu1LAJ</td>\n",
       "    </tr>\n",
       "    <tr>\n",
       "      <th>269</th>\n",
       "      <td>Fear</td>\n",
       "      <td>I'm Always Here</td>\n",
       "      <td>sign crushes motorist</td>\n",
       "      <td>53</td>\n",
       "      <td>0.545</td>\n",
       "      <td>0.0415</td>\n",
       "      <td>2</td>\n",
       "      <td>-32.030</td>\n",
       "      <td>1</td>\n",
       "      <td>0.0367</td>\n",
       "      <td>0.9880</td>\n",
       "      <td>0.884000</td>\n",
       "      <td>0.1110</td>\n",
       "      <td>0.1380</td>\n",
       "      <td>120.089</td>\n",
       "      <td>200000</td>\n",
       "      <td>spotify:track:485XGXNp7cvrPSaxJJbJ99</td>\n",
       "    </tr>\n",
       "    <tr>\n",
       "      <th>...</th>\n",
       "      <td>...</td>\n",
       "      <td>...</td>\n",
       "      <td>...</td>\n",
       "      <td>...</td>\n",
       "      <td>...</td>\n",
       "      <td>...</td>\n",
       "      <td>...</td>\n",
       "      <td>...</td>\n",
       "      <td>...</td>\n",
       "      <td>...</td>\n",
       "      <td>...</td>\n",
       "      <td>...</td>\n",
       "      <td>...</td>\n",
       "      <td>...</td>\n",
       "      <td>...</td>\n",
       "      <td>...</td>\n",
       "      <td>...</td>\n",
       "    </tr>\n",
       "    <tr>\n",
       "      <th>360</th>\n",
       "      <td>Fear</td>\n",
       "      <td>Birth</td>\n",
       "      <td>Runah</td>\n",
       "      <td>22</td>\n",
       "      <td>0.540</td>\n",
       "      <td>0.5380</td>\n",
       "      <td>9</td>\n",
       "      <td>-8.097</td>\n",
       "      <td>1</td>\n",
       "      <td>0.0375</td>\n",
       "      <td>0.3490</td>\n",
       "      <td>0.000858</td>\n",
       "      <td>0.1030</td>\n",
       "      <td>0.2520</td>\n",
       "      <td>120.070</td>\n",
       "      <td>248272</td>\n",
       "      <td>spotify:track:0McTGe6ZnZuPdj4Nhufesa</td>\n",
       "    </tr>\n",
       "    <tr>\n",
       "      <th>361</th>\n",
       "      <td>Fear</td>\n",
       "      <td>Tub Erupt</td>\n",
       "      <td>Vanishing Twin</td>\n",
       "      <td>26</td>\n",
       "      <td>0.634</td>\n",
       "      <td>0.6760</td>\n",
       "      <td>5</td>\n",
       "      <td>-10.473</td>\n",
       "      <td>1</td>\n",
       "      <td>0.0388</td>\n",
       "      <td>0.1400</td>\n",
       "      <td>0.726000</td>\n",
       "      <td>0.0937</td>\n",
       "      <td>0.6670</td>\n",
       "      <td>166.567</td>\n",
       "      <td>172893</td>\n",
       "      <td>spotify:track:10cGLoFNjiTD4qSA5B2jl5</td>\n",
       "    </tr>\n",
       "    <tr>\n",
       "      <th>362</th>\n",
       "      <td>Fear</td>\n",
       "      <td>Lifeboats</td>\n",
       "      <td>Eleanor Collides</td>\n",
       "      <td>24</td>\n",
       "      <td>0.315</td>\n",
       "      <td>0.5450</td>\n",
       "      <td>7</td>\n",
       "      <td>-8.864</td>\n",
       "      <td>1</td>\n",
       "      <td>0.0273</td>\n",
       "      <td>0.0165</td>\n",
       "      <td>0.000660</td>\n",
       "      <td>0.6550</td>\n",
       "      <td>0.3290</td>\n",
       "      <td>78.906</td>\n",
       "      <td>254810</td>\n",
       "      <td>spotify:track:4v5Gh9dg1S51pOUwJeU49Q</td>\n",
       "    </tr>\n",
       "    <tr>\n",
       "      <th>363</th>\n",
       "      <td>Fear</td>\n",
       "      <td>My Friend of Misery</td>\n",
       "      <td>Cherry Glazerr</td>\n",
       "      <td>23</td>\n",
       "      <td>0.586</td>\n",
       "      <td>0.8540</td>\n",
       "      <td>9</td>\n",
       "      <td>-6.023</td>\n",
       "      <td>1</td>\n",
       "      <td>0.0632</td>\n",
       "      <td>0.0660</td>\n",
       "      <td>0.000070</td>\n",
       "      <td>0.0836</td>\n",
       "      <td>0.3280</td>\n",
       "      <td>119.988</td>\n",
       "      <td>210653</td>\n",
       "      <td>spotify:track:3GGkrhDdtE10kUbMHGsrm1</td>\n",
       "    </tr>\n",
       "    <tr>\n",
       "      <th>364</th>\n",
       "      <td>Fear</td>\n",
       "      <td>deepfake</td>\n",
       "      <td>deep tan</td>\n",
       "      <td>26</td>\n",
       "      <td>0.845</td>\n",
       "      <td>0.4200</td>\n",
       "      <td>4</td>\n",
       "      <td>-8.967</td>\n",
       "      <td>1</td>\n",
       "      <td>0.0388</td>\n",
       "      <td>0.5700</td>\n",
       "      <td>0.310000</td>\n",
       "      <td>0.2470</td>\n",
       "      <td>0.5010</td>\n",
       "      <td>141.960</td>\n",
       "      <td>185993</td>\n",
       "      <td>spotify:track:4joNvDANwbD24bZhI6au7d</td>\n",
       "    </tr>\n",
       "  </tbody>\n",
       "</table>\n",
       "<p>100 rows × 17 columns</p>\n",
       "</div>"
      ],
      "text/plain": [
       "     Mood            song_name            artist_name  popularity  \\\n",
       "265  Fear           After Dark               Mr.Kitty          87   \n",
       "266  Fear   i was all over her           salvia palth          84   \n",
       "267  Fear        Swimming Pool        Marie Madeleine          67   \n",
       "268  Fear       haunt me (x 3)           Teen Suicide          70   \n",
       "269  Fear      I'm Always Here  sign crushes motorist          53   \n",
       "..    ...                  ...                    ...         ...   \n",
       "360  Fear                Birth                  Runah          22   \n",
       "361  Fear            Tub Erupt         Vanishing Twin          26   \n",
       "362  Fear            Lifeboats       Eleanor Collides          24   \n",
       "363  Fear  My Friend of Misery         Cherry Glazerr          23   \n",
       "364  Fear             deepfake               deep tan          26   \n",
       "\n",
       "     danceability  energy  key  loudness  mode  speechiness  acousticness  \\\n",
       "265         0.585  0.5950    8   -10.444     1       0.0328        0.0696   \n",
       "266         0.529  0.3530    7   -12.835     1       0.0292        0.7880   \n",
       "267         0.714  0.8970    6    -5.469     0       0.0376        0.0126   \n",
       "268         0.566  0.6130    5   -10.118     1       0.0874        0.7140   \n",
       "269         0.545  0.0415    2   -32.030     1       0.0367        0.9880   \n",
       "..            ...     ...  ...       ...   ...          ...           ...   \n",
       "360         0.540  0.5380    9    -8.097     1       0.0375        0.3490   \n",
       "361         0.634  0.6760    5   -10.473     1       0.0388        0.1400   \n",
       "362         0.315  0.5450    7    -8.864     1       0.0273        0.0165   \n",
       "363         0.586  0.8540    9    -6.023     1       0.0632        0.0660   \n",
       "364         0.845  0.4200    4    -8.967     1       0.0388        0.5700   \n",
       "\n",
       "     instrumentalness  liveness  valence    tempo  duration_ms  \\\n",
       "265          0.266000    0.0837   0.0390  140.037       259147   \n",
       "266          0.853000    0.1160   0.0601  104.557       161463   \n",
       "267          0.901000    0.0706   0.8890  119.979       325852   \n",
       "268          0.799000    0.0848   0.2190  110.886       165672   \n",
       "269          0.884000    0.1110   0.1380  120.089       200000   \n",
       "..                ...       ...      ...      ...          ...   \n",
       "360          0.000858    0.1030   0.2520  120.070       248272   \n",
       "361          0.726000    0.0937   0.6670  166.567       172893   \n",
       "362          0.000660    0.6550   0.3290   78.906       254810   \n",
       "363          0.000070    0.0836   0.3280  119.988       210653   \n",
       "364          0.310000    0.2470   0.5010  141.960       185993   \n",
       "\n",
       "                                 song_uri  \n",
       "265  spotify:track:2LKOHdMsL0K9KwcPRlJK2v  \n",
       "266  spotify:track:7svpAkwc6xaSxlbZ7V7JiS  \n",
       "267  spotify:track:0LB3XEhlEemMDjmEQwRJ3c  \n",
       "268  spotify:track:1QUMpZT7HG6sO3RiBu1LAJ  \n",
       "269  spotify:track:485XGXNp7cvrPSaxJJbJ99  \n",
       "..                                    ...  \n",
       "360  spotify:track:0McTGe6ZnZuPdj4Nhufesa  \n",
       "361  spotify:track:10cGLoFNjiTD4qSA5B2jl5  \n",
       "362  spotify:track:4v5Gh9dg1S51pOUwJeU49Q  \n",
       "363  spotify:track:3GGkrhDdtE10kUbMHGsrm1  \n",
       "364  spotify:track:4joNvDANwbD24bZhI6au7d  \n",
       "\n",
       "[100 rows x 17 columns]"
      ]
     },
     "execution_count": 34,
     "metadata": {},
     "output_type": "execute_result"
    }
   ],
   "source": [
    "fear_df = df[(df.Mood == 'Fear')]\n",
    "fear_df"
   ]
  },
  {
   "cell_type": "markdown",
   "metadata": {},
   "source": [
    "##### 4.1 Variables no acotadas (duration_ms, loudness y tempo)"
   ]
  },
  {
   "cell_type": "code",
   "execution_count": 35,
   "metadata": {},
   "outputs": [
    {
     "name": "stderr",
     "output_type": "stream",
     "text": [
      "C:\\Users\\User\\AppData\\Local\\Temp\\ipykernel_9492\\3006592139.py:2: SettingWithCopyWarning:\n",
      "\n",
      "\n",
      "A value is trying to be set on a copy of a slice from a DataFrame.\n",
      "Try using .loc[row_indexer,col_indexer] = value instead\n",
      "\n",
      "See the caveats in the documentation: https://pandas.pydata.org/pandas-docs/stable/user_guide/indexing.html#returning-a-view-versus-a-copy\n",
      "\n"
     ]
    }
   ],
   "source": [
    "# Convierto ms a minutos: 1 min = 60.000 ms\n",
    "fear_df['duration_ms'] = fear_df['duration_ms']/60000"
   ]
  },
  {
   "cell_type": "code",
   "execution_count": 36,
   "metadata": {},
   "outputs": [
    {
     "data": {
      "application/vnd.plotly.v1+json": {
       "config": {
        "plotlyServerURL": "https://plot.ly"
       },
       "data": [
        {
         "name": "duration_ms",
         "type": "box",
         "xaxis": "x",
         "y": [
          4.319116666666667,
          2.69105,
          5.430866666666667,
          2.7612,
          3.3333333333333335,
          2.427233333333333,
          3.1506666666666665,
          4.312216666666667,
          6.397783333333333,
          3.123266666666667,
          4.06645,
          4.918216666666667,
          3.3249333333333335,
          3.55395,
          5.514666666666667,
          4.732833333333334,
          2.2105166666666665,
          3.1976833333333334,
          2.1191833333333334,
          3.0333666666666668,
          3.288883333333333,
          3.9791166666666666,
          3.05705,
          4.34555,
          4.99,
          2.6432166666666665,
          3.3348833333333334,
          4.706283333333333,
          3.6522166666666664,
          5.459016666666667,
          3.991983333333333,
          3.3071166666666665,
          4.821783333333333,
          2.4067333333333334,
          4.085416666666666,
          3.6142166666666666,
          7.222666666666667,
          3.4284,
          5.117816666666666,
          1.9899333333333333,
          4.556016666666666,
          8.645783333333334,
          3.4297833333333334,
          3.95,
          2.64555,
          5.324,
          4.431316666666667,
          5.950483333333334,
          3.4004833333333333,
          2.27755,
          3.9,
          4.2801833333333335,
          3.8994833333333334,
          3.066666666666667,
          4.16875,
          1.9591166666666666,
          2.9028833333333335,
          2.7,
          5.6802166666666665,
          3.595483333333333,
          4.48,
          2.883783333333333,
          5.281666666666666,
          2.91445,
          3.8926,
          3.6166666666666667,
          5.6528833333333335,
          2.5652666666666666,
          4.024066666666666,
          3.95555,
          2.9552833333333335,
          6.377916666666667,
          3.8933333333333335,
          5.163116666666666,
          2.99675,
          4.945783333333333,
          3.8002833333333332,
          5.708983333333333,
          2.756666666666667,
          2.96335,
          4.26845,
          4.367333333333334,
          5.6735,
          3.6097333333333332,
          8.186333333333334,
          4.65,
          4.0222,
          5.206666666666667,
          4.266666666666667,
          3.4987166666666667,
          4.741333333333333,
          3.0691166666666665,
          5.128,
          2.785433333333333,
          3.7162166666666665,
          4.137866666666667,
          2.88155,
          4.246833333333333,
          3.510883333333333,
          3.0998833333333335
         ],
         "yaxis": "y"
        },
        {
         "name": "loudness",
         "type": "box",
         "xaxis": "x2",
         "y": [
          -10.444,
          -12.835,
          -5.469,
          -10.118,
          -32.03,
          -11.313,
          -13.425,
          -13.892,
          -10.678,
          -5.978,
          -9.657,
          -10.014,
          -11.997,
          -7.065,
          -10.675,
          -8.505,
          -10.613,
          -17.54,
          -10.152,
          -12.494,
          -8.739,
          -11.407,
          -11.059,
          -8.17,
          -16.319,
          -8.036,
          -10.985,
          -10.965,
          -10.052,
          -12.242,
          -4.715,
          -9.952,
          -13.424,
          -8.003,
          -7.897,
          -11.754,
          -8.276,
          -6.107,
          -3.218,
          -5.368,
          -10.223,
          -9.08,
          -8.834,
          -11.635,
          -12.426,
          -8.903,
          -9.545,
          -7.569,
          -8.213,
          -16.834,
          -7.674,
          -14.573,
          -6.312,
          -7.537,
          -8.778,
          -15.267,
          -7.132,
          -11.426,
          -6.456,
          -10.085,
          -6.396,
          -14.186,
          -6.348,
          -13.538,
          -11.36,
          -11.248,
          -9.66,
          -9.126,
          -9.75,
          -11.945,
          -6.682,
          -14.168,
          -5.503,
          -9.505,
          -12.231,
          -6.662,
          -10.397,
          -6.018,
          -12.844,
          -6.376,
          -11.145,
          -8.835,
          -4.636,
          -9.311,
          -7.763,
          -11.316,
          -7.82,
          -6.886,
          -8.984,
          -13.156,
          -14.936,
          -9.334,
          -6.827,
          -18.491,
          -9.657,
          -8.097,
          -10.473,
          -8.864,
          -6.023,
          -8.967
         ],
         "yaxis": "y2"
        },
        {
         "name": "tempo",
         "type": "box",
         "xaxis": "x3",
         "y": [
          140.037,
          104.557,
          119.979,
          110.886,
          120.089,
          166.061,
          163.954,
          127.572,
          87.783,
          110.048,
          86.009,
          93.984,
          90.007,
          122.001,
          132.993,
          119.99,
          132.052,
          129.857,
          99.973,
          100.125,
          180.345,
          130.969,
          60.988,
          110.259,
          113.449,
          114.959,
          128.018,
          139.975,
          132.186,
          60.556,
          120.363,
          119.977,
          183.114,
          90.023,
          114.984,
          122.006,
          123.344,
          79.566,
          99.951,
          121.008,
          112.964,
          138.586,
          103.018,
          203.639,
          126.739,
          91.643,
          76.647,
          84.979,
          85.524,
          86.079,
          128.635,
          73.043,
          79.996,
          180.068,
          180.017,
          97.759,
          120.061,
          140.081,
          120.09,
          98.987,
          139.895,
          106.006,
          82.512,
          143.171,
          83.486,
          125.734,
          100.052,
          123.955,
          80.092,
          69.267,
          102.731,
          160.024,
          135.014,
          94.985,
          104.097,
          89.06,
          95.029,
          156.048,
          119.976,
          89.993,
          116.719,
          92.094,
          134.106,
          93.282,
          120.002,
          79.571,
          99.542,
          97.107,
          166.899,
          81.75,
          173.021,
          133.978,
          98.002,
          108.74,
          59.859,
          120.07,
          166.567,
          78.906,
          119.988,
          141.96
         ],
         "yaxis": "y3"
        }
       ],
       "layout": {
        "annotations": [
         {
          "font": {
           "size": 16
          },
          "showarrow": false,
          "text": "duration_ms",
          "x": 0.14444444444444446,
          "xanchor": "center",
          "xref": "paper",
          "y": 1,
          "yanchor": "bottom",
          "yref": "paper"
         },
         {
          "font": {
           "size": 16
          },
          "showarrow": false,
          "text": "loudness",
          "x": 0.5,
          "xanchor": "center",
          "xref": "paper",
          "y": 1,
          "yanchor": "bottom",
          "yref": "paper"
         },
         {
          "font": {
           "size": 16
          },
          "showarrow": false,
          "text": "tempo",
          "x": 0.8555555555555556,
          "xanchor": "center",
          "xref": "paper",
          "y": 1,
          "yanchor": "bottom",
          "yref": "paper"
         }
        ],
        "height": 400,
        "template": {
         "data": {
          "bar": [
           {
            "error_x": {
             "color": "#2a3f5f"
            },
            "error_y": {
             "color": "#2a3f5f"
            },
            "marker": {
             "line": {
              "color": "#E5ECF6",
              "width": 0.5
             },
             "pattern": {
              "fillmode": "overlay",
              "size": 10,
              "solidity": 0.2
             }
            },
            "type": "bar"
           }
          ],
          "barpolar": [
           {
            "marker": {
             "line": {
              "color": "#E5ECF6",
              "width": 0.5
             },
             "pattern": {
              "fillmode": "overlay",
              "size": 10,
              "solidity": 0.2
             }
            },
            "type": "barpolar"
           }
          ],
          "carpet": [
           {
            "aaxis": {
             "endlinecolor": "#2a3f5f",
             "gridcolor": "white",
             "linecolor": "white",
             "minorgridcolor": "white",
             "startlinecolor": "#2a3f5f"
            },
            "baxis": {
             "endlinecolor": "#2a3f5f",
             "gridcolor": "white",
             "linecolor": "white",
             "minorgridcolor": "white",
             "startlinecolor": "#2a3f5f"
            },
            "type": "carpet"
           }
          ],
          "choropleth": [
           {
            "colorbar": {
             "outlinewidth": 0,
             "ticks": ""
            },
            "type": "choropleth"
           }
          ],
          "contour": [
           {
            "colorbar": {
             "outlinewidth": 0,
             "ticks": ""
            },
            "colorscale": [
             [
              0,
              "#0d0887"
             ],
             [
              0.1111111111111111,
              "#46039f"
             ],
             [
              0.2222222222222222,
              "#7201a8"
             ],
             [
              0.3333333333333333,
              "#9c179e"
             ],
             [
              0.4444444444444444,
              "#bd3786"
             ],
             [
              0.5555555555555556,
              "#d8576b"
             ],
             [
              0.6666666666666666,
              "#ed7953"
             ],
             [
              0.7777777777777778,
              "#fb9f3a"
             ],
             [
              0.8888888888888888,
              "#fdca26"
             ],
             [
              1,
              "#f0f921"
             ]
            ],
            "type": "contour"
           }
          ],
          "contourcarpet": [
           {
            "colorbar": {
             "outlinewidth": 0,
             "ticks": ""
            },
            "type": "contourcarpet"
           }
          ],
          "heatmap": [
           {
            "colorbar": {
             "outlinewidth": 0,
             "ticks": ""
            },
            "colorscale": [
             [
              0,
              "#0d0887"
             ],
             [
              0.1111111111111111,
              "#46039f"
             ],
             [
              0.2222222222222222,
              "#7201a8"
             ],
             [
              0.3333333333333333,
              "#9c179e"
             ],
             [
              0.4444444444444444,
              "#bd3786"
             ],
             [
              0.5555555555555556,
              "#d8576b"
             ],
             [
              0.6666666666666666,
              "#ed7953"
             ],
             [
              0.7777777777777778,
              "#fb9f3a"
             ],
             [
              0.8888888888888888,
              "#fdca26"
             ],
             [
              1,
              "#f0f921"
             ]
            ],
            "type": "heatmap"
           }
          ],
          "heatmapgl": [
           {
            "colorbar": {
             "outlinewidth": 0,
             "ticks": ""
            },
            "colorscale": [
             [
              0,
              "#0d0887"
             ],
             [
              0.1111111111111111,
              "#46039f"
             ],
             [
              0.2222222222222222,
              "#7201a8"
             ],
             [
              0.3333333333333333,
              "#9c179e"
             ],
             [
              0.4444444444444444,
              "#bd3786"
             ],
             [
              0.5555555555555556,
              "#d8576b"
             ],
             [
              0.6666666666666666,
              "#ed7953"
             ],
             [
              0.7777777777777778,
              "#fb9f3a"
             ],
             [
              0.8888888888888888,
              "#fdca26"
             ],
             [
              1,
              "#f0f921"
             ]
            ],
            "type": "heatmapgl"
           }
          ],
          "histogram": [
           {
            "marker": {
             "pattern": {
              "fillmode": "overlay",
              "size": 10,
              "solidity": 0.2
             }
            },
            "type": "histogram"
           }
          ],
          "histogram2d": [
           {
            "colorbar": {
             "outlinewidth": 0,
             "ticks": ""
            },
            "colorscale": [
             [
              0,
              "#0d0887"
             ],
             [
              0.1111111111111111,
              "#46039f"
             ],
             [
              0.2222222222222222,
              "#7201a8"
             ],
             [
              0.3333333333333333,
              "#9c179e"
             ],
             [
              0.4444444444444444,
              "#bd3786"
             ],
             [
              0.5555555555555556,
              "#d8576b"
             ],
             [
              0.6666666666666666,
              "#ed7953"
             ],
             [
              0.7777777777777778,
              "#fb9f3a"
             ],
             [
              0.8888888888888888,
              "#fdca26"
             ],
             [
              1,
              "#f0f921"
             ]
            ],
            "type": "histogram2d"
           }
          ],
          "histogram2dcontour": [
           {
            "colorbar": {
             "outlinewidth": 0,
             "ticks": ""
            },
            "colorscale": [
             [
              0,
              "#0d0887"
             ],
             [
              0.1111111111111111,
              "#46039f"
             ],
             [
              0.2222222222222222,
              "#7201a8"
             ],
             [
              0.3333333333333333,
              "#9c179e"
             ],
             [
              0.4444444444444444,
              "#bd3786"
             ],
             [
              0.5555555555555556,
              "#d8576b"
             ],
             [
              0.6666666666666666,
              "#ed7953"
             ],
             [
              0.7777777777777778,
              "#fb9f3a"
             ],
             [
              0.8888888888888888,
              "#fdca26"
             ],
             [
              1,
              "#f0f921"
             ]
            ],
            "type": "histogram2dcontour"
           }
          ],
          "mesh3d": [
           {
            "colorbar": {
             "outlinewidth": 0,
             "ticks": ""
            },
            "type": "mesh3d"
           }
          ],
          "parcoords": [
           {
            "line": {
             "colorbar": {
              "outlinewidth": 0,
              "ticks": ""
             }
            },
            "type": "parcoords"
           }
          ],
          "pie": [
           {
            "automargin": true,
            "type": "pie"
           }
          ],
          "scatter": [
           {
            "fillpattern": {
             "fillmode": "overlay",
             "size": 10,
             "solidity": 0.2
            },
            "type": "scatter"
           }
          ],
          "scatter3d": [
           {
            "line": {
             "colorbar": {
              "outlinewidth": 0,
              "ticks": ""
             }
            },
            "marker": {
             "colorbar": {
              "outlinewidth": 0,
              "ticks": ""
             }
            },
            "type": "scatter3d"
           }
          ],
          "scattercarpet": [
           {
            "marker": {
             "colorbar": {
              "outlinewidth": 0,
              "ticks": ""
             }
            },
            "type": "scattercarpet"
           }
          ],
          "scattergeo": [
           {
            "marker": {
             "colorbar": {
              "outlinewidth": 0,
              "ticks": ""
             }
            },
            "type": "scattergeo"
           }
          ],
          "scattergl": [
           {
            "marker": {
             "colorbar": {
              "outlinewidth": 0,
              "ticks": ""
             }
            },
            "type": "scattergl"
           }
          ],
          "scattermapbox": [
           {
            "marker": {
             "colorbar": {
              "outlinewidth": 0,
              "ticks": ""
             }
            },
            "type": "scattermapbox"
           }
          ],
          "scatterpolar": [
           {
            "marker": {
             "colorbar": {
              "outlinewidth": 0,
              "ticks": ""
             }
            },
            "type": "scatterpolar"
           }
          ],
          "scatterpolargl": [
           {
            "marker": {
             "colorbar": {
              "outlinewidth": 0,
              "ticks": ""
             }
            },
            "type": "scatterpolargl"
           }
          ],
          "scatterternary": [
           {
            "marker": {
             "colorbar": {
              "outlinewidth": 0,
              "ticks": ""
             }
            },
            "type": "scatterternary"
           }
          ],
          "surface": [
           {
            "colorbar": {
             "outlinewidth": 0,
             "ticks": ""
            },
            "colorscale": [
             [
              0,
              "#0d0887"
             ],
             [
              0.1111111111111111,
              "#46039f"
             ],
             [
              0.2222222222222222,
              "#7201a8"
             ],
             [
              0.3333333333333333,
              "#9c179e"
             ],
             [
              0.4444444444444444,
              "#bd3786"
             ],
             [
              0.5555555555555556,
              "#d8576b"
             ],
             [
              0.6666666666666666,
              "#ed7953"
             ],
             [
              0.7777777777777778,
              "#fb9f3a"
             ],
             [
              0.8888888888888888,
              "#fdca26"
             ],
             [
              1,
              "#f0f921"
             ]
            ],
            "type": "surface"
           }
          ],
          "table": [
           {
            "cells": {
             "fill": {
              "color": "#EBF0F8"
             },
             "line": {
              "color": "white"
             }
            },
            "header": {
             "fill": {
              "color": "#C8D4E3"
             },
             "line": {
              "color": "white"
             }
            },
            "type": "table"
           }
          ]
         },
         "layout": {
          "annotationdefaults": {
           "arrowcolor": "#2a3f5f",
           "arrowhead": 0,
           "arrowwidth": 1
          },
          "autotypenumbers": "strict",
          "coloraxis": {
           "colorbar": {
            "outlinewidth": 0,
            "ticks": ""
           }
          },
          "colorscale": {
           "diverging": [
            [
             0,
             "#8e0152"
            ],
            [
             0.1,
             "#c51b7d"
            ],
            [
             0.2,
             "#de77ae"
            ],
            [
             0.3,
             "#f1b6da"
            ],
            [
             0.4,
             "#fde0ef"
            ],
            [
             0.5,
             "#f7f7f7"
            ],
            [
             0.6,
             "#e6f5d0"
            ],
            [
             0.7,
             "#b8e186"
            ],
            [
             0.8,
             "#7fbc41"
            ],
            [
             0.9,
             "#4d9221"
            ],
            [
             1,
             "#276419"
            ]
           ],
           "sequential": [
            [
             0,
             "#0d0887"
            ],
            [
             0.1111111111111111,
             "#46039f"
            ],
            [
             0.2222222222222222,
             "#7201a8"
            ],
            [
             0.3333333333333333,
             "#9c179e"
            ],
            [
             0.4444444444444444,
             "#bd3786"
            ],
            [
             0.5555555555555556,
             "#d8576b"
            ],
            [
             0.6666666666666666,
             "#ed7953"
            ],
            [
             0.7777777777777778,
             "#fb9f3a"
            ],
            [
             0.8888888888888888,
             "#fdca26"
            ],
            [
             1,
             "#f0f921"
            ]
           ],
           "sequentialminus": [
            [
             0,
             "#0d0887"
            ],
            [
             0.1111111111111111,
             "#46039f"
            ],
            [
             0.2222222222222222,
             "#7201a8"
            ],
            [
             0.3333333333333333,
             "#9c179e"
            ],
            [
             0.4444444444444444,
             "#bd3786"
            ],
            [
             0.5555555555555556,
             "#d8576b"
            ],
            [
             0.6666666666666666,
             "#ed7953"
            ],
            [
             0.7777777777777778,
             "#fb9f3a"
            ],
            [
             0.8888888888888888,
             "#fdca26"
            ],
            [
             1,
             "#f0f921"
            ]
           ]
          },
          "colorway": [
           "#636efa",
           "#EF553B",
           "#00cc96",
           "#ab63fa",
           "#FFA15A",
           "#19d3f3",
           "#FF6692",
           "#B6E880",
           "#FF97FF",
           "#FECB52"
          ],
          "font": {
           "color": "#2a3f5f"
          },
          "geo": {
           "bgcolor": "white",
           "lakecolor": "white",
           "landcolor": "#E5ECF6",
           "showlakes": true,
           "showland": true,
           "subunitcolor": "white"
          },
          "hoverlabel": {
           "align": "left"
          },
          "hovermode": "closest",
          "mapbox": {
           "style": "light"
          },
          "paper_bgcolor": "white",
          "plot_bgcolor": "#E5ECF6",
          "polar": {
           "angularaxis": {
            "gridcolor": "white",
            "linecolor": "white",
            "ticks": ""
           },
           "bgcolor": "#E5ECF6",
           "radialaxis": {
            "gridcolor": "white",
            "linecolor": "white",
            "ticks": ""
           }
          },
          "scene": {
           "xaxis": {
            "backgroundcolor": "#E5ECF6",
            "gridcolor": "white",
            "gridwidth": 2,
            "linecolor": "white",
            "showbackground": true,
            "ticks": "",
            "zerolinecolor": "white"
           },
           "yaxis": {
            "backgroundcolor": "#E5ECF6",
            "gridcolor": "white",
            "gridwidth": 2,
            "linecolor": "white",
            "showbackground": true,
            "ticks": "",
            "zerolinecolor": "white"
           },
           "zaxis": {
            "backgroundcolor": "#E5ECF6",
            "gridcolor": "white",
            "gridwidth": 2,
            "linecolor": "white",
            "showbackground": true,
            "ticks": "",
            "zerolinecolor": "white"
           }
          },
          "shapedefaults": {
           "line": {
            "color": "#2a3f5f"
           }
          },
          "ternary": {
           "aaxis": {
            "gridcolor": "white",
            "linecolor": "white",
            "ticks": ""
           },
           "baxis": {
            "gridcolor": "white",
            "linecolor": "white",
            "ticks": ""
           },
           "bgcolor": "#E5ECF6",
           "caxis": {
            "gridcolor": "white",
            "linecolor": "white",
            "ticks": ""
           }
          },
          "title": {
           "x": 0.05
          },
          "xaxis": {
           "automargin": true,
           "gridcolor": "white",
           "linecolor": "white",
           "ticks": "",
           "title": {
            "standoff": 15
           },
           "zerolinecolor": "white",
           "zerolinewidth": 2
          },
          "yaxis": {
           "automargin": true,
           "gridcolor": "white",
           "linecolor": "white",
           "ticks": "",
           "title": {
            "standoff": 15
           },
           "zerolinecolor": "white",
           "zerolinewidth": 2
          }
         }
        },
        "title": {
         "text": "Distribución de variables:"
        },
        "width": 900,
        "xaxis": {
         "anchor": "y",
         "domain": [
          0,
          0.2888888888888889
         ]
        },
        "xaxis2": {
         "anchor": "y2",
         "domain": [
          0.35555555555555557,
          0.6444444444444445
         ]
        },
        "xaxis3": {
         "anchor": "y3",
         "domain": [
          0.7111111111111111,
          1
         ]
        },
        "yaxis": {
         "anchor": "x",
         "domain": [
          0,
          1
         ]
        },
        "yaxis2": {
         "anchor": "x2",
         "domain": [
          0,
          1
         ]
        },
        "yaxis3": {
         "anchor": "x3",
         "domain": [
          0,
          1
         ]
        }
       }
      }
     },
     "metadata": {},
     "output_type": "display_data"
    }
   ],
   "source": [
    "cols = ['duration_ms', 'loudness', 'tempo']\n",
    "\n",
    "fig = make_subplots(rows=1, cols=3, subplot_titles=cols)\n",
    "\n",
    "for i, col in enumerate(cols):\n",
    "    fig.add_trace(go.Box(y=fear_df[col], name=col), row=1, col=i+1)\n",
    "\n",
    "fig.update_layout(\n",
    "    title=\"Distribución de variables:\",\n",
    "    height=400,\n",
    "    width=900\n",
    ")\n",
    "\n",
    "fig.show()"
   ]
  },
  {
   "cell_type": "code",
   "execution_count": 37,
   "metadata": {},
   "outputs": [
    {
     "name": "stdout",
     "output_type": "stream",
     "text": [
      "La variable duration_ms tiene 3 valores outliers\n",
      "La variable loudness tiene 3 valores outliers\n",
      "La variable tempo tiene 1 valores outliers\n"
     ]
    }
   ],
   "source": [
    "# Para ver la cantidad de outliers que hay en nuestro dataset\n",
    "cols = ['duration_ms', 'loudness', 'tempo']\n",
    "def outliers1 (df):\n",
    "    for col in cols:\n",
    "        Q1 = df[col].quantile(0.25)\n",
    "        Q3 = df[col].quantile(0.75)\n",
    "        IQR = Q3 - Q1\n",
    "        outlierIzq = Q1-(1.5*IQR)\n",
    "        outlierDer = Q3+(1.5*IQR)\n",
    "        outliers = df[col][(df[col] < outlierIzq) | (df[col] > outlierDer)]\n",
    "        print(\"La variable \" + col + \" tiene \" + str(len(outliers)) + \" valores outliers\")\n",
    "\n",
    "    \n",
    "outliers1(fear_df)"
   ]
  },
  {
   "cell_type": "code",
   "execution_count": 38,
   "metadata": {},
   "outputs": [
    {
     "data": {
      "text/html": [
       "<div>\n",
       "<style scoped>\n",
       "    .dataframe tbody tr th:only-of-type {\n",
       "        vertical-align: middle;\n",
       "    }\n",
       "\n",
       "    .dataframe tbody tr th {\n",
       "        vertical-align: top;\n",
       "    }\n",
       "\n",
       "    .dataframe thead th {\n",
       "        text-align: right;\n",
       "    }\n",
       "</style>\n",
       "<table border=\"1\" class=\"dataframe\">\n",
       "  <thead>\n",
       "    <tr style=\"text-align: right;\">\n",
       "      <th></th>\n",
       "      <th>duration_ms</th>\n",
       "      <th>loudness</th>\n",
       "      <th>tempo</th>\n",
       "    </tr>\n",
       "  </thead>\n",
       "  <tbody>\n",
       "    <tr>\n",
       "      <th>count</th>\n",
       "      <td>100.000000</td>\n",
       "      <td>100.000000</td>\n",
       "      <td>100.00000</td>\n",
       "    </tr>\n",
       "    <tr>\n",
       "      <th>mean</th>\n",
       "      <td>4.007197</td>\n",
       "      <td>-10.055480</td>\n",
       "      <td>115.15842</td>\n",
       "    </tr>\n",
       "    <tr>\n",
       "      <th>std</th>\n",
       "      <td>1.248019</td>\n",
       "      <td>3.705552</td>\n",
       "      <td>29.68981</td>\n",
       "    </tr>\n",
       "    <tr>\n",
       "      <th>min</th>\n",
       "      <td>1.959117</td>\n",
       "      <td>-32.030000</td>\n",
       "      <td>59.85900</td>\n",
       "    </tr>\n",
       "    <tr>\n",
       "      <th>25%</th>\n",
       "      <td>3.068504</td>\n",
       "      <td>-11.478250</td>\n",
       "      <td>92.98500</td>\n",
       "    </tr>\n",
       "    <tr>\n",
       "      <th>50%</th>\n",
       "      <td>3.896408</td>\n",
       "      <td>-9.658500</td>\n",
       "      <td>114.97150</td>\n",
       "    </tr>\n",
       "    <tr>\n",
       "      <th>75%</th>\n",
       "      <td>4.712921</td>\n",
       "      <td>-7.805750</td>\n",
       "      <td>131.23975</td>\n",
       "    </tr>\n",
       "    <tr>\n",
       "      <th>max</th>\n",
       "      <td>8.645783</td>\n",
       "      <td>-3.218000</td>\n",
       "      <td>203.63900</td>\n",
       "    </tr>\n",
       "  </tbody>\n",
       "</table>\n",
       "</div>"
      ],
      "text/plain": [
       "       duration_ms    loudness      tempo\n",
       "count   100.000000  100.000000  100.00000\n",
       "mean      4.007197  -10.055480  115.15842\n",
       "std       1.248019    3.705552   29.68981\n",
       "min       1.959117  -32.030000   59.85900\n",
       "25%       3.068504  -11.478250   92.98500\n",
       "50%       3.896408   -9.658500  114.97150\n",
       "75%       4.712921   -7.805750  131.23975\n",
       "max       8.645783   -3.218000  203.63900"
      ]
     },
     "execution_count": 38,
     "metadata": {},
     "output_type": "execute_result"
    }
   ],
   "source": [
    "fear_df[['duration_ms','loudness','tempo']].describe()"
   ]
  },
  {
   "cell_type": "markdown",
   "metadata": {},
   "source": [
    "Las canciones de la playlist que representa la alegría:  \n",
    "- **Duración**: Tienen una duración media de 4 min. Vemos que la mayoría de los datos se encuentran entre 3 y 5 min. Hay 3 valores atípicos entre 7 y 8 minutos.\n",
    "- **Sonoridad**: De media las canciones se encuentran en los -10 dB y hay ouliers están por debajo de los -17 dB alcanzando los -32 dB.\n",
    "- **Tempo**: Las canciones que transmite cierto terror tienen de media 115 pulsaciones por minuto (Bps) y parece que hay un outlier con 203 pulsaciones por minuto."
   ]
  },
  {
   "cell_type": "markdown",
   "metadata": {},
   "source": [
    "##### 4.2 Variables acotadas"
   ]
  },
  {
   "cell_type": "code",
   "execution_count": 39,
   "metadata": {},
   "outputs": [
    {
     "data": {
      "application/vnd.plotly.v1+json": {
       "config": {
        "plotlyServerURL": "https://plot.ly"
       },
       "data": [
        {
         "name": "popularity",
         "type": "histogram",
         "xaxis": "x",
         "y": [
          87,
          84,
          67,
          70,
          53,
          72,
          73,
          46,
          65,
          50,
          44,
          72,
          58,
          49,
          37,
          48,
          92,
          32,
          57,
          34,
          76,
          57,
          42,
          47,
          55,
          52,
          45,
          36,
          24,
          38,
          49,
          50,
          73,
          44,
          30,
          44,
          60,
          30,
          42,
          44,
          47,
          31,
          39,
          27,
          35,
          25,
          41,
          15,
          41,
          34,
          74,
          29,
          44,
          24,
          33,
          26,
          42,
          38,
          31,
          48,
          48,
          54,
          49,
          57,
          34,
          26,
          35,
          52,
          27,
          42,
          40,
          34,
          41,
          46,
          34,
          50,
          40,
          38,
          22,
          32,
          23,
          38,
          24,
          34,
          36,
          30,
          37,
          45,
          45,
          30,
          28,
          28,
          18,
          53,
          25,
          22,
          26,
          24,
          23,
          26
         ],
         "yaxis": "y"
        },
        {
         "name": "danceability",
         "type": "histogram",
         "xaxis": "x2",
         "y": [
          0.585,
          0.529,
          0.714,
          0.566,
          0.545,
          0.595,
          0.454,
          0.389,
          0.281,
          0.539,
          0.537,
          0.287,
          0.584,
          0.648,
          0.508,
          0.424,
          0.571,
          0.692,
          0.607,
          0.661,
          0.228,
          0.609,
          0.528,
          0.548,
          0.397,
          0.707,
          0.374,
          0.448,
          0.58,
          0.652,
          0.238,
          0.62,
          0.487,
          0.611,
          0.83,
          0.68,
          0.376,
          0.242,
          0.51,
          0.667,
          0.482,
          0.246,
          0.661,
          0.283,
          0.352,
          0.35,
          0.262,
          0.415,
          0.697,
          0.336,
          0.539,
          0.132,
          0.437,
          0.563,
          0.407,
          0.49,
          0.745,
          0.713,
          0.596,
          0.52,
          0.378,
          0.458,
          0.433,
          0.214,
          0.45,
          0.385,
          0.515,
          0.624,
          0.337,
          0.41,
          0.503,
          0.235,
          0.438,
          0.675,
          0.32,
          0.605,
          0.512,
          0.242,
          0.749,
          0.479,
          0.264,
          0.547,
          0.551,
          0.529,
          0.493,
          0.327,
          0.45,
          0.441,
          0.53,
          0.575,
          0.502,
          0.698,
          0.612,
          0.35,
          0.298,
          0.54,
          0.634,
          0.315,
          0.586,
          0.845
         ],
         "yaxis": "y2"
        },
        {
         "name": "energy",
         "type": "histogram",
         "xaxis": "x3",
         "y": [
          0.595,
          0.353,
          0.897,
          0.613,
          0.0415,
          0.588,
          0.673,
          0.516,
          0.374,
          0.77,
          0.407,
          0.43,
          0.515,
          0.644,
          0.703,
          0.492,
          0.544,
          0.149,
          0.493,
          0.263,
          0.427,
          0.413,
          0.476,
          0.527,
          0.124,
          0.679,
          0.249,
          0.248,
          0.321,
          0.227,
          0.875,
          0.58,
          0.369,
          0.402,
          0.457,
          0.391,
          0.451,
          0.717,
          0.752,
          0.665,
          0.583,
          0.148,
          0.622,
          0.48,
          0.46,
          0.503,
          0.479,
          0.401,
          0.363,
          0.143,
          0.461,
          0.306,
          0.636,
          0.69,
          0.534,
          0.206,
          0.789,
          0.606,
          0.784,
          0.583,
          0.611,
          0.309,
          0.778,
          0.182,
          0.345,
          0.585,
          0.55,
          0.382,
          0.349,
          0.15,
          0.467,
          0.388,
          0.841,
          0.499,
          0.44,
          0.678,
          0.465,
          0.707,
          0.569,
          0.647,
          0.278,
          0.409,
          0.534,
          0.579,
          0.727,
          0.47,
          0.4,
          0.75,
          0.634,
          0.24,
          0.379,
          0.483,
          0.76,
          0.1,
          0.283,
          0.538,
          0.676,
          0.545,
          0.854,
          0.42
         ],
         "yaxis": "y3"
        },
        {
         "name": "valence",
         "type": "histogram",
         "xaxis": "x4",
         "y": [
          0.039,
          0.0601,
          0.889,
          0.219,
          0.138,
          0.518,
          0.827,
          0.158,
          0.0349,
          0.207,
          0.208,
          0.109,
          0.469,
          0.364,
          0.192,
          0.0971,
          0.216,
          0.352,
          0.188,
          0.124,
          0.192,
          0.0697,
          0.161,
          0.424,
          0.071,
          0.192,
          0.0633,
          0.0357,
          0.179,
          0.105,
          0.299,
          0.503,
          0.106,
          0.464,
          0.256,
          0.137,
          0.164,
          0.145,
          0.357,
          0.493,
          0.249,
          0.0326,
          0.593,
          0.755,
          0.212,
          0.569,
          0.0499,
          0.0395,
          0.301,
          0.0384,
          0.436,
          0.135,
          0.127,
          0.382,
          0.21,
          0.0391,
          0.744,
          0.45,
          0.13,
          0.236,
          0.159,
          0.0556,
          0.236,
          0.104,
          0.136,
          0.608,
          0.221,
          0.401,
          0.13,
          0.0562,
          0.306,
          0.0309,
          0.415,
          0.434,
          0.0739,
          0.347,
          0.355,
          0.201,
          0.891,
          0.43,
          0.0911,
          0.12,
          0.3,
          0.59,
          0.256,
          0.121,
          0.092,
          0.502,
          0.652,
          0.158,
          0.323,
          0.279,
          0.337,
          0.135,
          0.146,
          0.252,
          0.667,
          0.329,
          0.328,
          0.501
         ],
         "yaxis": "y4"
        },
        {
         "name": "speechiness",
         "type": "histogram",
         "xaxis": "x5",
         "y": [
          0.0328,
          0.0292,
          0.0376,
          0.0874,
          0.0367,
          0.0624,
          0.0265,
          0.0948,
          0.0376,
          0.0337,
          0.0284,
          0.033,
          0.039,
          0.0301,
          0.0375,
          0.0343,
          0.0299,
          0.0368,
          0.0315,
          0.042,
          0.0363,
          0.0351,
          0.0261,
          0.0282,
          0.0329,
          0.0383,
          0.0395,
          0.0311,
          0.0438,
          0.0273,
          0.0656,
          0.0258,
          0.0406,
          0.0278,
          0.0585,
          0.032,
          0.0327,
          0.0624,
          0.0334,
          0.0282,
          0.0555,
          0.0375,
          0.0278,
          0.0351,
          0.0443,
          0.0352,
          0.0488,
          0.0263,
          0.0334,
          0.0367,
          0.0279,
          0.0392,
          0.0267,
          0.0502,
          0.0266,
          0.0394,
          0.0917,
          0.101,
          0.0456,
          0.0311,
          0.0335,
          0.0283,
          0.0892,
          0.0368,
          0.026,
          0.262,
          0.0273,
          0.0297,
          0.0325,
          0.0296,
          0.0289,
          0.0725,
          0.0424,
          0.0271,
          0.0342,
          0.11,
          0.026,
          0.049,
          0.0493,
          0.0261,
          0.0366,
          0.0248,
          0.0288,
          0.0296,
          0.0475,
          0.0277,
          0.0302,
          0.0351,
          0.0383,
          0.0277,
          0.0387,
          0.0301,
          0.0408,
          0.0328,
          0.0428,
          0.0375,
          0.0388,
          0.0273,
          0.0632,
          0.0388
         ],
         "yaxis": "y5"
        },
        {
         "name": "instrumentalness",
         "type": "histogram",
         "xaxis": "x6",
         "y": [
          0.266,
          0.853,
          0.901,
          0.799,
          0.884,
          0.781,
          0.238,
          0.00218,
          0.893,
          0.0019,
          0.00704,
          0.000579,
          0.000029,
          0.0115,
          0.87,
          0.745,
          0.00805,
          0.774,
          0.745,
          0.000756,
          0.0167,
          0.0239,
          0.9,
          0.675,
          0.00682,
          0.763,
          0.00876,
          0.816,
          0.757,
          0.0319,
          0.157,
          0.919,
          0.0000375,
          0,
          0.000597,
          0.186,
          0.0000413,
          0.00002,
          0.0304,
          0,
          0.283,
          0.00177,
          0.00188,
          0.837,
          0.00000188,
          0.806,
          0.666,
          0.335,
          0.00717,
          0.942,
          0.903,
          0.362,
          0.0346,
          0.0735,
          0.973,
          0.186,
          0.769,
          0.106,
          0.188,
          0.0203,
          0.862,
          0.956,
          0.53,
          0.00465,
          0.0401,
          0.000442,
          0.935,
          0.000405,
          0.857,
          0.013,
          0.00097,
          0.962,
          0.601,
          0.000241,
          0.868,
          0.00121,
          0.849,
          0.12,
          0.896,
          0.794,
          0.381,
          0.832,
          0.00162,
          0.12,
          0.625,
          0.833,
          0.85,
          0.00216,
          0.939,
          0.431,
          0.877,
          0.874,
          0.0131,
          0.545,
          0.0000893,
          0.000858,
          0.726,
          0.00066,
          0.0000704,
          0.31
         ],
         "yaxis": "y6"
        }
       ],
       "layout": {
        "annotations": [
         {
          "font": {
           "size": 16
          },
          "showarrow": false,
          "text": "popularity",
          "x": 0.14444444444444446,
          "xanchor": "center",
          "xref": "paper",
          "y": 1,
          "yanchor": "bottom",
          "yref": "paper"
         },
         {
          "font": {
           "size": 16
          },
          "showarrow": false,
          "text": "danceability",
          "x": 0.5,
          "xanchor": "center",
          "xref": "paper",
          "y": 1,
          "yanchor": "bottom",
          "yref": "paper"
         },
         {
          "font": {
           "size": 16
          },
          "showarrow": false,
          "text": "energy",
          "x": 0.8555555555555556,
          "xanchor": "center",
          "xref": "paper",
          "y": 1,
          "yanchor": "bottom",
          "yref": "paper"
         },
         {
          "font": {
           "size": 16
          },
          "showarrow": false,
          "text": "valence",
          "x": 0.14444444444444446,
          "xanchor": "center",
          "xref": "paper",
          "y": 0.375,
          "yanchor": "bottom",
          "yref": "paper"
         },
         {
          "font": {
           "size": 16
          },
          "showarrow": false,
          "text": "speechiness",
          "x": 0.5,
          "xanchor": "center",
          "xref": "paper",
          "y": 0.375,
          "yanchor": "bottom",
          "yref": "paper"
         },
         {
          "font": {
           "size": 16
          },
          "showarrow": false,
          "text": "instrumentalness",
          "x": 0.8555555555555556,
          "xanchor": "center",
          "xref": "paper",
          "y": 0.375,
          "yanchor": "bottom",
          "yref": "paper"
         }
        ],
        "height": 600,
        "template": {
         "data": {
          "bar": [
           {
            "error_x": {
             "color": "#2a3f5f"
            },
            "error_y": {
             "color": "#2a3f5f"
            },
            "marker": {
             "line": {
              "color": "#E5ECF6",
              "width": 0.5
             },
             "pattern": {
              "fillmode": "overlay",
              "size": 10,
              "solidity": 0.2
             }
            },
            "type": "bar"
           }
          ],
          "barpolar": [
           {
            "marker": {
             "line": {
              "color": "#E5ECF6",
              "width": 0.5
             },
             "pattern": {
              "fillmode": "overlay",
              "size": 10,
              "solidity": 0.2
             }
            },
            "type": "barpolar"
           }
          ],
          "carpet": [
           {
            "aaxis": {
             "endlinecolor": "#2a3f5f",
             "gridcolor": "white",
             "linecolor": "white",
             "minorgridcolor": "white",
             "startlinecolor": "#2a3f5f"
            },
            "baxis": {
             "endlinecolor": "#2a3f5f",
             "gridcolor": "white",
             "linecolor": "white",
             "minorgridcolor": "white",
             "startlinecolor": "#2a3f5f"
            },
            "type": "carpet"
           }
          ],
          "choropleth": [
           {
            "colorbar": {
             "outlinewidth": 0,
             "ticks": ""
            },
            "type": "choropleth"
           }
          ],
          "contour": [
           {
            "colorbar": {
             "outlinewidth": 0,
             "ticks": ""
            },
            "colorscale": [
             [
              0,
              "#0d0887"
             ],
             [
              0.1111111111111111,
              "#46039f"
             ],
             [
              0.2222222222222222,
              "#7201a8"
             ],
             [
              0.3333333333333333,
              "#9c179e"
             ],
             [
              0.4444444444444444,
              "#bd3786"
             ],
             [
              0.5555555555555556,
              "#d8576b"
             ],
             [
              0.6666666666666666,
              "#ed7953"
             ],
             [
              0.7777777777777778,
              "#fb9f3a"
             ],
             [
              0.8888888888888888,
              "#fdca26"
             ],
             [
              1,
              "#f0f921"
             ]
            ],
            "type": "contour"
           }
          ],
          "contourcarpet": [
           {
            "colorbar": {
             "outlinewidth": 0,
             "ticks": ""
            },
            "type": "contourcarpet"
           }
          ],
          "heatmap": [
           {
            "colorbar": {
             "outlinewidth": 0,
             "ticks": ""
            },
            "colorscale": [
             [
              0,
              "#0d0887"
             ],
             [
              0.1111111111111111,
              "#46039f"
             ],
             [
              0.2222222222222222,
              "#7201a8"
             ],
             [
              0.3333333333333333,
              "#9c179e"
             ],
             [
              0.4444444444444444,
              "#bd3786"
             ],
             [
              0.5555555555555556,
              "#d8576b"
             ],
             [
              0.6666666666666666,
              "#ed7953"
             ],
             [
              0.7777777777777778,
              "#fb9f3a"
             ],
             [
              0.8888888888888888,
              "#fdca26"
             ],
             [
              1,
              "#f0f921"
             ]
            ],
            "type": "heatmap"
           }
          ],
          "heatmapgl": [
           {
            "colorbar": {
             "outlinewidth": 0,
             "ticks": ""
            },
            "colorscale": [
             [
              0,
              "#0d0887"
             ],
             [
              0.1111111111111111,
              "#46039f"
             ],
             [
              0.2222222222222222,
              "#7201a8"
             ],
             [
              0.3333333333333333,
              "#9c179e"
             ],
             [
              0.4444444444444444,
              "#bd3786"
             ],
             [
              0.5555555555555556,
              "#d8576b"
             ],
             [
              0.6666666666666666,
              "#ed7953"
             ],
             [
              0.7777777777777778,
              "#fb9f3a"
             ],
             [
              0.8888888888888888,
              "#fdca26"
             ],
             [
              1,
              "#f0f921"
             ]
            ],
            "type": "heatmapgl"
           }
          ],
          "histogram": [
           {
            "marker": {
             "pattern": {
              "fillmode": "overlay",
              "size": 10,
              "solidity": 0.2
             }
            },
            "type": "histogram"
           }
          ],
          "histogram2d": [
           {
            "colorbar": {
             "outlinewidth": 0,
             "ticks": ""
            },
            "colorscale": [
             [
              0,
              "#0d0887"
             ],
             [
              0.1111111111111111,
              "#46039f"
             ],
             [
              0.2222222222222222,
              "#7201a8"
             ],
             [
              0.3333333333333333,
              "#9c179e"
             ],
             [
              0.4444444444444444,
              "#bd3786"
             ],
             [
              0.5555555555555556,
              "#d8576b"
             ],
             [
              0.6666666666666666,
              "#ed7953"
             ],
             [
              0.7777777777777778,
              "#fb9f3a"
             ],
             [
              0.8888888888888888,
              "#fdca26"
             ],
             [
              1,
              "#f0f921"
             ]
            ],
            "type": "histogram2d"
           }
          ],
          "histogram2dcontour": [
           {
            "colorbar": {
             "outlinewidth": 0,
             "ticks": ""
            },
            "colorscale": [
             [
              0,
              "#0d0887"
             ],
             [
              0.1111111111111111,
              "#46039f"
             ],
             [
              0.2222222222222222,
              "#7201a8"
             ],
             [
              0.3333333333333333,
              "#9c179e"
             ],
             [
              0.4444444444444444,
              "#bd3786"
             ],
             [
              0.5555555555555556,
              "#d8576b"
             ],
             [
              0.6666666666666666,
              "#ed7953"
             ],
             [
              0.7777777777777778,
              "#fb9f3a"
             ],
             [
              0.8888888888888888,
              "#fdca26"
             ],
             [
              1,
              "#f0f921"
             ]
            ],
            "type": "histogram2dcontour"
           }
          ],
          "mesh3d": [
           {
            "colorbar": {
             "outlinewidth": 0,
             "ticks": ""
            },
            "type": "mesh3d"
           }
          ],
          "parcoords": [
           {
            "line": {
             "colorbar": {
              "outlinewidth": 0,
              "ticks": ""
             }
            },
            "type": "parcoords"
           }
          ],
          "pie": [
           {
            "automargin": true,
            "type": "pie"
           }
          ],
          "scatter": [
           {
            "fillpattern": {
             "fillmode": "overlay",
             "size": 10,
             "solidity": 0.2
            },
            "type": "scatter"
           }
          ],
          "scatter3d": [
           {
            "line": {
             "colorbar": {
              "outlinewidth": 0,
              "ticks": ""
             }
            },
            "marker": {
             "colorbar": {
              "outlinewidth": 0,
              "ticks": ""
             }
            },
            "type": "scatter3d"
           }
          ],
          "scattercarpet": [
           {
            "marker": {
             "colorbar": {
              "outlinewidth": 0,
              "ticks": ""
             }
            },
            "type": "scattercarpet"
           }
          ],
          "scattergeo": [
           {
            "marker": {
             "colorbar": {
              "outlinewidth": 0,
              "ticks": ""
             }
            },
            "type": "scattergeo"
           }
          ],
          "scattergl": [
           {
            "marker": {
             "colorbar": {
              "outlinewidth": 0,
              "ticks": ""
             }
            },
            "type": "scattergl"
           }
          ],
          "scattermapbox": [
           {
            "marker": {
             "colorbar": {
              "outlinewidth": 0,
              "ticks": ""
             }
            },
            "type": "scattermapbox"
           }
          ],
          "scatterpolar": [
           {
            "marker": {
             "colorbar": {
              "outlinewidth": 0,
              "ticks": ""
             }
            },
            "type": "scatterpolar"
           }
          ],
          "scatterpolargl": [
           {
            "marker": {
             "colorbar": {
              "outlinewidth": 0,
              "ticks": ""
             }
            },
            "type": "scatterpolargl"
           }
          ],
          "scatterternary": [
           {
            "marker": {
             "colorbar": {
              "outlinewidth": 0,
              "ticks": ""
             }
            },
            "type": "scatterternary"
           }
          ],
          "surface": [
           {
            "colorbar": {
             "outlinewidth": 0,
             "ticks": ""
            },
            "colorscale": [
             [
              0,
              "#0d0887"
             ],
             [
              0.1111111111111111,
              "#46039f"
             ],
             [
              0.2222222222222222,
              "#7201a8"
             ],
             [
              0.3333333333333333,
              "#9c179e"
             ],
             [
              0.4444444444444444,
              "#bd3786"
             ],
             [
              0.5555555555555556,
              "#d8576b"
             ],
             [
              0.6666666666666666,
              "#ed7953"
             ],
             [
              0.7777777777777778,
              "#fb9f3a"
             ],
             [
              0.8888888888888888,
              "#fdca26"
             ],
             [
              1,
              "#f0f921"
             ]
            ],
            "type": "surface"
           }
          ],
          "table": [
           {
            "cells": {
             "fill": {
              "color": "#EBF0F8"
             },
             "line": {
              "color": "white"
             }
            },
            "header": {
             "fill": {
              "color": "#C8D4E3"
             },
             "line": {
              "color": "white"
             }
            },
            "type": "table"
           }
          ]
         },
         "layout": {
          "annotationdefaults": {
           "arrowcolor": "#2a3f5f",
           "arrowhead": 0,
           "arrowwidth": 1
          },
          "autotypenumbers": "strict",
          "coloraxis": {
           "colorbar": {
            "outlinewidth": 0,
            "ticks": ""
           }
          },
          "colorscale": {
           "diverging": [
            [
             0,
             "#8e0152"
            ],
            [
             0.1,
             "#c51b7d"
            ],
            [
             0.2,
             "#de77ae"
            ],
            [
             0.3,
             "#f1b6da"
            ],
            [
             0.4,
             "#fde0ef"
            ],
            [
             0.5,
             "#f7f7f7"
            ],
            [
             0.6,
             "#e6f5d0"
            ],
            [
             0.7,
             "#b8e186"
            ],
            [
             0.8,
             "#7fbc41"
            ],
            [
             0.9,
             "#4d9221"
            ],
            [
             1,
             "#276419"
            ]
           ],
           "sequential": [
            [
             0,
             "#0d0887"
            ],
            [
             0.1111111111111111,
             "#46039f"
            ],
            [
             0.2222222222222222,
             "#7201a8"
            ],
            [
             0.3333333333333333,
             "#9c179e"
            ],
            [
             0.4444444444444444,
             "#bd3786"
            ],
            [
             0.5555555555555556,
             "#d8576b"
            ],
            [
             0.6666666666666666,
             "#ed7953"
            ],
            [
             0.7777777777777778,
             "#fb9f3a"
            ],
            [
             0.8888888888888888,
             "#fdca26"
            ],
            [
             1,
             "#f0f921"
            ]
           ],
           "sequentialminus": [
            [
             0,
             "#0d0887"
            ],
            [
             0.1111111111111111,
             "#46039f"
            ],
            [
             0.2222222222222222,
             "#7201a8"
            ],
            [
             0.3333333333333333,
             "#9c179e"
            ],
            [
             0.4444444444444444,
             "#bd3786"
            ],
            [
             0.5555555555555556,
             "#d8576b"
            ],
            [
             0.6666666666666666,
             "#ed7953"
            ],
            [
             0.7777777777777778,
             "#fb9f3a"
            ],
            [
             0.8888888888888888,
             "#fdca26"
            ],
            [
             1,
             "#f0f921"
            ]
           ]
          },
          "colorway": [
           "#636efa",
           "#EF553B",
           "#00cc96",
           "#ab63fa",
           "#FFA15A",
           "#19d3f3",
           "#FF6692",
           "#B6E880",
           "#FF97FF",
           "#FECB52"
          ],
          "font": {
           "color": "#2a3f5f"
          },
          "geo": {
           "bgcolor": "white",
           "lakecolor": "white",
           "landcolor": "#E5ECF6",
           "showlakes": true,
           "showland": true,
           "subunitcolor": "white"
          },
          "hoverlabel": {
           "align": "left"
          },
          "hovermode": "closest",
          "mapbox": {
           "style": "light"
          },
          "paper_bgcolor": "white",
          "plot_bgcolor": "#E5ECF6",
          "polar": {
           "angularaxis": {
            "gridcolor": "white",
            "linecolor": "white",
            "ticks": ""
           },
           "bgcolor": "#E5ECF6",
           "radialaxis": {
            "gridcolor": "white",
            "linecolor": "white",
            "ticks": ""
           }
          },
          "scene": {
           "xaxis": {
            "backgroundcolor": "#E5ECF6",
            "gridcolor": "white",
            "gridwidth": 2,
            "linecolor": "white",
            "showbackground": true,
            "ticks": "",
            "zerolinecolor": "white"
           },
           "yaxis": {
            "backgroundcolor": "#E5ECF6",
            "gridcolor": "white",
            "gridwidth": 2,
            "linecolor": "white",
            "showbackground": true,
            "ticks": "",
            "zerolinecolor": "white"
           },
           "zaxis": {
            "backgroundcolor": "#E5ECF6",
            "gridcolor": "white",
            "gridwidth": 2,
            "linecolor": "white",
            "showbackground": true,
            "ticks": "",
            "zerolinecolor": "white"
           }
          },
          "shapedefaults": {
           "line": {
            "color": "#2a3f5f"
           }
          },
          "ternary": {
           "aaxis": {
            "gridcolor": "white",
            "linecolor": "white",
            "ticks": ""
           },
           "baxis": {
            "gridcolor": "white",
            "linecolor": "white",
            "ticks": ""
           },
           "bgcolor": "#E5ECF6",
           "caxis": {
            "gridcolor": "white",
            "linecolor": "white",
            "ticks": ""
           }
          },
          "title": {
           "x": 0.05
          },
          "xaxis": {
           "automargin": true,
           "gridcolor": "white",
           "linecolor": "white",
           "ticks": "",
           "title": {
            "standoff": 15
           },
           "zerolinecolor": "white",
           "zerolinewidth": 2
          },
          "yaxis": {
           "automargin": true,
           "gridcolor": "white",
           "linecolor": "white",
           "ticks": "",
           "title": {
            "standoff": 15
           },
           "zerolinecolor": "white",
           "zerolinewidth": 2
          }
         }
        },
        "title": {
         "text": "Histogramas:"
        },
        "width": 900,
        "xaxis": {
         "anchor": "y",
         "domain": [
          0,
          0.2888888888888889
         ]
        },
        "xaxis2": {
         "anchor": "y2",
         "domain": [
          0.35555555555555557,
          0.6444444444444445
         ]
        },
        "xaxis3": {
         "anchor": "y3",
         "domain": [
          0.7111111111111111,
          1
         ]
        },
        "xaxis4": {
         "anchor": "y4",
         "domain": [
          0,
          0.2888888888888889
         ]
        },
        "xaxis5": {
         "anchor": "y5",
         "domain": [
          0.35555555555555557,
          0.6444444444444445
         ]
        },
        "xaxis6": {
         "anchor": "y6",
         "domain": [
          0.7111111111111111,
          1
         ]
        },
        "yaxis": {
         "anchor": "x",
         "domain": [
          0.625,
          1
         ]
        },
        "yaxis2": {
         "anchor": "x2",
         "domain": [
          0.625,
          1
         ]
        },
        "yaxis3": {
         "anchor": "x3",
         "domain": [
          0.625,
          1
         ]
        },
        "yaxis4": {
         "anchor": "x4",
         "domain": [
          0,
          0.375
         ]
        },
        "yaxis5": {
         "anchor": "x5",
         "domain": [
          0,
          0.375
         ]
        },
        "yaxis6": {
         "anchor": "x6",
         "domain": [
          0,
          0.375
         ]
        }
       }
      }
     },
     "metadata": {},
     "output_type": "display_data"
    }
   ],
   "source": [
    "cols = ['popularity','danceability', 'energy','valence', 'speechiness','instrumentalness']\n",
    "\n",
    "fig = make_subplots(rows=2, cols=3, subplot_titles=cols)\n",
    "\n",
    "for i, col in enumerate(cols):\n",
    "    fig.add_trace(go.Histogram(y=fear_df[col], name=col), row=(i // 3) + 1, col=(i % 3) + 1)\n",
    "\n",
    "fig.update_layout(\n",
    "    title=\"Histogramas:\",\n",
    "    height=600,\n",
    "    width=900\n",
    ")\n",
    "\n",
    "fig.show()"
   ]
  },
  {
   "cell_type": "code",
   "execution_count": 40,
   "metadata": {},
   "outputs": [
    {
     "data": {
      "text/plain": [
       "0.27324000000000004"
      ]
     },
     "execution_count": 40,
     "metadata": {},
     "output_type": "execute_result"
    }
   ],
   "source": [
    "fear_df['valence'].mean()"
   ]
  },
  {
   "cell_type": "markdown",
   "metadata": {},
   "source": [
    "Vemos que estas canciones según la lista que ha generado Spotify:  \n",
    "- Por lo general no son canciones populares (con un 40 sobre 100 de media).  \n",
    "- En cuanto a la bailabilidad la mayoría son más o menos bailables ya que los valores están cerca del 0,5. \n",
    "- No son canciones muy enérgicas (0,5 de media).  \n",
    "- Respecto a la valencia son canciones tristes en su mayoría aunque parece que hay canciones con valencia muy baja (0,27 de media).  \n",
    "- Son canciones que no son habladas o rapeadas.  \n",
    "- Por último, vemos que hay varias canciones que si que son muy instrumentales y otras que tienen voces."
   ]
  },
  {
   "cell_type": "markdown",
   "metadata": {},
   "source": [
    "<span style=\"color:red\">**Esta playlist como no transmite esa sensación que estaba buscando la descarto del análisis.  \n",
    "Parece que Spotify la ha elaborado según las letras o títulos de las canciones porque sus canciones no transmiten terror son más bien tristes.**</span>."
   ]
  },
  {
   "cell_type": "markdown",
   "metadata": {},
   "source": [
    "#### 5. Concentración / Focus"
   ]
  },
  {
   "cell_type": "code",
   "execution_count": 41,
   "metadata": {},
   "outputs": [
    {
     "data": {
      "text/html": [
       "<div>\n",
       "<style scoped>\n",
       "    .dataframe tbody tr th:only-of-type {\n",
       "        vertical-align: middle;\n",
       "    }\n",
       "\n",
       "    .dataframe tbody tr th {\n",
       "        vertical-align: top;\n",
       "    }\n",
       "\n",
       "    .dataframe thead th {\n",
       "        text-align: right;\n",
       "    }\n",
       "</style>\n",
       "<table border=\"1\" class=\"dataframe\">\n",
       "  <thead>\n",
       "    <tr style=\"text-align: right;\">\n",
       "      <th></th>\n",
       "      <th>Mood</th>\n",
       "      <th>song_name</th>\n",
       "      <th>artist_name</th>\n",
       "      <th>popularity</th>\n",
       "      <th>danceability</th>\n",
       "      <th>energy</th>\n",
       "      <th>key</th>\n",
       "      <th>loudness</th>\n",
       "      <th>mode</th>\n",
       "      <th>speechiness</th>\n",
       "      <th>acousticness</th>\n",
       "      <th>instrumentalness</th>\n",
       "      <th>liveness</th>\n",
       "      <th>valence</th>\n",
       "      <th>tempo</th>\n",
       "      <th>duration_ms</th>\n",
       "      <th>song_uri</th>\n",
       "    </tr>\n",
       "  </thead>\n",
       "  <tbody>\n",
       "    <tr>\n",
       "      <th>365</th>\n",
       "      <td>Focus</td>\n",
       "      <td>So Far So Good</td>\n",
       "      <td>Sun Of They</td>\n",
       "      <td>66</td>\n",
       "      <td>0.577</td>\n",
       "      <td>0.0721</td>\n",
       "      <td>2</td>\n",
       "      <td>-22.973</td>\n",
       "      <td>1</td>\n",
       "      <td>0.0317</td>\n",
       "      <td>0.981</td>\n",
       "      <td>0.898</td>\n",
       "      <td>0.111</td>\n",
       "      <td>0.2420</td>\n",
       "      <td>73.998</td>\n",
       "      <td>151917</td>\n",
       "      <td>spotify:track:6zTbtySCRStJOv5xA4XvRE</td>\n",
       "    </tr>\n",
       "    <tr>\n",
       "      <th>366</th>\n",
       "      <td>Focus</td>\n",
       "      <td>Apricity</td>\n",
       "      <td>Imala Zir</td>\n",
       "      <td>65</td>\n",
       "      <td>0.467</td>\n",
       "      <td>0.2430</td>\n",
       "      <td>11</td>\n",
       "      <td>-22.534</td>\n",
       "      <td>1</td>\n",
       "      <td>0.0332</td>\n",
       "      <td>0.842</td>\n",
       "      <td>0.947</td>\n",
       "      <td>0.115</td>\n",
       "      <td>0.0541</td>\n",
       "      <td>75.031</td>\n",
       "      <td>158000</td>\n",
       "      <td>spotify:track:6cr9XbO2yAJgTNa6XNRINF</td>\n",
       "    </tr>\n",
       "    <tr>\n",
       "      <th>367</th>\n",
       "      <td>Focus</td>\n",
       "      <td>Solatium</td>\n",
       "      <td>Imber Sun</td>\n",
       "      <td>64</td>\n",
       "      <td>0.442</td>\n",
       "      <td>0.1120</td>\n",
       "      <td>2</td>\n",
       "      <td>-18.687</td>\n",
       "      <td>1</td>\n",
       "      <td>0.0415</td>\n",
       "      <td>0.985</td>\n",
       "      <td>0.919</td>\n",
       "      <td>0.111</td>\n",
       "      <td>0.1110</td>\n",
       "      <td>112.206</td>\n",
       "      <td>126986</td>\n",
       "      <td>spotify:track:4br0nM6NdvDKMJgLj44foR</td>\n",
       "    </tr>\n",
       "    <tr>\n",
       "      <th>368</th>\n",
       "      <td>Focus</td>\n",
       "      <td>efflorescence</td>\n",
       "      <td>Far &amp; Beyond</td>\n",
       "      <td>64</td>\n",
       "      <td>0.509</td>\n",
       "      <td>0.2120</td>\n",
       "      <td>6</td>\n",
       "      <td>-23.342</td>\n",
       "      <td>1</td>\n",
       "      <td>0.0305</td>\n",
       "      <td>0.843</td>\n",
       "      <td>0.853</td>\n",
       "      <td>0.111</td>\n",
       "      <td>0.0711</td>\n",
       "      <td>84.000</td>\n",
       "      <td>143500</td>\n",
       "      <td>spotify:track:7qa14fkhxgOwWgJ2cbDTyc</td>\n",
       "    </tr>\n",
       "    <tr>\n",
       "      <th>369</th>\n",
       "      <td>Focus</td>\n",
       "      <td>Gather My Thoughts</td>\n",
       "      <td>Josef Briem</td>\n",
       "      <td>64</td>\n",
       "      <td>0.346</td>\n",
       "      <td>0.0513</td>\n",
       "      <td>7</td>\n",
       "      <td>-20.528</td>\n",
       "      <td>1</td>\n",
       "      <td>0.0432</td>\n",
       "      <td>0.954</td>\n",
       "      <td>0.895</td>\n",
       "      <td>0.105</td>\n",
       "      <td>0.0580</td>\n",
       "      <td>129.445</td>\n",
       "      <td>183500</td>\n",
       "      <td>spotify:track:11nkLTEsCUzxXLWpyuz65G</td>\n",
       "    </tr>\n",
       "    <tr>\n",
       "      <th>...</th>\n",
       "      <td>...</td>\n",
       "      <td>...</td>\n",
       "      <td>...</td>\n",
       "      <td>...</td>\n",
       "      <td>...</td>\n",
       "      <td>...</td>\n",
       "      <td>...</td>\n",
       "      <td>...</td>\n",
       "      <td>...</td>\n",
       "      <td>...</td>\n",
       "      <td>...</td>\n",
       "      <td>...</td>\n",
       "      <td>...</td>\n",
       "      <td>...</td>\n",
       "      <td>...</td>\n",
       "      <td>...</td>\n",
       "      <td>...</td>\n",
       "    </tr>\n",
       "    <tr>\n",
       "      <th>460</th>\n",
       "      <td>Focus</td>\n",
       "      <td>remembrance</td>\n",
       "      <td>Dreams Ahead</td>\n",
       "      <td>52</td>\n",
       "      <td>0.461</td>\n",
       "      <td>0.0611</td>\n",
       "      <td>0</td>\n",
       "      <td>-20.555</td>\n",
       "      <td>1</td>\n",
       "      <td>0.0440</td>\n",
       "      <td>0.962</td>\n",
       "      <td>0.930</td>\n",
       "      <td>0.112</td>\n",
       "      <td>0.1330</td>\n",
       "      <td>120.815</td>\n",
       "      <td>195122</td>\n",
       "      <td>spotify:track:5NFybpngup7caMPSMiJ5ZO</td>\n",
       "    </tr>\n",
       "    <tr>\n",
       "      <th>461</th>\n",
       "      <td>Focus</td>\n",
       "      <td>Are You Up</td>\n",
       "      <td>Agnes Lundh</td>\n",
       "      <td>51</td>\n",
       "      <td>0.597</td>\n",
       "      <td>0.1270</td>\n",
       "      <td>5</td>\n",
       "      <td>-17.192</td>\n",
       "      <td>0</td>\n",
       "      <td>0.0370</td>\n",
       "      <td>0.991</td>\n",
       "      <td>0.929</td>\n",
       "      <td>0.126</td>\n",
       "      <td>0.1350</td>\n",
       "      <td>70.051</td>\n",
       "      <td>152597</td>\n",
       "      <td>spotify:track:3xXQCt1vfzNEOndrrNWAZR</td>\n",
       "    </tr>\n",
       "    <tr>\n",
       "      <th>462</th>\n",
       "      <td>Focus</td>\n",
       "      <td>waveforms</td>\n",
       "      <td>Joy Parade</td>\n",
       "      <td>51</td>\n",
       "      <td>0.389</td>\n",
       "      <td>0.1810</td>\n",
       "      <td>10</td>\n",
       "      <td>-18.820</td>\n",
       "      <td>1</td>\n",
       "      <td>0.0297</td>\n",
       "      <td>0.874</td>\n",
       "      <td>0.905</td>\n",
       "      <td>0.116</td>\n",
       "      <td>0.1110</td>\n",
       "      <td>73.869</td>\n",
       "      <td>163232</td>\n",
       "      <td>spotify:track:2dwLTY84vCeubyM0jM0nXH</td>\n",
       "    </tr>\n",
       "    <tr>\n",
       "      <th>463</th>\n",
       "      <td>Focus</td>\n",
       "      <td>miniature things</td>\n",
       "      <td>Tall Towers</td>\n",
       "      <td>51</td>\n",
       "      <td>0.487</td>\n",
       "      <td>0.1430</td>\n",
       "      <td>0</td>\n",
       "      <td>-17.674</td>\n",
       "      <td>1</td>\n",
       "      <td>0.0400</td>\n",
       "      <td>0.981</td>\n",
       "      <td>0.904</td>\n",
       "      <td>0.115</td>\n",
       "      <td>0.1600</td>\n",
       "      <td>73.548</td>\n",
       "      <td>143872</td>\n",
       "      <td>spotify:track:3kKwXt8TAU7wMCPIPCrzkI</td>\n",
       "    </tr>\n",
       "    <tr>\n",
       "      <th>464</th>\n",
       "      <td>Focus</td>\n",
       "      <td>Abroad and Overseas</td>\n",
       "      <td>Imala Zir</td>\n",
       "      <td>51</td>\n",
       "      <td>0.348</td>\n",
       "      <td>0.0549</td>\n",
       "      <td>4</td>\n",
       "      <td>-21.011</td>\n",
       "      <td>0</td>\n",
       "      <td>0.0358</td>\n",
       "      <td>0.989</td>\n",
       "      <td>0.920</td>\n",
       "      <td>0.108</td>\n",
       "      <td>0.2370</td>\n",
       "      <td>76.177</td>\n",
       "      <td>168185</td>\n",
       "      <td>spotify:track:23sRVWvfwWdagkqC95eS6n</td>\n",
       "    </tr>\n",
       "  </tbody>\n",
       "</table>\n",
       "<p>100 rows × 17 columns</p>\n",
       "</div>"
      ],
      "text/plain": [
       "      Mood            song_name   artist_name  popularity  danceability  \\\n",
       "365  Focus       So Far So Good   Sun Of They          66         0.577   \n",
       "366  Focus             Apricity     Imala Zir          65         0.467   \n",
       "367  Focus             Solatium     Imber Sun          64         0.442   \n",
       "368  Focus        efflorescence  Far & Beyond          64         0.509   \n",
       "369  Focus   Gather My Thoughts   Josef Briem          64         0.346   \n",
       "..     ...                  ...           ...         ...           ...   \n",
       "460  Focus          remembrance  Dreams Ahead          52         0.461   \n",
       "461  Focus           Are You Up   Agnes Lundh          51         0.597   \n",
       "462  Focus            waveforms    Joy Parade          51         0.389   \n",
       "463  Focus     miniature things   Tall Towers          51         0.487   \n",
       "464  Focus  Abroad and Overseas     Imala Zir          51         0.348   \n",
       "\n",
       "     energy  key  loudness  mode  speechiness  acousticness  instrumentalness  \\\n",
       "365  0.0721    2   -22.973     1       0.0317         0.981             0.898   \n",
       "366  0.2430   11   -22.534     1       0.0332         0.842             0.947   \n",
       "367  0.1120    2   -18.687     1       0.0415         0.985             0.919   \n",
       "368  0.2120    6   -23.342     1       0.0305         0.843             0.853   \n",
       "369  0.0513    7   -20.528     1       0.0432         0.954             0.895   \n",
       "..      ...  ...       ...   ...          ...           ...               ...   \n",
       "460  0.0611    0   -20.555     1       0.0440         0.962             0.930   \n",
       "461  0.1270    5   -17.192     0       0.0370         0.991             0.929   \n",
       "462  0.1810   10   -18.820     1       0.0297         0.874             0.905   \n",
       "463  0.1430    0   -17.674     1       0.0400         0.981             0.904   \n",
       "464  0.0549    4   -21.011     0       0.0358         0.989             0.920   \n",
       "\n",
       "     liveness  valence    tempo  duration_ms  \\\n",
       "365     0.111   0.2420   73.998       151917   \n",
       "366     0.115   0.0541   75.031       158000   \n",
       "367     0.111   0.1110  112.206       126986   \n",
       "368     0.111   0.0711   84.000       143500   \n",
       "369     0.105   0.0580  129.445       183500   \n",
       "..        ...      ...      ...          ...   \n",
       "460     0.112   0.1330  120.815       195122   \n",
       "461     0.126   0.1350   70.051       152597   \n",
       "462     0.116   0.1110   73.869       163232   \n",
       "463     0.115   0.1600   73.548       143872   \n",
       "464     0.108   0.2370   76.177       168185   \n",
       "\n",
       "                                 song_uri  \n",
       "365  spotify:track:6zTbtySCRStJOv5xA4XvRE  \n",
       "366  spotify:track:6cr9XbO2yAJgTNa6XNRINF  \n",
       "367  spotify:track:4br0nM6NdvDKMJgLj44foR  \n",
       "368  spotify:track:7qa14fkhxgOwWgJ2cbDTyc  \n",
       "369  spotify:track:11nkLTEsCUzxXLWpyuz65G  \n",
       "..                                    ...  \n",
       "460  spotify:track:5NFybpngup7caMPSMiJ5ZO  \n",
       "461  spotify:track:3xXQCt1vfzNEOndrrNWAZR  \n",
       "462  spotify:track:2dwLTY84vCeubyM0jM0nXH  \n",
       "463  spotify:track:3kKwXt8TAU7wMCPIPCrzkI  \n",
       "464  spotify:track:23sRVWvfwWdagkqC95eS6n  \n",
       "\n",
       "[100 rows x 17 columns]"
      ]
     },
     "execution_count": 41,
     "metadata": {},
     "output_type": "execute_result"
    }
   ],
   "source": [
    "focus_df = df[(df.Mood == 'Focus')]\n",
    "focus_df"
   ]
  },
  {
   "cell_type": "markdown",
   "metadata": {},
   "source": [
    "##### 5.1 Variables no acotadas (duration_ms, loudness y tempo)"
   ]
  },
  {
   "cell_type": "code",
   "execution_count": 42,
   "metadata": {},
   "outputs": [
    {
     "name": "stderr",
     "output_type": "stream",
     "text": [
      "C:\\Users\\User\\AppData\\Local\\Temp\\ipykernel_9492\\3802336550.py:2: SettingWithCopyWarning:\n",
      "\n",
      "\n",
      "A value is trying to be set on a copy of a slice from a DataFrame.\n",
      "Try using .loc[row_indexer,col_indexer] = value instead\n",
      "\n",
      "See the caveats in the documentation: https://pandas.pydata.org/pandas-docs/stable/user_guide/indexing.html#returning-a-view-versus-a-copy\n",
      "\n"
     ]
    }
   ],
   "source": [
    "# Convierto ms a minutos: 1 min = 60.000 ms\n",
    "focus_df['duration_ms'] = focus_df['duration_ms']/60000"
   ]
  },
  {
   "cell_type": "code",
   "execution_count": 43,
   "metadata": {},
   "outputs": [
    {
     "data": {
      "application/vnd.plotly.v1+json": {
       "config": {
        "plotlyServerURL": "https://plot.ly"
       },
       "data": [
        {
         "name": "duration_ms",
         "type": "box",
         "xaxis": "x",
         "y": [
          2.53195,
          2.6333333333333333,
          2.116433333333333,
          2.3916666666666666,
          3.058333333333333,
          2.5832,
          2.4833333333333334,
          1.76595,
          2.8261166666666666,
          1.92405,
          2.0906333333333333,
          3.1001666666666665,
          2.9716666666666667,
          2.75765,
          2.73195,
          2.270966666666667,
          2.5646333333333335,
          1.7984333333333333,
          2.289416666666667,
          2.7543333333333333,
          2.7305166666666665,
          2.0714333333333332,
          2.3420833333333335,
          2.5119666666666665,
          2.2083333333333335,
          2.6886,
          3.2098666666666666,
          2.1333333333333333,
          2.6280166666666664,
          2.97665,
          2.0294166666666666,
          2.2616666666666667,
          3.040566666666667,
          2.7620666666666667,
          3.070516666666667,
          2.1919833333333334,
          3.2236166666666666,
          2.5014666666666665,
          1.9710166666666666,
          3.33725,
          2.77665,
          2.493333333333333,
          2.7150333333333334,
          2.5093,
          2.6021666666666667,
          2.3467333333333333,
          2.447783333333333,
          3.0209333333333332,
          2.61255,
          2.4067333333333334,
          2.1932,
          2.6949666666666667,
          1.8550666666666666,
          2.7276,
          2.246383333333333,
          2.0809,
          2.256666666666667,
          3.4299166666666667,
          2.49955,
          2.4627833333333333,
          1.9439333333333333,
          2.797,
          2.9090333333333334,
          3.2007833333333333,
          2.414283333333333,
          2.7930333333333333,
          2.2794166666666666,
          2.09345,
          2.91255,
          3.4166666666666665,
          2.3261166666666666,
          2.4416,
          2.25695,
          2.4267166666666666,
          1.7715,
          2.3602166666666666,
          2.4214333333333333,
          2.3929833333333335,
          2.5929,
          2.7021,
          2.6780666666666666,
          2.7409,
          2.4034833333333334,
          2.584616666666667,
          2.3202,
          2.2599833333333335,
          1.7196333333333333,
          2.4593,
          3.7165333333333335,
          3.1803333333333335,
          2.7815166666666666,
          2.587083333333333,
          2.584616666666667,
          2.3178666666666667,
          2.7920833333333333,
          3.2520333333333333,
          2.543283333333333,
          2.7205333333333335,
          2.397866666666667,
          2.8030833333333334
         ],
         "yaxis": "y"
        },
        {
         "name": "loudness",
         "type": "box",
         "xaxis": "x2",
         "y": [
          -22.973,
          -22.534,
          -18.687,
          -23.342,
          -20.528,
          -20.7,
          -19.268,
          -11.221,
          -21.471,
          -20.563,
          -24.575,
          -22.21,
          -19.363,
          -18.283,
          -20.888,
          -20.206,
          -18.879,
          -19.301,
          -22.09,
          -20.988,
          -23.149,
          -21.485,
          -23.602,
          -19.438,
          -26.077,
          -17.024,
          -16.918,
          -17.301,
          -19.707,
          -20.175,
          -15.708,
          -22.641,
          -16.216,
          -20.776,
          -16.382,
          -18.799,
          -17.377,
          -16.351,
          -12.71,
          -19.834,
          -25.884,
          -21.804,
          -19.655,
          -17.961,
          -22.686,
          -17.482,
          -17.993,
          -21.407,
          -18.227,
          -17.222,
          -20.105,
          -21.477,
          -16.211,
          -22.375,
          -23.197,
          -16.55,
          -17.919,
          -20.96,
          -22.376,
          -19.831,
          -14.367,
          -18.172,
          -20.172,
          -19.69,
          -17.352,
          -23.186,
          -15.87,
          -15.088,
          -20.839,
          -17.167,
          -21.708,
          -21.969,
          -19.685,
          -19.494,
          -20.913,
          -20.333,
          -22.02,
          -19.68,
          -18.009,
          -19.569,
          -18.357,
          -20.645,
          -20.648,
          -27.838,
          -18.633,
          -22.33,
          -11.538,
          -21.731,
          -22.296,
          -18.215,
          -18.238,
          -20.004,
          -23.414,
          -21.289,
          -22.862,
          -20.555,
          -17.192,
          -18.82,
          -17.674,
          -21.011
         ],
         "yaxis": "y2"
        },
        {
         "name": "tempo",
         "type": "box",
         "xaxis": "x3",
         "y": [
          73.998,
          75.031,
          112.206,
          84,
          129.445,
          118.209,
          124.069,
          71.407,
          74.906,
          78.967,
          79.983,
          74.04,
          74.047,
          148.072,
          65.364,
          74.921,
          59.008,
          146.405,
          73.709,
          147.79,
          71.46,
          84.035,
          78.082,
          139.926,
          140.068,
          73.964,
          133.627,
          116.099,
          120.033,
          67.994,
          136.406,
          74.966,
          108.663,
          92.699,
          74.934,
          127.191,
          73.825,
          74.038,
          68.989,
          124.082,
          74.943,
          75,
          100.93,
          67.075,
          85.019,
          84.064,
          67.543,
          149.927,
          130.016,
          67.401,
          95.929,
          149.851,
          138.097,
          144.04,
          74.866,
          83.041,
          149.941,
          70.003,
          78.486,
          90.815,
          107.103,
          72.029,
          35.366,
          109.262,
          140.109,
          75.033,
          64.96,
          106.999,
          64.443,
          120.07,
          73.959,
          75.959,
          81.874,
          77.328,
          110.018,
          99.958,
          139.833,
          92.038,
          71.015,
          85.004,
          70.841,
          97.045,
          89.907,
          71.052,
          97.094,
          75.984,
          107.156,
          73.04,
          81.579,
          97.044,
          78.734,
          76.987,
          129.818,
          59.549,
          116.88,
          120.815,
          70.051,
          73.869,
          73.548,
          76.177
         ],
         "yaxis": "y3"
        }
       ],
       "layout": {
        "annotations": [
         {
          "font": {
           "size": 16
          },
          "showarrow": false,
          "text": "duration_ms",
          "x": 0.14444444444444446,
          "xanchor": "center",
          "xref": "paper",
          "y": 1,
          "yanchor": "bottom",
          "yref": "paper"
         },
         {
          "font": {
           "size": 16
          },
          "showarrow": false,
          "text": "loudness",
          "x": 0.5,
          "xanchor": "center",
          "xref": "paper",
          "y": 1,
          "yanchor": "bottom",
          "yref": "paper"
         },
         {
          "font": {
           "size": 16
          },
          "showarrow": false,
          "text": "tempo",
          "x": 0.8555555555555556,
          "xanchor": "center",
          "xref": "paper",
          "y": 1,
          "yanchor": "bottom",
          "yref": "paper"
         }
        ],
        "height": 400,
        "template": {
         "data": {
          "bar": [
           {
            "error_x": {
             "color": "#2a3f5f"
            },
            "error_y": {
             "color": "#2a3f5f"
            },
            "marker": {
             "line": {
              "color": "#E5ECF6",
              "width": 0.5
             },
             "pattern": {
              "fillmode": "overlay",
              "size": 10,
              "solidity": 0.2
             }
            },
            "type": "bar"
           }
          ],
          "barpolar": [
           {
            "marker": {
             "line": {
              "color": "#E5ECF6",
              "width": 0.5
             },
             "pattern": {
              "fillmode": "overlay",
              "size": 10,
              "solidity": 0.2
             }
            },
            "type": "barpolar"
           }
          ],
          "carpet": [
           {
            "aaxis": {
             "endlinecolor": "#2a3f5f",
             "gridcolor": "white",
             "linecolor": "white",
             "minorgridcolor": "white",
             "startlinecolor": "#2a3f5f"
            },
            "baxis": {
             "endlinecolor": "#2a3f5f",
             "gridcolor": "white",
             "linecolor": "white",
             "minorgridcolor": "white",
             "startlinecolor": "#2a3f5f"
            },
            "type": "carpet"
           }
          ],
          "choropleth": [
           {
            "colorbar": {
             "outlinewidth": 0,
             "ticks": ""
            },
            "type": "choropleth"
           }
          ],
          "contour": [
           {
            "colorbar": {
             "outlinewidth": 0,
             "ticks": ""
            },
            "colorscale": [
             [
              0,
              "#0d0887"
             ],
             [
              0.1111111111111111,
              "#46039f"
             ],
             [
              0.2222222222222222,
              "#7201a8"
             ],
             [
              0.3333333333333333,
              "#9c179e"
             ],
             [
              0.4444444444444444,
              "#bd3786"
             ],
             [
              0.5555555555555556,
              "#d8576b"
             ],
             [
              0.6666666666666666,
              "#ed7953"
             ],
             [
              0.7777777777777778,
              "#fb9f3a"
             ],
             [
              0.8888888888888888,
              "#fdca26"
             ],
             [
              1,
              "#f0f921"
             ]
            ],
            "type": "contour"
           }
          ],
          "contourcarpet": [
           {
            "colorbar": {
             "outlinewidth": 0,
             "ticks": ""
            },
            "type": "contourcarpet"
           }
          ],
          "heatmap": [
           {
            "colorbar": {
             "outlinewidth": 0,
             "ticks": ""
            },
            "colorscale": [
             [
              0,
              "#0d0887"
             ],
             [
              0.1111111111111111,
              "#46039f"
             ],
             [
              0.2222222222222222,
              "#7201a8"
             ],
             [
              0.3333333333333333,
              "#9c179e"
             ],
             [
              0.4444444444444444,
              "#bd3786"
             ],
             [
              0.5555555555555556,
              "#d8576b"
             ],
             [
              0.6666666666666666,
              "#ed7953"
             ],
             [
              0.7777777777777778,
              "#fb9f3a"
             ],
             [
              0.8888888888888888,
              "#fdca26"
             ],
             [
              1,
              "#f0f921"
             ]
            ],
            "type": "heatmap"
           }
          ],
          "heatmapgl": [
           {
            "colorbar": {
             "outlinewidth": 0,
             "ticks": ""
            },
            "colorscale": [
             [
              0,
              "#0d0887"
             ],
             [
              0.1111111111111111,
              "#46039f"
             ],
             [
              0.2222222222222222,
              "#7201a8"
             ],
             [
              0.3333333333333333,
              "#9c179e"
             ],
             [
              0.4444444444444444,
              "#bd3786"
             ],
             [
              0.5555555555555556,
              "#d8576b"
             ],
             [
              0.6666666666666666,
              "#ed7953"
             ],
             [
              0.7777777777777778,
              "#fb9f3a"
             ],
             [
              0.8888888888888888,
              "#fdca26"
             ],
             [
              1,
              "#f0f921"
             ]
            ],
            "type": "heatmapgl"
           }
          ],
          "histogram": [
           {
            "marker": {
             "pattern": {
              "fillmode": "overlay",
              "size": 10,
              "solidity": 0.2
             }
            },
            "type": "histogram"
           }
          ],
          "histogram2d": [
           {
            "colorbar": {
             "outlinewidth": 0,
             "ticks": ""
            },
            "colorscale": [
             [
              0,
              "#0d0887"
             ],
             [
              0.1111111111111111,
              "#46039f"
             ],
             [
              0.2222222222222222,
              "#7201a8"
             ],
             [
              0.3333333333333333,
              "#9c179e"
             ],
             [
              0.4444444444444444,
              "#bd3786"
             ],
             [
              0.5555555555555556,
              "#d8576b"
             ],
             [
              0.6666666666666666,
              "#ed7953"
             ],
             [
              0.7777777777777778,
              "#fb9f3a"
             ],
             [
              0.8888888888888888,
              "#fdca26"
             ],
             [
              1,
              "#f0f921"
             ]
            ],
            "type": "histogram2d"
           }
          ],
          "histogram2dcontour": [
           {
            "colorbar": {
             "outlinewidth": 0,
             "ticks": ""
            },
            "colorscale": [
             [
              0,
              "#0d0887"
             ],
             [
              0.1111111111111111,
              "#46039f"
             ],
             [
              0.2222222222222222,
              "#7201a8"
             ],
             [
              0.3333333333333333,
              "#9c179e"
             ],
             [
              0.4444444444444444,
              "#bd3786"
             ],
             [
              0.5555555555555556,
              "#d8576b"
             ],
             [
              0.6666666666666666,
              "#ed7953"
             ],
             [
              0.7777777777777778,
              "#fb9f3a"
             ],
             [
              0.8888888888888888,
              "#fdca26"
             ],
             [
              1,
              "#f0f921"
             ]
            ],
            "type": "histogram2dcontour"
           }
          ],
          "mesh3d": [
           {
            "colorbar": {
             "outlinewidth": 0,
             "ticks": ""
            },
            "type": "mesh3d"
           }
          ],
          "parcoords": [
           {
            "line": {
             "colorbar": {
              "outlinewidth": 0,
              "ticks": ""
             }
            },
            "type": "parcoords"
           }
          ],
          "pie": [
           {
            "automargin": true,
            "type": "pie"
           }
          ],
          "scatter": [
           {
            "fillpattern": {
             "fillmode": "overlay",
             "size": 10,
             "solidity": 0.2
            },
            "type": "scatter"
           }
          ],
          "scatter3d": [
           {
            "line": {
             "colorbar": {
              "outlinewidth": 0,
              "ticks": ""
             }
            },
            "marker": {
             "colorbar": {
              "outlinewidth": 0,
              "ticks": ""
             }
            },
            "type": "scatter3d"
           }
          ],
          "scattercarpet": [
           {
            "marker": {
             "colorbar": {
              "outlinewidth": 0,
              "ticks": ""
             }
            },
            "type": "scattercarpet"
           }
          ],
          "scattergeo": [
           {
            "marker": {
             "colorbar": {
              "outlinewidth": 0,
              "ticks": ""
             }
            },
            "type": "scattergeo"
           }
          ],
          "scattergl": [
           {
            "marker": {
             "colorbar": {
              "outlinewidth": 0,
              "ticks": ""
             }
            },
            "type": "scattergl"
           }
          ],
          "scattermapbox": [
           {
            "marker": {
             "colorbar": {
              "outlinewidth": 0,
              "ticks": ""
             }
            },
            "type": "scattermapbox"
           }
          ],
          "scatterpolar": [
           {
            "marker": {
             "colorbar": {
              "outlinewidth": 0,
              "ticks": ""
             }
            },
            "type": "scatterpolar"
           }
          ],
          "scatterpolargl": [
           {
            "marker": {
             "colorbar": {
              "outlinewidth": 0,
              "ticks": ""
             }
            },
            "type": "scatterpolargl"
           }
          ],
          "scatterternary": [
           {
            "marker": {
             "colorbar": {
              "outlinewidth": 0,
              "ticks": ""
             }
            },
            "type": "scatterternary"
           }
          ],
          "surface": [
           {
            "colorbar": {
             "outlinewidth": 0,
             "ticks": ""
            },
            "colorscale": [
             [
              0,
              "#0d0887"
             ],
             [
              0.1111111111111111,
              "#46039f"
             ],
             [
              0.2222222222222222,
              "#7201a8"
             ],
             [
              0.3333333333333333,
              "#9c179e"
             ],
             [
              0.4444444444444444,
              "#bd3786"
             ],
             [
              0.5555555555555556,
              "#d8576b"
             ],
             [
              0.6666666666666666,
              "#ed7953"
             ],
             [
              0.7777777777777778,
              "#fb9f3a"
             ],
             [
              0.8888888888888888,
              "#fdca26"
             ],
             [
              1,
              "#f0f921"
             ]
            ],
            "type": "surface"
           }
          ],
          "table": [
           {
            "cells": {
             "fill": {
              "color": "#EBF0F8"
             },
             "line": {
              "color": "white"
             }
            },
            "header": {
             "fill": {
              "color": "#C8D4E3"
             },
             "line": {
              "color": "white"
             }
            },
            "type": "table"
           }
          ]
         },
         "layout": {
          "annotationdefaults": {
           "arrowcolor": "#2a3f5f",
           "arrowhead": 0,
           "arrowwidth": 1
          },
          "autotypenumbers": "strict",
          "coloraxis": {
           "colorbar": {
            "outlinewidth": 0,
            "ticks": ""
           }
          },
          "colorscale": {
           "diverging": [
            [
             0,
             "#8e0152"
            ],
            [
             0.1,
             "#c51b7d"
            ],
            [
             0.2,
             "#de77ae"
            ],
            [
             0.3,
             "#f1b6da"
            ],
            [
             0.4,
             "#fde0ef"
            ],
            [
             0.5,
             "#f7f7f7"
            ],
            [
             0.6,
             "#e6f5d0"
            ],
            [
             0.7,
             "#b8e186"
            ],
            [
             0.8,
             "#7fbc41"
            ],
            [
             0.9,
             "#4d9221"
            ],
            [
             1,
             "#276419"
            ]
           ],
           "sequential": [
            [
             0,
             "#0d0887"
            ],
            [
             0.1111111111111111,
             "#46039f"
            ],
            [
             0.2222222222222222,
             "#7201a8"
            ],
            [
             0.3333333333333333,
             "#9c179e"
            ],
            [
             0.4444444444444444,
             "#bd3786"
            ],
            [
             0.5555555555555556,
             "#d8576b"
            ],
            [
             0.6666666666666666,
             "#ed7953"
            ],
            [
             0.7777777777777778,
             "#fb9f3a"
            ],
            [
             0.8888888888888888,
             "#fdca26"
            ],
            [
             1,
             "#f0f921"
            ]
           ],
           "sequentialminus": [
            [
             0,
             "#0d0887"
            ],
            [
             0.1111111111111111,
             "#46039f"
            ],
            [
             0.2222222222222222,
             "#7201a8"
            ],
            [
             0.3333333333333333,
             "#9c179e"
            ],
            [
             0.4444444444444444,
             "#bd3786"
            ],
            [
             0.5555555555555556,
             "#d8576b"
            ],
            [
             0.6666666666666666,
             "#ed7953"
            ],
            [
             0.7777777777777778,
             "#fb9f3a"
            ],
            [
             0.8888888888888888,
             "#fdca26"
            ],
            [
             1,
             "#f0f921"
            ]
           ]
          },
          "colorway": [
           "#636efa",
           "#EF553B",
           "#00cc96",
           "#ab63fa",
           "#FFA15A",
           "#19d3f3",
           "#FF6692",
           "#B6E880",
           "#FF97FF",
           "#FECB52"
          ],
          "font": {
           "color": "#2a3f5f"
          },
          "geo": {
           "bgcolor": "white",
           "lakecolor": "white",
           "landcolor": "#E5ECF6",
           "showlakes": true,
           "showland": true,
           "subunitcolor": "white"
          },
          "hoverlabel": {
           "align": "left"
          },
          "hovermode": "closest",
          "mapbox": {
           "style": "light"
          },
          "paper_bgcolor": "white",
          "plot_bgcolor": "#E5ECF6",
          "polar": {
           "angularaxis": {
            "gridcolor": "white",
            "linecolor": "white",
            "ticks": ""
           },
           "bgcolor": "#E5ECF6",
           "radialaxis": {
            "gridcolor": "white",
            "linecolor": "white",
            "ticks": ""
           }
          },
          "scene": {
           "xaxis": {
            "backgroundcolor": "#E5ECF6",
            "gridcolor": "white",
            "gridwidth": 2,
            "linecolor": "white",
            "showbackground": true,
            "ticks": "",
            "zerolinecolor": "white"
           },
           "yaxis": {
            "backgroundcolor": "#E5ECF6",
            "gridcolor": "white",
            "gridwidth": 2,
            "linecolor": "white",
            "showbackground": true,
            "ticks": "",
            "zerolinecolor": "white"
           },
           "zaxis": {
            "backgroundcolor": "#E5ECF6",
            "gridcolor": "white",
            "gridwidth": 2,
            "linecolor": "white",
            "showbackground": true,
            "ticks": "",
            "zerolinecolor": "white"
           }
          },
          "shapedefaults": {
           "line": {
            "color": "#2a3f5f"
           }
          },
          "ternary": {
           "aaxis": {
            "gridcolor": "white",
            "linecolor": "white",
            "ticks": ""
           },
           "baxis": {
            "gridcolor": "white",
            "linecolor": "white",
            "ticks": ""
           },
           "bgcolor": "#E5ECF6",
           "caxis": {
            "gridcolor": "white",
            "linecolor": "white",
            "ticks": ""
           }
          },
          "title": {
           "x": 0.05
          },
          "xaxis": {
           "automargin": true,
           "gridcolor": "white",
           "linecolor": "white",
           "ticks": "",
           "title": {
            "standoff": 15
           },
           "zerolinecolor": "white",
           "zerolinewidth": 2
          },
          "yaxis": {
           "automargin": true,
           "gridcolor": "white",
           "linecolor": "white",
           "ticks": "",
           "title": {
            "standoff": 15
           },
           "zerolinecolor": "white",
           "zerolinewidth": 2
          }
         }
        },
        "title": {
         "text": "Distribución de variables:"
        },
        "width": 900,
        "xaxis": {
         "anchor": "y",
         "domain": [
          0,
          0.2888888888888889
         ]
        },
        "xaxis2": {
         "anchor": "y2",
         "domain": [
          0.35555555555555557,
          0.6444444444444445
         ]
        },
        "xaxis3": {
         "anchor": "y3",
         "domain": [
          0.7111111111111111,
          1
         ]
        },
        "yaxis": {
         "anchor": "x",
         "domain": [
          0,
          1
         ]
        },
        "yaxis2": {
         "anchor": "x2",
         "domain": [
          0,
          1
         ]
        },
        "yaxis3": {
         "anchor": "x3",
         "domain": [
          0,
          1
         ]
        }
       }
      }
     },
     "metadata": {},
     "output_type": "display_data"
    }
   ],
   "source": [
    "cols = ['duration_ms', 'loudness', 'tempo']\n",
    "\n",
    "fig = make_subplots(rows=1, cols=3, subplot_titles=cols)\n",
    "\n",
    "for i, col in enumerate(cols):\n",
    "    fig.add_trace(go.Box(y=focus_df[col], name=col), row=1, col=i+1)\n",
    "\n",
    "fig.update_layout(\n",
    "    title=\"Distribución de variables:\",\n",
    "    height=400,\n",
    "    width=900\n",
    ")\n",
    "\n",
    "fig.show()"
   ]
  },
  {
   "cell_type": "code",
   "execution_count": 44,
   "metadata": {},
   "outputs": [
    {
     "name": "stdout",
     "output_type": "stream",
     "text": [
      "La variable duration_ms tiene 1 valores outliers\n",
      "La variable loudness tiene 3 valores outliers\n",
      "La variable tempo tiene 0 valores outliers\n"
     ]
    }
   ],
   "source": [
    "# Para ver la cantidad de outliers que hay en nuestro dataset\n",
    "cols = ['duration_ms', 'loudness', 'tempo']\n",
    "def outliers1 (df):\n",
    "    for col in cols:\n",
    "        Q1 = df[col].quantile(0.25)\n",
    "        Q3 = df[col].quantile(0.75)\n",
    "        IQR = Q3 - Q1\n",
    "        outlierIzq = Q1-(1.5*IQR)\n",
    "        outlierDer = Q3+(1.5*IQR)\n",
    "        outliers = df[col][(df[col] < outlierIzq) | (df[col] > outlierDer)]\n",
    "        print(\"La variable \" + col + \" tiene \" + str(len(outliers)) + \" valores outliers\")\n",
    "\n",
    "    \n",
    "outliers1(focus_df)"
   ]
  },
  {
   "cell_type": "code",
   "execution_count": 45,
   "metadata": {},
   "outputs": [
    {
     "data": {
      "text/html": [
       "<div>\n",
       "<style scoped>\n",
       "    .dataframe tbody tr th:only-of-type {\n",
       "        vertical-align: middle;\n",
       "    }\n",
       "\n",
       "    .dataframe tbody tr th {\n",
       "        vertical-align: top;\n",
       "    }\n",
       "\n",
       "    .dataframe thead th {\n",
       "        text-align: right;\n",
       "    }\n",
       "</style>\n",
       "<table border=\"1\" class=\"dataframe\">\n",
       "  <thead>\n",
       "    <tr style=\"text-align: right;\">\n",
       "      <th></th>\n",
       "      <th>duration_ms</th>\n",
       "      <th>loudness</th>\n",
       "      <th>tempo</th>\n",
       "    </tr>\n",
       "  </thead>\n",
       "  <tbody>\n",
       "    <tr>\n",
       "      <th>count</th>\n",
       "      <td>100.000000</td>\n",
       "      <td>100.000000</td>\n",
       "      <td>100.000000</td>\n",
       "    </tr>\n",
       "    <tr>\n",
       "      <th>mean</th>\n",
       "      <td>2.552085</td>\n",
       "      <td>-19.796350</td>\n",
       "      <td>93.831750</td>\n",
       "    </tr>\n",
       "    <tr>\n",
       "      <th>std</th>\n",
       "      <td>0.396267</td>\n",
       "      <td>2.843988</td>\n",
       "      <td>27.285173</td>\n",
       "    </tr>\n",
       "    <tr>\n",
       "      <th>min</th>\n",
       "      <td>1.719633</td>\n",
       "      <td>-27.838000</td>\n",
       "      <td>35.366000</td>\n",
       "    </tr>\n",
       "    <tr>\n",
       "      <th>25%</th>\n",
       "      <td>2.286917</td>\n",
       "      <td>-21.713750</td>\n",
       "      <td>73.962750</td>\n",
       "    </tr>\n",
       "    <tr>\n",
       "      <th>50%</th>\n",
       "      <td>2.521958</td>\n",
       "      <td>-19.919000</td>\n",
       "      <td>81.726500</td>\n",
       "    </tr>\n",
       "    <tr>\n",
       "      <th>75%</th>\n",
       "      <td>2.765713</td>\n",
       "      <td>-18.005000</td>\n",
       "      <td>116.294250</td>\n",
       "    </tr>\n",
       "    <tr>\n",
       "      <th>max</th>\n",
       "      <td>3.716533</td>\n",
       "      <td>-11.221000</td>\n",
       "      <td>149.941000</td>\n",
       "    </tr>\n",
       "  </tbody>\n",
       "</table>\n",
       "</div>"
      ],
      "text/plain": [
       "       duration_ms    loudness       tempo\n",
       "count   100.000000  100.000000  100.000000\n",
       "mean      2.552085  -19.796350   93.831750\n",
       "std       0.396267    2.843988   27.285173\n",
       "min       1.719633  -27.838000   35.366000\n",
       "25%       2.286917  -21.713750   73.962750\n",
       "50%       2.521958  -19.919000   81.726500\n",
       "75%       2.765713  -18.005000  116.294250\n",
       "max       3.716533  -11.221000  149.941000"
      ]
     },
     "execution_count": 45,
     "metadata": {},
     "output_type": "execute_result"
    }
   ],
   "source": [
    "focus_df[['duration_ms','loudness','tempo']].describe()"
   ]
  },
  {
   "cell_type": "markdown",
   "metadata": {},
   "source": [
    "Las canciones de la playlist que representa la alegría:  \n",
    "- **Duración**: Tienen una duración media de 3 min. Vemos que la mayoría de los datos se encuentran entre 3 y 4 min. No hay ouliers.\n",
    "- **Sonoridad**: De media las canciones tristes se encuentran en los -8 dB y hay ouliers están por debajo de los -14 dB.\n",
    "- **Tempo**: Las canciones tristes tienen de media 117 pulsaciones por minuto (Bps) y parece que no hay ouliers."
   ]
  },
  {
   "cell_type": "markdown",
   "metadata": {},
   "source": [
    "##### 5.2 Variables acotadas"
   ]
  },
  {
   "cell_type": "code",
   "execution_count": 46,
   "metadata": {},
   "outputs": [
    {
     "data": {
      "application/vnd.plotly.v1+json": {
       "config": {
        "plotlyServerURL": "https://plot.ly"
       },
       "data": [
        {
         "name": "popularity",
         "type": "histogram",
         "xaxis": "x",
         "y": [
          66,
          65,
          64,
          64,
          64,
          63,
          64,
          63,
          63,
          61,
          58,
          60,
          61,
          62,
          61,
          61,
          61,
          61,
          60,
          54,
          60,
          60,
          60,
          59,
          60,
          59,
          59,
          59,
          59,
          59,
          59,
          59,
          58,
          58,
          58,
          58,
          58,
          57,
          57,
          57,
          57,
          57,
          57,
          57,
          56,
          57,
          56,
          56,
          56,
          56,
          56,
          55,
          55,
          55,
          55,
          55,
          55,
          55,
          55,
          54,
          54,
          54,
          54,
          54,
          54,
          54,
          54,
          54,
          54,
          53,
          53,
          53,
          53,
          53,
          54,
          53,
          53,
          53,
          53,
          53,
          53,
          52,
          52,
          53,
          52,
          52,
          52,
          52,
          52,
          52,
          52,
          52,
          52,
          52,
          52,
          52,
          51,
          51,
          51,
          51
         ],
         "yaxis": "y"
        },
        {
         "name": "danceability",
         "type": "histogram",
         "xaxis": "x2",
         "y": [
          0.577,
          0.467,
          0.442,
          0.509,
          0.346,
          0.378,
          0.529,
          0.437,
          0.513,
          0.581,
          0.517,
          0.46,
          0.587,
          0.614,
          0.5,
          0.498,
          0.521,
          0.575,
          0.316,
          0.58,
          0.352,
          0.528,
          0.452,
          0.599,
          0.621,
          0.536,
          0.594,
          0.617,
          0.653,
          0.542,
          0.591,
          0.605,
          0.392,
          0.646,
          0.551,
          0.665,
          0.476,
          0.525,
          0.544,
          0.756,
          0.413,
          0.586,
          0.595,
          0.555,
          0.465,
          0.616,
          0.406,
          0.489,
          0.546,
          0.321,
          0.317,
          0.577,
          0.508,
          0.469,
          0.492,
          0.55,
          0.463,
          0.476,
          0.388,
          0.526,
          0.493,
          0.604,
          0.297,
          0.302,
          0.499,
          0.482,
          0.496,
          0.559,
          0.454,
          0.668,
          0.548,
          0.454,
          0.296,
          0.378,
          0.448,
          0.665,
          0.394,
          0.552,
          0.634,
          0.632,
          0.354,
          0.699,
          0.6,
          0.255,
          0.607,
          0.421,
          0.484,
          0.611,
          0.243,
          0.597,
          0.426,
          0.516,
          0.534,
          0.311,
          0.584,
          0.461,
          0.597,
          0.389,
          0.487,
          0.348
         ],
         "yaxis": "y2"
        },
        {
         "name": "energy",
         "type": "histogram",
         "xaxis": "x3",
         "y": [
          0.0721,
          0.243,
          0.112,
          0.212,
          0.0513,
          0.0973,
          0.214,
          0.189,
          0.0646,
          0.083,
          0.0377,
          0.188,
          0.101,
          0.109,
          0.0744,
          0.119,
          0.119,
          0.0605,
          0.0899,
          0.0541,
          0.074,
          0.103,
          0.0314,
          0.209,
          0.136,
          0.189,
          0.0979,
          0.127,
          0.134,
          0.106,
          0.0949,
          0.055,
          0.194,
          0.153,
          0.128,
          0.0654,
          0.064,
          0.0856,
          0.224,
          0.0881,
          0.0324,
          0.0459,
          0.13,
          0.0712,
          0.0375,
          0.171,
          0.103,
          0.185,
          0.132,
          0.113,
          0.0992,
          0.0406,
          0.209,
          0.0737,
          0.038,
          0.0907,
          0.114,
          0.104,
          0.0247,
          0.0732,
          0.217,
          0.216,
          0.0991,
          0.127,
          0.218,
          0.0432,
          0.134,
          0.176,
          0.0699,
          0.122,
          0.0525,
          0.119,
          0.0604,
          0.0684,
          0.0722,
          0.12,
          0.0985,
          0.109,
          0.306,
          0.0535,
          0.129,
          0.0356,
          0.0793,
          0.00954,
          0.124,
          0.059,
          0.316,
          0.0622,
          0.0727,
          0.115,
          0.101,
          0.108,
          0.0458,
          0.0541,
          0.0374,
          0.0611,
          0.127,
          0.181,
          0.143,
          0.0549
         ],
         "yaxis": "y3"
        },
        {
         "name": "valence",
         "type": "histogram",
         "xaxis": "x4",
         "y": [
          0.242,
          0.0541,
          0.111,
          0.0711,
          0.058,
          0.0564,
          0.0903,
          0.13,
          0.135,
          0.157,
          0.0699,
          0.075,
          0.167,
          0.158,
          0.0828,
          0.0532,
          0.163,
          0.267,
          0.0903,
          0.208,
          0.116,
          0.0896,
          0.0507,
          0.125,
          0.131,
          0.122,
          0.191,
          0.198,
          0.0937,
          0.141,
          0.146,
          0.139,
          0.179,
          0.124,
          0.0828,
          0.299,
          0.146,
          0.121,
          0.0998,
          0.165,
          0.0727,
          0.0674,
          0.181,
          0.251,
          0.0796,
          0.213,
          0.182,
          0.135,
          0.15,
          0.152,
          0.15,
          0.297,
          0.112,
          0.204,
          0.265,
          0.135,
          0.0681,
          0.0386,
          0.336,
          0.131,
          0.134,
          0.0708,
          0.171,
          0.137,
          0.172,
          0.0775,
          0.0537,
          0.0473,
          0.0858,
          0.433,
          0.135,
          0.104,
          0.15,
          0.134,
          0.22,
          0.147,
          0.105,
          0.0847,
          0.279,
          0.189,
          0.0762,
          0.326,
          0.116,
          0.225,
          0.0805,
          0.158,
          0.0385,
          0.0602,
          0.151,
          0.13,
          0.0626,
          0.116,
          0.0405,
          0.281,
          0.173,
          0.133,
          0.135,
          0.111,
          0.16,
          0.237
         ],
         "yaxis": "y4"
        },
        {
         "name": "speechiness",
         "type": "histogram",
         "xaxis": "x5",
         "y": [
          0.0317,
          0.0332,
          0.0415,
          0.0305,
          0.0432,
          0.0418,
          0.0315,
          0.0287,
          0.0352,
          0.0348,
          0.034,
          0.0333,
          0.035,
          0.0471,
          0.0381,
          0.0286,
          0.0364,
          0.0644,
          0.0458,
          0.0312,
          0.0303,
          0.0324,
          0.0399,
          0.0374,
          0.0396,
          0.0394,
          0.0379,
          0.0386,
          0.062,
          0.0389,
          0.0462,
          0.0313,
          0.034,
          0.0362,
          0.0316,
          0.0466,
          0.0411,
          0.0395,
          0.0422,
          0.0501,
          0.0273,
          0.0311,
          0.034,
          0.0373,
          0.0352,
          0.0405,
          0.0408,
          0.0282,
          0.0344,
          0.0376,
          0.0301,
          0.0482,
          0.0288,
          0.0413,
          0.0378,
          0.0348,
          0.0297,
          0.0296,
          0.042,
          0.034,
          0.0288,
          0.0412,
          0.0393,
          0.0386,
          0.037,
          0.0316,
          0.0293,
          0.0325,
          0.0516,
          0.0539,
          0.0472,
          0.0305,
          0.0393,
          0.0413,
          0.0409,
          0.0358,
          0.0338,
          0.0326,
          0.0353,
          0.0378,
          0.0356,
          0.0432,
          0.0372,
          0.04,
          0.0329,
          0.0384,
          0.0367,
          0.0379,
          0.0297,
          0.0373,
          0.0367,
          0.042,
          0.0372,
          0.0486,
          0.0418,
          0.044,
          0.037,
          0.0297,
          0.04,
          0.0358
         ],
         "yaxis": "y5"
        },
        {
         "name": "instrumentalness",
         "type": "histogram",
         "xaxis": "x6",
         "y": [
          0.898,
          0.947,
          0.919,
          0.853,
          0.895,
          0.94,
          0.907,
          0.718,
          0.828,
          0.965,
          0.894,
          0.817,
          0.915,
          0.905,
          0.93,
          0.942,
          0.878,
          0.924,
          0.845,
          0.896,
          0.879,
          0.868,
          0.918,
          0.843,
          0.906,
          0.897,
          0.931,
          0.707,
          0.876,
          0.947,
          0.902,
          0.907,
          0.91,
          0.821,
          0.937,
          0.901,
          0.872,
          0.865,
          0.95,
          0.911,
          0.855,
          0.936,
          0.868,
          0.738,
          0.853,
          0.929,
          0.9,
          0.893,
          0.903,
          0.924,
          0.863,
          0.873,
          0.882,
          0.922,
          0.897,
          0.928,
          0.88,
          0.894,
          0.911,
          0.869,
          0.777,
          0.863,
          0.897,
          0.91,
          0.903,
          0.856,
          0.936,
          0.856,
          0.889,
          0.473,
          0.672,
          0.905,
          0.896,
          0.915,
          0.724,
          0.899,
          0.875,
          0.944,
          0.949,
          0.909,
          0.921,
          0.925,
          0.929,
          0.806,
          0.839,
          0.888,
          0.885,
          0.928,
          0.874,
          0.923,
          0.943,
          0.907,
          0.941,
          0.926,
          0.884,
          0.93,
          0.929,
          0.905,
          0.904,
          0.92
         ],
         "yaxis": "y6"
        }
       ],
       "layout": {
        "annotations": [
         {
          "font": {
           "size": 16
          },
          "showarrow": false,
          "text": "popularity",
          "x": 0.14444444444444446,
          "xanchor": "center",
          "xref": "paper",
          "y": 1,
          "yanchor": "bottom",
          "yref": "paper"
         },
         {
          "font": {
           "size": 16
          },
          "showarrow": false,
          "text": "danceability",
          "x": 0.5,
          "xanchor": "center",
          "xref": "paper",
          "y": 1,
          "yanchor": "bottom",
          "yref": "paper"
         },
         {
          "font": {
           "size": 16
          },
          "showarrow": false,
          "text": "energy",
          "x": 0.8555555555555556,
          "xanchor": "center",
          "xref": "paper",
          "y": 1,
          "yanchor": "bottom",
          "yref": "paper"
         },
         {
          "font": {
           "size": 16
          },
          "showarrow": false,
          "text": "valence",
          "x": 0.14444444444444446,
          "xanchor": "center",
          "xref": "paper",
          "y": 0.375,
          "yanchor": "bottom",
          "yref": "paper"
         },
         {
          "font": {
           "size": 16
          },
          "showarrow": false,
          "text": "speechiness",
          "x": 0.5,
          "xanchor": "center",
          "xref": "paper",
          "y": 0.375,
          "yanchor": "bottom",
          "yref": "paper"
         },
         {
          "font": {
           "size": 16
          },
          "showarrow": false,
          "text": "instrumentalness",
          "x": 0.8555555555555556,
          "xanchor": "center",
          "xref": "paper",
          "y": 0.375,
          "yanchor": "bottom",
          "yref": "paper"
         }
        ],
        "height": 600,
        "template": {
         "data": {
          "bar": [
           {
            "error_x": {
             "color": "#2a3f5f"
            },
            "error_y": {
             "color": "#2a3f5f"
            },
            "marker": {
             "line": {
              "color": "#E5ECF6",
              "width": 0.5
             },
             "pattern": {
              "fillmode": "overlay",
              "size": 10,
              "solidity": 0.2
             }
            },
            "type": "bar"
           }
          ],
          "barpolar": [
           {
            "marker": {
             "line": {
              "color": "#E5ECF6",
              "width": 0.5
             },
             "pattern": {
              "fillmode": "overlay",
              "size": 10,
              "solidity": 0.2
             }
            },
            "type": "barpolar"
           }
          ],
          "carpet": [
           {
            "aaxis": {
             "endlinecolor": "#2a3f5f",
             "gridcolor": "white",
             "linecolor": "white",
             "minorgridcolor": "white",
             "startlinecolor": "#2a3f5f"
            },
            "baxis": {
             "endlinecolor": "#2a3f5f",
             "gridcolor": "white",
             "linecolor": "white",
             "minorgridcolor": "white",
             "startlinecolor": "#2a3f5f"
            },
            "type": "carpet"
           }
          ],
          "choropleth": [
           {
            "colorbar": {
             "outlinewidth": 0,
             "ticks": ""
            },
            "type": "choropleth"
           }
          ],
          "contour": [
           {
            "colorbar": {
             "outlinewidth": 0,
             "ticks": ""
            },
            "colorscale": [
             [
              0,
              "#0d0887"
             ],
             [
              0.1111111111111111,
              "#46039f"
             ],
             [
              0.2222222222222222,
              "#7201a8"
             ],
             [
              0.3333333333333333,
              "#9c179e"
             ],
             [
              0.4444444444444444,
              "#bd3786"
             ],
             [
              0.5555555555555556,
              "#d8576b"
             ],
             [
              0.6666666666666666,
              "#ed7953"
             ],
             [
              0.7777777777777778,
              "#fb9f3a"
             ],
             [
              0.8888888888888888,
              "#fdca26"
             ],
             [
              1,
              "#f0f921"
             ]
            ],
            "type": "contour"
           }
          ],
          "contourcarpet": [
           {
            "colorbar": {
             "outlinewidth": 0,
             "ticks": ""
            },
            "type": "contourcarpet"
           }
          ],
          "heatmap": [
           {
            "colorbar": {
             "outlinewidth": 0,
             "ticks": ""
            },
            "colorscale": [
             [
              0,
              "#0d0887"
             ],
             [
              0.1111111111111111,
              "#46039f"
             ],
             [
              0.2222222222222222,
              "#7201a8"
             ],
             [
              0.3333333333333333,
              "#9c179e"
             ],
             [
              0.4444444444444444,
              "#bd3786"
             ],
             [
              0.5555555555555556,
              "#d8576b"
             ],
             [
              0.6666666666666666,
              "#ed7953"
             ],
             [
              0.7777777777777778,
              "#fb9f3a"
             ],
             [
              0.8888888888888888,
              "#fdca26"
             ],
             [
              1,
              "#f0f921"
             ]
            ],
            "type": "heatmap"
           }
          ],
          "heatmapgl": [
           {
            "colorbar": {
             "outlinewidth": 0,
             "ticks": ""
            },
            "colorscale": [
             [
              0,
              "#0d0887"
             ],
             [
              0.1111111111111111,
              "#46039f"
             ],
             [
              0.2222222222222222,
              "#7201a8"
             ],
             [
              0.3333333333333333,
              "#9c179e"
             ],
             [
              0.4444444444444444,
              "#bd3786"
             ],
             [
              0.5555555555555556,
              "#d8576b"
             ],
             [
              0.6666666666666666,
              "#ed7953"
             ],
             [
              0.7777777777777778,
              "#fb9f3a"
             ],
             [
              0.8888888888888888,
              "#fdca26"
             ],
             [
              1,
              "#f0f921"
             ]
            ],
            "type": "heatmapgl"
           }
          ],
          "histogram": [
           {
            "marker": {
             "pattern": {
              "fillmode": "overlay",
              "size": 10,
              "solidity": 0.2
             }
            },
            "type": "histogram"
           }
          ],
          "histogram2d": [
           {
            "colorbar": {
             "outlinewidth": 0,
             "ticks": ""
            },
            "colorscale": [
             [
              0,
              "#0d0887"
             ],
             [
              0.1111111111111111,
              "#46039f"
             ],
             [
              0.2222222222222222,
              "#7201a8"
             ],
             [
              0.3333333333333333,
              "#9c179e"
             ],
             [
              0.4444444444444444,
              "#bd3786"
             ],
             [
              0.5555555555555556,
              "#d8576b"
             ],
             [
              0.6666666666666666,
              "#ed7953"
             ],
             [
              0.7777777777777778,
              "#fb9f3a"
             ],
             [
              0.8888888888888888,
              "#fdca26"
             ],
             [
              1,
              "#f0f921"
             ]
            ],
            "type": "histogram2d"
           }
          ],
          "histogram2dcontour": [
           {
            "colorbar": {
             "outlinewidth": 0,
             "ticks": ""
            },
            "colorscale": [
             [
              0,
              "#0d0887"
             ],
             [
              0.1111111111111111,
              "#46039f"
             ],
             [
              0.2222222222222222,
              "#7201a8"
             ],
             [
              0.3333333333333333,
              "#9c179e"
             ],
             [
              0.4444444444444444,
              "#bd3786"
             ],
             [
              0.5555555555555556,
              "#d8576b"
             ],
             [
              0.6666666666666666,
              "#ed7953"
             ],
             [
              0.7777777777777778,
              "#fb9f3a"
             ],
             [
              0.8888888888888888,
              "#fdca26"
             ],
             [
              1,
              "#f0f921"
             ]
            ],
            "type": "histogram2dcontour"
           }
          ],
          "mesh3d": [
           {
            "colorbar": {
             "outlinewidth": 0,
             "ticks": ""
            },
            "type": "mesh3d"
           }
          ],
          "parcoords": [
           {
            "line": {
             "colorbar": {
              "outlinewidth": 0,
              "ticks": ""
             }
            },
            "type": "parcoords"
           }
          ],
          "pie": [
           {
            "automargin": true,
            "type": "pie"
           }
          ],
          "scatter": [
           {
            "fillpattern": {
             "fillmode": "overlay",
             "size": 10,
             "solidity": 0.2
            },
            "type": "scatter"
           }
          ],
          "scatter3d": [
           {
            "line": {
             "colorbar": {
              "outlinewidth": 0,
              "ticks": ""
             }
            },
            "marker": {
             "colorbar": {
              "outlinewidth": 0,
              "ticks": ""
             }
            },
            "type": "scatter3d"
           }
          ],
          "scattercarpet": [
           {
            "marker": {
             "colorbar": {
              "outlinewidth": 0,
              "ticks": ""
             }
            },
            "type": "scattercarpet"
           }
          ],
          "scattergeo": [
           {
            "marker": {
             "colorbar": {
              "outlinewidth": 0,
              "ticks": ""
             }
            },
            "type": "scattergeo"
           }
          ],
          "scattergl": [
           {
            "marker": {
             "colorbar": {
              "outlinewidth": 0,
              "ticks": ""
             }
            },
            "type": "scattergl"
           }
          ],
          "scattermapbox": [
           {
            "marker": {
             "colorbar": {
              "outlinewidth": 0,
              "ticks": ""
             }
            },
            "type": "scattermapbox"
           }
          ],
          "scatterpolar": [
           {
            "marker": {
             "colorbar": {
              "outlinewidth": 0,
              "ticks": ""
             }
            },
            "type": "scatterpolar"
           }
          ],
          "scatterpolargl": [
           {
            "marker": {
             "colorbar": {
              "outlinewidth": 0,
              "ticks": ""
             }
            },
            "type": "scatterpolargl"
           }
          ],
          "scatterternary": [
           {
            "marker": {
             "colorbar": {
              "outlinewidth": 0,
              "ticks": ""
             }
            },
            "type": "scatterternary"
           }
          ],
          "surface": [
           {
            "colorbar": {
             "outlinewidth": 0,
             "ticks": ""
            },
            "colorscale": [
             [
              0,
              "#0d0887"
             ],
             [
              0.1111111111111111,
              "#46039f"
             ],
             [
              0.2222222222222222,
              "#7201a8"
             ],
             [
              0.3333333333333333,
              "#9c179e"
             ],
             [
              0.4444444444444444,
              "#bd3786"
             ],
             [
              0.5555555555555556,
              "#d8576b"
             ],
             [
              0.6666666666666666,
              "#ed7953"
             ],
             [
              0.7777777777777778,
              "#fb9f3a"
             ],
             [
              0.8888888888888888,
              "#fdca26"
             ],
             [
              1,
              "#f0f921"
             ]
            ],
            "type": "surface"
           }
          ],
          "table": [
           {
            "cells": {
             "fill": {
              "color": "#EBF0F8"
             },
             "line": {
              "color": "white"
             }
            },
            "header": {
             "fill": {
              "color": "#C8D4E3"
             },
             "line": {
              "color": "white"
             }
            },
            "type": "table"
           }
          ]
         },
         "layout": {
          "annotationdefaults": {
           "arrowcolor": "#2a3f5f",
           "arrowhead": 0,
           "arrowwidth": 1
          },
          "autotypenumbers": "strict",
          "coloraxis": {
           "colorbar": {
            "outlinewidth": 0,
            "ticks": ""
           }
          },
          "colorscale": {
           "diverging": [
            [
             0,
             "#8e0152"
            ],
            [
             0.1,
             "#c51b7d"
            ],
            [
             0.2,
             "#de77ae"
            ],
            [
             0.3,
             "#f1b6da"
            ],
            [
             0.4,
             "#fde0ef"
            ],
            [
             0.5,
             "#f7f7f7"
            ],
            [
             0.6,
             "#e6f5d0"
            ],
            [
             0.7,
             "#b8e186"
            ],
            [
             0.8,
             "#7fbc41"
            ],
            [
             0.9,
             "#4d9221"
            ],
            [
             1,
             "#276419"
            ]
           ],
           "sequential": [
            [
             0,
             "#0d0887"
            ],
            [
             0.1111111111111111,
             "#46039f"
            ],
            [
             0.2222222222222222,
             "#7201a8"
            ],
            [
             0.3333333333333333,
             "#9c179e"
            ],
            [
             0.4444444444444444,
             "#bd3786"
            ],
            [
             0.5555555555555556,
             "#d8576b"
            ],
            [
             0.6666666666666666,
             "#ed7953"
            ],
            [
             0.7777777777777778,
             "#fb9f3a"
            ],
            [
             0.8888888888888888,
             "#fdca26"
            ],
            [
             1,
             "#f0f921"
            ]
           ],
           "sequentialminus": [
            [
             0,
             "#0d0887"
            ],
            [
             0.1111111111111111,
             "#46039f"
            ],
            [
             0.2222222222222222,
             "#7201a8"
            ],
            [
             0.3333333333333333,
             "#9c179e"
            ],
            [
             0.4444444444444444,
             "#bd3786"
            ],
            [
             0.5555555555555556,
             "#d8576b"
            ],
            [
             0.6666666666666666,
             "#ed7953"
            ],
            [
             0.7777777777777778,
             "#fb9f3a"
            ],
            [
             0.8888888888888888,
             "#fdca26"
            ],
            [
             1,
             "#f0f921"
            ]
           ]
          },
          "colorway": [
           "#636efa",
           "#EF553B",
           "#00cc96",
           "#ab63fa",
           "#FFA15A",
           "#19d3f3",
           "#FF6692",
           "#B6E880",
           "#FF97FF",
           "#FECB52"
          ],
          "font": {
           "color": "#2a3f5f"
          },
          "geo": {
           "bgcolor": "white",
           "lakecolor": "white",
           "landcolor": "#E5ECF6",
           "showlakes": true,
           "showland": true,
           "subunitcolor": "white"
          },
          "hoverlabel": {
           "align": "left"
          },
          "hovermode": "closest",
          "mapbox": {
           "style": "light"
          },
          "paper_bgcolor": "white",
          "plot_bgcolor": "#E5ECF6",
          "polar": {
           "angularaxis": {
            "gridcolor": "white",
            "linecolor": "white",
            "ticks": ""
           },
           "bgcolor": "#E5ECF6",
           "radialaxis": {
            "gridcolor": "white",
            "linecolor": "white",
            "ticks": ""
           }
          },
          "scene": {
           "xaxis": {
            "backgroundcolor": "#E5ECF6",
            "gridcolor": "white",
            "gridwidth": 2,
            "linecolor": "white",
            "showbackground": true,
            "ticks": "",
            "zerolinecolor": "white"
           },
           "yaxis": {
            "backgroundcolor": "#E5ECF6",
            "gridcolor": "white",
            "gridwidth": 2,
            "linecolor": "white",
            "showbackground": true,
            "ticks": "",
            "zerolinecolor": "white"
           },
           "zaxis": {
            "backgroundcolor": "#E5ECF6",
            "gridcolor": "white",
            "gridwidth": 2,
            "linecolor": "white",
            "showbackground": true,
            "ticks": "",
            "zerolinecolor": "white"
           }
          },
          "shapedefaults": {
           "line": {
            "color": "#2a3f5f"
           }
          },
          "ternary": {
           "aaxis": {
            "gridcolor": "white",
            "linecolor": "white",
            "ticks": ""
           },
           "baxis": {
            "gridcolor": "white",
            "linecolor": "white",
            "ticks": ""
           },
           "bgcolor": "#E5ECF6",
           "caxis": {
            "gridcolor": "white",
            "linecolor": "white",
            "ticks": ""
           }
          },
          "title": {
           "x": 0.05
          },
          "xaxis": {
           "automargin": true,
           "gridcolor": "white",
           "linecolor": "white",
           "ticks": "",
           "title": {
            "standoff": 15
           },
           "zerolinecolor": "white",
           "zerolinewidth": 2
          },
          "yaxis": {
           "automargin": true,
           "gridcolor": "white",
           "linecolor": "white",
           "ticks": "",
           "title": {
            "standoff": 15
           },
           "zerolinecolor": "white",
           "zerolinewidth": 2
          }
         }
        },
        "title": {
         "text": "Histogramas:"
        },
        "width": 900,
        "xaxis": {
         "anchor": "y",
         "domain": [
          0,
          0.2888888888888889
         ]
        },
        "xaxis2": {
         "anchor": "y2",
         "domain": [
          0.35555555555555557,
          0.6444444444444445
         ]
        },
        "xaxis3": {
         "anchor": "y3",
         "domain": [
          0.7111111111111111,
          1
         ]
        },
        "xaxis4": {
         "anchor": "y4",
         "domain": [
          0,
          0.2888888888888889
         ]
        },
        "xaxis5": {
         "anchor": "y5",
         "domain": [
          0.35555555555555557,
          0.6444444444444445
         ]
        },
        "xaxis6": {
         "anchor": "y6",
         "domain": [
          0.7111111111111111,
          1
         ]
        },
        "yaxis": {
         "anchor": "x",
         "domain": [
          0.625,
          1
         ]
        },
        "yaxis2": {
         "anchor": "x2",
         "domain": [
          0.625,
          1
         ]
        },
        "yaxis3": {
         "anchor": "x3",
         "domain": [
          0.625,
          1
         ]
        },
        "yaxis4": {
         "anchor": "x4",
         "domain": [
          0,
          0.375
         ]
        },
        "yaxis5": {
         "anchor": "x5",
         "domain": [
          0,
          0.375
         ]
        },
        "yaxis6": {
         "anchor": "x6",
         "domain": [
          0,
          0.375
         ]
        }
       }
      }
     },
     "metadata": {},
     "output_type": "display_data"
    }
   ],
   "source": [
    "cols = ['popularity','danceability', 'energy','valence', 'speechiness','instrumentalness']\n",
    "\n",
    "fig = make_subplots(rows=2, cols=3, subplot_titles=cols)\n",
    "\n",
    "for i, col in enumerate(cols):\n",
    "    fig.add_trace(go.Histogram(y=focus_df[col], name=col), row=(i // 3) + 1, col=(i % 3) + 1)\n",
    "\n",
    "fig.update_layout(\n",
    "    title=\"Histogramas:\",\n",
    "    height=600,\n",
    "    width=900\n",
    ")\n",
    "\n",
    "fig.show()"
   ]
  },
  {
   "cell_type": "markdown",
   "metadata": {},
   "source": [
    "Vemos que las canciones alegres según la lista que ha generado Spotify:  \n",
    "- Por lo general son canciones bastante populares, un poquito menos que las felices (con un 74 sobre 100 de media).  \n",
    "- En cuanto a la bailabilidad la mayoría no son muy bailables, de media cuentan con un 0.5 de bailabilidad.  \n",
    "- No son canciones enérgicas.  \n",
    "- Respecto a la valencia son canciones con una valencia muy baja, por lo tanto, efectivamente son canciones tristes.\n",
    "- Son canciones que no son habladas o rapeadas.  \n",
    "- Por último, vemos que casi todas las canciones tienen voces, no son puramente instrumentales."
   ]
  },
  {
   "cell_type": "markdown",
   "metadata": {},
   "source": [
    "### Correlaciones"
   ]
  },
  {
   "cell_type": "markdown",
   "metadata": {},
   "source": [
    "#### Tratamiento de outliers o valores atípicos:"
   ]
  },
  {
   "cell_type": "markdown",
   "metadata": {},
   "source": [
    "Quitamos outliers de las playlist con los estados de ánimo mejor definidos (excluyendo fear porque era una playlist construida en base a los títulos de las canciones no al estilo musical):"
   ]
  },
  {
   "cell_type": "code",
   "execution_count": 47,
   "metadata": {},
   "outputs": [
    {
     "name": "stdout",
     "output_type": "stream",
     "text": [
      "<class 'pandas.core.frame.DataFrame'>\n",
      "RangeIndex: 465 entries, 0 to 464\n",
      "Data columns (total 17 columns):\n",
      " #   Column            Non-Null Count  Dtype  \n",
      "---  ------            --------------  -----  \n",
      " 0   Mood              465 non-null    object \n",
      " 1   song_name         465 non-null    object \n",
      " 2   artist_name       465 non-null    object \n",
      " 3   popularity        465 non-null    int64  \n",
      " 4   danceability      465 non-null    float64\n",
      " 5   energy            465 non-null    float64\n",
      " 6   key               465 non-null    int64  \n",
      " 7   loudness          465 non-null    float64\n",
      " 8   mode              465 non-null    int64  \n",
      " 9   speechiness       465 non-null    float64\n",
      " 10  acousticness      465 non-null    float64\n",
      " 11  instrumentalness  465 non-null    float64\n",
      " 12  liveness          465 non-null    float64\n",
      " 13  valence           465 non-null    float64\n",
      " 14  tempo             465 non-null    float64\n",
      " 15  duration_ms       465 non-null    int64  \n",
      " 16  song_uri          465 non-null    object \n",
      "dtypes: float64(9), int64(4), object(4)\n",
      "memory usage: 61.9+ KB\n"
     ]
    }
   ],
   "source": [
    "df.info()"
   ]
  },
  {
   "cell_type": "code",
   "execution_count": 49,
   "metadata": {},
   "outputs": [
    {
     "data": {
      "text/plain": [
       "'\\nOjo que nos reescribe los df y elimina datos, hacer copia de todos df antes de ejecutarlo!!!\\ndataframes = [happy_df, sad_df, anger_df, focus_df]\\ncols = [\\'danceability\\', \\'energy\\', \\'loudness\\', \\'instrumentalness\\', \\'valence\\']\\ntotal_valoreslej = 0\\n\\ndef val_lej(df):\\n    global total_valoreslej # para indicar que se está utilizando la variable global y se incrementa el contador de total_outliers\\n    for col in cols:\\n        Q1 = df[col].quantile(0.25)\\n        Q3 = df[col].quantile(0.75)\\n        IQR = Q3 - Q1\\n        Izq = Q1 - (3 * IQR)\\n        Der = Q3 + (3 * IQR)\\n        val_lej = df[(df[col] < Izq) | (df[col] > Der)]\\n        total_valoreslej += len(val_lej)\\n\\nal definir global total_outliers dentro de la función outliers(), \\nse le está diciendo a Python que la variable total_outliers que se utiliza en esa función es la misma \\nvariable global definida fuera de la función. De esta manera, cualquier modificación\\nque se haga a total_outliers dentro de la función se reflejará en su versión global\\n\\nfor df in dataframes:\\n    val_lej(df)\\n\\nprint(\"En total, hay\", total_valoreslej, \"valores atípicos en todos los DataFrames.\")'"
      ]
     },
     "execution_count": 49,
     "metadata": {},
     "output_type": "execute_result"
    }
   ],
   "source": [
    "'''\n",
    "Ojo que nos reescribe los df y elimina datos, hacer copia de todos df antes de ejecutarlo!!!\n",
    "dataframes = [happy_df, sad_df, anger_df, focus_df]\n",
    "cols = ['danceability', 'energy', 'loudness', 'instrumentalness', 'valence']\n",
    "total_valoreslej = 0\n",
    "\n",
    "def val_lej(df):\n",
    "    global total_valoreslej # para indicar que se está utilizando la variable global y se incrementa el contador de total_outliers\n",
    "    for col in cols:\n",
    "        Q1 = df[col].quantile(0.25)\n",
    "        Q3 = df[col].quantile(0.75)\n",
    "        IQR = Q3 - Q1\n",
    "        Izq = Q1 - (3 * IQR)\n",
    "        Der = Q3 + (3 * IQR)\n",
    "        val_lej = df[(df[col] < Izq) | (df[col] > Der)]\n",
    "        total_valoreslej += len(val_lej)\n",
    "\n",
    "al definir global total_outliers dentro de la función outliers(), \n",
    "se le está diciendo a Python que la variable total_outliers que se utiliza en esa función es la misma \n",
    "variable global definida fuera de la función. De esta manera, cualquier modificación\n",
    "que se haga a total_outliers dentro de la función se reflejará en su versión global\n",
    "\n",
    "for df in dataframes:\n",
    "    val_lej(df)\n",
    "\n",
    "print(\"En total, hay\", total_valoreslej, \"valores atípicos en todos los DataFrames.\")'''"
   ]
  },
  {
   "cell_type": "markdown",
   "metadata": {},
   "source": [
    "Sustituyendo outliers:"
   ]
  },
  {
   "cell_type": "code",
   "execution_count": null,
   "metadata": {},
   "outputs": [
    {
     "data": {
      "text/plain": [
       "'dataframes = [happy_df, sad_df, anger_df, focus_df]\\n\\ndef reemplazar_outliers_iqr(df, outliers_columns):\\n    \"\"\"\\n    Reemplaza los outliers en las columnas indicadas usando el método IQR.\\n    \"\"\"\\n    Q1 = df[outliers_columns].quantile(0.25)\\n    Q3 = df[outliers_columns].quantile(0.75)\\n    IQR = Q3 - Q1\\n    outlierIzq = Q1 - (1.5 * IQR)\\n    outlierDer = Q3 + (1.5 * IQR)\\n    df[outliers_columns] = np.where(df[outliers_columns] < outlierIzq, Q1, df[outliers_columns])\\n    df[outliers_columns] = np.where(df[outliers_columns] > outlierDer, Q3, df[outliers_columns])\\n        \\n    return df\\n\\ndataframes_limpios = []\\n\\n# Reemplazar outliers en cada DataFrame\\nfor df in dataframes:\\n    outliers_columns = df.select_dtypes(include=[np.number]).columns\\n    df_limpio = reemplazar_outliers_iqr(df, outliers_columns)\\n    dataframes_limpios.append(df_limpio)'"
      ]
     },
     "execution_count": 50,
     "metadata": {},
     "output_type": "execute_result"
    }
   ],
   "source": [
    "'''dataframes = [happy_df, sad_df, anger_df, focus_df]\n",
    "\n",
    "def reemplazar_outliers_iqr(df, outliers_columns):\n",
    "    \"\"\"\n",
    "    Reemplaza los outliers en las columnas indicadas usando el método IQR.\n",
    "    \"\"\"\n",
    "    Q1 = df[outliers_columns].quantile(0.25)\n",
    "    Q3 = df[outliers_columns].quantile(0.75)\n",
    "    IQR = Q3 - Q1\n",
    "    outlierIzq = Q1 - (1.5 * IQR)\n",
    "    outlierDer = Q3 + (1.5 * IQR)\n",
    "    df[outliers_columns] = np.where(df[outliers_columns] < outlierIzq, Q1, df[outliers_columns])\n",
    "    df[outliers_columns] = np.where(df[outliers_columns] > outlierDer, Q3, df[outliers_columns])\n",
    "        \n",
    "    return df\n",
    "\n",
    "dataframes_limpios = []\n",
    "\n",
    "# Reemplazar outliers en cada DataFrame\n",
    "for df in dataframes:\n",
    "    outliers_columns = df.select_dtypes(include=[np.number]).columns\n",
    "    df_limpio = reemplazar_outliers_iqr(df, outliers_columns)\n",
    "    dataframes_limpios.append(df_limpio)'''\n"
   ]
  },
  {
   "cell_type": "markdown",
   "metadata": {},
   "source": [
    "Eliminando outliers:"
   ]
  },
  {
   "cell_type": "markdown",
   "metadata": {},
   "source": [
    "Quitamos los valores muy lejanos (utilizando el valor 3 en lugar de 1,5 tal como propone Tukey en su libro \"Exploratory data analysis\") porque al eliminar los outliers nos devolvían pocos valores:"
   ]
  },
  {
   "cell_type": "code",
   "execution_count": null,
   "metadata": {},
   "outputs": [
    {
     "data": {
      "text/plain": [
       "\"\\nEjemplo de como hacerlo en un dataframe:\\n\\ncols = ['danceability', 'energy', 'instrumentalness', 'valence']\\ndataframes = [happy_df, sad_df, anger_df, focus_df]\\n\\ndataframes_limpios = []\\n\\n\\nfor col in cols:    \\n    Q1=happy_df[col].quantile(0.25)\\n    Q3=happy_df[col].quantile(0.75)\\n    happy_df=happy_df[(happy_df[col]<=Q3+3*(Q3-Q1))&(happy_df[col]>=Q1-3*(Q3-Q1))]\""
      ]
     },
     "execution_count": 51,
     "metadata": {},
     "output_type": "execute_result"
    }
   ],
   "source": [
    "'''\n",
    "Ejemplo de como hacerlo en un dataframe:\n",
    "\n",
    "cols = ['danceability', 'energy', 'instrumentalness', 'valence']\n",
    "dataframes = [happy_df, sad_df, anger_df, focus_df]\n",
    "\n",
    "dataframes_limpios = []\n",
    "\n",
    "\n",
    "for col in cols:    \n",
    "    Q1=happy_df[col].quantile(0.25)\n",
    "    Q3=happy_df[col].quantile(0.75)\n",
    "    happy_df=happy_df[(happy_df[col]<=Q3+3*(Q3-Q1))&(happy_df[col]>=Q1-3*(Q3-Q1))]'''"
   ]
  },
  {
   "cell_type": "code",
   "execution_count": 50,
   "metadata": {},
   "outputs": [
    {
     "name": "stdout",
     "output_type": "stream",
     "text": [
      "<class 'pandas.core.frame.DataFrame'>\n",
      "RangeIndex: 465 entries, 0 to 464\n",
      "Data columns (total 17 columns):\n",
      " #   Column            Non-Null Count  Dtype  \n",
      "---  ------            --------------  -----  \n",
      " 0   Mood              465 non-null    object \n",
      " 1   song_name         465 non-null    object \n",
      " 2   artist_name       465 non-null    object \n",
      " 3   popularity        465 non-null    int64  \n",
      " 4   danceability      465 non-null    float64\n",
      " 5   energy            465 non-null    float64\n",
      " 6   key               465 non-null    int64  \n",
      " 7   loudness          465 non-null    float64\n",
      " 8   mode              465 non-null    int64  \n",
      " 9   speechiness       465 non-null    float64\n",
      " 10  acousticness      465 non-null    float64\n",
      " 11  instrumentalness  465 non-null    float64\n",
      " 12  liveness          465 non-null    float64\n",
      " 13  valence           465 non-null    float64\n",
      " 14  tempo             465 non-null    float64\n",
      " 15  duration_ms       465 non-null    int64  \n",
      " 16  song_uri          465 non-null    object \n",
      "dtypes: float64(9), int64(4), object(4)\n",
      "memory usage: 61.9+ KB\n"
     ]
    }
   ],
   "source": [
    "df.info()"
   ]
  },
  {
   "cell_type": "code",
   "execution_count": null,
   "metadata": {},
   "outputs": [
    {
     "data": {
      "text/plain": [
       "'df_1 = df[[\\'Mood\\',\\'song_name\\',\\'artist_name\\',\\'danceability\\',\\'energy\\',\\'loudness\\',\\'instrumentalness\\',\\'valence\\',\\'song_uri\\']]\\n\\nhappy_df1 = df_1[df_1[\\'Mood\\'] == \\'Happy\\']\\nsad_df1 = df_1[df_1[\\'Mood\\'] == \\'Sad\\']\\nanger_df1 = df_1[df_1[\\'Mood\\'] == \\'Anger\\']\\nfocus_df1 = df_1[df_1[\\'Mood\\'] == \\'Focus\\']\\n\\ndataframes = [happy_df1, sad_df1, anger_df1, focus_df1]\\n\\ndef eliminar_outliers_iqr(df, outliers_columns):\\n    \"\"\"\\n    Elimina los outliers en las columnas indicadas usando el método IQR.\\n    \"\"\"\\n    Q1 = df[outliers_columns].quantile(0.25)\\n    Q3 = df[outliers_columns].quantile(0.75)\\n    IQR = Q3 - Q1\\n    outlierIzq = Q1 - (1.5 * IQR)\\n    outlierDer = Q3 + (1.5 * IQR)\\n    df_copy = df.copy()\\n    for columna in outliers_columns:\\n        df_copy = df_copy[(df_copy[columna] >= outlierIzq[columna]) & (df_copy[columna] <= outlierDer[columna])]\\n    return df_copy\\n\\ndataframes_limpios = []\\n\\n# Eliminar outliers en cada DataFrame\\nfor df in dataframes:\\n    outliers_columns = df.select_dtypes(include=[np.number]).columns\\n    df_limpio = eliminar_outliers_iqr(df, outliers_columns)\\n    dataframes_limpios.append(df_limpio)'"
      ]
     },
     "execution_count": 53,
     "metadata": {},
     "output_type": "execute_result"
    }
   ],
   "source": [
    "'''df_1 = df[['Mood','song_name','artist_name','danceability','energy','loudness','instrumentalness','valence','song_uri']]\n",
    "\n",
    "happy_df1 = df_1[df_1['Mood'] == 'Happy']\n",
    "sad_df1 = df_1[df_1['Mood'] == 'Sad']\n",
    "anger_df1 = df_1[df_1['Mood'] == 'Anger']\n",
    "focus_df1 = df_1[df_1['Mood'] == 'Focus']\n",
    "\n",
    "dataframes = [happy_df1, sad_df1, anger_df1, focus_df1]\n",
    "\n",
    "def eliminar_outliers_iqr(df, outliers_columns):\n",
    "    \"\"\"\n",
    "    Elimina los outliers en las columnas indicadas usando el método IQR.\n",
    "    \"\"\"\n",
    "    Q1 = df[outliers_columns].quantile(0.25)\n",
    "    Q3 = df[outliers_columns].quantile(0.75)\n",
    "    IQR = Q3 - Q1\n",
    "    outlierIzq = Q1 - (1.5 * IQR)\n",
    "    outlierDer = Q3 + (1.5 * IQR)\n",
    "    df_copy = df.copy()\n",
    "    for columna in outliers_columns:\n",
    "        df_copy = df_copy[(df_copy[columna] >= outlierIzq[columna]) & (df_copy[columna] <= outlierDer[columna])]\n",
    "    return df_copy\n",
    "\n",
    "dataframes_limpios = []\n",
    "\n",
    "# Eliminar outliers en cada DataFrame\n",
    "for df in dataframes:\n",
    "    outliers_columns = df.select_dtypes(include=[np.number]).columns\n",
    "    df_limpio = eliminar_outliers_iqr(df, outliers_columns)\n",
    "    dataframes_limpios.append(df_limpio)'''"
   ]
  },
  {
   "cell_type": "code",
   "execution_count": 51,
   "metadata": {},
   "outputs": [],
   "source": [
    "df_1 = df.copy()\n",
    "\n",
    "happy_df1 = df_1[df_1['Mood'] == 'Happy']\n",
    "sad_df1 = df_1[df_1['Mood'] == 'Sad']\n",
    "anger_df1 = df_1[df_1['Mood'] == 'Anger']\n",
    "focus_df1 = df_1[df_1['Mood'] == 'Focus']\n",
    "\n",
    "dataframes = [happy_df1, sad_df1, anger_df1, focus_df1]\n",
    "cols = ['danceability', 'energy', 'instrumentalness', 'valence'] # Las variables que afectan más al estado de ánimo\n",
    "\n",
    "def eliminar_valej_iqr(df, valej_columns):\n",
    "    \"\"\"\n",
    "    Elimina los valores lejanos en las columnas indicadas usando el método IQR.\n",
    "    \"\"\"\n",
    "    df_copy = df.copy()\n",
    "    for col in valej_columns:\n",
    "        Q1 = df_copy[col].quantile(0.25)\n",
    "        Q3 = df_copy[col].quantile(0.75)\n",
    "        IQR = Q3 - Q1\n",
    "        df_copy = df_copy[(df_copy[col] >= Q1 - (3 * IQR)) & (df_copy[col] <= Q3 + (3 * IQR))]\n",
    "    return df_copy\n",
    "\n",
    "dataframes_limpios = []\n",
    "\n",
    "# Eliminar outliers en cada DataFrame\n",
    "for df in dataframes:\n",
    "    valejanos_columns = df.select_dtypes(include=[np.number]).columns.intersection(cols)\n",
    "    df_limpio = eliminar_valej_iqr(df, valejanos_columns)\n",
    "    dataframes_limpios.append(df_limpio)"
   ]
  },
  {
   "cell_type": "code",
   "execution_count": 52,
   "metadata": {},
   "outputs": [],
   "source": [
    "df1 = pd.concat(dataframes_limpios, ignore_index=True)"
   ]
  },
  {
   "cell_type": "code",
   "execution_count": 53,
   "metadata": {},
   "outputs": [
    {
     "name": "stdout",
     "output_type": "stream",
     "text": [
      "<class 'pandas.core.frame.DataFrame'>\n",
      "RangeIndex: 311 entries, 0 to 310\n",
      "Data columns (total 17 columns):\n",
      " #   Column            Non-Null Count  Dtype  \n",
      "---  ------            --------------  -----  \n",
      " 0   Mood              311 non-null    object \n",
      " 1   song_name         311 non-null    object \n",
      " 2   artist_name       311 non-null    object \n",
      " 3   popularity        311 non-null    int64  \n",
      " 4   danceability      311 non-null    float64\n",
      " 5   energy            311 non-null    float64\n",
      " 6   key               311 non-null    int64  \n",
      " 7   loudness          311 non-null    float64\n",
      " 8   mode              311 non-null    int64  \n",
      " 9   speechiness       311 non-null    float64\n",
      " 10  acousticness      311 non-null    float64\n",
      " 11  instrumentalness  311 non-null    float64\n",
      " 12  liveness          311 non-null    float64\n",
      " 13  valence           311 non-null    float64\n",
      " 14  tempo             311 non-null    float64\n",
      " 15  duration_ms       311 non-null    int64  \n",
      " 16  song_uri          311 non-null    object \n",
      "dtypes: float64(9), int64(4), object(4)\n",
      "memory usage: 41.4+ KB\n"
     ]
    }
   ],
   "source": [
    "df1.info()"
   ]
  },
  {
   "cell_type": "markdown",
   "metadata": {},
   "source": [
    "Exportamos csv:"
   ]
  },
  {
   "cell_type": "code",
   "execution_count": 54,
   "metadata": {},
   "outputs": [],
   "source": [
    "'''df1.to_csv('no_lej_data.csv', index=False)'''"
   ]
  },
  {
   "cell_type": "markdown",
   "metadata": {},
   "source": [
    "#### Correlaciones:"
   ]
  },
  {
   "cell_type": "code",
   "execution_count": 55,
   "metadata": {},
   "outputs": [
    {
     "data": {
      "text/plain": [
       "Text(0.5, 1.0, 'Correlaciones')"
      ]
     },
     "execution_count": 55,
     "metadata": {},
     "output_type": "execute_result"
    },
    {
     "data": {
      "image/png": "[encoded data removed]",
      "text/plain": [
       "<Figure size 1000x800 with 2 Axes>"
      ]
     },
     "metadata": {},
     "output_type": "display_data"
    }
   ],
   "source": [
    "plt.figure(figsize=(10, 8))\n",
    "# define the mask to set the values in the upper triangle to True\n",
    "mask = np.triu(np.ones_like(df1.select_dtypes(include=[np.number]).corr(), dtype=bool))\n",
    "heatmap = sns.heatmap(df1.select_dtypes(include=[np.number]).corr(), mask=mask, vmin=-1, vmax=1, annot=True, cmap='PiYG')\n",
    "heatmap.set_title('Correlaciones', fontdict={'fontsize':18}, pad=16)"
   ]
  },
  {
   "cell_type": "markdown",
   "metadata": {},
   "source": [
    "https://medium.com/@szabo.bibor/how-to-create-a-seaborn-correlation-heatmap-in-python-834c0686b88e"
   ]
  },
  {
   "cell_type": "markdown",
   "metadata": {},
   "source": [
    "| Coeficiente de correlación | Correlación |\n",
    "|---|---|\n",
    "| 0.0- $\\pm$ 0.2 | Poca correlación |\n",
    "| $\\pm$ 0.2- $\\pm$ 0.4 | Correlación débil |\n",
    "| $\\pm$ 0.4- $\\pm$ 0.7 | Correlación clara |\n",
    "| $\\pm$ 0.7- $\\pm$ 0.9 | Fuerte correlación |\n",
    "| $\\pm$ 0.9- $\\pm$ 1.0 | Muy fuerte correlación |\n",
    "\n",
    "A continuación se van a mencionar las correlaciones más interesantes:  \n",
    "\n",
    "\n",
    "Correlaciones con **popularity o popularidad**:  \n",
    "- Existe <span style=\"color:green\">*correlación positiva*</span> con las variables: *'danceability'* y *'loudness'*. Cuanto más bailable o más sonora es una canción más popular es. También parece afectar positivamente la valencia y la energía.  \n",
    "- Existe <span style=\"color:red\">*correlación negativa*</span> con *'instrumentalness'*. Es decir, más popular es una canción si contiene voces.    \n",
    "\n",
    "\n",
    "Correlaciones con **danceability o bailabilidad**:  \n",
    "- Existe <span style=\"color:green\">*correlación positiva*</span> con *'energy'* y *'valence'*. Existe cierta correlación positiva también con *'loudness'*  \n",
    "- Existe <span style=\"color:red\">*correlación negativa*</span> con *'acousticness'*, cuanto más acústica menos bailable, tiene sentido.  \n",
    "\n",
    "\n",
    "Correlaciones con **energy o energía**:  \n",
    "- Existe una <span style=\"color:green\">*correlación **fuerte** positiva*</span> con las variables *'loudness'* y *'valence'*. También existe correlación con 'speechiness' y hay correlación débil con el tempo.  \n",
    "- Existe una <span style=\"color:red\">*correlación **muy fuerte** negativa*</span> con la variable *'acousticness'* y fuerte con *'instrumentalness'*.  \n",
    "\n",
    "\n",
    "Correlaciones con **key o la tonalidad**:  \n",
    "- Existe una correlación débil con el modo. Realmente una canción puede estar en B (Si) Minor como Mayor.\n",
    "\n",
    "\n",
    "Correlaciones con **loudness o sonoridad**:  \n",
    "- Existe <span style=\"color:green\">*correlación positiva*</span> con *'valence'*. También hay cierta correlación con 'speechiness'.    \n",
    "- Existe <span style=\"color:red\">*correlación **muy fuerte** negativa*</span> con *'instrumentalness'* y **fuerte** correlación con *'acousticness'*. También hay cierta correlación con 'speechiness'.  \n",
    "\n",
    "\n",
    "Correlaciones con **acousticness** e **instrumentalness**:  \n",
    "- Ambas tienen una <span style=\"color:red\">*correlación negativa*</span> con la variable valence, cuanto más altas sean estas variables, es decir, cuanto más acústicas o más instrumentales menos alegres son."
   ]
  },
  {
   "cell_type": "markdown",
   "metadata": {},
   "source": [
    "<span style=\"color:yellow\">***Centrándonos en la variable que nos indican como de alegres son las canciones, valence, quizás sea conveniente excluir en análisis posteriores aquellas variables no correlacionadas (<0,4) como son: popularity, key, mode y liveness.***</span> "
   ]
  },
  {
   "cell_type": "markdown",
   "metadata": {},
   "source": [
    "### Resumen distribuciones:"
   ]
  },
  {
   "cell_type": "code",
   "execution_count": 53,
   "metadata": {},
   "outputs": [
    {
     "data": {
      "application/vnd.plotly.v1+json": {
       "config": {
        "plotlyServerURL": "https://plot.ly"
       },
       "data": [
        {
         "box": {
          "visible": true
         },
         "meanline": {
          "visible": true
         },
         "name": "Happy",
         "type": "violin",
         "x": [
          "Happy",
          "Happy",
          "Happy",
          "Happy",
          "Happy",
          "Happy",
          "Happy",
          "Happy",
          "Happy",
          "Happy",
          "Happy",
          "Happy",
          "Happy",
          "Happy",
          "Happy",
          "Happy",
          "Happy",
          "Happy",
          "Happy",
          "Happy",
          "Happy",
          "Happy",
          "Happy",
          "Happy",
          "Happy",
          "Happy",
          "Happy",
          "Happy",
          "Happy",
          "Happy",
          "Happy",
          "Happy",
          "Happy",
          "Happy",
          "Happy",
          "Happy",
          "Happy",
          "Happy",
          "Happy",
          "Happy",
          "Happy",
          "Happy",
          "Happy",
          "Happy",
          "Happy",
          "Happy",
          "Happy",
          "Happy",
          "Happy",
          "Happy",
          "Happy",
          "Happy",
          "Happy",
          "Happy",
          "Happy",
          "Happy",
          "Happy",
          "Happy",
          "Happy",
          "Happy",
          "Happy",
          "Happy",
          "Happy",
          "Happy",
          "Happy",
          "Happy",
          "Happy",
          "Happy",
          "Happy",
          "Happy",
          "Happy",
          "Happy",
          "Happy",
          "Happy",
          "Happy",
          "Happy",
          "Happy",
          "Happy",
          "Happy",
          "Happy",
          "Happy",
          "Happy",
          "Happy",
          "Happy",
          "Happy",
          "Happy",
          "Happy",
          "Happy",
          "Happy",
          "Happy",
          "Happy",
          "Happy",
          "Happy",
          "Happy",
          "Happy",
          "Happy",
          "Happy",
          "Happy",
          "Happy",
          "Happy"
         ],
         "y": [
          0.304,
          0.825,
          0.775,
          0.334,
          0.557,
          0.624,
          0.613,
          0.753,
          0.228,
          0.822,
          0.884,
          0.96,
          0.928,
          0.442,
          0.464,
          0.546,
          0.719,
          0.623,
          0.171,
          0.714,
          0.737,
          0.632,
          0.962,
          0.47,
          0.603,
          0.357,
          0.952,
          0.774,
          0.457,
          0.8,
          0.443,
          0.538,
          0.801,
          0.71,
          0.389,
          0.464,
          0.722,
          0.471,
          0.956,
          0.72,
          0.905,
          0.75,
          0.728,
          0.486,
          0.502,
          0.959,
          0.584,
          0.864,
          0.658,
          0.796,
          0.507,
          0.742,
          0.695,
          0.121,
          0.699,
          0.915,
          0.838,
          0.789,
          0.677,
          0.354,
          0.842,
          0.494,
          0.167,
          0.436,
          0.479,
          0.541,
          0.404,
          0.193,
          0.753,
          0.512,
          0.934,
          0.57,
          0.855,
          0.877,
          0.753,
          0.514,
          0.862,
          0.717,
          0.7,
          0.151,
          0.803,
          0.769,
          0.356,
          0.827,
          0.772,
          0.426,
          0.409,
          0.677,
          0.324,
          0.314,
          0.673,
          0.548,
          0.449,
          0.58,
          0.646,
          0.489,
          0.827,
          0.188,
          0.439,
          0.303
         ]
        },
        {
         "box": {
          "visible": true
         },
         "meanline": {
          "visible": true
         },
         "name": "Sad",
         "type": "violin",
         "x": [
          "Sad",
          "Sad",
          "Sad",
          "Sad",
          "Sad",
          "Sad",
          "Sad",
          "Sad",
          "Sad",
          "Sad",
          "Sad",
          "Sad",
          "Sad",
          "Sad",
          "Sad",
          "Sad",
          "Sad",
          "Sad",
          "Sad",
          "Sad",
          "Sad",
          "Sad",
          "Sad",
          "Sad",
          "Sad",
          "Sad",
          "Sad",
          "Sad",
          "Sad",
          "Sad",
          "Sad",
          "Sad",
          "Sad",
          "Sad",
          "Sad",
          "Sad",
          "Sad",
          "Sad",
          "Sad",
          "Sad",
          "Sad",
          "Sad",
          "Sad",
          "Sad",
          "Sad",
          "Sad",
          "Sad",
          "Sad",
          "Sad",
          "Sad",
          "Sad",
          "Sad",
          "Sad",
          "Sad",
          "Sad",
          "Sad",
          "Sad",
          "Sad",
          "Sad",
          "Sad",
          "Sad",
          "Sad",
          "Sad",
          "Sad",
          "Sad",
          "Sad",
          "Sad",
          "Sad",
          "Sad",
          "Sad",
          "Sad",
          "Sad",
          "Sad",
          "Sad",
          "Sad",
          "Sad",
          "Sad",
          "Sad",
          "Sad",
          "Sad",
          "Sad",
          "Sad",
          "Sad",
          "Sad",
          "Sad",
          "Sad",
          "Sad",
          "Sad",
          "Sad",
          "Sad",
          "Sad",
          "Sad",
          "Sad",
          "Sad",
          "Sad",
          "Sad",
          "Sad",
          "Sad",
          "Sad",
          "Sad"
         ],
         "y": [
          0.387,
          0.265,
          0.165,
          0.304,
          0.289,
          0.131,
          0.476,
          0.497,
          0.284,
          0.13,
          0.124,
          0.0978,
          0.161,
          0.231,
          0.159,
          0.184,
          0.291,
          0.322,
          0.236,
          0.497,
          0.423,
          0.443,
          0.203,
          0.22,
          0.386,
          0.1,
          0.22,
          0.243,
          0.435,
          0.132,
          0.0666,
          0.104,
          0.257,
          0.155,
          0.474,
          0.491,
          0.163,
          0.32,
          0.411,
          0.379,
          0.0886,
          0.17,
          0.169,
          0.201,
          0.286,
          0.147,
          0.137,
          0.296,
          0.502,
          0.33,
          0.136,
          0.219,
          0.303,
          0.246,
          0.0831,
          0.263,
          0.323,
          0.203,
          0.529,
          0.0775,
          0.406,
          0.125,
          0.489,
          0.366,
          0.172,
          0.165,
          0.201,
          0.218,
          0.43,
          0.475,
          0.365,
          0.299,
          0.399,
          0.113,
          0.231,
          0.235,
          0.283,
          0.156,
          0.145,
          0.389,
          0.253,
          0.155,
          0.235,
          0.402,
          0.0898,
          0.139,
          0.356,
          0.404,
          0.217,
          0.701,
          0.406,
          0.385,
          0.0388,
          0.467,
          0.613,
          0.142,
          0.481,
          0.15,
          0.22,
          0.189
         ]
        },
        {
         "box": {
          "visible": true
         },
         "meanline": {
          "visible": true
         },
         "name": "Anger",
         "type": "violin",
         "x": [
          "Anger",
          "Anger",
          "Anger",
          "Anger",
          "Anger",
          "Anger",
          "Anger",
          "Anger",
          "Anger",
          "Anger",
          "Anger",
          "Anger",
          "Anger",
          "Anger",
          "Anger",
          "Anger",
          "Anger",
          "Anger",
          "Anger",
          "Anger",
          "Anger",
          "Anger",
          "Anger",
          "Anger",
          "Anger",
          "Anger",
          "Anger",
          "Anger",
          "Anger",
          "Anger",
          "Anger",
          "Anger",
          "Anger",
          "Anger",
          "Anger",
          "Anger",
          "Anger",
          "Anger",
          "Anger",
          "Anger",
          "Anger",
          "Anger",
          "Anger",
          "Anger",
          "Anger",
          "Anger",
          "Anger",
          "Anger",
          "Anger",
          "Anger",
          "Anger",
          "Anger",
          "Anger",
          "Anger",
          "Anger",
          "Anger",
          "Anger",
          "Anger",
          "Anger",
          "Anger",
          "Anger",
          "Anger",
          "Anger",
          "Anger",
          "Anger"
         ],
         "y": [
          0.782,
          0.637,
          0.232,
          0.412,
          0.856,
          0.49,
          0.405,
          0.41,
          0.875,
          0.341,
          0.627,
          0.551,
          0.235,
          0.595,
          0.683,
          0.155,
          0.837,
          0.736,
          0.558,
          0.958,
          0.433,
          0.533,
          0.203,
          0.565,
          0.592,
          0.438,
          0.075,
          0.876,
          0.608,
          0.211,
          0.469,
          0.451,
          0.826,
          0.382,
          0.354,
          0.965,
          0.522,
          0.446,
          0.378,
          0.555,
          0.298,
          0.73,
          0.623,
          0.467,
          0.757,
          0.465,
          0.528,
          0.733,
          0.764,
          0.658,
          0.589,
          0.335,
          0.5,
          0.392,
          0.913,
          0.61,
          0.559,
          0.342,
          0.646,
          0.128,
          0.352,
          0.465,
          0.298,
          0.898,
          0.931
         ]
        },
        {
         "box": {
          "visible": true
         },
         "meanline": {
          "visible": true
         },
         "name": "Focus",
         "type": "violin",
         "x": [
          "Focus",
          "Focus",
          "Focus",
          "Focus",
          "Focus",
          "Focus",
          "Focus",
          "Focus",
          "Focus",
          "Focus",
          "Focus",
          "Focus",
          "Focus",
          "Focus",
          "Focus",
          "Focus",
          "Focus",
          "Focus",
          "Focus",
          "Focus",
          "Focus",
          "Focus",
          "Focus",
          "Focus",
          "Focus",
          "Focus",
          "Focus",
          "Focus",
          "Focus",
          "Focus",
          "Focus",
          "Focus",
          "Focus",
          "Focus",
          "Focus",
          "Focus",
          "Focus",
          "Focus",
          "Focus",
          "Focus",
          "Focus",
          "Focus",
          "Focus",
          "Focus",
          "Focus",
          "Focus",
          "Focus",
          "Focus",
          "Focus",
          "Focus",
          "Focus",
          "Focus",
          "Focus",
          "Focus",
          "Focus",
          "Focus",
          "Focus",
          "Focus",
          "Focus",
          "Focus",
          "Focus",
          "Focus",
          "Focus",
          "Focus",
          "Focus",
          "Focus",
          "Focus",
          "Focus",
          "Focus",
          "Focus",
          "Focus",
          "Focus",
          "Focus",
          "Focus",
          "Focus",
          "Focus",
          "Focus",
          "Focus",
          "Focus",
          "Focus",
          "Focus",
          "Focus",
          "Focus",
          "Focus",
          "Focus",
          "Focus",
          "Focus",
          "Focus",
          "Focus",
          "Focus",
          "Focus",
          "Focus",
          "Focus",
          "Focus",
          "Focus",
          "Focus",
          "Focus",
          "Focus",
          "Focus",
          "Focus"
         ],
         "y": [
          0.242,
          0.0541,
          0.111,
          0.0711,
          0.058,
          0.0564,
          0.0903,
          0.13,
          0.135,
          0.157,
          0.0699,
          0.075,
          0.167,
          0.158,
          0.0828,
          0.0532,
          0.163,
          0.267,
          0.0903,
          0.208,
          0.116,
          0.0896,
          0.0507,
          0.125,
          0.131,
          0.122,
          0.191,
          0.198,
          0.0937,
          0.141,
          0.146,
          0.139,
          0.179,
          0.124,
          0.0828,
          0.299,
          0.146,
          0.121,
          0.0998,
          0.165,
          0.0727,
          0.0674,
          0.181,
          0.251,
          0.0796,
          0.213,
          0.182,
          0.135,
          0.15,
          0.152,
          0.15,
          0.297,
          0.112,
          0.204,
          0.265,
          0.135,
          0.0681,
          0.0386,
          0.17125,
          0.131,
          0.134,
          0.0708,
          0.171,
          0.137,
          0.172,
          0.0775,
          0.0537,
          0.0473,
          0.0858,
          0.17125,
          0.135,
          0.104,
          0.15,
          0.134,
          0.22,
          0.147,
          0.105,
          0.0847,
          0.279,
          0.189,
          0.0762,
          0.17125,
          0.116,
          0.225,
          0.0805,
          0.158,
          0.0385,
          0.0602,
          0.151,
          0.13,
          0.0626,
          0.116,
          0.0405,
          0.281,
          0.173,
          0.133,
          0.135,
          0.111,
          0.16,
          0.237
         ]
        }
       ],
       "layout": {
        "template": {
         "data": {
          "bar": [
           {
            "error_x": {
             "color": "#2a3f5f"
            },
            "error_y": {
             "color": "#2a3f5f"
            },
            "marker": {
             "line": {
              "color": "#E5ECF6",
              "width": 0.5
             },
             "pattern": {
              "fillmode": "overlay",
              "size": 10,
              "solidity": 0.2
             }
            },
            "type": "bar"
           }
          ],
          "barpolar": [
           {
            "marker": {
             "line": {
              "color": "#E5ECF6",
              "width": 0.5
             },
             "pattern": {
              "fillmode": "overlay",
              "size": 10,
              "solidity": 0.2
             }
            },
            "type": "barpolar"
           }
          ],
          "carpet": [
           {
            "aaxis": {
             "endlinecolor": "#2a3f5f",
             "gridcolor": "white",
             "linecolor": "white",
             "minorgridcolor": "white",
             "startlinecolor": "#2a3f5f"
            },
            "baxis": {
             "endlinecolor": "#2a3f5f",
             "gridcolor": "white",
             "linecolor": "white",
             "minorgridcolor": "white",
             "startlinecolor": "#2a3f5f"
            },
            "type": "carpet"
           }
          ],
          "choropleth": [
           {
            "colorbar": {
             "outlinewidth": 0,
             "ticks": ""
            },
            "type": "choropleth"
           }
          ],
          "contour": [
           {
            "colorbar": {
             "outlinewidth": 0,
             "ticks": ""
            },
            "colorscale": [
             [
              0,
              "#0d0887"
             ],
             [
              0.1111111111111111,
              "#46039f"
             ],
             [
              0.2222222222222222,
              "#7201a8"
             ],
             [
              0.3333333333333333,
              "#9c179e"
             ],
             [
              0.4444444444444444,
              "#bd3786"
             ],
             [
              0.5555555555555556,
              "#d8576b"
             ],
             [
              0.6666666666666666,
              "#ed7953"
             ],
             [
              0.7777777777777778,
              "#fb9f3a"
             ],
             [
              0.8888888888888888,
              "#fdca26"
             ],
             [
              1,
              "#f0f921"
             ]
            ],
            "type": "contour"
           }
          ],
          "contourcarpet": [
           {
            "colorbar": {
             "outlinewidth": 0,
             "ticks": ""
            },
            "type": "contourcarpet"
           }
          ],
          "heatmap": [
           {
            "colorbar": {
             "outlinewidth": 0,
             "ticks": ""
            },
            "colorscale": [
             [
              0,
              "#0d0887"
             ],
             [
              0.1111111111111111,
              "#46039f"
             ],
             [
              0.2222222222222222,
              "#7201a8"
             ],
             [
              0.3333333333333333,
              "#9c179e"
             ],
             [
              0.4444444444444444,
              "#bd3786"
             ],
             [
              0.5555555555555556,
              "#d8576b"
             ],
             [
              0.6666666666666666,
              "#ed7953"
             ],
             [
              0.7777777777777778,
              "#fb9f3a"
             ],
             [
              0.8888888888888888,
              "#fdca26"
             ],
             [
              1,
              "#f0f921"
             ]
            ],
            "type": "heatmap"
           }
          ],
          "heatmapgl": [
           {
            "colorbar": {
             "outlinewidth": 0,
             "ticks": ""
            },
            "colorscale": [
             [
              0,
              "#0d0887"
             ],
             [
              0.1111111111111111,
              "#46039f"
             ],
             [
              0.2222222222222222,
              "#7201a8"
             ],
             [
              0.3333333333333333,
              "#9c179e"
             ],
             [
              0.4444444444444444,
              "#bd3786"
             ],
             [
              0.5555555555555556,
              "#d8576b"
             ],
             [
              0.6666666666666666,
              "#ed7953"
             ],
             [
              0.7777777777777778,
              "#fb9f3a"
             ],
             [
              0.8888888888888888,
              "#fdca26"
             ],
             [
              1,
              "#f0f921"
             ]
            ],
            "type": "heatmapgl"
           }
          ],
          "histogram": [
           {
            "marker": {
             "pattern": {
              "fillmode": "overlay",
              "size": 10,
              "solidity": 0.2
             }
            },
            "type": "histogram"
           }
          ],
          "histogram2d": [
           {
            "colorbar": {
             "outlinewidth": 0,
             "ticks": ""
            },
            "colorscale": [
             [
              0,
              "#0d0887"
             ],
             [
              0.1111111111111111,
              "#46039f"
             ],
             [
              0.2222222222222222,
              "#7201a8"
             ],
             [
              0.3333333333333333,
              "#9c179e"
             ],
             [
              0.4444444444444444,
              "#bd3786"
             ],
             [
              0.5555555555555556,
              "#d8576b"
             ],
             [
              0.6666666666666666,
              "#ed7953"
             ],
             [
              0.7777777777777778,
              "#fb9f3a"
             ],
             [
              0.8888888888888888,
              "#fdca26"
             ],
             [
              1,
              "#f0f921"
             ]
            ],
            "type": "histogram2d"
           }
          ],
          "histogram2dcontour": [
           {
            "colorbar": {
             "outlinewidth": 0,
             "ticks": ""
            },
            "colorscale": [
             [
              0,
              "#0d0887"
             ],
             [
              0.1111111111111111,
              "#46039f"
             ],
             [
              0.2222222222222222,
              "#7201a8"
             ],
             [
              0.3333333333333333,
              "#9c179e"
             ],
             [
              0.4444444444444444,
              "#bd3786"
             ],
             [
              0.5555555555555556,
              "#d8576b"
             ],
             [
              0.6666666666666666,
              "#ed7953"
             ],
             [
              0.7777777777777778,
              "#fb9f3a"
             ],
             [
              0.8888888888888888,
              "#fdca26"
             ],
             [
              1,
              "#f0f921"
             ]
            ],
            "type": "histogram2dcontour"
           }
          ],
          "mesh3d": [
           {
            "colorbar": {
             "outlinewidth": 0,
             "ticks": ""
            },
            "type": "mesh3d"
           }
          ],
          "parcoords": [
           {
            "line": {
             "colorbar": {
              "outlinewidth": 0,
              "ticks": ""
             }
            },
            "type": "parcoords"
           }
          ],
          "pie": [
           {
            "automargin": true,
            "type": "pie"
           }
          ],
          "scatter": [
           {
            "fillpattern": {
             "fillmode": "overlay",
             "size": 10,
             "solidity": 0.2
            },
            "type": "scatter"
           }
          ],
          "scatter3d": [
           {
            "line": {
             "colorbar": {
              "outlinewidth": 0,
              "ticks": ""
             }
            },
            "marker": {
             "colorbar": {
              "outlinewidth": 0,
              "ticks": ""
             }
            },
            "type": "scatter3d"
           }
          ],
          "scattercarpet": [
           {
            "marker": {
             "colorbar": {
              "outlinewidth": 0,
              "ticks": ""
             }
            },
            "type": "scattercarpet"
           }
          ],
          "scattergeo": [
           {
            "marker": {
             "colorbar": {
              "outlinewidth": 0,
              "ticks": ""
             }
            },
            "type": "scattergeo"
           }
          ],
          "scattergl": [
           {
            "marker": {
             "colorbar": {
              "outlinewidth": 0,
              "ticks": ""
             }
            },
            "type": "scattergl"
           }
          ],
          "scattermapbox": [
           {
            "marker": {
             "colorbar": {
              "outlinewidth": 0,
              "ticks": ""
             }
            },
            "type": "scattermapbox"
           }
          ],
          "scatterpolar": [
           {
            "marker": {
             "colorbar": {
              "outlinewidth": 0,
              "ticks": ""
             }
            },
            "type": "scatterpolar"
           }
          ],
          "scatterpolargl": [
           {
            "marker": {
             "colorbar": {
              "outlinewidth": 0,
              "ticks": ""
             }
            },
            "type": "scatterpolargl"
           }
          ],
          "scatterternary": [
           {
            "marker": {
             "colorbar": {
              "outlinewidth": 0,
              "ticks": ""
             }
            },
            "type": "scatterternary"
           }
          ],
          "surface": [
           {
            "colorbar": {
             "outlinewidth": 0,
             "ticks": ""
            },
            "colorscale": [
             [
              0,
              "#0d0887"
             ],
             [
              0.1111111111111111,
              "#46039f"
             ],
             [
              0.2222222222222222,
              "#7201a8"
             ],
             [
              0.3333333333333333,
              "#9c179e"
             ],
             [
              0.4444444444444444,
              "#bd3786"
             ],
             [
              0.5555555555555556,
              "#d8576b"
             ],
             [
              0.6666666666666666,
              "#ed7953"
             ],
             [
              0.7777777777777778,
              "#fb9f3a"
             ],
             [
              0.8888888888888888,
              "#fdca26"
             ],
             [
              1,
              "#f0f921"
             ]
            ],
            "type": "surface"
           }
          ],
          "table": [
           {
            "cells": {
             "fill": {
              "color": "#EBF0F8"
             },
             "line": {
              "color": "white"
             }
            },
            "header": {
             "fill": {
              "color": "#C8D4E3"
             },
             "line": {
              "color": "white"
             }
            },
            "type": "table"
           }
          ]
         },
         "layout": {
          "annotationdefaults": {
           "arrowcolor": "#2a3f5f",
           "arrowhead": 0,
           "arrowwidth": 1
          },
          "autotypenumbers": "strict",
          "coloraxis": {
           "colorbar": {
            "outlinewidth": 0,
            "ticks": ""
           }
          },
          "colorscale": {
           "diverging": [
            [
             0,
             "#8e0152"
            ],
            [
             0.1,
             "#c51b7d"
            ],
            [
             0.2,
             "#de77ae"
            ],
            [
             0.3,
             "#f1b6da"
            ],
            [
             0.4,
             "#fde0ef"
            ],
            [
             0.5,
             "#f7f7f7"
            ],
            [
             0.6,
             "#e6f5d0"
            ],
            [
             0.7,
             "#b8e186"
            ],
            [
             0.8,
             "#7fbc41"
            ],
            [
             0.9,
             "#4d9221"
            ],
            [
             1,
             "#276419"
            ]
           ],
           "sequential": [
            [
             0,
             "#0d0887"
            ],
            [
             0.1111111111111111,
             "#46039f"
            ],
            [
             0.2222222222222222,
             "#7201a8"
            ],
            [
             0.3333333333333333,
             "#9c179e"
            ],
            [
             0.4444444444444444,
             "#bd3786"
            ],
            [
             0.5555555555555556,
             "#d8576b"
            ],
            [
             0.6666666666666666,
             "#ed7953"
            ],
            [
             0.7777777777777778,
             "#fb9f3a"
            ],
            [
             0.8888888888888888,
             "#fdca26"
            ],
            [
             1,
             "#f0f921"
            ]
           ],
           "sequentialminus": [
            [
             0,
             "#0d0887"
            ],
            [
             0.1111111111111111,
             "#46039f"
            ],
            [
             0.2222222222222222,
             "#7201a8"
            ],
            [
             0.3333333333333333,
             "#9c179e"
            ],
            [
             0.4444444444444444,
             "#bd3786"
            ],
            [
             0.5555555555555556,
             "#d8576b"
            ],
            [
             0.6666666666666666,
             "#ed7953"
            ],
            [
             0.7777777777777778,
             "#fb9f3a"
            ],
            [
             0.8888888888888888,
             "#fdca26"
            ],
            [
             1,
             "#f0f921"
            ]
           ]
          },
          "colorway": [
           "#636efa",
           "#EF553B",
           "#00cc96",
           "#ab63fa",
           "#FFA15A",
           "#19d3f3",
           "#FF6692",
           "#B6E880",
           "#FF97FF",
           "#FECB52"
          ],
          "font": {
           "color": "#2a3f5f"
          },
          "geo": {
           "bgcolor": "white",
           "lakecolor": "white",
           "landcolor": "#E5ECF6",
           "showlakes": true,
           "showland": true,
           "subunitcolor": "white"
          },
          "hoverlabel": {
           "align": "left"
          },
          "hovermode": "closest",
          "mapbox": {
           "style": "light"
          },
          "paper_bgcolor": "white",
          "plot_bgcolor": "#E5ECF6",
          "polar": {
           "angularaxis": {
            "gridcolor": "white",
            "linecolor": "white",
            "ticks": ""
           },
           "bgcolor": "#E5ECF6",
           "radialaxis": {
            "gridcolor": "white",
            "linecolor": "white",
            "ticks": ""
           }
          },
          "scene": {
           "xaxis": {
            "backgroundcolor": "#E5ECF6",
            "gridcolor": "white",
            "gridwidth": 2,
            "linecolor": "white",
            "showbackground": true,
            "ticks": "",
            "zerolinecolor": "white"
           },
           "yaxis": {
            "backgroundcolor": "#E5ECF6",
            "gridcolor": "white",
            "gridwidth": 2,
            "linecolor": "white",
            "showbackground": true,
            "ticks": "",
            "zerolinecolor": "white"
           },
           "zaxis": {
            "backgroundcolor": "#E5ECF6",
            "gridcolor": "white",
            "gridwidth": 2,
            "linecolor": "white",
            "showbackground": true,
            "ticks": "",
            "zerolinecolor": "white"
           }
          },
          "shapedefaults": {
           "line": {
            "color": "#2a3f5f"
           }
          },
          "ternary": {
           "aaxis": {
            "gridcolor": "white",
            "linecolor": "white",
            "ticks": ""
           },
           "baxis": {
            "gridcolor": "white",
            "linecolor": "white",
            "ticks": ""
           },
           "bgcolor": "#E5ECF6",
           "caxis": {
            "gridcolor": "white",
            "linecolor": "white",
            "ticks": ""
           }
          },
          "title": {
           "x": 0.05
          },
          "xaxis": {
           "automargin": true,
           "gridcolor": "white",
           "linecolor": "white",
           "ticks": "",
           "title": {
            "standoff": 15
           },
           "zerolinecolor": "white",
           "zerolinewidth": 2
          },
          "yaxis": {
           "automargin": true,
           "gridcolor": "white",
           "linecolor": "white",
           "ticks": "",
           "title": {
            "standoff": 15
           },
           "zerolinecolor": "white",
           "zerolinewidth": 2
          }
         }
        },
        "title": {
         "text": "Distribución danceability:"
        },
        "xaxis": {
         "title": {
          "text": "Mood"
         }
        },
        "yaxis": {
         "title": {
          "text": "valence"
         }
        }
       }
      }
     },
     "metadata": {},
     "output_type": "display_data"
    }
   ],
   "source": [
    "# Valencia:\n",
    "\n",
    "fig = go.Figure()\n",
    "\n",
    "moods = ['Happy', 'Sad', 'Anger', 'Focus']\n",
    "\n",
    "for mood in moods:\n",
    "    fig.add_trace(go.Violin(x=df1['Mood'][df1['Mood'] == mood],\n",
    "                            y=df1['valence'][df1['Mood'] == mood],\n",
    "                            name=mood,\n",
    "                            box_visible=True,\n",
    "                            meanline_visible=True))\n",
    "\n",
    "fig.update_layout(\n",
    "    title=\"Distribución danceability:\",\n",
    "    xaxis_title=\"Mood\",\n",
    "    yaxis_title=\"valence\"\n",
    ")\n",
    "\n",
    "fig.show()"
   ]
  },
  {
   "cell_type": "code",
   "execution_count": 54,
   "metadata": {},
   "outputs": [
    {
     "data": {
      "application/vnd.plotly.v1+json": {
       "config": {
        "plotlyServerURL": "https://plot.ly"
       },
       "data": [
        {
         "box": {
          "visible": true
         },
         "meanline": {
          "visible": true
         },
         "name": "Happy",
         "type": "violin",
         "x": [
          "Happy",
          "Happy",
          "Happy",
          "Happy",
          "Happy",
          "Happy",
          "Happy",
          "Happy",
          "Happy",
          "Happy",
          "Happy",
          "Happy",
          "Happy",
          "Happy",
          "Happy",
          "Happy",
          "Happy",
          "Happy",
          "Happy",
          "Happy",
          "Happy",
          "Happy",
          "Happy",
          "Happy",
          "Happy",
          "Happy",
          "Happy",
          "Happy",
          "Happy",
          "Happy",
          "Happy",
          "Happy",
          "Happy",
          "Happy",
          "Happy",
          "Happy",
          "Happy",
          "Happy",
          "Happy",
          "Happy",
          "Happy",
          "Happy",
          "Happy",
          "Happy",
          "Happy",
          "Happy",
          "Happy",
          "Happy",
          "Happy",
          "Happy",
          "Happy",
          "Happy",
          "Happy",
          "Happy",
          "Happy",
          "Happy",
          "Happy",
          "Happy",
          "Happy",
          "Happy",
          "Happy",
          "Happy",
          "Happy",
          "Happy",
          "Happy",
          "Happy",
          "Happy",
          "Happy",
          "Happy",
          "Happy",
          "Happy",
          "Happy",
          "Happy",
          "Happy",
          "Happy",
          "Happy",
          "Happy",
          "Happy",
          "Happy",
          "Happy",
          "Happy",
          "Happy",
          "Happy",
          "Happy",
          "Happy",
          "Happy",
          "Happy",
          "Happy",
          "Happy",
          "Happy",
          "Happy",
          "Happy",
          "Happy",
          "Happy",
          "Happy",
          "Happy",
          "Happy",
          "Happy",
          "Happy",
          "Happy"
         ],
         "y": [
          0.561,
          0.704,
          0.671,
          0.514,
          0.548,
          0.954,
          0.745,
          0.77,
          0.602,
          0.788,
          0.838,
          0.898,
          0.856,
          0.762,
          0.677,
          0.737,
          0.746,
          0.701,
          0.563,
          0.771,
          0.746,
          0.912,
          0.647,
          0.662,
          0.697,
          0.72,
          0.842,
          0.697,
          0.637,
          0.685,
          0.588,
          0.673,
          0.824,
          0.593,
          0.717,
          0.601,
          0.836,
          0.461,
          0.756,
          0.57,
          0.734,
          0.759,
          0.61,
          0.667,
          0.763,
          0.893,
          0.735,
          0.729,
          0.758,
          0.787,
          0.774,
          0.762,
          0.759,
          0.699,
          0.717,
          0.721,
          0.698,
          0.652,
          0.794,
          0.612,
          0.798,
          0.776,
          0.681,
          0.614,
          0.595,
          0.664,
          0.693,
          0.659,
          0.789,
          0.792,
          0.792,
          0.675,
          0.647,
          0.815,
          0.568,
          0.824,
          0.731,
          0.748,
          0.669,
          0.646,
          0.769,
          0.668,
          0.48,
          0.88,
          0.662,
          0.621,
          0.654,
          0.814,
          0.852,
          0.476,
          0.682,
          0.64,
          0.575,
          0.723,
          0.672,
          0.507,
          0.862,
          0.643,
          0.722,
          0.464
         ]
        },
        {
         "box": {
          "visible": true
         },
         "meanline": {
          "visible": true
         },
         "name": "Sad",
         "type": "violin",
         "x": [
          "Sad",
          "Sad",
          "Sad",
          "Sad",
          "Sad",
          "Sad",
          "Sad",
          "Sad",
          "Sad",
          "Sad",
          "Sad",
          "Sad",
          "Sad",
          "Sad",
          "Sad",
          "Sad",
          "Sad",
          "Sad",
          "Sad",
          "Sad",
          "Sad",
          "Sad",
          "Sad",
          "Sad",
          "Sad",
          "Sad",
          "Sad",
          "Sad",
          "Sad",
          "Sad",
          "Sad",
          "Sad",
          "Sad",
          "Sad",
          "Sad",
          "Sad",
          "Sad",
          "Sad",
          "Sad",
          "Sad",
          "Sad",
          "Sad",
          "Sad",
          "Sad",
          "Sad",
          "Sad",
          "Sad",
          "Sad",
          "Sad",
          "Sad",
          "Sad",
          "Sad",
          "Sad",
          "Sad",
          "Sad",
          "Sad",
          "Sad",
          "Sad",
          "Sad",
          "Sad",
          "Sad",
          "Sad",
          "Sad",
          "Sad",
          "Sad",
          "Sad",
          "Sad",
          "Sad",
          "Sad",
          "Sad",
          "Sad",
          "Sad",
          "Sad",
          "Sad",
          "Sad",
          "Sad",
          "Sad",
          "Sad",
          "Sad",
          "Sad",
          "Sad",
          "Sad",
          "Sad",
          "Sad",
          "Sad",
          "Sad",
          "Sad",
          "Sad",
          "Sad",
          "Sad",
          "Sad",
          "Sad",
          "Sad",
          "Sad",
          "Sad",
          "Sad",
          "Sad",
          "Sad",
          "Sad",
          "Sad"
         ],
         "y": [
          0.612,
          0.376,
          0.371,
          0.566,
          0.534,
          0.445,
          0.681,
          0.315,
          0.515,
          0.604,
          0.209,
          0.488,
          0.421,
          0.681,
          0.41874999999999996,
          0.418,
          0.556,
          0.708,
          0.522,
          0.481,
          0.414,
          0.553,
          0.555,
          0.329,
          0.516,
          0.545,
          0.566,
          0.479,
          0.688,
          0.44,
          0.398,
          0.439,
          0.589,
          0.592,
          0.498,
          0.63,
          0.534,
          0.532,
          0.53,
          0.587,
          0.349,
          0.593,
          0.379,
          0.671,
          0.529,
          0.576,
          0.481,
          0.553,
          0.593,
          0.537,
          0.583,
          0.405,
          0.543,
          0.546,
          0.324,
          0.471,
          0.344,
          0.329,
          0.6,
          0.344,
          0.556,
          0.621,
          0.517,
          0.614,
          0.397,
          0.558,
          0.635,
          0.453,
          0.455,
          0.41,
          0.467,
          0.584,
          0.426,
          0.588,
          0.27,
          0.468,
          0.389,
          0.446,
          0.494,
          0.552,
          0.439,
          0.61,
          0.386,
          0.561,
          0.296,
          0.546,
          0.419,
          0.555,
          0.568,
          0.733,
          0.562,
          0.506,
          0.346,
          0.56,
          0.606,
          0.447,
          0.732,
          0.401,
          0.536,
          0.377
         ]
        },
        {
         "box": {
          "visible": true
         },
         "meanline": {
          "visible": true
         },
         "name": "Anger",
         "type": "violin",
         "x": [
          "Anger",
          "Anger",
          "Anger",
          "Anger",
          "Anger",
          "Anger",
          "Anger",
          "Anger",
          "Anger",
          "Anger",
          "Anger",
          "Anger",
          "Anger",
          "Anger",
          "Anger",
          "Anger",
          "Anger",
          "Anger",
          "Anger",
          "Anger",
          "Anger",
          "Anger",
          "Anger",
          "Anger",
          "Anger",
          "Anger",
          "Anger",
          "Anger",
          "Anger",
          "Anger",
          "Anger",
          "Anger",
          "Anger",
          "Anger",
          "Anger",
          "Anger",
          "Anger",
          "Anger",
          "Anger",
          "Anger",
          "Anger",
          "Anger",
          "Anger",
          "Anger",
          "Anger",
          "Anger",
          "Anger",
          "Anger",
          "Anger",
          "Anger",
          "Anger",
          "Anger",
          "Anger",
          "Anger",
          "Anger",
          "Anger",
          "Anger",
          "Anger",
          "Anger",
          "Anger",
          "Anger",
          "Anger",
          "Anger",
          "Anger",
          "Anger"
         ],
         "y": [
          0.668,
          0.63,
          0.589,
          0.633,
          0.463,
          0.527,
          0.548,
          0.546,
          0.618,
          0.417,
          0.536,
          0.62,
          0.62,
          0.301,
          0.446,
          0.468,
          0.698,
          0.564,
          0.545,
          0.75,
          0.482,
          0.598,
          0.649,
          0.575,
          0.506,
          0.646,
          0.73,
          0.569,
          0.514,
          0.358,
          0.507,
          0.468,
          0.608,
          0.364,
          0.552,
          0.776,
          0.421,
          0.479,
          0.451,
          0.521,
          0.469,
          0.587,
          0.627,
          0.44,
          0.501,
          0.481,
          0.67,
          0.65,
          0.591,
          0.411,
          0.6,
          0.535,
          0.547,
          0.578,
          0.647,
          0.564,
          0.375,
          0.515,
          0.586,
          0.468,
          0.468,
          0.459,
          0.45,
          0.639,
          0.573
         ]
        },
        {
         "box": {
          "visible": true
         },
         "meanline": {
          "visible": true
         },
         "name": "Focus",
         "type": "violin",
         "x": [
          "Focus",
          "Focus",
          "Focus",
          "Focus",
          "Focus",
          "Focus",
          "Focus",
          "Focus",
          "Focus",
          "Focus",
          "Focus",
          "Focus",
          "Focus",
          "Focus",
          "Focus",
          "Focus",
          "Focus",
          "Focus",
          "Focus",
          "Focus",
          "Focus",
          "Focus",
          "Focus",
          "Focus",
          "Focus",
          "Focus",
          "Focus",
          "Focus",
          "Focus",
          "Focus",
          "Focus",
          "Focus",
          "Focus",
          "Focus",
          "Focus",
          "Focus",
          "Focus",
          "Focus",
          "Focus",
          "Focus",
          "Focus",
          "Focus",
          "Focus",
          "Focus",
          "Focus",
          "Focus",
          "Focus",
          "Focus",
          "Focus",
          "Focus",
          "Focus",
          "Focus",
          "Focus",
          "Focus",
          "Focus",
          "Focus",
          "Focus",
          "Focus",
          "Focus",
          "Focus",
          "Focus",
          "Focus",
          "Focus",
          "Focus",
          "Focus",
          "Focus",
          "Focus",
          "Focus",
          "Focus",
          "Focus",
          "Focus",
          "Focus",
          "Focus",
          "Focus",
          "Focus",
          "Focus",
          "Focus",
          "Focus",
          "Focus",
          "Focus",
          "Focus",
          "Focus",
          "Focus",
          "Focus",
          "Focus",
          "Focus",
          "Focus",
          "Focus",
          "Focus",
          "Focus",
          "Focus",
          "Focus",
          "Focus",
          "Focus",
          "Focus",
          "Focus",
          "Focus",
          "Focus",
          "Focus",
          "Focus"
         ],
         "y": [
          0.577,
          0.467,
          0.442,
          0.509,
          0.346,
          0.378,
          0.529,
          0.437,
          0.513,
          0.581,
          0.517,
          0.46,
          0.587,
          0.614,
          0.5,
          0.498,
          0.521,
          0.575,
          0.316,
          0.58,
          0.352,
          0.528,
          0.452,
          0.599,
          0.621,
          0.536,
          0.594,
          0.617,
          0.653,
          0.542,
          0.591,
          0.605,
          0.392,
          0.646,
          0.551,
          0.665,
          0.476,
          0.525,
          0.544,
          0.756,
          0.413,
          0.586,
          0.595,
          0.555,
          0.465,
          0.616,
          0.406,
          0.489,
          0.546,
          0.321,
          0.317,
          0.577,
          0.508,
          0.469,
          0.492,
          0.55,
          0.463,
          0.476,
          0.388,
          0.526,
          0.493,
          0.604,
          0.297,
          0.302,
          0.499,
          0.482,
          0.496,
          0.559,
          0.454,
          0.668,
          0.548,
          0.454,
          0.296,
          0.378,
          0.448,
          0.665,
          0.394,
          0.552,
          0.634,
          0.632,
          0.354,
          0.699,
          0.6,
          0.255,
          0.607,
          0.421,
          0.484,
          0.611,
          0.243,
          0.597,
          0.426,
          0.516,
          0.534,
          0.311,
          0.584,
          0.461,
          0.597,
          0.389,
          0.487,
          0.348
         ]
        }
       ],
       "layout": {
        "template": {
         "data": {
          "bar": [
           {
            "error_x": {
             "color": "#2a3f5f"
            },
            "error_y": {
             "color": "#2a3f5f"
            },
            "marker": {
             "line": {
              "color": "#E5ECF6",
              "width": 0.5
             },
             "pattern": {
              "fillmode": "overlay",
              "size": 10,
              "solidity": 0.2
             }
            },
            "type": "bar"
           }
          ],
          "barpolar": [
           {
            "marker": {
             "line": {
              "color": "#E5ECF6",
              "width": 0.5
             },
             "pattern": {
              "fillmode": "overlay",
              "size": 10,
              "solidity": 0.2
             }
            },
            "type": "barpolar"
           }
          ],
          "carpet": [
           {
            "aaxis": {
             "endlinecolor": "#2a3f5f",
             "gridcolor": "white",
             "linecolor": "white",
             "minorgridcolor": "white",
             "startlinecolor": "#2a3f5f"
            },
            "baxis": {
             "endlinecolor": "#2a3f5f",
             "gridcolor": "white",
             "linecolor": "white",
             "minorgridcolor": "white",
             "startlinecolor": "#2a3f5f"
            },
            "type": "carpet"
           }
          ],
          "choropleth": [
           {
            "colorbar": {
             "outlinewidth": 0,
             "ticks": ""
            },
            "type": "choropleth"
           }
          ],
          "contour": [
           {
            "colorbar": {
             "outlinewidth": 0,
             "ticks": ""
            },
            "colorscale": [
             [
              0,
              "#0d0887"
             ],
             [
              0.1111111111111111,
              "#46039f"
             ],
             [
              0.2222222222222222,
              "#7201a8"
             ],
             [
              0.3333333333333333,
              "#9c179e"
             ],
             [
              0.4444444444444444,
              "#bd3786"
             ],
             [
              0.5555555555555556,
              "#d8576b"
             ],
             [
              0.6666666666666666,
              "#ed7953"
             ],
             [
              0.7777777777777778,
              "#fb9f3a"
             ],
             [
              0.8888888888888888,
              "#fdca26"
             ],
             [
              1,
              "#f0f921"
             ]
            ],
            "type": "contour"
           }
          ],
          "contourcarpet": [
           {
            "colorbar": {
             "outlinewidth": 0,
             "ticks": ""
            },
            "type": "contourcarpet"
           }
          ],
          "heatmap": [
           {
            "colorbar": {
             "outlinewidth": 0,
             "ticks": ""
            },
            "colorscale": [
             [
              0,
              "#0d0887"
             ],
             [
              0.1111111111111111,
              "#46039f"
             ],
             [
              0.2222222222222222,
              "#7201a8"
             ],
             [
              0.3333333333333333,
              "#9c179e"
             ],
             [
              0.4444444444444444,
              "#bd3786"
             ],
             [
              0.5555555555555556,
              "#d8576b"
             ],
             [
              0.6666666666666666,
              "#ed7953"
             ],
             [
              0.7777777777777778,
              "#fb9f3a"
             ],
             [
              0.8888888888888888,
              "#fdca26"
             ],
             [
              1,
              "#f0f921"
             ]
            ],
            "type": "heatmap"
           }
          ],
          "heatmapgl": [
           {
            "colorbar": {
             "outlinewidth": 0,
             "ticks": ""
            },
            "colorscale": [
             [
              0,
              "#0d0887"
             ],
             [
              0.1111111111111111,
              "#46039f"
             ],
             [
              0.2222222222222222,
              "#7201a8"
             ],
             [
              0.3333333333333333,
              "#9c179e"
             ],
             [
              0.4444444444444444,
              "#bd3786"
             ],
             [
              0.5555555555555556,
              "#d8576b"
             ],
             [
              0.6666666666666666,
              "#ed7953"
             ],
             [
              0.7777777777777778,
              "#fb9f3a"
             ],
             [
              0.8888888888888888,
              "#fdca26"
             ],
             [
              1,
              "#f0f921"
             ]
            ],
            "type": "heatmapgl"
           }
          ],
          "histogram": [
           {
            "marker": {
             "pattern": {
              "fillmode": "overlay",
              "size": 10,
              "solidity": 0.2
             }
            },
            "type": "histogram"
           }
          ],
          "histogram2d": [
           {
            "colorbar": {
             "outlinewidth": 0,
             "ticks": ""
            },
            "colorscale": [
             [
              0,
              "#0d0887"
             ],
             [
              0.1111111111111111,
              "#46039f"
             ],
             [
              0.2222222222222222,
              "#7201a8"
             ],
             [
              0.3333333333333333,
              "#9c179e"
             ],
             [
              0.4444444444444444,
              "#bd3786"
             ],
             [
              0.5555555555555556,
              "#d8576b"
             ],
             [
              0.6666666666666666,
              "#ed7953"
             ],
             [
              0.7777777777777778,
              "#fb9f3a"
             ],
             [
              0.8888888888888888,
              "#fdca26"
             ],
             [
              1,
              "#f0f921"
             ]
            ],
            "type": "histogram2d"
           }
          ],
          "histogram2dcontour": [
           {
            "colorbar": {
             "outlinewidth": 0,
             "ticks": ""
            },
            "colorscale": [
             [
              0,
              "#0d0887"
             ],
             [
              0.1111111111111111,
              "#46039f"
             ],
             [
              0.2222222222222222,
              "#7201a8"
             ],
             [
              0.3333333333333333,
              "#9c179e"
             ],
             [
              0.4444444444444444,
              "#bd3786"
             ],
             [
              0.5555555555555556,
              "#d8576b"
             ],
             [
              0.6666666666666666,
              "#ed7953"
             ],
             [
              0.7777777777777778,
              "#fb9f3a"
             ],
             [
              0.8888888888888888,
              "#fdca26"
             ],
             [
              1,
              "#f0f921"
             ]
            ],
            "type": "histogram2dcontour"
           }
          ],
          "mesh3d": [
           {
            "colorbar": {
             "outlinewidth": 0,
             "ticks": ""
            },
            "type": "mesh3d"
           }
          ],
          "parcoords": [
           {
            "line": {
             "colorbar": {
              "outlinewidth": 0,
              "ticks": ""
             }
            },
            "type": "parcoords"
           }
          ],
          "pie": [
           {
            "automargin": true,
            "type": "pie"
           }
          ],
          "scatter": [
           {
            "fillpattern": {
             "fillmode": "overlay",
             "size": 10,
             "solidity": 0.2
            },
            "type": "scatter"
           }
          ],
          "scatter3d": [
           {
            "line": {
             "colorbar": {
              "outlinewidth": 0,
              "ticks": ""
             }
            },
            "marker": {
             "colorbar": {
              "outlinewidth": 0,
              "ticks": ""
             }
            },
            "type": "scatter3d"
           }
          ],
          "scattercarpet": [
           {
            "marker": {
             "colorbar": {
              "outlinewidth": 0,
              "ticks": ""
             }
            },
            "type": "scattercarpet"
           }
          ],
          "scattergeo": [
           {
            "marker": {
             "colorbar": {
              "outlinewidth": 0,
              "ticks": ""
             }
            },
            "type": "scattergeo"
           }
          ],
          "scattergl": [
           {
            "marker": {
             "colorbar": {
              "outlinewidth": 0,
              "ticks": ""
             }
            },
            "type": "scattergl"
           }
          ],
          "scattermapbox": [
           {
            "marker": {
             "colorbar": {
              "outlinewidth": 0,
              "ticks": ""
             }
            },
            "type": "scattermapbox"
           }
          ],
          "scatterpolar": [
           {
            "marker": {
             "colorbar": {
              "outlinewidth": 0,
              "ticks": ""
             }
            },
            "type": "scatterpolar"
           }
          ],
          "scatterpolargl": [
           {
            "marker": {
             "colorbar": {
              "outlinewidth": 0,
              "ticks": ""
             }
            },
            "type": "scatterpolargl"
           }
          ],
          "scatterternary": [
           {
            "marker": {
             "colorbar": {
              "outlinewidth": 0,
              "ticks": ""
             }
            },
            "type": "scatterternary"
           }
          ],
          "surface": [
           {
            "colorbar": {
             "outlinewidth": 0,
             "ticks": ""
            },
            "colorscale": [
             [
              0,
              "#0d0887"
             ],
             [
              0.1111111111111111,
              "#46039f"
             ],
             [
              0.2222222222222222,
              "#7201a8"
             ],
             [
              0.3333333333333333,
              "#9c179e"
             ],
             [
              0.4444444444444444,
              "#bd3786"
             ],
             [
              0.5555555555555556,
              "#d8576b"
             ],
             [
              0.6666666666666666,
              "#ed7953"
             ],
             [
              0.7777777777777778,
              "#fb9f3a"
             ],
             [
              0.8888888888888888,
              "#fdca26"
             ],
             [
              1,
              "#f0f921"
             ]
            ],
            "type": "surface"
           }
          ],
          "table": [
           {
            "cells": {
             "fill": {
              "color": "#EBF0F8"
             },
             "line": {
              "color": "white"
             }
            },
            "header": {
             "fill": {
              "color": "#C8D4E3"
             },
             "line": {
              "color": "white"
             }
            },
            "type": "table"
           }
          ]
         },
         "layout": {
          "annotationdefaults": {
           "arrowcolor": "#2a3f5f",
           "arrowhead": 0,
           "arrowwidth": 1
          },
          "autotypenumbers": "strict",
          "coloraxis": {
           "colorbar": {
            "outlinewidth": 0,
            "ticks": ""
           }
          },
          "colorscale": {
           "diverging": [
            [
             0,
             "#8e0152"
            ],
            [
             0.1,
             "#c51b7d"
            ],
            [
             0.2,
             "#de77ae"
            ],
            [
             0.3,
             "#f1b6da"
            ],
            [
             0.4,
             "#fde0ef"
            ],
            [
             0.5,
             "#f7f7f7"
            ],
            [
             0.6,
             "#e6f5d0"
            ],
            [
             0.7,
             "#b8e186"
            ],
            [
             0.8,
             "#7fbc41"
            ],
            [
             0.9,
             "#4d9221"
            ],
            [
             1,
             "#276419"
            ]
           ],
           "sequential": [
            [
             0,
             "#0d0887"
            ],
            [
             0.1111111111111111,
             "#46039f"
            ],
            [
             0.2222222222222222,
             "#7201a8"
            ],
            [
             0.3333333333333333,
             "#9c179e"
            ],
            [
             0.4444444444444444,
             "#bd3786"
            ],
            [
             0.5555555555555556,
             "#d8576b"
            ],
            [
             0.6666666666666666,
             "#ed7953"
            ],
            [
             0.7777777777777778,
             "#fb9f3a"
            ],
            [
             0.8888888888888888,
             "#fdca26"
            ],
            [
             1,
             "#f0f921"
            ]
           ],
           "sequentialminus": [
            [
             0,
             "#0d0887"
            ],
            [
             0.1111111111111111,
             "#46039f"
            ],
            [
             0.2222222222222222,
             "#7201a8"
            ],
            [
             0.3333333333333333,
             "#9c179e"
            ],
            [
             0.4444444444444444,
             "#bd3786"
            ],
            [
             0.5555555555555556,
             "#d8576b"
            ],
            [
             0.6666666666666666,
             "#ed7953"
            ],
            [
             0.7777777777777778,
             "#fb9f3a"
            ],
            [
             0.8888888888888888,
             "#fdca26"
            ],
            [
             1,
             "#f0f921"
            ]
           ]
          },
          "colorway": [
           "#636efa",
           "#EF553B",
           "#00cc96",
           "#ab63fa",
           "#FFA15A",
           "#19d3f3",
           "#FF6692",
           "#B6E880",
           "#FF97FF",
           "#FECB52"
          ],
          "font": {
           "color": "#2a3f5f"
          },
          "geo": {
           "bgcolor": "white",
           "lakecolor": "white",
           "landcolor": "#E5ECF6",
           "showlakes": true,
           "showland": true,
           "subunitcolor": "white"
          },
          "hoverlabel": {
           "align": "left"
          },
          "hovermode": "closest",
          "mapbox": {
           "style": "light"
          },
          "paper_bgcolor": "white",
          "plot_bgcolor": "#E5ECF6",
          "polar": {
           "angularaxis": {
            "gridcolor": "white",
            "linecolor": "white",
            "ticks": ""
           },
           "bgcolor": "#E5ECF6",
           "radialaxis": {
            "gridcolor": "white",
            "linecolor": "white",
            "ticks": ""
           }
          },
          "scene": {
           "xaxis": {
            "backgroundcolor": "#E5ECF6",
            "gridcolor": "white",
            "gridwidth": 2,
            "linecolor": "white",
            "showbackground": true,
            "ticks": "",
            "zerolinecolor": "white"
           },
           "yaxis": {
            "backgroundcolor": "#E5ECF6",
            "gridcolor": "white",
            "gridwidth": 2,
            "linecolor": "white",
            "showbackground": true,
            "ticks": "",
            "zerolinecolor": "white"
           },
           "zaxis": {
            "backgroundcolor": "#E5ECF6",
            "gridcolor": "white",
            "gridwidth": 2,
            "linecolor": "white",
            "showbackground": true,
            "ticks": "",
            "zerolinecolor": "white"
           }
          },
          "shapedefaults": {
           "line": {
            "color": "#2a3f5f"
           }
          },
          "ternary": {
           "aaxis": {
            "gridcolor": "white",
            "linecolor": "white",
            "ticks": ""
           },
           "baxis": {
            "gridcolor": "white",
            "linecolor": "white",
            "ticks": ""
           },
           "bgcolor": "#E5ECF6",
           "caxis": {
            "gridcolor": "white",
            "linecolor": "white",
            "ticks": ""
           }
          },
          "title": {
           "x": 0.05
          },
          "xaxis": {
           "automargin": true,
           "gridcolor": "white",
           "linecolor": "white",
           "ticks": "",
           "title": {
            "standoff": 15
           },
           "zerolinecolor": "white",
           "zerolinewidth": 2
          },
          "yaxis": {
           "automargin": true,
           "gridcolor": "white",
           "linecolor": "white",
           "ticks": "",
           "title": {
            "standoff": 15
           },
           "zerolinecolor": "white",
           "zerolinewidth": 2
          }
         }
        },
        "title": {
         "text": "Distribución danceability:"
        },
        "xaxis": {
         "title": {
          "text": "Mood"
         }
        },
        "yaxis": {
         "title": {
          "text": "danceability"
         }
        }
       }
      }
     },
     "metadata": {},
     "output_type": "display_data"
    }
   ],
   "source": [
    "# Bailabilidad:\n",
    "\n",
    "fig = go.Figure()\n",
    "\n",
    "moods = ['Happy', 'Sad', 'Anger', 'Focus']\n",
    "\n",
    "for mood in moods:\n",
    "    fig.add_trace(go.Violin(x=df1['Mood'][df1['Mood'] == mood],\n",
    "                            y=df1['danceability'][df1['Mood'] == mood],\n",
    "                            name=mood,\n",
    "                            box_visible=True,\n",
    "                            meanline_visible=True))\n",
    "\n",
    "fig.update_layout(\n",
    "    title=\"Distribución danceability:\",\n",
    "    xaxis_title=\"Mood\",\n",
    "    yaxis_title=\"danceability\"\n",
    ")\n",
    "\n",
    "fig.show()"
   ]
  },
  {
   "cell_type": "code",
   "execution_count": 55,
   "metadata": {},
   "outputs": [
    {
     "data": {
      "application/vnd.plotly.v1+json": {
       "config": {
        "plotlyServerURL": "https://plot.ly"
       },
       "data": [
        {
         "box": {
          "visible": true
         },
         "meanline": {
          "visible": true
         },
         "name": "Happy",
         "type": "violin",
         "x": [
          "Happy",
          "Happy",
          "Happy",
          "Happy",
          "Happy",
          "Happy",
          "Happy",
          "Happy",
          "Happy",
          "Happy",
          "Happy",
          "Happy",
          "Happy",
          "Happy",
          "Happy",
          "Happy",
          "Happy",
          "Happy",
          "Happy",
          "Happy",
          "Happy",
          "Happy",
          "Happy",
          "Happy",
          "Happy",
          "Happy",
          "Happy",
          "Happy",
          "Happy",
          "Happy",
          "Happy",
          "Happy",
          "Happy",
          "Happy",
          "Happy",
          "Happy",
          "Happy",
          "Happy",
          "Happy",
          "Happy",
          "Happy",
          "Happy",
          "Happy",
          "Happy",
          "Happy",
          "Happy",
          "Happy",
          "Happy",
          "Happy",
          "Happy",
          "Happy",
          "Happy",
          "Happy",
          "Happy",
          "Happy",
          "Happy",
          "Happy",
          "Happy",
          "Happy",
          "Happy",
          "Happy",
          "Happy",
          "Happy",
          "Happy",
          "Happy",
          "Happy",
          "Happy",
          "Happy",
          "Happy",
          "Happy",
          "Happy",
          "Happy",
          "Happy",
          "Happy",
          "Happy",
          "Happy",
          "Happy",
          "Happy",
          "Happy",
          "Happy",
          "Happy",
          "Happy",
          "Happy",
          "Happy",
          "Happy",
          "Happy",
          "Happy",
          "Happy",
          "Happy",
          "Happy",
          "Happy",
          "Happy",
          "Happy",
          "Happy",
          "Happy",
          "Happy",
          "Happy",
          "Happy",
          "Happy",
          "Happy"
         ],
         "y": [
          0.965,
          0.797,
          0.845,
          0.73,
          0.816,
          0.516,
          0.681,
          0.58,
          0.91,
          0.859,
          0.525,
          0.732,
          0.609,
          0.766,
          0.696,
          0.846,
          0.622,
          0.88,
          0.908,
          0.671,
          0.765,
          0.774,
          0.822,
          0.821,
          0.683,
          0.715,
          0.734,
          0.875,
          0.69,
          0.738,
          0.701,
          0.902,
          0.862,
          0.503,
          0.455,
          0.713,
          0.743,
          0.834,
          0.697,
          0.756,
          0.874,
          0.54,
          0.83,
          0.75,
          0.782,
          0.851,
          0.812,
          0.763,
          0.913,
          0.833,
          0.792,
          0.701,
          0.459,
          0.529,
          0.671,
          0.769,
          0.895,
          0.879,
          0.793,
          0.862,
          0.675,
          0.808,
          0.513,
          0.934,
          0.784,
          0.66525,
          0.678,
          0.615,
          0.711,
          0.518,
          0.874,
          0.986,
          0.765,
          0.518,
          0.824,
          0.587,
          0.626,
          0.841,
          0.832,
          0.491,
          0.479,
          0.802,
          0.895,
          0.483,
          0.807,
          0.747,
          0.787,
          0.628,
          0.698,
          0.594,
          0.72,
          0.648,
          0.571,
          0.772,
          0.855,
          0.828,
          0.753,
          0.585,
          0.893,
          0.724
         ]
        },
        {
         "box": {
          "visible": true
         },
         "meanline": {
          "visible": true
         },
         "name": "Sad",
         "type": "violin",
         "x": [
          "Sad",
          "Sad",
          "Sad",
          "Sad",
          "Sad",
          "Sad",
          "Sad",
          "Sad",
          "Sad",
          "Sad",
          "Sad",
          "Sad",
          "Sad",
          "Sad",
          "Sad",
          "Sad",
          "Sad",
          "Sad",
          "Sad",
          "Sad",
          "Sad",
          "Sad",
          "Sad",
          "Sad",
          "Sad",
          "Sad",
          "Sad",
          "Sad",
          "Sad",
          "Sad",
          "Sad",
          "Sad",
          "Sad",
          "Sad",
          "Sad",
          "Sad",
          "Sad",
          "Sad",
          "Sad",
          "Sad",
          "Sad",
          "Sad",
          "Sad",
          "Sad",
          "Sad",
          "Sad",
          "Sad",
          "Sad",
          "Sad",
          "Sad",
          "Sad",
          "Sad",
          "Sad",
          "Sad",
          "Sad",
          "Sad",
          "Sad",
          "Sad",
          "Sad",
          "Sad",
          "Sad",
          "Sad",
          "Sad",
          "Sad",
          "Sad",
          "Sad",
          "Sad",
          "Sad",
          "Sad",
          "Sad",
          "Sad",
          "Sad",
          "Sad",
          "Sad",
          "Sad",
          "Sad",
          "Sad",
          "Sad",
          "Sad",
          "Sad",
          "Sad",
          "Sad",
          "Sad",
          "Sad",
          "Sad",
          "Sad",
          "Sad",
          "Sad",
          "Sad",
          "Sad",
          "Sad",
          "Sad",
          "Sad",
          "Sad",
          "Sad",
          "Sad",
          "Sad",
          "Sad",
          "Sad",
          "Sad"
         ],
         "y": [
          0.28,
          0.595,
          0.268,
          0.885,
          0.538,
          0.537,
          0.372,
          0.715,
          0.479,
          0.366,
          0.417,
          0.343,
          0.407,
          0.174,
          0.411,
          0.42,
          0.538,
          0.186,
          0.385,
          0.638,
          0.161,
          0.586,
          0.536,
          0.235,
          0.467,
          0.366,
          0.647,
          0.545,
          0.435,
          0.528,
          0.286,
          0.153,
          0.242,
          0.342,
          0.61,
          0.696,
          0.392,
          0.489,
          0.512,
          0.229,
          0.348,
          0.2,
          0.29,
          0.156,
          0.67,
          0.526,
          0.267,
          0.502,
          0.74,
          0.674,
          0.584,
          0.111,
          0.39,
          0.311,
          0.136,
          0.396,
          0.0585,
          0.167,
          0.624,
          0.325,
          0.535,
          0.31,
          0.206,
          0.526,
          0.303,
          0.361,
          0.647,
          0.208,
          0.292,
          0.468,
          0.42,
          0.465,
          0.224,
          0.149,
          0.275,
          0.495,
          0.373,
          0.142,
          0.17,
          0.109,
          0.489,
          0.349,
          0.175,
          0.245,
          0.25,
          0.315,
          0.453,
          0.35,
          0.495,
          0.443,
          0.495,
          0.639,
          0.188,
          0.607,
          0.53,
          0.158,
          0.459,
          0.539,
          0.355,
          0.371
         ]
        },
        {
         "box": {
          "visible": true
         },
         "meanline": {
          "visible": true
         },
         "name": "Anger",
         "type": "violin",
         "x": [
          "Anger",
          "Anger",
          "Anger",
          "Anger",
          "Anger",
          "Anger",
          "Anger",
          "Anger",
          "Anger",
          "Anger",
          "Anger",
          "Anger",
          "Anger",
          "Anger",
          "Anger",
          "Anger",
          "Anger",
          "Anger",
          "Anger",
          "Anger",
          "Anger",
          "Anger",
          "Anger",
          "Anger",
          "Anger",
          "Anger",
          "Anger",
          "Anger",
          "Anger",
          "Anger",
          "Anger",
          "Anger",
          "Anger",
          "Anger",
          "Anger",
          "Anger",
          "Anger",
          "Anger",
          "Anger",
          "Anger",
          "Anger",
          "Anger",
          "Anger",
          "Anger",
          "Anger",
          "Anger",
          "Anger",
          "Anger",
          "Anger",
          "Anger",
          "Anger",
          "Anger",
          "Anger",
          "Anger",
          "Anger",
          "Anger",
          "Anger",
          "Anger",
          "Anger",
          "Anger",
          "Anger",
          "Anger",
          "Anger",
          "Anger",
          "Anger"
         ],
         "y": [
          0.921,
          0.884,
          0.797,
          0.788,
          0.857,
          0.922,
          0.76,
          0.76,
          0.938,
          0.63,
          0.9,
          0.782,
          0.61,
          0.807,
          0.778,
          0.742,
          0.891,
          0.91,
          0.987,
          0.608,
          0.843,
          0.553,
          0.74,
          0.64,
          0.967,
          0.82,
          0.76,
          0.789,
          0.949,
          0.839,
          0.88,
          0.902,
          0.781,
          0.877,
          0.78,
          0.796,
          0.817,
          0.844,
          0.929,
          0.679,
          0.882,
          0.823,
          0.861,
          0.9,
          0.777,
          0.765,
          0.903,
          0.659,
          0.698,
          0.95,
          0.915,
          0.754,
          0.987,
          0.948,
          0.794,
          0.875,
          0.71,
          0.764,
          0.81,
          0.919,
          0.879,
          0.707,
          0.947,
          0.95,
          0.723
         ]
        },
        {
         "box": {
          "visible": true
         },
         "meanline": {
          "visible": true
         },
         "name": "Focus",
         "type": "violin",
         "x": [
          "Focus",
          "Focus",
          "Focus",
          "Focus",
          "Focus",
          "Focus",
          "Focus",
          "Focus",
          "Focus",
          "Focus",
          "Focus",
          "Focus",
          "Focus",
          "Focus",
          "Focus",
          "Focus",
          "Focus",
          "Focus",
          "Focus",
          "Focus",
          "Focus",
          "Focus",
          "Focus",
          "Focus",
          "Focus",
          "Focus",
          "Focus",
          "Focus",
          "Focus",
          "Focus",
          "Focus",
          "Focus",
          "Focus",
          "Focus",
          "Focus",
          "Focus",
          "Focus",
          "Focus",
          "Focus",
          "Focus",
          "Focus",
          "Focus",
          "Focus",
          "Focus",
          "Focus",
          "Focus",
          "Focus",
          "Focus",
          "Focus",
          "Focus",
          "Focus",
          "Focus",
          "Focus",
          "Focus",
          "Focus",
          "Focus",
          "Focus",
          "Focus",
          "Focus",
          "Focus",
          "Focus",
          "Focus",
          "Focus",
          "Focus",
          "Focus",
          "Focus",
          "Focus",
          "Focus",
          "Focus",
          "Focus",
          "Focus",
          "Focus",
          "Focus",
          "Focus",
          "Focus",
          "Focus",
          "Focus",
          "Focus",
          "Focus",
          "Focus",
          "Focus",
          "Focus",
          "Focus",
          "Focus",
          "Focus",
          "Focus",
          "Focus",
          "Focus",
          "Focus",
          "Focus",
          "Focus",
          "Focus",
          "Focus",
          "Focus",
          "Focus",
          "Focus",
          "Focus",
          "Focus",
          "Focus",
          "Focus"
         ],
         "y": [
          0.0721,
          0.1305,
          0.112,
          0.212,
          0.0513,
          0.0973,
          0.214,
          0.189,
          0.0646,
          0.083,
          0.0377,
          0.188,
          0.101,
          0.109,
          0.0744,
          0.119,
          0.119,
          0.0605,
          0.0899,
          0.0541,
          0.074,
          0.103,
          0.0314,
          0.209,
          0.136,
          0.189,
          0.0979,
          0.127,
          0.134,
          0.106,
          0.0949,
          0.055,
          0.194,
          0.153,
          0.128,
          0.0654,
          0.064,
          0.0856,
          0.224,
          0.0881,
          0.0324,
          0.0459,
          0.13,
          0.0712,
          0.0375,
          0.171,
          0.103,
          0.185,
          0.132,
          0.113,
          0.0992,
          0.0406,
          0.209,
          0.0737,
          0.038,
          0.0907,
          0.114,
          0.104,
          0.0247,
          0.0732,
          0.217,
          0.216,
          0.0991,
          0.127,
          0.218,
          0.0432,
          0.134,
          0.176,
          0.0699,
          0.122,
          0.0525,
          0.119,
          0.0604,
          0.0684,
          0.0722,
          0.12,
          0.0985,
          0.109,
          0.1305,
          0.0535,
          0.129,
          0.0356,
          0.0793,
          0.00954,
          0.124,
          0.059,
          0.1305,
          0.0622,
          0.0727,
          0.115,
          0.101,
          0.108,
          0.0458,
          0.0541,
          0.0374,
          0.0611,
          0.127,
          0.181,
          0.143,
          0.0549
         ]
        }
       ],
       "layout": {
        "template": {
         "data": {
          "bar": [
           {
            "error_x": {
             "color": "#2a3f5f"
            },
            "error_y": {
             "color": "#2a3f5f"
            },
            "marker": {
             "line": {
              "color": "#E5ECF6",
              "width": 0.5
             },
             "pattern": {
              "fillmode": "overlay",
              "size": 10,
              "solidity": 0.2
             }
            },
            "type": "bar"
           }
          ],
          "barpolar": [
           {
            "marker": {
             "line": {
              "color": "#E5ECF6",
              "width": 0.5
             },
             "pattern": {
              "fillmode": "overlay",
              "size": 10,
              "solidity": 0.2
             }
            },
            "type": "barpolar"
           }
          ],
          "carpet": [
           {
            "aaxis": {
             "endlinecolor": "#2a3f5f",
             "gridcolor": "white",
             "linecolor": "white",
             "minorgridcolor": "white",
             "startlinecolor": "#2a3f5f"
            },
            "baxis": {
             "endlinecolor": "#2a3f5f",
             "gridcolor": "white",
             "linecolor": "white",
             "minorgridcolor": "white",
             "startlinecolor": "#2a3f5f"
            },
            "type": "carpet"
           }
          ],
          "choropleth": [
           {
            "colorbar": {
             "outlinewidth": 0,
             "ticks": ""
            },
            "type": "choropleth"
           }
          ],
          "contour": [
           {
            "colorbar": {
             "outlinewidth": 0,
             "ticks": ""
            },
            "colorscale": [
             [
              0,
              "#0d0887"
             ],
             [
              0.1111111111111111,
              "#46039f"
             ],
             [
              0.2222222222222222,
              "#7201a8"
             ],
             [
              0.3333333333333333,
              "#9c179e"
             ],
             [
              0.4444444444444444,
              "#bd3786"
             ],
             [
              0.5555555555555556,
              "#d8576b"
             ],
             [
              0.6666666666666666,
              "#ed7953"
             ],
             [
              0.7777777777777778,
              "#fb9f3a"
             ],
             [
              0.8888888888888888,
              "#fdca26"
             ],
             [
              1,
              "#f0f921"
             ]
            ],
            "type": "contour"
           }
          ],
          "contourcarpet": [
           {
            "colorbar": {
             "outlinewidth": 0,
             "ticks": ""
            },
            "type": "contourcarpet"
           }
          ],
          "heatmap": [
           {
            "colorbar": {
             "outlinewidth": 0,
             "ticks": ""
            },
            "colorscale": [
             [
              0,
              "#0d0887"
             ],
             [
              0.1111111111111111,
              "#46039f"
             ],
             [
              0.2222222222222222,
              "#7201a8"
             ],
             [
              0.3333333333333333,
              "#9c179e"
             ],
             [
              0.4444444444444444,
              "#bd3786"
             ],
             [
              0.5555555555555556,
              "#d8576b"
             ],
             [
              0.6666666666666666,
              "#ed7953"
             ],
             [
              0.7777777777777778,
              "#fb9f3a"
             ],
             [
              0.8888888888888888,
              "#fdca26"
             ],
             [
              1,
              "#f0f921"
             ]
            ],
            "type": "heatmap"
           }
          ],
          "heatmapgl": [
           {
            "colorbar": {
             "outlinewidth": 0,
             "ticks": ""
            },
            "colorscale": [
             [
              0,
              "#0d0887"
             ],
             [
              0.1111111111111111,
              "#46039f"
             ],
             [
              0.2222222222222222,
              "#7201a8"
             ],
             [
              0.3333333333333333,
              "#9c179e"
             ],
             [
              0.4444444444444444,
              "#bd3786"
             ],
             [
              0.5555555555555556,
              "#d8576b"
             ],
             [
              0.6666666666666666,
              "#ed7953"
             ],
             [
              0.7777777777777778,
              "#fb9f3a"
             ],
             [
              0.8888888888888888,
              "#fdca26"
             ],
             [
              1,
              "#f0f921"
             ]
            ],
            "type": "heatmapgl"
           }
          ],
          "histogram": [
           {
            "marker": {
             "pattern": {
              "fillmode": "overlay",
              "size": 10,
              "solidity": 0.2
             }
            },
            "type": "histogram"
           }
          ],
          "histogram2d": [
           {
            "colorbar": {
             "outlinewidth": 0,
             "ticks": ""
            },
            "colorscale": [
             [
              0,
              "#0d0887"
             ],
             [
              0.1111111111111111,
              "#46039f"
             ],
             [
              0.2222222222222222,
              "#7201a8"
             ],
             [
              0.3333333333333333,
              "#9c179e"
             ],
             [
              0.4444444444444444,
              "#bd3786"
             ],
             [
              0.5555555555555556,
              "#d8576b"
             ],
             [
              0.6666666666666666,
              "#ed7953"
             ],
             [
              0.7777777777777778,
              "#fb9f3a"
             ],
             [
              0.8888888888888888,
              "#fdca26"
             ],
             [
              1,
              "#f0f921"
             ]
            ],
            "type": "histogram2d"
           }
          ],
          "histogram2dcontour": [
           {
            "colorbar": {
             "outlinewidth": 0,
             "ticks": ""
            },
            "colorscale": [
             [
              0,
              "#0d0887"
             ],
             [
              0.1111111111111111,
              "#46039f"
             ],
             [
              0.2222222222222222,
              "#7201a8"
             ],
             [
              0.3333333333333333,
              "#9c179e"
             ],
             [
              0.4444444444444444,
              "#bd3786"
             ],
             [
              0.5555555555555556,
              "#d8576b"
             ],
             [
              0.6666666666666666,
              "#ed7953"
             ],
             [
              0.7777777777777778,
              "#fb9f3a"
             ],
             [
              0.8888888888888888,
              "#fdca26"
             ],
             [
              1,
              "#f0f921"
             ]
            ],
            "type": "histogram2dcontour"
           }
          ],
          "mesh3d": [
           {
            "colorbar": {
             "outlinewidth": 0,
             "ticks": ""
            },
            "type": "mesh3d"
           }
          ],
          "parcoords": [
           {
            "line": {
             "colorbar": {
              "outlinewidth": 0,
              "ticks": ""
             }
            },
            "type": "parcoords"
           }
          ],
          "pie": [
           {
            "automargin": true,
            "type": "pie"
           }
          ],
          "scatter": [
           {
            "fillpattern": {
             "fillmode": "overlay",
             "size": 10,
             "solidity": 0.2
            },
            "type": "scatter"
           }
          ],
          "scatter3d": [
           {
            "line": {
             "colorbar": {
              "outlinewidth": 0,
              "ticks": ""
             }
            },
            "marker": {
             "colorbar": {
              "outlinewidth": 0,
              "ticks": ""
             }
            },
            "type": "scatter3d"
           }
          ],
          "scattercarpet": [
           {
            "marker": {
             "colorbar": {
              "outlinewidth": 0,
              "ticks": ""
             }
            },
            "type": "scattercarpet"
           }
          ],
          "scattergeo": [
           {
            "marker": {
             "colorbar": {
              "outlinewidth": 0,
              "ticks": ""
             }
            },
            "type": "scattergeo"
           }
          ],
          "scattergl": [
           {
            "marker": {
             "colorbar": {
              "outlinewidth": 0,
              "ticks": ""
             }
            },
            "type": "scattergl"
           }
          ],
          "scattermapbox": [
           {
            "marker": {
             "colorbar": {
              "outlinewidth": 0,
              "ticks": ""
             }
            },
            "type": "scattermapbox"
           }
          ],
          "scatterpolar": [
           {
            "marker": {
             "colorbar": {
              "outlinewidth": 0,
              "ticks": ""
             }
            },
            "type": "scatterpolar"
           }
          ],
          "scatterpolargl": [
           {
            "marker": {
             "colorbar": {
              "outlinewidth": 0,
              "ticks": ""
             }
            },
            "type": "scatterpolargl"
           }
          ],
          "scatterternary": [
           {
            "marker": {
             "colorbar": {
              "outlinewidth": 0,
              "ticks": ""
             }
            },
            "type": "scatterternary"
           }
          ],
          "surface": [
           {
            "colorbar": {
             "outlinewidth": 0,
             "ticks": ""
            },
            "colorscale": [
             [
              0,
              "#0d0887"
             ],
             [
              0.1111111111111111,
              "#46039f"
             ],
             [
              0.2222222222222222,
              "#7201a8"
             ],
             [
              0.3333333333333333,
              "#9c179e"
             ],
             [
              0.4444444444444444,
              "#bd3786"
             ],
             [
              0.5555555555555556,
              "#d8576b"
             ],
             [
              0.6666666666666666,
              "#ed7953"
             ],
             [
              0.7777777777777778,
              "#fb9f3a"
             ],
             [
              0.8888888888888888,
              "#fdca26"
             ],
             [
              1,
              "#f0f921"
             ]
            ],
            "type": "surface"
           }
          ],
          "table": [
           {
            "cells": {
             "fill": {
              "color": "#EBF0F8"
             },
             "line": {
              "color": "white"
             }
            },
            "header": {
             "fill": {
              "color": "#C8D4E3"
             },
             "line": {
              "color": "white"
             }
            },
            "type": "table"
           }
          ]
         },
         "layout": {
          "annotationdefaults": {
           "arrowcolor": "#2a3f5f",
           "arrowhead": 0,
           "arrowwidth": 1
          },
          "autotypenumbers": "strict",
          "coloraxis": {
           "colorbar": {
            "outlinewidth": 0,
            "ticks": ""
           }
          },
          "colorscale": {
           "diverging": [
            [
             0,
             "#8e0152"
            ],
            [
             0.1,
             "#c51b7d"
            ],
            [
             0.2,
             "#de77ae"
            ],
            [
             0.3,
             "#f1b6da"
            ],
            [
             0.4,
             "#fde0ef"
            ],
            [
             0.5,
             "#f7f7f7"
            ],
            [
             0.6,
             "#e6f5d0"
            ],
            [
             0.7,
             "#b8e186"
            ],
            [
             0.8,
             "#7fbc41"
            ],
            [
             0.9,
             "#4d9221"
            ],
            [
             1,
             "#276419"
            ]
           ],
           "sequential": [
            [
             0,
             "#0d0887"
            ],
            [
             0.1111111111111111,
             "#46039f"
            ],
            [
             0.2222222222222222,
             "#7201a8"
            ],
            [
             0.3333333333333333,
             "#9c179e"
            ],
            [
             0.4444444444444444,
             "#bd3786"
            ],
            [
             0.5555555555555556,
             "#d8576b"
            ],
            [
             0.6666666666666666,
             "#ed7953"
            ],
            [
             0.7777777777777778,
             "#fb9f3a"
            ],
            [
             0.8888888888888888,
             "#fdca26"
            ],
            [
             1,
             "#f0f921"
            ]
           ],
           "sequentialminus": [
            [
             0,
             "#0d0887"
            ],
            [
             0.1111111111111111,
             "#46039f"
            ],
            [
             0.2222222222222222,
             "#7201a8"
            ],
            [
             0.3333333333333333,
             "#9c179e"
            ],
            [
             0.4444444444444444,
             "#bd3786"
            ],
            [
             0.5555555555555556,
             "#d8576b"
            ],
            [
             0.6666666666666666,
             "#ed7953"
            ],
            [
             0.7777777777777778,
             "#fb9f3a"
            ],
            [
             0.8888888888888888,
             "#fdca26"
            ],
            [
             1,
             "#f0f921"
            ]
           ]
          },
          "colorway": [
           "#636efa",
           "#EF553B",
           "#00cc96",
           "#ab63fa",
           "#FFA15A",
           "#19d3f3",
           "#FF6692",
           "#B6E880",
           "#FF97FF",
           "#FECB52"
          ],
          "font": {
           "color": "#2a3f5f"
          },
          "geo": {
           "bgcolor": "white",
           "lakecolor": "white",
           "landcolor": "#E5ECF6",
           "showlakes": true,
           "showland": true,
           "subunitcolor": "white"
          },
          "hoverlabel": {
           "align": "left"
          },
          "hovermode": "closest",
          "mapbox": {
           "style": "light"
          },
          "paper_bgcolor": "white",
          "plot_bgcolor": "#E5ECF6",
          "polar": {
           "angularaxis": {
            "gridcolor": "white",
            "linecolor": "white",
            "ticks": ""
           },
           "bgcolor": "#E5ECF6",
           "radialaxis": {
            "gridcolor": "white",
            "linecolor": "white",
            "ticks": ""
           }
          },
          "scene": {
           "xaxis": {
            "backgroundcolor": "#E5ECF6",
            "gridcolor": "white",
            "gridwidth": 2,
            "linecolor": "white",
            "showbackground": true,
            "ticks": "",
            "zerolinecolor": "white"
           },
           "yaxis": {
            "backgroundcolor": "#E5ECF6",
            "gridcolor": "white",
            "gridwidth": 2,
            "linecolor": "white",
            "showbackground": true,
            "ticks": "",
            "zerolinecolor": "white"
           },
           "zaxis": {
            "backgroundcolor": "#E5ECF6",
            "gridcolor": "white",
            "gridwidth": 2,
            "linecolor": "white",
            "showbackground": true,
            "ticks": "",
            "zerolinecolor": "white"
           }
          },
          "shapedefaults": {
           "line": {
            "color": "#2a3f5f"
           }
          },
          "ternary": {
           "aaxis": {
            "gridcolor": "white",
            "linecolor": "white",
            "ticks": ""
           },
           "baxis": {
            "gridcolor": "white",
            "linecolor": "white",
            "ticks": ""
           },
           "bgcolor": "#E5ECF6",
           "caxis": {
            "gridcolor": "white",
            "linecolor": "white",
            "ticks": ""
           }
          },
          "title": {
           "x": 0.05
          },
          "xaxis": {
           "automargin": true,
           "gridcolor": "white",
           "linecolor": "white",
           "ticks": "",
           "title": {
            "standoff": 15
           },
           "zerolinecolor": "white",
           "zerolinewidth": 2
          },
          "yaxis": {
           "automargin": true,
           "gridcolor": "white",
           "linecolor": "white",
           "ticks": "",
           "title": {
            "standoff": 15
           },
           "zerolinecolor": "white",
           "zerolinewidth": 2
          }
         }
        },
        "title": {
         "text": "Distribución danceability:"
        },
        "xaxis": {
         "title": {
          "text": "Mood"
         }
        },
        "yaxis": {
         "title": {
          "text": "energy"
         }
        }
       }
      }
     },
     "metadata": {},
     "output_type": "display_data"
    }
   ],
   "source": [
    "# Energía:\n",
    "\n",
    "fig = go.Figure()\n",
    "\n",
    "moods = ['Happy', 'Sad', 'Anger', 'Focus']\n",
    "\n",
    "for mood in moods:\n",
    "    fig.add_trace(go.Violin(x=df1['Mood'][df1['Mood'] == mood],\n",
    "                            y=df1['energy'][df1['Mood'] == mood],\n",
    "                            name=mood,\n",
    "                            box_visible=True,\n",
    "                            meanline_visible=True))\n",
    "\n",
    "fig.update_layout(\n",
    "    title=\"Distribución danceability:\",\n",
    "    xaxis_title=\"Mood\",\n",
    "    yaxis_title=\"energy\"\n",
    ")\n",
    "\n",
    "fig.show()"
   ]
  },
  {
   "cell_type": "code",
   "execution_count": 56,
   "metadata": {},
   "outputs": [
    {
     "data": {
      "application/vnd.plotly.v1+json": {
       "config": {
        "plotlyServerURL": "https://plot.ly"
       },
       "data": [
        {
         "box": {
          "visible": true
         },
         "meanline": {
          "visible": true
         },
         "name": "Happy",
         "type": "violin",
         "x": [
          "Happy",
          "Happy",
          "Happy",
          "Happy",
          "Happy",
          "Happy",
          "Happy",
          "Happy",
          "Happy",
          "Happy",
          "Happy",
          "Happy",
          "Happy",
          "Happy",
          "Happy",
          "Happy",
          "Happy",
          "Happy",
          "Happy",
          "Happy",
          "Happy",
          "Happy",
          "Happy",
          "Happy",
          "Happy",
          "Happy",
          "Happy",
          "Happy",
          "Happy",
          "Happy",
          "Happy",
          "Happy",
          "Happy",
          "Happy",
          "Happy",
          "Happy",
          "Happy",
          "Happy",
          "Happy",
          "Happy",
          "Happy",
          "Happy",
          "Happy",
          "Happy",
          "Happy",
          "Happy",
          "Happy",
          "Happy",
          "Happy",
          "Happy",
          "Happy",
          "Happy",
          "Happy",
          "Happy",
          "Happy",
          "Happy",
          "Happy",
          "Happy",
          "Happy",
          "Happy",
          "Happy",
          "Happy",
          "Happy",
          "Happy",
          "Happy",
          "Happy",
          "Happy",
          "Happy",
          "Happy",
          "Happy",
          "Happy",
          "Happy",
          "Happy",
          "Happy",
          "Happy",
          "Happy",
          "Happy",
          "Happy",
          "Happy",
          "Happy",
          "Happy",
          "Happy",
          "Happy",
          "Happy",
          "Happy",
          "Happy",
          "Happy",
          "Happy",
          "Happy",
          "Happy",
          "Happy",
          "Happy",
          "Happy",
          "Happy",
          "Happy",
          "Happy",
          "Happy",
          "Happy",
          "Happy",
          "Happy"
         ],
         "y": [
          -3.673,
          -5.927,
          -4.93,
          -5.934,
          -4.209,
          -5.817,
          -7.91,
          -8.393,
          -3.404,
          -2.724,
          -3.562,
          -3.982,
          -7.223,
          -3.955,
          -6.181,
          -4.51,
          -7.923,
          -4.56,
          -4.25,
          -5.617,
          -4.41,
          -4.673,
          -4.662,
          -4.103,
          -2.881,
          -4.652,
          -5.065,
          -4.621,
          -4.057,
          -4.413,
          -6.39,
          -2.392,
          -3.424,
          -6.725,
          -8.303,
          -3.758,
          -6.305,
          -4.868,
          -6.377,
          -3.394,
          -3.158,
          -6.039,
          -4.105,
          -4.602,
          -4.541,
          -5.342,
          -4.417,
          -4.407,
          -2.926,
          -4.403,
          -4.021,
          -3.541,
          -5.187,
          -7.548,
          -5.077,
          -4.111,
          -4.439,
          -6.405,
          -4.521,
          -2.903,
          -5.041,
          -4.501,
          -6.643,
          -3.709,
          -4.878,
          -6.3927499999999995,
          -7.159,
          -5.865,
          -4.248,
          -6.3927499999999995,
          -2.966,
          -4.606,
          -6.459,
          -6.594,
          -4.613,
          -6.401,
          -6.919,
          -5.08,
          -5.721,
          -6.3927499999999995,
          -5.339,
          -4.005,
          -4.872,
          -7.012,
          -3.285,
          -5.084,
          -4.999,
          -7.178,
          -7.206,
          -6.879,
          -8.173,
          -8.113,
          -7.906,
          -6.784,
          -3.764,
          -6.023,
          -5.356,
          -5.994,
          -3.255,
          -5.019
         ]
        },
        {
         "box": {
          "visible": true
         },
         "meanline": {
          "visible": true
         },
         "name": "Sad",
         "type": "violin",
         "x": [
          "Sad",
          "Sad",
          "Sad",
          "Sad",
          "Sad",
          "Sad",
          "Sad",
          "Sad",
          "Sad",
          "Sad",
          "Sad",
          "Sad",
          "Sad",
          "Sad",
          "Sad",
          "Sad",
          "Sad",
          "Sad",
          "Sad",
          "Sad",
          "Sad",
          "Sad",
          "Sad",
          "Sad",
          "Sad",
          "Sad",
          "Sad",
          "Sad",
          "Sad",
          "Sad",
          "Sad",
          "Sad",
          "Sad",
          "Sad",
          "Sad",
          "Sad",
          "Sad",
          "Sad",
          "Sad",
          "Sad",
          "Sad",
          "Sad",
          "Sad",
          "Sad",
          "Sad",
          "Sad",
          "Sad",
          "Sad",
          "Sad",
          "Sad",
          "Sad",
          "Sad",
          "Sad",
          "Sad",
          "Sad",
          "Sad",
          "Sad",
          "Sad",
          "Sad",
          "Sad",
          "Sad",
          "Sad",
          "Sad",
          "Sad",
          "Sad",
          "Sad",
          "Sad",
          "Sad",
          "Sad",
          "Sad",
          "Sad",
          "Sad",
          "Sad",
          "Sad",
          "Sad",
          "Sad",
          "Sad",
          "Sad",
          "Sad",
          "Sad",
          "Sad",
          "Sad",
          "Sad",
          "Sad",
          "Sad",
          "Sad",
          "Sad",
          "Sad",
          "Sad",
          "Sad",
          "Sad",
          "Sad",
          "Sad",
          "Sad",
          "Sad",
          "Sad",
          "Sad",
          "Sad",
          "Sad",
          "Sad"
         ],
         "y": [
          -8.648,
          -5.936,
          -10.506,
          -4.528,
          -6.673,
          -8.532,
          -8.237,
          -8.072,
          -7.458,
          -7.519,
          -8.74,
          -8.985,
          -7.445,
          -8.745,
          -9.733,
          -6.444,
          -5.408,
          -8.953,
          -7.355,
          -5.862,
          -10.107,
          -6.319,
          -8.233,
          -7.699,
          -6.184,
          -9.51,
          -6.815,
          -7.346,
          -11.359,
          -7.809,
          -11.881,
          -8.95,
          -10.517,
          -8.93,
          -5.098,
          -4.501,
          -7.636,
          -7.419,
          -9.261,
          -11.254,
          -6.142,
          -11.063,
          -8.485,
          -10.107,
          -4.663,
          -8.524,
          -9.249,
          -5.972,
          -6.12,
          -5.134,
          -5.362,
          -11.879,
          -7.202,
          -10.396,
          -10.33,
          -6.654,
          -10.107,
          -11.635,
          -3.631,
          -10.005,
          -6.275,
          -10.164,
          -12.233,
          -7.492,
          -7.508,
          -8.346,
          -5.864,
          -11.917,
          -6.792,
          -8.177,
          -6.957,
          -4.88,
          -8.683,
          -10.107,
          -10.357,
          -6.634,
          -5.72,
          -13.498,
          -11.368,
          -10.107,
          -6.286,
          -9.321,
          -12.038,
          -6.372,
          -10.088,
          -8.532,
          -7.685,
          -10.955,
          -7.669,
          -12.017,
          -6.124,
          -5.222,
          -12.688,
          -5.031,
          -6.513,
          -7.571,
          -8.029,
          -4.719,
          -8.61,
          -6.3
         ]
        },
        {
         "box": {
          "visible": true
         },
         "meanline": {
          "visible": true
         },
         "name": "Anger",
         "type": "violin",
         "x": [
          "Anger",
          "Anger",
          "Anger",
          "Anger",
          "Anger",
          "Anger",
          "Anger",
          "Anger",
          "Anger",
          "Anger",
          "Anger",
          "Anger",
          "Anger",
          "Anger",
          "Anger",
          "Anger",
          "Anger",
          "Anger",
          "Anger",
          "Anger",
          "Anger",
          "Anger",
          "Anger",
          "Anger",
          "Anger",
          "Anger",
          "Anger",
          "Anger",
          "Anger",
          "Anger",
          "Anger",
          "Anger",
          "Anger",
          "Anger",
          "Anger",
          "Anger",
          "Anger",
          "Anger",
          "Anger",
          "Anger",
          "Anger",
          "Anger",
          "Anger",
          "Anger",
          "Anger",
          "Anger",
          "Anger",
          "Anger",
          "Anger",
          "Anger",
          "Anger",
          "Anger",
          "Anger",
          "Anger",
          "Anger",
          "Anger",
          "Anger",
          "Anger",
          "Anger",
          "Anger",
          "Anger",
          "Anger",
          "Anger",
          "Anger",
          "Anger"
         ],
         "y": [
          -3.727,
          -4.292,
          -5.464,
          -4.075,
          -3.063,
          -2.666,
          -7.596,
          -6.887,
          -3.442,
          -7.24,
          -4.407,
          -5.326,
          -8.329,
          -6.258,
          -4.774,
          -5.29,
          -5.402,
          -6.853,
          -2.059,
          -4.008,
          -5.909,
          -6.742,
          -4.759,
          -6.061,
          -4.464,
          -3.618,
          -8.376,
          -4.686,
          -3.048,
          -5.342,
          -2.938,
          -4.838,
          -6.355,
          -3.922,
          -5.43,
          -5.236,
          -4.951,
          -5.055,
          -5.021,
          -6.093,
          -4.702,
          -4.852,
          -1.856,
          -3.87,
          -7.002,
          -4.025,
          -3.133,
          -7.74,
          -6.939,
          -3.441,
          -2.087,
          -5.417,
          -1.789,
          -5.304,
          -3.825,
          -4.013,
          -8.665,
          -5.238,
          -7.287,
          -6.182,
          -4.326,
          -5.382,
          -3.608,
          -3.313,
          -3.333
         ]
        },
        {
         "box": {
          "visible": true
         },
         "meanline": {
          "visible": true
         },
         "name": "Focus",
         "type": "violin",
         "x": [
          "Focus",
          "Focus",
          "Focus",
          "Focus",
          "Focus",
          "Focus",
          "Focus",
          "Focus",
          "Focus",
          "Focus",
          "Focus",
          "Focus",
          "Focus",
          "Focus",
          "Focus",
          "Focus",
          "Focus",
          "Focus",
          "Focus",
          "Focus",
          "Focus",
          "Focus",
          "Focus",
          "Focus",
          "Focus",
          "Focus",
          "Focus",
          "Focus",
          "Focus",
          "Focus",
          "Focus",
          "Focus",
          "Focus",
          "Focus",
          "Focus",
          "Focus",
          "Focus",
          "Focus",
          "Focus",
          "Focus",
          "Focus",
          "Focus",
          "Focus",
          "Focus",
          "Focus",
          "Focus",
          "Focus",
          "Focus",
          "Focus",
          "Focus",
          "Focus",
          "Focus",
          "Focus",
          "Focus",
          "Focus",
          "Focus",
          "Focus",
          "Focus",
          "Focus",
          "Focus",
          "Focus",
          "Focus",
          "Focus",
          "Focus",
          "Focus",
          "Focus",
          "Focus",
          "Focus",
          "Focus",
          "Focus",
          "Focus",
          "Focus",
          "Focus",
          "Focus",
          "Focus",
          "Focus",
          "Focus",
          "Focus",
          "Focus",
          "Focus",
          "Focus",
          "Focus",
          "Focus",
          "Focus",
          "Focus",
          "Focus",
          "Focus",
          "Focus",
          "Focus",
          "Focus",
          "Focus",
          "Focus",
          "Focus",
          "Focus",
          "Focus",
          "Focus",
          "Focus",
          "Focus",
          "Focus",
          "Focus"
         ],
         "y": [
          -22.973,
          -22.534,
          -18.687,
          -23.342,
          -20.528,
          -20.7,
          -19.268,
          -18.005,
          -21.471,
          -20.563,
          -24.575,
          -22.21,
          -19.363,
          -18.283,
          -20.888,
          -20.206,
          -18.879,
          -19.301,
          -22.09,
          -20.988,
          -23.149,
          -21.485,
          -23.602,
          -19.438,
          -26.077,
          -17.024,
          -16.918,
          -17.301,
          -19.707,
          -20.175,
          -15.708,
          -22.641,
          -16.216,
          -20.776,
          -16.382,
          -18.799,
          -17.377,
          -16.351,
          -12.71,
          -19.834,
          -25.884,
          -21.804,
          -19.655,
          -17.961,
          -22.686,
          -17.482,
          -17.993,
          -21.407,
          -18.227,
          -17.222,
          -20.105,
          -21.477,
          -16.211,
          -22.375,
          -23.197,
          -16.55,
          -17.919,
          -20.96,
          -22.376,
          -19.831,
          -14.367,
          -18.172,
          -20.172,
          -19.69,
          -17.352,
          -23.186,
          -15.87,
          -15.088,
          -20.839,
          -17.167,
          -21.708,
          -21.969,
          -19.685,
          -19.494,
          -20.913,
          -20.333,
          -22.02,
          -19.68,
          -18.009,
          -19.569,
          -18.357,
          -20.645,
          -20.648,
          -21.713749999999997,
          -18.633,
          -22.33,
          -18.005,
          -21.731,
          -22.296,
          -18.215,
          -18.238,
          -20.004,
          -23.414,
          -21.289,
          -22.862,
          -20.555,
          -17.192,
          -18.82,
          -17.674,
          -21.011
         ]
        }
       ],
       "layout": {
        "template": {
         "data": {
          "bar": [
           {
            "error_x": {
             "color": "#2a3f5f"
            },
            "error_y": {
             "color": "#2a3f5f"
            },
            "marker": {
             "line": {
              "color": "#E5ECF6",
              "width": 0.5
             },
             "pattern": {
              "fillmode": "overlay",
              "size": 10,
              "solidity": 0.2
             }
            },
            "type": "bar"
           }
          ],
          "barpolar": [
           {
            "marker": {
             "line": {
              "color": "#E5ECF6",
              "width": 0.5
             },
             "pattern": {
              "fillmode": "overlay",
              "size": 10,
              "solidity": 0.2
             }
            },
            "type": "barpolar"
           }
          ],
          "carpet": [
           {
            "aaxis": {
             "endlinecolor": "#2a3f5f",
             "gridcolor": "white",
             "linecolor": "white",
             "minorgridcolor": "white",
             "startlinecolor": "#2a3f5f"
            },
            "baxis": {
             "endlinecolor": "#2a3f5f",
             "gridcolor": "white",
             "linecolor": "white",
             "minorgridcolor": "white",
             "startlinecolor": "#2a3f5f"
            },
            "type": "carpet"
           }
          ],
          "choropleth": [
           {
            "colorbar": {
             "outlinewidth": 0,
             "ticks": ""
            },
            "type": "choropleth"
           }
          ],
          "contour": [
           {
            "colorbar": {
             "outlinewidth": 0,
             "ticks": ""
            },
            "colorscale": [
             [
              0,
              "#0d0887"
             ],
             [
              0.1111111111111111,
              "#46039f"
             ],
             [
              0.2222222222222222,
              "#7201a8"
             ],
             [
              0.3333333333333333,
              "#9c179e"
             ],
             [
              0.4444444444444444,
              "#bd3786"
             ],
             [
              0.5555555555555556,
              "#d8576b"
             ],
             [
              0.6666666666666666,
              "#ed7953"
             ],
             [
              0.7777777777777778,
              "#fb9f3a"
             ],
             [
              0.8888888888888888,
              "#fdca26"
             ],
             [
              1,
              "#f0f921"
             ]
            ],
            "type": "contour"
           }
          ],
          "contourcarpet": [
           {
            "colorbar": {
             "outlinewidth": 0,
             "ticks": ""
            },
            "type": "contourcarpet"
           }
          ],
          "heatmap": [
           {
            "colorbar": {
             "outlinewidth": 0,
             "ticks": ""
            },
            "colorscale": [
             [
              0,
              "#0d0887"
             ],
             [
              0.1111111111111111,
              "#46039f"
             ],
             [
              0.2222222222222222,
              "#7201a8"
             ],
             [
              0.3333333333333333,
              "#9c179e"
             ],
             [
              0.4444444444444444,
              "#bd3786"
             ],
             [
              0.5555555555555556,
              "#d8576b"
             ],
             [
              0.6666666666666666,
              "#ed7953"
             ],
             [
              0.7777777777777778,
              "#fb9f3a"
             ],
             [
              0.8888888888888888,
              "#fdca26"
             ],
             [
              1,
              "#f0f921"
             ]
            ],
            "type": "heatmap"
           }
          ],
          "heatmapgl": [
           {
            "colorbar": {
             "outlinewidth": 0,
             "ticks": ""
            },
            "colorscale": [
             [
              0,
              "#0d0887"
             ],
             [
              0.1111111111111111,
              "#46039f"
             ],
             [
              0.2222222222222222,
              "#7201a8"
             ],
             [
              0.3333333333333333,
              "#9c179e"
             ],
             [
              0.4444444444444444,
              "#bd3786"
             ],
             [
              0.5555555555555556,
              "#d8576b"
             ],
             [
              0.6666666666666666,
              "#ed7953"
             ],
             [
              0.7777777777777778,
              "#fb9f3a"
             ],
             [
              0.8888888888888888,
              "#fdca26"
             ],
             [
              1,
              "#f0f921"
             ]
            ],
            "type": "heatmapgl"
           }
          ],
          "histogram": [
           {
            "marker": {
             "pattern": {
              "fillmode": "overlay",
              "size": 10,
              "solidity": 0.2
             }
            },
            "type": "histogram"
           }
          ],
          "histogram2d": [
           {
            "colorbar": {
             "outlinewidth": 0,
             "ticks": ""
            },
            "colorscale": [
             [
              0,
              "#0d0887"
             ],
             [
              0.1111111111111111,
              "#46039f"
             ],
             [
              0.2222222222222222,
              "#7201a8"
             ],
             [
              0.3333333333333333,
              "#9c179e"
             ],
             [
              0.4444444444444444,
              "#bd3786"
             ],
             [
              0.5555555555555556,
              "#d8576b"
             ],
             [
              0.6666666666666666,
              "#ed7953"
             ],
             [
              0.7777777777777778,
              "#fb9f3a"
             ],
             [
              0.8888888888888888,
              "#fdca26"
             ],
             [
              1,
              "#f0f921"
             ]
            ],
            "type": "histogram2d"
           }
          ],
          "histogram2dcontour": [
           {
            "colorbar": {
             "outlinewidth": 0,
             "ticks": ""
            },
            "colorscale": [
             [
              0,
              "#0d0887"
             ],
             [
              0.1111111111111111,
              "#46039f"
             ],
             [
              0.2222222222222222,
              "#7201a8"
             ],
             [
              0.3333333333333333,
              "#9c179e"
             ],
             [
              0.4444444444444444,
              "#bd3786"
             ],
             [
              0.5555555555555556,
              "#d8576b"
             ],
             [
              0.6666666666666666,
              "#ed7953"
             ],
             [
              0.7777777777777778,
              "#fb9f3a"
             ],
             [
              0.8888888888888888,
              "#fdca26"
             ],
             [
              1,
              "#f0f921"
             ]
            ],
            "type": "histogram2dcontour"
           }
          ],
          "mesh3d": [
           {
            "colorbar": {
             "outlinewidth": 0,
             "ticks": ""
            },
            "type": "mesh3d"
           }
          ],
          "parcoords": [
           {
            "line": {
             "colorbar": {
              "outlinewidth": 0,
              "ticks": ""
             }
            },
            "type": "parcoords"
           }
          ],
          "pie": [
           {
            "automargin": true,
            "type": "pie"
           }
          ],
          "scatter": [
           {
            "fillpattern": {
             "fillmode": "overlay",
             "size": 10,
             "solidity": 0.2
            },
            "type": "scatter"
           }
          ],
          "scatter3d": [
           {
            "line": {
             "colorbar": {
              "outlinewidth": 0,
              "ticks": ""
             }
            },
            "marker": {
             "colorbar": {
              "outlinewidth": 0,
              "ticks": ""
             }
            },
            "type": "scatter3d"
           }
          ],
          "scattercarpet": [
           {
            "marker": {
             "colorbar": {
              "outlinewidth": 0,
              "ticks": ""
             }
            },
            "type": "scattercarpet"
           }
          ],
          "scattergeo": [
           {
            "marker": {
             "colorbar": {
              "outlinewidth": 0,
              "ticks": ""
             }
            },
            "type": "scattergeo"
           }
          ],
          "scattergl": [
           {
            "marker": {
             "colorbar": {
              "outlinewidth": 0,
              "ticks": ""
             }
            },
            "type": "scattergl"
           }
          ],
          "scattermapbox": [
           {
            "marker": {
             "colorbar": {
              "outlinewidth": 0,
              "ticks": ""
             }
            },
            "type": "scattermapbox"
           }
          ],
          "scatterpolar": [
           {
            "marker": {
             "colorbar": {
              "outlinewidth": 0,
              "ticks": ""
             }
            },
            "type": "scatterpolar"
           }
          ],
          "scatterpolargl": [
           {
            "marker": {
             "colorbar": {
              "outlinewidth": 0,
              "ticks": ""
             }
            },
            "type": "scatterpolargl"
           }
          ],
          "scatterternary": [
           {
            "marker": {
             "colorbar": {
              "outlinewidth": 0,
              "ticks": ""
             }
            },
            "type": "scatterternary"
           }
          ],
          "surface": [
           {
            "colorbar": {
             "outlinewidth": 0,
             "ticks": ""
            },
            "colorscale": [
             [
              0,
              "#0d0887"
             ],
             [
              0.1111111111111111,
              "#46039f"
             ],
             [
              0.2222222222222222,
              "#7201a8"
             ],
             [
              0.3333333333333333,
              "#9c179e"
             ],
             [
              0.4444444444444444,
              "#bd3786"
             ],
             [
              0.5555555555555556,
              "#d8576b"
             ],
             [
              0.6666666666666666,
              "#ed7953"
             ],
             [
              0.7777777777777778,
              "#fb9f3a"
             ],
             [
              0.8888888888888888,
              "#fdca26"
             ],
             [
              1,
              "#f0f921"
             ]
            ],
            "type": "surface"
           }
          ],
          "table": [
           {
            "cells": {
             "fill": {
              "color": "#EBF0F8"
             },
             "line": {
              "color": "white"
             }
            },
            "header": {
             "fill": {
              "color": "#C8D4E3"
             },
             "line": {
              "color": "white"
             }
            },
            "type": "table"
           }
          ]
         },
         "layout": {
          "annotationdefaults": {
           "arrowcolor": "#2a3f5f",
           "arrowhead": 0,
           "arrowwidth": 1
          },
          "autotypenumbers": "strict",
          "coloraxis": {
           "colorbar": {
            "outlinewidth": 0,
            "ticks": ""
           }
          },
          "colorscale": {
           "diverging": [
            [
             0,
             "#8e0152"
            ],
            [
             0.1,
             "#c51b7d"
            ],
            [
             0.2,
             "#de77ae"
            ],
            [
             0.3,
             "#f1b6da"
            ],
            [
             0.4,
             "#fde0ef"
            ],
            [
             0.5,
             "#f7f7f7"
            ],
            [
             0.6,
             "#e6f5d0"
            ],
            [
             0.7,
             "#b8e186"
            ],
            [
             0.8,
             "#7fbc41"
            ],
            [
             0.9,
             "#4d9221"
            ],
            [
             1,
             "#276419"
            ]
           ],
           "sequential": [
            [
             0,
             "#0d0887"
            ],
            [
             0.1111111111111111,
             "#46039f"
            ],
            [
             0.2222222222222222,
             "#7201a8"
            ],
            [
             0.3333333333333333,
             "#9c179e"
            ],
            [
             0.4444444444444444,
             "#bd3786"
            ],
            [
             0.5555555555555556,
             "#d8576b"
            ],
            [
             0.6666666666666666,
             "#ed7953"
            ],
            [
             0.7777777777777778,
             "#fb9f3a"
            ],
            [
             0.8888888888888888,
             "#fdca26"
            ],
            [
             1,
             "#f0f921"
            ]
           ],
           "sequentialminus": [
            [
             0,
             "#0d0887"
            ],
            [
             0.1111111111111111,
             "#46039f"
            ],
            [
             0.2222222222222222,
             "#7201a8"
            ],
            [
             0.3333333333333333,
             "#9c179e"
            ],
            [
             0.4444444444444444,
             "#bd3786"
            ],
            [
             0.5555555555555556,
             "#d8576b"
            ],
            [
             0.6666666666666666,
             "#ed7953"
            ],
            [
             0.7777777777777778,
             "#fb9f3a"
            ],
            [
             0.8888888888888888,
             "#fdca26"
            ],
            [
             1,
             "#f0f921"
            ]
           ]
          },
          "colorway": [
           "#636efa",
           "#EF553B",
           "#00cc96",
           "#ab63fa",
           "#FFA15A",
           "#19d3f3",
           "#FF6692",
           "#B6E880",
           "#FF97FF",
           "#FECB52"
          ],
          "font": {
           "color": "#2a3f5f"
          },
          "geo": {
           "bgcolor": "white",
           "lakecolor": "white",
           "landcolor": "#E5ECF6",
           "showlakes": true,
           "showland": true,
           "subunitcolor": "white"
          },
          "hoverlabel": {
           "align": "left"
          },
          "hovermode": "closest",
          "mapbox": {
           "style": "light"
          },
          "paper_bgcolor": "white",
          "plot_bgcolor": "#E5ECF6",
          "polar": {
           "angularaxis": {
            "gridcolor": "white",
            "linecolor": "white",
            "ticks": ""
           },
           "bgcolor": "#E5ECF6",
           "radialaxis": {
            "gridcolor": "white",
            "linecolor": "white",
            "ticks": ""
           }
          },
          "scene": {
           "xaxis": {
            "backgroundcolor": "#E5ECF6",
            "gridcolor": "white",
            "gridwidth": 2,
            "linecolor": "white",
            "showbackground": true,
            "ticks": "",
            "zerolinecolor": "white"
           },
           "yaxis": {
            "backgroundcolor": "#E5ECF6",
            "gridcolor": "white",
            "gridwidth": 2,
            "linecolor": "white",
            "showbackground": true,
            "ticks": "",
            "zerolinecolor": "white"
           },
           "zaxis": {
            "backgroundcolor": "#E5ECF6",
            "gridcolor": "white",
            "gridwidth": 2,
            "linecolor": "white",
            "showbackground": true,
            "ticks": "",
            "zerolinecolor": "white"
           }
          },
          "shapedefaults": {
           "line": {
            "color": "#2a3f5f"
           }
          },
          "ternary": {
           "aaxis": {
            "gridcolor": "white",
            "linecolor": "white",
            "ticks": ""
           },
           "baxis": {
            "gridcolor": "white",
            "linecolor": "white",
            "ticks": ""
           },
           "bgcolor": "#E5ECF6",
           "caxis": {
            "gridcolor": "white",
            "linecolor": "white",
            "ticks": ""
           }
          },
          "title": {
           "x": 0.05
          },
          "xaxis": {
           "automargin": true,
           "gridcolor": "white",
           "linecolor": "white",
           "ticks": "",
           "title": {
            "standoff": 15
           },
           "zerolinecolor": "white",
           "zerolinewidth": 2
          },
          "yaxis": {
           "automargin": true,
           "gridcolor": "white",
           "linecolor": "white",
           "ticks": "",
           "title": {
            "standoff": 15
           },
           "zerolinecolor": "white",
           "zerolinewidth": 2
          }
         }
        },
        "title": {
         "text": "Distribución loudness:"
        },
        "xaxis": {
         "title": {
          "text": "Mood"
         }
        },
        "yaxis": {
         "title": {
          "text": "loudness"
         }
        }
       }
      }
     },
     "metadata": {},
     "output_type": "display_data"
    }
   ],
   "source": [
    "# Loudness:\n",
    "\n",
    "fig = go.Figure()\n",
    "\n",
    "moods = ['Happy', 'Sad', 'Anger', 'Focus']\n",
    "\n",
    "for mood in moods:\n",
    "    fig.add_trace(go.Violin(x=df1['Mood'][df1['Mood'] == mood],\n",
    "                            y=df1['loudness'][df1['Mood'] == mood],\n",
    "                            name=mood,\n",
    "                            box_visible=True,\n",
    "                            meanline_visible=True))\n",
    "\n",
    "fig.update_layout(\n",
    "    title=\"Distribución loudness:\",\n",
    "    xaxis_title=\"Mood\",\n",
    "    yaxis_title=\"loudness\"\n",
    ")\n",
    "\n",
    "fig.show()"
   ]
  },
  {
   "cell_type": "code",
   "execution_count": null,
   "metadata": {},
   "outputs": [],
   "source": [
    "'''plt.figure(figsize=(10, 6))  # Ajustar el tamaño de la figura según tus necesidades\n",
    "\n",
    "# Crear el gráfico de violín utilizando seaborn\n",
    "sns.violinplot(data=df, x='danceability', y='Mood', inner='quartile', palette='viridis')\n",
    "\n",
    "# Ajustar el espaciado y las etiquetas de los ejes\n",
    "plt.xlabel('danceability')\n",
    "plt.ylabel('Mood')\n",
    "\n",
    "plt.show()'''"
   ]
  }
 ],
 "metadata": {
  "kernelspec": {
   "display_name": "Python 3",
   "language": "python",
   "name": "python3"
  },
  "language_info": {
   "codemirror_mode": {
    "name": "ipython",
    "version": 3
   },
   "file_extension": ".py",
   "mimetype": "text/x-python",
   "name": "python",
   "nbconvert_exporter": "python",
   "pygments_lexer": "ipython3",
   "version": "3.10.10"
  },
  "orig_nbformat": 4
 },
 "nbformat": 4,
 "nbformat_minor": 2
}
