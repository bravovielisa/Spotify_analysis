{
 "cells": [
  {
   "cell_type": "markdown",
   "metadata": {},
   "source": [
    "# Data extraction"
   ]
  },
  {
   "cell_type": "markdown",
   "metadata": {},
   "source": [
    "## Access data:"
   ]
  },
  {
   "cell_type": "markdown",
   "metadata": {},
   "source": [
    "Spotipy es una biblioteca de Python que permite interactuar con la API de Spotify. Se utiliza para acceder y manipular datos de Spotify, como obtener información de canciones, artistas, álbumes, listas de reproducción y realizar acciones como reproducir pistas, crear listas de reproducción y mucho más."
   ]
  },
  {
   "cell_type": "code",
   "execution_count": 1,
   "metadata": {},
   "outputs": [],
   "source": [
    "# Para acceder a los datos de Spotify necesitamos leer las credenciales que nos da la API: clientid y client_secret\n",
    "import spotipy\n",
    "from spotipy.oauth2 import SpotifyClientCredentials\n",
    "\n",
    "with open(\"api.txt\") as f:\n",
    "        secret_ls = f.readlines()\n",
    "        client_id = secret_ls[0][:-1]\n",
    "        secret = secret_ls[1]"
   ]
  },
  {
   "cell_type": "code",
   "execution_count": 2,
   "metadata": {},
   "outputs": [],
   "source": [
    "client_credentials_manager = SpotifyClientCredentials(client_id=client_id, client_secret=secret)\n",
    "sp = spotipy.Spotify(client_credentials_manager = client_credentials_manager)"
   ]
  },
  {
   "cell_type": "markdown",
   "metadata": {},
   "source": [
    "## Import playlists:"
   ]
  },
  {
   "cell_type": "markdown",
   "metadata": {},
   "source": [
    "Se han seleccionado una serie de playlists creadas por Spotify según los estados de ánimo que se pretenden analizar:"
   ]
  },
  {
   "cell_type": "code",
   "execution_count": 4,
   "metadata": {},
   "outputs": [],
   "source": [
    "# 1/ happy playlist link: \"Happy hits!\"\n",
    "happy_pl_link = \"https://open.spotify.com/playlist/37i9dQZF1DXdPec7aLTmlC?si=6d0d8a354930406b\"\n",
    "happy_URI = happy_pl_link.split(\"/\")[-1].split(\"?\")[0]\n",
    "# 2/ sad playlist link: \"Heartache\"\n",
    "sad_pl_link = \"https://open.spotify.com/playlist/37i9dQZF1DX46zHlTTyolY?si=c5d5c06130e84367\"\n",
    "sad_URI = sad_pl_link.split(\"/\")[-1].split(\"?\")[0]\n",
    "# 3/ anger playlist link: \"Walk like a badass\"\n",
    "ang_pl_link = \"https://open.spotify.com/playlist/37i9dQZF1DX1tyCD9QhIWF?si=45e2a041dbbf4cbb\"\n",
    "anger_URI = ang_pl_link.split(\"/\")[-1].split(\"?\")[0]\n",
    "# 4/ sppoky playlist link: \"Spooky\"\n",
    "spooky_pl_link = \"https://open.spotify.com/playlist/37i9dQZF1DX5hol82XuK24?si=29cf60e5500b488a\"\n",
    "spooky_URI = spooky_pl_link.split(\"/\")[-1].split(\"?\")[0]\n",
    "# 5/ focus playlist link: \"Deep Focus\"\n",
    "focus_pl_link = \"https://open.spotify.com/playlist/37i9dQZF1DWZeKCadgRdKQ?si=635dd64ee7fa477b\"\n",
    "focus_URI = focus_pl_link.split(\"/\")[-1].split(\"?\")[0]\n",
    "\n",
    "playlist_URI = [happy_URI, sad_URI, anger_URI, spooky_URI, focus_URI]"
   ]
  },
  {
   "cell_type": "markdown",
   "metadata": {},
   "source": [
    "Esta forma no funciona porque itera en cada canción y la redefine cada vez que pasa por ella en el bucle:"
   ]
  },
  {
   "cell_type": "code",
   "execution_count": 6,
   "metadata": {},
   "outputs": [
    {
     "name": "stdout",
     "output_type": "stream",
     "text": [
      "Empty DataFrame\n",
      "Columns: [playlist_name, artist_name, popularity, danceability, energy, key, loudness, mode, speechiness, acousticness, instrumentalness, liveness, valence, tempo, duration_ms]\n",
      "Index: []\n"
     ]
    }
   ],
   "source": [
    "'''import pandas as pd\n",
    "\n",
    "playlist_URI = [happy_URI, sad_URI, anger_URI, spooky_URI, focus_URI]\n",
    "\n",
    "feature_names = ['danceability', 'energy', 'key', 'loudness', 'mode',\n",
    "                 'speechiness', 'acousticness', 'instrumentalness',\n",
    "                 'liveness', 'valence', 'tempo', 'duration_ms']\n",
    "\n",
    "df = pd.DataFrame()\n",
    "\n",
    "# Recorre cada playlist URI\n",
    "for uri in playlist_URI:\n",
    "    # Obtiene las canciones de la playlist\n",
    "    results = sp.playlist_tracks(uri)\n",
    "    tracks = results['items']\n",
    "    # Recorre cada canción de la playlist\n",
    "    for track in tracks:\n",
    "        # Nombre de la playlist\n",
    "        df['playlist_name'] = sp.playlist(uri)['name']\n",
    "        \n",
    "        # Nombre del artista\n",
    "        df['artist_name'] = track['track']['artists'][0]['name']\n",
    "        \n",
    "        # Popularidad de la canción\n",
    "        df['popularity'] = track['track']['popularity']\n",
    "        \n",
    "        # Obtiene las features de la canción\n",
    "        features = sp.audio_features(track['track']['uri'])\n",
    "        for feature_name in feature_names:\n",
    "            df[feature_name] = features[0][feature_name]\n",
    "print(df)'''"
   ]
  },
  {
   "cell_type": "code",
   "execution_count": 5,
   "metadata": {},
   "outputs": [
    {
     "name": "stdout",
     "output_type": "stream",
     "text": [
      "    playlist_name                                song_name  \\\n",
      "0     Happy Hits!                          I'm Good (Blue)   \n",
      "1     Happy Hits!                          I Ain't Worried   \n",
      "2     Happy Hits!  Dance The Night (From Barbie The Album)   \n",
      "3     Happy Hits!                          Blinding Lights   \n",
      "4     Happy Hits!                         Watermelon Sugar   \n",
      "..            ...                                      ...   \n",
      "460    Deep Focus                              remembrance   \n",
      "461    Deep Focus                               Are You Up   \n",
      "462    Deep Focus                                waveforms   \n",
      "463    Deep Focus                         miniature things   \n",
      "464    Deep Focus                      Abroad and Overseas   \n",
      "\n",
      "                                 song_uri   artist_name  popularity  \\\n",
      "0    spotify:track:4uUG5RXrOk84mYEfFvj3cK  David Guetta          95   \n",
      "1    spotify:track:4h9wh7iOZ0GGn8QVp4RAOB   OneRepublic          95   \n",
      "2    spotify:track:1vYXt7VSjH9JIM5oRRo7vA      Dua Lipa          94   \n",
      "3    spotify:track:0VjIjW4GlUZAMYd2vXMi3b    The Weeknd          94   \n",
      "4    spotify:track:6UelLqGlWMcVH1E5c4H7lY  Harry Styles          92   \n",
      "..                                    ...           ...         ...   \n",
      "460  spotify:track:5NFybpngup7caMPSMiJ5ZO  Dreams Ahead          52   \n",
      "461  spotify:track:3xXQCt1vfzNEOndrrNWAZR   Agnes Lundh          51   \n",
      "462  spotify:track:2dwLTY84vCeubyM0jM0nXH    Joy Parade          51   \n",
      "463  spotify:track:3kKwXt8TAU7wMCPIPCrzkI   Tall Towers          51   \n",
      "464  spotify:track:23sRVWvfwWdagkqC95eS6n     Imala Zir          51   \n",
      "\n",
      "     danceability  energy  key  loudness  mode  speechiness  acousticness  \\\n",
      "0           0.561  0.9650    7    -3.673     0       0.0343       0.00383   \n",
      "1           0.704  0.7970    0    -5.927     1       0.0475       0.08260   \n",
      "2           0.671  0.8450   11    -4.930     0       0.0480       0.02070   \n",
      "3           0.514  0.7300    1    -5.934     1       0.0598       0.00146   \n",
      "4           0.548  0.8160    0    -4.209     1       0.0465       0.12200   \n",
      "..            ...     ...  ...       ...   ...          ...           ...   \n",
      "460         0.461  0.0611    0   -20.555     1       0.0440       0.96200   \n",
      "461         0.597  0.1270    5   -17.192     0       0.0370       0.99100   \n",
      "462         0.389  0.1810   10   -18.820     1       0.0297       0.87400   \n",
      "463         0.487  0.1430    0   -17.674     1       0.0400       0.98100   \n",
      "464         0.348  0.0549    4   -21.011     0       0.0358       0.98900   \n",
      "\n",
      "     instrumentalness  liveness  valence    tempo  duration_ms  \n",
      "0            0.000007    0.3710    0.304  128.040       175238  \n",
      "1            0.000745    0.0546    0.825  139.994       148486  \n",
      "2            0.000000    0.3290    0.775  110.056       176579  \n",
      "3            0.000095    0.0897    0.334  171.005       200040  \n",
      "4            0.000000    0.3350    0.557   95.390       174000  \n",
      "..                ...       ...      ...      ...          ...  \n",
      "460          0.930000    0.1120    0.133  120.815       195122  \n",
      "461          0.929000    0.1260    0.135   70.051       152597  \n",
      "462          0.905000    0.1160    0.111   73.869       163232  \n",
      "463          0.904000    0.1150    0.160   73.548       143872  \n",
      "464          0.920000    0.1080    0.237   76.177       168185  \n",
      "\n",
      "[465 rows x 17 columns]\n"
     ]
    }
   ],
   "source": [
    "import pandas as pd\n",
    "\n",
    "playlist_URI = [happy_URI, sad_URI, anger_URI, spooky_URI, focus_URI]\n",
    "\n",
    "feature_names = ['danceability', 'energy', 'key', 'loudness', 'mode',\n",
    "                 'speechiness', 'acousticness', 'instrumentalness',\n",
    "                 'liveness', 'valence', 'tempo', 'duration_ms']\n",
    "\n",
    "# Lista para almacenar los diccionarios de cada canción\n",
    "song_data = []\n",
    "\n",
    "# Recorre cada playlist URI\n",
    "for uri in playlist_URI:\n",
    "    # Obtiene las canciones de la playlist\n",
    "    results = sp.playlist_tracks(uri)\n",
    "    tracks = results['items']\n",
    "    \n",
    "    # Recorre cada canción de la playlist\n",
    "    for track in tracks:\n",
    "        # Crea un diccionario para la canción actual\n",
    "        song_info = {}\n",
    "        \n",
    "        # Nombre de la playlist\n",
    "        song_info['playlist_name'] = sp.playlist(uri)['name']\n",
    "        \n",
    "        # Nombre de la canción\n",
    "        song_info['song_name'] = track['track']['name']\n",
    "        \n",
    "        # URI de la canción\n",
    "        song_info['song_uri'] = track['track']['uri']\n",
    "        \n",
    "        # Nombre del artista\n",
    "        song_info['artist_name'] = track['track']['artists'][0]['name']\n",
    "        \n",
    "        # Popularidad de la canción\n",
    "        song_info['popularity'] = track['track']['popularity']\n",
    "        \n",
    "        # Obtiene las features de la canción\n",
    "        features = sp.audio_features(track['track']['uri'])\n",
    "        \n",
    "        # Agrega las características al diccionario\n",
    "        for feature_name in feature_names:\n",
    "            song_info[feature_name] = features[0][feature_name]\n",
    "        \n",
    "        # Agrega el diccionario a la lista de canciones\n",
    "        song_data.append(song_info)\n",
    "\n",
    "# Crea el DataFrame a partir de la lista de canciones\n",
    "df = pd.DataFrame(song_data)\n",
    "\n",
    "# Imprime el DataFrame\n",
    "print(df)\n"
   ]
  },
  {
   "cell_type": "markdown",
   "metadata": {},
   "source": [
    "# Preprocesamiento"
   ]
  },
  {
   "cell_type": "markdown",
   "metadata": {},
   "source": [
    "### Modificación de valores de la columna playlist_name por estado de ánimo:"
   ]
  },
  {
   "cell_type": "code",
   "execution_count": 6,
   "metadata": {},
   "outputs": [
    {
     "data": {
      "text/plain": [
       "array(['Happy Hits!', 'Heartache', 'Walk Like A Badass', 'Spooky',\n",
       "       'Deep Focus'], dtype=object)"
      ]
     },
     "execution_count": 6,
     "metadata": {},
     "output_type": "execute_result"
    }
   ],
   "source": [
    "df['playlist_name'].unique()"
   ]
  },
  {
   "cell_type": "code",
   "execution_count": 7,
   "metadata": {},
   "outputs": [],
   "source": [
    "# Cambiamos los valores de la columna de playlist_name por cada estado de ánimo:\n",
    "df.loc[df['playlist_name'] == 'Happy Hits!', 'playlist_name'] = 'Happy'\n",
    "df.loc[df['playlist_name'] == 'Heartache', 'playlist_name'] = 'Sad'\n",
    "df.loc[df['playlist_name'] == 'Walk Like A Badass', 'playlist_name'] = 'Anger'\n",
    "df.loc[df['playlist_name'] == 'Spooky', 'playlist_name'] = 'Fear'\n",
    "df.loc[df['playlist_name'] == 'Deep Focus', 'playlist_name'] = 'Focus'\n",
    "# Cambiamos el nombre de la columna por Mood o estado de ánimo:\n",
    "df = df.rename({'playlist_name': 'Mood'}, axis=1)"
   ]
  },
  {
   "cell_type": "markdown",
   "metadata": {},
   "source": [
    "### Info general y descripción del df:"
   ]
  },
  {
   "cell_type": "code",
   "execution_count": 8,
   "metadata": {},
   "outputs": [
    {
     "name": "stdout",
     "output_type": "stream",
     "text": [
      "<class 'pandas.core.frame.DataFrame'>\n",
      "RangeIndex: 465 entries, 0 to 464\n",
      "Data columns (total 17 columns):\n",
      " #   Column            Non-Null Count  Dtype  \n",
      "---  ------            --------------  -----  \n",
      " 0   Mood              465 non-null    object \n",
      " 1   song_name         465 non-null    object \n",
      " 2   song_uri          465 non-null    object \n",
      " 3   artist_name       465 non-null    object \n",
      " 4   popularity        465 non-null    int64  \n",
      " 5   danceability      465 non-null    float64\n",
      " 6   energy            465 non-null    float64\n",
      " 7   key               465 non-null    int64  \n",
      " 8   loudness          465 non-null    float64\n",
      " 9   mode              465 non-null    int64  \n",
      " 10  speechiness       465 non-null    float64\n",
      " 11  acousticness      465 non-null    float64\n",
      " 12  instrumentalness  465 non-null    float64\n",
      " 13  liveness          465 non-null    float64\n",
      " 14  valence           465 non-null    float64\n",
      " 15  tempo             465 non-null    float64\n",
      " 16  duration_ms       465 non-null    int64  \n",
      "dtypes: float64(9), int64(4), object(4)\n",
      "memory usage: 61.9+ KB\n"
     ]
    }
   ],
   "source": [
    "df.info()"
   ]
  },
  {
   "cell_type": "code",
   "execution_count": 7,
   "metadata": {},
   "outputs": [
    {
     "data": {
      "text/html": [
       "<div>\n",
       "<style scoped>\n",
       "    .dataframe tbody tr th:only-of-type {\n",
       "        vertical-align: middle;\n",
       "    }\n",
       "\n",
       "    .dataframe tbody tr th {\n",
       "        vertical-align: top;\n",
       "    }\n",
       "\n",
       "    .dataframe thead th {\n",
       "        text-align: right;\n",
       "    }\n",
       "</style>\n",
       "<table border=\"1\" class=\"dataframe\">\n",
       "  <thead>\n",
       "    <tr style=\"text-align: right;\">\n",
       "      <th></th>\n",
       "      <th>popularity</th>\n",
       "      <th>danceability</th>\n",
       "      <th>energy</th>\n",
       "      <th>key</th>\n",
       "      <th>loudness</th>\n",
       "      <th>mode</th>\n",
       "      <th>speechiness</th>\n",
       "      <th>acousticness</th>\n",
       "      <th>instrumentalness</th>\n",
       "      <th>liveness</th>\n",
       "      <th>valence</th>\n",
       "      <th>tempo</th>\n",
       "      <th>duration_ms</th>\n",
       "    </tr>\n",
       "  </thead>\n",
       "  <tbody>\n",
       "    <tr>\n",
       "      <th>count</th>\n",
       "      <td>450.000000</td>\n",
       "      <td>450.000000</td>\n",
       "      <td>450.000000</td>\n",
       "      <td>450.000000</td>\n",
       "      <td>450.000000</td>\n",
       "      <td>450.000000</td>\n",
       "      <td>450.000000</td>\n",
       "      <td>450.000000</td>\n",
       "      <td>450.000000</td>\n",
       "      <td>450.000000</td>\n",
       "      <td>450.000000</td>\n",
       "      <td>450.000000</td>\n",
       "      <td>450.000000</td>\n",
       "    </tr>\n",
       "    <tr>\n",
       "      <th>mean</th>\n",
       "      <td>62.317778</td>\n",
       "      <td>0.556267</td>\n",
       "      <td>0.487121</td>\n",
       "      <td>5.311111</td>\n",
       "      <td>-10.211711</td>\n",
       "      <td>0.648889</td>\n",
       "      <td>0.061014</td>\n",
       "      <td>0.445754</td>\n",
       "      <td>0.295955</td>\n",
       "      <td>0.157851</td>\n",
       "      <td>0.363042</td>\n",
       "      <td>113.515611</td>\n",
       "      <td>196423.537778</td>\n",
       "    </tr>\n",
       "    <tr>\n",
       "      <th>std</th>\n",
       "      <td>17.743882</td>\n",
       "      <td>0.150213</td>\n",
       "      <td>0.286450</td>\n",
       "      <td>3.602908</td>\n",
       "      <td>6.174619</td>\n",
       "      <td>0.477849</td>\n",
       "      <td>0.055972</td>\n",
       "      <td>0.391267</td>\n",
       "      <td>0.399973</td>\n",
       "      <td>0.117311</td>\n",
       "      <td>0.254685</td>\n",
       "      <td>29.986572</td>\n",
       "      <td>56893.384509</td>\n",
       "    </tr>\n",
       "    <tr>\n",
       "      <th>min</th>\n",
       "      <td>14.000000</td>\n",
       "      <td>0.132000</td>\n",
       "      <td>0.009540</td>\n",
       "      <td>0.000000</td>\n",
       "      <td>-32.030000</td>\n",
       "      <td>0.000000</td>\n",
       "      <td>0.024300</td>\n",
       "      <td>0.000026</td>\n",
       "      <td>0.000000</td>\n",
       "      <td>0.029200</td>\n",
       "      <td>0.030900</td>\n",
       "      <td>35.366000</td>\n",
       "      <td>100467.000000</td>\n",
       "    </tr>\n",
       "    <tr>\n",
       "      <th>25%</th>\n",
       "      <td>52.000000</td>\n",
       "      <td>0.460250</td>\n",
       "      <td>0.212500</td>\n",
       "      <td>2.000000</td>\n",
       "      <td>-14.078250</td>\n",
       "      <td>0.000000</td>\n",
       "      <td>0.033850</td>\n",
       "      <td>0.036100</td>\n",
       "      <td>0.000002</td>\n",
       "      <td>0.099025</td>\n",
       "      <td>0.145250</td>\n",
       "      <td>90.094750</td>\n",
       "      <td>160663.750000</td>\n",
       "    </tr>\n",
       "    <tr>\n",
       "      <th>50%</th>\n",
       "      <td>60.500000</td>\n",
       "      <td>0.560000</td>\n",
       "      <td>0.485000</td>\n",
       "      <td>5.000000</td>\n",
       "      <td>-8.193000</td>\n",
       "      <td>1.000000</td>\n",
       "      <td>0.040200</td>\n",
       "      <td>0.372500</td>\n",
       "      <td>0.001090</td>\n",
       "      <td>0.111000</td>\n",
       "      <td>0.303500</td>\n",
       "      <td>113.010000</td>\n",
       "      <td>184054.500000</td>\n",
       "    </tr>\n",
       "    <tr>\n",
       "      <th>75%</th>\n",
       "      <td>79.000000</td>\n",
       "      <td>0.663500</td>\n",
       "      <td>0.752750</td>\n",
       "      <td>9.000000</td>\n",
       "      <td>-5.342000</td>\n",
       "      <td>1.000000</td>\n",
       "      <td>0.062725</td>\n",
       "      <td>0.874000</td>\n",
       "      <td>0.836000</td>\n",
       "      <td>0.157750</td>\n",
       "      <td>0.536750</td>\n",
       "      <td>130.012250</td>\n",
       "      <td>224634.000000</td>\n",
       "    </tr>\n",
       "    <tr>\n",
       "      <th>max</th>\n",
       "      <td>95.000000</td>\n",
       "      <td>0.954000</td>\n",
       "      <td>0.987000</td>\n",
       "      <td>11.000000</td>\n",
       "      <td>-1.789000</td>\n",
       "      <td>1.000000</td>\n",
       "      <td>0.519000</td>\n",
       "      <td>0.994000</td>\n",
       "      <td>0.973000</td>\n",
       "      <td>0.755000</td>\n",
       "      <td>0.965000</td>\n",
       "      <td>203.639000</td>\n",
       "      <td>518747.000000</td>\n",
       "    </tr>\n",
       "  </tbody>\n",
       "</table>\n",
       "</div>"
      ],
      "text/plain": [
       "       popularity  danceability      energy         key    loudness  \\\n",
       "count  450.000000    450.000000  450.000000  450.000000  450.000000   \n",
       "mean    62.317778      0.556267    0.487121    5.311111  -10.211711   \n",
       "std     17.743882      0.150213    0.286450    3.602908    6.174619   \n",
       "min     14.000000      0.132000    0.009540    0.000000  -32.030000   \n",
       "25%     52.000000      0.460250    0.212500    2.000000  -14.078250   \n",
       "50%     60.500000      0.560000    0.485000    5.000000   -8.193000   \n",
       "75%     79.000000      0.663500    0.752750    9.000000   -5.342000   \n",
       "max     95.000000      0.954000    0.987000   11.000000   -1.789000   \n",
       "\n",
       "             mode  speechiness  acousticness  instrumentalness    liveness  \\\n",
       "count  450.000000   450.000000    450.000000        450.000000  450.000000   \n",
       "mean     0.648889     0.061014      0.445754          0.295955    0.157851   \n",
       "std      0.477849     0.055972      0.391267          0.399973    0.117311   \n",
       "min      0.000000     0.024300      0.000026          0.000000    0.029200   \n",
       "25%      0.000000     0.033850      0.036100          0.000002    0.099025   \n",
       "50%      1.000000     0.040200      0.372500          0.001090    0.111000   \n",
       "75%      1.000000     0.062725      0.874000          0.836000    0.157750   \n",
       "max      1.000000     0.519000      0.994000          0.973000    0.755000   \n",
       "\n",
       "          valence       tempo    duration_ms  \n",
       "count  450.000000  450.000000     450.000000  \n",
       "mean     0.363042  113.515611  196423.537778  \n",
       "std      0.254685   29.986572   56893.384509  \n",
       "min      0.030900   35.366000  100467.000000  \n",
       "25%      0.145250   90.094750  160663.750000  \n",
       "50%      0.303500  113.010000  184054.500000  \n",
       "75%      0.536750  130.012250  224634.000000  \n",
       "max      0.965000  203.639000  518747.000000  "
      ]
     },
     "execution_count": 7,
     "metadata": {},
     "output_type": "execute_result"
    }
   ],
   "source": [
    "df.describe()"
   ]
  },
  {
   "cell_type": "markdown",
   "metadata": {},
   "source": [
    "### Valores nulos:"
   ]
  },
  {
   "cell_type": "code",
   "execution_count": 9,
   "metadata": {},
   "outputs": [
    {
     "data": {
      "text/plain": [
       "0"
      ]
     },
     "execution_count": 9,
     "metadata": {},
     "output_type": "execute_result"
    }
   ],
   "source": [
    "# Ya se ve en df.info que no aparecen valores nulos pero hacemos una pequeña comprobación:\n",
    "df.isnull().sum().sum()"
   ]
  },
  {
   "cell_type": "markdown",
   "metadata": {},
   "source": [
    "### Valores duplicados:"
   ]
  },
  {
   "cell_type": "code",
   "execution_count": 10,
   "metadata": {},
   "outputs": [
    {
     "data": {
      "text/plain": [
       "0"
      ]
     },
     "execution_count": 10,
     "metadata": {},
     "output_type": "execute_result"
    }
   ],
   "source": [
    "# No tiene sentido que en esta base de datos haya valores duplicados, pero \n",
    "df.duplicated().sum().sum()"
   ]
  },
  {
   "cell_type": "markdown",
   "metadata": {},
   "source": [
    "# Exportación a csv:"
   ]
  },
  {
   "cell_type": "code",
   "execution_count": 11,
   "metadata": {},
   "outputs": [],
   "source": [
    "df.to_csv('datos.csv', index=False)"
   ]
  }
 ],
 "metadata": {
  "kernelspec": {
   "display_name": "Python 3",
   "language": "python",
   "name": "python3"
  },
  "language_info": {
   "codemirror_mode": {
    "name": "ipython",
    "version": 3
   },
   "file_extension": ".py",
   "mimetype": "text/x-python",
   "name": "python",
   "nbconvert_exporter": "python",
   "pygments_lexer": "ipython3",
   "version": "3.10.10"
  },
  "orig_nbformat": 4
 },
 "nbformat": 4,
 "nbformat_minor": 2
}
