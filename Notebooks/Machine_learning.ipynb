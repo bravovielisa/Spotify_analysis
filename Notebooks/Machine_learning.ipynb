{
 "cells": [
  {
   "cell_type": "markdown",
   "metadata": {},
   "source": [
    "# Machine Learning con spotipy"
   ]
  },
  {
   "cell_type": "markdown",
   "metadata": {},
   "source": [
    "Mi intención es predecir una canción en base al estado de ánimo, pero para ello primero hay que predecir el estado de ánimo.  \n",
    "En primer lugar una vez tengamos nuestro dataset limpio (sin datos nulos, duplicados o características irrelevantes) y normalizadas las variables numéricas."
   ]
  },
  {
   "cell_type": "markdown",
   "metadata": {},
   "source": [
    "https://www.jcchouinard.com/pca-with-python/#PCA_Examples_From_This_Tutorial"
   ]
  },
  {
   "cell_type": "code",
   "execution_count": 1,
   "metadata": {},
   "outputs": [],
   "source": [
    "import pandas as pd\n",
    "import numpy as np\n",
    "import matplotlib.pyplot as plt\n",
    "from sklearn.model_selection import train_test_split\n",
    "from sklearn.preprocessing import StandardScaler\n",
    "from sklearn.decomposition import PCA\n",
    "import seaborn as sns\n",
    "from sklearn.datasets import make_blobs\n",
    "from sklearn.cluster import KMeans\n",
    "from sklearn.ensemble import RandomForestClassifier\n",
    "from sklearn.metrics import accuracy_score, classification_report, confusion_matrix\n",
    "import pickle"
   ]
  },
  {
   "cell_type": "code",
   "execution_count": 2,
   "metadata": {},
   "outputs": [],
   "source": [
    "df = pd.read_csv(r\"../data/no_lej_data.csv\")"
   ]
  },
  {
   "cell_type": "code",
   "execution_count": 3,
   "metadata": {},
   "outputs": [
    {
     "name": "stdout",
     "output_type": "stream",
     "text": [
      "<class 'pandas.core.frame.DataFrame'>\n",
      "RangeIndex: 311 entries, 0 to 310\n",
      "Data columns (total 17 columns):\n",
      " #   Column            Non-Null Count  Dtype  \n",
      "---  ------            --------------  -----  \n",
      " 0   Mood              311 non-null    object \n",
      " 1   song_name         311 non-null    object \n",
      " 2   artist_name       311 non-null    object \n",
      " 3   popularity        311 non-null    int64  \n",
      " 4   danceability      311 non-null    float64\n",
      " 5   energy            311 non-null    float64\n",
      " 6   key               311 non-null    int64  \n",
      " 7   loudness          311 non-null    float64\n",
      " 8   mode              311 non-null    int64  \n",
      " 9   speechiness       311 non-null    float64\n",
      " 10  acousticness      311 non-null    float64\n",
      " 11  instrumentalness  311 non-null    float64\n",
      " 12  liveness          311 non-null    float64\n",
      " 13  valence           311 non-null    float64\n",
      " 14  tempo             311 non-null    float64\n",
      " 15  duration_ms       311 non-null    int64  \n",
      " 16  song_uri          311 non-null    object \n",
      "dtypes: float64(9), int64(4), object(4)\n",
      "memory usage: 41.4+ KB\n"
     ]
    }
   ],
   "source": [
    "df.info()"
   ]
  },
  {
   "cell_type": "markdown",
   "metadata": {},
   "source": [
    "Dejamos las variables relevantes:"
   ]
  },
  {
   "cell_type": "code",
   "execution_count": 4,
   "metadata": {},
   "outputs": [],
   "source": [
    "dfml = df[['Mood','popularity','danceability','energy','loudness','instrumentalness','valence']]"
   ]
  },
  {
   "cell_type": "code",
   "execution_count": 5,
   "metadata": {},
   "outputs": [],
   "source": [
    "#data o features // target o labels\n",
    "target = dfml['Mood']\n",
    "data_df = dfml.drop(columns=['Mood'])\n",
    "X = data_df.values\n",
    "y = target.values"
   ]
  },
  {
   "cell_type": "markdown",
   "metadata": {},
   "source": [
    "Hay que estandarizar los datos.  \n",
    "**¿Estandarización o normalización?**  \n",
    "\n",
    "\n",
    "La normalización y estandarización son técnicas comunes de preprocesamiento de datos que se utilizan para escalar las características a un rango específico. Esto es especialmente importante en algoritmos de machine learning que se basan en cálculos de distancias o magnitudes.  \n",
    "- **Normalización**: La normalización escala los valores de cada característica para que estén en el rango [0, 1].  \n",
    "-----> Fórmula: ***X_normalized = (X - X_min) / (X_max - X_min)***  \n",
    "- **Estandarización**: La estandarización escala los valores de cada característica para que tengan media cero y desviación estándar uno.  \n",
    "-----> Fórmula: ***X_standardized = (X - mean) / std***  "
   ]
  },
  {
   "cell_type": "markdown",
   "metadata": {},
   "source": [
    "*Código:*  \n",
    "\n",
    "**NORMALIZACIÓN:**  \n",
    "import pandas as pd  \n",
    "from sklearn.preprocessing import MinMaxScaler  \n",
    "\n",
    "\n",
    "'# Crea un objeto MinMaxScaler  \n",
    "scaler = MinMaxScaler()  \n",
    "\n",
    "\n",
    "'# Normaliza las características y obtén un nuevo DataFrame con los valores normalizados  \n",
    "X_normalized = scaler.fit_transform(features_df)  \n",
    "\n",
    "\n",
    "'# Convierte el nuevo array normalizado a un nuevo DataFrame  \n",
    "normalized_features_df = pd.DataFrame(X_normalized, columns=features_df.columns)  \n",
    "\n",
    "\n",
    "**ESTANDARIZACIÓN:**  \n",
    "from sklearn.preprocessing import StandardScaler  \n",
    "\n",
    "\n",
    "'# Crea un objeto StandardScaler  \n",
    "scaler = StandardScaler()  \n",
    "\n",
    "\n",
    "'# Estandariza las características y obtén un nuevo DataFrame con los valores estandarizados  \n",
    "X_standardized = scaler.fit_transform(features_df)  \n",
    "\n",
    "\n",
    "'# Convierte el nuevo array estandarizado a un nuevo DataFrame\n",
    "standardized_features_df = pd.DataFrame(X_standardized, columns=features_df.columns)"
   ]
  },
  {
   "cell_type": "code",
   "execution_count": 6,
   "metadata": {},
   "outputs": [],
   "source": [
    "x_scaled = StandardScaler().fit_transform(X)"
   ]
  },
  {
   "cell_type": "markdown",
   "metadata": {},
   "source": [
    "No todas las características son necesariamente útiles para la predicción. Por lo tanto, podemos eliminar esas características ruidosas y crear un modelo más rápido.  \n",
    "\n",
    "\n",
    "El PCA es un candidato ideal para realizar este tipo de reducción de dimensiones."
   ]
  },
  {
   "cell_type": "markdown",
   "metadata": {},
   "source": [
    "Primero vamos a ver cuantos parámetros son óptimos para aplicarlo en el algoritmo a través de la regla del codo:"
   ]
  },
  {
   "cell_type": "code",
   "execution_count": 7,
   "metadata": {},
   "outputs": [
    {
     "name": "stderr",
     "output_type": "stream",
     "text": [
      "c:\\Users\\User\\AppData\\Local\\Programs\\Python\\Python310\\lib\\site-packages\\sklearn\\cluster\\_kmeans.py:870: FutureWarning: The default value of `n_init` will change from 10 to 'auto' in 1.4. Set the value of `n_init` explicitly to suppress the warning\n",
      "  warnings.warn(\n",
      "c:\\Users\\User\\AppData\\Local\\Programs\\Python\\Python310\\lib\\site-packages\\sklearn\\cluster\\_kmeans.py:870: FutureWarning: The default value of `n_init` will change from 10 to 'auto' in 1.4. Set the value of `n_init` explicitly to suppress the warning\n",
      "  warnings.warn(\n",
      "c:\\Users\\User\\AppData\\Local\\Programs\\Python\\Python310\\lib\\site-packages\\sklearn\\cluster\\_kmeans.py:870: FutureWarning: The default value of `n_init` will change from 10 to 'auto' in 1.4. Set the value of `n_init` explicitly to suppress the warning\n",
      "  warnings.warn(\n",
      "c:\\Users\\User\\AppData\\Local\\Programs\\Python\\Python310\\lib\\site-packages\\sklearn\\cluster\\_kmeans.py:870: FutureWarning: The default value of `n_init` will change from 10 to 'auto' in 1.4. Set the value of `n_init` explicitly to suppress the warning\n",
      "  warnings.warn(\n",
      "c:\\Users\\User\\AppData\\Local\\Programs\\Python\\Python310\\lib\\site-packages\\sklearn\\cluster\\_kmeans.py:870: FutureWarning: The default value of `n_init` will change from 10 to 'auto' in 1.4. Set the value of `n_init` explicitly to suppress the warning\n",
      "  warnings.warn(\n",
      "c:\\Users\\User\\AppData\\Local\\Programs\\Python\\Python310\\lib\\site-packages\\sklearn\\cluster\\_kmeans.py:870: FutureWarning: The default value of `n_init` will change from 10 to 'auto' in 1.4. Set the value of `n_init` explicitly to suppress the warning\n",
      "  warnings.warn(\n",
      "c:\\Users\\User\\AppData\\Local\\Programs\\Python\\Python310\\lib\\site-packages\\sklearn\\cluster\\_kmeans.py:870: FutureWarning: The default value of `n_init` will change from 10 to 'auto' in 1.4. Set the value of `n_init` explicitly to suppress the warning\n",
      "  warnings.warn(\n",
      "c:\\Users\\User\\AppData\\Local\\Programs\\Python\\Python310\\lib\\site-packages\\sklearn\\cluster\\_kmeans.py:870: FutureWarning: The default value of `n_init` will change from 10 to 'auto' in 1.4. Set the value of `n_init` explicitly to suppress the warning\n",
      "  warnings.warn(\n"
     ]
    },
    {
     "data": {
      "text/plain": [
       "[]"
      ]
     },
     "execution_count": 7,
     "metadata": {},
     "output_type": "execute_result"
    },
    {
     "data": {
      "image/png": "[encoded data removed]",
      "text/plain": [
       "<Figure size 600x400 with 1 Axes>"
      ]
     },
     "metadata": {},
     "output_type": "display_data"
    }
   ],
   "source": [
    "# Iteramos y calculamos inercia\n",
    "inertia_dct = {}\n",
    "for i in range(2, 10): #Rango de grupos que queremos crear, sino vieramos ningún codo ampliariamos el rango\n",
    "    km = KMeans(n_clusters=i, max_iter=150, random_state=42)\n",
    "    km.fit(X)\n",
    "    inertia_dct[i] = km.inertia_\n",
    "\n",
    "# Dibujamos\n",
    "fig, ax = plt.subplots(figsize=(6, 4))\n",
    "sns.lineplot(x=list(inertia_dct.keys()), y=list(inertia_dct.values()), ax=ax)\n",
    "ax.set_title('Regla del codo')\n",
    "ax.set_xlabel('Clusters')\n",
    "ax.set_ylabel('Inercia')\n",
    "plt.plot()"
   ]
  },
  {
   "cell_type": "markdown",
   "metadata": {},
   "source": [
    "En el algoritmo de K-Means, la regla del codo y la inercia son herramientas para ayudar a determinar el número óptimo de clusters (grupos) en el conjunto de datos. K-Means es un algoritmo de agrupamiento que intenta dividir un conjunto de datos en K grupos distintos, donde cada grupo representa un clúster.  \n",
    "\n",
    "\n",
    "La inercia en K-Means representa la suma de las distancias cuadradas de cada punto de datos dentro de su clúster más cercano al centroide de ese clúster. En otras palabras, la inercia mide cuán compactos y cercanos están los puntos dentro de cada clúster. Cuanto menor sea la inercia, más compactos y cercanos estarán los puntos dentro de cada clúster, lo que generalmente se considera deseable.  \n",
    "\n",
    "\n",
    "La regla del codo es una técnica para seleccionar el número óptimo de clústeres. Implica trazar la inercia en función del número de clústeres K que se están considerando. El gráfico resultante suele parecerse a un \"codo\", y el punto en el que la inercia comienza a disminuir más lentamente se considera el número óptimo de clústeres.  \n",
    "\n",
    "\n",
    "Interpretación de la regla del codo:  \n",
    "Cuando observas el gráfico de la regla del codo, el punto en el que se forma el codo indica el número óptimo de clústeres. Antes de ese punto, agregar más clústeres suele reducir significativamente la inercia porque los puntos pueden ajustarse mejor a clústeres más pequeños y cercanos entre sí. Sin embargo, después de ese punto, agregar más clústeres no reducirá la inercia de manera significativa, ya que los clústeres adicionales pueden no estar capturando patrones significativos y solo estarían dividiendo los datos en grupos más pequeños y dispersos."
   ]
  },
  {
   "cell_type": "markdown",
   "metadata": {},
   "source": [
    "En este caso un número razonable de parámetros serían 3 o 4.  \n",
    "**Selecciono 4 componentes**."
   ]
  },
  {
   "cell_type": "code",
   "execution_count": 9,
   "metadata": {},
   "outputs": [
    {
     "name": "stdout",
     "output_type": "stream",
     "text": [
      "Shape before PCA:  (311, 6)\n",
      "Shape after PCA:  (311, 4)\n"
     ]
    }
   ],
   "source": [
    "target_names = {\n",
    "    0: 'Happy',\n",
    "    1: 'Sad',\n",
    "    2: 'Anger',\n",
    "    3: 'Focus'\n",
    "}\n",
    "\n",
    "# Agregar las etiquetas de emociones directamente al DataFrame data_df\n",
    "y_mapped = target.map({v: k for k, v in target_names.items()})\n",
    "\n",
    "pca = PCA(n_components=4) # 4 según la regla del codo\n",
    "X_pca = pca.fit_transform(x_scaled)\n",
    "\n",
    "print('Shape before PCA: ', x_scaled.shape)\n",
    "print('Shape after PCA: ', X_pca.shape)\n",
    " \n",
    "pca_df = pd.DataFrame(\n",
    "    data=X_pca, \n",
    "    columns=['PC1', 'PC2', 'PC3','PC4'])\n",
    "\n",
    "# Agregar las etiquetas de emociones mapeadas al DataFrame pca_df\n",
    "pca_df['target'] = y_mapped"
   ]
  },
  {
   "cell_type": "code",
   "execution_count": 9,
   "metadata": {},
   "outputs": [
    {
     "data": {
      "text/html": [
       "<div>\n",
       "<style scoped>\n",
       "    .dataframe tbody tr th:only-of-type {\n",
       "        vertical-align: middle;\n",
       "    }\n",
       "\n",
       "    .dataframe tbody tr th {\n",
       "        vertical-align: top;\n",
       "    }\n",
       "\n",
       "    .dataframe thead th {\n",
       "        text-align: right;\n",
       "    }\n",
       "</style>\n",
       "<table border=\"1\" class=\"dataframe\">\n",
       "  <thead>\n",
       "    <tr style=\"text-align: right;\">\n",
       "      <th></th>\n",
       "      <th>PC1</th>\n",
       "      <th>PC2</th>\n",
       "      <th>PC3</th>\n",
       "      <th>PC4</th>\n",
       "      <th>target</th>\n",
       "    </tr>\n",
       "  </thead>\n",
       "  <tbody>\n",
       "    <tr>\n",
       "      <th>0</th>\n",
       "      <td>-2.102558</td>\n",
       "      <td>0.381176</td>\n",
       "      <td>-1.540106</td>\n",
       "      <td>0.191809</td>\n",
       "      <td>0</td>\n",
       "    </tr>\n",
       "    <tr>\n",
       "      <th>1</th>\n",
       "      <td>-2.838498</td>\n",
       "      <td>-0.752417</td>\n",
       "      <td>-0.625187</td>\n",
       "      <td>-0.849418</td>\n",
       "      <td>0</td>\n",
       "    </tr>\n",
       "    <tr>\n",
       "      <th>2</th>\n",
       "      <td>-1.527168</td>\n",
       "      <td>0.325996</td>\n",
       "      <td>-1.715309</td>\n",
       "      <td>-0.190131</td>\n",
       "      <td>0</td>\n",
       "    </tr>\n",
       "    <tr>\n",
       "      <th>3</th>\n",
       "      <td>-2.163228</td>\n",
       "      <td>0.166225</td>\n",
       "      <td>-1.100258</td>\n",
       "      <td>-0.602097</td>\n",
       "      <td>0</td>\n",
       "    </tr>\n",
       "    <tr>\n",
       "      <th>4</th>\n",
       "      <td>-2.567593</td>\n",
       "      <td>-2.490314</td>\n",
       "      <td>-0.358864</td>\n",
       "      <td>0.635414</td>\n",
       "      <td>0</td>\n",
       "    </tr>\n",
       "    <tr>\n",
       "      <th>...</th>\n",
       "      <td>...</td>\n",
       "      <td>...</td>\n",
       "      <td>...</td>\n",
       "      <td>...</td>\n",
       "      <td>...</td>\n",
       "    </tr>\n",
       "    <tr>\n",
       "      <th>306</th>\n",
       "      <td>2.981662</td>\n",
       "      <td>-0.205821</td>\n",
       "      <td>0.348069</td>\n",
       "      <td>-0.194343</td>\n",
       "      <td>3</td>\n",
       "    </tr>\n",
       "    <tr>\n",
       "      <th>307</th>\n",
       "      <td>2.378752</td>\n",
       "      <td>-0.739995</td>\n",
       "      <td>0.725206</td>\n",
       "      <td>0.477417</td>\n",
       "      <td>3</td>\n",
       "    </tr>\n",
       "    <tr>\n",
       "      <th>308</th>\n",
       "      <td>2.881549</td>\n",
       "      <td>0.452108</td>\n",
       "      <td>0.330273</td>\n",
       "      <td>-0.275669</td>\n",
       "      <td>3</td>\n",
       "    </tr>\n",
       "    <tr>\n",
       "      <th>309</th>\n",
       "      <td>2.561146</td>\n",
       "      <td>-0.124217</td>\n",
       "      <td>0.560291</td>\n",
       "      <td>-0.013540</td>\n",
       "      <td>3</td>\n",
       "    </tr>\n",
       "    <tr>\n",
       "      <th>310</th>\n",
       "      <td>3.112131</td>\n",
       "      <td>0.358432</td>\n",
       "      <td>0.353654</td>\n",
       "      <td>-0.922958</td>\n",
       "      <td>3</td>\n",
       "    </tr>\n",
       "  </tbody>\n",
       "</table>\n",
       "<p>311 rows × 5 columns</p>\n",
       "</div>"
      ],
      "text/plain": [
       "          PC1       PC2       PC3       PC4  target\n",
       "0   -2.102558  0.381176 -1.540106  0.191809       0\n",
       "1   -2.838498 -0.752417 -0.625187 -0.849418       0\n",
       "2   -1.527168  0.325996 -1.715309 -0.190131       0\n",
       "3   -2.163228  0.166225 -1.100258 -0.602097       0\n",
       "4   -2.567593 -2.490314 -0.358864  0.635414       0\n",
       "..        ...       ...       ...       ...     ...\n",
       "306  2.981662 -0.205821  0.348069 -0.194343       3\n",
       "307  2.378752 -0.739995  0.725206  0.477417       3\n",
       "308  2.881549  0.452108  0.330273 -0.275669       3\n",
       "309  2.561146 -0.124217  0.560291 -0.013540       3\n",
       "310  3.112131  0.358432  0.353654 -0.922958       3\n",
       "\n",
       "[311 rows x 5 columns]"
      ]
     },
     "execution_count": 9,
     "metadata": {},
     "output_type": "execute_result"
    }
   ],
   "source": [
    "pca_df"
   ]
  },
  {
   "cell_type": "markdown",
   "metadata": {},
   "source": [
    "Estos nuevos valores de componentes principales retienen la mayor parte de la información relevante de tus datos originales mientras reducen la dimensionalidad del conjunto de datos."
   ]
  },
  {
   "cell_type": "markdown",
   "metadata": {},
   "source": [
    "¿Cuánto afecta cada variable en la predicción?"
   ]
  },
  {
   "cell_type": "markdown",
   "metadata": {},
   "source": [
    "La varianza explicada, o valor propio, en el PCA muestra la varianza que puede atribuirse a cada uno de los componentes principales."
   ]
  },
  {
   "cell_type": "code",
   "execution_count": 10,
   "metadata": {},
   "outputs": [
    {
     "data": {
      "text/plain": [
       "array([3.91927683, 0.92571478, 0.65754724, 0.28493209])"
      ]
     },
     "execution_count": 10,
     "metadata": {},
     "output_type": "execute_result"
    }
   ],
   "source": [
    "pca.explained_variance_"
   ]
  },
  {
   "cell_type": "markdown",
   "metadata": {},
   "source": [
    "Los valores de pca.explained_variance_ nos indican cuánta varianza explica cada componente principal en términos generales, pero no nos permiten determinar directamente si el tercer componente es una característica ruidosa. Se necesita un análisis más profundo y detallado de los componentes principales y las características originales para hacer esa evaluación."
   ]
  },
  {
   "cell_type": "code",
   "execution_count": 11,
   "metadata": {},
   "outputs": [
    {
     "data": {
      "image/png": "[encoded data removed]",
      "text/plain": [
       "<Figure size 640x480 with 1 Axes>"
      ]
     },
     "metadata": {},
     "output_type": "display_data"
    }
   ],
   "source": [
    "import numpy as np\n",
    "import matplotlib.pyplot as plt \n",
    "import seaborn as sns\n",
    " \n",
    "from sklearn.decomposition import PCA\n",
    "sns.set()\n",
    " \n",
    "# Reduce from 4 to 3 features with PCA\n",
    "pca = PCA(n_components=4)\n",
    " \n",
    "# Fit and transform data\n",
    "reduced_features = pca.fit_transform(x_scaled)\n",
    " \n",
    "# Bar plot of explained_variance\n",
    "plt.bar(\n",
    "    range(1,len(pca.explained_variance_)+1),\n",
    "    pca.explained_variance_\n",
    "    )\n",
    " \n",
    "plt.plot(\n",
    "    range(1,len(pca.explained_variance_ )+1),\n",
    "    np.cumsum(pca.explained_variance_),\n",
    "    c='red',\n",
    "    label='Cumulative Explained Variance')\n",
    " \n",
    "plt.legend(loc='upper left')\n",
    "plt.xlabel('Number of components')\n",
    "plt.ylabel('Explained variance (eignenvalues)')\n",
    "plt.title('Scree plot')\n",
    " \n",
    "plt.show()"
   ]
  },
  {
   "cell_type": "markdown",
   "metadata": {},
   "source": [
    "Para evaluar si existe una característica ruidosa en tus datos, o más específicamente, en la visualización de PCA, aquí hay algunas pautas a considerar:\n",
    "\n",
    "Caída abrupta en la varianza explicada: Busca un punto en el gráfico donde haya una caída abrupta en la varianza explicada por cada componente principal. En el Scree plot, esta caída se ve como un \"codo\" en la curva de varianza explicada. El punto en el que ocurre el \"codo\" puede indicar el número óptimo de componentes principales para retener en tu conjunto de datos.\n",
    "\n",
    "Porcentaje de varianza explicada: Observa el porcentaje de varianza explicada acumulada en la curva roja (varianza acumulada). El gráfico muestra cómo se acumula la varianza explicada a medida que aumenta el número de componentes principales. Si la curva roja se estabiliza o muestra una pendiente menos pronunciada, esto puede indicar que agregar más componentes principales no aporta mucha información adicional y, por lo tanto, esos componentes pueden ser menos significativos o ruidosos.\n",
    "\n",
    "Interpretación de componentes principales: Si bien el Scree plot puede ayudarte a determinar cuántos componentes principales son necesarios para retener la varianza, también es importante analizar los propios componentes principales (pca.components_) para comprender qué características o combinaciones de características contribuyen más a cada componente. Esto te puede dar una idea de qué características son más relevantes y cuáles podrían considerarse ruidosas."
   ]
  },
  {
   "cell_type": "markdown",
   "metadata": {},
   "source": [
    "Vamos a ver con 3 variables si podemos prescindir de alguna más a través de un gráfico en 3D:"
   ]
  },
  {
   "cell_type": "code",
   "execution_count": 12,
   "metadata": {},
   "outputs": [
    {
     "data": {
      "application/vnd.plotly.v1+json": {
       "config": {
        "plotlyServerURL": "https://plot.ly"
       },
       "data": [
        {
         "marker": {
          "color": [
           1.6231463419280454,
           1.233529482505725,
           0.8601466588926681,
           1.1393720748119975,
           0.16532992625619683,
           0.7010531079618875,
           1.2789847827716625,
           0.1945511907128709,
           0.8666402732163734,
           0.467282992308495,
           0.9770317167193643,
           0.7497552153896772,
           1.2367762896675778,
           1.3471677331705687,
           1.4380783337024434,
           0.6685850363433608,
           0.9737849095575116,
           1.1588529177831135,
           1.155606110621261,
           0.7075467222855928,
           0.8731338875400788,
           1.3309336973613053,
           0.7302743724185612,
           0.8861211161874895,
           0.7659892511989406,
           0.12312143315211209,
           -0.032725310616816015,
           0.8049509371411726,
           0.9023551519967528,
           1.1978146037253457,
           0.7530020225515298,
           0.9445636451008376,
           1.3276868901994525,
           0.243253298140661,
           1.184827375077935,
           1.028980631309007,
           1.253010325476841,
           1.1263848461645871,
           0.9672912952338063,
           1.4543123695117068,
           1.0614487029275337,
           -0.019738081969405324,
           0.20753841936028158,
           0.6685850363433608,
           0.9867721382049223,
           1.3958698405983587,
           1.0646955100893865,
           1.2887252042572206,
           0.6815722649907714,
           0.15558950477063882,
           1.5224953199106128,
           1.0354742456327124,
           -0.48403150611433715,
           0.6913126864763295,
           0.4867638352796111,
           0.7984573228174673,
           1.6913292923269518,
           0.9737849095575116,
           0.17182354057990218,
           1.165346532106819,
           0.39585323474773626,
           0.5224787140599905,
           1.2205422538583144,
           1.1913209894016403,
           0.04519806126764795,
           1.0939167745460605,
           1.3958698405983587,
           0.05818528991505864,
           1.110150810355324,
           1.0452146671182705,
           0.5289723283836958,
           0.7562488297133826,
           0.41858088488070494,
           0.8276785872741413,
           0.5939084716207492,
           0.34390432015809347,
           0.9965125596904804,
           1.2659975541242519,
           1.1783337607542297,
           0.9348232236152796,
           0.3893596204240309,
           0.840665815921552,
           -0.6009165639410332,
           0.4218276920425576,
           1.363401768979832,
           0.23675968381695564,
           0.23351287665510295,
           -0.30221030505058766,
           0.8114445514648779,
           -0.3216911480217037,
           -0.396367712744315,
           -0.9450781230974163,
           -0.14636356128165956,
           0.23675968381695564,
           -0.9061164371551842,
           -0.2600018119465029,
           0.5614404000022225,
           -0.987286616201501,
           0.39260642758588354,
           0.2302660694932503,
           -0.7470228862244035,
           0.006236375325416057,
           0.5906616644588966,
           0.25948733394992435,
           -0.09766145385386947,
           -0.5814357209699174,
           -1.0132610734963223,
           -0.7242952360914348,
           0.47052979947034773,
           0.7497552153896772,
           -0.23727416181353422,
           0.07766613288617467,
           -0.7665037291955195,
           -0.3801336769350518,
           -0.8606611368892468,
           0.6653382291815081,
           0.19779799787472357,
           -0.6431250570451179,
           0.11987462599025941,
           0.8926147305111948,
           0.6783254578289187,
           0.3861128132621782,
           -1.1496269742941345,
           -0.24376777613723954,
           -0.5002655419236005,
           -0.22428693316612353,
           -1.3200843502913997,
           -0.967805773230385,
           0.5159850997362851,
           0.22701926233139763,
           -0.5035123490854532,
           -0.8411802939181308,
           0.19779799787472357,
           -0.5262399992184219,
           -0.3379251838309671,
           0.5906616644588966,
           -0.8346866795944254,
           -0.5619548779988013,
           0.00948318248726873,
           -0.14636356128165956,
           -0.00025723899828928833,
           -0.7827377650047828,
           -1.0262483021437332,
           -0.6171505997502965,
           0.09714697585729071,
           -0.298963497888735,
           -0.958065351744827,
           -1.1561205886178398,
           -0.9418313159355637,
           -0.7145548146058768,
           -0.4872783132761898,
           -0.03921892494052136,
           -0.37364006261134647,
           0.09714697585729071,
           -0.07168699655904809,
           0.09714697585729071,
           0.5646872071640752,
           0.4607893779847897,
           0.21078522652213424,
           -0.997027037687059,
           -0.019738081969405324,
           0.2400064909788083,
           -0.3574060268020831,
           -0.3054571122124403,
           1.4802868268065281,
           1.3601549618179793,
           1.077682738736797,
           1.048461474280123,
           1.2724911684479572,
           1.483533633968381,
           0.2172788408458396,
           0.9575508737482482,
           1.5354825485580232,
           0.5354659427074011,
           1.4121038764076221,
           1.028980631309007,
           0.8991083448349001,
           1.382882611950948,
           1.4445719480261487,
           0.46403618514664235,
           0.8926147305111948,
           0.5679340143259279,
           1.1523593034594082,
           -0.06519338223534274,
           1.0517082814419758,
           1.5711974273384026,
           1.214048639534609,
           1.3471677331705687,
           1.4185974907313275,
           1.3374273116850106,
           1.0224870169853018,
           1.0744359315749445,
           1.1426188819738503,
           1.5062612841013496,
           0.6945594936381821,
           1.353661347494274,
           1.1620997249449663,
           1.2854783970953678,
           1.4121038764076221,
           1.0127465954997437,
           0.9737849095575116,
           1.42184429789318,
           0.7562488297133826,
           1.5744442345002554,
           1.4608059838354122,
           0.9380700307771322,
           1.694576099488804,
           1.56795062017655,
           1.3309336973613053,
           0.7952105156556146,
           1.1198912318408818,
           1.4737932124828228,
           1.343920926008716,
           1.5647038130146973,
           -1.2759277728902034,
           -0.7210484289295821,
           -1.1463801671322817,
           -0.8216994509470148,
           -1.3434613618567388,
           -1.194108232411516,
           -0.8152058366233094,
           -0.8963760156696262,
           -1.3002788266040983,
           -1.2405375748260092,
           -1.387617939257935,
           -0.8996228228314789,
           -1.1820950459126611,
           -1.1561205886178398,
           -1.2684601164179423,
           -1.1236525169993132,
           -1.1236525169993132,
           -1.3135907359676944,
           -1.218134605409226,
           -1.3343703018035515,
           -1.2697588392826833,
           -1.1756014315889558,
           -1.408072824377607,
           -0.8314398724325728,
           -1.0684567952478177,
           -0.8963760156696262,
           -1.1921601481144044,
           -1.074950409571523,
           -1.165861010103398,
           -1.2019005695999625,
           -1.331448175357884,
           -0.8801419798603629,
           -1.0132610734963223,
           -1.0944312525426392,
           -1.2976813808746162,
           -1.30222691090121,
           -1.2320958762051923,
           -0.7827377650047828,
           -1.2239788583005606,
           -1.4048260172157543,
           -1.3609941205307432,
           -1.0879376382189336,
           -1.2788498993358708,
           -1.3882673006903057,
           -0.9548185445829743,
           -1.1756014315889558,
           -0.909363244317037,
           -1.0814440238952283,
           -1.1431333599704292,
           -1.1879392988039958,
           -1.3782021984885624,
           -0.8314398724325728,
           -1.270732881431239,
           -1.3866438971093795,
           -1.2155371596797437,
           -1.1398865528085764,
           -1.1723546244271033,
           -1.4298264323620198,
           -1.2723562850121655,
           -0.8054654151377515,
           -0.8087122222996042,
           -1.1882639795201813,
           -1.0976780597044917,
           -0.8022186079758988,
           -1.3697604998677455,
           -1.074950409571523,
           -0.9385845087737109,
           -1.2830707486462791,
           -1.1236525169993132,
           -1.3139154166838796,
           -1.287940959389058,
           -1.275603092174018,
           -1.1204057098374605,
           -1.1902120638172928,
           -1.1561205886178398,
           -0.5164995777328639,
           -1.3363183861006631,
           -1.0911844453807864,
           -1.3944362342978256,
           -1.252550761324864,
           -1.4790480289357064,
           -1.1074184811900498,
           -1.3184609467104733,
           -0.48403150611433715,
           -1.3080711637925448,
           -1.2739796885930919,
           -1.1366397456467239,
           -1.1820950459126611,
           -1.1593673957796926,
           -1.3613188012469286,
           -1.3343703018035515,
           -1.388591981406491,
           -1.3116426516705828,
           -1.0976780597044917,
           -0.9223504729644476,
           -1.0457291451148492,
           -1.3317728560740691
          ],
          "colorscale": [
           [
            0,
            "#440154"
           ],
           [
            0.1111111111111111,
            "#482878"
           ],
           [
            0.2222222222222222,
            "#3e4989"
           ],
           [
            0.3333333333333333,
            "#31688e"
           ],
           [
            0.4444444444444444,
            "#26828e"
           ],
           [
            0.5555555555555556,
            "#1f9e89"
           ],
           [
            0.6666666666666666,
            "#35b779"
           ],
           [
            0.7777777777777778,
            "#6ece58"
           ],
           [
            0.8888888888888888,
            "#b5de2b"
           ],
           [
            1,
            "#fde725"
           ]
          ],
          "size": 5
         },
         "mode": "markers",
         "type": "scatter3d",
         "x": [
          2.110026320159438,
          2.0338547373887375,
          2.0338547373887375,
          1.8815115718473365,
          1.7291684063059354,
          0.8912809958282295,
          1.6529968235352348,
          1.5768252407645342,
          1.5768252407645342,
          1.5006536579938339,
          1.5006536579938339,
          1.4244820752231333,
          1.4244820752231333,
          1.3483104924524327,
          1.3483104924524327,
          1.3483104924524327,
          1.3483104924524327,
          1.2721389096817322,
          1.2721389096817322,
          1.2721389096817322,
          1.2721389096817322,
          1.2721389096817322,
          1.2721389096817322,
          1.2721389096817322,
          1.2721389096817322,
          1.1959673269110316,
          1.2721389096817322,
          1.1959673269110316,
          1.1959673269110316,
          1.1959673269110316,
          1.1959673269110316,
          1.1959673269110316,
          1.1959673269110316,
          1.1197957441403312,
          1.1197957441403312,
          1.1197957441403312,
          1.1197957441403312,
          1.1197957441403312,
          1.1197957441403312,
          1.1197957441403312,
          1.1197957441403312,
          1.0436241613696307,
          1.0436241613696307,
          1.0436241613696307,
          1.0436241613696307,
          1.0436241613696307,
          1.0436241613696307,
          0.9674525785989301,
          0.9674525785989301,
          0.9674525785989301,
          0.9674525785989301,
          0.8912809958282295,
          0.8912809958282295,
          0.8912809958282295,
          0.8912809958282295,
          0.8912809958282295,
          0.8912809958282295,
          0.8912809958282295,
          0.8912809958282295,
          0.8912809958282295,
          0.815109413057529,
          0.815109413057529,
          0.815109413057529,
          0.815109413057529,
          0.7389378302868285,
          0.7389378302868285,
          0.7389378302868285,
          0.7389378302868285,
          0.7389378302868285,
          0.662766247516128,
          0.662766247516128,
          0.662766247516128,
          0.662766247516128,
          0.662766247516128,
          0.662766247516128,
          0.662766247516128,
          0.662766247516128,
          0.662766247516128,
          0.662766247516128,
          0.662766247516128,
          0.5865946647454274,
          0.5865946647454274,
          1.805339989076636,
          0.7389378302868285,
          1.4244820752231333,
          0.20573675089192478,
          2.0338547373887375,
          1.5768252407645342,
          1.5006536579938339,
          1.4244820752231333,
          1.2721389096817322,
          1.1959673269110316,
          1.5006536579938339,
          1.1959673269110316,
          1.1959673269110316,
          1.1197957441403312,
          1.1197957441403312,
          1.1197957441403312,
          1.1197957441403312,
          1.0436241613696307,
          1.1197957441403312,
          1.0436241613696307,
          0.8912809958282295,
          0.8912809958282295,
          0.8912809958282295,
          0.815109413057529,
          0.815109413057529,
          0.815109413057529,
          0.815109413057529,
          0.7389378302868285,
          0.7389378302868285,
          0.7389378302868285,
          0.662766247516128,
          0.662766247516128,
          0.662766247516128,
          0.5865946647454274,
          0.5104230819747269,
          0.5104230819747269,
          0.5104230819747269,
          0.43425149920402634,
          0.43425149920402634,
          0.43425149920402634,
          0.43425149920402634,
          0.43425149920402634,
          0.43425149920402634,
          0.3580799164333258,
          0.2819083336626253,
          0.2819083336626253,
          0.2819083336626253,
          0.2819083336626253,
          0.20573675089192478,
          0.12956516812122423,
          0.12956516812122423,
          0.12956516812122423,
          0.053393585350523715,
          0.053393585350523715,
          -0.022777997420176815,
          -0.022777997420176815,
          -0.022777997420176815,
          -0.022777997420176815,
          -0.022777997420176815,
          -0.022777997420176815,
          -0.09894958019087734,
          0.12956516812122423,
          -0.17512116296157787,
          -0.2512927457322784,
          -0.2512927457322784,
          -0.2512927457322784,
          -0.2512927457322784,
          -0.3274643285029789,
          -0.4036359112736795,
          -0.47980749404438,
          -0.7083222423564816,
          -0.7083222423564816,
          -0.7083222423564816,
          -0.7844938251271821,
          -0.7844938251271821,
          -0.7844938251271821,
          -0.7844938251271821,
          -0.7844938251271821,
          -0.8606654078978826,
          -0.8606654078978826,
          -0.9368369906685832,
          -1.0891801562099843,
          1.0436241613696307,
          -1.470038070063487,
          -0.17512116296157787,
          -0.6321506595857811,
          1.2721389096817322,
          0.815109413057529,
          1.805339989076636,
          -1.2415233217513852,
          1.4244820752231333,
          0.12956516812122423,
          0.2819083336626253,
          0.662766247516128,
          -0.5559790768150805,
          -1.1653517389806847,
          0.12956516812122423,
          1.3483104924524327,
          0.3580799164333258,
          -1.3938664872927864,
          -1.2415233217513852,
          -0.47980749404438,
          -0.6321506595857811,
          -1.0891801562099843,
          -1.5462096528341873,
          -1.0891801562099843,
          -1.0891801562099843,
          -0.9368369906685832,
          -1.470038070063487,
          -1.622381235604888,
          -1.3176949045220858,
          -0.2512927457322784,
          -1.1653517389806847,
          -1.622381235604888,
          -1.6985528183755885,
          -1.0891801562099843,
          -1.470038070063487,
          -1.3176949045220858,
          -1.0891801562099843,
          -1.622381235604888,
          -2.0032391494583908,
          -1.470038070063487,
          -1.3938664872927864,
          -2.0032391494583908,
          -1.470038070063487,
          -1.8508959839169896,
          -1.622381235604888,
          -1.0891801562099843,
          -0.4036359112736795,
          -0.7083222423564816,
          -1.3938664872927864,
          -1.1653517389806847,
          -0.09894958019087734,
          -0.17512116296157787,
          -0.2512927457322784,
          -0.2512927457322784,
          -0.2512927457322784,
          -0.3274643285029789,
          -0.2512927457322784,
          -0.3274643285029789,
          -0.3274643285029789,
          -0.47980749404438,
          -0.7083222423564816,
          -0.5559790768150805,
          -0.47980749404438,
          -0.4036359112736795,
          -0.47980749404438,
          -0.47980749404438,
          -0.47980749404438,
          -0.47980749404438,
          -0.5559790768150805,
          -1.0130085734392837,
          -0.5559790768150805,
          -0.5559790768150805,
          -0.5559790768150805,
          -0.6321506595857811,
          -0.5559790768150805,
          -0.6321506595857811,
          -0.6321506595857811,
          -0.6321506595857811,
          -0.6321506595857811,
          -0.6321506595857811,
          -0.6321506595857811,
          -0.7083222423564816,
          -0.7083222423564816,
          -0.7083222423564816,
          -0.7083222423564816,
          -0.7083222423564816,
          -0.7844938251271821,
          -0.7844938251271821,
          -0.7844938251271821,
          -0.7844938251271821,
          -0.7844938251271821,
          -0.7844938251271821,
          -0.7844938251271821,
          -0.8606654078978826,
          -0.7844938251271821,
          -0.8606654078978826,
          -0.8606654078978826,
          -0.8606654078978826,
          -0.8606654078978826,
          -0.8606654078978826,
          -0.9368369906685832,
          -0.9368369906685832,
          -0.9368369906685832,
          -0.9368369906685832,
          -0.9368369906685832,
          -0.9368369906685832,
          -0.9368369906685832,
          -0.9368369906685832,
          -1.0130085734392837,
          -1.0130085734392837,
          -1.0130085734392837,
          -1.0130085734392837,
          -1.0130085734392837,
          -1.0130085734392837,
          -1.0130085734392837,
          -1.0130085734392837,
          -1.0130085734392837,
          -1.0130085734392837,
          -1.0891801562099843,
          -1.0891801562099843,
          -1.0891801562099843,
          -1.0130085734392837,
          -1.0891801562099843,
          -1.0891801562099843,
          -1.0891801562099843,
          -1.0891801562099843,
          -1.0891801562099843,
          -1.0891801562099843,
          -1.1653517389806847,
          -1.1653517389806847,
          -1.0891801562099843,
          -1.1653517389806847,
          -1.1653517389806847,
          -1.1653517389806847,
          -1.1653517389806847,
          -1.1653517389806847,
          -1.1653517389806847,
          -1.1653517389806847,
          -1.1653517389806847,
          -1.1653517389806847,
          -1.1653517389806847,
          -1.1653517389806847,
          -1.1653517389806847,
          -1.2415233217513852,
          -1.2415233217513852,
          -1.2415233217513852,
          -1.2415233217513852
         ],
         "y": [
          -0.0035195399606384797,
          0.8100173658061257,
          -0.3511216724246199,
          -0.09966481064216526,
          2.903025950642437,
          1.357305829685585,
          1.6753248019398659,
          2.045114304561122,
          2.48886170770663,
          2.1782385255047743,
          1.4830342605768123,
          0.8543921061206765,
          1.298139509266184,
          1.031891067378879,
          0.011272040144210974,
          1.5495963710486387,
          1.3647016197380102,
          0.6325184045479224,
          0.7434552553342995,
          1.0023079071691785,
          2.0746974647708223,
          1.0023079071691785,
          0.5585605040236711,
          0.9135584265400777,
          0.1961667914548394,
          0.23314574171696506,
          1.1502237082176812,
          0.2923120621363662,
          2.030322724456272,
          -0.7430985452031518,
          1.4386595202622616,
          0.06304257051118693,
          1.2759521391089086,
          1.4608468904195369,
          0.3588741726081924,
          1.4904300506292374,
          2.4518827574445043,
          1.2833479291613337,
          1.2389731888467828,
          1.4534511003671118,
          1.571783741205914,
          1.4608468904195369,
          1.0170994872740287,
          1.1502237082176812,
          1.1798068684273817,
          1.0097036972216036,
          1.7196995422544168,
          0.3736657527130427,
          1.7492827024641173,
          0.8839752663303772,
          0.38845733281789296,
          0.24793732182181535,
          0.7582468354391498,
          0.972724746959478,
          0.7212678851770241,
          1.682720591992291,
          0.8396005260158262,
          0.6325184045479224,
          1.8750111333553439,
          0.04825099040633666,
          1.94157324382717,
          1.2537647689516331,
          1.3794931998428603,
          0.7952257857012754,
          1.5348047909437883,
          0.7878299956488504,
          -0.6025785342070745,
          2.3557374867629775,
          0.7434552553342995,
          0.6842889349148984,
          1.8676153433029186,
          2.148655365295074,
          -0.632161694416775,
          0.8913710563828022,
          0.5807478741809465,
          0.10002152077331261,
          1.194598448532232,
          0.8174131558585509,
          -0.4028922027915959,
          2.222613265819325,
          0.6029352443382219,
          -0.7209111750458763,
          0.3736657527130427,
          -1.371740699659288,
          0.03345941030148638,
          -0.20320587137611718,
          -0.8614311860419539,
          0.8839752663303772,
          -1.8228838928572209,
          0.3144994322936416,
          -0.5434122137876735,
          0.8839752663303772,
          -1.0611175174574325,
          -0.040498490222764166,
          1.083661597745855,
          -0.2919553520052188,
          -0.5951827441546494,
          -1.090700677667133,
          -0.06268586038003958,
          -0.0478942802751893,
          -1.7193428321232689,
          -0.3363300923197696,
          0.03345941030148638,
          -0.6099743242594997,
          0.9357457966973523,
          -1.209033318505935,
          -0.9058059263565047,
          0.20356258150726453,
          -0.4694543132634221,
          0.5067899736566951,
          -0.20320587137611718,
          -0.21799745148096744,
          0.18877100140241426,
          -1.5714270310747667,
          0.23314574171696506,
          -0.24018482163824287,
          0.10741731082573774,
          -0.5951827441546494,
          -0.06268586038003958,
          0.23314574171696506,
          -0.18101850121884175,
          0.1591878411927137,
          -1.157262788138959,
          -0.13664376090429095,
          -0.11445639074701552,
          -0.6691406446789008,
          -1.6084059813368923,
          -1.7193428321232689,
          0.28491627208394105,
          -0.040498490222764166,
          0.4402278631848689,
          -0.3289343022673445,
          0.38845733281789296,
          -1.21642910855836,
          -0.02570691011791389,
          0.5437689239188208,
          -0.8022648656225528,
          -0.7874732855177026,
          -1.1202838378768336,
          -0.698723804888601,
          0.16658363124513884,
          -1.0019511970380315,
          0.1961667914548394,
          -2.155694445216352,
          -0.6913280148361758,
          -1.2755954289777611,
          -0.49903747347312266,
          -0.07008165043246471,
          -1.2977827991350366,
          -0.0035195399606384797,
          -0.11445639074701552,
          -1.0537217274050075,
          -0.0478942802751893,
          0.04825099040633666,
          1.2685563490564833,
          0.003876250091786657,
          -0.410287992844021,
          -0.010915330013063617,
          0.32929101239849184,
          -0.8466396059371036,
          1.2611605590040582,
          -1.1868459483486595,
          -0.1884142912712669,
          -1.3643449096068627,
          0.7878299956488504,
          0.5067899736566951,
          0.20356258150726453,
          0.5289773438139705,
          -0.7283069650983015,
          -0.2549764017430931,
          -0.09966481064216526,
          -0.11445639074701552,
          0.4180404930275935,
          -1.0685133075098578,
          -0.1884142912712669,
          0.43283207313244376,
          -2.6586081687812606,
          1.0097036972216036,
          0.01866783019663611,
          1.3942847799477107,
          0.6473099846527728,
          0.10002152077331261,
          0.6251226144954973,
          1.246368978899208,
          0.05564678045876179,
          -0.3511216724246199,
          -1.5048649206029403,
          -0.4028922027915959,
          -0.6913280148361758,
          -1.4604901802883896,
          -0.07008165043246471,
          1.5865753213107643,
          -1.0389301473001573,
          -0.8170564457274031,
          -0.29935114205764396,
          -0.683932224783751,
          0.18877100140241426,
          0.48460260349941975,
          -0.8984101363040796,
          -0.4472669431061467,
          -0.5951827441546494,
          0.8026215757537006,
          0.2183541616121148,
          -1.1128880478244085,
          0.28491627208394105,
          -0.19581008132369204,
          -0.10706060069459039,
          0.12220889093058802,
          0.01866783019663611,
          -1.379136489711713,
          0.18137521134998913,
          -2.444130257260932,
          -2.4663176274182073,
          -0.8244522357798283,
          0.11481310087816289,
          -0.698723804888601,
          -0.8836185561992294,
          -0.3881006226867456,
          -1.5936144012320421,
          -1.3569491195544376,
          -0.24018482163824287,
          -0.9205975064613551,
          -0.358517462477045,
          0.14439626108786344,
          -0.3289343022673445,
          -0.7504943352555768,
          0.18877100140241426,
          0.38845733281789296,
          -0.4546627331585718,
          -0.4694543132634221,
          -0.29935114205764396,
          0.10002152077331261,
          -1.8154881028047958,
          0.1370004710354383,
          -1.5492396609174912,
          -0.247580611690668,
          -0.809660655674978,
          0.2775204820315159,
          0.4402278631848689,
          -0.1884142912712669,
          0.24054153176939022,
          0.6768931448624733,
          -0.14403955095671608,
          0.2183541616121148,
          0.3218952223460667,
          -1.2534080588204857,
          0.6251226144954973,
          -0.07747744048488985,
          0.7656426254915749,
          -0.632161694416775,
          -0.2697679818479434,
          -0.1292479708518658,
          1.4386595202622616,
          -1.0980964677195584,
          0.18137521134998913,
          0.24793732182181535,
          -0.0478942802751893,
          -0.7135153849934512,
          0.40324891292274323,
          -1.149866998086534,
          -0.5360164237352483,
          -0.11445639074701552,
          -1.7785091525426702,
          -1.8080923127523707,
          0.11481310087816289,
          -0.39549641273917074,
          -0.683932224783751,
          -0.5138290535779729,
          -0.08487323053731498,
          -0.7283069650983015,
          -0.632161694416775,
          -1.2829912190301862,
          -0.26237219179551824,
          -0.5064332635255477,
          0.3144994322936416,
          -1.9560081138008734,
          -1.9190291635387478,
          -0.46205852321099694,
          -0.5877869541022243,
          -0.48424589336827234,
          -0.018311120065488753,
          -0.7948690755701276,
          -0.7948690755701276,
          -1.9634039038532984,
          -1.3569491195544376,
          -0.8392438158846786,
          0.7656426254915749,
          -1.2386164787156355,
          -0.07008165043246471,
          0.5363731338663957,
          0.5215815537615454,
          -1.534448080812641,
          1.0170994872740287,
          0.28491627208394105,
          -2.266631296002729,
          0.336686802450917,
          -1.0389301473001573,
          -0.572995373997374,
          0.3662699626606175,
          -2.35538077663183,
          0.26272890192666565,
          -1.0019511970380315,
          -0.3363300923197696,
          -0.20320587137611718,
          -1.8524670530669214,
          0.16658363124513884,
          -0.7430985452031518,
          0.26272890192666565,
          -1.2755954289777611,
          -0.5508080038400986,
          -1.5788228211271917
         ],
         "z": [
          1.6231463419280454,
          1.233529482505725,
          0.8601466588926681,
          1.1393720748119975,
          0.16532992625619683,
          0.7010531079618875,
          1.2789847827716625,
          0.1945511907128709,
          0.8666402732163734,
          0.467282992308495,
          0.9770317167193643,
          0.7497552153896772,
          1.2367762896675778,
          1.3471677331705687,
          1.4380783337024434,
          0.6685850363433608,
          0.9737849095575116,
          1.1588529177831135,
          1.155606110621261,
          0.7075467222855928,
          0.8731338875400788,
          1.3309336973613053,
          0.7302743724185612,
          0.8861211161874895,
          0.7659892511989406,
          0.12312143315211209,
          -0.032725310616816015,
          0.8049509371411726,
          0.9023551519967528,
          1.1978146037253457,
          0.7530020225515298,
          0.9445636451008376,
          1.3276868901994525,
          0.243253298140661,
          1.184827375077935,
          1.028980631309007,
          1.253010325476841,
          1.1263848461645871,
          0.9672912952338063,
          1.4543123695117068,
          1.0614487029275337,
          -0.019738081969405324,
          0.20753841936028158,
          0.6685850363433608,
          0.9867721382049223,
          1.3958698405983587,
          1.0646955100893865,
          1.2887252042572206,
          0.6815722649907714,
          0.15558950477063882,
          1.5224953199106128,
          1.0354742456327124,
          -0.48403150611433715,
          0.6913126864763295,
          0.4867638352796111,
          0.7984573228174673,
          1.6913292923269518,
          0.9737849095575116,
          0.17182354057990218,
          1.165346532106819,
          0.39585323474773626,
          0.5224787140599905,
          1.2205422538583144,
          1.1913209894016403,
          0.04519806126764795,
          1.0939167745460605,
          1.3958698405983587,
          0.05818528991505864,
          1.110150810355324,
          1.0452146671182705,
          0.5289723283836958,
          0.7562488297133826,
          0.41858088488070494,
          0.8276785872741413,
          0.5939084716207492,
          0.34390432015809347,
          0.9965125596904804,
          1.2659975541242519,
          1.1783337607542297,
          0.9348232236152796,
          0.3893596204240309,
          0.840665815921552,
          -0.6009165639410332,
          0.4218276920425576,
          1.363401768979832,
          0.23675968381695564,
          0.23351287665510295,
          -0.30221030505058766,
          0.8114445514648779,
          -0.3216911480217037,
          -0.396367712744315,
          -0.9450781230974163,
          -0.14636356128165956,
          0.23675968381695564,
          -0.9061164371551842,
          -0.2600018119465029,
          0.5614404000022225,
          -0.987286616201501,
          0.39260642758588354,
          0.2302660694932503,
          -0.7470228862244035,
          0.006236375325416057,
          0.5906616644588966,
          0.25948733394992435,
          -0.09766145385386947,
          -0.5814357209699174,
          -1.0132610734963223,
          -0.7242952360914348,
          0.47052979947034773,
          0.7497552153896772,
          -0.23727416181353422,
          0.07766613288617467,
          -0.7665037291955195,
          -0.3801336769350518,
          -0.8606611368892468,
          0.6653382291815081,
          0.19779799787472357,
          -0.6431250570451179,
          0.11987462599025941,
          0.8926147305111948,
          0.6783254578289187,
          0.3861128132621782,
          -1.1496269742941345,
          -0.24376777613723954,
          -0.5002655419236005,
          -0.22428693316612353,
          -1.3200843502913997,
          -0.967805773230385,
          0.5159850997362851,
          0.22701926233139763,
          -0.5035123490854532,
          -0.8411802939181308,
          0.19779799787472357,
          -0.5262399992184219,
          -0.3379251838309671,
          0.5906616644588966,
          -0.8346866795944254,
          -0.5619548779988013,
          0.00948318248726873,
          -0.14636356128165956,
          -0.00025723899828928833,
          -0.7827377650047828,
          -1.0262483021437332,
          -0.6171505997502965,
          0.09714697585729071,
          -0.298963497888735,
          -0.958065351744827,
          -1.1561205886178398,
          -0.9418313159355637,
          -0.7145548146058768,
          -0.4872783132761898,
          -0.03921892494052136,
          -0.37364006261134647,
          0.09714697585729071,
          -0.07168699655904809,
          0.09714697585729071,
          0.5646872071640752,
          0.4607893779847897,
          0.21078522652213424,
          -0.997027037687059,
          -0.019738081969405324,
          0.2400064909788083,
          -0.3574060268020831,
          -0.3054571122124403,
          1.4802868268065281,
          1.3601549618179793,
          1.077682738736797,
          1.048461474280123,
          1.2724911684479572,
          1.483533633968381,
          0.2172788408458396,
          0.9575508737482482,
          1.5354825485580232,
          0.5354659427074011,
          1.4121038764076221,
          1.028980631309007,
          0.8991083448349001,
          1.382882611950948,
          1.4445719480261487,
          0.46403618514664235,
          0.8926147305111948,
          0.5679340143259279,
          1.1523593034594082,
          -0.06519338223534274,
          1.0517082814419758,
          1.5711974273384026,
          1.214048639534609,
          1.3471677331705687,
          1.4185974907313275,
          1.3374273116850106,
          1.0224870169853018,
          1.0744359315749445,
          1.1426188819738503,
          1.5062612841013496,
          0.6945594936381821,
          1.353661347494274,
          1.1620997249449663,
          1.2854783970953678,
          1.4121038764076221,
          1.0127465954997437,
          0.9737849095575116,
          1.42184429789318,
          0.7562488297133826,
          1.5744442345002554,
          1.4608059838354122,
          0.9380700307771322,
          1.694576099488804,
          1.56795062017655,
          1.3309336973613053,
          0.7952105156556146,
          1.1198912318408818,
          1.4737932124828228,
          1.343920926008716,
          1.5647038130146973,
          -1.2759277728902034,
          -0.7210484289295821,
          -1.1463801671322817,
          -0.8216994509470148,
          -1.3434613618567388,
          -1.194108232411516,
          -0.8152058366233094,
          -0.8963760156696262,
          -1.3002788266040983,
          -1.2405375748260092,
          -1.387617939257935,
          -0.8996228228314789,
          -1.1820950459126611,
          -1.1561205886178398,
          -1.2684601164179423,
          -1.1236525169993132,
          -1.1236525169993132,
          -1.3135907359676944,
          -1.218134605409226,
          -1.3343703018035515,
          -1.2697588392826833,
          -1.1756014315889558,
          -1.408072824377607,
          -0.8314398724325728,
          -1.0684567952478177,
          -0.8963760156696262,
          -1.1921601481144044,
          -1.074950409571523,
          -1.165861010103398,
          -1.2019005695999625,
          -1.331448175357884,
          -0.8801419798603629,
          -1.0132610734963223,
          -1.0944312525426392,
          -1.2976813808746162,
          -1.30222691090121,
          -1.2320958762051923,
          -0.7827377650047828,
          -1.2239788583005606,
          -1.4048260172157543,
          -1.3609941205307432,
          -1.0879376382189336,
          -1.2788498993358708,
          -1.3882673006903057,
          -0.9548185445829743,
          -1.1756014315889558,
          -0.909363244317037,
          -1.0814440238952283,
          -1.1431333599704292,
          -1.1879392988039958,
          -1.3782021984885624,
          -0.8314398724325728,
          -1.270732881431239,
          -1.3866438971093795,
          -1.2155371596797437,
          -1.1398865528085764,
          -1.1723546244271033,
          -1.4298264323620198,
          -1.2723562850121655,
          -0.8054654151377515,
          -0.8087122222996042,
          -1.1882639795201813,
          -1.0976780597044917,
          -0.8022186079758988,
          -1.3697604998677455,
          -1.074950409571523,
          -0.9385845087737109,
          -1.2830707486462791,
          -1.1236525169993132,
          -1.3139154166838796,
          -1.287940959389058,
          -1.275603092174018,
          -1.1204057098374605,
          -1.1902120638172928,
          -1.1561205886178398,
          -0.5164995777328639,
          -1.3363183861006631,
          -1.0911844453807864,
          -1.3944362342978256,
          -1.252550761324864,
          -1.4790480289357064,
          -1.1074184811900498,
          -1.3184609467104733,
          -0.48403150611433715,
          -1.3080711637925448,
          -1.2739796885930919,
          -1.1366397456467239,
          -1.1820950459126611,
          -1.1593673957796926,
          -1.3613188012469286,
          -1.3343703018035515,
          -1.388591981406491,
          -1.3116426516705828,
          -1.0976780597044917,
          -0.9223504729644476,
          -1.0457291451148492,
          -1.3317728560740691
         ]
        }
       ],
       "layout": {
        "scene": {
         "xaxis": {
          "ticks": "outside",
          "title": {
           "text": "PC1"
          }
         },
         "yaxis": {
          "ticks": "outside",
          "title": {
           "text": "PC2"
          }
         },
         "zaxis": {
          "ticks": "outside",
          "title": {
           "text": "PC3"
          }
         }
        },
        "template": {
         "data": {
          "bar": [
           {
            "error_x": {
             "color": "#2a3f5f"
            },
            "error_y": {
             "color": "#2a3f5f"
            },
            "marker": {
             "line": {
              "color": "#E5ECF6",
              "width": 0.5
             },
             "pattern": {
              "fillmode": "overlay",
              "size": 10,
              "solidity": 0.2
             }
            },
            "type": "bar"
           }
          ],
          "barpolar": [
           {
            "marker": {
             "line": {
              "color": "#E5ECF6",
              "width": 0.5
             },
             "pattern": {
              "fillmode": "overlay",
              "size": 10,
              "solidity": 0.2
             }
            },
            "type": "barpolar"
           }
          ],
          "carpet": [
           {
            "aaxis": {
             "endlinecolor": "#2a3f5f",
             "gridcolor": "white",
             "linecolor": "white",
             "minorgridcolor": "white",
             "startlinecolor": "#2a3f5f"
            },
            "baxis": {
             "endlinecolor": "#2a3f5f",
             "gridcolor": "white",
             "linecolor": "white",
             "minorgridcolor": "white",
             "startlinecolor": "#2a3f5f"
            },
            "type": "carpet"
           }
          ],
          "choropleth": [
           {
            "colorbar": {
             "outlinewidth": 0,
             "ticks": ""
            },
            "type": "choropleth"
           }
          ],
          "contour": [
           {
            "colorbar": {
             "outlinewidth": 0,
             "ticks": ""
            },
            "colorscale": [
             [
              0,
              "#0d0887"
             ],
             [
              0.1111111111111111,
              "#46039f"
             ],
             [
              0.2222222222222222,
              "#7201a8"
             ],
             [
              0.3333333333333333,
              "#9c179e"
             ],
             [
              0.4444444444444444,
              "#bd3786"
             ],
             [
              0.5555555555555556,
              "#d8576b"
             ],
             [
              0.6666666666666666,
              "#ed7953"
             ],
             [
              0.7777777777777778,
              "#fb9f3a"
             ],
             [
              0.8888888888888888,
              "#fdca26"
             ],
             [
              1,
              "#f0f921"
             ]
            ],
            "type": "contour"
           }
          ],
          "contourcarpet": [
           {
            "colorbar": {
             "outlinewidth": 0,
             "ticks": ""
            },
            "type": "contourcarpet"
           }
          ],
          "heatmap": [
           {
            "colorbar": {
             "outlinewidth": 0,
             "ticks": ""
            },
            "colorscale": [
             [
              0,
              "#0d0887"
             ],
             [
              0.1111111111111111,
              "#46039f"
             ],
             [
              0.2222222222222222,
              "#7201a8"
             ],
             [
              0.3333333333333333,
              "#9c179e"
             ],
             [
              0.4444444444444444,
              "#bd3786"
             ],
             [
              0.5555555555555556,
              "#d8576b"
             ],
             [
              0.6666666666666666,
              "#ed7953"
             ],
             [
              0.7777777777777778,
              "#fb9f3a"
             ],
             [
              0.8888888888888888,
              "#fdca26"
             ],
             [
              1,
              "#f0f921"
             ]
            ],
            "type": "heatmap"
           }
          ],
          "heatmapgl": [
           {
            "colorbar": {
             "outlinewidth": 0,
             "ticks": ""
            },
            "colorscale": [
             [
              0,
              "#0d0887"
             ],
             [
              0.1111111111111111,
              "#46039f"
             ],
             [
              0.2222222222222222,
              "#7201a8"
             ],
             [
              0.3333333333333333,
              "#9c179e"
             ],
             [
              0.4444444444444444,
              "#bd3786"
             ],
             [
              0.5555555555555556,
              "#d8576b"
             ],
             [
              0.6666666666666666,
              "#ed7953"
             ],
             [
              0.7777777777777778,
              "#fb9f3a"
             ],
             [
              0.8888888888888888,
              "#fdca26"
             ],
             [
              1,
              "#f0f921"
             ]
            ],
            "type": "heatmapgl"
           }
          ],
          "histogram": [
           {
            "marker": {
             "pattern": {
              "fillmode": "overlay",
              "size": 10,
              "solidity": 0.2
             }
            },
            "type": "histogram"
           }
          ],
          "histogram2d": [
           {
            "colorbar": {
             "outlinewidth": 0,
             "ticks": ""
            },
            "colorscale": [
             [
              0,
              "#0d0887"
             ],
             [
              0.1111111111111111,
              "#46039f"
             ],
             [
              0.2222222222222222,
              "#7201a8"
             ],
             [
              0.3333333333333333,
              "#9c179e"
             ],
             [
              0.4444444444444444,
              "#bd3786"
             ],
             [
              0.5555555555555556,
              "#d8576b"
             ],
             [
              0.6666666666666666,
              "#ed7953"
             ],
             [
              0.7777777777777778,
              "#fb9f3a"
             ],
             [
              0.8888888888888888,
              "#fdca26"
             ],
             [
              1,
              "#f0f921"
             ]
            ],
            "type": "histogram2d"
           }
          ],
          "histogram2dcontour": [
           {
            "colorbar": {
             "outlinewidth": 0,
             "ticks": ""
            },
            "colorscale": [
             [
              0,
              "#0d0887"
             ],
             [
              0.1111111111111111,
              "#46039f"
             ],
             [
              0.2222222222222222,
              "#7201a8"
             ],
             [
              0.3333333333333333,
              "#9c179e"
             ],
             [
              0.4444444444444444,
              "#bd3786"
             ],
             [
              0.5555555555555556,
              "#d8576b"
             ],
             [
              0.6666666666666666,
              "#ed7953"
             ],
             [
              0.7777777777777778,
              "#fb9f3a"
             ],
             [
              0.8888888888888888,
              "#fdca26"
             ],
             [
              1,
              "#f0f921"
             ]
            ],
            "type": "histogram2dcontour"
           }
          ],
          "mesh3d": [
           {
            "colorbar": {
             "outlinewidth": 0,
             "ticks": ""
            },
            "type": "mesh3d"
           }
          ],
          "parcoords": [
           {
            "line": {
             "colorbar": {
              "outlinewidth": 0,
              "ticks": ""
             }
            },
            "type": "parcoords"
           }
          ],
          "pie": [
           {
            "automargin": true,
            "type": "pie"
           }
          ],
          "scatter": [
           {
            "fillpattern": {
             "fillmode": "overlay",
             "size": 10,
             "solidity": 0.2
            },
            "type": "scatter"
           }
          ],
          "scatter3d": [
           {
            "line": {
             "colorbar": {
              "outlinewidth": 0,
              "ticks": ""
             }
            },
            "marker": {
             "colorbar": {
              "outlinewidth": 0,
              "ticks": ""
             }
            },
            "type": "scatter3d"
           }
          ],
          "scattercarpet": [
           {
            "marker": {
             "colorbar": {
              "outlinewidth": 0,
              "ticks": ""
             }
            },
            "type": "scattercarpet"
           }
          ],
          "scattergeo": [
           {
            "marker": {
             "colorbar": {
              "outlinewidth": 0,
              "ticks": ""
             }
            },
            "type": "scattergeo"
           }
          ],
          "scattergl": [
           {
            "marker": {
             "colorbar": {
              "outlinewidth": 0,
              "ticks": ""
             }
            },
            "type": "scattergl"
           }
          ],
          "scattermapbox": [
           {
            "marker": {
             "colorbar": {
              "outlinewidth": 0,
              "ticks": ""
             }
            },
            "type": "scattermapbox"
           }
          ],
          "scatterpolar": [
           {
            "marker": {
             "colorbar": {
              "outlinewidth": 0,
              "ticks": ""
             }
            },
            "type": "scatterpolar"
           }
          ],
          "scatterpolargl": [
           {
            "marker": {
             "colorbar": {
              "outlinewidth": 0,
              "ticks": ""
             }
            },
            "type": "scatterpolargl"
           }
          ],
          "scatterternary": [
           {
            "marker": {
             "colorbar": {
              "outlinewidth": 0,
              "ticks": ""
             }
            },
            "type": "scatterternary"
           }
          ],
          "surface": [
           {
            "colorbar": {
             "outlinewidth": 0,
             "ticks": ""
            },
            "colorscale": [
             [
              0,
              "#0d0887"
             ],
             [
              0.1111111111111111,
              "#46039f"
             ],
             [
              0.2222222222222222,
              "#7201a8"
             ],
             [
              0.3333333333333333,
              "#9c179e"
             ],
             [
              0.4444444444444444,
              "#bd3786"
             ],
             [
              0.5555555555555556,
              "#d8576b"
             ],
             [
              0.6666666666666666,
              "#ed7953"
             ],
             [
              0.7777777777777778,
              "#fb9f3a"
             ],
             [
              0.8888888888888888,
              "#fdca26"
             ],
             [
              1,
              "#f0f921"
             ]
            ],
            "type": "surface"
           }
          ],
          "table": [
           {
            "cells": {
             "fill": {
              "color": "#EBF0F8"
             },
             "line": {
              "color": "white"
             }
            },
            "header": {
             "fill": {
              "color": "#C8D4E3"
             },
             "line": {
              "color": "white"
             }
            },
            "type": "table"
           }
          ]
         },
         "layout": {
          "annotationdefaults": {
           "arrowcolor": "#2a3f5f",
           "arrowhead": 0,
           "arrowwidth": 1
          },
          "autotypenumbers": "strict",
          "coloraxis": {
           "colorbar": {
            "outlinewidth": 0,
            "ticks": ""
           }
          },
          "colorscale": {
           "diverging": [
            [
             0,
             "#8e0152"
            ],
            [
             0.1,
             "#c51b7d"
            ],
            [
             0.2,
             "#de77ae"
            ],
            [
             0.3,
             "#f1b6da"
            ],
            [
             0.4,
             "#fde0ef"
            ],
            [
             0.5,
             "#f7f7f7"
            ],
            [
             0.6,
             "#e6f5d0"
            ],
            [
             0.7,
             "#b8e186"
            ],
            [
             0.8,
             "#7fbc41"
            ],
            [
             0.9,
             "#4d9221"
            ],
            [
             1,
             "#276419"
            ]
           ],
           "sequential": [
            [
             0,
             "#0d0887"
            ],
            [
             0.1111111111111111,
             "#46039f"
            ],
            [
             0.2222222222222222,
             "#7201a8"
            ],
            [
             0.3333333333333333,
             "#9c179e"
            ],
            [
             0.4444444444444444,
             "#bd3786"
            ],
            [
             0.5555555555555556,
             "#d8576b"
            ],
            [
             0.6666666666666666,
             "#ed7953"
            ],
            [
             0.7777777777777778,
             "#fb9f3a"
            ],
            [
             0.8888888888888888,
             "#fdca26"
            ],
            [
             1,
             "#f0f921"
            ]
           ],
           "sequentialminus": [
            [
             0,
             "#0d0887"
            ],
            [
             0.1111111111111111,
             "#46039f"
            ],
            [
             0.2222222222222222,
             "#7201a8"
            ],
            [
             0.3333333333333333,
             "#9c179e"
            ],
            [
             0.4444444444444444,
             "#bd3786"
            ],
            [
             0.5555555555555556,
             "#d8576b"
            ],
            [
             0.6666666666666666,
             "#ed7953"
            ],
            [
             0.7777777777777778,
             "#fb9f3a"
            ],
            [
             0.8888888888888888,
             "#fdca26"
            ],
            [
             1,
             "#f0f921"
            ]
           ]
          },
          "colorway": [
           "#636efa",
           "#EF553B",
           "#00cc96",
           "#ab63fa",
           "#FFA15A",
           "#19d3f3",
           "#FF6692",
           "#B6E880",
           "#FF97FF",
           "#FECB52"
          ],
          "font": {
           "color": "#2a3f5f"
          },
          "geo": {
           "bgcolor": "white",
           "lakecolor": "white",
           "landcolor": "#E5ECF6",
           "showlakes": true,
           "showland": true,
           "subunitcolor": "white"
          },
          "hoverlabel": {
           "align": "left"
          },
          "hovermode": "closest",
          "mapbox": {
           "style": "light"
          },
          "paper_bgcolor": "white",
          "plot_bgcolor": "#E5ECF6",
          "polar": {
           "angularaxis": {
            "gridcolor": "white",
            "linecolor": "white",
            "ticks": ""
           },
           "bgcolor": "#E5ECF6",
           "radialaxis": {
            "gridcolor": "white",
            "linecolor": "white",
            "ticks": ""
           }
          },
          "scene": {
           "xaxis": {
            "backgroundcolor": "#E5ECF6",
            "gridcolor": "white",
            "gridwidth": 2,
            "linecolor": "white",
            "showbackground": true,
            "ticks": "",
            "zerolinecolor": "white"
           },
           "yaxis": {
            "backgroundcolor": "#E5ECF6",
            "gridcolor": "white",
            "gridwidth": 2,
            "linecolor": "white",
            "showbackground": true,
            "ticks": "",
            "zerolinecolor": "white"
           },
           "zaxis": {
            "backgroundcolor": "#E5ECF6",
            "gridcolor": "white",
            "gridwidth": 2,
            "linecolor": "white",
            "showbackground": true,
            "ticks": "",
            "zerolinecolor": "white"
           }
          },
          "shapedefaults": {
           "line": {
            "color": "#2a3f5f"
           }
          },
          "ternary": {
           "aaxis": {
            "gridcolor": "white",
            "linecolor": "white",
            "ticks": ""
           },
           "baxis": {
            "gridcolor": "white",
            "linecolor": "white",
            "ticks": ""
           },
           "bgcolor": "#E5ECF6",
           "caxis": {
            "gridcolor": "white",
            "linecolor": "white",
            "ticks": ""
           }
          },
          "title": {
           "x": 0.05
          },
          "xaxis": {
           "automargin": true,
           "gridcolor": "white",
           "linecolor": "white",
           "ticks": "",
           "title": {
            "standoff": 15
           },
           "zerolinecolor": "white",
           "zerolinewidth": 2
          },
          "yaxis": {
           "automargin": true,
           "gridcolor": "white",
           "linecolor": "white",
           "ticks": "",
           "title": {
            "standoff": 15
           },
           "zerolinecolor": "white",
           "zerolinewidth": 2
          }
         }
        },
        "title": {
         "text": "3D Scatter"
        }
       }
      }
     },
     "metadata": {},
     "output_type": "display_data"
    }
   ],
   "source": [
    "import plotly.graph_objects as go\n",
    "\n",
    "# Prepare 3D graph\n",
    "fig = go.Figure()\n",
    "\n",
    "# Plot scaled features\n",
    "xdata = x_scaled[:, 0]\n",
    "ydata = x_scaled[:, 1]\n",
    "zdata = x_scaled[:, 2]\n",
    "\n",
    "# Plot 3D scatter plot\n",
    "fig.add_trace(go.Scatter3d(\n",
    "    x=xdata,\n",
    "    y=ydata,\n",
    "    z=zdata,\n",
    "    mode='markers',\n",
    "    marker=dict(\n",
    "        size=5,\n",
    "        color=zdata,\n",
    "        colorscale='Viridis',\n",
    "    )\n",
    "))\n",
    "\n",
    "# Set title and axis labels\n",
    "fig.update_layout(title='3D Scatter',\n",
    "                  scene=dict(\n",
    "                      xaxis_title='PC1',\n",
    "                      yaxis_title='PC2',\n",
    "                      zaxis_title='PC3',\n",
    "                      xaxis=dict(ticks='outside'),\n",
    "                      yaxis=dict(ticks='outside'),\n",
    "                      zaxis=dict(ticks='outside')\n",
    "                  ))\n",
    "\n",
    "# Show the interactive plot\n",
    "fig.show()"
   ]
  },
  {
   "cell_type": "markdown",
   "metadata": {},
   "source": [
    "Si los puntos están dispersos uniformemente o si hay grupos de puntos muy cercanos entre sí. Si hay agrupaciones muy compactas, puede indicar que algunas características están contribuyendo a formar esos grupos y podrían ser relevantes. Por otro lado, si los puntos están dispersos en un amplio rango, algunas características pueden tener baja varianza y ser candidatas para ser consideradas ruidosas.  \n",
    "En este caso con 3 variables parece que se utilizan las 3 dimensiones entonces no sobra ninguna."
   ]
  },
  {
   "cell_type": "markdown",
   "metadata": {},
   "source": [
    "Dividir los datos en conjuntos de entrenamiento y prueba: "
   ]
  },
  {
   "cell_type": "code",
   "execution_count": 10,
   "metadata": {},
   "outputs": [],
   "source": [
    "X_train, X_test, y_train, y_test = train_test_split(X_pca, y, stratify=y, test_size=0.25, random_state=42)"
   ]
  },
  {
   "cell_type": "markdown",
   "metadata": {},
   "source": [
    "Entrenamos el modelo de clasificación y realizamos predicciones:"
   ]
  },
  {
   "cell_type": "code",
   "execution_count": 11,
   "metadata": {},
   "outputs": [],
   "source": [
    "RFC = RandomForestClassifier()\n",
    "RFC.fit(X_train, y_train)\n",
    "y_pred = RFC.predict(X_test)"
   ]
  },
  {
   "cell_type": "markdown",
   "metadata": {},
   "source": [
    "Evaluamos el modelo:"
   ]
  },
  {
   "cell_type": "code",
   "execution_count": 15,
   "metadata": {},
   "outputs": [
    {
     "name": "stdout",
     "output_type": "stream",
     "text": [
      "Accuracy: 0.9358974358974359\n",
      "Classification Report:\n",
      "               precision    recall  f1-score   support\n",
      "\n",
      "       Anger       0.92      1.00      0.96        12\n",
      "       Focus       1.00      1.00      1.00        24\n",
      "       Happy       0.90      0.90      0.90        21\n",
      "         Sad       0.90      0.86      0.88        21\n",
      "\n",
      "    accuracy                           0.94        78\n",
      "   macro avg       0.93      0.94      0.94        78\n",
      "weighted avg       0.94      0.94      0.94        78\n",
      "\n",
      "Confusion Matrix:\n",
      " [[12  0  0  0]\n",
      " [ 0 24  0  0]\n",
      " [ 0  0 19  2]\n",
      " [ 1  0  2 18]]\n"
     ]
    }
   ],
   "source": [
    "accuracy = accuracy_score(y_test, y_pred)\n",
    "report = classification_report(y_test, y_pred)\n",
    "confusion_mat = confusion_matrix(y_test, y_pred)\n",
    "\n",
    "print(\"Accuracy:\", accuracy)\n",
    "print(\"Classification Report:\\n\", report)\n",
    "print(\"Confusion Matrix:\\n\", confusion_mat)"
   ]
  },
  {
   "cell_type": "markdown",
   "metadata": {},
   "source": [
    "Exportamos el modelo a un fichero pkl:"
   ]
  },
  {
   "cell_type": "code",
   "execution_count": 17,
   "metadata": {},
   "outputs": [],
   "source": [
    "'''pickle.dump(RFC, open('model.pkl', 'wb'))'''"
   ]
  },
  {
   "cell_type": "markdown",
   "metadata": {},
   "source": [
    "Para importar el modelo hariamos:  \n",
    "pickled_model = pickle.load(open('model.pkl', 'rb')) pickled_model.predict(X_test)"
   ]
  }
 ],
 "metadata": {
  "kernelspec": {
   "display_name": "Python 3",
   "language": "python",
   "name": "python3"
  },
  "language_info": {
   "codemirror_mode": {
    "name": "ipython",
    "version": 3
   },
   "file_extension": ".py",
   "mimetype": "text/x-python",
   "name": "python",
   "nbconvert_exporter": "python",
   "pygments_lexer": "ipython3",
   "version": "3.10.10"
  },
  "orig_nbformat": 4
 },
 "nbformat": 4,
 "nbformat_minor": 2
}
